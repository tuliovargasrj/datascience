{
 "cells": [
  {
   "cell_type": "code",
   "execution_count": 1,
   "metadata": {},
   "outputs": [],
   "source": [
    "import pandas as pd\n",
    "import numpy as np\n",
    "import plotly.graph_objs as go\n",
    "from plotly.subplots import make_subplots\n",
    "from sklearn.cluster import KMeans\n",
    "from sklearn.preprocessing import LabelEncoder\n",
    "from sklearn.preprocessing import StandardScaler\n",
    "import warnings\n",
    "warnings.filterwarnings('ignore')"
   ]
  },
  {
   "cell_type": "code",
   "execution_count": 2,
   "metadata": {},
   "outputs": [
    {
     "data": {
      "text/html": [
       "<div>\n",
       "<style scoped>\n",
       "    .dataframe tbody tr th:only-of-type {\n",
       "        vertical-align: middle;\n",
       "    }\n",
       "\n",
       "    .dataframe tbody tr th {\n",
       "        vertical-align: top;\n",
       "    }\n",
       "\n",
       "    .dataframe thead th {\n",
       "        text-align: right;\n",
       "    }\n",
       "</style>\n",
       "<table border=\"1\" class=\"dataframe\">\n",
       "  <thead>\n",
       "    <tr style=\"text-align: right;\">\n",
       "      <th></th>\n",
       "      <th>CustomerID</th>\n",
       "      <th>Gender</th>\n",
       "      <th>Age</th>\n",
       "      <th>Annual Income (k$)</th>\n",
       "      <th>Spending Score (1-100)</th>\n",
       "    </tr>\n",
       "  </thead>\n",
       "  <tbody>\n",
       "    <tr>\n",
       "      <th>195</th>\n",
       "      <td>196</td>\n",
       "      <td>Female</td>\n",
       "      <td>35</td>\n",
       "      <td>120</td>\n",
       "      <td>79</td>\n",
       "    </tr>\n",
       "    <tr>\n",
       "      <th>196</th>\n",
       "      <td>197</td>\n",
       "      <td>Female</td>\n",
       "      <td>45</td>\n",
       "      <td>126</td>\n",
       "      <td>28</td>\n",
       "    </tr>\n",
       "    <tr>\n",
       "      <th>197</th>\n",
       "      <td>198</td>\n",
       "      <td>Male</td>\n",
       "      <td>32</td>\n",
       "      <td>126</td>\n",
       "      <td>74</td>\n",
       "    </tr>\n",
       "    <tr>\n",
       "      <th>198</th>\n",
       "      <td>199</td>\n",
       "      <td>Male</td>\n",
       "      <td>32</td>\n",
       "      <td>137</td>\n",
       "      <td>18</td>\n",
       "    </tr>\n",
       "    <tr>\n",
       "      <th>199</th>\n",
       "      <td>200</td>\n",
       "      <td>Male</td>\n",
       "      <td>30</td>\n",
       "      <td>137</td>\n",
       "      <td>83</td>\n",
       "    </tr>\n",
       "  </tbody>\n",
       "</table>\n",
       "</div>"
      ],
      "text/plain": [
       "     CustomerID  Gender  Age  Annual Income (k$)  Spending Score (1-100)\n",
       "195         196  Female   35                 120                      79\n",
       "196         197  Female   45                 126                      28\n",
       "197         198    Male   32                 126                      74\n",
       "198         199    Male   32                 137                      18\n",
       "199         200    Male   30                 137                      83"
      ]
     },
     "execution_count": 2,
     "metadata": {},
     "output_type": "execute_result"
    }
   ],
   "source": [
    "df = pd.read_csv('../../datasets/Mall_Customers.csv')\n",
    "df.tail()"
   ]
  },
  {
   "cell_type": "code",
   "execution_count": 3,
   "metadata": {},
   "outputs": [
    {
     "name": "stdout",
     "output_type": "stream",
     "text": [
      "<class 'pandas.core.frame.DataFrame'>\n",
      "RangeIndex: 200 entries, 0 to 199\n",
      "Data columns (total 5 columns):\n",
      " #   Column                  Non-Null Count  Dtype \n",
      "---  ------                  --------------  ----- \n",
      " 0   CustomerID              200 non-null    int64 \n",
      " 1   Gender                  200 non-null    object\n",
      " 2   Age                     200 non-null    int64 \n",
      " 3   Annual Income (k$)      200 non-null    int64 \n",
      " 4   Spending Score (1-100)  200 non-null    int64 \n",
      "dtypes: int64(4), object(1)\n",
      "memory usage: 7.9+ KB\n"
     ]
    },
    {
     "data": {
      "text/plain": [
       "(CustomerID                0\n",
       " Gender                    0\n",
       " Age                       0\n",
       " Annual Income (k$)        0\n",
       " Spending Score (1-100)    0\n",
       " dtype: int64,\n",
       " None)"
      ]
     },
     "execution_count": 3,
     "metadata": {},
     "output_type": "execute_result"
    }
   ],
   "source": [
    "df.isna().sum(), df.info()"
   ]
  },
  {
   "cell_type": "code",
   "execution_count": 4,
   "metadata": {},
   "outputs": [
    {
     "data": {
      "text/plain": [
       "(count    200.000000\n",
       " mean      38.850000\n",
       " std       13.969007\n",
       " min       18.000000\n",
       " 25%       28.750000\n",
       " 50%       36.000000\n",
       " 75%       49.000000\n",
       " max       70.000000\n",
       " Name: Age, dtype: float64,\n",
       " count    200.000000\n",
       " mean      60.560000\n",
       " std       26.264721\n",
       " min       15.000000\n",
       " 25%       41.500000\n",
       " 50%       61.500000\n",
       " 75%       78.000000\n",
       " max      137.000000\n",
       " Name: Annual Income (k$), dtype: float64,\n",
       " count    200.000000\n",
       " mean      50.200000\n",
       " std       25.823522\n",
       " min        1.000000\n",
       " 25%       34.750000\n",
       " 50%       50.000000\n",
       " 75%       73.000000\n",
       " max       99.000000\n",
       " Name: Spending Score (1-100), dtype: float64,\n",
       " Female    112\n",
       " Male       88\n",
       " Name: Gender, dtype: int64)"
      ]
     },
     "execution_count": 4,
     "metadata": {},
     "output_type": "execute_result"
    }
   ],
   "source": [
    "df['Age'].describe(), df['Annual Income (k$)'].describe(), df['Spending Score (1-100)'].describe(), df['Gender'].value_counts()"
   ]
  },
  {
   "cell_type": "code",
   "execution_count": 5,
   "metadata": {},
   "outputs": [],
   "source": [
    "# Data analysis by gender\n",
    "df_gender = df.groupby(['Gender']).mean()\n",
    "df.drop(['CustomerID'], axis=1, inplace=True)"
   ]
  },
  {
   "cell_type": "code",
   "execution_count": 6,
   "metadata": {},
   "outputs": [
    {
     "name": "stdout",
     "output_type": "stream",
     "text": [
      "        CustomerID        Age  Annual Income (k$)  Spending Score (1-100)\n",
      "Gender                                                                   \n",
      "Female   97.562500  38.098214           59.250000               51.526786\n",
      "Male    104.238636  39.806818           62.227273               48.511364\n"
     ]
    },
    {
     "data": {
      "application/vnd.plotly.v1+json": {
       "config": {
        "plotlyServerURL": "https://plot.ly"
       },
       "data": [
        {
         "marker": {
          "color": [
           "#FF69B4",
           "#1E90FF"
          ]
         },
         "name": "Annual Income (k$)",
         "type": "bar",
         "x": [
          "Female",
          "Male"
         ],
         "xaxis": "x",
         "y": [
          59.25,
          62.22727272727273
         ],
         "yaxis": "y"
        },
        {
         "marker": {
          "color": [
           "#FF69B4",
           "#1E90FF"
          ]
         },
         "name": "Spending Score (1-100)",
         "type": "bar",
         "x": [
          "Female",
          "Male"
         ],
         "xaxis": "x2",
         "y": [
          51.526785714285715,
          48.51136363636363
         ],
         "yaxis": "y2"
        },
        {
         "marker": {
          "color": [
           "#FF69B4",
           "#1E90FF"
          ]
         },
         "name": "Age",
         "type": "bar",
         "x": [
          "Female",
          "Male"
         ],
         "xaxis": "x3",
         "y": [
          38.098214285714285,
          39.80681818181818
         ],
         "yaxis": "y3"
        }
       ],
       "layout": {
        "annotations": [
         {
          "font": {
           "size": 16
          },
          "showarrow": false,
          "text": "Annual Income by Gender",
          "x": 0.14444444444444446,
          "xanchor": "center",
          "xref": "paper",
          "y": 1,
          "yanchor": "bottom",
          "yref": "paper"
         },
         {
          "font": {
           "size": 16
          },
          "showarrow": false,
          "text": "Spending Score by Gender",
          "x": 0.5,
          "xanchor": "center",
          "xref": "paper",
          "y": 1,
          "yanchor": "bottom",
          "yref": "paper"
         },
         {
          "font": {
           "size": 16
          },
          "showarrow": false,
          "text": "Age by Gender",
          "x": 0.8555555555555556,
          "xanchor": "center",
          "xref": "paper",
          "y": 1,
          "yanchor": "bottom",
          "yref": "paper"
         }
        ],
        "legend": {
         "orientation": "h",
         "x": 1,
         "xanchor": "right",
         "y": -0.2,
         "yanchor": "bottom"
        },
        "template": {
         "data": {
          "bar": [
           {
            "error_x": {
             "color": "#2a3f5f"
            },
            "error_y": {
             "color": "#2a3f5f"
            },
            "marker": {
             "line": {
              "color": "#E5ECF6",
              "width": 0.5
             },
             "pattern": {
              "fillmode": "overlay",
              "size": 10,
              "solidity": 0.2
             }
            },
            "type": "bar"
           }
          ],
          "barpolar": [
           {
            "marker": {
             "line": {
              "color": "#E5ECF6",
              "width": 0.5
             },
             "pattern": {
              "fillmode": "overlay",
              "size": 10,
              "solidity": 0.2
             }
            },
            "type": "barpolar"
           }
          ],
          "carpet": [
           {
            "aaxis": {
             "endlinecolor": "#2a3f5f",
             "gridcolor": "white",
             "linecolor": "white",
             "minorgridcolor": "white",
             "startlinecolor": "#2a3f5f"
            },
            "baxis": {
             "endlinecolor": "#2a3f5f",
             "gridcolor": "white",
             "linecolor": "white",
             "minorgridcolor": "white",
             "startlinecolor": "#2a3f5f"
            },
            "type": "carpet"
           }
          ],
          "choropleth": [
           {
            "colorbar": {
             "outlinewidth": 0,
             "ticks": ""
            },
            "type": "choropleth"
           }
          ],
          "contour": [
           {
            "colorbar": {
             "outlinewidth": 0,
             "ticks": ""
            },
            "colorscale": [
             [
              0,
              "#0d0887"
             ],
             [
              0.1111111111111111,
              "#46039f"
             ],
             [
              0.2222222222222222,
              "#7201a8"
             ],
             [
              0.3333333333333333,
              "#9c179e"
             ],
             [
              0.4444444444444444,
              "#bd3786"
             ],
             [
              0.5555555555555556,
              "#d8576b"
             ],
             [
              0.6666666666666666,
              "#ed7953"
             ],
             [
              0.7777777777777778,
              "#fb9f3a"
             ],
             [
              0.8888888888888888,
              "#fdca26"
             ],
             [
              1,
              "#f0f921"
             ]
            ],
            "type": "contour"
           }
          ],
          "contourcarpet": [
           {
            "colorbar": {
             "outlinewidth": 0,
             "ticks": ""
            },
            "type": "contourcarpet"
           }
          ],
          "heatmap": [
           {
            "colorbar": {
             "outlinewidth": 0,
             "ticks": ""
            },
            "colorscale": [
             [
              0,
              "#0d0887"
             ],
             [
              0.1111111111111111,
              "#46039f"
             ],
             [
              0.2222222222222222,
              "#7201a8"
             ],
             [
              0.3333333333333333,
              "#9c179e"
             ],
             [
              0.4444444444444444,
              "#bd3786"
             ],
             [
              0.5555555555555556,
              "#d8576b"
             ],
             [
              0.6666666666666666,
              "#ed7953"
             ],
             [
              0.7777777777777778,
              "#fb9f3a"
             ],
             [
              0.8888888888888888,
              "#fdca26"
             ],
             [
              1,
              "#f0f921"
             ]
            ],
            "type": "heatmap"
           }
          ],
          "heatmapgl": [
           {
            "colorbar": {
             "outlinewidth": 0,
             "ticks": ""
            },
            "colorscale": [
             [
              0,
              "#0d0887"
             ],
             [
              0.1111111111111111,
              "#46039f"
             ],
             [
              0.2222222222222222,
              "#7201a8"
             ],
             [
              0.3333333333333333,
              "#9c179e"
             ],
             [
              0.4444444444444444,
              "#bd3786"
             ],
             [
              0.5555555555555556,
              "#d8576b"
             ],
             [
              0.6666666666666666,
              "#ed7953"
             ],
             [
              0.7777777777777778,
              "#fb9f3a"
             ],
             [
              0.8888888888888888,
              "#fdca26"
             ],
             [
              1,
              "#f0f921"
             ]
            ],
            "type": "heatmapgl"
           }
          ],
          "histogram": [
           {
            "marker": {
             "pattern": {
              "fillmode": "overlay",
              "size": 10,
              "solidity": 0.2
             }
            },
            "type": "histogram"
           }
          ],
          "histogram2d": [
           {
            "colorbar": {
             "outlinewidth": 0,
             "ticks": ""
            },
            "colorscale": [
             [
              0,
              "#0d0887"
             ],
             [
              0.1111111111111111,
              "#46039f"
             ],
             [
              0.2222222222222222,
              "#7201a8"
             ],
             [
              0.3333333333333333,
              "#9c179e"
             ],
             [
              0.4444444444444444,
              "#bd3786"
             ],
             [
              0.5555555555555556,
              "#d8576b"
             ],
             [
              0.6666666666666666,
              "#ed7953"
             ],
             [
              0.7777777777777778,
              "#fb9f3a"
             ],
             [
              0.8888888888888888,
              "#fdca26"
             ],
             [
              1,
              "#f0f921"
             ]
            ],
            "type": "histogram2d"
           }
          ],
          "histogram2dcontour": [
           {
            "colorbar": {
             "outlinewidth": 0,
             "ticks": ""
            },
            "colorscale": [
             [
              0,
              "#0d0887"
             ],
             [
              0.1111111111111111,
              "#46039f"
             ],
             [
              0.2222222222222222,
              "#7201a8"
             ],
             [
              0.3333333333333333,
              "#9c179e"
             ],
             [
              0.4444444444444444,
              "#bd3786"
             ],
             [
              0.5555555555555556,
              "#d8576b"
             ],
             [
              0.6666666666666666,
              "#ed7953"
             ],
             [
              0.7777777777777778,
              "#fb9f3a"
             ],
             [
              0.8888888888888888,
              "#fdca26"
             ],
             [
              1,
              "#f0f921"
             ]
            ],
            "type": "histogram2dcontour"
           }
          ],
          "mesh3d": [
           {
            "colorbar": {
             "outlinewidth": 0,
             "ticks": ""
            },
            "type": "mesh3d"
           }
          ],
          "parcoords": [
           {
            "line": {
             "colorbar": {
              "outlinewidth": 0,
              "ticks": ""
             }
            },
            "type": "parcoords"
           }
          ],
          "pie": [
           {
            "automargin": true,
            "type": "pie"
           }
          ],
          "scatter": [
           {
            "fillpattern": {
             "fillmode": "overlay",
             "size": 10,
             "solidity": 0.2
            },
            "type": "scatter"
           }
          ],
          "scatter3d": [
           {
            "line": {
             "colorbar": {
              "outlinewidth": 0,
              "ticks": ""
             }
            },
            "marker": {
             "colorbar": {
              "outlinewidth": 0,
              "ticks": ""
             }
            },
            "type": "scatter3d"
           }
          ],
          "scattercarpet": [
           {
            "marker": {
             "colorbar": {
              "outlinewidth": 0,
              "ticks": ""
             }
            },
            "type": "scattercarpet"
           }
          ],
          "scattergeo": [
           {
            "marker": {
             "colorbar": {
              "outlinewidth": 0,
              "ticks": ""
             }
            },
            "type": "scattergeo"
           }
          ],
          "scattergl": [
           {
            "marker": {
             "colorbar": {
              "outlinewidth": 0,
              "ticks": ""
             }
            },
            "type": "scattergl"
           }
          ],
          "scattermapbox": [
           {
            "marker": {
             "colorbar": {
              "outlinewidth": 0,
              "ticks": ""
             }
            },
            "type": "scattermapbox"
           }
          ],
          "scatterpolar": [
           {
            "marker": {
             "colorbar": {
              "outlinewidth": 0,
              "ticks": ""
             }
            },
            "type": "scatterpolar"
           }
          ],
          "scatterpolargl": [
           {
            "marker": {
             "colorbar": {
              "outlinewidth": 0,
              "ticks": ""
             }
            },
            "type": "scatterpolargl"
           }
          ],
          "scatterternary": [
           {
            "marker": {
             "colorbar": {
              "outlinewidth": 0,
              "ticks": ""
             }
            },
            "type": "scatterternary"
           }
          ],
          "surface": [
           {
            "colorbar": {
             "outlinewidth": 0,
             "ticks": ""
            },
            "colorscale": [
             [
              0,
              "#0d0887"
             ],
             [
              0.1111111111111111,
              "#46039f"
             ],
             [
              0.2222222222222222,
              "#7201a8"
             ],
             [
              0.3333333333333333,
              "#9c179e"
             ],
             [
              0.4444444444444444,
              "#bd3786"
             ],
             [
              0.5555555555555556,
              "#d8576b"
             ],
             [
              0.6666666666666666,
              "#ed7953"
             ],
             [
              0.7777777777777778,
              "#fb9f3a"
             ],
             [
              0.8888888888888888,
              "#fdca26"
             ],
             [
              1,
              "#f0f921"
             ]
            ],
            "type": "surface"
           }
          ],
          "table": [
           {
            "cells": {
             "fill": {
              "color": "#EBF0F8"
             },
             "line": {
              "color": "white"
             }
            },
            "header": {
             "fill": {
              "color": "#C8D4E3"
             },
             "line": {
              "color": "white"
             }
            },
            "type": "table"
           }
          ]
         },
         "layout": {
          "annotationdefaults": {
           "arrowcolor": "#2a3f5f",
           "arrowhead": 0,
           "arrowwidth": 1
          },
          "autotypenumbers": "strict",
          "coloraxis": {
           "colorbar": {
            "outlinewidth": 0,
            "ticks": ""
           }
          },
          "colorscale": {
           "diverging": [
            [
             0,
             "#8e0152"
            ],
            [
             0.1,
             "#c51b7d"
            ],
            [
             0.2,
             "#de77ae"
            ],
            [
             0.3,
             "#f1b6da"
            ],
            [
             0.4,
             "#fde0ef"
            ],
            [
             0.5,
             "#f7f7f7"
            ],
            [
             0.6,
             "#e6f5d0"
            ],
            [
             0.7,
             "#b8e186"
            ],
            [
             0.8,
             "#7fbc41"
            ],
            [
             0.9,
             "#4d9221"
            ],
            [
             1,
             "#276419"
            ]
           ],
           "sequential": [
            [
             0,
             "#0d0887"
            ],
            [
             0.1111111111111111,
             "#46039f"
            ],
            [
             0.2222222222222222,
             "#7201a8"
            ],
            [
             0.3333333333333333,
             "#9c179e"
            ],
            [
             0.4444444444444444,
             "#bd3786"
            ],
            [
             0.5555555555555556,
             "#d8576b"
            ],
            [
             0.6666666666666666,
             "#ed7953"
            ],
            [
             0.7777777777777778,
             "#fb9f3a"
            ],
            [
             0.8888888888888888,
             "#fdca26"
            ],
            [
             1,
             "#f0f921"
            ]
           ],
           "sequentialminus": [
            [
             0,
             "#0d0887"
            ],
            [
             0.1111111111111111,
             "#46039f"
            ],
            [
             0.2222222222222222,
             "#7201a8"
            ],
            [
             0.3333333333333333,
             "#9c179e"
            ],
            [
             0.4444444444444444,
             "#bd3786"
            ],
            [
             0.5555555555555556,
             "#d8576b"
            ],
            [
             0.6666666666666666,
             "#ed7953"
            ],
            [
             0.7777777777777778,
             "#fb9f3a"
            ],
            [
             0.8888888888888888,
             "#fdca26"
            ],
            [
             1,
             "#f0f921"
            ]
           ]
          },
          "colorway": [
           "#636efa",
           "#EF553B",
           "#00cc96",
           "#ab63fa",
           "#FFA15A",
           "#19d3f3",
           "#FF6692",
           "#B6E880",
           "#FF97FF",
           "#FECB52"
          ],
          "font": {
           "color": "#2a3f5f"
          },
          "geo": {
           "bgcolor": "white",
           "lakecolor": "white",
           "landcolor": "#E5ECF6",
           "showlakes": true,
           "showland": true,
           "subunitcolor": "white"
          },
          "hoverlabel": {
           "align": "left"
          },
          "hovermode": "closest",
          "mapbox": {
           "style": "light"
          },
          "paper_bgcolor": "white",
          "plot_bgcolor": "#E5ECF6",
          "polar": {
           "angularaxis": {
            "gridcolor": "white",
            "linecolor": "white",
            "ticks": ""
           },
           "bgcolor": "#E5ECF6",
           "radialaxis": {
            "gridcolor": "white",
            "linecolor": "white",
            "ticks": ""
           }
          },
          "scene": {
           "xaxis": {
            "backgroundcolor": "#E5ECF6",
            "gridcolor": "white",
            "gridwidth": 2,
            "linecolor": "white",
            "showbackground": true,
            "ticks": "",
            "zerolinecolor": "white"
           },
           "yaxis": {
            "backgroundcolor": "#E5ECF6",
            "gridcolor": "white",
            "gridwidth": 2,
            "linecolor": "white",
            "showbackground": true,
            "ticks": "",
            "zerolinecolor": "white"
           },
           "zaxis": {
            "backgroundcolor": "#E5ECF6",
            "gridcolor": "white",
            "gridwidth": 2,
            "linecolor": "white",
            "showbackground": true,
            "ticks": "",
            "zerolinecolor": "white"
           }
          },
          "shapedefaults": {
           "line": {
            "color": "#2a3f5f"
           }
          },
          "ternary": {
           "aaxis": {
            "gridcolor": "white",
            "linecolor": "white",
            "ticks": ""
           },
           "baxis": {
            "gridcolor": "white",
            "linecolor": "white",
            "ticks": ""
           },
           "bgcolor": "#E5ECF6",
           "caxis": {
            "gridcolor": "white",
            "linecolor": "white",
            "ticks": ""
           }
          },
          "title": {
           "x": 0.05
          },
          "xaxis": {
           "automargin": true,
           "gridcolor": "white",
           "linecolor": "white",
           "ticks": "",
           "title": {
            "standoff": 15
           },
           "zerolinecolor": "white",
           "zerolinewidth": 2
          },
          "yaxis": {
           "automargin": true,
           "gridcolor": "white",
           "linecolor": "white",
           "ticks": "",
           "title": {
            "standoff": 15
           },
           "zerolinecolor": "white",
           "zerolinewidth": 2
          }
         }
        },
        "xaxis": {
         "anchor": "y",
         "domain": [
          0,
          0.2888888888888889
         ]
        },
        "xaxis2": {
         "anchor": "y2",
         "domain": [
          0.35555555555555557,
          0.6444444444444445
         ]
        },
        "xaxis3": {
         "anchor": "y3",
         "domain": [
          0.7111111111111111,
          1
         ]
        },
        "yaxis": {
         "anchor": "x",
         "domain": [
          0,
          1
         ],
         "range": [
          0,
          100
         ]
        },
        "yaxis2": {
         "anchor": "x2",
         "domain": [
          0,
          1
         ],
         "range": [
          0,
          100
         ]
        },
        "yaxis3": {
         "anchor": "x3",
         "domain": [
          0,
          1
         ],
         "range": [
          0,
          100
         ]
        }
       }
      }
     },
     "metadata": {},
     "output_type": "display_data"
    }
   ],
   "source": [
    "print(df_gender)\n",
    "colors = ['#FF69B4', '#1E90FF']\n",
    "# Create a bar chart to compare gender\n",
    "trace = go.Bar(\n",
    "    x=df_gender.index,\n",
    "    y=df_gender['Spending Score (1-100)'],\n",
    "    name='Spending Score (1-100)',\n",
    "    marker=dict(color=colors)\n",
    ")\n",
    "\n",
    "fig = make_subplots(rows=1, cols=3,\n",
    "                    subplot_titles=(\"Annual Income by Gender\", \"Spending Score by Gender\", \"Age by Gender\"))\n",
    "\n",
    "# Add a bar chart of annual income by gender to the subplot\n",
    "df_income = df.groupby(['Gender'])['Annual Income (k$)'].mean().reset_index()\n",
    "trace_income = go.Bar(\n",
    "    x=df_income['Gender'],\n",
    "    y=df_income['Annual Income (k$)'],\n",
    "    name='Annual Income (k$)',\n",
    "    marker=dict(color=colors)\n",
    ")\n",
    "fig.add_trace(trace_income, row=1, col=1)\n",
    "\n",
    "# Add a bar chart of spending score by gender to the subplot\n",
    "trace_spending = go.Bar(\n",
    "    x=df_gender.index,\n",
    "    y=df_gender['Spending Score (1-100)'],\n",
    "    name='Spending Score (1-100)',\n",
    "    marker=dict(color=colors)\n",
    ")\n",
    "fig.add_trace(trace_spending, row=1, col=2)\n",
    "\n",
    "# Add a bar chart of age by gender to the subplot\n",
    "df_age = df.groupby(['Gender'])['Age'].mean().reset_index()\n",
    "trace_age = go.Bar(\n",
    "    x=df_age['Gender'],\n",
    "    y=df_age['Age'],\n",
    "    name='Age',\n",
    "    marker=dict(color=colors)\n",
    ")\n",
    "fig.add_trace(trace_age, row=1, col=3)\n",
    "\n",
    "# Add a legend to the chart\n",
    "fig.update_layout(\n",
    "    legend=dict(\n",
    "        orientation=\"h\",\n",
    "        yanchor=\"bottom\",\n",
    "        y=-0.2,\n",
    "        xanchor=\"right\",\n",
    "        x=1\n",
    "    )\n",
    ")\n",
    "\n",
    "# Set the y limit for all charts to 100\n",
    "fig.update_yaxes(range=[0, 100])\n",
    "\n",
    "fig.show()"
   ]
  },
  {
   "cell_type": "code",
   "execution_count": 7,
   "metadata": {},
   "outputs": [
    {
     "data": {
      "application/vnd.plotly.v1+json": {
       "config": {
        "plotlyServerURL": "https://plot.ly"
       },
       "data": [
        {
         "autobinx": false,
         "histnorm": "probability density",
         "legendgroup": "Female",
         "marker": {
          "color": "#FF69B4"
         },
         "name": "Female",
         "opacity": 0.7,
         "type": "histogram",
         "x": [
          16,
          16,
          17,
          17,
          18,
          18,
          19,
          19,
          20,
          20,
          21,
          23,
          25,
          28,
          28,
          29,
          29,
          30,
          33,
          33,
          34,
          34,
          37,
          37,
          38,
          39,
          39,
          39,
          40,
          40,
          40,
          40,
          42,
          43,
          43,
          44,
          46,
          47,
          47,
          48,
          48,
          48,
          49,
          50,
          50,
          54,
          54,
          54,
          54,
          54,
          57,
          57,
          58,
          58,
          59,
          60,
          60,
          60,
          60,
          62,
          62,
          62,
          63,
          63,
          64,
          65,
          65,
          65,
          65,
          67,
          67,
          67,
          69,
          70,
          70,
          72,
          72,
          73,
          73,
          74,
          75,
          76,
          76,
          77,
          78,
          78,
          78,
          78,
          78,
          78,
          78,
          79,
          79,
          81,
          85,
          86,
          87,
          88,
          88,
          97,
          97,
          98,
          99,
          101,
          103,
          103,
          103,
          103,
          113,
          120,
          120,
          126
         ],
         "xaxis": "x",
         "xbins": {
          "end": 126,
          "size": 3,
          "start": 16
         },
         "yaxis": "y"
        },
        {
         "autobinx": false,
         "histnorm": "probability density",
         "legendgroup": "Male",
         "marker": {
          "color": "#1E90FF"
         },
         "name": "Male",
         "opacity": 0.7,
         "type": "histogram",
         "x": [
          15,
          15,
          19,
          19,
          20,
          20,
          21,
          23,
          24,
          24,
          25,
          28,
          28,
          30,
          33,
          33,
          38,
          39,
          42,
          43,
          43,
          44,
          46,
          46,
          46,
          48,
          48,
          48,
          49,
          54,
          54,
          54,
          54,
          54,
          54,
          54,
          59,
          60,
          60,
          61,
          61,
          62,
          62,
          62,
          63,
          63,
          63,
          63,
          64,
          67,
          69,
          71,
          71,
          71,
          71,
          71,
          71,
          73,
          73,
          74,
          75,
          77,
          77,
          77,
          78,
          78,
          78,
          78,
          78,
          81,
          85,
          86,
          87,
          87,
          87,
          87,
          87,
          88,
          88,
          93,
          93,
          98,
          99,
          101,
          113,
          126,
          137,
          137
         ],
         "xaxis": "x",
         "xbins": {
          "end": 137,
          "size": 3,
          "start": 15
         },
         "yaxis": "y"
        },
        {
         "legendgroup": "Female",
         "marker": {
          "color": "#FF69B4"
         },
         "mode": "lines",
         "name": "Female",
         "showlegend": false,
         "type": "scatter",
         "x": [
          16,
          16.22,
          16.44,
          16.66,
          16.88,
          17.1,
          17.32,
          17.54,
          17.76,
          17.98,
          18.2,
          18.42,
          18.64,
          18.86,
          19.08,
          19.3,
          19.52,
          19.740000000000002,
          19.96,
          20.18,
          20.4,
          20.62,
          20.84,
          21.06,
          21.28,
          21.5,
          21.72,
          21.94,
          22.16,
          22.38,
          22.6,
          22.82,
          23.04,
          23.259999999999998,
          23.48,
          23.7,
          23.92,
          24.14,
          24.36,
          24.58,
          24.8,
          25.02,
          25.240000000000002,
          25.46,
          25.68,
          25.9,
          26.119999999999997,
          26.34,
          26.560000000000002,
          26.78,
          27,
          27.22,
          27.439999999999998,
          27.66,
          27.880000000000003,
          28.1,
          28.32,
          28.54,
          28.759999999999998,
          28.98,
          29.2,
          29.42,
          29.64,
          29.86,
          30.08,
          30.3,
          30.52,
          30.740000000000002,
          30.96,
          31.18,
          31.4,
          31.619999999999997,
          31.84,
          32.06,
          32.28,
          32.5,
          32.72,
          32.94,
          33.16,
          33.379999999999995,
          33.6,
          33.82,
          34.04,
          34.260000000000005,
          34.480000000000004,
          34.7,
          34.92,
          35.14,
          35.36,
          35.58,
          35.8,
          36.019999999999996,
          36.239999999999995,
          36.46,
          36.68,
          36.9,
          37.120000000000005,
          37.34,
          37.56,
          37.78,
          38,
          38.22,
          38.44,
          38.66,
          38.879999999999995,
          39.1,
          39.32,
          39.54,
          39.760000000000005,
          39.980000000000004,
          40.2,
          40.42,
          40.64,
          40.86,
          41.08,
          41.3,
          41.519999999999996,
          41.739999999999995,
          41.96,
          42.18,
          42.4,
          42.620000000000005,
          42.84,
          43.06,
          43.28,
          43.5,
          43.72,
          43.94,
          44.16,
          44.379999999999995,
          44.6,
          44.82,
          45.04,
          45.260000000000005,
          45.480000000000004,
          45.7,
          45.92,
          46.14,
          46.36,
          46.58,
          46.8,
          47.019999999999996,
          47.239999999999995,
          47.46,
          47.68,
          47.9,
          48.12,
          48.34,
          48.56,
          48.78,
          49,
          49.22,
          49.44,
          49.66,
          49.88,
          50.1,
          50.32,
          50.54,
          50.76,
          50.98,
          51.2,
          51.42,
          51.64,
          51.86,
          52.08,
          52.3,
          52.52,
          52.74,
          52.96,
          53.18,
          53.4,
          53.62,
          53.84,
          54.06,
          54.28,
          54.5,
          54.72,
          54.94,
          55.16,
          55.38,
          55.6,
          55.82,
          56.04,
          56.26,
          56.48,
          56.7,
          56.92,
          57.14,
          57.36,
          57.58,
          57.8,
          58.02,
          58.24,
          58.46,
          58.68,
          58.9,
          59.12,
          59.34,
          59.56,
          59.78,
          60,
          60.22,
          60.44,
          60.66,
          60.88,
          61.1,
          61.32,
          61.54,
          61.76,
          61.98,
          62.2,
          62.42,
          62.64,
          62.86,
          63.08,
          63.3,
          63.52,
          63.74,
          63.96,
          64.18,
          64.4,
          64.62,
          64.84,
          65.06,
          65.28,
          65.5,
          65.72,
          65.94,
          66.16,
          66.38,
          66.6,
          66.82,
          67.03999999999999,
          67.25999999999999,
          67.47999999999999,
          67.7,
          67.92,
          68.14,
          68.36,
          68.58,
          68.8,
          69.02000000000001,
          69.24000000000001,
          69.46000000000001,
          69.68,
          69.9,
          70.12,
          70.34,
          70.56,
          70.78,
          71,
          71.22,
          71.44,
          71.66,
          71.88,
          72.1,
          72.32,
          72.53999999999999,
          72.75999999999999,
          72.97999999999999,
          73.2,
          73.42,
          73.64,
          73.86,
          74.08,
          74.3,
          74.52000000000001,
          74.74000000000001,
          74.96000000000001,
          75.18,
          75.4,
          75.62,
          75.84,
          76.06,
          76.28,
          76.5,
          76.72,
          76.94,
          77.16,
          77.38,
          77.6,
          77.82,
          78.03999999999999,
          78.25999999999999,
          78.47999999999999,
          78.7,
          78.92,
          79.14,
          79.36,
          79.58,
          79.8,
          80.02,
          80.24,
          80.46,
          80.68,
          80.9,
          81.12,
          81.34,
          81.56,
          81.78,
          82,
          82.22,
          82.44,
          82.66,
          82.88,
          83.1,
          83.32,
          83.54,
          83.76,
          83.98,
          84.2,
          84.42,
          84.64,
          84.86,
          85.08,
          85.3,
          85.52,
          85.74,
          85.96,
          86.18,
          86.4,
          86.62,
          86.84,
          87.06,
          87.28,
          87.5,
          87.72,
          87.94,
          88.16,
          88.38,
          88.6,
          88.82,
          89.04,
          89.26,
          89.48,
          89.7,
          89.92,
          90.14,
          90.36,
          90.58,
          90.8,
          91.02,
          91.24,
          91.46,
          91.68,
          91.9,
          92.12,
          92.34,
          92.56,
          92.78,
          93,
          93.22,
          93.44,
          93.66,
          93.88,
          94.1,
          94.32,
          94.54,
          94.76,
          94.98,
          95.2,
          95.42,
          95.64,
          95.86,
          96.08,
          96.3,
          96.52,
          96.74,
          96.96,
          97.18,
          97.4,
          97.62,
          97.84,
          98.06,
          98.28,
          98.5,
          98.72,
          98.94,
          99.16,
          99.38,
          99.6,
          99.82,
          100.04,
          100.26,
          100.48,
          100.7,
          100.92,
          101.14,
          101.36,
          101.58,
          101.8,
          102.02,
          102.24,
          102.46,
          102.68,
          102.9,
          103.12,
          103.34,
          103.56,
          103.78,
          104,
          104.22,
          104.44,
          104.66,
          104.88,
          105.1,
          105.32,
          105.54,
          105.76,
          105.98,
          106.2,
          106.42,
          106.64,
          106.86,
          107.08,
          107.3,
          107.52,
          107.74,
          107.96,
          108.18,
          108.4,
          108.62,
          108.84,
          109.06,
          109.28,
          109.5,
          109.72,
          109.94,
          110.16,
          110.38,
          110.6,
          110.82,
          111.04,
          111.26,
          111.48,
          111.7,
          111.92,
          112.14,
          112.36,
          112.58,
          112.8,
          113.02,
          113.24,
          113.46,
          113.68,
          113.9,
          114.12,
          114.34,
          114.56,
          114.78,
          115,
          115.22,
          115.44,
          115.66,
          115.88,
          116.1,
          116.32,
          116.54,
          116.76,
          116.98,
          117.2,
          117.42,
          117.64,
          117.86,
          118.08,
          118.3,
          118.52,
          118.74,
          118.96,
          119.18,
          119.4,
          119.62,
          119.84,
          120.06,
          120.28,
          120.5,
          120.72,
          120.94,
          121.16,
          121.38,
          121.6,
          121.82,
          122.04,
          122.26,
          122.48,
          122.7,
          122.92,
          123.14,
          123.36,
          123.58,
          123.8,
          124.02,
          124.24,
          124.46,
          124.68,
          124.9,
          125.12,
          125.34,
          125.56,
          125.78
         ],
         "xaxis": "x",
         "y": [
          0.005697618464144983,
          0.005774981402238925,
          0.00585185988112875,
          0.005928230861654921,
          0.006004072614738301,
          0.006079364752370548,
          0.0061540882546916925,
          0.006228225493066155,
          0.006301760249082873,
          0.006374677729419181,
          0.006446964576523578,
          0.006518608875086927,
          0.006589600154287511,
          0.006659929385809919,
          0.0067295889776540566,
          0.00679857276376523,
          0.006866875989531746,
          0.00693449529321199,
          0.007001428683367223,
          0.007067675512391572,
          0.007133236446244769,
          0.007198113430507013,
          0.007262309652888998,
          0.00732582950234306,
          0.007388678524933581,
          0.007450863376636671,
          0.007512391773250284,
          0.007573272437606034,
          0.007633515044283823,
          0.007693130162038863,
          0.0077521291941589085,
          0.00781052431697628,
          0.00786832841676551,
          0.00792555502526282,
          0.007982218254047447,
          0.008038332728028784,
          0.008093913518284828,
          0.008148976074499416,
          0.008203536157245856,
          0.008257609770363822,
          0.008311213093674462,
          0.008364362416277065,
          0.008417074070665822,
          0.008469364367901577,
          0.008521249534067675,
          0.008572745648232757,
          0.008623868582136544,
          0.008674633941805584,
          0.00872505701129877,
          0.008775152698771441,
          0.00882493548503714,
          0.008874419374795857,
          0.008923617850684505,
          0.008972543830295302,
          0.009021209626293016,
          0.009069626909750848,
          0.009117806676810003,
          0.009165759218754625,
          0.00921349409558014,
          0.009261020113117736,
          0.00930834530376432,
          0.009355476910851994,
          0.009402421376676642,
          0.009449184334191039,
          0.009495770602352672,
          0.009542184185102517,
          0.009588428273936994,
          0.009634505254020516,
          0.009680416713773694,
          0.009726163457857788,
          0.00977174552346351,
          0.009817162199800387,
          0.009862412050669834,
          0.009907492939995008,
          0.009952402060168298,
          0.009997135963068657,
          0.010041690593589989,
          0.010086061325514276,
          0.010130242999553778,
          0.01017422996338079,
          0.010218016113455153,
          0.010261594938455567,
          0.010304959564114709,
          0.010348102799254464,
          0.010391017182814176,
          0.010433695031662658,
          0.010476128488982498,
          0.010518309573015019,
          0.010560230225954306,
          0.010601882362779218,
          0.010643257919814178,
          0.010684348902812849,
          0.01072514743436099,
          0.010765645800399789,
          0.010805836495675592,
          0.010845712267927635,
          0.010885266160631766,
          0.010924491554124791,
          0.01096338220494282,
          0.011001932283213715,
          0.01104013640795401,
          0.011077989680129106,
          0.011115487713346178,
          0.01115262666205886,
          0.011189403247173869,
          0.011225814778961223,
          0.011261859177180181,
          0.011297534988345724,
          0.011332841400071703,
          0.011367778252439132,
          0.011402346046350367,
          0.011436545948841852,
          0.011470379795341266,
          0.011503850088866188,
          0.011536959996174536,
          0.011569713340888781,
          0.011602114593627842,
          0.011634168859192615,
          0.011665881860862598,
          0.011697259921872066,
          0.011728309944145168,
          0.011759039384380447,
          0.011789456227584266,
          0.011819568958163516,
          0.011849386528695917,
          0.011878918326506014,
          0.011908174138181953,
          0.011937164112176591,
          0.011965898719642277,
          0.011994388713656177,
          0.01202264508699701,
          0.012050679028640649,
          0.012078501879144592,
          0.012106125085095995,
          0.012133560152800038,
          0.012160818601387662,
          0.012187911915522903,
          0.012214851497890577,
          0.01224164862164511,
          0.0122683143829999,
          0.012294859654135338,
          0.01232129503660112,
          0.012347630815385344,
          0.01237387691381937,
          0.012400042849482207,
          0.012426137691264345,
          0.012452170017744147,
          0.012478147877023954,
          0.012504078748166468,
          0.012529969504364087,
          0.012555826377966232,
          0.012581654927481067,
          0.01260746000665958,
          0.012633245735760423,
          0.012659015475084016,
          0.012684771800855836,
          0.012710516483526765,
          0.012736250468549875,
          0.012761973859681093,
          0.012787685904841448,
          0.012813384984567277,
          0.012839068603064477,
          0.012864733381871782,
          0.01289037505612779,
          0.012915988473425401,
          0.012941567595227575,
          0.012967105500807565,
          0.012992594393667529,
          0.01301802561037916,
          0.013043389631781364,
          0.013068676096460704,
          0.013093873816432303,
          0.013118970794930634,
          0.013143954246212546,
          0.013168810617267712,
          0.013193525611325365,
          0.013218084213041058,
          0.013242470715241114,
          0.013266668747098996,
          0.013290661303613418,
          0.013314430776255302,
          0.013337958984648101,
          0.013361227209144644,
          0.013384216224162264,
          0.013406906332138275,
          0.013429277397967806,
          0.013451308883787776,
          0.013472979883972133,
          0.0134942691602064,
          0.013515155176512826,
          0.013535616134100995,
          0.013555630005923814,
          0.013575174570823453,
          0.013594227447157709,
          0.013612766125803453,
          0.013630768002440648,
          0.01364821040902745,
          0.013665070644384502,
          0.013681326003814784,
          0.013696953807693348,
          0.013711931428969912,
          0.013726236319536315,
          0.013739846035419733,
          0.013752738260771278,
          0.013764890830629385,
          0.013776281752446284,
          0.013786889226374853,
          0.013796691664322448,
          0.013805667707787284,
          0.013813796244501266,
          0.01382105642391198,
          0.013827427671544632,
          0.013832889702292368,
          0.013837422532690954,
          0.013841006492240609,
          0.013843622233844485,
          0.01384525074343874,
          0.013845873348895027,
          0.013845471728280512,
          0.01384402791756508,
          0.013841524317868238,
          0.01383794370234171,
          0.013833269222785062,
          0.013827484416093489,
          0.01382057321063734,
          0.013812519932672802,
          0.013803309312882055,
          0.013792926493140237,
          0.013781357033603137,
          0.013768586920207703,
          0.013754602572672343,
          0.013739390853080588,
          0.013722939075125742,
          0.013705235014088997,
          0.01368626691761637,
          0.01366602351735348,
          0.013644494041489189,
          0.013621668228251416,
          0.01359753634038986,
          0.013572089180671437,
          0.013545318108405126,
          0.013517215057003543,
          0.01348777255257836,
          0.013456983733557545,
          0.013424842371301473,
          0.013391342891685665,
          0.013356480397607116,
          0.013320250692361797,
          0.013282650303830417,
          0.013243676509400237,
          0.013203327361540758,
          0.013161601713942692,
          0.013118499248119638,
          0.013074020500364785,
          0.013028166888945886,
          0.012980940741414907,
          0.012932345321901859,
          0.012882384858255777,
          0.012831064568890715,
          0.012778390689188908,
          0.012724370497310249,
          0.012669012339252703,
          0.01261232565300626,
          0.012554320991641324,
          0.01249501004517103,
          0.012434405661027364,
          0.01237252186299133,
          0.012309373868419238,
          0.012244978103609555,
          0.0121793522171584,
          0.012112515091155449,
          0.012044486850077567,
          0.01197528886724305,
          0.011904943768696177,
          0.011833475434399242,
          0.01176090899661723,
          0.011687270835389483,
          0.011612588570992219,
          0.01153689105330577,
          0.011460208348011536,
          0.011382571719554833,
          0.011304013610821678,
          0.011224567619489853,
          0.011144268471027221,
          0.01106315198832338,
          0.010981255057953733,
          0.010898615593088948,
          0.010815272493075819,
          0.01073126559972972,
          0.010646635650392398,
          0.010561424227822233,
          0.010475673706998107,
          0.010389427198931099,
          0.010302728491591327,
          0.010215621988070404,
          0.010128152642112247,
          0.010040365891157059,
          0.009952307587055037,
          0.009864023924617552,
          0.009775561368183767,
          0.00968696657639105,
          0.009598286325346263,
          0.009509567430404075,
          0.009420856666765957,
          0.009332200689120532,
          0.009243645950552461,
          0.009155238620951914,
          0.009067024505161815,
          0.008979048961103072,
          0.008891356818121072,
          0.00880399229579839,
          0.008716998923479562,
          0.008630419460753536,
          0.008544295819138695,
          0.00845866898521299,
          0.008373578945429299,
          0.008289064612851792,
          0.008205163756044912,
          0.008121912930340487,
          0.00803934741170238,
          0.007957501133400498,
          0.007876406625698084,
          0.007796094958747027,
          0.00771659568887647,
          0.007637936808449468,
          0.007560144699451508,
          0.007483244090962724,
          0.007407258020653796,
          0.007332207800432152,
          0.00725811298635225,
          0.0071849913528895725,
          0.007112858871664047,
          0.007041729694683903,
          0.006971616142166465,
          0.006902528694976922,
          0.0068344759917114885,
          0.006767464830435589,
          0.00670150017507264,
          0.006636585166423476,
          0.006572721137781359,
          0.006509907635092107,
          0.006448142441594082,
          0.006387421606857845,
          0.006327739480130943,
          0.006269088747878914,
          0.00621146047540018,
          0.006154844152378694,
          0.006099227742225935,
          0.006044597735050998,
          0.00599093920408623,
          0.005938235865384484,
          0.005886470140593906,
          0.005835623222606093,
          0.00578567514386489,
          0.005736604847114492,
          0.005688390258358436,
          0.0056410083617941895,
          0.005594435276482549,
          0.005548646334506065,
          0.005503616160366734,
          0.005459318751370194,
          0.0054157275587414285,
          0.005372815569215783,
          0.00533055538684872,
          0.005288919314788348,
          0.005247879436756357,
          0.005207407697985153,
          0.0051674759853626824,
          0.005128056206540175,
          0.005089120367763557,
          0.0050506406501947205,
          0.005012589484495953,
          0.004974939623458022,
          0.004937664212460919,
          0.004900736857565019,
          0.0048641316910402995,
          0.004827823434151411,
          0.004791787457027461,
          0.004755999835456728,
          0.004720437404458669,
          0.004685077808497913,
          0.004649899548217964,
          0.004614882023585486,
          0.004580005573349681,
          0.004545251510735039,
          0.0045106021552998804,
          0.004476040860907118,
          0.004441552039768144,
          0.004407121182534873,
          0.004372734874429386,
          0.004338380807414775,
          0.004304047788424863,
          0.004269725743684396,
          0.004235405719164922,
          0.0042010798772350085,
          0.004166741489576305,
          0.004132384926449774,
          0.004098005642408473,
          0.00406360015856497,
          0.004029166041532745,
          0.003994701879171346,
          0.003960207253275301,
          0.003925682709355906,
          0.003891129723673832,
          0.0038565506676884465,
          0.003821948770096904,
          0.003787328076642715,
          0.0037526934078790353,
          0.0037180503150770297,
          0.003683405034473689,
          0.00364876444005686,
          0.0036141359950877723,
          0.003579527702563031,
          0.003544948054818954,
          0.00351040598248124,
          0.0034759108029621894,
          0.003441472168706303,
          0.0034071000153826875,
          0.0033728045102198573,
          0.003338596000674577,
          0.0033044849636221446,
          0.003270481955250228,
          0.0032365975618326884,
          0.003202842351553405,
          0.003169226827543186,
          0.0031357613822852464,
          0.003102456253536875,
          0.003069321481906262,
          0.003036366870214729,
          0.003003601944765177,
          0.0029710359186280997,
          0.002938677657046467,
          0.002906535645050805,
          0.0028746179573653076,
          0.002842932230675432,
          0.002811485638316811,
          0.0027802848674346784,
          0.0027493360986522897,
          0.002718644988276322,
          0.0026882166530565266,
          0.0026580556575066514,
          0.002628166003783234,
          0.002598551124108943,
          0.0025692138757172052,
          0.002540156538285439,
          0.002511380813814869,
          0.002482887828906123,
          0.002454678139371243,
          0.0024267517371147143,
          0.0023991080592083687,
          0.0023717459990779417,
          0.0023446639197122034,
          0.0023178596687995078,
          0.0022913305956907405,
          0.0022650735700826302,
          0.0022390850023105914,
          0.0022133608651363156,
          0.0021878967169116723,
          0.002162687725997609,
          0.002137728696314207,
          0.00211301409389631,
          0.002088538074327713,
          0.002064294510926239,
          0.0020402770235517036,
          0.0020164790079091844,
          0.0019928936652206975,
          0.0019695140321398306,
          0.0019463330107855543,
          0.001923343398773801,
          0.001900537919128014,
          0.0018779092499530893,
          0.0018554500537605301,
          0.0018331530063367062,
          0.0018110108250501723,
          0.0017890162964987355,
          0.0017671623034017025,
          0.0017454418506479853,
          0.0017238480904160154,
          0.001702374346287116,
          0.0016810141362796468,
          0.0016597611947372693,
          0.0016386094930106359,
          0.0016175532588780545,
          0.001596586994656808,
          0.0015757054939631475,
          0.001554903857085196,
          0.0015341775049393246,
          0.0015135221915866966,
          0.0014929340152929588,
          0.0014724094281199976,
          0.0014519452440447762,
          0.0014315386456059693,
          0.0014111871890849148,
          0.0013908888082328013,
          0.0013706418165613829,
          0.001350444908219626,
          0.001330297157483524,
          0.0013101980168910075,
          0.0012901473140582724,
          0.0012701452472179337
         ],
         "yaxis": "y"
        },
        {
         "legendgroup": "Male",
         "marker": {
          "color": "#1E90FF"
         },
         "mode": "lines",
         "name": "Male",
         "showlegend": false,
         "type": "scatter",
         "x": [
          15,
          15.244,
          15.488,
          15.732,
          15.975999999999999,
          16.22,
          16.464,
          16.708,
          16.951999999999998,
          17.196,
          17.44,
          17.684,
          17.928,
          18.172,
          18.416,
          18.66,
          18.904,
          19.148,
          19.392,
          19.636,
          19.88,
          20.124,
          20.368000000000002,
          20.612000000000002,
          20.856,
          21.1,
          21.344,
          21.588,
          21.832,
          22.076,
          22.32,
          22.564,
          22.808,
          23.052,
          23.296,
          23.54,
          23.784,
          24.028,
          24.272,
          24.516,
          24.759999999999998,
          25.003999999999998,
          25.247999999999998,
          25.492,
          25.736,
          25.98,
          26.224,
          26.468,
          26.712,
          26.956,
          27.2,
          27.444000000000003,
          27.688000000000002,
          27.932000000000002,
          28.176000000000002,
          28.42,
          28.664,
          28.908,
          29.152,
          29.396,
          29.64,
          29.884,
          30.128,
          30.372,
          30.616,
          30.86,
          31.104,
          31.348,
          31.592,
          31.836,
          32.08,
          32.324,
          32.568,
          32.812,
          33.056,
          33.3,
          33.544,
          33.788,
          34.032,
          34.275999999999996,
          34.519999999999996,
          34.763999999999996,
          35.007999999999996,
          35.251999999999995,
          35.495999999999995,
          35.739999999999995,
          35.984,
          36.228,
          36.472,
          36.716,
          36.96,
          37.204,
          37.448,
          37.692,
          37.936,
          38.18,
          38.424,
          38.668,
          38.912,
          39.156,
          39.4,
          39.644,
          39.888000000000005,
          40.132000000000005,
          40.376000000000005,
          40.620000000000005,
          40.864000000000004,
          41.108000000000004,
          41.352000000000004,
          41.596000000000004,
          41.84,
          42.084,
          42.328,
          42.572,
          42.816,
          43.06,
          43.304,
          43.548,
          43.792,
          44.036,
          44.28,
          44.524,
          44.768,
          45.012,
          45.256,
          45.5,
          45.744,
          45.988,
          46.232,
          46.476,
          46.72,
          46.964,
          47.208,
          47.452,
          47.696,
          47.94,
          48.184,
          48.428,
          48.672,
          48.916,
          49.16,
          49.404,
          49.648,
          49.892,
          50.136,
          50.38,
          50.624,
          50.868,
          51.112,
          51.356,
          51.6,
          51.844,
          52.088,
          52.332,
          52.576,
          52.82,
          53.064,
          53.308,
          53.552,
          53.796,
          54.04,
          54.284,
          54.528,
          54.772,
          55.016,
          55.26,
          55.504,
          55.748,
          55.992,
          56.236,
          56.48,
          56.724,
          56.968,
          57.212,
          57.456,
          57.7,
          57.944,
          58.188,
          58.432,
          58.676,
          58.92,
          59.164,
          59.408,
          59.652,
          59.896,
          60.14,
          60.384,
          60.628,
          60.872,
          61.116,
          61.36,
          61.604,
          61.848,
          62.092,
          62.336,
          62.58,
          62.824,
          63.068,
          63.312,
          63.556,
          63.8,
          64.044,
          64.288,
          64.532,
          64.77600000000001,
          65.02000000000001,
          65.26400000000001,
          65.50800000000001,
          65.75200000000001,
          65.99600000000001,
          66.24000000000001,
          66.48400000000001,
          66.72800000000001,
          66.97200000000001,
          67.21600000000001,
          67.46000000000001,
          67.70400000000001,
          67.94800000000001,
          68.19200000000001,
          68.436,
          68.68,
          68.924,
          69.168,
          69.412,
          69.656,
          69.9,
          70.144,
          70.388,
          70.632,
          70.876,
          71.12,
          71.364,
          71.608,
          71.852,
          72.096,
          72.34,
          72.584,
          72.828,
          73.072,
          73.316,
          73.56,
          73.804,
          74.048,
          74.292,
          74.536,
          74.78,
          75.024,
          75.268,
          75.512,
          75.756,
          76,
          76.244,
          76.488,
          76.732,
          76.976,
          77.22,
          77.464,
          77.708,
          77.952,
          78.196,
          78.44,
          78.684,
          78.928,
          79.172,
          79.416,
          79.66,
          79.904,
          80.148,
          80.392,
          80.636,
          80.88,
          81.124,
          81.368,
          81.612,
          81.856,
          82.1,
          82.344,
          82.588,
          82.832,
          83.076,
          83.32,
          83.564,
          83.808,
          84.052,
          84.296,
          84.54,
          84.784,
          85.028,
          85.272,
          85.516,
          85.76,
          86.004,
          86.248,
          86.492,
          86.736,
          86.98,
          87.224,
          87.468,
          87.712,
          87.956,
          88.2,
          88.444,
          88.688,
          88.932,
          89.176,
          89.42,
          89.664,
          89.908,
          90.152,
          90.396,
          90.64,
          90.884,
          91.128,
          91.372,
          91.616,
          91.86,
          92.104,
          92.348,
          92.592,
          92.836,
          93.08,
          93.324,
          93.568,
          93.812,
          94.056,
          94.3,
          94.544,
          94.788,
          95.032,
          95.276,
          95.52,
          95.764,
          96.008,
          96.252,
          96.496,
          96.74,
          96.984,
          97.228,
          97.472,
          97.716,
          97.96,
          98.204,
          98.448,
          98.692,
          98.936,
          99.18,
          99.424,
          99.668,
          99.912,
          100.156,
          100.4,
          100.644,
          100.888,
          101.132,
          101.376,
          101.62,
          101.864,
          102.108,
          102.352,
          102.596,
          102.84,
          103.084,
          103.328,
          103.572,
          103.816,
          104.06,
          104.304,
          104.548,
          104.792,
          105.036,
          105.28,
          105.524,
          105.768,
          106.012,
          106.256,
          106.5,
          106.744,
          106.988,
          107.232,
          107.476,
          107.72,
          107.964,
          108.208,
          108.452,
          108.696,
          108.94,
          109.184,
          109.428,
          109.672,
          109.916,
          110.16,
          110.404,
          110.648,
          110.892,
          111.136,
          111.38,
          111.624,
          111.868,
          112.112,
          112.356,
          112.6,
          112.844,
          113.088,
          113.332,
          113.576,
          113.82,
          114.064,
          114.308,
          114.552,
          114.796,
          115.04,
          115.284,
          115.528,
          115.772,
          116.016,
          116.26,
          116.504,
          116.748,
          116.992,
          117.236,
          117.48,
          117.724,
          117.968,
          118.212,
          118.456,
          118.7,
          118.944,
          119.188,
          119.432,
          119.676,
          119.92,
          120.164,
          120.408,
          120.652,
          120.896,
          121.14,
          121.384,
          121.628,
          121.872,
          122.116,
          122.36,
          122.604,
          122.848,
          123.092,
          123.336,
          123.58,
          123.824,
          124.068,
          124.312,
          124.556,
          124.8,
          125.044,
          125.288,
          125.532,
          125.776,
          126.02,
          126.264,
          126.508,
          126.752,
          126.996,
          127.24,
          127.484,
          127.728,
          127.972,
          128.216,
          128.45999999999998,
          128.704,
          128.94799999999998,
          129.192,
          129.436,
          129.68,
          129.924,
          130.168,
          130.412,
          130.656,
          130.9,
          131.144,
          131.388,
          131.632,
          131.876,
          132.12,
          132.364,
          132.608,
          132.852,
          133.096,
          133.34,
          133.584,
          133.828,
          134.072,
          134.316,
          134.56,
          134.804,
          135.048,
          135.292,
          135.536,
          135.78,
          136.024,
          136.268,
          136.512,
          136.756
         ],
         "xaxis": "x",
         "y": [
          0.004869645137878479,
          0.0049439468540754565,
          0.005017678425797133,
          0.005090796307029167,
          0.005163258033047381,
          0.005235022316177493,
          0.0053060491397252324,
          0.005376299849794931,
          0.00544573724471732,
          0.005514325661812084,
          0.005582031061215201,
          0.005648821106508058,
          0.0057146652418919065,
          0.0057795347656595655,
          0.0058434028997254,
          0.00590624485498456,
          0.005968037892283268,
          0.006028761378793749,
          0.006088396839599902,
          0.006146928004313281,
          0.006204340848552792,
          0.006260623630136436,
          0.00631576691984883,
          0.006369763626664104,
          0.006422609017320462,
          0.006474300730159419,
          0.006524838783160492,
          0.006574225576119486,
          0.00662246588693682,
          0.0066695668620005265,
          0.006715538000666805,
          0.006760391133859889,
          0.0068041403968308435,
          0.006846802196134231,
          0.006888395170898934,
          0.0069289401484884236,
          0.006968460094663093,
          0.007006980058374932,
          0.0070445271113421535,
          0.007081130282567795,
          0.007116820487982609,
          0.007151630455408179,
          0.00718559464505094,
          0.007218749165752171,
          0.007251131687232238,
          0.00728278134858041,
          0.0073137386632527905,
          0.007344045420852275,
          0.007373744585973911,
          0.007402880194408435,
          0.0074314972470041945,
          0.007459641601494813,
          0.007487359862605498,
          0.007514699270755875,
          0.007541707589680394,
          0.007568432993289865,
          0.007594923952099345,
          0.007621229119546942,
          0.007647397218527909,
          0.007673476928465576,
          0.007699516773237831,
          0.007725565010273194,
          0.007751669521125179,
          0.00777787770382689,
          0.007804236367320424,
          0.007830791628246818,
          0.0078575888103729,
          0.007884672346920476,
          0.007912085686052431,
          0.00793987119975754,
          0.007968070096363009,
          0.007996722336889864,
          0.008025866555452075,
          0.008055539983884665,
          0.008085778380770996,
          0.008116615965023105,
          0.008148085354152044,
          0.008180217507348934,
          0.008213041673479365,
          0.008246585344077441,
          0.008280874211406898,
          0.008315932131640351,
          0.008351781093189006,
          0.008388441190198302,
          0.008425930601207192,
          0.008464265572951468,
          0.008503460409274763,
          0.008543527465093976,
          0.008584477145350006,
          0.008626317908858355,
          0.008669056276959691,
          0.008712696846854873,
          0.008757242309495941,
          0.00880269347189029,
          0.008849049283663323,
          0.008896306867713031,
          0.00894446155477821,
          0.00899350692173333,
          0.009043434833411941,
          0.009094235487754095,
          0.0091458974640645,
          0.009198407774162065,
          0.009251751916196517,
          0.009305913930902486,
          0.009360876460058497,
          0.00941662080691552,
          0.009473126998358403,
          0.00953037384856268,
          0.009588339023909532,
          0.009646999108923639,
          0.009706329672999805,
          0.00976630533768826,
          0.009826899844312094,
          0.00988808612169498,
          0.009949836353783019,
          0.010012122046950888,
          0.010074914096789154,
          0.010138182854177646,
          0.010201898190457786,
          0.010266029561525503,
          0.010330546070675623,
          0.010395416530038802,
          0.010460609520461432,
          0.010526093449689883,
          0.01059183660873117,
          0.010657807226272645,
          0.010723973521055023,
          0.010790303752103441,
          0.01085676626673338,
          0.010923329546258662,
          0.010989962249340592,
          0.011056633252927803,
          0.011123311690747621,
          0.011189966989320364,
          0.011256568901478275,
          0.011323087537381085,
          0.011389493393029975,
          0.011455757376290987,
          0.011521850830448146,
          0.011587745555314952,
          0.011653413825941311,
          0.011718828408960134,
          0.011783962576625605,
          0.011848790118601087,
          0.01191328535156122,
          0.01197742312667815,
          0.012041178835066634,
          0.012104528411267631,
          0.01216744833485353,
          0.012229915630241745,
          0.012291907864806334,
          0.012353403145379268,
          0.012414380113235198,
          0.01247481793765487,
          0.012534696308162662,
          0.012593995425535054,
          0.012652695991675884,
          0.012710779198454604,
          0.012768226715602272,
          0.012825020677759525,
          0.012881143670768872,
          0.012936578717301842,
          0.012991309261909962,
          0.01304531915558571,
          0.013098592639917707,
          0.013151114330920945,
          0.013202869202620997,
          0.013253842570467685,
          0.013304020074650442,
          0.013353387663385214,
          0.01340193157623909,
          0.013449638327555488,
          0.013496494690040493,
          0.013542487678566454,
          0.013587604534247065,
          0.013631832708834168,
          0.013675159849484067,
          0.013717573783937854,
          0.013759062506157401,
          0.01379961416245633,
          0.013839217038161749,
          0.013877859544840774,
          0.01391553020812291,
          0.013952217656147072,
          0.013987910608659842,
          0.014022597866788966,
          0.014056268303514868,
          0.014088910854859605,
          0.014120514511812265,
          0.014151068313006582,
          0.014180561338165787,
          0.014208982702327242,
          0.014236321550858272,
          0.01426256705527239,
          0.014287708409854171,
          0.014311734829098642,
          0.014334635545970358,
          0.01435639981098466,
          0.014377016892113263,
          0.014396476075513684,
          0.014414766667080851,
          0.014431877994817637,
          0.014447799412019431,
          0.01446252030126557,
          0.014476030079209817,
          0.014488318202159154,
          0.014499374172429193,
          0.014509187545462234,
          0.014517747937692413,
          0.014525045035140226,
          0.014531068602717148,
          0.014535808494218885,
          0.014539254662984013,
          0.01454139717319282,
          0.014542226211779401,
          0.014541732100927861,
          0.014539905311122071,
          0.014536736474716386,
          0.014532216399992973,
          0.01452633608566991,
          0.014519086735822579,
          0.01451045977517941,
          0.01450044686475155,
          0.014489039917754975,
          0.014476231115782407,
          0.014462012925181272,
          0.014446378113593356,
          0.014429319766610875,
          0.01441083130450357,
          0.014390906498970596,
          0.014369539489871401,
          0.01434672480188946,
          0.014322457361083094,
          0.014296732511278035,
          0.014269546030256965,
          0.014240894145702251,
          0.014210773550848802,
          0.014179181419805295,
          0.014146115422503462,
          0.014111573739236523,
          0.014075555074749375,
          0.014038058671845417,
          0.013999084324476307,
          0.013958632390283417,
          0.013916703802561756,
          0.013873300081619536,
          0.013828423345508635,
          0.013782076320104168,
          0.01373426234851319,
          0.013684985399795723,
          0.013634250076983162,
          0.013582061624382162,
          0.013528425934154336,
          0.013473349552164577,
          0.013416839683093228,
          0.013358904194809578,
          0.013299551622006661,
          0.013238791169099066,
          0.013176632712387792,
          0.013113086801498088,
          0.013048164660097781,
          0.012981878185905297,
          0.012914239949998303,
          0.012845263195434635,
          0.012774961835199043,
          0.012703350449489538,
          0.012630444282358589,
          0.012556259237724377,
          0.01248081187476852,
          0.012404119402736212,
          0.012326199675155585,
          0.012247071183492438,
          0.012166753050256777,
          0.012085265021576978,
          0.012002627459257318,
          0.01191886133233351,
          0.011833988208140743,
          0.011748030242907737,
          0.011661010171889278,
          0.01157295129904937,
          0.01148387748630532,
          0.01139381314234305,
          0.011302783211011946,
          0.011210813159307406,
          0.011117928964947425,
          0.011024157103549244,
          0.010929524535410677,
          0.010834058691899944,
          0.01073778746145712,
          0.010640739175209347,
          0.01054294259220146,
          0.01044442688424293,
          0.010345221620371681,
          0.01024535675093495,
          0.010144862591287104,
          0.010043769805104246,
          0.009942109387315557,
          0.009839912646651319,
          0.009737211187808034,
          0.009634036893231473,
          0.00953042190451908,
          0.009426398603443766,
          0.009321999592602232,
          0.009217257675691776,
          0.009112205837420567,
          0.00900687722305793,
          0.008901305117632086,
          0.008795522924784615,
          0.00868956414529209,
          0.008583462355267182,
          0.008477251184053035,
          0.00837096429182641,
          0.008264635346927002,
          0.0081582980029318,
          0.008051985875495491,
          0.007945732518979412,
          0.007839571402893425,
          0.007733535888176771,
          0.007627659203345778,
          0.007521974420537714,
          0.007416514431481854,
          0.007311311923430133,
          0.007206399355081323,
          0.00710180893253379,
          0.006997572585303231,
          0.006893721942442716,
          0.006790288308803342,
          0.006687302641474636,
          0.0065847955264444185,
          0.006482797155518335,
          0.006381337303539727,
          0.006280445305950497,
          0.006180150036733832,
          0.0060804798867794135,
          0.0059814627427114365,
          0.005883125966219384,
          0.005785496373930719,
          0.0056886002178640595,
          0.005592463166500342,
          0.005497110286508381,
          0.005402566025160085,
          0.005308854193469108,
          0.005215997950085254,
          0.005124019785975314,
          0.005032941509919182,
          0.004942784234848346,
          0.00485356836505162,
          0.004765313584271274,
          0.00467803884471012,
          0.004591762356968231,
          0.00450650158092538,
          0.0044222732175830965,
          0.004339093201877693,
          0.004256976696473202,
          0.004175938086540632,
          0.00409599097552748,
          0.004017148181918867,
          0.003939421736989134,
          0.0038628228835402576,
          0.0037873620756209057,
          0.0037130489792174446,
          0.0036398924739058907,
          0.00356790065545124,
          0.003497080839338412,
          0.0034274395652166365,
          0.003358982602237004,
          0.0032917149552606777,
          0.0032256408719132453,
          0.003160763850458705,
          0.003097086648464711,
          0.0030346112922289012,
          0.0029733390869344976,
          0.002913270627501766,
          0.0028544058101004984,
          0.0027967438442873566,
          0.0027402832657306767,
          0.002685021949484315,
          0.0026309571237710825,
          0.002578085384235586,
          0.0025264027086255533,
          0.0024759044718601544,
          0.0024265854614435134,
          0.002378439893181219,
          0.0023314614271575905,
          0.0022856431839314187,
          0.0022409777609080825,
          0.0021974572488461875,
          0.002155073248457334,
          0.002113816887058161,
          0.0020736788352344947,
          0.00203464932347831,
          0.001996718158759094,
          0.0019598747409923594,
          0.0019241080793692068,
          0.0018894068085122061,
          0.0018557592044242763,
          0.001823153200198825,
          0.0017915764014610435,
          0.0017610161015120564,
          0.001731459296149403,
          0.0017028926981393737,
          0.0016753027513186625,
          0.0016486756443049374,
          0.001622997323798095,
          0.0015982535074561773,
          0.0015744296963322263,
          0.0015515111868606535,
          0.0015294830823840665,
          0.0015083303042138826,
          0.0014880376022204322,
          0.0014685895649506914,
          0.0014499706292741689,
          0.001432165089559851,
          0.0014151571063895077,
          0.001398930714814975,
          0.0013834698321693456,
          0.0013687582654442231,
          0.0013547797182474136,
          0.0013415177973575138,
          0.0013289560188939158,
          0.0013170778141226827,
          0.0013058665349206067,
          0.0012953054589215152,
          0.0012853777943704896,
          0.0012760666847132175,
          0.0012673552129490286,
          0.001259226405777432,
          0.001251663237569056,
          0.0012446486341928398,
          0.0012381654767321042,
          0.0012321966051227673,
          0.0012267248217474156,
          0.0012217328950192353,
          0.0012172035629899297,
          0.0012131195370156732,
          0.0012094635055149318,
          0.0012062181378515494,
          0.0012033660883759097,
          0.0012008900006562169,
          0.001198772511930973,
          0.0011969962578126279,
          0.0011955438772710593,
          0.001194398017924102,
          0.0011935413416606976,
          0.0011929565306204812,
          0.0011926262935516563,
          0.001192533372566966,
          0.0011926605503153364,
          0.0011929906575844312,
          0.0011935065813469103,
          0.0011941912732606052,
          0.0011950277586301819,
          0.001195999145835087,
          0.0011970886362257815,
          0.00119827953448736,
          0.0011995552594667302,
          0.0012008993554565581,
          0.0012022955039261965,
          0.001203727535686813,
          0.001205179443474939,
          0.0012066353949357045,
          0.001208079745984061,
          0.00120949705451944,
          0.0012108720944664446,
          0.0012121898701114378,
          0.0012134356307022486,
          0.0012145948852756556,
          0.0012156534176748911,
          0.001216597301717123,
          0.0012174129164687177,
          0.0012180869615841068,
          0.0012186064726622688,
          0.0012189588365731964,
          0.0012191318067052816,
          0.0012191135180833197,
          0.0012188925023057858,
          0.0012184577022492445,
          0.0012177984864871507,
          0.0012169046633699562,
          0.0012157664947133047,
          0.001214374709041218,
          0.0012127205143315414,
          0.0012107956102115,
          0.0012085921995520828,
          0.0012061029994110393,
          0.0012033212512755998,
          0.0012002407305576018,
          0.0011968557552954758,
          0.001193161194019582,
          0.0011891524727396007,
          0.001184825581015141,
          0.0011801770770733645,
          0.0011752040919402612,
          0.0011699043325552206,
          0.0011642760838417301,
          0.001158318209710349,
          0.0011520301529735911,
          0.001145411934155931,
          0.0011384641491858543,
          0.0011311879659606646
         ],
         "yaxis": "y"
        },
        {
         "legendgroup": "Female",
         "marker": {
          "color": "#FF69B4",
          "symbol": "line-ns-open"
         },
         "mode": "markers",
         "name": "Female",
         "showlegend": false,
         "type": "scatter",
         "x": [
          16,
          16,
          17,
          17,
          18,
          18,
          19,
          19,
          20,
          20,
          21,
          23,
          25,
          28,
          28,
          29,
          29,
          30,
          33,
          33,
          34,
          34,
          37,
          37,
          38,
          39,
          39,
          39,
          40,
          40,
          40,
          40,
          42,
          43,
          43,
          44,
          46,
          47,
          47,
          48,
          48,
          48,
          49,
          50,
          50,
          54,
          54,
          54,
          54,
          54,
          57,
          57,
          58,
          58,
          59,
          60,
          60,
          60,
          60,
          62,
          62,
          62,
          63,
          63,
          64,
          65,
          65,
          65,
          65,
          67,
          67,
          67,
          69,
          70,
          70,
          72,
          72,
          73,
          73,
          74,
          75,
          76,
          76,
          77,
          78,
          78,
          78,
          78,
          78,
          78,
          78,
          79,
          79,
          81,
          85,
          86,
          87,
          88,
          88,
          97,
          97,
          98,
          99,
          101,
          103,
          103,
          103,
          103,
          113,
          120,
          120,
          126
         ],
         "xaxis": "x",
         "y": [
          "Female",
          "Female",
          "Female",
          "Female",
          "Female",
          "Female",
          "Female",
          "Female",
          "Female",
          "Female",
          "Female",
          "Female",
          "Female",
          "Female",
          "Female",
          "Female",
          "Female",
          "Female",
          "Female",
          "Female",
          "Female",
          "Female",
          "Female",
          "Female",
          "Female",
          "Female",
          "Female",
          "Female",
          "Female",
          "Female",
          "Female",
          "Female",
          "Female",
          "Female",
          "Female",
          "Female",
          "Female",
          "Female",
          "Female",
          "Female",
          "Female",
          "Female",
          "Female",
          "Female",
          "Female",
          "Female",
          "Female",
          "Female",
          "Female",
          "Female",
          "Female",
          "Female",
          "Female",
          "Female",
          "Female",
          "Female",
          "Female",
          "Female",
          "Female",
          "Female",
          "Female",
          "Female",
          "Female",
          "Female",
          "Female",
          "Female",
          "Female",
          "Female",
          "Female",
          "Female",
          "Female",
          "Female",
          "Female",
          "Female",
          "Female",
          "Female",
          "Female",
          "Female",
          "Female",
          "Female",
          "Female",
          "Female",
          "Female",
          "Female",
          "Female",
          "Female",
          "Female",
          "Female",
          "Female",
          "Female",
          "Female",
          "Female",
          "Female",
          "Female",
          "Female",
          "Female",
          "Female",
          "Female",
          "Female",
          "Female",
          "Female",
          "Female",
          "Female",
          "Female",
          "Female",
          "Female",
          "Female",
          "Female",
          "Female",
          "Female",
          "Female",
          "Female"
         ],
         "yaxis": "y2"
        },
        {
         "legendgroup": "Male",
         "marker": {
          "color": "#1E90FF",
          "symbol": "line-ns-open"
         },
         "mode": "markers",
         "name": "Male",
         "showlegend": false,
         "type": "scatter",
         "x": [
          15,
          15,
          19,
          19,
          20,
          20,
          21,
          23,
          24,
          24,
          25,
          28,
          28,
          30,
          33,
          33,
          38,
          39,
          42,
          43,
          43,
          44,
          46,
          46,
          46,
          48,
          48,
          48,
          49,
          54,
          54,
          54,
          54,
          54,
          54,
          54,
          59,
          60,
          60,
          61,
          61,
          62,
          62,
          62,
          63,
          63,
          63,
          63,
          64,
          67,
          69,
          71,
          71,
          71,
          71,
          71,
          71,
          73,
          73,
          74,
          75,
          77,
          77,
          77,
          78,
          78,
          78,
          78,
          78,
          81,
          85,
          86,
          87,
          87,
          87,
          87,
          87,
          88,
          88,
          93,
          93,
          98,
          99,
          101,
          113,
          126,
          137,
          137
         ],
         "xaxis": "x",
         "y": [
          "Male",
          "Male",
          "Male",
          "Male",
          "Male",
          "Male",
          "Male",
          "Male",
          "Male",
          "Male",
          "Male",
          "Male",
          "Male",
          "Male",
          "Male",
          "Male",
          "Male",
          "Male",
          "Male",
          "Male",
          "Male",
          "Male",
          "Male",
          "Male",
          "Male",
          "Male",
          "Male",
          "Male",
          "Male",
          "Male",
          "Male",
          "Male",
          "Male",
          "Male",
          "Male",
          "Male",
          "Male",
          "Male",
          "Male",
          "Male",
          "Male",
          "Male",
          "Male",
          "Male",
          "Male",
          "Male",
          "Male",
          "Male",
          "Male",
          "Male",
          "Male",
          "Male",
          "Male",
          "Male",
          "Male",
          "Male",
          "Male",
          "Male",
          "Male",
          "Male",
          "Male",
          "Male",
          "Male",
          "Male",
          "Male",
          "Male",
          "Male",
          "Male",
          "Male",
          "Male",
          "Male",
          "Male",
          "Male",
          "Male",
          "Male",
          "Male",
          "Male",
          "Male",
          "Male",
          "Male",
          "Male",
          "Male",
          "Male",
          "Male",
          "Male",
          "Male",
          "Male",
          "Male"
         ],
         "yaxis": "y2"
        }
       ],
       "layout": {
        "barmode": "overlay",
        "hovermode": "closest",
        "legend": {
         "traceorder": "reversed"
        },
        "template": {
         "data": {
          "bar": [
           {
            "error_x": {
             "color": "#2a3f5f"
            },
            "error_y": {
             "color": "#2a3f5f"
            },
            "marker": {
             "line": {
              "color": "#E5ECF6",
              "width": 0.5
             },
             "pattern": {
              "fillmode": "overlay",
              "size": 10,
              "solidity": 0.2
             }
            },
            "type": "bar"
           }
          ],
          "barpolar": [
           {
            "marker": {
             "line": {
              "color": "#E5ECF6",
              "width": 0.5
             },
             "pattern": {
              "fillmode": "overlay",
              "size": 10,
              "solidity": 0.2
             }
            },
            "type": "barpolar"
           }
          ],
          "carpet": [
           {
            "aaxis": {
             "endlinecolor": "#2a3f5f",
             "gridcolor": "white",
             "linecolor": "white",
             "minorgridcolor": "white",
             "startlinecolor": "#2a3f5f"
            },
            "baxis": {
             "endlinecolor": "#2a3f5f",
             "gridcolor": "white",
             "linecolor": "white",
             "minorgridcolor": "white",
             "startlinecolor": "#2a3f5f"
            },
            "type": "carpet"
           }
          ],
          "choropleth": [
           {
            "colorbar": {
             "outlinewidth": 0,
             "ticks": ""
            },
            "type": "choropleth"
           }
          ],
          "contour": [
           {
            "colorbar": {
             "outlinewidth": 0,
             "ticks": ""
            },
            "colorscale": [
             [
              0,
              "#0d0887"
             ],
             [
              0.1111111111111111,
              "#46039f"
             ],
             [
              0.2222222222222222,
              "#7201a8"
             ],
             [
              0.3333333333333333,
              "#9c179e"
             ],
             [
              0.4444444444444444,
              "#bd3786"
             ],
             [
              0.5555555555555556,
              "#d8576b"
             ],
             [
              0.6666666666666666,
              "#ed7953"
             ],
             [
              0.7777777777777778,
              "#fb9f3a"
             ],
             [
              0.8888888888888888,
              "#fdca26"
             ],
             [
              1,
              "#f0f921"
             ]
            ],
            "type": "contour"
           }
          ],
          "contourcarpet": [
           {
            "colorbar": {
             "outlinewidth": 0,
             "ticks": ""
            },
            "type": "contourcarpet"
           }
          ],
          "heatmap": [
           {
            "colorbar": {
             "outlinewidth": 0,
             "ticks": ""
            },
            "colorscale": [
             [
              0,
              "#0d0887"
             ],
             [
              0.1111111111111111,
              "#46039f"
             ],
             [
              0.2222222222222222,
              "#7201a8"
             ],
             [
              0.3333333333333333,
              "#9c179e"
             ],
             [
              0.4444444444444444,
              "#bd3786"
             ],
             [
              0.5555555555555556,
              "#d8576b"
             ],
             [
              0.6666666666666666,
              "#ed7953"
             ],
             [
              0.7777777777777778,
              "#fb9f3a"
             ],
             [
              0.8888888888888888,
              "#fdca26"
             ],
             [
              1,
              "#f0f921"
             ]
            ],
            "type": "heatmap"
           }
          ],
          "heatmapgl": [
           {
            "colorbar": {
             "outlinewidth": 0,
             "ticks": ""
            },
            "colorscale": [
             [
              0,
              "#0d0887"
             ],
             [
              0.1111111111111111,
              "#46039f"
             ],
             [
              0.2222222222222222,
              "#7201a8"
             ],
             [
              0.3333333333333333,
              "#9c179e"
             ],
             [
              0.4444444444444444,
              "#bd3786"
             ],
             [
              0.5555555555555556,
              "#d8576b"
             ],
             [
              0.6666666666666666,
              "#ed7953"
             ],
             [
              0.7777777777777778,
              "#fb9f3a"
             ],
             [
              0.8888888888888888,
              "#fdca26"
             ],
             [
              1,
              "#f0f921"
             ]
            ],
            "type": "heatmapgl"
           }
          ],
          "histogram": [
           {
            "marker": {
             "pattern": {
              "fillmode": "overlay",
              "size": 10,
              "solidity": 0.2
             }
            },
            "type": "histogram"
           }
          ],
          "histogram2d": [
           {
            "colorbar": {
             "outlinewidth": 0,
             "ticks": ""
            },
            "colorscale": [
             [
              0,
              "#0d0887"
             ],
             [
              0.1111111111111111,
              "#46039f"
             ],
             [
              0.2222222222222222,
              "#7201a8"
             ],
             [
              0.3333333333333333,
              "#9c179e"
             ],
             [
              0.4444444444444444,
              "#bd3786"
             ],
             [
              0.5555555555555556,
              "#d8576b"
             ],
             [
              0.6666666666666666,
              "#ed7953"
             ],
             [
              0.7777777777777778,
              "#fb9f3a"
             ],
             [
              0.8888888888888888,
              "#fdca26"
             ],
             [
              1,
              "#f0f921"
             ]
            ],
            "type": "histogram2d"
           }
          ],
          "histogram2dcontour": [
           {
            "colorbar": {
             "outlinewidth": 0,
             "ticks": ""
            },
            "colorscale": [
             [
              0,
              "#0d0887"
             ],
             [
              0.1111111111111111,
              "#46039f"
             ],
             [
              0.2222222222222222,
              "#7201a8"
             ],
             [
              0.3333333333333333,
              "#9c179e"
             ],
             [
              0.4444444444444444,
              "#bd3786"
             ],
             [
              0.5555555555555556,
              "#d8576b"
             ],
             [
              0.6666666666666666,
              "#ed7953"
             ],
             [
              0.7777777777777778,
              "#fb9f3a"
             ],
             [
              0.8888888888888888,
              "#fdca26"
             ],
             [
              1,
              "#f0f921"
             ]
            ],
            "type": "histogram2dcontour"
           }
          ],
          "mesh3d": [
           {
            "colorbar": {
             "outlinewidth": 0,
             "ticks": ""
            },
            "type": "mesh3d"
           }
          ],
          "parcoords": [
           {
            "line": {
             "colorbar": {
              "outlinewidth": 0,
              "ticks": ""
             }
            },
            "type": "parcoords"
           }
          ],
          "pie": [
           {
            "automargin": true,
            "type": "pie"
           }
          ],
          "scatter": [
           {
            "fillpattern": {
             "fillmode": "overlay",
             "size": 10,
             "solidity": 0.2
            },
            "type": "scatter"
           }
          ],
          "scatter3d": [
           {
            "line": {
             "colorbar": {
              "outlinewidth": 0,
              "ticks": ""
             }
            },
            "marker": {
             "colorbar": {
              "outlinewidth": 0,
              "ticks": ""
             }
            },
            "type": "scatter3d"
           }
          ],
          "scattercarpet": [
           {
            "marker": {
             "colorbar": {
              "outlinewidth": 0,
              "ticks": ""
             }
            },
            "type": "scattercarpet"
           }
          ],
          "scattergeo": [
           {
            "marker": {
             "colorbar": {
              "outlinewidth": 0,
              "ticks": ""
             }
            },
            "type": "scattergeo"
           }
          ],
          "scattergl": [
           {
            "marker": {
             "colorbar": {
              "outlinewidth": 0,
              "ticks": ""
             }
            },
            "type": "scattergl"
           }
          ],
          "scattermapbox": [
           {
            "marker": {
             "colorbar": {
              "outlinewidth": 0,
              "ticks": ""
             }
            },
            "type": "scattermapbox"
           }
          ],
          "scatterpolar": [
           {
            "marker": {
             "colorbar": {
              "outlinewidth": 0,
              "ticks": ""
             }
            },
            "type": "scatterpolar"
           }
          ],
          "scatterpolargl": [
           {
            "marker": {
             "colorbar": {
              "outlinewidth": 0,
              "ticks": ""
             }
            },
            "type": "scatterpolargl"
           }
          ],
          "scatterternary": [
           {
            "marker": {
             "colorbar": {
              "outlinewidth": 0,
              "ticks": ""
             }
            },
            "type": "scatterternary"
           }
          ],
          "surface": [
           {
            "colorbar": {
             "outlinewidth": 0,
             "ticks": ""
            },
            "colorscale": [
             [
              0,
              "#0d0887"
             ],
             [
              0.1111111111111111,
              "#46039f"
             ],
             [
              0.2222222222222222,
              "#7201a8"
             ],
             [
              0.3333333333333333,
              "#9c179e"
             ],
             [
              0.4444444444444444,
              "#bd3786"
             ],
             [
              0.5555555555555556,
              "#d8576b"
             ],
             [
              0.6666666666666666,
              "#ed7953"
             ],
             [
              0.7777777777777778,
              "#fb9f3a"
             ],
             [
              0.8888888888888888,
              "#fdca26"
             ],
             [
              1,
              "#f0f921"
             ]
            ],
            "type": "surface"
           }
          ],
          "table": [
           {
            "cells": {
             "fill": {
              "color": "#EBF0F8"
             },
             "line": {
              "color": "white"
             }
            },
            "header": {
             "fill": {
              "color": "#C8D4E3"
             },
             "line": {
              "color": "white"
             }
            },
            "type": "table"
           }
          ]
         },
         "layout": {
          "annotationdefaults": {
           "arrowcolor": "#2a3f5f",
           "arrowhead": 0,
           "arrowwidth": 1
          },
          "autotypenumbers": "strict",
          "coloraxis": {
           "colorbar": {
            "outlinewidth": 0,
            "ticks": ""
           }
          },
          "colorscale": {
           "diverging": [
            [
             0,
             "#8e0152"
            ],
            [
             0.1,
             "#c51b7d"
            ],
            [
             0.2,
             "#de77ae"
            ],
            [
             0.3,
             "#f1b6da"
            ],
            [
             0.4,
             "#fde0ef"
            ],
            [
             0.5,
             "#f7f7f7"
            ],
            [
             0.6,
             "#e6f5d0"
            ],
            [
             0.7,
             "#b8e186"
            ],
            [
             0.8,
             "#7fbc41"
            ],
            [
             0.9,
             "#4d9221"
            ],
            [
             1,
             "#276419"
            ]
           ],
           "sequential": [
            [
             0,
             "#0d0887"
            ],
            [
             0.1111111111111111,
             "#46039f"
            ],
            [
             0.2222222222222222,
             "#7201a8"
            ],
            [
             0.3333333333333333,
             "#9c179e"
            ],
            [
             0.4444444444444444,
             "#bd3786"
            ],
            [
             0.5555555555555556,
             "#d8576b"
            ],
            [
             0.6666666666666666,
             "#ed7953"
            ],
            [
             0.7777777777777778,
             "#fb9f3a"
            ],
            [
             0.8888888888888888,
             "#fdca26"
            ],
            [
             1,
             "#f0f921"
            ]
           ],
           "sequentialminus": [
            [
             0,
             "#0d0887"
            ],
            [
             0.1111111111111111,
             "#46039f"
            ],
            [
             0.2222222222222222,
             "#7201a8"
            ],
            [
             0.3333333333333333,
             "#9c179e"
            ],
            [
             0.4444444444444444,
             "#bd3786"
            ],
            [
             0.5555555555555556,
             "#d8576b"
            ],
            [
             0.6666666666666666,
             "#ed7953"
            ],
            [
             0.7777777777777778,
             "#fb9f3a"
            ],
            [
             0.8888888888888888,
             "#fdca26"
            ],
            [
             1,
             "#f0f921"
            ]
           ]
          },
          "colorway": [
           "#636efa",
           "#EF553B",
           "#00cc96",
           "#ab63fa",
           "#FFA15A",
           "#19d3f3",
           "#FF6692",
           "#B6E880",
           "#FF97FF",
           "#FECB52"
          ],
          "font": {
           "color": "#2a3f5f"
          },
          "geo": {
           "bgcolor": "white",
           "lakecolor": "white",
           "landcolor": "#E5ECF6",
           "showlakes": true,
           "showland": true,
           "subunitcolor": "white"
          },
          "hoverlabel": {
           "align": "left"
          },
          "hovermode": "closest",
          "mapbox": {
           "style": "light"
          },
          "paper_bgcolor": "white",
          "plot_bgcolor": "#E5ECF6",
          "polar": {
           "angularaxis": {
            "gridcolor": "white",
            "linecolor": "white",
            "ticks": ""
           },
           "bgcolor": "#E5ECF6",
           "radialaxis": {
            "gridcolor": "white",
            "linecolor": "white",
            "ticks": ""
           }
          },
          "scene": {
           "xaxis": {
            "backgroundcolor": "#E5ECF6",
            "gridcolor": "white",
            "gridwidth": 2,
            "linecolor": "white",
            "showbackground": true,
            "ticks": "",
            "zerolinecolor": "white"
           },
           "yaxis": {
            "backgroundcolor": "#E5ECF6",
            "gridcolor": "white",
            "gridwidth": 2,
            "linecolor": "white",
            "showbackground": true,
            "ticks": "",
            "zerolinecolor": "white"
           },
           "zaxis": {
            "backgroundcolor": "#E5ECF6",
            "gridcolor": "white",
            "gridwidth": 2,
            "linecolor": "white",
            "showbackground": true,
            "ticks": "",
            "zerolinecolor": "white"
           }
          },
          "shapedefaults": {
           "line": {
            "color": "#2a3f5f"
           }
          },
          "ternary": {
           "aaxis": {
            "gridcolor": "white",
            "linecolor": "white",
            "ticks": ""
           },
           "baxis": {
            "gridcolor": "white",
            "linecolor": "white",
            "ticks": ""
           },
           "bgcolor": "#E5ECF6",
           "caxis": {
            "gridcolor": "white",
            "linecolor": "white",
            "ticks": ""
           }
          },
          "title": {
           "x": 0.05
          },
          "xaxis": {
           "automargin": true,
           "gridcolor": "white",
           "linecolor": "white",
           "ticks": "",
           "title": {
            "standoff": 15
           },
           "zerolinecolor": "white",
           "zerolinewidth": 2
          },
          "yaxis": {
           "automargin": true,
           "gridcolor": "white",
           "linecolor": "white",
           "ticks": "",
           "title": {
            "standoff": 15
           },
           "zerolinecolor": "white",
           "zerolinewidth": 2
          }
         }
        },
        "title": {
         "text": "Gender vs Annual Income KDE"
        },
        "xaxis": {
         "anchor": "y2",
         "domain": [
          0,
          1
         ],
         "zeroline": false
        },
        "yaxis": {
         "anchor": "free",
         "domain": [
          0.35,
          1
         ],
         "position": 0
        },
        "yaxis2": {
         "anchor": "x",
         "domain": [
          0,
          0.25
         ],
         "dtick": 1,
         "showticklabels": false
        }
       }
      }
     },
     "metadata": {},
     "output_type": "display_data"
    },
    {
     "data": {
      "application/vnd.plotly.v1+json": {
       "config": {
        "plotlyServerURL": "https://plot.ly"
       },
       "data": [
        {
         "autobinx": false,
         "histnorm": "probability density",
         "legendgroup": "Female",
         "marker": {
          "color": "#FF69B4"
         },
         "name": "Female",
         "opacity": 0.7,
         "type": "histogram",
         "x": [
          6,
          77,
          40,
          76,
          6,
          94,
          72,
          99,
          15,
          77,
          35,
          98,
          5,
          14,
          32,
          31,
          87,
          73,
          14,
          81,
          17,
          73,
          26,
          75,
          35,
          61,
          28,
          65,
          55,
          47,
          42,
          42,
          52,
          54,
          45,
          50,
          51,
          52,
          59,
          50,
          48,
          47,
          42,
          49,
          56,
          53,
          52,
          42,
          44,
          57,
          58,
          55,
          60,
          46,
          55,
          40,
          42,
          47,
          50,
          41,
          48,
          42,
          50,
          54,
          42,
          48,
          50,
          43,
          59,
          43,
          57,
          40,
          58,
          29,
          77,
          34,
          71,
          88,
          7,
          72,
          5,
          40,
          87,
          74,
          22,
          20,
          76,
          16,
          89,
          78,
          73,
          35,
          83,
          93,
          75,
          95,
          27,
          13,
          86,
          32,
          86,
          88,
          39,
          24,
          17,
          85,
          23,
          69,
          91,
          16,
          79,
          28
         ],
         "xaxis": "x",
         "xbins": {
          "end": 99,
          "size": 3,
          "start": 5
         },
         "yaxis": "y"
        },
        {
         "autobinx": false,
         "histnorm": "probability density",
         "legendgroup": "Male",
         "marker": {
          "color": "#1E90FF"
         },
         "name": "Male",
         "opacity": 0.7,
         "type": "histogram",
         "x": [
          39,
          81,
          3,
          14,
          13,
          79,
          66,
          29,
          35,
          73,
          73,
          82,
          61,
          4,
          4,
          92,
          92,
          36,
          60,
          60,
          41,
          46,
          46,
          56,
          55,
          51,
          59,
          59,
          55,
          47,
          54,
          48,
          51,
          55,
          41,
          46,
          41,
          49,
          52,
          42,
          49,
          59,
          55,
          56,
          46,
          43,
          48,
          52,
          46,
          56,
          91,
          35,
          95,
          11,
          75,
          9,
          75,
          5,
          73,
          10,
          93,
          12,
          97,
          36,
          90,
          17,
          88,
          1,
          1,
          5,
          26,
          20,
          63,
          13,
          75,
          10,
          92,
          15,
          69,
          14,
          90,
          15,
          97,
          68,
          8,
          74,
          18,
          83
         ],
         "xaxis": "x",
         "xbins": {
          "end": 97,
          "size": 3,
          "start": 1
         },
         "yaxis": "y"
        },
        {
         "legendgroup": "Female",
         "marker": {
          "color": "#FF69B4"
         },
         "mode": "lines",
         "name": "Female",
         "showlegend": false,
         "type": "scatter",
         "x": [
          5,
          5.188,
          5.376,
          5.564,
          5.752,
          5.9399999999999995,
          6.128,
          6.316,
          6.504,
          6.692,
          6.88,
          7.068,
          7.256,
          7.444,
          7.632,
          7.82,
          8.008,
          8.196,
          8.384,
          8.572,
          8.76,
          8.948,
          9.136,
          9.324,
          9.512,
          9.7,
          9.888,
          10.076,
          10.264,
          10.452,
          10.64,
          10.828,
          11.016,
          11.204,
          11.392,
          11.58,
          11.768,
          11.956,
          12.144,
          12.332,
          12.52,
          12.708,
          12.896,
          13.084,
          13.272,
          13.46,
          13.648,
          13.836,
          14.024,
          14.212,
          14.4,
          14.588,
          14.776,
          14.964,
          15.152,
          15.34,
          15.528,
          15.716,
          15.904,
          16.092,
          16.28,
          16.468,
          16.656,
          16.844,
          17.032,
          17.22,
          17.408,
          17.596,
          17.784,
          17.972,
          18.16,
          18.348,
          18.536,
          18.724,
          18.912,
          19.1,
          19.288,
          19.476,
          19.664,
          19.852,
          20.04,
          20.228,
          20.416,
          20.604,
          20.792,
          20.98,
          21.168,
          21.356,
          21.544,
          21.732,
          21.92,
          22.108,
          22.296,
          22.484,
          22.672,
          22.86,
          23.048,
          23.236,
          23.424,
          23.612,
          23.8,
          23.988,
          24.176,
          24.364,
          24.552,
          24.74,
          24.928,
          25.116,
          25.304,
          25.492,
          25.68,
          25.868,
          26.056,
          26.244,
          26.432,
          26.62,
          26.808,
          26.996,
          27.184,
          27.372,
          27.56,
          27.748,
          27.936,
          28.124,
          28.312,
          28.5,
          28.688,
          28.876,
          29.064,
          29.252,
          29.44,
          29.628,
          29.816,
          30.004,
          30.192,
          30.38,
          30.568,
          30.756,
          30.944,
          31.132,
          31.32,
          31.508,
          31.696,
          31.884,
          32.072,
          32.260000000000005,
          32.448,
          32.635999999999996,
          32.824,
          33.012,
          33.2,
          33.388000000000005,
          33.576,
          33.763999999999996,
          33.952,
          34.14,
          34.328,
          34.516,
          34.704,
          34.891999999999996,
          35.08,
          35.268,
          35.456,
          35.644,
          35.832,
          36.019999999999996,
          36.208,
          36.396,
          36.584,
          36.772,
          36.96,
          37.148,
          37.336,
          37.524,
          37.712,
          37.9,
          38.088,
          38.276,
          38.464,
          38.652,
          38.84,
          39.028,
          39.216,
          39.404,
          39.592,
          39.78,
          39.968,
          40.156,
          40.344,
          40.532,
          40.72,
          40.908,
          41.096,
          41.284,
          41.472,
          41.66,
          41.848,
          42.036,
          42.224,
          42.412,
          42.6,
          42.788,
          42.976,
          43.164,
          43.352,
          43.54,
          43.728,
          43.916,
          44.104,
          44.292,
          44.48,
          44.668,
          44.856,
          45.044,
          45.232,
          45.42,
          45.608,
          45.796,
          45.984,
          46.172,
          46.36,
          46.548,
          46.736,
          46.924,
          47.112,
          47.3,
          47.488,
          47.676,
          47.864,
          48.052,
          48.24,
          48.428,
          48.616,
          48.804,
          48.992,
          49.18,
          49.368,
          49.556,
          49.744,
          49.932,
          50.12,
          50.308,
          50.496,
          50.684,
          50.872,
          51.06,
          51.248,
          51.436,
          51.624,
          51.812,
          52,
          52.188,
          52.376,
          52.564,
          52.752,
          52.94,
          53.128,
          53.316,
          53.504,
          53.692,
          53.88,
          54.068,
          54.256,
          54.444,
          54.632,
          54.82,
          55.008,
          55.196,
          55.384,
          55.572,
          55.76,
          55.948,
          56.136,
          56.324,
          56.512,
          56.7,
          56.888,
          57.076,
          57.264,
          57.452,
          57.64,
          57.828,
          58.016,
          58.204,
          58.392,
          58.58,
          58.768,
          58.956,
          59.144,
          59.332,
          59.52,
          59.708,
          59.896,
          60.084,
          60.272,
          60.46,
          60.648,
          60.836,
          61.024,
          61.212,
          61.4,
          61.588,
          61.776,
          61.964,
          62.152,
          62.34,
          62.528,
          62.716,
          62.904,
          63.092,
          63.28,
          63.468,
          63.656,
          63.844,
          64.032,
          64.22,
          64.408,
          64.596,
          64.78399999999999,
          64.97200000000001,
          65.16,
          65.348,
          65.536,
          65.72399999999999,
          65.912,
          66.1,
          66.288,
          66.476,
          66.664,
          66.852,
          67.03999999999999,
          67.22800000000001,
          67.416,
          67.604,
          67.792,
          67.97999999999999,
          68.168,
          68.356,
          68.544,
          68.732,
          68.92,
          69.108,
          69.296,
          69.484,
          69.672,
          69.86,
          70.048,
          70.236,
          70.424,
          70.612,
          70.8,
          70.988,
          71.176,
          71.364,
          71.552,
          71.74,
          71.928,
          72.116,
          72.304,
          72.492,
          72.68,
          72.868,
          73.056,
          73.244,
          73.432,
          73.62,
          73.808,
          73.996,
          74.184,
          74.372,
          74.56,
          74.748,
          74.936,
          75.124,
          75.312,
          75.5,
          75.688,
          75.876,
          76.064,
          76.252,
          76.44,
          76.628,
          76.816,
          77.004,
          77.192,
          77.38,
          77.568,
          77.756,
          77.944,
          78.132,
          78.32,
          78.508,
          78.696,
          78.884,
          79.072,
          79.26,
          79.448,
          79.636,
          79.824,
          80.012,
          80.2,
          80.388,
          80.576,
          80.764,
          80.952,
          81.14,
          81.328,
          81.516,
          81.704,
          81.892,
          82.08,
          82.268,
          82.456,
          82.644,
          82.832,
          83.02,
          83.208,
          83.396,
          83.584,
          83.772,
          83.96,
          84.148,
          84.336,
          84.524,
          84.712,
          84.9,
          85.088,
          85.276,
          85.464,
          85.652,
          85.84,
          86.028,
          86.216,
          86.404,
          86.592,
          86.78,
          86.968,
          87.156,
          87.344,
          87.532,
          87.72,
          87.908,
          88.096,
          88.284,
          88.472,
          88.66,
          88.848,
          89.036,
          89.224,
          89.412,
          89.6,
          89.788,
          89.976,
          90.164,
          90.352,
          90.54,
          90.728,
          90.916,
          91.104,
          91.292,
          91.48,
          91.668,
          91.856,
          92.044,
          92.232,
          92.42,
          92.608,
          92.796,
          92.984,
          93.172,
          93.36,
          93.548,
          93.736,
          93.924,
          94.112,
          94.3,
          94.488,
          94.676,
          94.864,
          95.052,
          95.24,
          95.428,
          95.616,
          95.804,
          95.992,
          96.18,
          96.368,
          96.556,
          96.744,
          96.932,
          97.12,
          97.308,
          97.496,
          97.684,
          97.872,
          98.06,
          98.248,
          98.436,
          98.624,
          98.812
         ],
         "xaxis": "x",
         "y": [
          0.0039905849127071045,
          0.004047168817825482,
          0.004103674735421995,
          0.004160085651923793,
          0.0042163847804878385,
          0.00427255558087108,
          0.004328581779064575,
          0.004384447386670831,
          0.00444013672000433,
          0.004495634418895733,
          0.0045509254651809,
          0.004605995200856497,
          0.004660829345884488,
          0.004715414015628435,
          0.004769735737905052,
          0.004823781469634953,
          0.004877538613077323,
          0.0049309950316332165,
          0.004984139065203384,
          0.005036959545086329,
          0.005089445808403195,
          0.005141587712036305,
          0.005193375646068733,
          0.0052448005467124765,
          0.005295853908713433,
          0.005346527797221565,
          0.005396814859115055,
          0.005446708333767633,
          0.005496202063248509,
          0.0055452905019446885,
          0.0055939687255958355,
          0.005642232439732007,
          0.005690077987505053,
          0.005737502356904591,
          0.005784503187349994,
          0.005831078775649847,
          0.005877228081320878,
          0.005922950731258588,
          0.005968247023752023,
          0.0060131179318356305,
          0.006057565105971338,
          0.006101590876054385,
          0.006145198252736781,
          0.006188390928062686,
          0.006231173275410235,
          0.006273550348734963,
          0.006315527881110153,
          0.006357112282560033,
          0.006398310637182079,
          0.0064391306995552145,
          0.006479580890431141,
          0.006519670291706486,
          0.006559408640673988,
          0.006598806323551554,
          0.00663787436828828,
          0.006676624436647447,
          0.006715068815566699,
          0.006753220407796414,
          0.00679109272181778,
          0.0068286998610426084,
          0.006866056512297596,
          0.006903177933596327,
          0.006940079941202833,
          0.00697677889599119,
          0.007013291689106299,
          0.007049635726931356,
          0.007085828915368515,
          0.0071218896434393905,
          0.00715783676621303,
          0.007193689587069339,
          0.007229467839306657,
          0.007265191667102668,
          0.0073008816058385,
          0.007336558561796391,
          0.007372243791241788,
          0.007407958878901548,
          0.007443725715850094,
          0.007479566476816295,
          0.007515503596924137,
          0.007551559747880834,
          0.007587757813626714,
          0.007624120865461465,
          0.007660672136662141,
          0.007697434996608732,
          0.007734432924433504,
          0.007771689482211143,
          0.0078092282877070575,
          0.007847072986701736,
          0.007885247224909749,
          0.00792377461951246,
          0.007962678730324073,
          0.008001983030611247,
          0.008041710877587163,
          0.008081885482601473,
          0.008122529881048246,
          0.008163666902014656,
          0.008205319137693807,
          0.008247508912585973,
          0.008290258252512875,
          0.008333588853470752,
          0.008377522050348548,
          0.008422078785538311,
          0.00846727957746573,
          0.0085131444890697,
          0.008559693096260385,
          0.008606944456386354,
          0.008654917076742156,
          0.008703628883148492,
          0.008753097188638329,
          0.008803338662282894,
          0.008854369298192574,
          0.008906204384728725,
          0.00895885847396319,
          0.009012345351423258,
          0.00906667800616077,
          0.009121868601184944,
          0.009177928444299249,
          0.00923486795938366,
          0.009292696658164271,
          0.009351423112513142,
          0.00941105492732185,
          0.00947159871399298,
          0.009533060064594333,
          0.009595443526721155,
          0.009658752579112301,
          0.00972298960806637,
          0.009788155884704504,
          0.009854251543126444,
          0.009921275559506705,
          0.00998922573217782,
          0.010058098662747329,
          0.010127889738295114,
          0.010198593114697417,
          0.0102702017011232,
          0.010342707145748227,
          0.010416099822731307,
          0.010490368820496527,
          0.010565501931364074,
          0.0106414856425714,
          0.010718305128725066,
          0.01079594424572229,
          0.010874385526179645,
          0.010953610176404846,
          0.011033598074945469,
          0.011114327772746862,
          0.011195776494949142,
          0.011277920144351165,
          0.011360733306566973,
          0.011444189256897623,
          0.011528259968939225,
          0.011612916124944533,
          0.011698127127953678,
          0.01178386111570569,
          0.011870084976340557,
          0.011956764365897585,
          0.012043863727613477,
          0.01213134631301984,
          0.012219174204837062,
          0.012307308341657807,
          0.012395708544410433,
          0.012484333544589214,
          0.012573141014234866,
          0.012662087597645708,
          0.01275112894479623,
          0.012840219746437,
          0.01292931377084603,
          0.013018363902199083,
          0.013107322180522775,
          0.013196139843191606,
          0.013284767367926888,
          0.013373154517252525,
          0.013461250384360001,
          0.013549003440332013,
          0.013636361582671718,
          0.013723272185081872,
          0.013809682148435988,
          0.013895537952881253,
          0.013980785711010885,
          0.01406537122204167,
          0.014149240026930509,
          0.014232337464362255,
          0.014314608727539606,
          0.014395998921704284,
          0.01447645312231767,
          0.014555916433828104,
          0.014634334048950834,
          0.014711651308386305,
          0.014787813760901254,
          0.01486276722369757,
          0.014936457842992336,
          0.015008832154733599,
          0.015079837145375377,
          0.015149420312636032,
          0.01521752972616433,
          0.015284114088037657,
          0.01534912279301735,
          0.015412505988487117,
          0.015474214634000208,
          0.015534200560363016,
          0.015592416528182435,
          0.015648816285805847,
          0.015703354626583642,
          0.015755987445384763,
          0.015806671794297133,
          0.015855365937445878,
          0.015902029404863644,
          0.015946623045347632,
          0.015989109078240613,
          0.016029451144072615,
          0.016067614354003033,
          0.01610356533800244,
          0.016137272291715674,
          0.016168705021948806,
          0.016197834990723064,
          0.01622463535784111,
          0.016249081021910923,
          0.016271148659775,
          0.01629081676429225,
          0.01630806568042249,
          0.016322877639563173,
          0.016335236792089987,
          0.016345129238053483,
          0.016352543055984933,
          0.01635746832976566,
          0.016359897173515284,
          0.0163598237544546,
          0.01635724431370056,
          0.01635215718495152,
          0.0163445628110215,
          0.016334463758183954,
          0.016321864728285812,
          0.01630677256859442,
          0.016289196279340466,
          0.016269147018921487,
          0.016246638106731787,
          0.016221685023585928,
          0.01619430540970411,
          0.01616451906022984,
          0.016132347918251102,
          0.016097816065298847,
          0.01606094970929759,
          0.016021777169945607,
          0.015980328861503888,
          0.01593663727297555,
          0.015890736945659508,
          0.01584266444806516,
          0.015792458348177326,
          0.01574015918306362,
          0.01568580942581979,
          0.01562945344985138,
          0.015571137490493941,
          0.015510909603977602,
          0.015448819623745244,
          0.015384919114138107,
          0.015319261321466458,
          0.015251901122487456,
          0.015182894970316736,
          0.015112300837805287,
          0.015040178158417603,
          0.014966587764652466,
          0.014891591824052705,
          0.014815253772855572,
          0.014737638247340751,
          0.014658811012938743,
          0.014578838891167374,
          0.014497789684470838,
          0.014415732099040082,
          0.014332735665700485,
          0.014248870658957417,
          0.014164208014296634,
          0.014078819243842133,
          0.013992776350479701,
          0.013906151740559853,
          0.013819018135299886,
          0.013731448481009668,
          0.013643515858271267,
          0.013555293390207983,
          0.013466854149982383,
          0.013378271067668963,
          0.013289616836650102,
          0.013200963819689522,
          0.013112383954840328,
          0.013023948661349144,
          0.012935728745720652,
          0.012847794308110002,
          0.01276021464921312,
          0.012673058177827067,
          0.012586392319254493,
          0.012500283424727294,
          0.012414796682025907,
          0.012329996027470622,
          0.012245944059461621,
          0.01216270195374357,
          0.01208032938057002,
          0.011998884423940804,
          0.011918423503083708,
          0.011839001296349518,
          0.011760670667685718,
          0.011683482595850987,
          0.011607486106528451,
          0.011532728207490586,
          0.011459253826963955,
          0.0113871057553359,
          0.011316324590339214,
          0.011246948685844154,
          0.011179014104380039,
          0.011112554573500792,
          0.011047601446101117,
          0.010984183664781101,
          0.010922327730348486,
          0.01086205767453842,
          0.010803395037021091,
          0.01074635884675725,
          0.010690965607752236,
          0.010637229289247718,
          0.010585161320380577,
          0.010534770589326715,
          0.010486063446937016,
          0.010439043714861474,
          0.010393712698145834,
          0.010350069202274631,
          0.010308109554622233,
          0.010267827630263057,
          0.010229214882080546,
          0.010192260375103176,
          0.010156950824985632,
          0.010123270640541446,
          0.010091201970223979,
          0.010060724752441325,
          0.010031816769581732,
          0.010004453705615693,
          0.009978609207132177,
          0.009954254947657342,
          0.009931360695095743,
          0.009909894382126251,
          0.009889822179377132,
          0.009871108571198347,
          0.009853716433842271,
          0.009837607115858722,
          0.009822740520504556,
          0.009809075189964175,
          0.009796568391172687,
          0.009785176203030757,
          0.009774853604797382,
          0.009765554565444942,
          0.00975723213375951,
          0.00974983852896932,
          0.009743325231683827,
          0.009737643074927098,
          0.009732742335050561,
          0.009728572822312475,
          0.00972508397091412,
          0.009722224928286649,
          0.00971994464342602,
          0.00971819195407901,
          0.009716915672588086,
          0.00971606467020906,
          0.009715587959722204,
          0.009715434776164175,
          0.009715554655515952,
          0.00971589751118985,
          0.009716413708167377,
          0.009717054134648268,
          0.009717770271080492,
          0.009718514256450693,
          0.009719238951724146,
          0.009719898000333752,
          0.009720445885627668,
          0.009720837985196061,
          0.009721030622007812,
          0.009720981112299059,
          0.009720647810166067,
          0.009719990148825951,
          0.009718968678519582,
          0.009717545101041555,
          0.009715682300893074,
          0.009713344373063865,
          0.009710496647459625,
          0.009707105710001676,
          0.009703139420435184,
          0.00969856692689208,
          0.009693358677263777,
          0.009687486427447824,
          0.009680923246541214,
          0.009673643519060665,
          0.009665622944278569,
          0.009656838532769765,
          0.009647268600271377,
          0.009636892758964058,
          0.009625691906288656,
          0.009613648211417417,
          0.009600745099503372,
          0.009586967233835873,
          0.009572300496033399,
          0.009556731964407792,
          0.009540249890636574,
          0.009522843674881527,
          0.009504503839493191,
          0.009485222001441439,
          0.009464990843612521,
          0.009443804085112438,
          0.009421656450715701,
          0.009398543639597,
          0.009374462293481321,
          0.009349409964345743,
          0.009323385081803158,
          0.009296386920294823,
          0.009268415566215115,
          0.009239471885087329,
          0.009209557488905456,
          0.00917867470375139,
          0.009146826537792488,
          0.009114016649758515,
          0.009080249317991604,
          0.00904552941015697,
          0.009009862353695787,
          0.008973254107095752,
          0.008935711132048116,
          0.008897240366553746,
          0.008857849199034143,
          0.008817545443496616,
          0.00877633731579644,
          0.008734233411032029,
          0.008691242682102678,
          0.008647374419451941,
          0.008602638232013309,
          0.00855704402936863,
          0.008510602005123496,
          0.008463322621497972,
          0.008415216595125185,
          0.008366294884044785,
          0.008316568675872986,
          0.008266049377125677,
          0.008214748603666472,
          0.008162678172246808,
          0.008109850093101067,
          0.008056276563555682,
          0.00800196996260753,
          0.007946942846423583,
          0.007891207944710663,
          0.007834778157901698,
          0.007777666555102035,
          0.007719886372737916,
          0.0076614510138469415,
          0.007602374047949293,
          0.007542669211437327,
          0.007482350408420315,
          0.007421431711960803,
          0.007359927365638739,
          0.0072978517853799435,
          0.007235219561485642,
          0.007172045460800725,
          0.00710834442895934,
          0.007044131592647611,
          0.0069794222618247675,
          0.006914231931845855,
          0.0068485762854308355,
          0.0067824711944272755,
          0.006715932721316018,
          0.006648977120411711,
          0.006581620838712736,
          0.006513880516357881,
          0.006445772986649853,
          0.006377315275608963,
          0.006308524601023232,
          0.006239418370964275,
          0.006170014181741847,
          0.006100329815272778,
          0.006030383235843728,
          0.005960192586250139,
          0.005889776183297458,
          0.005819152512653471,
          0.0057483402230445015,
          0.005677358119790817,
          0.005606225157680256,
          0.005534960433181858,
          0.00546358317600451,
          0.005392112740008509,
          0.005320568593480706,
          0.005248970308786867,
          0.005177337551417244,
          0.005105690068444138,
          0.00503404767641245,
          0.004962430248686581,
          0.004890857702279085,
          0.004819349984188612,
          0.004747927057276389,
          0.004676608885712241,
          0.00460541542002275,
          0.004534366581775475,
          0.004463482247934509,
          0.004392782234923606,
          0.004322286282434245,
          0.00425201403701663,
          0.004181985035492393,
          0.00411221868822821,
          0.004042734262309891,
          0.003973550864656795,
          0.0039046874251164056,
          0.003836162679578854
         ],
         "yaxis": "y"
        },
        {
         "legendgroup": "Male",
         "marker": {
          "color": "#1E90FF"
         },
         "mode": "lines",
         "name": "Male",
         "showlegend": false,
         "type": "scatter",
         "x": [
          1,
          1.192,
          1.384,
          1.576,
          1.768,
          1.96,
          2.152,
          2.3440000000000003,
          2.536,
          2.7279999999999998,
          2.92,
          3.112,
          3.304,
          3.496,
          3.688,
          3.88,
          4.072,
          4.263999999999999,
          4.4559999999999995,
          4.648,
          4.84,
          5.032,
          5.224,
          5.416,
          5.608,
          5.8,
          5.992,
          6.184,
          6.376,
          6.568,
          6.76,
          6.952,
          7.144,
          7.336,
          7.528,
          7.72,
          7.912,
          8.104,
          8.296,
          8.488,
          8.68,
          8.872,
          9.064,
          9.256,
          9.448,
          9.64,
          9.832,
          10.024,
          10.216,
          10.408,
          10.6,
          10.792,
          10.984,
          11.176,
          11.368,
          11.56,
          11.752,
          11.944,
          12.136,
          12.328,
          12.52,
          12.712,
          12.904,
          13.096,
          13.288,
          13.48,
          13.672,
          13.864,
          14.056,
          14.248,
          14.44,
          14.632,
          14.824,
          15.016,
          15.208,
          15.4,
          15.592,
          15.784,
          15.976,
          16.168,
          16.36,
          16.552,
          16.744,
          16.936,
          17.128,
          17.32,
          17.512,
          17.704,
          17.896,
          18.088,
          18.28,
          18.472,
          18.664,
          18.856,
          19.048,
          19.24,
          19.432,
          19.624,
          19.816,
          20.008,
          20.2,
          20.392,
          20.584,
          20.776,
          20.968,
          21.16,
          21.352,
          21.544,
          21.736,
          21.928,
          22.12,
          22.312,
          22.504,
          22.696,
          22.888,
          23.08,
          23.272,
          23.464,
          23.656,
          23.848,
          24.04,
          24.232,
          24.424,
          24.616,
          24.808,
          25,
          25.192,
          25.384,
          25.576,
          25.768,
          25.96,
          26.152,
          26.344,
          26.536,
          26.728,
          26.92,
          27.112,
          27.304,
          27.496,
          27.688,
          27.88,
          28.072,
          28.264,
          28.456,
          28.648,
          28.84,
          29.032,
          29.224,
          29.416,
          29.608,
          29.8,
          29.992,
          30.184,
          30.376,
          30.568,
          30.76,
          30.952,
          31.144,
          31.336,
          31.528,
          31.72,
          31.912,
          32.104,
          32.296,
          32.488,
          32.68,
          32.872,
          33.064,
          33.256,
          33.448,
          33.64,
          33.832,
          34.024,
          34.216,
          34.408,
          34.6,
          34.792,
          34.984,
          35.176,
          35.368,
          35.56,
          35.752,
          35.944,
          36.136,
          36.328,
          36.52,
          36.712,
          36.904,
          37.096,
          37.288,
          37.48,
          37.672,
          37.864,
          38.056,
          38.248,
          38.44,
          38.632,
          38.824,
          39.016,
          39.208,
          39.4,
          39.592,
          39.784,
          39.976,
          40.168,
          40.36,
          40.552,
          40.744,
          40.936,
          41.128,
          41.32,
          41.512,
          41.704,
          41.896,
          42.088,
          42.28,
          42.472,
          42.664,
          42.856,
          43.048,
          43.24,
          43.432,
          43.624,
          43.816,
          44.008,
          44.2,
          44.392,
          44.584,
          44.776,
          44.968,
          45.16,
          45.352,
          45.544,
          45.736,
          45.928,
          46.12,
          46.312,
          46.504,
          46.696,
          46.888,
          47.08,
          47.272,
          47.464,
          47.656,
          47.848,
          48.04,
          48.232,
          48.424,
          48.616,
          48.808,
          49,
          49.192,
          49.384,
          49.576,
          49.768,
          49.96,
          50.152,
          50.344,
          50.536,
          50.728,
          50.92,
          51.112,
          51.304,
          51.496,
          51.688,
          51.88,
          52.072,
          52.264,
          52.456,
          52.648,
          52.84,
          53.032,
          53.224,
          53.416,
          53.608,
          53.8,
          53.992,
          54.184,
          54.376,
          54.568,
          54.76,
          54.952,
          55.144,
          55.336,
          55.528,
          55.72,
          55.912,
          56.104,
          56.296,
          56.488,
          56.68,
          56.872,
          57.064,
          57.256,
          57.448,
          57.64,
          57.832,
          58.024,
          58.216,
          58.408,
          58.6,
          58.792,
          58.984,
          59.176,
          59.368,
          59.56,
          59.752,
          59.944,
          60.136,
          60.328,
          60.52,
          60.712,
          60.904,
          61.096,
          61.288,
          61.48,
          61.672,
          61.864,
          62.056,
          62.248,
          62.44,
          62.632,
          62.824,
          63.016,
          63.208,
          63.4,
          63.592,
          63.784,
          63.976,
          64.168,
          64.36,
          64.55199999999999,
          64.744,
          64.936,
          65.128,
          65.32,
          65.512,
          65.704,
          65.896,
          66.088,
          66.28,
          66.472,
          66.664,
          66.856,
          67.048,
          67.24,
          67.432,
          67.624,
          67.816,
          68.008,
          68.2,
          68.392,
          68.584,
          68.776,
          68.968,
          69.16,
          69.352,
          69.544,
          69.736,
          69.928,
          70.12,
          70.312,
          70.504,
          70.696,
          70.888,
          71.08,
          71.272,
          71.464,
          71.656,
          71.848,
          72.04,
          72.232,
          72.424,
          72.616,
          72.808,
          73,
          73.192,
          73.384,
          73.576,
          73.768,
          73.96,
          74.152,
          74.344,
          74.536,
          74.728,
          74.92,
          75.112,
          75.304,
          75.496,
          75.688,
          75.88,
          76.072,
          76.264,
          76.456,
          76.648,
          76.84,
          77.032,
          77.224,
          77.416,
          77.608,
          77.8,
          77.992,
          78.184,
          78.376,
          78.568,
          78.76,
          78.952,
          79.144,
          79.336,
          79.528,
          79.72,
          79.912,
          80.104,
          80.296,
          80.488,
          80.68,
          80.872,
          81.064,
          81.256,
          81.448,
          81.64,
          81.832,
          82.024,
          82.216,
          82.408,
          82.6,
          82.792,
          82.984,
          83.176,
          83.368,
          83.56,
          83.752,
          83.944,
          84.136,
          84.328,
          84.52,
          84.712,
          84.904,
          85.096,
          85.288,
          85.48,
          85.672,
          85.864,
          86.056,
          86.248,
          86.44,
          86.632,
          86.824,
          87.016,
          87.208,
          87.4,
          87.592,
          87.784,
          87.976,
          88.168,
          88.36,
          88.552,
          88.744,
          88.936,
          89.128,
          89.32,
          89.512,
          89.704,
          89.896,
          90.088,
          90.28,
          90.472,
          90.664,
          90.856,
          91.048,
          91.24,
          91.432,
          91.624,
          91.816,
          92.008,
          92.2,
          92.392,
          92.584,
          92.776,
          92.968,
          93.16,
          93.352,
          93.544,
          93.736,
          93.928,
          94.12,
          94.312,
          94.504,
          94.696,
          94.888,
          95.08,
          95.272,
          95.464,
          95.656,
          95.848,
          96.04,
          96.232,
          96.424,
          96.616,
          96.808
         ],
         "xaxis": "x",
         "y": [
          0.006150210573387515,
          0.006218615003723059,
          0.0062864433967219835,
          0.00635366384362677,
          0.006420244656781521,
          0.006486154402766002,
          0.006551361935624308,
          0.0066158364301469015,
          0.006679547415164128,
          0.006742464806809024,
          0.0068045589417067365,
          0.006865800610047552,
          0.0069261610885003825,
          0.006985612172923184,
          0.007044126210826779,
          0.007101676133548465,
          0.007158235488091709,
          0.007213778468588449,
          0.007268279947340459,
          0.007321715505396663,
          0.007374061462623339,
          0.007425294907224618,
          0.007475393724671123,
          0.007524336625994927,
          0.0075721031754096765,
          0.007618673817215333,
          0.007664029901947549,
          0.007708153711732631,
          0.007751028484809661,
          0.0077926384391823564,
          0.007832968795364117,
          0.007872005798180799,
          0.007909736737596698,
          0.00794614996853043,
          0.007981234929628612,
          0.00801498216096636,
          0.008047383320645116,
          0.008078431200259438,
          0.00810811973920596,
          0.008136444037809169,
          0.008163400369240001,
          0.00818898619020499,
          0.00821320015038518,
          0.008236042100605691,
          0.008257513099718401,
          0.008277615420182068,
          0.00829635255232583,
          0.008313729207283791,
          0.008329751318590244,
          0.008344426042426883,
          0.008357761756515154,
          0.008369768057648786,
          0.008380455757863408,
          0.008389836879242015,
          0.008397924647356976,
          0.00840473348335112,
          0.008410278994662347,
          0.008414577964398168,
          0.00841764833936837,
          0.008419509216785881,
          0.008420180829647983,
          0.008419684530811515,
          0.008418042775777929,
          0.008415279104205578,
          0.008411418120168596,
          0.0084064854711834,
          0.008400507826025607,
          0.00839351285136189,
          0.00838552918722284,
          0.008376586421344763,
          0.008366715062409573,
          0.008355946512213882,
          0.008344313036799486,
          0.008331847736579216,
          0.008318584515493225,
          0.008304558049232314,
          0.008289803752566115,
          0.008274357745814982,
          0.008258256820505974,
          0.008241538404253939,
          0.008224240524910031,
          0.00820640177402091,
          0.008188061269642563,
          0.008169258618553695,
          0.008150033877914293,
          0.008130427516415602,
          0.00811048037496836,
          0.008090233626976674,
          0.008069728738245284,
          0.00804900742656848,
          0.008028111621048908,
          0.008007083421195105,
          0.00798596505584639,
          0.007964798841974013,
          0.007943627143407269,
          0.00792249232953334,
          0.007901436734019348,
          0.007880502613604878,
          0.007859732107012879,
          0.007839167194026577,
          0.007818849654779345,
          0.0077988210293041885,
          0.007779122577388677,
          0.0077597952387806444,
          0.007740879593789147,
          0.007722415824324408,
          0.007704443675419606,
          0.007687002417276482,
          0.007670130807875648,
          0.007653867056191646,
          0.007638248786051516,
          0.007623313000674666,
          0.0076090960479305485,
          0.007595633586349558,
          0.007582960551921084,
          0.007571111125711633,
          0.0075601187023344035,
          0.007550015859300391,
          0.0075408343272797,
          0.007532604961300383,
          0.007525357712910558,
          0.007519121603328237,
          0.007513924697601652,
          0.007509794079801618,
          0.007506755829265665,
          0.007504834997912368,
          0.00750405558864281,
          0.007504440534844368,
          0.007506011681010767,
          0.0075087897644906705,
          0.007512794398375538,
          0.007518044055536198,
          0.007524556053815776,
          0.007532346542385474,
          0.007541430489267992,
          0.007551821670032087,
          0.00756353265766029,
          0.0075765748135904415,
          0.007590958279930337,
          0.007606691972843405,
          0.007623783577102117,
          0.0076422395418044185,
          0.007662065077247388,
          0.007683264152951013,
          0.007705839496823816,
          0.0077297925954609974,
          0.0077551236955646025,
          0.007781831806474165,
          0.0078099147037952975,
          0.00783936893411276,
          0.007870189820773489,
          0.007902371470724338,
          0.007935906782388263,
          0.00797078745456206,
          0.008007003996317895,
          0.00804454573789012,
          0.008083400842528348,
          0.008123556319296963,
          0.00816499803680078,
          0.008207710737815892,
          0.008251678054804432,
          0.00829688252629132,
          0.008343305614080733,
          0.008390927721289727,
          0.008439728211175895,
          0.00848968542673587,
          0.008540776711051011,
          0.00859297842835663,
          0.008646265985810463,
          0.008700613855936552,
          0.008755995599719997,
          0.008812383890328228,
          0.008869750537434311,
          0.008928066512117746,
          0.008987301972318177,
          0.009047426288817384,
          0.009108408071725126,
          0.009170215197444173,
          0.009232814836090217,
          0.009296173479342149,
          0.009360256968698513,
          0.009425030524115993,
          0.009490458773005722,
          0.009556505779563686,
          0.009623135074411319,
          0.009690309684522749,
          0.009757992163415169,
          0.009826144621579045,
          0.009894728757125121,
          0.009963705886625106,
          0.01003303697612345,
          0.010102682672297412,
          0.010172603333743178,
          0.010242759062365674,
          0.010313109734849992,
          0.010383615034192542,
          0.010454234481270265,
          0.010524927466426155,
          0.010595653281049935,
          0.010666371149132246,
          0.010737040258771665,
          0.010807619793613214,
          0.010878068964197754,
          0.010948347039201375,
          0.011018413376544332,
          0.011088227454348983,
          0.011157748901726362,
          0.011226937529371055,
          0.011295753359944448,
          0.011364156658225986,
          0.011432107961012588,
          0.011499568106746324,
          0.01156649826485052,
          0.011632859964754537,
          0.011698615124587456,
          0.011763726079521263,
          0.011828155609743757,
          0.011891866968041996,
          0.011954823906976627,
          0.012016990705627978,
          0.012078332195894605,
          0.012138813788325178,
          0.01219840149746464,
          0.012257061966695775,
          0.012314762492557134,
          0.01237147104851891,
          0.012427156308197866,
          0.01248178766799317,
          0.012535335269124521,
          0.012587770019054785,
          0.012639063612279025,
          0.012689188550462294,
          0.012738118161908552,
          0.012785826620343879,
          0.012832288962996553,
          0.01287748110795761,
          0.012921379870805582,
          0.012963962980479232,
          0.013005209094382885,
          0.013045097812709034,
          0.013083609691963404,
          0.013120726257678293,
          0.01315643001630034,
          0.013190704466239296,
          0.013223534108065172,
          0.013254904453841677,
          0.013284802035584237,
          0.01331321441283182,
          0.013340130179322483,
          0.013365538968762868,
          0.013389431459683403,
          0.013411799379370693,
          0.013432635506870608,
          0.013451933675055332,
          0.013469688771749314,
          0.01348589673990949,
          0.013500554576856384,
          0.013513660332553513,
          0.013525213106933538,
          0.013535213046270811,
          0.013543661338600696,
          0.013550560208187385,
          0.01355591290904313,
          0.013559723717502463,
          0.013561997923856633,
          0.013562741823054477,
          0.013561962704476897,
          0.013559668840793678,
          0.013555869475912367,
          0.01355057481203005,
          0.013543795995800368,
          0.01353554510362916,
          0.013525835126113125,
          0.013514679951637678,
          0.013502094349150747,
          0.013488093950130974,
          0.01347269522976954,
          0.013455915487386515,
          0.013437772826103185,
          0.013418286131793558,
          0.01339747505133899,
          0.013375359970210913,
          0.013351961989408146,
          0.013327302901775867,
          0.013301405167734325,
          0.013274291890446868,
          0.013245986790456965,
          0.013216514179825539,
          0.013185898935800166,
          0.013154166474048946,
          0.013121342721492157,
          0.013087454088765917,
          0.013052527442352227,
          0.013016590076410617,
          0.01297966968434728,
          0.012941794330157413,
          0.012902992419577576,
          0.012863292671084542,
          0.012822724086777907,
          0.012781315923183396,
          0.012739097662014297,
          0.012696098980928088,
          0.012652349724315816,
          0.012607879874160994,
          0.012562719521005072,
          0.012516898835056148,
          0.012470448037477187,
          0.012423397371889574,
          0.012375777076127428,
          0.012327617354277459,
          0.012278948349038652,
          0.012229800114435113,
          0.012180202588914899,
          0.012130185568866643,
          0.012079778682585016,
          0.012029011364714808,
          0.011977912831202897,
          0.011926512054785711,
          0.011874837741039097,
          0.011822918305015903,
          0.011770781848495854,
          0.011718456137870393,
          0.01166596858268436,
          0.011613346214854601,
          0.01156061566858442,
          0.01150780316099133,
          0.011454934473463796,
          0.011402034933761619,
          0.011349129398872615,
          0.011296242238637096,
          0.01124339732014979,
          0.011190617992947445,
          0.011137927074988771,
          0.011085346839431732,
          0.0110328990022118,
          0.01098060471042295,
          0.010928484531501881,
          0.010876558443214413,
          0.010824845824441248,
          0.010773365446759255,
          0.01072213546681238,
          0.01067117341946561,
          0.010620496211733336,
          0.010570120117472713,
          0.010520060772830768,
          0.010470333172433555,
          0.010420951666303373,
          0.010371929957490214,
          0.01032328110040132,
          0.010275017499812784,
          0.010227150910545326,
          0.010179692437786197,
          0.010132652538037731,
          0.01008604102067307,
          0.010039867050078057,
          0.009994139148358583,
          0.009948865198591433,
          0.009904052448596856,
          0.009859707515210165,
          0.009815836389029909,
          0.009772444439619603,
          0.00972953642114007,
          0.009687116478389235,
          0.00964518815322657,
          0.009603754391359028,
          0.00956281754946596,
          0.00952237940264032,
          0.009482441152124295,
          0.00944300343331731,
          0.009404066324035308,
          0.009365629353000464,
          0.009327691508541215,
          0.009290251247482841,
          0.009253306504210145,
          0.009216854699883696,
          0.009180892751792612,
          0.009145417082827376,
          0.009110423631056961,
          0.009075907859395759,
          0.009041864765346486,
          0.009008288890806323,
          0.008975174331924612,
          0.008942514749001212,
          0.008910303376415978,
          0.00887853303258062,
          0.008847196129905229,
          0.008816284684773055,
          0.008785790327517843,
          0.008755704312399309,
          0.008726017527573232,
          0.008696720505053655,
          0.008667803430665689,
          0.008639256153988369,
          0.00861106819828788,
          0.008583228770442502,
          0.008555726770861197,
          0.008528550803398855,
          0.008501689185271891,
          0.008475129956978427,
          0.008448860892228202,
          0.00842286950788785,
          0.00839714307394762,
          0.008371668623516333,
          0.008346432962851638,
          0.008321422681432971,
          0.008296624162085032,
          0.008272023591159751,
          0.008247606968784868,
          0.008223360119187435,
          0.008199268701100325,
          0.008175318218260187,
          0.008151494030004817,
          0.0081277813619778,
          0.008104165316948232,
          0.008080630885752714,
          0.008057162958366686,
          0.008033746335111419,
          0.00801036573800285,
          0.007987005822247524,
          0.007963651187890374,
          0.007940286391618555,
          0.007916895958724503,
          0.007893464395230825,
          0.007869976200178656,
          0.00784641587808035,
          0.007822767951536268,
          0.007799016974014644,
          0.0077751475427924365,
          0.007751144312053921,
          0.00772699200614309,
          0.007702675432964388,
          0.0076781794975256034,
          0.007653489215615434,
          0.007628589727607321,
          0.007603466312379752,
          0.00757810440134254,
          0.0075524895925570806,
          0.007526607664937895,
          0.007500444592521307,
          0.007473986558786521,
          0.007447219971012883,
          0.007420131474656553,
          0.007392707967728523,
          0.007364936615155262,
          0.007336804863102281,
          0.007308300453240069,
          0.007279411436931233,
          0.007250126189316847,
          0.0072204334232792815,
          0.0071903222032585175,
          0.00715978195889803,
          0.007128802498496139,
          0.0070973740222382365,
          0.0070654871351850165,
          0.00703313285999153,
          0.007000302649331869,
          0.006966988398003912,
          0.006933182454689006,
          0.006898877633340956,
          0.006864067224179446,
          0.006828745004262674,
          0.006792905247614793,
          0.006756542734883787,
          0.00671965276250601,
          0.006682231151354271,
          0.006644274254846719,
          0.0066057789664947806,
          0.006566742726868883,
          0.006527163529961878,
          0.0064870399289306425,
          0.006446371041197629,
          0.0064051565528950175,
          0.006363396722635278,
          0.0063210923845931815,
          0.006278244950885434,
          0.006234856413235505,
          0.006190929343912465,
          0.006146466895934077,
          0.0061014728025258185,
          0.0060559513758288545,
          0.00600990750485178,
          0.005963346652661894,
          0.005916274852814158,
          0.00586869870501657,
          0.005820625370033126,
          0.005772062563826637,
          0.005723018550945329,
          0.005673502137158934,
          0.00562352266135136,
          0.005573089986678729,
          0.005522214491003088,
          0.005470907056613659,
          0.00541917905924911,
          0.005367042356435535,
          0.005314509275156824,
          0.005261592598874858,
          0.005208305553919101,
          0.005154661795265771,
          0.005100675391728707,
          0.005046360810584878
         ],
         "yaxis": "y"
        },
        {
         "legendgroup": "Female",
         "marker": {
          "color": "#FF69B4",
          "symbol": "line-ns-open"
         },
         "mode": "markers",
         "name": "Female",
         "showlegend": false,
         "type": "scatter",
         "x": [
          6,
          77,
          40,
          76,
          6,
          94,
          72,
          99,
          15,
          77,
          35,
          98,
          5,
          14,
          32,
          31,
          87,
          73,
          14,
          81,
          17,
          73,
          26,
          75,
          35,
          61,
          28,
          65,
          55,
          47,
          42,
          42,
          52,
          54,
          45,
          50,
          51,
          52,
          59,
          50,
          48,
          47,
          42,
          49,
          56,
          53,
          52,
          42,
          44,
          57,
          58,
          55,
          60,
          46,
          55,
          40,
          42,
          47,
          50,
          41,
          48,
          42,
          50,
          54,
          42,
          48,
          50,
          43,
          59,
          43,
          57,
          40,
          58,
          29,
          77,
          34,
          71,
          88,
          7,
          72,
          5,
          40,
          87,
          74,
          22,
          20,
          76,
          16,
          89,
          78,
          73,
          35,
          83,
          93,
          75,
          95,
          27,
          13,
          86,
          32,
          86,
          88,
          39,
          24,
          17,
          85,
          23,
          69,
          91,
          16,
          79,
          28
         ],
         "xaxis": "x",
         "y": [
          "Female",
          "Female",
          "Female",
          "Female",
          "Female",
          "Female",
          "Female",
          "Female",
          "Female",
          "Female",
          "Female",
          "Female",
          "Female",
          "Female",
          "Female",
          "Female",
          "Female",
          "Female",
          "Female",
          "Female",
          "Female",
          "Female",
          "Female",
          "Female",
          "Female",
          "Female",
          "Female",
          "Female",
          "Female",
          "Female",
          "Female",
          "Female",
          "Female",
          "Female",
          "Female",
          "Female",
          "Female",
          "Female",
          "Female",
          "Female",
          "Female",
          "Female",
          "Female",
          "Female",
          "Female",
          "Female",
          "Female",
          "Female",
          "Female",
          "Female",
          "Female",
          "Female",
          "Female",
          "Female",
          "Female",
          "Female",
          "Female",
          "Female",
          "Female",
          "Female",
          "Female",
          "Female",
          "Female",
          "Female",
          "Female",
          "Female",
          "Female",
          "Female",
          "Female",
          "Female",
          "Female",
          "Female",
          "Female",
          "Female",
          "Female",
          "Female",
          "Female",
          "Female",
          "Female",
          "Female",
          "Female",
          "Female",
          "Female",
          "Female",
          "Female",
          "Female",
          "Female",
          "Female",
          "Female",
          "Female",
          "Female",
          "Female",
          "Female",
          "Female",
          "Female",
          "Female",
          "Female",
          "Female",
          "Female",
          "Female",
          "Female",
          "Female",
          "Female",
          "Female",
          "Female",
          "Female",
          "Female",
          "Female",
          "Female",
          "Female",
          "Female",
          "Female"
         ],
         "yaxis": "y2"
        },
        {
         "legendgroup": "Male",
         "marker": {
          "color": "#1E90FF",
          "symbol": "line-ns-open"
         },
         "mode": "markers",
         "name": "Male",
         "showlegend": false,
         "type": "scatter",
         "x": [
          39,
          81,
          3,
          14,
          13,
          79,
          66,
          29,
          35,
          73,
          73,
          82,
          61,
          4,
          4,
          92,
          92,
          36,
          60,
          60,
          41,
          46,
          46,
          56,
          55,
          51,
          59,
          59,
          55,
          47,
          54,
          48,
          51,
          55,
          41,
          46,
          41,
          49,
          52,
          42,
          49,
          59,
          55,
          56,
          46,
          43,
          48,
          52,
          46,
          56,
          91,
          35,
          95,
          11,
          75,
          9,
          75,
          5,
          73,
          10,
          93,
          12,
          97,
          36,
          90,
          17,
          88,
          1,
          1,
          5,
          26,
          20,
          63,
          13,
          75,
          10,
          92,
          15,
          69,
          14,
          90,
          15,
          97,
          68,
          8,
          74,
          18,
          83
         ],
         "xaxis": "x",
         "y": [
          "Male",
          "Male",
          "Male",
          "Male",
          "Male",
          "Male",
          "Male",
          "Male",
          "Male",
          "Male",
          "Male",
          "Male",
          "Male",
          "Male",
          "Male",
          "Male",
          "Male",
          "Male",
          "Male",
          "Male",
          "Male",
          "Male",
          "Male",
          "Male",
          "Male",
          "Male",
          "Male",
          "Male",
          "Male",
          "Male",
          "Male",
          "Male",
          "Male",
          "Male",
          "Male",
          "Male",
          "Male",
          "Male",
          "Male",
          "Male",
          "Male",
          "Male",
          "Male",
          "Male",
          "Male",
          "Male",
          "Male",
          "Male",
          "Male",
          "Male",
          "Male",
          "Male",
          "Male",
          "Male",
          "Male",
          "Male",
          "Male",
          "Male",
          "Male",
          "Male",
          "Male",
          "Male",
          "Male",
          "Male",
          "Male",
          "Male",
          "Male",
          "Male",
          "Male",
          "Male",
          "Male",
          "Male",
          "Male",
          "Male",
          "Male",
          "Male",
          "Male",
          "Male",
          "Male",
          "Male",
          "Male",
          "Male",
          "Male",
          "Male",
          "Male",
          "Male",
          "Male",
          "Male"
         ],
         "yaxis": "y2"
        }
       ],
       "layout": {
        "barmode": "overlay",
        "hovermode": "closest",
        "legend": {
         "traceorder": "reversed"
        },
        "template": {
         "data": {
          "bar": [
           {
            "error_x": {
             "color": "#2a3f5f"
            },
            "error_y": {
             "color": "#2a3f5f"
            },
            "marker": {
             "line": {
              "color": "#E5ECF6",
              "width": 0.5
             },
             "pattern": {
              "fillmode": "overlay",
              "size": 10,
              "solidity": 0.2
             }
            },
            "type": "bar"
           }
          ],
          "barpolar": [
           {
            "marker": {
             "line": {
              "color": "#E5ECF6",
              "width": 0.5
             },
             "pattern": {
              "fillmode": "overlay",
              "size": 10,
              "solidity": 0.2
             }
            },
            "type": "barpolar"
           }
          ],
          "carpet": [
           {
            "aaxis": {
             "endlinecolor": "#2a3f5f",
             "gridcolor": "white",
             "linecolor": "white",
             "minorgridcolor": "white",
             "startlinecolor": "#2a3f5f"
            },
            "baxis": {
             "endlinecolor": "#2a3f5f",
             "gridcolor": "white",
             "linecolor": "white",
             "minorgridcolor": "white",
             "startlinecolor": "#2a3f5f"
            },
            "type": "carpet"
           }
          ],
          "choropleth": [
           {
            "colorbar": {
             "outlinewidth": 0,
             "ticks": ""
            },
            "type": "choropleth"
           }
          ],
          "contour": [
           {
            "colorbar": {
             "outlinewidth": 0,
             "ticks": ""
            },
            "colorscale": [
             [
              0,
              "#0d0887"
             ],
             [
              0.1111111111111111,
              "#46039f"
             ],
             [
              0.2222222222222222,
              "#7201a8"
             ],
             [
              0.3333333333333333,
              "#9c179e"
             ],
             [
              0.4444444444444444,
              "#bd3786"
             ],
             [
              0.5555555555555556,
              "#d8576b"
             ],
             [
              0.6666666666666666,
              "#ed7953"
             ],
             [
              0.7777777777777778,
              "#fb9f3a"
             ],
             [
              0.8888888888888888,
              "#fdca26"
             ],
             [
              1,
              "#f0f921"
             ]
            ],
            "type": "contour"
           }
          ],
          "contourcarpet": [
           {
            "colorbar": {
             "outlinewidth": 0,
             "ticks": ""
            },
            "type": "contourcarpet"
           }
          ],
          "heatmap": [
           {
            "colorbar": {
             "outlinewidth": 0,
             "ticks": ""
            },
            "colorscale": [
             [
              0,
              "#0d0887"
             ],
             [
              0.1111111111111111,
              "#46039f"
             ],
             [
              0.2222222222222222,
              "#7201a8"
             ],
             [
              0.3333333333333333,
              "#9c179e"
             ],
             [
              0.4444444444444444,
              "#bd3786"
             ],
             [
              0.5555555555555556,
              "#d8576b"
             ],
             [
              0.6666666666666666,
              "#ed7953"
             ],
             [
              0.7777777777777778,
              "#fb9f3a"
             ],
             [
              0.8888888888888888,
              "#fdca26"
             ],
             [
              1,
              "#f0f921"
             ]
            ],
            "type": "heatmap"
           }
          ],
          "heatmapgl": [
           {
            "colorbar": {
             "outlinewidth": 0,
             "ticks": ""
            },
            "colorscale": [
             [
              0,
              "#0d0887"
             ],
             [
              0.1111111111111111,
              "#46039f"
             ],
             [
              0.2222222222222222,
              "#7201a8"
             ],
             [
              0.3333333333333333,
              "#9c179e"
             ],
             [
              0.4444444444444444,
              "#bd3786"
             ],
             [
              0.5555555555555556,
              "#d8576b"
             ],
             [
              0.6666666666666666,
              "#ed7953"
             ],
             [
              0.7777777777777778,
              "#fb9f3a"
             ],
             [
              0.8888888888888888,
              "#fdca26"
             ],
             [
              1,
              "#f0f921"
             ]
            ],
            "type": "heatmapgl"
           }
          ],
          "histogram": [
           {
            "marker": {
             "pattern": {
              "fillmode": "overlay",
              "size": 10,
              "solidity": 0.2
             }
            },
            "type": "histogram"
           }
          ],
          "histogram2d": [
           {
            "colorbar": {
             "outlinewidth": 0,
             "ticks": ""
            },
            "colorscale": [
             [
              0,
              "#0d0887"
             ],
             [
              0.1111111111111111,
              "#46039f"
             ],
             [
              0.2222222222222222,
              "#7201a8"
             ],
             [
              0.3333333333333333,
              "#9c179e"
             ],
             [
              0.4444444444444444,
              "#bd3786"
             ],
             [
              0.5555555555555556,
              "#d8576b"
             ],
             [
              0.6666666666666666,
              "#ed7953"
             ],
             [
              0.7777777777777778,
              "#fb9f3a"
             ],
             [
              0.8888888888888888,
              "#fdca26"
             ],
             [
              1,
              "#f0f921"
             ]
            ],
            "type": "histogram2d"
           }
          ],
          "histogram2dcontour": [
           {
            "colorbar": {
             "outlinewidth": 0,
             "ticks": ""
            },
            "colorscale": [
             [
              0,
              "#0d0887"
             ],
             [
              0.1111111111111111,
              "#46039f"
             ],
             [
              0.2222222222222222,
              "#7201a8"
             ],
             [
              0.3333333333333333,
              "#9c179e"
             ],
             [
              0.4444444444444444,
              "#bd3786"
             ],
             [
              0.5555555555555556,
              "#d8576b"
             ],
             [
              0.6666666666666666,
              "#ed7953"
             ],
             [
              0.7777777777777778,
              "#fb9f3a"
             ],
             [
              0.8888888888888888,
              "#fdca26"
             ],
             [
              1,
              "#f0f921"
             ]
            ],
            "type": "histogram2dcontour"
           }
          ],
          "mesh3d": [
           {
            "colorbar": {
             "outlinewidth": 0,
             "ticks": ""
            },
            "type": "mesh3d"
           }
          ],
          "parcoords": [
           {
            "line": {
             "colorbar": {
              "outlinewidth": 0,
              "ticks": ""
             }
            },
            "type": "parcoords"
           }
          ],
          "pie": [
           {
            "automargin": true,
            "type": "pie"
           }
          ],
          "scatter": [
           {
            "fillpattern": {
             "fillmode": "overlay",
             "size": 10,
             "solidity": 0.2
            },
            "type": "scatter"
           }
          ],
          "scatter3d": [
           {
            "line": {
             "colorbar": {
              "outlinewidth": 0,
              "ticks": ""
             }
            },
            "marker": {
             "colorbar": {
              "outlinewidth": 0,
              "ticks": ""
             }
            },
            "type": "scatter3d"
           }
          ],
          "scattercarpet": [
           {
            "marker": {
             "colorbar": {
              "outlinewidth": 0,
              "ticks": ""
             }
            },
            "type": "scattercarpet"
           }
          ],
          "scattergeo": [
           {
            "marker": {
             "colorbar": {
              "outlinewidth": 0,
              "ticks": ""
             }
            },
            "type": "scattergeo"
           }
          ],
          "scattergl": [
           {
            "marker": {
             "colorbar": {
              "outlinewidth": 0,
              "ticks": ""
             }
            },
            "type": "scattergl"
           }
          ],
          "scattermapbox": [
           {
            "marker": {
             "colorbar": {
              "outlinewidth": 0,
              "ticks": ""
             }
            },
            "type": "scattermapbox"
           }
          ],
          "scatterpolar": [
           {
            "marker": {
             "colorbar": {
              "outlinewidth": 0,
              "ticks": ""
             }
            },
            "type": "scatterpolar"
           }
          ],
          "scatterpolargl": [
           {
            "marker": {
             "colorbar": {
              "outlinewidth": 0,
              "ticks": ""
             }
            },
            "type": "scatterpolargl"
           }
          ],
          "scatterternary": [
           {
            "marker": {
             "colorbar": {
              "outlinewidth": 0,
              "ticks": ""
             }
            },
            "type": "scatterternary"
           }
          ],
          "surface": [
           {
            "colorbar": {
             "outlinewidth": 0,
             "ticks": ""
            },
            "colorscale": [
             [
              0,
              "#0d0887"
             ],
             [
              0.1111111111111111,
              "#46039f"
             ],
             [
              0.2222222222222222,
              "#7201a8"
             ],
             [
              0.3333333333333333,
              "#9c179e"
             ],
             [
              0.4444444444444444,
              "#bd3786"
             ],
             [
              0.5555555555555556,
              "#d8576b"
             ],
             [
              0.6666666666666666,
              "#ed7953"
             ],
             [
              0.7777777777777778,
              "#fb9f3a"
             ],
             [
              0.8888888888888888,
              "#fdca26"
             ],
             [
              1,
              "#f0f921"
             ]
            ],
            "type": "surface"
           }
          ],
          "table": [
           {
            "cells": {
             "fill": {
              "color": "#EBF0F8"
             },
             "line": {
              "color": "white"
             }
            },
            "header": {
             "fill": {
              "color": "#C8D4E3"
             },
             "line": {
              "color": "white"
             }
            },
            "type": "table"
           }
          ]
         },
         "layout": {
          "annotationdefaults": {
           "arrowcolor": "#2a3f5f",
           "arrowhead": 0,
           "arrowwidth": 1
          },
          "autotypenumbers": "strict",
          "coloraxis": {
           "colorbar": {
            "outlinewidth": 0,
            "ticks": ""
           }
          },
          "colorscale": {
           "diverging": [
            [
             0,
             "#8e0152"
            ],
            [
             0.1,
             "#c51b7d"
            ],
            [
             0.2,
             "#de77ae"
            ],
            [
             0.3,
             "#f1b6da"
            ],
            [
             0.4,
             "#fde0ef"
            ],
            [
             0.5,
             "#f7f7f7"
            ],
            [
             0.6,
             "#e6f5d0"
            ],
            [
             0.7,
             "#b8e186"
            ],
            [
             0.8,
             "#7fbc41"
            ],
            [
             0.9,
             "#4d9221"
            ],
            [
             1,
             "#276419"
            ]
           ],
           "sequential": [
            [
             0,
             "#0d0887"
            ],
            [
             0.1111111111111111,
             "#46039f"
            ],
            [
             0.2222222222222222,
             "#7201a8"
            ],
            [
             0.3333333333333333,
             "#9c179e"
            ],
            [
             0.4444444444444444,
             "#bd3786"
            ],
            [
             0.5555555555555556,
             "#d8576b"
            ],
            [
             0.6666666666666666,
             "#ed7953"
            ],
            [
             0.7777777777777778,
             "#fb9f3a"
            ],
            [
             0.8888888888888888,
             "#fdca26"
            ],
            [
             1,
             "#f0f921"
            ]
           ],
           "sequentialminus": [
            [
             0,
             "#0d0887"
            ],
            [
             0.1111111111111111,
             "#46039f"
            ],
            [
             0.2222222222222222,
             "#7201a8"
            ],
            [
             0.3333333333333333,
             "#9c179e"
            ],
            [
             0.4444444444444444,
             "#bd3786"
            ],
            [
             0.5555555555555556,
             "#d8576b"
            ],
            [
             0.6666666666666666,
             "#ed7953"
            ],
            [
             0.7777777777777778,
             "#fb9f3a"
            ],
            [
             0.8888888888888888,
             "#fdca26"
            ],
            [
             1,
             "#f0f921"
            ]
           ]
          },
          "colorway": [
           "#636efa",
           "#EF553B",
           "#00cc96",
           "#ab63fa",
           "#FFA15A",
           "#19d3f3",
           "#FF6692",
           "#B6E880",
           "#FF97FF",
           "#FECB52"
          ],
          "font": {
           "color": "#2a3f5f"
          },
          "geo": {
           "bgcolor": "white",
           "lakecolor": "white",
           "landcolor": "#E5ECF6",
           "showlakes": true,
           "showland": true,
           "subunitcolor": "white"
          },
          "hoverlabel": {
           "align": "left"
          },
          "hovermode": "closest",
          "mapbox": {
           "style": "light"
          },
          "paper_bgcolor": "white",
          "plot_bgcolor": "#E5ECF6",
          "polar": {
           "angularaxis": {
            "gridcolor": "white",
            "linecolor": "white",
            "ticks": ""
           },
           "bgcolor": "#E5ECF6",
           "radialaxis": {
            "gridcolor": "white",
            "linecolor": "white",
            "ticks": ""
           }
          },
          "scene": {
           "xaxis": {
            "backgroundcolor": "#E5ECF6",
            "gridcolor": "white",
            "gridwidth": 2,
            "linecolor": "white",
            "showbackground": true,
            "ticks": "",
            "zerolinecolor": "white"
           },
           "yaxis": {
            "backgroundcolor": "#E5ECF6",
            "gridcolor": "white",
            "gridwidth": 2,
            "linecolor": "white",
            "showbackground": true,
            "ticks": "",
            "zerolinecolor": "white"
           },
           "zaxis": {
            "backgroundcolor": "#E5ECF6",
            "gridcolor": "white",
            "gridwidth": 2,
            "linecolor": "white",
            "showbackground": true,
            "ticks": "",
            "zerolinecolor": "white"
           }
          },
          "shapedefaults": {
           "line": {
            "color": "#2a3f5f"
           }
          },
          "ternary": {
           "aaxis": {
            "gridcolor": "white",
            "linecolor": "white",
            "ticks": ""
           },
           "baxis": {
            "gridcolor": "white",
            "linecolor": "white",
            "ticks": ""
           },
           "bgcolor": "#E5ECF6",
           "caxis": {
            "gridcolor": "white",
            "linecolor": "white",
            "ticks": ""
           }
          },
          "title": {
           "x": 0.05
          },
          "xaxis": {
           "automargin": true,
           "gridcolor": "white",
           "linecolor": "white",
           "ticks": "",
           "title": {
            "standoff": 15
           },
           "zerolinecolor": "white",
           "zerolinewidth": 2
          },
          "yaxis": {
           "automargin": true,
           "gridcolor": "white",
           "linecolor": "white",
           "ticks": "",
           "title": {
            "standoff": 15
           },
           "zerolinecolor": "white",
           "zerolinewidth": 2
          }
         }
        },
        "title": {
         "text": "Gender vs Spending Score (1-100)"
        },
        "xaxis": {
         "anchor": "y2",
         "domain": [
          0,
          1
         ],
         "zeroline": false
        },
        "yaxis": {
         "anchor": "free",
         "domain": [
          0.35,
          1
         ],
         "position": 0
        },
        "yaxis2": {
         "anchor": "x",
         "domain": [
          0,
          0.25
         ],
         "dtick": 1,
         "showticklabels": false
        }
       }
      }
     },
     "metadata": {},
     "output_type": "display_data"
    },
    {
     "data": {
      "application/vnd.plotly.v1+json": {
       "config": {
        "plotlyServerURL": "https://plot.ly"
       },
       "data": [
        {
         "autobinx": false,
         "histnorm": "probability density",
         "legendgroup": "Female",
         "marker": {
          "color": "#FF69B4"
         },
         "name": "Female",
         "opacity": 0.7,
         "type": "histogram",
         "x": [
          20,
          23,
          31,
          22,
          35,
          23,
          30,
          35,
          58,
          24,
          35,
          35,
          46,
          54,
          45,
          40,
          23,
          21,
          49,
          21,
          42,
          30,
          36,
          20,
          65,
          31,
          49,
          24,
          50,
          27,
          29,
          31,
          49,
          31,
          50,
          51,
          27,
          67,
          54,
          43,
          68,
          32,
          47,
          60,
          60,
          45,
          23,
          49,
          46,
          21,
          55,
          22,
          34,
          50,
          68,
          40,
          32,
          47,
          27,
          23,
          49,
          21,
          66,
          19,
          38,
          18,
          19,
          63,
          49,
          51,
          50,
          38,
          40,
          23,
          31,
          25,
          31,
          29,
          44,
          35,
          57,
          28,
          32,
          32,
          34,
          44,
          38,
          47,
          27,
          30,
          30,
          56,
          29,
          31,
          36,
          33,
          36,
          52,
          30,
          37,
          32,
          29,
          41,
          54,
          41,
          36,
          34,
          32,
          38,
          47,
          35,
          45
         ],
         "xaxis": "x",
         "xbins": {
          "end": 68,
          "size": 3,
          "start": 18
         },
         "yaxis": "y"
        },
        {
         "autobinx": false,
         "histnorm": "probability density",
         "legendgroup": "Male",
         "marker": {
          "color": "#1E90FF"
         },
         "name": "Male",
         "opacity": 0.7,
         "type": "histogram",
         "x": [
          19,
          21,
          64,
          67,
          37,
          22,
          20,
          52,
          35,
          25,
          31,
          29,
          35,
          60,
          53,
          18,
          24,
          48,
          33,
          59,
          47,
          69,
          53,
          70,
          19,
          63,
          18,
          19,
          70,
          59,
          26,
          40,
          57,
          38,
          67,
          48,
          18,
          48,
          24,
          48,
          20,
          67,
          26,
          49,
          54,
          68,
          66,
          65,
          19,
          27,
          39,
          43,
          40,
          59,
          38,
          47,
          39,
          20,
          32,
          19,
          32,
          25,
          28,
          48,
          34,
          43,
          39,
          37,
          34,
          19,
          50,
          42,
          32,
          40,
          28,
          36,
          36,
          58,
          27,
          59,
          35,
          46,
          30,
          28,
          33,
          32,
          32,
          30
         ],
         "xaxis": "x",
         "xbins": {
          "end": 70,
          "size": 3,
          "start": 18
         },
         "yaxis": "y"
        },
        {
         "legendgroup": "Female",
         "marker": {
          "color": "#FF69B4"
         },
         "mode": "lines",
         "name": "Female",
         "showlegend": false,
         "type": "scatter",
         "x": [
          18,
          18.1,
          18.2,
          18.3,
          18.4,
          18.5,
          18.6,
          18.7,
          18.8,
          18.9,
          19,
          19.1,
          19.2,
          19.3,
          19.4,
          19.5,
          19.6,
          19.7,
          19.8,
          19.9,
          20,
          20.1,
          20.2,
          20.3,
          20.4,
          20.5,
          20.6,
          20.7,
          20.8,
          20.9,
          21,
          21.1,
          21.2,
          21.3,
          21.4,
          21.5,
          21.6,
          21.7,
          21.8,
          21.9,
          22,
          22.1,
          22.2,
          22.3,
          22.4,
          22.5,
          22.6,
          22.7,
          22.8,
          22.9,
          23,
          23.1,
          23.2,
          23.3,
          23.4,
          23.5,
          23.6,
          23.7,
          23.8,
          23.9,
          24,
          24.1,
          24.2,
          24.3,
          24.4,
          24.5,
          24.6,
          24.7,
          24.8,
          24.9,
          25,
          25.1,
          25.2,
          25.3,
          25.4,
          25.5,
          25.6,
          25.7,
          25.8,
          25.9,
          26,
          26.1,
          26.2,
          26.3,
          26.4,
          26.5,
          26.6,
          26.7,
          26.8,
          26.9,
          27,
          27.1,
          27.2,
          27.3,
          27.4,
          27.5,
          27.6,
          27.7,
          27.8,
          27.9,
          28,
          28.1,
          28.2,
          28.3,
          28.4,
          28.5,
          28.6,
          28.7,
          28.8,
          28.9,
          29,
          29.1,
          29.2,
          29.3,
          29.4,
          29.5,
          29.6,
          29.7,
          29.8,
          29.9,
          30,
          30.1,
          30.2,
          30.3,
          30.4,
          30.5,
          30.6,
          30.7,
          30.8,
          30.9,
          31,
          31.1,
          31.2,
          31.3,
          31.4,
          31.5,
          31.6,
          31.7,
          31.8,
          31.9,
          32,
          32.1,
          32.2,
          32.3,
          32.4,
          32.5,
          32.6,
          32.7,
          32.8,
          32.9,
          33,
          33.1,
          33.2,
          33.3,
          33.4,
          33.5,
          33.6,
          33.7,
          33.8,
          33.9,
          34,
          34.1,
          34.2,
          34.3,
          34.4,
          34.5,
          34.6,
          34.7,
          34.8,
          34.9,
          35,
          35.1,
          35.2,
          35.3,
          35.4,
          35.5,
          35.6,
          35.7,
          35.8,
          35.9,
          36,
          36.1,
          36.2,
          36.3,
          36.4,
          36.5,
          36.6,
          36.7,
          36.8,
          36.9,
          37,
          37.1,
          37.2,
          37.3,
          37.4,
          37.5,
          37.6,
          37.7,
          37.8,
          37.9,
          38,
          38.1,
          38.2,
          38.3,
          38.4,
          38.5,
          38.6,
          38.7,
          38.8,
          38.9,
          39,
          39.1,
          39.2,
          39.3,
          39.4,
          39.5,
          39.6,
          39.7,
          39.8,
          39.9,
          40,
          40.1,
          40.2,
          40.3,
          40.4,
          40.5,
          40.6,
          40.7,
          40.8,
          40.9,
          41,
          41.1,
          41.2,
          41.3,
          41.4,
          41.5,
          41.6,
          41.7,
          41.8,
          41.9,
          42,
          42.1,
          42.2,
          42.3,
          42.4,
          42.5,
          42.6,
          42.7,
          42.8,
          42.9,
          43,
          43.1,
          43.2,
          43.3,
          43.4,
          43.5,
          43.6,
          43.7,
          43.8,
          43.9,
          44,
          44.1,
          44.2,
          44.3,
          44.4,
          44.5,
          44.6,
          44.7,
          44.8,
          44.9,
          45,
          45.1,
          45.2,
          45.3,
          45.4,
          45.5,
          45.6,
          45.7,
          45.8,
          45.9,
          46,
          46.1,
          46.2,
          46.3,
          46.4,
          46.5,
          46.6,
          46.7,
          46.8,
          46.9,
          47,
          47.1,
          47.2,
          47.3,
          47.4,
          47.5,
          47.6,
          47.7,
          47.8,
          47.9,
          48,
          48.1,
          48.2,
          48.3,
          48.4,
          48.5,
          48.6,
          48.7,
          48.8,
          48.9,
          49,
          49.1,
          49.2,
          49.3,
          49.4,
          49.5,
          49.6,
          49.7,
          49.8,
          49.9,
          50,
          50.1,
          50.2,
          50.3,
          50.4,
          50.5,
          50.6,
          50.7,
          50.8,
          50.9,
          51,
          51.1,
          51.2,
          51.3,
          51.4,
          51.5,
          51.6,
          51.7,
          51.8,
          51.9,
          52,
          52.1,
          52.2,
          52.3,
          52.4,
          52.5,
          52.6,
          52.7,
          52.8,
          52.9,
          53,
          53.1,
          53.2,
          53.3,
          53.4,
          53.5,
          53.6,
          53.7,
          53.8,
          53.9,
          54,
          54.1,
          54.2,
          54.3,
          54.4,
          54.5,
          54.6,
          54.7,
          54.8,
          54.9,
          55,
          55.1,
          55.2,
          55.3,
          55.4,
          55.5,
          55.6,
          55.7,
          55.8,
          55.9,
          56,
          56.1,
          56.2,
          56.3,
          56.4,
          56.5,
          56.6,
          56.7,
          56.8,
          56.9,
          57,
          57.1,
          57.2,
          57.3,
          57.4,
          57.5,
          57.6,
          57.7,
          57.8,
          57.9,
          58,
          58.1,
          58.2,
          58.3,
          58.4,
          58.5,
          58.6,
          58.7,
          58.8,
          58.9,
          59,
          59.1,
          59.2,
          59.3,
          59.4,
          59.5,
          59.6,
          59.7,
          59.8,
          59.9,
          60,
          60.1,
          60.2,
          60.3,
          60.4,
          60.5,
          60.6,
          60.7,
          60.8,
          60.9,
          61,
          61.1,
          61.2,
          61.3,
          61.4,
          61.5,
          61.6,
          61.7,
          61.8,
          61.9,
          62,
          62.1,
          62.2,
          62.3,
          62.4,
          62.5,
          62.6,
          62.7,
          62.8,
          62.9,
          63,
          63.1,
          63.2,
          63.3,
          63.4,
          63.5,
          63.6,
          63.7,
          63.8,
          63.9,
          64,
          64.1,
          64.2,
          64.3,
          64.4,
          64.5,
          64.6,
          64.7,
          64.8,
          64.9,
          65,
          65.1,
          65.2,
          65.3,
          65.4,
          65.5,
          65.6,
          65.7,
          65.8,
          65.9,
          66,
          66.1,
          66.2,
          66.3,
          66.4,
          66.5,
          66.6,
          66.7,
          66.8,
          66.9,
          67,
          67.1,
          67.2,
          67.3,
          67.4,
          67.5,
          67.6,
          67.7,
          67.8,
          67.9
         ],
         "xaxis": "x",
         "y": [
          0.011786213980790787,
          0.011987386853280962,
          0.012188848588628882,
          0.012390529440535364,
          0.01259236035921054,
          0.01279427311089704,
          0.012996200395796664,
          0.013198075964050761,
          0.013399834729424394,
          0.013601412880346622,
          0.013802747987962447,
          0.014003779110855784,
          0.014204446896108527,
          0.014404693676367377,
          0.014604463562598095,
          0.014803702532216008,
          0.015002358512291375,
          0.015200381457540475,
          0.015397723422825148,
          0.015594338629897692,
          0.015790183528142807,
          0.015985216849083866,
          0.016179399654438174,
          0.01637269537752315,
          0.016565069857834618,
          0.016756491368637983,
          0.016946930637433084,
          0.01713636085917534,
          0.017324757702156964,
          0.017512099306475137,
          0.017698366275036518,
          0.01788354165707107,
          0.018067610924152135,
          0.01825056193874323,
          0.01843238491531728,
          0.01861307237411733,
          0.01879261908765287,
          0.01897102202005014,
          0.01914828025939911,
          0.019324394943263126,
          0.019499369177542185,
          0.01967320794890243,
          0.01984591803100857,
          0.020017507884817,
          0.02018798755320952,
          0.020357368550267752,
          0.020525663745508425,
          0.020692887243418306,
          0.020859054258645798,
          0.021024180987222304,
          0.021188284474203074,
          0.021351382478130426,
          0.021513493332736517,
          0.021674635806313534,
          0.02183482895919038,
          0.02199409199976341,
          0.02215244413953629,
          0.022309904447629876,
          0.022466491705227895,
          0.022622224260426,
          0.02277711988395421,
          0.02293119562624124,
          0.023084467676288082,
          0.023236951222813943,
          0.02338866031813278,
          0.023539607745211768,
          0.02368980488835478,
          0.023839261607943658,
          0.023987986119659223,
          0.024135984878590342,
          0.024283262468625926,
          0.024429821497507918,
          0.024575662497907564,
          0.024720783834867543,
          0.024865181619934656,
          0.02500884963228542,
          0.02515177924712672,
          0.025293959371630183,
          0.0254353763886357,
          0.025576014108334766,
          0.025715853728120523,
          0.025854873800763515,
          0.025993050211048644,
          0.026130356160979563,
          0.0262667621636322,
          0.026402236045709675,
          0.02653674295882565,
          0.026670245399514163,
          0.026802703237937604,
          0.026934073755236886,
          0.027064311689441917,
          0.027193369289832507,
          0.027321196379615238,
          0.027447740426755487,
          0.02757294662277921,
          0.027696757969335337,
          0.027819115372285052,
          0.02793995774306387,
          0.028059222107038775,
          0.02817684371856341,
          0.02829275618241553,
          0.028406891581280534,
          0.02851918060893111,
          0.028629552708733463,
          0.028737936217100607,
          0.028844258511495486,
          0.02894844616257908,
          0.02905042509008553,
          0.029150120721999143,
          0.029247458156599453,
          0.029342362326936215,
          0.029434758167289486,
          0.029524570781169542,
          0.029611725610407053,
          0.029696148604886192,
          0.02977776639247303,
          0.029856506448694826,
          0.02993229726573018,
          0.030005068520274326,
          0.03007475123985159,
          0.030141277967154646,
          0.030204582921998274,
          0.030264602160487656,
          0.030321273731009932,
          0.030374537826672633,
          0.030424336933824063,
          0.03047061597630583,
          0.030513322455102857,
          0.030552406583071415,
          0.030587821414442665,
          0.03061952296881712,
          0.03064747034938084,
          0.030671625855096002,
          0.030691955086632916,
          0.030708427045833434,
          0.030721014228511985,
          0.030729692710421554,
          0.030734442226231045,
          0.03073524624137934,
          0.030732092016692206,
          0.030724970665666766,
          0.03071387720434764,
          0.030698810593738766,
          0.030679773774712094,
          0.030656773695395507,
          0.030629821331037317,
          0.03059893169636535,
          0.030564123850473798,
          0.03052542089428866,
          0.030482849960678536,
          0.030436442197293724,
          0.030386232742229933,
          0.03033226069262951,
          0.030274569066344008,
          0.030213204756797774,
          0.03014821848120149,
          0.03007966472227833,
          0.03000760166367512,
          0.02993209111924033,
          0.02985319845636104,
          0.029770992513559195,
          0.029685545512553688,
          0.029596932965004607,
          0.02950523357415862,
          0.02941052913162365,
          0.029312904409502273,
          0.029212447048120052,
          0.029109247439586892,
          0.0290033986074324,
          0.028894996082558716,
          0.028784137775756138,
          0.028670923847025805,
          0.02855545657195711,
          0.028437840205404193,
          0.0283181808427076,
          0.02819658627870446,
          0.028073165864769944,
          0.0279480303641303,
          0.02782129180568485,
          0.0276930633365732,
          0.02756345907371922,
          0.027432593954580416,
          0.027300583587329102,
          0.02716754410068539,
          0.027033591993620768,
          0.026898843985144704,
          0.026763416864383605,
          0.0266274273411568,
          0.02649099189724893,
          0.026354226638574462,
          0.02621724714842536,
          0.026080168341986634,
          0.025943104322302332,
          0.025806168237867275,
          0.02566947214201685,
          0.025533126854281493,
          0.025397241823868152,
          0.025261924995426645,
          0.02512728267725328,
          0.02499341941208069,
          0.02486043785059802,
          0.024728438627840195,
          0.024597520242582476,
          0.0244677789398704,
          0.024339308596812124,
          0.024212200611755812,
          0.024086543796969926,
          0.0239624242749414,
          0.023839925378401256,
          0.023719127554184614,
          0.023600108271027112,
          0.023482941931396138,
          0.023367699787451558,
          0.023254449861226413,
          0.023143256869114337,
          0.02303418215074625,
          0.022927283602335355,
          0.02282261561456516,
          0.022720229015090954,
          0.022620171015721557,
          0.022522485164344016,
          0.022427211301648684,
          0.022334385522709273,
          0.02224404014346651,
          0.022156203672160635,
          0.022070900785752565,
          0.02198815231136892,
          0.021907975212801536,
          0.021830382582086146,
          0.02175538363618072,
          0.021682983718757765,
          0.021613184307119577,
          0.021545983024240253,
          0.02148137365593139,
          0.021419346173123424,
          0.021359886759247833,
          0.021302977842699366,
          0.021248598134350857,
          0.021196722670086588,
          0.02114732285831355,
          0.021100366532403377,
          0.021055818008009677,
          0.021013638145199957,
          0.020973784415332673,
          0.02093621097260387,
          0.020900868730179434,
          0.02086770544082248,
          0.0208366657819176,
          0.02080769144478577,
          0.02078072122817716,
          0.020755691135820896,
          0.020732534477903245,
          0.020711181976339338,
          0.020691561873694655,
          0.02067360004560682,
          0.020657220116549874,
          0.020642343578776947,
          0.020628889914270233,
          0.020616776719520294,
          0.02060591983295043,
          0.02059623346479598,
          0.02058763032924159,
          0.020580021778614763,
          0.02057331793942784,
          0.02056742785005602,
          0.02056225959983386,
          0.02055772046934882,
          0.020553717071705953,
          0.020550155494534462,
          0.02054694144250395,
          0.020543980380115085,
          0.020541177674527296,
          0.020538438738184867,
          0.02053566917100033,
          0.020532774901854945,
          0.020529662329174324,
          0.02052623846033855,
          0.02052241104968675,
          0.020518088734877052,
          0.02051318117136565,
          0.020507599164770594,
          0.020501254800888952,
          0.020494061573140727,
          0.0204859345072152,
          0.020476790282702585,
          0.020466547351496858,
          0.02045512605276343,
          0.02044244872427074,
          0.020428439809891945,
          0.02041302596309083,
          0.020396136146213592,
          0.020377701725416805,
          0.02035765656107121,
          0.020335937093489267,
          0.02031248242383597,
          0.020287234390090895,
          0.020260137637941225,
          0.020231139686495925,
          0.020200190988722822,
          0.020167244986521445,
          0.020132258160356794,
          0.020095190073390817,
          0.020056003410061127,
          0.020014664009067786,
          0.01997114089074303,
          0.01992540627878982,
          0.019877435616388717,
          0.01982720757668479,
          0.01977470406767871,
          0.01971991023155885,
          0.01966281443852388,
          0.01960340827515654,
          0.01954168652742274,
          0.01947764715838031,
          0.019411291280694985,
          0.019342623124070788,
          0.019271649997713986,
          0.019198382247959788,
          0.01912283321120132,
          0.019045019162269684,
          0.018964959258423765,
          0.018882675479116227,
          0.018798192561711526,
          0.01871153793333804,
          0.01862274163906466,
          0.018531836266597906,
          0.018438856867701907,
          0.018343840876548532,
          0.018246828025209688,
          0.01814786025650781,
          0.01804698163444379,
          0.017944238252423847,
          0.01783967813950989,
          0.01773335116491717,
          0.017625308940986243,
          0.017515604724853563,
          0.017404293319046416,
          0.01729143097122498,
          0.017177075273293176,
          0.017061285060096826,
          0.016944120307924682,
          0.016825642033023558,
          0.01670591219033484,
          0.016584993572654288,
          0.01646294971041146,
          0.016339844772259436,
          0.01621574346665842,
          0.016090710944630344,
          0.01596481270385389,
          0.015838114494261528,
          0.015710682225292552,
          0.015582581874946677,
          0.015453879400775453,
          0.015324640652938247,
          0.015194931289441535,
          0.015064816693670532,
          0.014934361894312477,
          0.014803631487761973,
          0.014672689563088415,
          0.014541599629636482,
          0.014410424547321114,
          0.01427922645966831,
          0.014148066729644283,
          0.014017005878305856,
          0.013886103526295802,
          0.013755418338198173,
          0.0136250079697598,
          0.013494929017975473,
          0.013365236974026567,
          0.013235986179054719,
          0.013107229782744787,
          0.012979019704684137,
          0.012851406598458594,
          0.012724439818438965,
          0.012598167389206104,
          0.01247263597755731,
          0.012347890867031114,
          0.012223975934883915,
          0.012100933631446846,
          0.011978804961788173,
          0.011857629469603526,
          0.011737445223253012,
          0.011618288803862578,
          0.011500195295405214,
          0.011383198276676085,
          0.011267329815075295,
          0.011152620462111556,
          0.011039099250539966,
          0.010926793693048189,
          0.010815729782405742,
          0.010705931992993035,
          0.010597423283628393,
          0.010490225101613366,
          0.010384357387919351,
          0.010279838583441217,
          0.010176685636246978,
          0.010074914009755746,
          0.009974537691779974,
          0.00987556920437192,
          0.009778019614418201,
          0.009681898544930831,
          0.00958721418698704,
          0.009493973312275372,
          0.009402181286209274,
          0.009311842081574836,
          0.009222958292683398,
          0.009135531150004707,
          0.009049560535260803,
          0.008965044996965297,
          0.008881981766397299,
          0.008800366774003528,
          0.008720194666226332,
          0.00864145882275935,
          0.008564151374236531,
          0.00848826322036364,
          0.00841378404850507,
          0.008340702352741682,
          0.008269005453418462,
          0.00819867951720323,
          0.008129709577680182,
          0.008062079556503766,
          0.007995772285140205,
          0.00793076952722545,
          0.007867052001568977,
          0.007804599405833924,
          0.00774339044092406,
          0.007683402836108113,
          0.007624613374911744,
          0.007566997921806272,
          0.007510531449722751,
          0.007455188068418042,
          0.007400941053717981,
          0.00734776287766057,
          0.007295625239559799,
          0.007244499098007786,
          0.0071943547038301175,
          0.007145161634005751,
          0.0070968888265596315,
          0.007049504616431824,
          0.00700297677232364,
          0.006957272534516553,
          0.006912358653655258,
          0.006868201430482132,
          0.006824766756505221,
          0.0067820201555772895,
          0.006739926826358638,
          0.006698451685631273,
          0.006657559412427357,
          0.00661721449292945,
          0.006577381266095604,
          0.006538023969957179,
          0.006499106788532305,
          0.006460593899293502,
          0.006422449521123213,
          0.006384637962686315,
          0.006347123671144846,
          0.00630987128113563,
          0.006272845663927948,
          0.006236011976674453,
          0.006199335711665534,
          0.006162782745493925,
          0.006126319388033607,
          0.00608991243113476,
          0.006053529196934291,
          0.0060171375856793935,
          0.00598070612296084,
          0.005944204006250752,
          0.005907601150639803,
          0.005870868233667803,
          0.005833976739142174,
          0.005796898999839172,
          0.00575960823898354,
          0.005722078610403748,
          0.005684285237261667,
          0.005646204249257359,
          0.005607812818212692,
          0.005569089191939828,
          0.005530012726304323,
          0.005490563915395939,
          0.005450724419724404,
          0.005410477092361797,
          0.0053698060029574906,
          0.005328696459557136,
          0.005287135028162076,
          0.005245109549971026,
          0.005202609156252217,
          0.005159624280799497,
          0.0051161466699328265,
          0.00507216939000946,
          0.005027686832419246,
          0.004982694716043713,
          0.0049371900871658225,
          0.004891171316824094,
          0.004844638095611731,
          0.004797591425928464,
          0.004750033611699991,
          0.004701968245586558,
          0.0046534001937097065,
          0.0046043355779325675,
          0.004554781755736215
         ],
         "yaxis": "y"
        },
        {
         "legendgroup": "Male",
         "marker": {
          "color": "#1E90FF"
         },
         "mode": "lines",
         "name": "Male",
         "showlegend": false,
         "type": "scatter",
         "x": [
          18,
          18.104,
          18.208,
          18.312,
          18.416,
          18.52,
          18.624,
          18.728,
          18.832,
          18.936,
          19.04,
          19.144,
          19.248,
          19.352,
          19.456,
          19.56,
          19.664,
          19.768,
          19.872,
          19.976,
          20.08,
          20.184,
          20.288,
          20.392,
          20.496,
          20.6,
          20.704,
          20.808,
          20.912,
          21.016,
          21.12,
          21.224,
          21.328,
          21.432,
          21.536,
          21.64,
          21.744,
          21.848,
          21.951999999999998,
          22.056,
          22.16,
          22.264,
          22.368000000000002,
          22.472,
          22.576,
          22.68,
          22.784,
          22.887999999999998,
          22.992,
          23.096,
          23.2,
          23.304000000000002,
          23.408,
          23.512,
          23.616,
          23.72,
          23.823999999999998,
          23.928,
          24.032,
          24.136,
          24.240000000000002,
          24.344,
          24.448,
          24.552,
          24.656,
          24.759999999999998,
          24.864,
          24.968,
          25.072,
          25.176000000000002,
          25.28,
          25.384,
          25.488,
          25.592,
          25.695999999999998,
          25.8,
          25.904,
          26.008,
          26.112000000000002,
          26.216,
          26.32,
          26.424,
          26.528,
          26.631999999999998,
          26.736,
          26.84,
          26.944000000000003,
          27.048000000000002,
          27.152,
          27.256,
          27.36,
          27.464,
          27.567999999999998,
          27.672,
          27.776,
          27.880000000000003,
          27.984,
          28.088,
          28.192,
          28.296,
          28.4,
          28.503999999999998,
          28.608,
          28.712,
          28.816000000000003,
          28.92,
          29.024,
          29.128,
          29.232,
          29.336,
          29.439999999999998,
          29.544,
          29.648,
          29.752000000000002,
          29.856,
          29.96,
          30.064,
          30.168,
          30.272,
          30.375999999999998,
          30.48,
          30.584,
          30.688000000000002,
          30.792,
          30.896,
          31,
          31.104,
          31.208,
          31.311999999999998,
          31.416,
          31.52,
          31.624000000000002,
          31.728,
          31.832,
          31.936,
          32.04,
          32.144,
          32.248,
          32.352000000000004,
          32.456,
          32.56,
          32.664,
          32.768,
          32.872,
          32.976,
          33.08,
          33.184,
          33.288,
          33.391999999999996,
          33.496,
          33.6,
          33.704,
          33.808,
          33.912,
          34.016,
          34.120000000000005,
          34.224000000000004,
          34.328,
          34.432,
          34.536,
          34.64,
          34.744,
          34.848,
          34.952,
          35.056,
          35.16,
          35.263999999999996,
          35.367999999999995,
          35.472,
          35.576,
          35.68,
          35.784,
          35.888000000000005,
          35.992000000000004,
          36.096000000000004,
          36.2,
          36.304,
          36.408,
          36.512,
          36.616,
          36.72,
          36.824,
          36.928,
          37.032,
          37.135999999999996,
          37.239999999999995,
          37.344,
          37.448,
          37.552,
          37.656,
          37.760000000000005,
          37.864000000000004,
          37.968,
          38.072,
          38.176,
          38.28,
          38.384,
          38.488,
          38.592,
          38.696,
          38.8,
          38.903999999999996,
          39.007999999999996,
          39.111999999999995,
          39.216,
          39.32,
          39.424,
          39.528,
          39.632000000000005,
          39.736000000000004,
          39.84,
          39.944,
          40.048,
          40.152,
          40.256,
          40.36,
          40.464,
          40.568,
          40.672,
          40.775999999999996,
          40.879999999999995,
          40.984,
          41.088,
          41.192,
          41.296,
          41.4,
          41.504000000000005,
          41.608000000000004,
          41.712,
          41.816,
          41.92,
          42.024,
          42.128,
          42.232,
          42.336,
          42.44,
          42.544,
          42.647999999999996,
          42.751999999999995,
          42.856,
          42.96,
          43.064,
          43.168,
          43.272,
          43.376000000000005,
          43.480000000000004,
          43.584,
          43.688,
          43.792,
          43.896,
          44,
          44.104,
          44.208,
          44.312,
          44.416,
          44.519999999999996,
          44.623999999999995,
          44.728,
          44.832,
          44.936,
          45.04,
          45.144,
          45.248000000000005,
          45.352000000000004,
          45.456,
          45.56,
          45.664,
          45.768,
          45.872,
          45.976,
          46.08,
          46.184,
          46.288,
          46.391999999999996,
          46.495999999999995,
          46.6,
          46.704,
          46.808,
          46.912,
          47.016,
          47.120000000000005,
          47.224000000000004,
          47.328,
          47.432,
          47.536,
          47.64,
          47.744,
          47.848,
          47.952,
          48.056,
          48.16,
          48.263999999999996,
          48.367999999999995,
          48.472,
          48.576,
          48.68,
          48.784,
          48.888000000000005,
          48.992000000000004,
          49.096000000000004,
          49.2,
          49.304,
          49.408,
          49.512,
          49.616,
          49.72,
          49.824,
          49.928,
          50.032,
          50.136,
          50.24,
          50.344,
          50.448,
          50.552,
          50.656,
          50.76,
          50.864,
          50.968,
          51.072,
          51.176,
          51.28,
          51.384,
          51.488,
          51.592,
          51.696,
          51.8,
          51.904,
          52.008,
          52.112,
          52.216,
          52.32,
          52.424,
          52.528,
          52.632,
          52.736,
          52.84,
          52.944,
          53.048,
          53.152,
          53.256,
          53.36,
          53.464,
          53.568,
          53.672,
          53.776,
          53.88,
          53.984,
          54.088,
          54.192,
          54.296,
          54.4,
          54.504,
          54.608,
          54.712,
          54.816,
          54.92,
          55.024,
          55.128,
          55.232,
          55.336,
          55.44,
          55.544,
          55.648,
          55.752,
          55.856,
          55.96,
          56.064,
          56.168,
          56.272,
          56.376,
          56.48,
          56.584,
          56.688,
          56.792,
          56.896,
          57,
          57.104,
          57.208,
          57.312,
          57.416,
          57.52,
          57.624,
          57.728,
          57.832,
          57.936,
          58.04,
          58.144,
          58.248,
          58.352,
          58.456,
          58.56,
          58.664,
          58.768,
          58.872,
          58.976,
          59.08,
          59.184,
          59.288,
          59.392,
          59.496,
          59.6,
          59.704,
          59.808,
          59.912,
          60.016,
          60.12,
          60.224,
          60.328,
          60.432,
          60.536,
          60.64,
          60.744,
          60.848,
          60.952,
          61.056,
          61.16,
          61.264,
          61.368,
          61.472,
          61.576,
          61.68,
          61.784,
          61.888,
          61.992,
          62.096,
          62.2,
          62.304,
          62.408,
          62.512,
          62.616,
          62.72,
          62.824,
          62.928,
          63.032,
          63.136,
          63.24,
          63.344,
          63.448,
          63.552,
          63.656,
          63.76,
          63.864,
          63.968,
          64.072,
          64.176,
          64.28,
          64.384,
          64.488,
          64.592,
          64.696,
          64.8,
          64.904,
          65.00800000000001,
          65.112,
          65.21600000000001,
          65.32,
          65.424,
          65.52799999999999,
          65.632,
          65.73599999999999,
          65.84,
          65.944,
          66.048,
          66.152,
          66.256,
          66.36,
          66.464,
          66.568,
          66.672,
          66.77600000000001,
          66.88,
          66.98400000000001,
          67.088,
          67.19200000000001,
          67.29599999999999,
          67.4,
          67.50399999999999,
          67.608,
          67.712,
          67.816,
          67.92,
          68.024,
          68.128,
          68.232,
          68.336,
          68.44,
          68.544,
          68.648,
          68.75200000000001,
          68.856,
          68.96000000000001,
          69.064,
          69.168,
          69.27199999999999,
          69.376,
          69.47999999999999,
          69.584,
          69.688,
          69.792,
          69.896
         ],
         "xaxis": "x",
         "y": [
          0.014196027676559047,
          0.01433594686853627,
          0.014475031644244563,
          0.01461325434927513,
          0.014750588290364531,
          0.014887007753204867,
          0.01502248801861489,
          0.01515700537704627,
          0.01529053714140298,
          0.015423061658154599,
          0.015554558316728438,
          0.015685007557167993,
          0.015814390876049945,
          0.015942690830653708,
          0.016069891041383146,
          0.016195976192441678,
          0.01632093203076668,
          0.016444745363232035,
          0.01656740405213166,
          0.016688897008959456,
          0.016809214186505356,
          0.016928346569290088,
          0.017046286162364276,
          0.0171630259785015,
          0.017278560023817106,
          0.017392883281848473,
          0.01750599169613485,
          0.01761788215133796,
          0.017728552452947407,
          0.017838001305617447,
          0.017946228290184243,
          0.01805323383941535,
          0.01815901921254531,
          0.01826358646865336,
          0.018366938438941625,
          0.018469078697973564,
          0.018570011533934897,
          0.0186697419179802,
          0.018768275472730193,
          0.018865618439986187,
          0.01896177764772893,
          0.019056760476470595,
          0.019150574825029076,
          0.019243229075794954,
          0.019334732059561686,
          0.019425093019990014,
          0.019514321577778257,
          0.01960242769460965,
          0.019689421636948277,
          0.019775313939754898,
          0.01986011537019342,
          0.01994383689139839,
          0.020026489626373375,
          0.02010808482208907,
          0.020188633813849353,
          0.020268147989992037,
          0.020346638756990332,
          0.020424117505019608,
          0.020500595574052188,
          0.020576084220542093,
          0.02065059458475953,
          0.020724137658833075,
          0.02079672425555591,
          0.020868364978010617,
          0.02093907019006429,
          0.02100884998778461,
          0.021077714171824368,
          0.021145672220820193,
          0.02121273326584874,
          0.021278906065981203,
          0.021344198984974225,
          0.021408619969133336,
          0.021472176526382225,
          0.02153487570656809,
          0.02159672408303151,
          0.021657727735466027,
          0.021717892234090118,
          0.021777222625151662,
          0.02183572341778216,
          0.02189339857221516,
          0.021950251489381182,
          0.022006285001888025,
          0.02206150136639313,
          0.022115902257372148,
          0.022169488762284577,
          0.022222261378135575,
          0.022274220009429937,
          0.022325363967511887,
          0.022375691971281784,
          0.022425202149278598,
          0.022473892043114358,
          0.02252175861224488,
          0.022568798240058075,
          0.022615006741259935,
          0.022660379370535208,
          0.02270491083245839,
          0.02274859529262813,
          0.022791426389996854,
          0.02283339725036471,
          0.02287450050100595,
          0.022914728286393876,
          0.022954072284988476,
          0.022992523727049966,
          0.02303007341343973,
          0.023066711735368423,
          0.02310242869505053,
          0.023137213927222375,
          0.023171056721480544,
          0.023203946045395836,
          0.0232358705683574,
          0.023266818686100327,
          0.02329677854586995,
          0.023325738072174567,
          0.02335368499307821,
          0.023380606866984337,
          0.023406491109861104,
          0.023431325022858034,
          0.023455095820264112,
          0.023477790657756865,
          0.02349939666089182,
          0.0235199009537818,
          0.02353929068791544,
          0.023557553071064566,
          0.02357467539622987,
          0.023590645070575067,
          0.02360544964429956,
          0.023619076839400416,
          0.023631514578274438,
          0.023642751012112172,
          0.023652774549035877,
          0.023661573881934145,
          0.023669138015946903,
          0.0236754562955548,
          0.023680518431228204,
          0.023684314525591683,
          0.023686835099061002,
          0.0236880711149103,
          0.02368801400372853,
          0.02368665568722513,
          0.023683988601346115,
          0.023680005718662807,
          0.023674700569997067,
          0.02366806726524749,
          0.023660100513383246,
          0.02365079564157265,
          0.023640148613415804,
          0.02362815604625148,
          0.023614815227510393,
          0.023600124130087906,
          0.02358408142671159,
          0.023566686503279904,
          0.023547939471150157,
          0.023527841178355855,
          0.023506393219734537,
          0.023483597945949702,
          0.023459458471391376,
          0.02343397868094228,
          0.0234071632355978,
          0.023379017576930155,
          0.023349547930388674,
          0.023318761307430054,
          0.023286665506474197,
          0.023253269112683266,
          0.023218581496563206,
          0.023182612811388725,
          0.023145373989455483,
          0.023106876737163478,
          0.023067133528939108,
          0.023026157600004232,
          0.022983962938002905,
          0.022940564273497846,
          0.022895977069351106,
          0.022850217509004643,
          0.022803302483678935,
          0.022755249578508673,
          0.022706077057637573,
          0.022655803848294596,
          0.022604449523877117,
          0.02255203428606696,
          0.022498578946007607,
          0.02244410490457237,
          0.022388634131754848,
          0.022332189145214308,
          0.02227479298801044,
          0.022216469205563395,
          0.02215724182187595,
          0.02209713531505652,
          0.022036174592182697,
          0.02197438496354619,
          0.021911792116321605,
          0.021848422087701797,
          0.02178430123754456,
          0.02171945622057537,
          0.02165391395819259,
          0.021587701609921735,
          0.021520846544566527,
          0.02145337631110482,
          0.021385318609378326,
          0.021316701260625143,
          0.021247552177904833,
          0.021177899336465918,
          0.021107770744105754,
          0.02103719441157328,
          0.02096619832306446,
          0.020894810406860725,
          0.020823058506160463,
          0.020750970350152977,
          0.020678573525384283,
          0.020605895447463708,
          0.020532963333159116,
          0.02045980417292893,
          0.0203864447039371,
          0.02031291138359744,
          0.02023923036369202,
          0.0201654274651077,
          0.020091528153233364,
          0.020017557514059703,
          0.019943540231021337,
          0.019869500562620386,
          0.019795462320868616,
          0.019721448850583728,
          0.019647483009574047,
          0.01957358714974364,
          0.019499783099148436,
          0.01942609214503178,
          0.01935253501786609,
          0.019279131876425208,
          0.019205902293909765,
          0.01913286524514605,
          0.01906003909487643,
          0.018987441587157435,
          0.01891508983587885,
          0.018843000316415354,
          0.01877118885841987,
          0.018699670639764812,
          0.018628460181635942,
          0.018557571344780484,
          0.018487017326908942,
          0.018416810661247784,
          0.018346963216237643,
          0.018277486196369142,
          0.01820839014414645,
          0.0181396849431659,
          0.01807137982229505,
          0.018003483360934935,
          0.01793600349534628,
          0.017868947526017913,
          0.017802322126054013,
          0.017736133350553896,
          0.01767038664695673,
          0.017605086866321274,
          0.017540238275508904,
          0.01747584457023592,
          0.01741190888896049,
          0.017348433827566415,
          0.017285421454805574,
          0.017222873328458795,
          0.017160790512173656,
          0.01709917359293645,
          0.017038022699134243,
          0.01697733751916216,
          0.01691711732052981,
          0.016857360969419907,
          0.016798066950651672,
          0.016739233388000586,
          0.016680858064826012,
          0.016622938444957405,
          0.016565471693789857,
          0.01650845469953941,
          0.016451884094608765,
          0.01639575627701367,
          0.016340067431821186,
          0.016284813552550705,
          0.016229990462489328,
          0.016175593835873938,
          0.016121619218892755,
          0.016068062050460033,
          0.01601491768271839,
          0.015962181401224657,
          0.015909848444775623,
          0.015857914024831853,
          0.01580637334449876,
          0.015755221617025618,
          0.015704454083784566,
          0.015654066031693715,
          0.015604052810049167,
          0.015554409846733798,
          0.01550513266377112,
          0.015456216892195439,
          0.015407658286210872,
          0.015359452736613974,
          0.015311596283456725,
          0.015264085127928513,
          0.015216915643438281,
          0.015170084385879502,
          0.015123588103063516,
          0.01507742374330804,
          0.015031588463170877,
          0.01498607963432001,
          0.014940894849534222,
          0.014896031927829994,
          0.014851488918712994,
          0.014807264105554252,
          0.01476335600809349,
          0.014719763384074006,
          0.014676485230015529,
          0.01463352078113345,
          0.014590869510415024,
          0.014548531126864515,
          0.014506505572931584,
          0.014464793021138811,
          0.014423393869925822,
          0.014382308738729184,
          0.014341538462319137,
          0.014301084084415038,
          0.014260946850603438,
          0.014221128200583608,
          0.014181629759766941,
          0.014142453330257326,
          0.014103600881241074,
          0.014065074538815774,
          0.014026876575288361,
          0.013989009397973262,
          0.013951475537522611,
          0.013914277635820644,
          0.013877418433475237,
          0.013840900756939705,
          0.013804727505298433,
          0.013768901636750262,
          0.013733426154823116,
          0.01369830409435432,
          0.013663538507270031,
          0.013629132448197832,
          0.013595088959945822,
          0.013561411058881626,
          0.013528101720243957,
          0.013495163863419354,
          0.013462600337215814,
          0.013430413905164734,
          0.013398607230881808,
          0.01336718286351657,
          0.013336143223320152,
          0.013305490587359168,
          0.013275227075403625,
          0.013245354636014799,
          0.013215875032859408,
          0.0131867898312739,
          0.013158100385103112,
          0.013129807823835193,
          0.013101913040054826,
          0.013074416677234435,
          0.013047319117883207,
          0.01302062047207155,
          0.01299432056634842,
          0.012968418933066904,
          0.01294291480013305,
          0.012917807081191638,
          0.012893094366261066,
          0.012868774912829109,
          0.01284484663741953,
          0.012821307107639094,
          0.012798153534712899,
          0.01277538276651559,
          0.012752991281104348,
          0.012730975180758981,
          0.01270933018653376,
          0.012688051633323873,
          0.012667134465449816,
          0.012646573232760853,
          0.012626362087259079,
          0.01260649478024397,
          0.012586964659977438,
          0.012567764669867965,
          0.01254888734717236,
          0.012530324822213008,
          0.012512068818107614,
          0.012494110651008512,
          0.012476441230847688,
          0.012459051062583595,
          0.012441930247945295,
          0.012425068487669234,
          0.012408455084223613,
          0.012392078945015164,
          0.012375928586072863,
          0.012359992136202865,
          0.01234425734160895,
          0.012328711570972518,
          0.012313341820986258,
          0.012298134722335114,
          0.012283076546118743,
          0.012268153210709095,
          0.012253350289036954,
          0.012238653016301303,
          0.012224046298095221,
          0.012209514718942244,
          0.012195042551236872,
          0.012180613764583296,
          0.012166212035525908,
          0.012151820757665795,
          0.012137423052156834,
          0.012123001778575445,
          0.012108539546157862,
          0.012094018725398718,
          0.012079421460004756,
          0.012064729679197478,
          0.012049925110358526,
          0.012034989292011102,
          0.012019903587131155,
          0.012004649196781642,
          0.011989207174062837,
          0.011973558438372006,
          0.01195768378996483,
          0.011941563924811398,
          0.011925179449738846,
          0.011908510897852604,
          0.011891538744227784,
          0.01187424342186226,
          0.011856605337881765,
          0.01183860488998787,
          0.011820222483138765,
          0.011801438546452185,
          0.011782233550319538,
          0.01176258802372,
          0.011742482571722212,
          0.011721897893161122,
          0.011700814798476811,
          0.011679214227701469,
          0.01165707726858017,
          0.011634385174810457,
          0.011611119384384918,
          0.011587261538020699,
          0.01156279349765892,
          0.011537697365016301,
          0.01151195550017096,
          0.011485550540163453,
          0.011458465417593393,
          0.0114306833791918,
          0.011402188004348283,
          0.01137296322357173,
          0.011342993336862608,
          0.011312263031974667,
          0.011280757402542621,
          0.011248461966052815,
          0.011215362681632758,
          0.011181445967635182,
          0.011146698718991873,
          0.01111110832431247,
          0.011074662682702652,
          0.011037350220276047,
          0.01099915990633439,
          0.010960081269189709,
          0.010920104411602552,
          0.010879220025810345,
          0.010837419408119739,
          0.010794694473036787,
          0.01075103776690967,
          0.010706442481057676,
          0.010660902464361792,
          0.010614412235291335,
          0.010566966993342546,
          0.010518562629864558,
          0.010469195738249613,
          0.010418863623464128,
          0.010367564310898695,
          0.010315296554515256,
          0.010262059844270574,
          0.0102078544127964,
          0.010152681241317163,
          0.010096542064787191,
          0.010039439376230617,
          0.009981376430268188,
          0.009922357245816077,
          0.009862386607943623,
          0.009801470068877396,
          0.009739613948141207,
          0.009676825331821933,
          0.009613112070953868,
          0.009548482779014126,
          0.009482946828524502,
          0.009416514346755799,
          0.009349196210532715,
          0.00928100404013857,
          0.009211950192320847,
          0.009142047752400429,
          0.009071310525488457,
          0.008999753026816819,
          0.008927390471189772,
          0.008854238761565722,
          0.008780314476779925,
          0.008705634858420429,
          0.008630217796871169,
          0.008554081816537952,
          0.008477246060273946,
          0.008399730273023948,
          0.008321554784706784,
          0.008242740492358205,
          0.008163308841556692,
          0.008083281807157042,
          0.008002681873357138,
          0.007921532013125244
         ],
         "yaxis": "y"
        },
        {
         "legendgroup": "Female",
         "marker": {
          "color": "#FF69B4",
          "symbol": "line-ns-open"
         },
         "mode": "markers",
         "name": "Female",
         "showlegend": false,
         "type": "scatter",
         "x": [
          20,
          23,
          31,
          22,
          35,
          23,
          30,
          35,
          58,
          24,
          35,
          35,
          46,
          54,
          45,
          40,
          23,
          21,
          49,
          21,
          42,
          30,
          36,
          20,
          65,
          31,
          49,
          24,
          50,
          27,
          29,
          31,
          49,
          31,
          50,
          51,
          27,
          67,
          54,
          43,
          68,
          32,
          47,
          60,
          60,
          45,
          23,
          49,
          46,
          21,
          55,
          22,
          34,
          50,
          68,
          40,
          32,
          47,
          27,
          23,
          49,
          21,
          66,
          19,
          38,
          18,
          19,
          63,
          49,
          51,
          50,
          38,
          40,
          23,
          31,
          25,
          31,
          29,
          44,
          35,
          57,
          28,
          32,
          32,
          34,
          44,
          38,
          47,
          27,
          30,
          30,
          56,
          29,
          31,
          36,
          33,
          36,
          52,
          30,
          37,
          32,
          29,
          41,
          54,
          41,
          36,
          34,
          32,
          38,
          47,
          35,
          45
         ],
         "xaxis": "x",
         "y": [
          "Female",
          "Female",
          "Female",
          "Female",
          "Female",
          "Female",
          "Female",
          "Female",
          "Female",
          "Female",
          "Female",
          "Female",
          "Female",
          "Female",
          "Female",
          "Female",
          "Female",
          "Female",
          "Female",
          "Female",
          "Female",
          "Female",
          "Female",
          "Female",
          "Female",
          "Female",
          "Female",
          "Female",
          "Female",
          "Female",
          "Female",
          "Female",
          "Female",
          "Female",
          "Female",
          "Female",
          "Female",
          "Female",
          "Female",
          "Female",
          "Female",
          "Female",
          "Female",
          "Female",
          "Female",
          "Female",
          "Female",
          "Female",
          "Female",
          "Female",
          "Female",
          "Female",
          "Female",
          "Female",
          "Female",
          "Female",
          "Female",
          "Female",
          "Female",
          "Female",
          "Female",
          "Female",
          "Female",
          "Female",
          "Female",
          "Female",
          "Female",
          "Female",
          "Female",
          "Female",
          "Female",
          "Female",
          "Female",
          "Female",
          "Female",
          "Female",
          "Female",
          "Female",
          "Female",
          "Female",
          "Female",
          "Female",
          "Female",
          "Female",
          "Female",
          "Female",
          "Female",
          "Female",
          "Female",
          "Female",
          "Female",
          "Female",
          "Female",
          "Female",
          "Female",
          "Female",
          "Female",
          "Female",
          "Female",
          "Female",
          "Female",
          "Female",
          "Female",
          "Female",
          "Female",
          "Female",
          "Female",
          "Female",
          "Female",
          "Female",
          "Female",
          "Female"
         ],
         "yaxis": "y2"
        },
        {
         "legendgroup": "Male",
         "marker": {
          "color": "#1E90FF",
          "symbol": "line-ns-open"
         },
         "mode": "markers",
         "name": "Male",
         "showlegend": false,
         "type": "scatter",
         "x": [
          19,
          21,
          64,
          67,
          37,
          22,
          20,
          52,
          35,
          25,
          31,
          29,
          35,
          60,
          53,
          18,
          24,
          48,
          33,
          59,
          47,
          69,
          53,
          70,
          19,
          63,
          18,
          19,
          70,
          59,
          26,
          40,
          57,
          38,
          67,
          48,
          18,
          48,
          24,
          48,
          20,
          67,
          26,
          49,
          54,
          68,
          66,
          65,
          19,
          27,
          39,
          43,
          40,
          59,
          38,
          47,
          39,
          20,
          32,
          19,
          32,
          25,
          28,
          48,
          34,
          43,
          39,
          37,
          34,
          19,
          50,
          42,
          32,
          40,
          28,
          36,
          36,
          58,
          27,
          59,
          35,
          46,
          30,
          28,
          33,
          32,
          32,
          30
         ],
         "xaxis": "x",
         "y": [
          "Male",
          "Male",
          "Male",
          "Male",
          "Male",
          "Male",
          "Male",
          "Male",
          "Male",
          "Male",
          "Male",
          "Male",
          "Male",
          "Male",
          "Male",
          "Male",
          "Male",
          "Male",
          "Male",
          "Male",
          "Male",
          "Male",
          "Male",
          "Male",
          "Male",
          "Male",
          "Male",
          "Male",
          "Male",
          "Male",
          "Male",
          "Male",
          "Male",
          "Male",
          "Male",
          "Male",
          "Male",
          "Male",
          "Male",
          "Male",
          "Male",
          "Male",
          "Male",
          "Male",
          "Male",
          "Male",
          "Male",
          "Male",
          "Male",
          "Male",
          "Male",
          "Male",
          "Male",
          "Male",
          "Male",
          "Male",
          "Male",
          "Male",
          "Male",
          "Male",
          "Male",
          "Male",
          "Male",
          "Male",
          "Male",
          "Male",
          "Male",
          "Male",
          "Male",
          "Male",
          "Male",
          "Male",
          "Male",
          "Male",
          "Male",
          "Male",
          "Male",
          "Male",
          "Male",
          "Male",
          "Male",
          "Male",
          "Male",
          "Male",
          "Male",
          "Male",
          "Male",
          "Male"
         ],
         "yaxis": "y2"
        }
       ],
       "layout": {
        "barmode": "overlay",
        "hovermode": "closest",
        "legend": {
         "traceorder": "reversed"
        },
        "template": {
         "data": {
          "bar": [
           {
            "error_x": {
             "color": "#2a3f5f"
            },
            "error_y": {
             "color": "#2a3f5f"
            },
            "marker": {
             "line": {
              "color": "#E5ECF6",
              "width": 0.5
             },
             "pattern": {
              "fillmode": "overlay",
              "size": 10,
              "solidity": 0.2
             }
            },
            "type": "bar"
           }
          ],
          "barpolar": [
           {
            "marker": {
             "line": {
              "color": "#E5ECF6",
              "width": 0.5
             },
             "pattern": {
              "fillmode": "overlay",
              "size": 10,
              "solidity": 0.2
             }
            },
            "type": "barpolar"
           }
          ],
          "carpet": [
           {
            "aaxis": {
             "endlinecolor": "#2a3f5f",
             "gridcolor": "white",
             "linecolor": "white",
             "minorgridcolor": "white",
             "startlinecolor": "#2a3f5f"
            },
            "baxis": {
             "endlinecolor": "#2a3f5f",
             "gridcolor": "white",
             "linecolor": "white",
             "minorgridcolor": "white",
             "startlinecolor": "#2a3f5f"
            },
            "type": "carpet"
           }
          ],
          "choropleth": [
           {
            "colorbar": {
             "outlinewidth": 0,
             "ticks": ""
            },
            "type": "choropleth"
           }
          ],
          "contour": [
           {
            "colorbar": {
             "outlinewidth": 0,
             "ticks": ""
            },
            "colorscale": [
             [
              0,
              "#0d0887"
             ],
             [
              0.1111111111111111,
              "#46039f"
             ],
             [
              0.2222222222222222,
              "#7201a8"
             ],
             [
              0.3333333333333333,
              "#9c179e"
             ],
             [
              0.4444444444444444,
              "#bd3786"
             ],
             [
              0.5555555555555556,
              "#d8576b"
             ],
             [
              0.6666666666666666,
              "#ed7953"
             ],
             [
              0.7777777777777778,
              "#fb9f3a"
             ],
             [
              0.8888888888888888,
              "#fdca26"
             ],
             [
              1,
              "#f0f921"
             ]
            ],
            "type": "contour"
           }
          ],
          "contourcarpet": [
           {
            "colorbar": {
             "outlinewidth": 0,
             "ticks": ""
            },
            "type": "contourcarpet"
           }
          ],
          "heatmap": [
           {
            "colorbar": {
             "outlinewidth": 0,
             "ticks": ""
            },
            "colorscale": [
             [
              0,
              "#0d0887"
             ],
             [
              0.1111111111111111,
              "#46039f"
             ],
             [
              0.2222222222222222,
              "#7201a8"
             ],
             [
              0.3333333333333333,
              "#9c179e"
             ],
             [
              0.4444444444444444,
              "#bd3786"
             ],
             [
              0.5555555555555556,
              "#d8576b"
             ],
             [
              0.6666666666666666,
              "#ed7953"
             ],
             [
              0.7777777777777778,
              "#fb9f3a"
             ],
             [
              0.8888888888888888,
              "#fdca26"
             ],
             [
              1,
              "#f0f921"
             ]
            ],
            "type": "heatmap"
           }
          ],
          "heatmapgl": [
           {
            "colorbar": {
             "outlinewidth": 0,
             "ticks": ""
            },
            "colorscale": [
             [
              0,
              "#0d0887"
             ],
             [
              0.1111111111111111,
              "#46039f"
             ],
             [
              0.2222222222222222,
              "#7201a8"
             ],
             [
              0.3333333333333333,
              "#9c179e"
             ],
             [
              0.4444444444444444,
              "#bd3786"
             ],
             [
              0.5555555555555556,
              "#d8576b"
             ],
             [
              0.6666666666666666,
              "#ed7953"
             ],
             [
              0.7777777777777778,
              "#fb9f3a"
             ],
             [
              0.8888888888888888,
              "#fdca26"
             ],
             [
              1,
              "#f0f921"
             ]
            ],
            "type": "heatmapgl"
           }
          ],
          "histogram": [
           {
            "marker": {
             "pattern": {
              "fillmode": "overlay",
              "size": 10,
              "solidity": 0.2
             }
            },
            "type": "histogram"
           }
          ],
          "histogram2d": [
           {
            "colorbar": {
             "outlinewidth": 0,
             "ticks": ""
            },
            "colorscale": [
             [
              0,
              "#0d0887"
             ],
             [
              0.1111111111111111,
              "#46039f"
             ],
             [
              0.2222222222222222,
              "#7201a8"
             ],
             [
              0.3333333333333333,
              "#9c179e"
             ],
             [
              0.4444444444444444,
              "#bd3786"
             ],
             [
              0.5555555555555556,
              "#d8576b"
             ],
             [
              0.6666666666666666,
              "#ed7953"
             ],
             [
              0.7777777777777778,
              "#fb9f3a"
             ],
             [
              0.8888888888888888,
              "#fdca26"
             ],
             [
              1,
              "#f0f921"
             ]
            ],
            "type": "histogram2d"
           }
          ],
          "histogram2dcontour": [
           {
            "colorbar": {
             "outlinewidth": 0,
             "ticks": ""
            },
            "colorscale": [
             [
              0,
              "#0d0887"
             ],
             [
              0.1111111111111111,
              "#46039f"
             ],
             [
              0.2222222222222222,
              "#7201a8"
             ],
             [
              0.3333333333333333,
              "#9c179e"
             ],
             [
              0.4444444444444444,
              "#bd3786"
             ],
             [
              0.5555555555555556,
              "#d8576b"
             ],
             [
              0.6666666666666666,
              "#ed7953"
             ],
             [
              0.7777777777777778,
              "#fb9f3a"
             ],
             [
              0.8888888888888888,
              "#fdca26"
             ],
             [
              1,
              "#f0f921"
             ]
            ],
            "type": "histogram2dcontour"
           }
          ],
          "mesh3d": [
           {
            "colorbar": {
             "outlinewidth": 0,
             "ticks": ""
            },
            "type": "mesh3d"
           }
          ],
          "parcoords": [
           {
            "line": {
             "colorbar": {
              "outlinewidth": 0,
              "ticks": ""
             }
            },
            "type": "parcoords"
           }
          ],
          "pie": [
           {
            "automargin": true,
            "type": "pie"
           }
          ],
          "scatter": [
           {
            "fillpattern": {
             "fillmode": "overlay",
             "size": 10,
             "solidity": 0.2
            },
            "type": "scatter"
           }
          ],
          "scatter3d": [
           {
            "line": {
             "colorbar": {
              "outlinewidth": 0,
              "ticks": ""
             }
            },
            "marker": {
             "colorbar": {
              "outlinewidth": 0,
              "ticks": ""
             }
            },
            "type": "scatter3d"
           }
          ],
          "scattercarpet": [
           {
            "marker": {
             "colorbar": {
              "outlinewidth": 0,
              "ticks": ""
             }
            },
            "type": "scattercarpet"
           }
          ],
          "scattergeo": [
           {
            "marker": {
             "colorbar": {
              "outlinewidth": 0,
              "ticks": ""
             }
            },
            "type": "scattergeo"
           }
          ],
          "scattergl": [
           {
            "marker": {
             "colorbar": {
              "outlinewidth": 0,
              "ticks": ""
             }
            },
            "type": "scattergl"
           }
          ],
          "scattermapbox": [
           {
            "marker": {
             "colorbar": {
              "outlinewidth": 0,
              "ticks": ""
             }
            },
            "type": "scattermapbox"
           }
          ],
          "scatterpolar": [
           {
            "marker": {
             "colorbar": {
              "outlinewidth": 0,
              "ticks": ""
             }
            },
            "type": "scatterpolar"
           }
          ],
          "scatterpolargl": [
           {
            "marker": {
             "colorbar": {
              "outlinewidth": 0,
              "ticks": ""
             }
            },
            "type": "scatterpolargl"
           }
          ],
          "scatterternary": [
           {
            "marker": {
             "colorbar": {
              "outlinewidth": 0,
              "ticks": ""
             }
            },
            "type": "scatterternary"
           }
          ],
          "surface": [
           {
            "colorbar": {
             "outlinewidth": 0,
             "ticks": ""
            },
            "colorscale": [
             [
              0,
              "#0d0887"
             ],
             [
              0.1111111111111111,
              "#46039f"
             ],
             [
              0.2222222222222222,
              "#7201a8"
             ],
             [
              0.3333333333333333,
              "#9c179e"
             ],
             [
              0.4444444444444444,
              "#bd3786"
             ],
             [
              0.5555555555555556,
              "#d8576b"
             ],
             [
              0.6666666666666666,
              "#ed7953"
             ],
             [
              0.7777777777777778,
              "#fb9f3a"
             ],
             [
              0.8888888888888888,
              "#fdca26"
             ],
             [
              1,
              "#f0f921"
             ]
            ],
            "type": "surface"
           }
          ],
          "table": [
           {
            "cells": {
             "fill": {
              "color": "#EBF0F8"
             },
             "line": {
              "color": "white"
             }
            },
            "header": {
             "fill": {
              "color": "#C8D4E3"
             },
             "line": {
              "color": "white"
             }
            },
            "type": "table"
           }
          ]
         },
         "layout": {
          "annotationdefaults": {
           "arrowcolor": "#2a3f5f",
           "arrowhead": 0,
           "arrowwidth": 1
          },
          "autotypenumbers": "strict",
          "coloraxis": {
           "colorbar": {
            "outlinewidth": 0,
            "ticks": ""
           }
          },
          "colorscale": {
           "diverging": [
            [
             0,
             "#8e0152"
            ],
            [
             0.1,
             "#c51b7d"
            ],
            [
             0.2,
             "#de77ae"
            ],
            [
             0.3,
             "#f1b6da"
            ],
            [
             0.4,
             "#fde0ef"
            ],
            [
             0.5,
             "#f7f7f7"
            ],
            [
             0.6,
             "#e6f5d0"
            ],
            [
             0.7,
             "#b8e186"
            ],
            [
             0.8,
             "#7fbc41"
            ],
            [
             0.9,
             "#4d9221"
            ],
            [
             1,
             "#276419"
            ]
           ],
           "sequential": [
            [
             0,
             "#0d0887"
            ],
            [
             0.1111111111111111,
             "#46039f"
            ],
            [
             0.2222222222222222,
             "#7201a8"
            ],
            [
             0.3333333333333333,
             "#9c179e"
            ],
            [
             0.4444444444444444,
             "#bd3786"
            ],
            [
             0.5555555555555556,
             "#d8576b"
            ],
            [
             0.6666666666666666,
             "#ed7953"
            ],
            [
             0.7777777777777778,
             "#fb9f3a"
            ],
            [
             0.8888888888888888,
             "#fdca26"
            ],
            [
             1,
             "#f0f921"
            ]
           ],
           "sequentialminus": [
            [
             0,
             "#0d0887"
            ],
            [
             0.1111111111111111,
             "#46039f"
            ],
            [
             0.2222222222222222,
             "#7201a8"
            ],
            [
             0.3333333333333333,
             "#9c179e"
            ],
            [
             0.4444444444444444,
             "#bd3786"
            ],
            [
             0.5555555555555556,
             "#d8576b"
            ],
            [
             0.6666666666666666,
             "#ed7953"
            ],
            [
             0.7777777777777778,
             "#fb9f3a"
            ],
            [
             0.8888888888888888,
             "#fdca26"
            ],
            [
             1,
             "#f0f921"
            ]
           ]
          },
          "colorway": [
           "#636efa",
           "#EF553B",
           "#00cc96",
           "#ab63fa",
           "#FFA15A",
           "#19d3f3",
           "#FF6692",
           "#B6E880",
           "#FF97FF",
           "#FECB52"
          ],
          "font": {
           "color": "#2a3f5f"
          },
          "geo": {
           "bgcolor": "white",
           "lakecolor": "white",
           "landcolor": "#E5ECF6",
           "showlakes": true,
           "showland": true,
           "subunitcolor": "white"
          },
          "hoverlabel": {
           "align": "left"
          },
          "hovermode": "closest",
          "mapbox": {
           "style": "light"
          },
          "paper_bgcolor": "white",
          "plot_bgcolor": "#E5ECF6",
          "polar": {
           "angularaxis": {
            "gridcolor": "white",
            "linecolor": "white",
            "ticks": ""
           },
           "bgcolor": "#E5ECF6",
           "radialaxis": {
            "gridcolor": "white",
            "linecolor": "white",
            "ticks": ""
           }
          },
          "scene": {
           "xaxis": {
            "backgroundcolor": "#E5ECF6",
            "gridcolor": "white",
            "gridwidth": 2,
            "linecolor": "white",
            "showbackground": true,
            "ticks": "",
            "zerolinecolor": "white"
           },
           "yaxis": {
            "backgroundcolor": "#E5ECF6",
            "gridcolor": "white",
            "gridwidth": 2,
            "linecolor": "white",
            "showbackground": true,
            "ticks": "",
            "zerolinecolor": "white"
           },
           "zaxis": {
            "backgroundcolor": "#E5ECF6",
            "gridcolor": "white",
            "gridwidth": 2,
            "linecolor": "white",
            "showbackground": true,
            "ticks": "",
            "zerolinecolor": "white"
           }
          },
          "shapedefaults": {
           "line": {
            "color": "#2a3f5f"
           }
          },
          "ternary": {
           "aaxis": {
            "gridcolor": "white",
            "linecolor": "white",
            "ticks": ""
           },
           "baxis": {
            "gridcolor": "white",
            "linecolor": "white",
            "ticks": ""
           },
           "bgcolor": "#E5ECF6",
           "caxis": {
            "gridcolor": "white",
            "linecolor": "white",
            "ticks": ""
           }
          },
          "title": {
           "x": 0.05
          },
          "xaxis": {
           "automargin": true,
           "gridcolor": "white",
           "linecolor": "white",
           "ticks": "",
           "title": {
            "standoff": 15
           },
           "zerolinecolor": "white",
           "zerolinewidth": 2
          },
          "yaxis": {
           "automargin": true,
           "gridcolor": "white",
           "linecolor": "white",
           "ticks": "",
           "title": {
            "standoff": 15
           },
           "zerolinecolor": "white",
           "zerolinewidth": 2
          }
         }
        },
        "title": {
         "text": "Gender vs Age"
        },
        "xaxis": {
         "anchor": "y2",
         "domain": [
          0,
          1
         ],
         "zeroline": false
        },
        "yaxis": {
         "anchor": "free",
         "domain": [
          0.35,
          1
         ],
         "position": 0
        },
        "yaxis2": {
         "anchor": "x",
         "domain": [
          0,
          0.25
         ],
         "dtick": 1,
         "showticklabels": false
        }
       }
      }
     },
     "metadata": {},
     "output_type": "display_data"
    }
   ],
   "source": [
    "import plotly.figure_factory as ff\n",
    "\n",
    "fig = ff.create_distplot([df[df['Gender']=='Female']['Annual Income (k$)'], df[df['Gender']=='Male']['Annual Income (k$)']],\n",
    "                         group_labels=['Female', 'Male'], bin_size=3, histnorm='probability density', colors=colors)\n",
    "\n",
    "fig.update_layout(title='Gender vs Annual Income KDE')\n",
    "fig.show()\n",
    "\n",
    "fig = ff.create_distplot([df[df['Gender']=='Female']['Spending Score (1-100)'], df[df['Gender']=='Male']['Spending Score (1-100)']],\n",
    "                         group_labels=['Female', 'Male'], bin_size=3, histnorm='probability density', colors=colors)\n",
    "\n",
    "fig.update_layout(title='Gender vs Spending Score (1-100)')\n",
    "fig.show()\n",
    "fig = ff.create_distplot([df[df['Gender']=='Female']['Age'], df[df['Gender']=='Male']['Age']],\n",
    "                         group_labels=['Female', 'Male'], bin_size=3, histnorm='probability density', colors=colors)\n",
    "\n",
    "fig.update_layout(title='Gender vs Age')\n",
    "fig.show()\n"
   ]
  },
  {
   "cell_type": "code",
   "execution_count": 8,
   "metadata": {},
   "outputs": [
    {
     "data": {
      "application/vnd.plotly.v1+json": {
       "config": {
        "plotlyServerURL": "https://plot.ly"
       },
       "data": [
        {
         "mode": "markers",
         "name": "Age vs Age",
         "type": "scatter",
         "x": [
          19,
          21,
          20,
          23,
          31,
          22,
          35,
          23,
          64,
          30,
          67,
          35,
          58,
          24,
          37,
          22,
          35,
          20,
          52,
          35,
          35,
          25,
          46,
          31,
          54,
          29,
          45,
          35,
          40,
          23,
          60,
          21,
          53,
          18,
          49,
          21,
          42,
          30,
          36,
          20,
          65,
          24,
          48,
          31,
          49,
          24,
          50,
          27,
          29,
          31,
          49,
          33,
          31,
          59,
          50,
          47,
          51,
          69,
          27,
          53,
          70,
          19,
          67,
          54,
          63,
          18,
          43,
          68,
          19,
          32,
          70,
          47,
          60,
          60,
          59,
          26,
          45,
          40,
          23,
          49,
          57,
          38,
          67,
          46,
          21,
          48,
          55,
          22,
          34,
          50,
          68,
          18,
          48,
          40,
          32,
          24,
          47,
          27,
          48,
          20,
          23,
          49,
          67,
          26,
          49,
          21,
          66,
          54,
          68,
          66,
          65,
          19,
          38,
          19,
          18,
          19,
          63,
          49,
          51,
          50,
          27,
          38,
          40,
          39,
          23,
          31,
          43,
          40,
          59,
          38,
          47,
          39,
          25,
          31,
          20,
          29,
          44,
          32,
          19,
          35,
          57,
          32,
          28,
          32,
          25,
          28,
          48,
          32,
          34,
          34,
          43,
          39,
          44,
          38,
          47,
          27,
          37,
          30,
          34,
          30,
          56,
          29,
          19,
          31,
          50,
          36,
          42,
          33,
          36,
          32,
          40,
          28,
          36,
          36,
          52,
          30,
          58,
          27,
          59,
          35,
          37,
          32,
          46,
          29,
          41,
          30,
          54,
          28,
          41,
          36,
          34,
          32,
          33,
          38,
          47,
          35,
          45,
          32,
          32,
          30
         ],
         "xaxis": "x",
         "y": [
          19,
          21,
          20,
          23,
          31,
          22,
          35,
          23,
          64,
          30,
          67,
          35,
          58,
          24,
          37,
          22,
          35,
          20,
          52,
          35,
          35,
          25,
          46,
          31,
          54,
          29,
          45,
          35,
          40,
          23,
          60,
          21,
          53,
          18,
          49,
          21,
          42,
          30,
          36,
          20,
          65,
          24,
          48,
          31,
          49,
          24,
          50,
          27,
          29,
          31,
          49,
          33,
          31,
          59,
          50,
          47,
          51,
          69,
          27,
          53,
          70,
          19,
          67,
          54,
          63,
          18,
          43,
          68,
          19,
          32,
          70,
          47,
          60,
          60,
          59,
          26,
          45,
          40,
          23,
          49,
          57,
          38,
          67,
          46,
          21,
          48,
          55,
          22,
          34,
          50,
          68,
          18,
          48,
          40,
          32,
          24,
          47,
          27,
          48,
          20,
          23,
          49,
          67,
          26,
          49,
          21,
          66,
          54,
          68,
          66,
          65,
          19,
          38,
          19,
          18,
          19,
          63,
          49,
          51,
          50,
          27,
          38,
          40,
          39,
          23,
          31,
          43,
          40,
          59,
          38,
          47,
          39,
          25,
          31,
          20,
          29,
          44,
          32,
          19,
          35,
          57,
          32,
          28,
          32,
          25,
          28,
          48,
          32,
          34,
          34,
          43,
          39,
          44,
          38,
          47,
          27,
          37,
          30,
          34,
          30,
          56,
          29,
          19,
          31,
          50,
          36,
          42,
          33,
          36,
          32,
          40,
          28,
          36,
          36,
          52,
          30,
          58,
          27,
          59,
          35,
          37,
          32,
          46,
          29,
          41,
          30,
          54,
          28,
          41,
          36,
          34,
          32,
          33,
          38,
          47,
          35,
          45,
          32,
          32,
          30
         ],
         "yaxis": "y"
        },
        {
         "line": {
          "color": "red"
         },
         "mode": "lines",
         "name": "Trend",
         "type": "scatter",
         "x": [
          19,
          21,
          20,
          23,
          31,
          22,
          35,
          23,
          64,
          30,
          67,
          35,
          58,
          24,
          37,
          22,
          35,
          20,
          52,
          35,
          35,
          25,
          46,
          31,
          54,
          29,
          45,
          35,
          40,
          23,
          60,
          21,
          53,
          18,
          49,
          21,
          42,
          30,
          36,
          20,
          65,
          24,
          48,
          31,
          49,
          24,
          50,
          27,
          29,
          31,
          49,
          33,
          31,
          59,
          50,
          47,
          51,
          69,
          27,
          53,
          70,
          19,
          67,
          54,
          63,
          18,
          43,
          68,
          19,
          32,
          70,
          47,
          60,
          60,
          59,
          26,
          45,
          40,
          23,
          49,
          57,
          38,
          67,
          46,
          21,
          48,
          55,
          22,
          34,
          50,
          68,
          18,
          48,
          40,
          32,
          24,
          47,
          27,
          48,
          20,
          23,
          49,
          67,
          26,
          49,
          21,
          66,
          54,
          68,
          66,
          65,
          19,
          38,
          19,
          18,
          19,
          63,
          49,
          51,
          50,
          27,
          38,
          40,
          39,
          23,
          31,
          43,
          40,
          59,
          38,
          47,
          39,
          25,
          31,
          20,
          29,
          44,
          32,
          19,
          35,
          57,
          32,
          28,
          32,
          25,
          28,
          48,
          32,
          34,
          34,
          43,
          39,
          44,
          38,
          47,
          27,
          37,
          30,
          34,
          30,
          56,
          29,
          19,
          31,
          50,
          36,
          42,
          33,
          36,
          32,
          40,
          28,
          36,
          36,
          52,
          30,
          58,
          27,
          59,
          35,
          37,
          32,
          46,
          29,
          41,
          30,
          54,
          28,
          41,
          36,
          34,
          32,
          33,
          38,
          47,
          35,
          45,
          32,
          32,
          30
         ],
         "xaxis": "x",
         "y": [
          18.99999999999999,
          20.999999999999986,
          19.99999999999999,
          22.999999999999986,
          30.999999999999982,
          21.999999999999986,
          34.99999999999998,
          22.999999999999986,
          63.999999999999964,
          29.999999999999982,
          66.99999999999997,
          34.99999999999998,
          57.999999999999964,
          23.999999999999986,
          36.99999999999998,
          21.999999999999986,
          34.99999999999998,
          19.99999999999999,
          51.99999999999997,
          34.99999999999998,
          34.99999999999998,
          24.999999999999986,
          45.99999999999997,
          30.999999999999982,
          53.99999999999997,
          28.999999999999982,
          44.99999999999997,
          34.99999999999998,
          39.99999999999998,
          22.999999999999986,
          59.999999999999964,
          20.999999999999986,
          52.99999999999997,
          17.99999999999999,
          48.99999999999997,
          20.999999999999986,
          41.99999999999997,
          29.999999999999982,
          35.99999999999998,
          19.99999999999999,
          64.99999999999997,
          23.999999999999986,
          47.99999999999997,
          30.999999999999982,
          48.99999999999997,
          23.999999999999986,
          49.99999999999997,
          26.999999999999986,
          28.999999999999982,
          30.999999999999982,
          48.99999999999997,
          32.99999999999998,
          30.999999999999982,
          58.999999999999964,
          49.99999999999997,
          46.99999999999997,
          50.99999999999997,
          68.99999999999997,
          26.999999999999986,
          52.99999999999997,
          69.99999999999997,
          18.99999999999999,
          66.99999999999997,
          53.99999999999997,
          62.999999999999964,
          17.99999999999999,
          42.99999999999997,
          67.99999999999997,
          18.99999999999999,
          31.999999999999982,
          69.99999999999997,
          46.99999999999997,
          59.999999999999964,
          59.999999999999964,
          58.999999999999964,
          25.999999999999986,
          44.99999999999997,
          39.99999999999998,
          22.999999999999986,
          48.99999999999997,
          56.999999999999964,
          37.99999999999998,
          66.99999999999997,
          45.99999999999997,
          20.999999999999986,
          47.99999999999997,
          54.99999999999997,
          21.999999999999986,
          33.99999999999998,
          49.99999999999997,
          67.99999999999997,
          17.99999999999999,
          47.99999999999997,
          39.99999999999998,
          31.999999999999982,
          23.999999999999986,
          46.99999999999997,
          26.999999999999986,
          47.99999999999997,
          19.99999999999999,
          22.999999999999986,
          48.99999999999997,
          66.99999999999997,
          25.999999999999986,
          48.99999999999997,
          20.999999999999986,
          65.99999999999997,
          53.99999999999997,
          67.99999999999997,
          65.99999999999997,
          64.99999999999997,
          18.99999999999999,
          37.99999999999998,
          18.99999999999999,
          17.99999999999999,
          18.99999999999999,
          62.999999999999964,
          48.99999999999997,
          50.99999999999997,
          49.99999999999997,
          26.999999999999986,
          37.99999999999998,
          39.99999999999998,
          38.99999999999998,
          22.999999999999986,
          30.999999999999982,
          42.99999999999997,
          39.99999999999998,
          58.999999999999964,
          37.99999999999998,
          46.99999999999997,
          38.99999999999998,
          24.999999999999986,
          30.999999999999982,
          19.99999999999999,
          28.999999999999982,
          43.99999999999997,
          31.999999999999982,
          18.99999999999999,
          34.99999999999998,
          56.999999999999964,
          31.999999999999982,
          27.999999999999982,
          31.999999999999982,
          24.999999999999986,
          27.999999999999982,
          47.99999999999997,
          31.999999999999982,
          33.99999999999998,
          33.99999999999998,
          42.99999999999997,
          38.99999999999998,
          43.99999999999997,
          37.99999999999998,
          46.99999999999997,
          26.999999999999986,
          36.99999999999998,
          29.999999999999982,
          33.99999999999998,
          29.999999999999982,
          55.999999999999964,
          28.999999999999982,
          18.99999999999999,
          30.999999999999982,
          49.99999999999997,
          35.99999999999998,
          41.99999999999997,
          32.99999999999998,
          35.99999999999998,
          31.999999999999982,
          39.99999999999998,
          27.999999999999982,
          35.99999999999998,
          35.99999999999998,
          51.99999999999997,
          29.999999999999982,
          57.999999999999964,
          26.999999999999986,
          58.999999999999964,
          34.99999999999998,
          36.99999999999998,
          31.999999999999982,
          45.99999999999997,
          28.999999999999982,
          40.99999999999997,
          29.999999999999982,
          53.99999999999997,
          27.999999999999982,
          40.99999999999997,
          35.99999999999998,
          33.99999999999998,
          31.999999999999982,
          32.99999999999998,
          37.99999999999998,
          46.99999999999997,
          34.99999999999998,
          44.99999999999997,
          31.999999999999982,
          31.999999999999982,
          29.999999999999982
         ],
         "yaxis": "y"
        },
        {
         "mode": "markers",
         "name": "Age vs Annual Income (k$)",
         "type": "scatter",
         "x": [
          19,
          21,
          20,
          23,
          31,
          22,
          35,
          23,
          64,
          30,
          67,
          35,
          58,
          24,
          37,
          22,
          35,
          20,
          52,
          35,
          35,
          25,
          46,
          31,
          54,
          29,
          45,
          35,
          40,
          23,
          60,
          21,
          53,
          18,
          49,
          21,
          42,
          30,
          36,
          20,
          65,
          24,
          48,
          31,
          49,
          24,
          50,
          27,
          29,
          31,
          49,
          33,
          31,
          59,
          50,
          47,
          51,
          69,
          27,
          53,
          70,
          19,
          67,
          54,
          63,
          18,
          43,
          68,
          19,
          32,
          70,
          47,
          60,
          60,
          59,
          26,
          45,
          40,
          23,
          49,
          57,
          38,
          67,
          46,
          21,
          48,
          55,
          22,
          34,
          50,
          68,
          18,
          48,
          40,
          32,
          24,
          47,
          27,
          48,
          20,
          23,
          49,
          67,
          26,
          49,
          21,
          66,
          54,
          68,
          66,
          65,
          19,
          38,
          19,
          18,
          19,
          63,
          49,
          51,
          50,
          27,
          38,
          40,
          39,
          23,
          31,
          43,
          40,
          59,
          38,
          47,
          39,
          25,
          31,
          20,
          29,
          44,
          32,
          19,
          35,
          57,
          32,
          28,
          32,
          25,
          28,
          48,
          32,
          34,
          34,
          43,
          39,
          44,
          38,
          47,
          27,
          37,
          30,
          34,
          30,
          56,
          29,
          19,
          31,
          50,
          36,
          42,
          33,
          36,
          32,
          40,
          28,
          36,
          36,
          52,
          30,
          58,
          27,
          59,
          35,
          37,
          32,
          46,
          29,
          41,
          30,
          54,
          28,
          41,
          36,
          34,
          32,
          33,
          38,
          47,
          35,
          45,
          32,
          32,
          30
         ],
         "xaxis": "x2",
         "y": [
          15,
          15,
          16,
          16,
          17,
          17,
          18,
          18,
          19,
          19,
          19,
          19,
          20,
          20,
          20,
          20,
          21,
          21,
          23,
          23,
          24,
          24,
          25,
          25,
          28,
          28,
          28,
          28,
          29,
          29,
          30,
          30,
          33,
          33,
          33,
          33,
          34,
          34,
          37,
          37,
          38,
          38,
          39,
          39,
          39,
          39,
          40,
          40,
          40,
          40,
          42,
          42,
          43,
          43,
          43,
          43,
          44,
          44,
          46,
          46,
          46,
          46,
          47,
          47,
          48,
          48,
          48,
          48,
          48,
          48,
          49,
          49,
          50,
          50,
          54,
          54,
          54,
          54,
          54,
          54,
          54,
          54,
          54,
          54,
          54,
          54,
          57,
          57,
          58,
          58,
          59,
          59,
          60,
          60,
          60,
          60,
          60,
          60,
          61,
          61,
          62,
          62,
          62,
          62,
          62,
          62,
          63,
          63,
          63,
          63,
          63,
          63,
          64,
          64,
          65,
          65,
          65,
          65,
          67,
          67,
          67,
          67,
          69,
          69,
          70,
          70,
          71,
          71,
          71,
          71,
          71,
          71,
          72,
          72,
          73,
          73,
          73,
          73,
          74,
          74,
          75,
          75,
          76,
          76,
          77,
          77,
          77,
          77,
          78,
          78,
          78,
          78,
          78,
          78,
          78,
          78,
          78,
          78,
          78,
          78,
          79,
          79,
          81,
          81,
          85,
          85,
          86,
          86,
          87,
          87,
          87,
          87,
          87,
          87,
          88,
          88,
          88,
          88,
          93,
          93,
          97,
          97,
          98,
          98,
          99,
          99,
          101,
          101,
          103,
          103,
          103,
          103,
          113,
          113,
          120,
          120,
          126,
          126,
          137,
          137
         ],
         "yaxis": "y2"
        },
        {
         "line": {
          "color": "red"
         },
         "mode": "lines",
         "name": "Trend",
         "type": "scatter",
         "x": [
          19,
          21,
          20,
          23,
          31,
          22,
          35,
          23,
          64,
          30,
          67,
          35,
          58,
          24,
          37,
          22,
          35,
          20,
          52,
          35,
          35,
          25,
          46,
          31,
          54,
          29,
          45,
          35,
          40,
          23,
          60,
          21,
          53,
          18,
          49,
          21,
          42,
          30,
          36,
          20,
          65,
          24,
          48,
          31,
          49,
          24,
          50,
          27,
          29,
          31,
          49,
          33,
          31,
          59,
          50,
          47,
          51,
          69,
          27,
          53,
          70,
          19,
          67,
          54,
          63,
          18,
          43,
          68,
          19,
          32,
          70,
          47,
          60,
          60,
          59,
          26,
          45,
          40,
          23,
          49,
          57,
          38,
          67,
          46,
          21,
          48,
          55,
          22,
          34,
          50,
          68,
          18,
          48,
          40,
          32,
          24,
          47,
          27,
          48,
          20,
          23,
          49,
          67,
          26,
          49,
          21,
          66,
          54,
          68,
          66,
          65,
          19,
          38,
          19,
          18,
          19,
          63,
          49,
          51,
          50,
          27,
          38,
          40,
          39,
          23,
          31,
          43,
          40,
          59,
          38,
          47,
          39,
          25,
          31,
          20,
          29,
          44,
          32,
          19,
          35,
          57,
          32,
          28,
          32,
          25,
          28,
          48,
          32,
          34,
          34,
          43,
          39,
          44,
          38,
          47,
          27,
          37,
          30,
          34,
          30,
          56,
          29,
          19,
          31,
          50,
          36,
          42,
          33,
          36,
          32,
          40,
          28,
          36,
          36,
          52,
          30,
          58,
          27,
          59,
          35,
          37,
          32,
          46,
          29,
          41,
          30,
          54,
          28,
          41,
          36,
          34,
          32,
          33,
          38,
          47,
          35,
          45,
          32,
          32,
          30
         ],
         "xaxis": "x2",
         "y": [
          61.0227227894879,
          60.97610084596267,
          60.99941181772528,
          60.92947890243744,
          60.74299112833651,
          60.95278987420005,
          60.64974724128605,
          60.92947890243744,
          59.9737290601702,
          60.766302100099125,
          59.90379614488235,
          60.64974724128605,
          60.113594890745894,
          60.90616793067482,
          60.60312529776082,
          60.95278987420005,
          60.64974724128605,
          60.99941181772528,
          60.25346072132158,
          60.64974724128605,
          60.64974724128605,
          60.88285695891221,
          60.393326551897275,
          60.74299112833651,
          60.20683877779635,
          60.789613071861744,
          60.416637523659894,
          60.64974724128605,
          60.53319238247297,
          60.92947890243744,
          60.06697294722066,
          60.97610084596267,
          60.23014974955897,
          61.04603376125051,
          60.32339363660943,
          60.97610084596267,
          60.48657043894774,
          60.766302100099125,
          60.62643626952343,
          60.99941181772528,
          59.95041808840758,
          60.90616793067482,
          60.34670460837204,
          60.74299112833651,
          60.32339363660943,
          60.90616793067482,
          60.30008266484681,
          60.836235015386976,
          60.789613071861744,
          60.74299112833651,
          60.32339363660943,
          60.69636918481128,
          60.74299112833651,
          60.090283918983275,
          60.30008266484681,
          60.37001558013466,
          60.2767716930842,
          59.85717420135712,
          60.836235015386976,
          60.23014974955897,
          59.833863229594506,
          61.0227227894879,
          59.90379614488235,
          60.20683877779635,
          59.99704003193281,
          61.04603376125051,
          60.463259467185125,
          59.88048517311974,
          61.0227227894879,
          60.719680156573894,
          59.833863229594506,
          60.37001558013466,
          60.06697294722066,
          60.06697294722066,
          60.090283918983275,
          60.85954598714959,
          60.416637523659894,
          60.53319238247297,
          60.92947890243744,
          60.32339363660943,
          60.136905862508506,
          60.5798143259982,
          59.90379614488235,
          60.393326551897275,
          60.97610084596267,
          60.34670460837204,
          60.18352780603374,
          60.95278987420005,
          60.67305821304866,
          60.30008266484681,
          59.88048517311974,
          61.04603376125051,
          60.34670460837204,
          60.53319238247297,
          60.719680156573894,
          60.90616793067482,
          60.37001558013466,
          60.836235015386976,
          60.34670460837204,
          60.99941181772528,
          60.92947890243744,
          60.32339363660943,
          59.90379614488235,
          60.85954598714959,
          60.32339363660943,
          60.97610084596267,
          59.92710711664497,
          60.20683877779635,
          59.88048517311974,
          59.92710711664497,
          59.95041808840758,
          61.0227227894879,
          60.5798143259982,
          61.0227227894879,
          61.04603376125051,
          61.0227227894879,
          59.99704003193281,
          60.32339363660943,
          60.2767716930842,
          60.30008266484681,
          60.836235015386976,
          60.5798143259982,
          60.53319238247297,
          60.55650335423559,
          60.92947890243744,
          60.74299112833651,
          60.463259467185125,
          60.53319238247297,
          60.090283918983275,
          60.5798143259982,
          60.37001558013466,
          60.55650335423559,
          60.88285695891221,
          60.74299112833651,
          60.99941181772528,
          60.789613071861744,
          60.439948495422506,
          60.719680156573894,
          61.0227227894879,
          60.64974724128605,
          60.136905862508506,
          60.719680156573894,
          60.812924043624356,
          60.719680156573894,
          60.88285695891221,
          60.812924043624356,
          60.34670460837204,
          60.719680156573894,
          60.67305821304866,
          60.67305821304866,
          60.463259467185125,
          60.55650335423559,
          60.439948495422506,
          60.5798143259982,
          60.37001558013466,
          60.836235015386976,
          60.60312529776082,
          60.766302100099125,
          60.67305821304866,
          60.766302100099125,
          60.160216834271125,
          60.789613071861744,
          61.0227227894879,
          60.74299112833651,
          60.30008266484681,
          60.62643626952343,
          60.48657043894774,
          60.69636918481128,
          60.62643626952343,
          60.719680156573894,
          60.53319238247297,
          60.812924043624356,
          60.62643626952343,
          60.62643626952343,
          60.25346072132158,
          60.766302100099125,
          60.113594890745894,
          60.836235015386976,
          60.090283918983275,
          60.64974724128605,
          60.60312529776082,
          60.719680156573894,
          60.393326551897275,
          60.789613071861744,
          60.509881410710356,
          60.766302100099125,
          60.20683877779635,
          60.812924043624356,
          60.509881410710356,
          60.62643626952343,
          60.67305821304866,
          60.719680156573894,
          60.69636918481128,
          60.5798143259982,
          60.37001558013466,
          60.64974724128605,
          60.416637523659894,
          60.719680156573894,
          60.719680156573894,
          60.766302100099125
         ],
         "yaxis": "y2"
        },
        {
         "mode": "markers",
         "name": "Age vs Spending Score (1-100)",
         "type": "scatter",
         "x": [
          19,
          21,
          20,
          23,
          31,
          22,
          35,
          23,
          64,
          30,
          67,
          35,
          58,
          24,
          37,
          22,
          35,
          20,
          52,
          35,
          35,
          25,
          46,
          31,
          54,
          29,
          45,
          35,
          40,
          23,
          60,
          21,
          53,
          18,
          49,
          21,
          42,
          30,
          36,
          20,
          65,
          24,
          48,
          31,
          49,
          24,
          50,
          27,
          29,
          31,
          49,
          33,
          31,
          59,
          50,
          47,
          51,
          69,
          27,
          53,
          70,
          19,
          67,
          54,
          63,
          18,
          43,
          68,
          19,
          32,
          70,
          47,
          60,
          60,
          59,
          26,
          45,
          40,
          23,
          49,
          57,
          38,
          67,
          46,
          21,
          48,
          55,
          22,
          34,
          50,
          68,
          18,
          48,
          40,
          32,
          24,
          47,
          27,
          48,
          20,
          23,
          49,
          67,
          26,
          49,
          21,
          66,
          54,
          68,
          66,
          65,
          19,
          38,
          19,
          18,
          19,
          63,
          49,
          51,
          50,
          27,
          38,
          40,
          39,
          23,
          31,
          43,
          40,
          59,
          38,
          47,
          39,
          25,
          31,
          20,
          29,
          44,
          32,
          19,
          35,
          57,
          32,
          28,
          32,
          25,
          28,
          48,
          32,
          34,
          34,
          43,
          39,
          44,
          38,
          47,
          27,
          37,
          30,
          34,
          30,
          56,
          29,
          19,
          31,
          50,
          36,
          42,
          33,
          36,
          32,
          40,
          28,
          36,
          36,
          52,
          30,
          58,
          27,
          59,
          35,
          37,
          32,
          46,
          29,
          41,
          30,
          54,
          28,
          41,
          36,
          34,
          32,
          33,
          38,
          47,
          35,
          45,
          32,
          32,
          30
         ],
         "xaxis": "x3",
         "y": [
          39,
          81,
          6,
          77,
          40,
          76,
          6,
          94,
          3,
          72,
          14,
          99,
          15,
          77,
          13,
          79,
          35,
          66,
          29,
          98,
          35,
          73,
          5,
          73,
          14,
          82,
          32,
          61,
          31,
          87,
          4,
          73,
          4,
          92,
          14,
          81,
          17,
          73,
          26,
          75,
          35,
          92,
          36,
          61,
          28,
          65,
          55,
          47,
          42,
          42,
          52,
          60,
          54,
          60,
          45,
          41,
          50,
          46,
          51,
          46,
          56,
          55,
          52,
          59,
          51,
          59,
          50,
          48,
          59,
          47,
          55,
          42,
          49,
          56,
          47,
          54,
          53,
          48,
          52,
          42,
          51,
          55,
          41,
          44,
          57,
          46,
          58,
          55,
          60,
          46,
          55,
          41,
          49,
          40,
          42,
          52,
          47,
          50,
          42,
          49,
          41,
          48,
          59,
          55,
          56,
          42,
          50,
          46,
          43,
          48,
          52,
          54,
          42,
          46,
          48,
          50,
          43,
          59,
          43,
          57,
          56,
          40,
          58,
          91,
          29,
          77,
          35,
          95,
          11,
          75,
          9,
          75,
          34,
          71,
          5,
          88,
          7,
          73,
          10,
          72,
          5,
          93,
          40,
          87,
          12,
          97,
          36,
          74,
          22,
          90,
          17,
          88,
          20,
          76,
          16,
          89,
          1,
          78,
          1,
          73,
          35,
          83,
          5,
          93,
          26,
          75,
          20,
          95,
          27,
          63,
          13,
          75,
          10,
          92,
          13,
          86,
          15,
          69,
          14,
          90,
          32,
          86,
          15,
          88,
          39,
          97,
          24,
          68,
          17,
          85,
          23,
          69,
          8,
          91,
          16,
          79,
          28,
          74,
          18,
          83
         ],
         "yaxis": "y3"
        },
        {
         "line": {
          "color": "red"
         },
         "mode": "lines",
         "name": "Trend",
         "type": "scatter",
         "x": [
          19,
          21,
          20,
          23,
          31,
          22,
          35,
          23,
          64,
          30,
          67,
          35,
          58,
          24,
          37,
          22,
          35,
          20,
          52,
          35,
          35,
          25,
          46,
          31,
          54,
          29,
          45,
          35,
          40,
          23,
          60,
          21,
          53,
          18,
          49,
          21,
          42,
          30,
          36,
          20,
          65,
          24,
          48,
          31,
          49,
          24,
          50,
          27,
          29,
          31,
          49,
          33,
          31,
          59,
          50,
          47,
          51,
          69,
          27,
          53,
          70,
          19,
          67,
          54,
          63,
          18,
          43,
          68,
          19,
          32,
          70,
          47,
          60,
          60,
          59,
          26,
          45,
          40,
          23,
          49,
          57,
          38,
          67,
          46,
          21,
          48,
          55,
          22,
          34,
          50,
          68,
          18,
          48,
          40,
          32,
          24,
          47,
          27,
          48,
          20,
          23,
          49,
          67,
          26,
          49,
          21,
          66,
          54,
          68,
          66,
          65,
          19,
          38,
          19,
          18,
          19,
          63,
          49,
          51,
          50,
          27,
          38,
          40,
          39,
          23,
          31,
          43,
          40,
          59,
          38,
          47,
          39,
          25,
          31,
          20,
          29,
          44,
          32,
          19,
          35,
          57,
          32,
          28,
          32,
          25,
          28,
          48,
          32,
          34,
          34,
          43,
          39,
          44,
          38,
          47,
          27,
          37,
          30,
          34,
          30,
          56,
          29,
          19,
          31,
          50,
          36,
          42,
          33,
          36,
          32,
          40,
          28,
          36,
          36,
          52,
          30,
          58,
          27,
          59,
          35,
          37,
          32,
          46,
          29,
          41,
          30,
          54,
          28,
          41,
          36,
          34,
          32,
          33,
          38,
          47,
          35,
          45,
          32,
          32,
          30
         ],
         "xaxis": "x3",
         "y": [
          62.207687058187275,
          60.99784453343289,
          61.602765795810086,
          59.788002008678504,
          54.948631909660946,
          60.39292327105569,
          52.528946860152175,
          59.788002008678504,
          34.986230251213556,
          55.55355317203814,
          33.17146646408197,
          52.528946860152175,
          38.61575782547672,
          59.18308074630131,
          51.31910433539779,
          60.39292327105569,
          52.528946860152175,
          61.602765795810086,
          42.245285399739885,
          52.528946860152175,
          52.528946860152175,
          58.57815948392411,
          45.87481297400304,
          54.948631909660946,
          41.03544287498549,
          56.15847443441534,
          46.47973423638024,
          52.528946860152175,
          49.50434054826621,
          59.788002008678504,
          37.40591530072233,
          60.99784453343289,
          41.64036413736269,
          62.81260832056447,
          44.06004918687147,
          60.99784453343289,
          48.29449802351182,
          55.55355317203814,
          51.924025597774985,
          61.602765795810086,
          34.38130898883636,
          59.18308074630131,
          44.664970449248656,
          54.948631909660946,
          44.06004918687147,
          59.18308074630131,
          43.45512792449427,
          57.368316959169725,
          56.15847443441534,
          54.948631909660946,
          44.06004918687147,
          53.73878938490657,
          54.948631909660946,
          38.010836563099524,
          43.45512792449427,
          45.269891711625846,
          42.850206662117074,
          31.961623939327588,
          57.368316959169725,
          41.64036413736269,
          31.35670267695039,
          62.207687058187275,
          33.17146646408197,
          41.03544287498549,
          35.59115151359075,
          62.81260832056447,
          47.689576761134624,
          32.566545201704784,
          62.207687058187275,
          54.34371064728376,
          31.35670267695039,
          45.269891711625846,
          37.40591530072233,
          37.40591530072233,
          38.010836563099524,
          57.97323822154692,
          46.47973423638024,
          49.50434054826621,
          59.788002008678504,
          44.06004918687147,
          39.22067908785391,
          50.71418307302059,
          33.17146646408197,
          45.87481297400304,
          60.99784453343289,
          44.664970449248656,
          40.4305216126083,
          60.39292327105569,
          53.13386812252937,
          43.45512792449427,
          32.566545201704784,
          62.81260832056447,
          44.664970449248656,
          49.50434054826621,
          54.34371064728376,
          59.18308074630131,
          45.269891711625846,
          57.368316959169725,
          44.664970449248656,
          61.602765795810086,
          59.788002008678504,
          44.06004918687147,
          33.17146646408197,
          57.97323822154692,
          44.06004918687147,
          60.99784453343289,
          33.77638772645917,
          41.03544287498549,
          32.566545201704784,
          33.77638772645917,
          34.38130898883636,
          62.207687058187275,
          50.71418307302059,
          62.207687058187275,
          62.81260832056447,
          62.207687058187275,
          35.59115151359075,
          44.06004918687147,
          42.850206662117074,
          43.45512792449427,
          57.368316959169725,
          50.71418307302059,
          49.50434054826621,
          50.1092618106434,
          59.788002008678504,
          54.948631909660946,
          47.689576761134624,
          49.50434054826621,
          38.010836563099524,
          50.71418307302059,
          45.269891711625846,
          50.1092618106434,
          58.57815948392411,
          54.948631909660946,
          61.602765795810086,
          56.15847443441534,
          47.08465549875743,
          54.34371064728376,
          62.207687058187275,
          52.528946860152175,
          39.22067908785391,
          54.34371064728376,
          56.76339569679253,
          54.34371064728376,
          58.57815948392411,
          56.76339569679253,
          44.664970449248656,
          54.34371064728376,
          53.13386812252937,
          53.13386812252937,
          47.689576761134624,
          50.1092618106434,
          47.08465549875743,
          50.71418307302059,
          45.269891711625846,
          57.368316959169725,
          51.31910433539779,
          55.55355317203814,
          53.13386812252937,
          55.55355317203814,
          39.825600350231106,
          56.15847443441534,
          62.207687058187275,
          54.948631909660946,
          43.45512792449427,
          51.924025597774985,
          48.29449802351182,
          53.73878938490657,
          51.924025597774985,
          54.34371064728376,
          49.50434054826621,
          56.76339569679253,
          51.924025597774985,
          51.924025597774985,
          42.245285399739885,
          55.55355317203814,
          38.61575782547672,
          57.368316959169725,
          38.010836563099524,
          52.528946860152175,
          51.31910433539779,
          54.34371064728376,
          45.87481297400304,
          56.15847443441534,
          48.89941928588901,
          55.55355317203814,
          41.03544287498549,
          56.76339569679253,
          48.89941928588901,
          51.924025597774985,
          53.13386812252937,
          54.34371064728376,
          53.73878938490657,
          50.71418307302059,
          45.269891711625846,
          52.528946860152175,
          46.47973423638024,
          54.34371064728376,
          54.34371064728376,
          55.55355317203814
         ],
         "yaxis": "y3"
        },
        {
         "mode": "markers",
         "name": "Annual Income (k$) vs Age",
         "type": "scatter",
         "x": [
          15,
          15,
          16,
          16,
          17,
          17,
          18,
          18,
          19,
          19,
          19,
          19,
          20,
          20,
          20,
          20,
          21,
          21,
          23,
          23,
          24,
          24,
          25,
          25,
          28,
          28,
          28,
          28,
          29,
          29,
          30,
          30,
          33,
          33,
          33,
          33,
          34,
          34,
          37,
          37,
          38,
          38,
          39,
          39,
          39,
          39,
          40,
          40,
          40,
          40,
          42,
          42,
          43,
          43,
          43,
          43,
          44,
          44,
          46,
          46,
          46,
          46,
          47,
          47,
          48,
          48,
          48,
          48,
          48,
          48,
          49,
          49,
          50,
          50,
          54,
          54,
          54,
          54,
          54,
          54,
          54,
          54,
          54,
          54,
          54,
          54,
          57,
          57,
          58,
          58,
          59,
          59,
          60,
          60,
          60,
          60,
          60,
          60,
          61,
          61,
          62,
          62,
          62,
          62,
          62,
          62,
          63,
          63,
          63,
          63,
          63,
          63,
          64,
          64,
          65,
          65,
          65,
          65,
          67,
          67,
          67,
          67,
          69,
          69,
          70,
          70,
          71,
          71,
          71,
          71,
          71,
          71,
          72,
          72,
          73,
          73,
          73,
          73,
          74,
          74,
          75,
          75,
          76,
          76,
          77,
          77,
          77,
          77,
          78,
          78,
          78,
          78,
          78,
          78,
          78,
          78,
          78,
          78,
          78,
          78,
          79,
          79,
          81,
          81,
          85,
          85,
          86,
          86,
          87,
          87,
          87,
          87,
          87,
          87,
          88,
          88,
          88,
          88,
          93,
          93,
          97,
          97,
          98,
          98,
          99,
          99,
          101,
          101,
          103,
          103,
          103,
          103,
          113,
          113,
          120,
          120,
          126,
          126,
          137,
          137
         ],
         "xaxis": "x4",
         "y": [
          19,
          21,
          20,
          23,
          31,
          22,
          35,
          23,
          64,
          30,
          67,
          35,
          58,
          24,
          37,
          22,
          35,
          20,
          52,
          35,
          35,
          25,
          46,
          31,
          54,
          29,
          45,
          35,
          40,
          23,
          60,
          21,
          53,
          18,
          49,
          21,
          42,
          30,
          36,
          20,
          65,
          24,
          48,
          31,
          49,
          24,
          50,
          27,
          29,
          31,
          49,
          33,
          31,
          59,
          50,
          47,
          51,
          69,
          27,
          53,
          70,
          19,
          67,
          54,
          63,
          18,
          43,
          68,
          19,
          32,
          70,
          47,
          60,
          60,
          59,
          26,
          45,
          40,
          23,
          49,
          57,
          38,
          67,
          46,
          21,
          48,
          55,
          22,
          34,
          50,
          68,
          18,
          48,
          40,
          32,
          24,
          47,
          27,
          48,
          20,
          23,
          49,
          67,
          26,
          49,
          21,
          66,
          54,
          68,
          66,
          65,
          19,
          38,
          19,
          18,
          19,
          63,
          49,
          51,
          50,
          27,
          38,
          40,
          39,
          23,
          31,
          43,
          40,
          59,
          38,
          47,
          39,
          25,
          31,
          20,
          29,
          44,
          32,
          19,
          35,
          57,
          32,
          28,
          32,
          25,
          28,
          48,
          32,
          34,
          34,
          43,
          39,
          44,
          38,
          47,
          27,
          37,
          30,
          34,
          30,
          56,
          29,
          19,
          31,
          50,
          36,
          42,
          33,
          36,
          32,
          40,
          28,
          36,
          36,
          52,
          30,
          58,
          27,
          59,
          35,
          37,
          32,
          46,
          29,
          41,
          30,
          54,
          28,
          41,
          36,
          34,
          32,
          33,
          38,
          47,
          35,
          45,
          32,
          32,
          30
         ],
         "yaxis": "y4"
        },
        {
         "line": {
          "color": "red"
         },
         "mode": "lines",
         "name": "Trend",
         "type": "scatter",
         "x": [
          15,
          15,
          16,
          16,
          17,
          17,
          18,
          18,
          19,
          19,
          19,
          19,
          20,
          20,
          20,
          20,
          21,
          21,
          23,
          23,
          24,
          24,
          25,
          25,
          28,
          28,
          28,
          28,
          29,
          29,
          30,
          30,
          33,
          33,
          33,
          33,
          34,
          34,
          37,
          37,
          38,
          38,
          39,
          39,
          39,
          39,
          40,
          40,
          40,
          40,
          42,
          42,
          43,
          43,
          43,
          43,
          44,
          44,
          46,
          46,
          46,
          46,
          47,
          47,
          48,
          48,
          48,
          48,
          48,
          48,
          49,
          49,
          50,
          50,
          54,
          54,
          54,
          54,
          54,
          54,
          54,
          54,
          54,
          54,
          54,
          54,
          57,
          57,
          58,
          58,
          59,
          59,
          60,
          60,
          60,
          60,
          60,
          60,
          61,
          61,
          62,
          62,
          62,
          62,
          62,
          62,
          63,
          63,
          63,
          63,
          63,
          63,
          64,
          64,
          65,
          65,
          65,
          65,
          67,
          67,
          67,
          67,
          69,
          69,
          70,
          70,
          71,
          71,
          71,
          71,
          71,
          71,
          72,
          72,
          73,
          73,
          73,
          73,
          74,
          74,
          75,
          75,
          76,
          76,
          77,
          77,
          77,
          77,
          78,
          78,
          78,
          78,
          78,
          78,
          78,
          78,
          78,
          78,
          78,
          78,
          79,
          79,
          81,
          81,
          85,
          85,
          86,
          86,
          87,
          87,
          87,
          87,
          87,
          87,
          88,
          88,
          88,
          88,
          93,
          93,
          97,
          97,
          98,
          98,
          99,
          99,
          101,
          101,
          103,
          103,
          103,
          103,
          113,
          113,
          120,
          120,
          126,
          126,
          137,
          137
         ],
         "xaxis": "x4",
         "y": [
          39.150420521152505,
          39.150420521152505,
          39.143826567659254,
          39.143826567659254,
          39.13723261416601,
          39.13723261416601,
          39.13063866067276,
          39.13063866067276,
          39.12404470717951,
          39.12404470717951,
          39.12404470717951,
          39.12404470717951,
          39.117450753686256,
          39.117450753686256,
          39.117450753686256,
          39.117450753686256,
          39.110856800193005,
          39.110856800193005,
          39.0976688932065,
          39.0976688932065,
          39.09107493971325,
          39.09107493971325,
          39.08448098622,
          39.08448098622,
          39.06469912574025,
          39.06469912574025,
          39.06469912574025,
          39.06469912574025,
          39.058105172247,
          39.058105172247,
          39.051511218753745,
          39.051511218753745,
          39.03172935827399,
          39.03172935827399,
          39.03172935827399,
          39.03172935827399,
          39.02513540478074,
          39.02513540478074,
          39.00535354430099,
          39.00535354430099,
          38.99875959080774,
          38.99875959080774,
          38.992165637314486,
          38.992165637314486,
          38.992165637314486,
          38.992165637314486,
          38.985571683821235,
          38.985571683821235,
          38.985571683821235,
          38.985571683821235,
          38.97238377683473,
          38.97238377683473,
          38.96578982334148,
          38.96578982334148,
          38.96578982334148,
          38.96578982334148,
          38.95919586984823,
          38.95919586984823,
          38.94600796286173,
          38.94600796286173,
          38.94600796286173,
          38.94600796286173,
          38.93941400936848,
          38.93941400936848,
          38.932820055875226,
          38.932820055875226,
          38.932820055875226,
          38.932820055875226,
          38.932820055875226,
          38.932820055875226,
          38.92622610238198,
          38.92622610238198,
          38.91963214888873,
          38.91963214888873,
          38.893256334915726,
          38.893256334915726,
          38.893256334915726,
          38.893256334915726,
          38.893256334915726,
          38.893256334915726,
          38.893256334915726,
          38.893256334915726,
          38.893256334915726,
          38.893256334915726,
          38.893256334915726,
          38.893256334915726,
          38.87347447443597,
          38.87347447443597,
          38.86688052094272,
          38.86688052094272,
          38.86028656744947,
          38.86028656744947,
          38.85369261395622,
          38.85369261395622,
          38.85369261395622,
          38.85369261395622,
          38.85369261395622,
          38.85369261395622,
          38.84709866046297,
          38.84709866046297,
          38.84050470696972,
          38.84050470696972,
          38.84050470696972,
          38.84050470696972,
          38.84050470696972,
          38.84050470696972,
          38.83391075347647,
          38.83391075347647,
          38.83391075347647,
          38.83391075347647,
          38.83391075347647,
          38.83391075347647,
          38.827316799983215,
          38.827316799983215,
          38.820722846489964,
          38.820722846489964,
          38.820722846489964,
          38.820722846489964,
          38.80753493950346,
          38.80753493950346,
          38.80753493950346,
          38.80753493950346,
          38.79434703251696,
          38.79434703251696,
          38.78775307902371,
          38.78775307902371,
          38.78115912553046,
          38.78115912553046,
          38.78115912553046,
          38.78115912553046,
          38.78115912553046,
          38.78115912553046,
          38.77456517203721,
          38.77456517203721,
          38.767971218543956,
          38.767971218543956,
          38.767971218543956,
          38.767971218543956,
          38.761377265050704,
          38.761377265050704,
          38.75478331155745,
          38.75478331155745,
          38.7481893580642,
          38.7481893580642,
          38.74159540457095,
          38.74159540457095,
          38.74159540457095,
          38.74159540457095,
          38.7350014510777,
          38.7350014510777,
          38.7350014510777,
          38.7350014510777,
          38.7350014510777,
          38.7350014510777,
          38.7350014510777,
          38.7350014510777,
          38.7350014510777,
          38.7350014510777,
          38.7350014510777,
          38.7350014510777,
          38.72840749758445,
          38.72840749758445,
          38.715219590597954,
          38.715219590597954,
          38.68884377662495,
          38.68884377662495,
          38.6822498231317,
          38.6822498231317,
          38.67565586963845,
          38.67565586963845,
          38.67565586963845,
          38.67565586963845,
          38.67565586963845,
          38.67565586963845,
          38.669061916145196,
          38.669061916145196,
          38.669061916145196,
          38.669061916145196,
          38.63609214867894,
          38.63609214867894,
          38.609716334705936,
          38.609716334705936,
          38.603122381212685,
          38.603122381212685,
          38.596528427719434,
          38.596528427719434,
          38.58334052073293,
          38.58334052073293,
          38.57015261374643,
          38.57015261374643,
          38.57015261374643,
          38.57015261374643,
          38.504213078813926,
          38.504213078813926,
          38.45805540436117,
          38.45805540436117,
          38.41849168340166,
          38.41849168340166,
          38.3459581949759,
          38.3459581949759
         ],
         "yaxis": "y4"
        },
        {
         "mode": "markers",
         "name": "Annual Income (k$) vs Annual Income (k$)",
         "type": "scatter",
         "x": [
          15,
          15,
          16,
          16,
          17,
          17,
          18,
          18,
          19,
          19,
          19,
          19,
          20,
          20,
          20,
          20,
          21,
          21,
          23,
          23,
          24,
          24,
          25,
          25,
          28,
          28,
          28,
          28,
          29,
          29,
          30,
          30,
          33,
          33,
          33,
          33,
          34,
          34,
          37,
          37,
          38,
          38,
          39,
          39,
          39,
          39,
          40,
          40,
          40,
          40,
          42,
          42,
          43,
          43,
          43,
          43,
          44,
          44,
          46,
          46,
          46,
          46,
          47,
          47,
          48,
          48,
          48,
          48,
          48,
          48,
          49,
          49,
          50,
          50,
          54,
          54,
          54,
          54,
          54,
          54,
          54,
          54,
          54,
          54,
          54,
          54,
          57,
          57,
          58,
          58,
          59,
          59,
          60,
          60,
          60,
          60,
          60,
          60,
          61,
          61,
          62,
          62,
          62,
          62,
          62,
          62,
          63,
          63,
          63,
          63,
          63,
          63,
          64,
          64,
          65,
          65,
          65,
          65,
          67,
          67,
          67,
          67,
          69,
          69,
          70,
          70,
          71,
          71,
          71,
          71,
          71,
          71,
          72,
          72,
          73,
          73,
          73,
          73,
          74,
          74,
          75,
          75,
          76,
          76,
          77,
          77,
          77,
          77,
          78,
          78,
          78,
          78,
          78,
          78,
          78,
          78,
          78,
          78,
          78,
          78,
          79,
          79,
          81,
          81,
          85,
          85,
          86,
          86,
          87,
          87,
          87,
          87,
          87,
          87,
          88,
          88,
          88,
          88,
          93,
          93,
          97,
          97,
          98,
          98,
          99,
          99,
          101,
          101,
          103,
          103,
          103,
          103,
          113,
          113,
          120,
          120,
          126,
          126,
          137,
          137
         ],
         "xaxis": "x5",
         "y": [
          15,
          15,
          16,
          16,
          17,
          17,
          18,
          18,
          19,
          19,
          19,
          19,
          20,
          20,
          20,
          20,
          21,
          21,
          23,
          23,
          24,
          24,
          25,
          25,
          28,
          28,
          28,
          28,
          29,
          29,
          30,
          30,
          33,
          33,
          33,
          33,
          34,
          34,
          37,
          37,
          38,
          38,
          39,
          39,
          39,
          39,
          40,
          40,
          40,
          40,
          42,
          42,
          43,
          43,
          43,
          43,
          44,
          44,
          46,
          46,
          46,
          46,
          47,
          47,
          48,
          48,
          48,
          48,
          48,
          48,
          49,
          49,
          50,
          50,
          54,
          54,
          54,
          54,
          54,
          54,
          54,
          54,
          54,
          54,
          54,
          54,
          57,
          57,
          58,
          58,
          59,
          59,
          60,
          60,
          60,
          60,
          60,
          60,
          61,
          61,
          62,
          62,
          62,
          62,
          62,
          62,
          63,
          63,
          63,
          63,
          63,
          63,
          64,
          64,
          65,
          65,
          65,
          65,
          67,
          67,
          67,
          67,
          69,
          69,
          70,
          70,
          71,
          71,
          71,
          71,
          71,
          71,
          72,
          72,
          73,
          73,
          73,
          73,
          74,
          74,
          75,
          75,
          76,
          76,
          77,
          77,
          77,
          77,
          78,
          78,
          78,
          78,
          78,
          78,
          78,
          78,
          78,
          78,
          78,
          78,
          79,
          79,
          81,
          81,
          85,
          85,
          86,
          86,
          87,
          87,
          87,
          87,
          87,
          87,
          88,
          88,
          88,
          88,
          93,
          93,
          97,
          97,
          98,
          98,
          99,
          99,
          101,
          101,
          103,
          103,
          103,
          103,
          113,
          113,
          120,
          120,
          126,
          126,
          137,
          137
         ],
         "yaxis": "y5"
        },
        {
         "line": {
          "color": "red"
         },
         "mode": "lines",
         "name": "Trend",
         "type": "scatter",
         "x": [
          15,
          15,
          16,
          16,
          17,
          17,
          18,
          18,
          19,
          19,
          19,
          19,
          20,
          20,
          20,
          20,
          21,
          21,
          23,
          23,
          24,
          24,
          25,
          25,
          28,
          28,
          28,
          28,
          29,
          29,
          30,
          30,
          33,
          33,
          33,
          33,
          34,
          34,
          37,
          37,
          38,
          38,
          39,
          39,
          39,
          39,
          40,
          40,
          40,
          40,
          42,
          42,
          43,
          43,
          43,
          43,
          44,
          44,
          46,
          46,
          46,
          46,
          47,
          47,
          48,
          48,
          48,
          48,
          48,
          48,
          49,
          49,
          50,
          50,
          54,
          54,
          54,
          54,
          54,
          54,
          54,
          54,
          54,
          54,
          54,
          54,
          57,
          57,
          58,
          58,
          59,
          59,
          60,
          60,
          60,
          60,
          60,
          60,
          61,
          61,
          62,
          62,
          62,
          62,
          62,
          62,
          63,
          63,
          63,
          63,
          63,
          63,
          64,
          64,
          65,
          65,
          65,
          65,
          67,
          67,
          67,
          67,
          69,
          69,
          70,
          70,
          71,
          71,
          71,
          71,
          71,
          71,
          72,
          72,
          73,
          73,
          73,
          73,
          74,
          74,
          75,
          75,
          76,
          76,
          77,
          77,
          77,
          77,
          78,
          78,
          78,
          78,
          78,
          78,
          78,
          78,
          78,
          78,
          78,
          78,
          79,
          79,
          81,
          81,
          85,
          85,
          86,
          86,
          87,
          87,
          87,
          87,
          87,
          87,
          88,
          88,
          88,
          88,
          93,
          93,
          97,
          97,
          98,
          98,
          99,
          99,
          101,
          101,
          103,
          103,
          103,
          103,
          113,
          113,
          120,
          120,
          126,
          126,
          137,
          137
         ],
         "xaxis": "x5",
         "y": [
          15.000000000000004,
          15.000000000000004,
          16.000000000000004,
          16.000000000000004,
          17.000000000000004,
          17.000000000000004,
          18.000000000000004,
          18.000000000000004,
          19.000000000000004,
          19.000000000000004,
          19.000000000000004,
          19.000000000000004,
          20.000000000000004,
          20.000000000000004,
          20.000000000000004,
          20.000000000000004,
          21.000000000000004,
          21.000000000000004,
          23.000000000000004,
          23.000000000000004,
          24.000000000000004,
          24.000000000000004,
          25.000000000000004,
          25.000000000000004,
          28.000000000000004,
          28.000000000000004,
          28.000000000000004,
          28.000000000000004,
          29.000000000000004,
          29.000000000000004,
          30.000000000000004,
          30.000000000000004,
          33.00000000000001,
          33.00000000000001,
          33.00000000000001,
          33.00000000000001,
          34.00000000000001,
          34.00000000000001,
          37.00000000000001,
          37.00000000000001,
          38.00000000000001,
          38.00000000000001,
          39.00000000000001,
          39.00000000000001,
          39.00000000000001,
          39.00000000000001,
          40.00000000000001,
          40.00000000000001,
          40.00000000000001,
          40.00000000000001,
          42.00000000000001,
          42.00000000000001,
          43.00000000000001,
          43.00000000000001,
          43.00000000000001,
          43.00000000000001,
          44.00000000000001,
          44.00000000000001,
          46.00000000000001,
          46.00000000000001,
          46.00000000000001,
          46.00000000000001,
          47.00000000000001,
          47.00000000000001,
          48.00000000000001,
          48.00000000000001,
          48.00000000000001,
          48.00000000000001,
          48.00000000000001,
          48.00000000000001,
          49.00000000000001,
          49.00000000000001,
          50.00000000000001,
          50.00000000000001,
          54.00000000000001,
          54.00000000000001,
          54.00000000000001,
          54.00000000000001,
          54.00000000000001,
          54.00000000000001,
          54.00000000000001,
          54.00000000000001,
          54.00000000000001,
          54.00000000000001,
          54.00000000000001,
          54.00000000000001,
          57.00000000000001,
          57.00000000000001,
          58.00000000000001,
          58.00000000000001,
          59.00000000000001,
          59.00000000000001,
          60.00000000000001,
          60.00000000000001,
          60.00000000000001,
          60.00000000000001,
          60.00000000000001,
          60.00000000000001,
          61.00000000000001,
          61.00000000000001,
          62.00000000000001,
          62.00000000000001,
          62.00000000000001,
          62.00000000000001,
          62.00000000000001,
          62.00000000000001,
          63.00000000000001,
          63.00000000000001,
          63.00000000000001,
          63.00000000000001,
          63.00000000000001,
          63.00000000000001,
          64,
          64,
          65,
          65,
          65,
          65,
          67,
          67,
          67,
          67,
          69,
          69,
          70,
          70,
          71,
          71,
          71,
          71,
          71,
          71,
          72,
          72,
          73,
          73,
          73,
          73,
          74,
          74,
          75,
          75,
          76,
          76,
          77,
          77,
          77,
          77,
          78,
          78,
          78,
          78,
          78,
          78,
          78,
          78,
          78,
          78,
          78,
          78,
          79,
          79,
          81,
          81,
          85,
          85,
          86,
          86,
          87,
          87,
          87,
          87,
          87,
          87,
          88,
          88,
          88,
          88,
          93,
          93,
          97,
          97,
          98,
          98,
          99,
          99,
          101,
          101,
          103,
          103,
          103,
          103,
          113,
          113,
          120,
          120,
          126,
          126,
          137,
          137
         ],
         "yaxis": "y5"
        },
        {
         "mode": "markers",
         "name": "Annual Income (k$) vs Spending Score (1-100)",
         "type": "scatter",
         "x": [
          15,
          15,
          16,
          16,
          17,
          17,
          18,
          18,
          19,
          19,
          19,
          19,
          20,
          20,
          20,
          20,
          21,
          21,
          23,
          23,
          24,
          24,
          25,
          25,
          28,
          28,
          28,
          28,
          29,
          29,
          30,
          30,
          33,
          33,
          33,
          33,
          34,
          34,
          37,
          37,
          38,
          38,
          39,
          39,
          39,
          39,
          40,
          40,
          40,
          40,
          42,
          42,
          43,
          43,
          43,
          43,
          44,
          44,
          46,
          46,
          46,
          46,
          47,
          47,
          48,
          48,
          48,
          48,
          48,
          48,
          49,
          49,
          50,
          50,
          54,
          54,
          54,
          54,
          54,
          54,
          54,
          54,
          54,
          54,
          54,
          54,
          57,
          57,
          58,
          58,
          59,
          59,
          60,
          60,
          60,
          60,
          60,
          60,
          61,
          61,
          62,
          62,
          62,
          62,
          62,
          62,
          63,
          63,
          63,
          63,
          63,
          63,
          64,
          64,
          65,
          65,
          65,
          65,
          67,
          67,
          67,
          67,
          69,
          69,
          70,
          70,
          71,
          71,
          71,
          71,
          71,
          71,
          72,
          72,
          73,
          73,
          73,
          73,
          74,
          74,
          75,
          75,
          76,
          76,
          77,
          77,
          77,
          77,
          78,
          78,
          78,
          78,
          78,
          78,
          78,
          78,
          78,
          78,
          78,
          78,
          79,
          79,
          81,
          81,
          85,
          85,
          86,
          86,
          87,
          87,
          87,
          87,
          87,
          87,
          88,
          88,
          88,
          88,
          93,
          93,
          97,
          97,
          98,
          98,
          99,
          99,
          101,
          101,
          103,
          103,
          103,
          103,
          113,
          113,
          120,
          120,
          126,
          126,
          137,
          137
         ],
         "xaxis": "x6",
         "y": [
          39,
          81,
          6,
          77,
          40,
          76,
          6,
          94,
          3,
          72,
          14,
          99,
          15,
          77,
          13,
          79,
          35,
          66,
          29,
          98,
          35,
          73,
          5,
          73,
          14,
          82,
          32,
          61,
          31,
          87,
          4,
          73,
          4,
          92,
          14,
          81,
          17,
          73,
          26,
          75,
          35,
          92,
          36,
          61,
          28,
          65,
          55,
          47,
          42,
          42,
          52,
          60,
          54,
          60,
          45,
          41,
          50,
          46,
          51,
          46,
          56,
          55,
          52,
          59,
          51,
          59,
          50,
          48,
          59,
          47,
          55,
          42,
          49,
          56,
          47,
          54,
          53,
          48,
          52,
          42,
          51,
          55,
          41,
          44,
          57,
          46,
          58,
          55,
          60,
          46,
          55,
          41,
          49,
          40,
          42,
          52,
          47,
          50,
          42,
          49,
          41,
          48,
          59,
          55,
          56,
          42,
          50,
          46,
          43,
          48,
          52,
          54,
          42,
          46,
          48,
          50,
          43,
          59,
          43,
          57,
          56,
          40,
          58,
          91,
          29,
          77,
          35,
          95,
          11,
          75,
          9,
          75,
          34,
          71,
          5,
          88,
          7,
          73,
          10,
          72,
          5,
          93,
          40,
          87,
          12,
          97,
          36,
          74,
          22,
          90,
          17,
          88,
          20,
          76,
          16,
          89,
          1,
          78,
          1,
          73,
          35,
          83,
          5,
          93,
          26,
          75,
          20,
          95,
          27,
          63,
          13,
          75,
          10,
          92,
          13,
          86,
          15,
          69,
          14,
          90,
          32,
          86,
          15,
          88,
          39,
          97,
          24,
          68,
          17,
          85,
          23,
          69,
          8,
          91,
          16,
          79,
          28,
          74,
          18,
          83
         ],
         "yaxis": "y6"
        },
        {
         "line": {
          "color": "red"
         },
         "mode": "lines",
         "name": "Trend",
         "type": "scatter",
         "x": [
          15,
          15,
          16,
          16,
          17,
          17,
          18,
          18,
          19,
          19,
          19,
          19,
          20,
          20,
          20,
          20,
          21,
          21,
          23,
          23,
          24,
          24,
          25,
          25,
          28,
          28,
          28,
          28,
          29,
          29,
          30,
          30,
          33,
          33,
          33,
          33,
          34,
          34,
          37,
          37,
          38,
          38,
          39,
          39,
          39,
          39,
          40,
          40,
          40,
          40,
          42,
          42,
          43,
          43,
          43,
          43,
          44,
          44,
          46,
          46,
          46,
          46,
          47,
          47,
          48,
          48,
          48,
          48,
          48,
          48,
          49,
          49,
          50,
          50,
          54,
          54,
          54,
          54,
          54,
          54,
          54,
          54,
          54,
          54,
          54,
          54,
          57,
          57,
          58,
          58,
          59,
          59,
          60,
          60,
          60,
          60,
          60,
          60,
          61,
          61,
          62,
          62,
          62,
          62,
          62,
          62,
          63,
          63,
          63,
          63,
          63,
          63,
          64,
          64,
          65,
          65,
          65,
          65,
          67,
          67,
          67,
          67,
          69,
          69,
          70,
          70,
          71,
          71,
          71,
          71,
          71,
          71,
          72,
          72,
          73,
          73,
          73,
          73,
          74,
          74,
          75,
          75,
          76,
          76,
          77,
          77,
          77,
          77,
          78,
          78,
          78,
          78,
          78,
          78,
          78,
          78,
          78,
          78,
          78,
          78,
          79,
          79,
          81,
          81,
          85,
          85,
          86,
          86,
          87,
          87,
          87,
          87,
          87,
          87,
          88,
          88,
          88,
          88,
          93,
          93,
          97,
          97,
          98,
          98,
          99,
          99,
          101,
          101,
          103,
          103,
          103,
          103,
          113,
          113,
          120,
          120,
          126,
          126,
          137,
          137
         ],
         "xaxis": "x6",
         "y": [
          49.75640513856334,
          49.75640513856334,
          49.766141636838945,
          49.766141636838945,
          49.77587813511455,
          49.77587813511455,
          49.78561463339016,
          49.78561463339016,
          49.79535113166577,
          49.79535113166577,
          49.79535113166577,
          49.79535113166577,
          49.805087629941376,
          49.805087629941376,
          49.805087629941376,
          49.805087629941376,
          49.81482412821698,
          49.81482412821698,
          49.83429712476819,
          49.83429712476819,
          49.8440336230438,
          49.8440336230438,
          49.85377012131941,
          49.85377012131941,
          49.88297961614623,
          49.88297961614623,
          49.88297961614623,
          49.88297961614623,
          49.89271611442184,
          49.89271611442184,
          49.902452612697445,
          49.902452612697445,
          49.93166210752426,
          49.93166210752426,
          49.93166210752426,
          49.93166210752426,
          49.94139860579987,
          49.94139860579987,
          49.97060810062669,
          49.97060810062669,
          49.9803445989023,
          49.9803445989023,
          49.99008109717791,
          49.99008109717791,
          49.99008109717791,
          49.99008109717791,
          49.999817595453514,
          49.999817595453514,
          49.999817595453514,
          49.999817595453514,
          50.01929059200472,
          50.01929059200472,
          50.02902709028033,
          50.02902709028033,
          50.02902709028033,
          50.02902709028033,
          50.03876358855594,
          50.03876358855594,
          50.05823658510715,
          50.05823658510715,
          50.05823658510715,
          50.05823658510715,
          50.06797308338276,
          50.06797308338276,
          50.07770958165837,
          50.07770958165837,
          50.07770958165837,
          50.07770958165837,
          50.07770958165837,
          50.07770958165837,
          50.087446079933976,
          50.087446079933976,
          50.09718257820958,
          50.09718257820958,
          50.13612857131201,
          50.13612857131201,
          50.13612857131201,
          50.13612857131201,
          50.13612857131201,
          50.13612857131201,
          50.13612857131201,
          50.13612857131201,
          50.13612857131201,
          50.13612857131201,
          50.13612857131201,
          50.13612857131201,
          50.16533806613883,
          50.16533806613883,
          50.17507456441444,
          50.17507456441444,
          50.184811062690045,
          50.184811062690045,
          50.194547560965646,
          50.194547560965646,
          50.194547560965646,
          50.194547560965646,
          50.194547560965646,
          50.194547560965646,
          50.20428405924125,
          50.20428405924125,
          50.21402055751686,
          50.21402055751686,
          50.21402055751686,
          50.21402055751686,
          50.21402055751686,
          50.21402055751686,
          50.22375705579247,
          50.22375705579247,
          50.22375705579247,
          50.22375705579247,
          50.22375705579247,
          50.22375705579247,
          50.233493554068076,
          50.233493554068076,
          50.243230052343684,
          50.243230052343684,
          50.243230052343684,
          50.243230052343684,
          50.2627030488949,
          50.2627030488949,
          50.2627030488949,
          50.2627030488949,
          50.28217604544611,
          50.28217604544611,
          50.291912543721715,
          50.291912543721715,
          50.30164904199732,
          50.30164904199732,
          50.30164904199732,
          50.30164904199732,
          50.30164904199732,
          50.30164904199732,
          50.31138554027293,
          50.31138554027293,
          50.32112203854854,
          50.32112203854854,
          50.32112203854854,
          50.32112203854854,
          50.330858536824145,
          50.330858536824145,
          50.34059503509975,
          50.34059503509975,
          50.35033153337536,
          50.35033153337536,
          50.36006803165097,
          50.36006803165097,
          50.36006803165097,
          50.36006803165097,
          50.36980452992657,
          50.36980452992657,
          50.36980452992657,
          50.36980452992657,
          50.36980452992657,
          50.36980452992657,
          50.36980452992657,
          50.36980452992657,
          50.36980452992657,
          50.36980452992657,
          50.36980452992657,
          50.36980452992657,
          50.379541028202176,
          50.379541028202176,
          50.39901402475339,
          50.39901402475339,
          50.43796001785582,
          50.43796001785582,
          50.44769651613143,
          50.44769651613143,
          50.45743301440703,
          50.45743301440703,
          50.45743301440703,
          50.45743301440703,
          50.45743301440703,
          50.45743301440703,
          50.46716951268264,
          50.46716951268264,
          50.46716951268264,
          50.46716951268264,
          50.515852004060676,
          50.515852004060676,
          50.5547979971631,
          50.5547979971631,
          50.56453449543871,
          50.56453449543871,
          50.574270993714315,
          50.574270993714315,
          50.59374399026553,
          50.59374399026553,
          50.613216986816745,
          50.613216986816745,
          50.613216986816745,
          50.613216986816745,
          50.710581969572814,
          50.710581969572814,
          50.77873745750206,
          50.77873745750206,
          50.8371564471557,
          50.8371564471557,
          50.944257928187376,
          50.944257928187376
         ],
         "yaxis": "y6"
        },
        {
         "mode": "markers",
         "name": "Spending Score (1-100) vs Age",
         "type": "scatter",
         "x": [
          39,
          81,
          6,
          77,
          40,
          76,
          6,
          94,
          3,
          72,
          14,
          99,
          15,
          77,
          13,
          79,
          35,
          66,
          29,
          98,
          35,
          73,
          5,
          73,
          14,
          82,
          32,
          61,
          31,
          87,
          4,
          73,
          4,
          92,
          14,
          81,
          17,
          73,
          26,
          75,
          35,
          92,
          36,
          61,
          28,
          65,
          55,
          47,
          42,
          42,
          52,
          60,
          54,
          60,
          45,
          41,
          50,
          46,
          51,
          46,
          56,
          55,
          52,
          59,
          51,
          59,
          50,
          48,
          59,
          47,
          55,
          42,
          49,
          56,
          47,
          54,
          53,
          48,
          52,
          42,
          51,
          55,
          41,
          44,
          57,
          46,
          58,
          55,
          60,
          46,
          55,
          41,
          49,
          40,
          42,
          52,
          47,
          50,
          42,
          49,
          41,
          48,
          59,
          55,
          56,
          42,
          50,
          46,
          43,
          48,
          52,
          54,
          42,
          46,
          48,
          50,
          43,
          59,
          43,
          57,
          56,
          40,
          58,
          91,
          29,
          77,
          35,
          95,
          11,
          75,
          9,
          75,
          34,
          71,
          5,
          88,
          7,
          73,
          10,
          72,
          5,
          93,
          40,
          87,
          12,
          97,
          36,
          74,
          22,
          90,
          17,
          88,
          20,
          76,
          16,
          89,
          1,
          78,
          1,
          73,
          35,
          83,
          5,
          93,
          26,
          75,
          20,
          95,
          27,
          63,
          13,
          75,
          10,
          92,
          13,
          86,
          15,
          69,
          14,
          90,
          32,
          86,
          15,
          88,
          39,
          97,
          24,
          68,
          17,
          85,
          23,
          69,
          8,
          91,
          16,
          79,
          28,
          74,
          18,
          83
         ],
         "xaxis": "x7",
         "y": [
          19,
          21,
          20,
          23,
          31,
          22,
          35,
          23,
          64,
          30,
          67,
          35,
          58,
          24,
          37,
          22,
          35,
          20,
          52,
          35,
          35,
          25,
          46,
          31,
          54,
          29,
          45,
          35,
          40,
          23,
          60,
          21,
          53,
          18,
          49,
          21,
          42,
          30,
          36,
          20,
          65,
          24,
          48,
          31,
          49,
          24,
          50,
          27,
          29,
          31,
          49,
          33,
          31,
          59,
          50,
          47,
          51,
          69,
          27,
          53,
          70,
          19,
          67,
          54,
          63,
          18,
          43,
          68,
          19,
          32,
          70,
          47,
          60,
          60,
          59,
          26,
          45,
          40,
          23,
          49,
          57,
          38,
          67,
          46,
          21,
          48,
          55,
          22,
          34,
          50,
          68,
          18,
          48,
          40,
          32,
          24,
          47,
          27,
          48,
          20,
          23,
          49,
          67,
          26,
          49,
          21,
          66,
          54,
          68,
          66,
          65,
          19,
          38,
          19,
          18,
          19,
          63,
          49,
          51,
          50,
          27,
          38,
          40,
          39,
          23,
          31,
          43,
          40,
          59,
          38,
          47,
          39,
          25,
          31,
          20,
          29,
          44,
          32,
          19,
          35,
          57,
          32,
          28,
          32,
          25,
          28,
          48,
          32,
          34,
          34,
          43,
          39,
          44,
          38,
          47,
          27,
          37,
          30,
          34,
          30,
          56,
          29,
          19,
          31,
          50,
          36,
          42,
          33,
          36,
          32,
          40,
          28,
          36,
          36,
          52,
          30,
          58,
          27,
          59,
          35,
          37,
          32,
          46,
          29,
          41,
          30,
          54,
          28,
          41,
          36,
          34,
          32,
          33,
          38,
          47,
          35,
          45,
          32,
          32,
          30
         ],
         "yaxis": "y7"
        },
        {
         "line": {
          "color": "red"
         },
         "mode": "lines",
         "name": "Trend",
         "type": "scatter",
         "x": [
          39,
          81,
          6,
          77,
          40,
          76,
          6,
          94,
          3,
          72,
          14,
          99,
          15,
          77,
          13,
          79,
          35,
          66,
          29,
          98,
          35,
          73,
          5,
          73,
          14,
          82,
          32,
          61,
          31,
          87,
          4,
          73,
          4,
          92,
          14,
          81,
          17,
          73,
          26,
          75,
          35,
          92,
          36,
          61,
          28,
          65,
          55,
          47,
          42,
          42,
          52,
          60,
          54,
          60,
          45,
          41,
          50,
          46,
          51,
          46,
          56,
          55,
          52,
          59,
          51,
          59,
          50,
          48,
          59,
          47,
          55,
          42,
          49,
          56,
          47,
          54,
          53,
          48,
          52,
          42,
          51,
          55,
          41,
          44,
          57,
          46,
          58,
          55,
          60,
          46,
          55,
          41,
          49,
          40,
          42,
          52,
          47,
          50,
          42,
          49,
          41,
          48,
          59,
          55,
          56,
          42,
          50,
          46,
          43,
          48,
          52,
          54,
          42,
          46,
          48,
          50,
          43,
          59,
          43,
          57,
          56,
          40,
          58,
          91,
          29,
          77,
          35,
          95,
          11,
          75,
          9,
          75,
          34,
          71,
          5,
          88,
          7,
          73,
          10,
          72,
          5,
          93,
          40,
          87,
          12,
          97,
          36,
          74,
          22,
          90,
          17,
          88,
          20,
          76,
          16,
          89,
          1,
          78,
          1,
          73,
          35,
          83,
          5,
          93,
          26,
          75,
          20,
          95,
          27,
          63,
          13,
          75,
          10,
          92,
          13,
          86,
          15,
          69,
          14,
          90,
          32,
          86,
          15,
          88,
          39,
          97,
          24,
          68,
          17,
          85,
          23,
          69,
          8,
          91,
          16,
          79,
          28,
          74,
          18,
          83
         ],
         "xaxis": "x7",
         "y": [
          40.83251748251747,
          33.398076923076914,
          46.67386363636362,
          34.106118881118874,
          40.65550699300698,
          34.28312937062937,
          46.67386363636362,
          31.096940559440554,
          47.20489510489509,
          34.99117132867132,
          45.2577797202797,
          30.211888111888108,
          45.080769230769214,
          34.106118881118874,
          45.434790209790194,
          33.752097902097894,
          41.54055944055943,
          36.05323426573426,
          42.60262237762236,
          30.388898601398598,
          41.54055944055943,
          34.814160839160834,
          46.85087412587411,
          34.814160839160834,
          45.2577797202797,
          33.22106643356643,
          42.071590909090894,
          36.9382867132867,
          42.24860139860138,
          32.33601398601398,
          47.02788461538459,
          34.814160839160834,
          47.02788461538459,
          31.450961538461534,
          45.2577797202797,
          33.398076923076914,
          44.72674825174823,
          34.814160839160834,
          43.133653846153834,
          34.460139860139854,
          41.54055944055943,
          31.450961538461534,
          41.36354895104894,
          36.9382867132867,
          42.779632867132854,
          36.23024475524475,
          38.00034965034964,
          39.416433566433554,
          40.301486013986,
          40.301486013986,
          38.53138111888111,
          37.115297202797194,
          38.17736013986013,
          37.115297202797194,
          39.770454545454534,
          40.47849650349649,
          38.88540209790209,
          39.59344405594405,
          38.708391608391594,
          39.59344405594405,
          37.823339160839154,
          38.00034965034964,
          38.53138111888111,
          37.29230769230768,
          38.708391608391594,
          37.29230769230768,
          38.88540209790209,
          39.23942307692307,
          37.29230769230768,
          39.416433566433554,
          38.00034965034964,
          40.301486013986,
          39.062412587412574,
          37.823339160839154,
          39.416433566433554,
          38.17736013986013,
          38.35437062937062,
          39.23942307692307,
          38.53138111888111,
          40.301486013986,
          38.708391608391594,
          38.00034965034964,
          40.47849650349649,
          39.94746503496502,
          37.64632867132866,
          39.59344405594405,
          37.469318181818174,
          38.00034965034964,
          37.115297202797194,
          39.59344405594405,
          38.00034965034964,
          40.47849650349649,
          39.062412587412574,
          40.65550699300698,
          40.301486013986,
          38.53138111888111,
          39.416433566433554,
          38.88540209790209,
          40.301486013986,
          39.062412587412574,
          40.47849650349649,
          39.23942307692307,
          37.29230769230768,
          38.00034965034964,
          37.823339160839154,
          40.301486013986,
          38.88540209790209,
          39.59344405594405,
          40.124475524475514,
          39.23942307692307,
          38.53138111888111,
          38.17736013986013,
          40.301486013986,
          39.59344405594405,
          39.23942307692307,
          38.88540209790209,
          40.124475524475514,
          37.29230769230768,
          40.124475524475514,
          37.64632867132866,
          37.823339160839154,
          40.65550699300698,
          37.469318181818174,
          31.627972027972024,
          42.60262237762236,
          34.106118881118874,
          41.54055944055943,
          30.919930069930068,
          45.788811188811174,
          34.460139860139854,
          46.14283216783215,
          34.460139860139854,
          41.717569930069914,
          35.16818181818181,
          46.85087412587411,
          32.15900349650349,
          46.49685314685313,
          34.814160839160834,
          45.96582167832166,
          34.99117132867132,
          46.85087412587411,
          31.273951048951044,
          40.65550699300698,
          32.33601398601398,
          45.61180069930068,
          30.565909090909088,
          41.36354895104894,
          34.63715034965034,
          43.84169580419579,
          31.804982517482514,
          44.72674825174823,
          32.15900349650349,
          44.19571678321677,
          34.28312937062937,
          44.90375874125873,
          31.981993006993,
          47.55891608391607,
          33.92910839160838,
          47.55891608391607,
          34.814160839160834,
          41.54055944055943,
          33.04405594405594,
          46.85087412587411,
          31.273951048951044,
          43.133653846153834,
          34.460139860139854,
          44.19571678321677,
          30.919930069930068,
          42.95664335664334,
          36.58426573426573,
          45.434790209790194,
          34.460139860139854,
          45.96582167832166,
          31.450961538461534,
          45.434790209790194,
          32.513024475524475,
          45.080769230769214,
          35.52220279720279,
          45.2577797202797,
          31.804982517482514,
          42.071590909090894,
          32.513024475524475,
          45.080769230769214,
          32.15900349650349,
          40.83251748251747,
          30.565909090909088,
          43.48767482517481,
          35.69921328671328,
          44.72674825174823,
          32.69003496503496,
          43.6646853146853,
          35.52220279720279,
          46.31984265734264,
          31.627972027972024,
          44.90375874125873,
          33.752097902097894,
          42.779632867132854,
          34.63715034965034,
          44.54973776223775,
          33.04405594405594
         ],
         "yaxis": "y7"
        },
        {
         "mode": "markers",
         "name": "Spending Score (1-100) vs Annual Income (k$)",
         "type": "scatter",
         "x": [
          39,
          81,
          6,
          77,
          40,
          76,
          6,
          94,
          3,
          72,
          14,
          99,
          15,
          77,
          13,
          79,
          35,
          66,
          29,
          98,
          35,
          73,
          5,
          73,
          14,
          82,
          32,
          61,
          31,
          87,
          4,
          73,
          4,
          92,
          14,
          81,
          17,
          73,
          26,
          75,
          35,
          92,
          36,
          61,
          28,
          65,
          55,
          47,
          42,
          42,
          52,
          60,
          54,
          60,
          45,
          41,
          50,
          46,
          51,
          46,
          56,
          55,
          52,
          59,
          51,
          59,
          50,
          48,
          59,
          47,
          55,
          42,
          49,
          56,
          47,
          54,
          53,
          48,
          52,
          42,
          51,
          55,
          41,
          44,
          57,
          46,
          58,
          55,
          60,
          46,
          55,
          41,
          49,
          40,
          42,
          52,
          47,
          50,
          42,
          49,
          41,
          48,
          59,
          55,
          56,
          42,
          50,
          46,
          43,
          48,
          52,
          54,
          42,
          46,
          48,
          50,
          43,
          59,
          43,
          57,
          56,
          40,
          58,
          91,
          29,
          77,
          35,
          95,
          11,
          75,
          9,
          75,
          34,
          71,
          5,
          88,
          7,
          73,
          10,
          72,
          5,
          93,
          40,
          87,
          12,
          97,
          36,
          74,
          22,
          90,
          17,
          88,
          20,
          76,
          16,
          89,
          1,
          78,
          1,
          73,
          35,
          83,
          5,
          93,
          26,
          75,
          20,
          95,
          27,
          63,
          13,
          75,
          10,
          92,
          13,
          86,
          15,
          69,
          14,
          90,
          32,
          86,
          15,
          88,
          39,
          97,
          24,
          68,
          17,
          85,
          23,
          69,
          8,
          91,
          16,
          79,
          28,
          74,
          18,
          83
         ],
         "xaxis": "x8",
         "y": [
          15,
          15,
          16,
          16,
          17,
          17,
          18,
          18,
          19,
          19,
          19,
          19,
          20,
          20,
          20,
          20,
          21,
          21,
          23,
          23,
          24,
          24,
          25,
          25,
          28,
          28,
          28,
          28,
          29,
          29,
          30,
          30,
          33,
          33,
          33,
          33,
          34,
          34,
          37,
          37,
          38,
          38,
          39,
          39,
          39,
          39,
          40,
          40,
          40,
          40,
          42,
          42,
          43,
          43,
          43,
          43,
          44,
          44,
          46,
          46,
          46,
          46,
          47,
          47,
          48,
          48,
          48,
          48,
          48,
          48,
          49,
          49,
          50,
          50,
          54,
          54,
          54,
          54,
          54,
          54,
          54,
          54,
          54,
          54,
          54,
          54,
          57,
          57,
          58,
          58,
          59,
          59,
          60,
          60,
          60,
          60,
          60,
          60,
          61,
          61,
          62,
          62,
          62,
          62,
          62,
          62,
          63,
          63,
          63,
          63,
          63,
          63,
          64,
          64,
          65,
          65,
          65,
          65,
          67,
          67,
          67,
          67,
          69,
          69,
          70,
          70,
          71,
          71,
          71,
          71,
          71,
          71,
          72,
          72,
          73,
          73,
          73,
          73,
          74,
          74,
          75,
          75,
          76,
          76,
          77,
          77,
          77,
          77,
          78,
          78,
          78,
          78,
          78,
          78,
          78,
          78,
          78,
          78,
          78,
          78,
          79,
          79,
          81,
          81,
          85,
          85,
          86,
          86,
          87,
          87,
          87,
          87,
          87,
          87,
          88,
          88,
          88,
          88,
          93,
          93,
          97,
          97,
          98,
          98,
          99,
          99,
          101,
          101,
          103,
          103,
          103,
          103,
          113,
          113,
          120,
          120,
          126,
          126,
          137,
          137
         ],
         "yaxis": "y8"
        },
        {
         "line": {
          "color": "red"
         },
         "mode": "lines",
         "name": "Trend",
         "type": "scatter",
         "x": [
          39,
          81,
          6,
          77,
          40,
          76,
          6,
          94,
          3,
          72,
          14,
          99,
          15,
          77,
          13,
          79,
          35,
          66,
          29,
          98,
          35,
          73,
          5,
          73,
          14,
          82,
          32,
          61,
          31,
          87,
          4,
          73,
          4,
          92,
          14,
          81,
          17,
          73,
          26,
          75,
          35,
          92,
          36,
          61,
          28,
          65,
          55,
          47,
          42,
          42,
          52,
          60,
          54,
          60,
          45,
          41,
          50,
          46,
          51,
          46,
          56,
          55,
          52,
          59,
          51,
          59,
          50,
          48,
          59,
          47,
          55,
          42,
          49,
          56,
          47,
          54,
          53,
          48,
          52,
          42,
          51,
          55,
          41,
          44,
          57,
          46,
          58,
          55,
          60,
          46,
          55,
          41,
          49,
          40,
          42,
          52,
          47,
          50,
          42,
          49,
          41,
          48,
          59,
          55,
          56,
          42,
          50,
          46,
          43,
          48,
          52,
          54,
          42,
          46,
          48,
          50,
          43,
          59,
          43,
          57,
          56,
          40,
          58,
          91,
          29,
          77,
          35,
          95,
          11,
          75,
          9,
          75,
          34,
          71,
          5,
          88,
          7,
          73,
          10,
          72,
          5,
          93,
          40,
          87,
          12,
          97,
          36,
          74,
          22,
          90,
          17,
          88,
          20,
          76,
          16,
          89,
          1,
          78,
          1,
          73,
          35,
          83,
          5,
          93,
          26,
          75,
          20,
          95,
          27,
          63,
          13,
          75,
          10,
          92,
          13,
          86,
          15,
          69,
          14,
          90,
          32,
          86,
          15,
          88,
          39,
          97,
          24,
          68,
          17,
          85,
          23,
          69,
          8,
          91,
          16,
          79,
          28,
          74,
          18,
          83
         ],
         "xaxis": "x8",
         "y": [
          60.4471931516759,
          60.87021883289123,
          60.114815830720985,
          60.82993067277549,
          60.457265191704835,
          60.81985863274655,
          60.114815830720985,
          61.001155353267414,
          60.08459971063418,
          60.77957047263081,
          60.19539215095248,
          61.051515553412095,
          60.20546419098142,
          60.82993067277549,
          60.18532011092354,
          60.850074752833365,
          60.40690499156015,
          60.71913823245718,
          60.34647275138653,
          61.04144351338316,
          60.40690499156015,
          60.78964251265974,
          60.10474379069205,
          60.78964251265974,
          60.19539215095248,
          60.88029087292017,
          60.37668887147334,
          60.6687780323125,
          60.366616831444404,
          60.93065107306486,
          60.09467175066311,
          60.78964251265974,
          60.09467175066311,
          60.98101127320954,
          60.19539215095248,
          60.87021883289123,
          60.22560827103929,
          60.78964251265974,
          60.31625663129972,
          60.809786592717614,
          60.40690499156015,
          60.98101127320954,
          60.416977031589084,
          60.6687780323125,
          60.33640071135759,
          60.70906619242825,
          60.608345792138884,
          60.52776947190739,
          60.47740927176271,
          60.47740927176271,
          60.57812967205207,
          60.658705992283565,
          60.59827375210995,
          60.658705992283565,
          60.507625391849515,
          60.46733723173377,
          60.557985591994196,
          60.51769743187845,
          60.568057632023134,
          60.51769743187845,
          60.61841783216782,
          60.608345792138884,
          60.57812967205207,
          60.64863395225463,
          60.568057632023134,
          60.64863395225463,
          60.557985591994196,
          60.53784151193633,
          60.64863395225463,
          60.52776947190739,
          60.608345792138884,
          60.47740927176271,
          60.547913551965266,
          60.61841783216782,
          60.52776947190739,
          60.59827375210995,
          60.58820171208101,
          60.53784151193633,
          60.57812967205207,
          60.47740927176271,
          60.568057632023134,
          60.608345792138884,
          60.46733723173377,
          60.49755335182058,
          60.62848987219676,
          60.51769743187845,
          60.63856191222569,
          60.608345792138884,
          60.658705992283565,
          60.51769743187845,
          60.608345792138884,
          60.46733723173377,
          60.547913551965266,
          60.457265191704835,
          60.47740927176271,
          60.57812967205207,
          60.52776947190739,
          60.557985591994196,
          60.47740927176271,
          60.547913551965266,
          60.46733723173377,
          60.53784151193633,
          60.64863395225463,
          60.608345792138884,
          60.61841783216782,
          60.47740927176271,
          60.557985591994196,
          60.51769743187845,
          60.48748131179164,
          60.53784151193633,
          60.57812967205207,
          60.59827375210995,
          60.47740927176271,
          60.51769743187845,
          60.53784151193633,
          60.557985591994196,
          60.48748131179164,
          60.64863395225463,
          60.48748131179164,
          60.62848987219676,
          60.61841783216782,
          60.457265191704835,
          60.63856191222569,
          60.9709392331806,
          60.34647275138653,
          60.82993067277549,
          60.40690499156015,
          61.01122739329635,
          60.16517603086567,
          60.809786592717614,
          60.1450319508078,
          60.809786592717614,
          60.396832951531216,
          60.76949843260187,
          60.10474379069205,
          60.940723113093796,
          60.12488787074992,
          60.78964251265974,
          60.155103990836736,
          60.77957047263081,
          60.10474379069205,
          60.99108331323848,
          60.457265191704835,
          60.93065107306486,
          60.175248070894604,
          61.03137147335422,
          60.416977031589084,
          60.79971455268868,
          60.27596847118397,
          60.960867193151664,
          60.22560827103929,
          60.940723113093796,
          60.2558243911261,
          60.81985863274655,
          60.215536231010354,
          60.950795153122726,
          60.064455630576305,
          60.84000271280443,
          60.064455630576305,
          60.78964251265974,
          60.40690499156015,
          60.89036291294911,
          60.10474379069205,
          60.99108331323848,
          60.31625663129972,
          60.809786592717614,
          60.2558243911261,
          61.01122739329635,
          60.32632867132865,
          60.68892211237038,
          60.18532011092354,
          60.809786592717614,
          60.155103990836736,
          60.98101127320954,
          60.18532011092354,
          60.92057903303592,
          60.20546419098142,
          60.749354352543996,
          60.19539215095248,
          60.960867193151664,
          60.37668887147334,
          60.92057903303592,
          60.20546419098142,
          60.940723113093796,
          60.4471931516759,
          61.03137147335422,
          60.29611255124185,
          60.73928231251506,
          60.22560827103929,
          60.91050699300698,
          60.28604051121291,
          60.749354352543996,
          60.13495991077886,
          60.9709392331806,
          60.215536231010354,
          60.850074752833365,
          60.33640071135759,
          60.79971455268868,
          60.23568031106823,
          60.89036291294911
         ],
         "yaxis": "y8"
        },
        {
         "mode": "markers",
         "name": "Spending Score (1-100) vs Spending Score (1-100)",
         "type": "scatter",
         "x": [
          39,
          81,
          6,
          77,
          40,
          76,
          6,
          94,
          3,
          72,
          14,
          99,
          15,
          77,
          13,
          79,
          35,
          66,
          29,
          98,
          35,
          73,
          5,
          73,
          14,
          82,
          32,
          61,
          31,
          87,
          4,
          73,
          4,
          92,
          14,
          81,
          17,
          73,
          26,
          75,
          35,
          92,
          36,
          61,
          28,
          65,
          55,
          47,
          42,
          42,
          52,
          60,
          54,
          60,
          45,
          41,
          50,
          46,
          51,
          46,
          56,
          55,
          52,
          59,
          51,
          59,
          50,
          48,
          59,
          47,
          55,
          42,
          49,
          56,
          47,
          54,
          53,
          48,
          52,
          42,
          51,
          55,
          41,
          44,
          57,
          46,
          58,
          55,
          60,
          46,
          55,
          41,
          49,
          40,
          42,
          52,
          47,
          50,
          42,
          49,
          41,
          48,
          59,
          55,
          56,
          42,
          50,
          46,
          43,
          48,
          52,
          54,
          42,
          46,
          48,
          50,
          43,
          59,
          43,
          57,
          56,
          40,
          58,
          91,
          29,
          77,
          35,
          95,
          11,
          75,
          9,
          75,
          34,
          71,
          5,
          88,
          7,
          73,
          10,
          72,
          5,
          93,
          40,
          87,
          12,
          97,
          36,
          74,
          22,
          90,
          17,
          88,
          20,
          76,
          16,
          89,
          1,
          78,
          1,
          73,
          35,
          83,
          5,
          93,
          26,
          75,
          20,
          95,
          27,
          63,
          13,
          75,
          10,
          92,
          13,
          86,
          15,
          69,
          14,
          90,
          32,
          86,
          15,
          88,
          39,
          97,
          24,
          68,
          17,
          85,
          23,
          69,
          8,
          91,
          16,
          79,
          28,
          74,
          18,
          83
         ],
         "xaxis": "x9",
         "y": [
          39,
          81,
          6,
          77,
          40,
          76,
          6,
          94,
          3,
          72,
          14,
          99,
          15,
          77,
          13,
          79,
          35,
          66,
          29,
          98,
          35,
          73,
          5,
          73,
          14,
          82,
          32,
          61,
          31,
          87,
          4,
          73,
          4,
          92,
          14,
          81,
          17,
          73,
          26,
          75,
          35,
          92,
          36,
          61,
          28,
          65,
          55,
          47,
          42,
          42,
          52,
          60,
          54,
          60,
          45,
          41,
          50,
          46,
          51,
          46,
          56,
          55,
          52,
          59,
          51,
          59,
          50,
          48,
          59,
          47,
          55,
          42,
          49,
          56,
          47,
          54,
          53,
          48,
          52,
          42,
          51,
          55,
          41,
          44,
          57,
          46,
          58,
          55,
          60,
          46,
          55,
          41,
          49,
          40,
          42,
          52,
          47,
          50,
          42,
          49,
          41,
          48,
          59,
          55,
          56,
          42,
          50,
          46,
          43,
          48,
          52,
          54,
          42,
          46,
          48,
          50,
          43,
          59,
          43,
          57,
          56,
          40,
          58,
          91,
          29,
          77,
          35,
          95,
          11,
          75,
          9,
          75,
          34,
          71,
          5,
          88,
          7,
          73,
          10,
          72,
          5,
          93,
          40,
          87,
          12,
          97,
          36,
          74,
          22,
          90,
          17,
          88,
          20,
          76,
          16,
          89,
          1,
          78,
          1,
          73,
          35,
          83,
          5,
          93,
          26,
          75,
          20,
          95,
          27,
          63,
          13,
          75,
          10,
          92,
          13,
          86,
          15,
          69,
          14,
          90,
          32,
          86,
          15,
          88,
          39,
          97,
          24,
          68,
          17,
          85,
          23,
          69,
          8,
          91,
          16,
          79,
          28,
          74,
          18,
          83
         ],
         "yaxis": "y9"
        },
        {
         "line": {
          "color": "red"
         },
         "mode": "lines",
         "name": "Trend",
         "type": "scatter",
         "x": [
          39,
          81,
          6,
          77,
          40,
          76,
          6,
          94,
          3,
          72,
          14,
          99,
          15,
          77,
          13,
          79,
          35,
          66,
          29,
          98,
          35,
          73,
          5,
          73,
          14,
          82,
          32,
          61,
          31,
          87,
          4,
          73,
          4,
          92,
          14,
          81,
          17,
          73,
          26,
          75,
          35,
          92,
          36,
          61,
          28,
          65,
          55,
          47,
          42,
          42,
          52,
          60,
          54,
          60,
          45,
          41,
          50,
          46,
          51,
          46,
          56,
          55,
          52,
          59,
          51,
          59,
          50,
          48,
          59,
          47,
          55,
          42,
          49,
          56,
          47,
          54,
          53,
          48,
          52,
          42,
          51,
          55,
          41,
          44,
          57,
          46,
          58,
          55,
          60,
          46,
          55,
          41,
          49,
          40,
          42,
          52,
          47,
          50,
          42,
          49,
          41,
          48,
          59,
          55,
          56,
          42,
          50,
          46,
          43,
          48,
          52,
          54,
          42,
          46,
          48,
          50,
          43,
          59,
          43,
          57,
          56,
          40,
          58,
          91,
          29,
          77,
          35,
          95,
          11,
          75,
          9,
          75,
          34,
          71,
          5,
          88,
          7,
          73,
          10,
          72,
          5,
          93,
          40,
          87,
          12,
          97,
          36,
          74,
          22,
          90,
          17,
          88,
          20,
          76,
          16,
          89,
          1,
          78,
          1,
          73,
          35,
          83,
          5,
          93,
          26,
          75,
          20,
          95,
          27,
          63,
          13,
          75,
          10,
          92,
          13,
          86,
          15,
          69,
          14,
          90,
          32,
          86,
          15,
          88,
          39,
          97,
          24,
          68,
          17,
          85,
          23,
          69,
          8,
          91,
          16,
          79,
          28,
          74,
          18,
          83
         ],
         "xaxis": "x9",
         "y": [
          38.999999999999986,
          80.99999999999997,
          5.999999999999991,
          76.99999999999997,
          39.999999999999986,
          75.99999999999997,
          5.999999999999991,
          93.99999999999997,
          2.9999999999999916,
          71.99999999999997,
          13.99999999999999,
          98.99999999999997,
          14.99999999999999,
          76.99999999999997,
          12.99999999999999,
          78.99999999999997,
          34.999999999999986,
          65.99999999999997,
          28.99999999999999,
          97.99999999999997,
          34.999999999999986,
          72.99999999999997,
          4.999999999999991,
          72.99999999999997,
          13.99999999999999,
          81.99999999999997,
          31.99999999999999,
          60.999999999999986,
          30.99999999999999,
          86.99999999999997,
          3.9999999999999916,
          72.99999999999997,
          3.9999999999999916,
          91.99999999999997,
          13.99999999999999,
          80.99999999999997,
          16.99999999999999,
          72.99999999999997,
          25.99999999999999,
          74.99999999999997,
          34.999999999999986,
          91.99999999999997,
          35.999999999999986,
          60.999999999999986,
          27.99999999999999,
          64.99999999999997,
          54.999999999999986,
          46.999999999999986,
          41.999999999999986,
          41.999999999999986,
          51.999999999999986,
          59.999999999999986,
          53.999999999999986,
          59.999999999999986,
          44.999999999999986,
          40.999999999999986,
          49.999999999999986,
          45.999999999999986,
          50.999999999999986,
          45.999999999999986,
          55.999999999999986,
          54.999999999999986,
          51.999999999999986,
          58.999999999999986,
          50.999999999999986,
          58.999999999999986,
          49.999999999999986,
          47.999999999999986,
          58.999999999999986,
          46.999999999999986,
          54.999999999999986,
          41.999999999999986,
          48.999999999999986,
          55.999999999999986,
          46.999999999999986,
          53.999999999999986,
          52.999999999999986,
          47.999999999999986,
          51.999999999999986,
          41.999999999999986,
          50.999999999999986,
          54.999999999999986,
          40.999999999999986,
          43.999999999999986,
          56.999999999999986,
          45.999999999999986,
          57.999999999999986,
          54.999999999999986,
          59.999999999999986,
          45.999999999999986,
          54.999999999999986,
          40.999999999999986,
          48.999999999999986,
          39.999999999999986,
          41.999999999999986,
          51.999999999999986,
          46.999999999999986,
          49.999999999999986,
          41.999999999999986,
          48.999999999999986,
          40.999999999999986,
          47.999999999999986,
          58.999999999999986,
          54.999999999999986,
          55.999999999999986,
          41.999999999999986,
          49.999999999999986,
          45.999999999999986,
          42.999999999999986,
          47.999999999999986,
          51.999999999999986,
          53.999999999999986,
          41.999999999999986,
          45.999999999999986,
          47.999999999999986,
          49.999999999999986,
          42.999999999999986,
          58.999999999999986,
          42.999999999999986,
          56.999999999999986,
          55.999999999999986,
          39.999999999999986,
          57.999999999999986,
          90.99999999999997,
          28.99999999999999,
          76.99999999999997,
          34.999999999999986,
          94.99999999999997,
          10.99999999999999,
          74.99999999999997,
          8.99999999999999,
          74.99999999999997,
          33.999999999999986,
          70.99999999999997,
          4.999999999999991,
          87.99999999999997,
          6.999999999999991,
          72.99999999999997,
          9.99999999999999,
          71.99999999999997,
          4.999999999999991,
          92.99999999999997,
          39.999999999999986,
          86.99999999999997,
          11.99999999999999,
          96.99999999999997,
          35.999999999999986,
          73.99999999999997,
          21.99999999999999,
          89.99999999999997,
          16.99999999999999,
          87.99999999999997,
          19.99999999999999,
          75.99999999999997,
          15.99999999999999,
          88.99999999999997,
          0.9999999999999919,
          77.99999999999997,
          0.9999999999999919,
          72.99999999999997,
          34.999999999999986,
          82.99999999999997,
          4.999999999999991,
          92.99999999999997,
          25.99999999999999,
          74.99999999999997,
          19.99999999999999,
          94.99999999999997,
          26.99999999999999,
          62.999999999999986,
          12.99999999999999,
          74.99999999999997,
          9.99999999999999,
          91.99999999999997,
          12.99999999999999,
          85.99999999999997,
          14.99999999999999,
          68.99999999999997,
          13.99999999999999,
          89.99999999999997,
          31.99999999999999,
          85.99999999999997,
          14.99999999999999,
          87.99999999999997,
          38.999999999999986,
          96.99999999999997,
          23.99999999999999,
          67.99999999999997,
          16.99999999999999,
          84.99999999999997,
          22.99999999999999,
          68.99999999999997,
          7.999999999999991,
          90.99999999999997,
          15.99999999999999,
          78.99999999999997,
          27.99999999999999,
          73.99999999999997,
          17.99999999999999,
          82.99999999999997
         ],
         "yaxis": "y9"
        }
       ],
       "layout": {
        "annotations": [
         {
          "font": {
           "size": 16
          },
          "showarrow": false,
          "text": "Age vs Age",
          "x": 0.14444444444444446,
          "xanchor": "center",
          "xref": "paper",
          "y": 1,
          "yanchor": "bottom",
          "yref": "paper"
         },
         {
          "font": {
           "size": 16
          },
          "showarrow": false,
          "text": "Age vs Annual Income",
          "x": 0.5,
          "xanchor": "center",
          "xref": "paper",
          "y": 1,
          "yanchor": "bottom",
          "yref": "paper"
         },
         {
          "font": {
           "size": 16
          },
          "showarrow": false,
          "text": "Age vs Spending Score",
          "x": 0.8555555555555556,
          "xanchor": "center",
          "xref": "paper",
          "y": 1,
          "yanchor": "bottom",
          "yref": "paper"
         },
         {
          "font": {
           "size": 16
          },
          "showarrow": false,
          "text": "Annual Income vs Age",
          "x": 0.14444444444444446,
          "xanchor": "center",
          "xref": "paper",
          "y": 0.6111111111111112,
          "yanchor": "bottom",
          "yref": "paper"
         },
         {
          "font": {
           "size": 16
          },
          "showarrow": false,
          "text": "Annual Income vs Annual Income",
          "x": 0.5,
          "xanchor": "center",
          "xref": "paper",
          "y": 0.6111111111111112,
          "yanchor": "bottom",
          "yref": "paper"
         },
         {
          "font": {
           "size": 16
          },
          "showarrow": false,
          "text": "Annual Income vs Spending Score",
          "x": 0.8555555555555556,
          "xanchor": "center",
          "xref": "paper",
          "y": 0.6111111111111112,
          "yanchor": "bottom",
          "yref": "paper"
         },
         {
          "font": {
           "size": 16
          },
          "showarrow": false,
          "text": "Spending Score vs Age",
          "x": 0.14444444444444446,
          "xanchor": "center",
          "xref": "paper",
          "y": 0.22222222222222224,
          "yanchor": "bottom",
          "yref": "paper"
         },
         {
          "font": {
           "size": 16
          },
          "showarrow": false,
          "text": "Spending Score vs Annual Income",
          "x": 0.5,
          "xanchor": "center",
          "xref": "paper",
          "y": 0.22222222222222224,
          "yanchor": "bottom",
          "yref": "paper"
         },
         {
          "font": {
           "size": 16
          },
          "showarrow": false,
          "text": "Spending Score vs Spending Score",
          "x": 0.8555555555555556,
          "xanchor": "center",
          "xref": "paper",
          "y": 0.22222222222222224,
          "yanchor": "bottom",
          "yref": "paper"
         }
        ],
        "height": 600,
        "showlegend": false,
        "template": {
         "data": {
          "bar": [
           {
            "error_x": {
             "color": "#2a3f5f"
            },
            "error_y": {
             "color": "#2a3f5f"
            },
            "marker": {
             "line": {
              "color": "#E5ECF6",
              "width": 0.5
             },
             "pattern": {
              "fillmode": "overlay",
              "size": 10,
              "solidity": 0.2
             }
            },
            "type": "bar"
           }
          ],
          "barpolar": [
           {
            "marker": {
             "line": {
              "color": "#E5ECF6",
              "width": 0.5
             },
             "pattern": {
              "fillmode": "overlay",
              "size": 10,
              "solidity": 0.2
             }
            },
            "type": "barpolar"
           }
          ],
          "carpet": [
           {
            "aaxis": {
             "endlinecolor": "#2a3f5f",
             "gridcolor": "white",
             "linecolor": "white",
             "minorgridcolor": "white",
             "startlinecolor": "#2a3f5f"
            },
            "baxis": {
             "endlinecolor": "#2a3f5f",
             "gridcolor": "white",
             "linecolor": "white",
             "minorgridcolor": "white",
             "startlinecolor": "#2a3f5f"
            },
            "type": "carpet"
           }
          ],
          "choropleth": [
           {
            "colorbar": {
             "outlinewidth": 0,
             "ticks": ""
            },
            "type": "choropleth"
           }
          ],
          "contour": [
           {
            "colorbar": {
             "outlinewidth": 0,
             "ticks": ""
            },
            "colorscale": [
             [
              0,
              "#0d0887"
             ],
             [
              0.1111111111111111,
              "#46039f"
             ],
             [
              0.2222222222222222,
              "#7201a8"
             ],
             [
              0.3333333333333333,
              "#9c179e"
             ],
             [
              0.4444444444444444,
              "#bd3786"
             ],
             [
              0.5555555555555556,
              "#d8576b"
             ],
             [
              0.6666666666666666,
              "#ed7953"
             ],
             [
              0.7777777777777778,
              "#fb9f3a"
             ],
             [
              0.8888888888888888,
              "#fdca26"
             ],
             [
              1,
              "#f0f921"
             ]
            ],
            "type": "contour"
           }
          ],
          "contourcarpet": [
           {
            "colorbar": {
             "outlinewidth": 0,
             "ticks": ""
            },
            "type": "contourcarpet"
           }
          ],
          "heatmap": [
           {
            "colorbar": {
             "outlinewidth": 0,
             "ticks": ""
            },
            "colorscale": [
             [
              0,
              "#0d0887"
             ],
             [
              0.1111111111111111,
              "#46039f"
             ],
             [
              0.2222222222222222,
              "#7201a8"
             ],
             [
              0.3333333333333333,
              "#9c179e"
             ],
             [
              0.4444444444444444,
              "#bd3786"
             ],
             [
              0.5555555555555556,
              "#d8576b"
             ],
             [
              0.6666666666666666,
              "#ed7953"
             ],
             [
              0.7777777777777778,
              "#fb9f3a"
             ],
             [
              0.8888888888888888,
              "#fdca26"
             ],
             [
              1,
              "#f0f921"
             ]
            ],
            "type": "heatmap"
           }
          ],
          "heatmapgl": [
           {
            "colorbar": {
             "outlinewidth": 0,
             "ticks": ""
            },
            "colorscale": [
             [
              0,
              "#0d0887"
             ],
             [
              0.1111111111111111,
              "#46039f"
             ],
             [
              0.2222222222222222,
              "#7201a8"
             ],
             [
              0.3333333333333333,
              "#9c179e"
             ],
             [
              0.4444444444444444,
              "#bd3786"
             ],
             [
              0.5555555555555556,
              "#d8576b"
             ],
             [
              0.6666666666666666,
              "#ed7953"
             ],
             [
              0.7777777777777778,
              "#fb9f3a"
             ],
             [
              0.8888888888888888,
              "#fdca26"
             ],
             [
              1,
              "#f0f921"
             ]
            ],
            "type": "heatmapgl"
           }
          ],
          "histogram": [
           {
            "marker": {
             "pattern": {
              "fillmode": "overlay",
              "size": 10,
              "solidity": 0.2
             }
            },
            "type": "histogram"
           }
          ],
          "histogram2d": [
           {
            "colorbar": {
             "outlinewidth": 0,
             "ticks": ""
            },
            "colorscale": [
             [
              0,
              "#0d0887"
             ],
             [
              0.1111111111111111,
              "#46039f"
             ],
             [
              0.2222222222222222,
              "#7201a8"
             ],
             [
              0.3333333333333333,
              "#9c179e"
             ],
             [
              0.4444444444444444,
              "#bd3786"
             ],
             [
              0.5555555555555556,
              "#d8576b"
             ],
             [
              0.6666666666666666,
              "#ed7953"
             ],
             [
              0.7777777777777778,
              "#fb9f3a"
             ],
             [
              0.8888888888888888,
              "#fdca26"
             ],
             [
              1,
              "#f0f921"
             ]
            ],
            "type": "histogram2d"
           }
          ],
          "histogram2dcontour": [
           {
            "colorbar": {
             "outlinewidth": 0,
             "ticks": ""
            },
            "colorscale": [
             [
              0,
              "#0d0887"
             ],
             [
              0.1111111111111111,
              "#46039f"
             ],
             [
              0.2222222222222222,
              "#7201a8"
             ],
             [
              0.3333333333333333,
              "#9c179e"
             ],
             [
              0.4444444444444444,
              "#bd3786"
             ],
             [
              0.5555555555555556,
              "#d8576b"
             ],
             [
              0.6666666666666666,
              "#ed7953"
             ],
             [
              0.7777777777777778,
              "#fb9f3a"
             ],
             [
              0.8888888888888888,
              "#fdca26"
             ],
             [
              1,
              "#f0f921"
             ]
            ],
            "type": "histogram2dcontour"
           }
          ],
          "mesh3d": [
           {
            "colorbar": {
             "outlinewidth": 0,
             "ticks": ""
            },
            "type": "mesh3d"
           }
          ],
          "parcoords": [
           {
            "line": {
             "colorbar": {
              "outlinewidth": 0,
              "ticks": ""
             }
            },
            "type": "parcoords"
           }
          ],
          "pie": [
           {
            "automargin": true,
            "type": "pie"
           }
          ],
          "scatter": [
           {
            "fillpattern": {
             "fillmode": "overlay",
             "size": 10,
             "solidity": 0.2
            },
            "type": "scatter"
           }
          ],
          "scatter3d": [
           {
            "line": {
             "colorbar": {
              "outlinewidth": 0,
              "ticks": ""
             }
            },
            "marker": {
             "colorbar": {
              "outlinewidth": 0,
              "ticks": ""
             }
            },
            "type": "scatter3d"
           }
          ],
          "scattercarpet": [
           {
            "marker": {
             "colorbar": {
              "outlinewidth": 0,
              "ticks": ""
             }
            },
            "type": "scattercarpet"
           }
          ],
          "scattergeo": [
           {
            "marker": {
             "colorbar": {
              "outlinewidth": 0,
              "ticks": ""
             }
            },
            "type": "scattergeo"
           }
          ],
          "scattergl": [
           {
            "marker": {
             "colorbar": {
              "outlinewidth": 0,
              "ticks": ""
             }
            },
            "type": "scattergl"
           }
          ],
          "scattermapbox": [
           {
            "marker": {
             "colorbar": {
              "outlinewidth": 0,
              "ticks": ""
             }
            },
            "type": "scattermapbox"
           }
          ],
          "scatterpolar": [
           {
            "marker": {
             "colorbar": {
              "outlinewidth": 0,
              "ticks": ""
             }
            },
            "type": "scatterpolar"
           }
          ],
          "scatterpolargl": [
           {
            "marker": {
             "colorbar": {
              "outlinewidth": 0,
              "ticks": ""
             }
            },
            "type": "scatterpolargl"
           }
          ],
          "scatterternary": [
           {
            "marker": {
             "colorbar": {
              "outlinewidth": 0,
              "ticks": ""
             }
            },
            "type": "scatterternary"
           }
          ],
          "surface": [
           {
            "colorbar": {
             "outlinewidth": 0,
             "ticks": ""
            },
            "colorscale": [
             [
              0,
              "#0d0887"
             ],
             [
              0.1111111111111111,
              "#46039f"
             ],
             [
              0.2222222222222222,
              "#7201a8"
             ],
             [
              0.3333333333333333,
              "#9c179e"
             ],
             [
              0.4444444444444444,
              "#bd3786"
             ],
             [
              0.5555555555555556,
              "#d8576b"
             ],
             [
              0.6666666666666666,
              "#ed7953"
             ],
             [
              0.7777777777777778,
              "#fb9f3a"
             ],
             [
              0.8888888888888888,
              "#fdca26"
             ],
             [
              1,
              "#f0f921"
             ]
            ],
            "type": "surface"
           }
          ],
          "table": [
           {
            "cells": {
             "fill": {
              "color": "#EBF0F8"
             },
             "line": {
              "color": "white"
             }
            },
            "header": {
             "fill": {
              "color": "#C8D4E3"
             },
             "line": {
              "color": "white"
             }
            },
            "type": "table"
           }
          ]
         },
         "layout": {
          "annotationdefaults": {
           "arrowcolor": "#2a3f5f",
           "arrowhead": 0,
           "arrowwidth": 1
          },
          "autotypenumbers": "strict",
          "coloraxis": {
           "colorbar": {
            "outlinewidth": 0,
            "ticks": ""
           }
          },
          "colorscale": {
           "diverging": [
            [
             0,
             "#8e0152"
            ],
            [
             0.1,
             "#c51b7d"
            ],
            [
             0.2,
             "#de77ae"
            ],
            [
             0.3,
             "#f1b6da"
            ],
            [
             0.4,
             "#fde0ef"
            ],
            [
             0.5,
             "#f7f7f7"
            ],
            [
             0.6,
             "#e6f5d0"
            ],
            [
             0.7,
             "#b8e186"
            ],
            [
             0.8,
             "#7fbc41"
            ],
            [
             0.9,
             "#4d9221"
            ],
            [
             1,
             "#276419"
            ]
           ],
           "sequential": [
            [
             0,
             "#0d0887"
            ],
            [
             0.1111111111111111,
             "#46039f"
            ],
            [
             0.2222222222222222,
             "#7201a8"
            ],
            [
             0.3333333333333333,
             "#9c179e"
            ],
            [
             0.4444444444444444,
             "#bd3786"
            ],
            [
             0.5555555555555556,
             "#d8576b"
            ],
            [
             0.6666666666666666,
             "#ed7953"
            ],
            [
             0.7777777777777778,
             "#fb9f3a"
            ],
            [
             0.8888888888888888,
             "#fdca26"
            ],
            [
             1,
             "#f0f921"
            ]
           ],
           "sequentialminus": [
            [
             0,
             "#0d0887"
            ],
            [
             0.1111111111111111,
             "#46039f"
            ],
            [
             0.2222222222222222,
             "#7201a8"
            ],
            [
             0.3333333333333333,
             "#9c179e"
            ],
            [
             0.4444444444444444,
             "#bd3786"
            ],
            [
             0.5555555555555556,
             "#d8576b"
            ],
            [
             0.6666666666666666,
             "#ed7953"
            ],
            [
             0.7777777777777778,
             "#fb9f3a"
            ],
            [
             0.8888888888888888,
             "#fdca26"
            ],
            [
             1,
             "#f0f921"
            ]
           ]
          },
          "colorway": [
           "#636efa",
           "#EF553B",
           "#00cc96",
           "#ab63fa",
           "#FFA15A",
           "#19d3f3",
           "#FF6692",
           "#B6E880",
           "#FF97FF",
           "#FECB52"
          ],
          "font": {
           "color": "#2a3f5f"
          },
          "geo": {
           "bgcolor": "white",
           "lakecolor": "white",
           "landcolor": "#E5ECF6",
           "showlakes": true,
           "showland": true,
           "subunitcolor": "white"
          },
          "hoverlabel": {
           "align": "left"
          },
          "hovermode": "closest",
          "mapbox": {
           "style": "light"
          },
          "paper_bgcolor": "white",
          "plot_bgcolor": "#E5ECF6",
          "polar": {
           "angularaxis": {
            "gridcolor": "white",
            "linecolor": "white",
            "ticks": ""
           },
           "bgcolor": "#E5ECF6",
           "radialaxis": {
            "gridcolor": "white",
            "linecolor": "white",
            "ticks": ""
           }
          },
          "scene": {
           "xaxis": {
            "backgroundcolor": "#E5ECF6",
            "gridcolor": "white",
            "gridwidth": 2,
            "linecolor": "white",
            "showbackground": true,
            "ticks": "",
            "zerolinecolor": "white"
           },
           "yaxis": {
            "backgroundcolor": "#E5ECF6",
            "gridcolor": "white",
            "gridwidth": 2,
            "linecolor": "white",
            "showbackground": true,
            "ticks": "",
            "zerolinecolor": "white"
           },
           "zaxis": {
            "backgroundcolor": "#E5ECF6",
            "gridcolor": "white",
            "gridwidth": 2,
            "linecolor": "white",
            "showbackground": true,
            "ticks": "",
            "zerolinecolor": "white"
           }
          },
          "shapedefaults": {
           "line": {
            "color": "#2a3f5f"
           }
          },
          "ternary": {
           "aaxis": {
            "gridcolor": "white",
            "linecolor": "white",
            "ticks": ""
           },
           "baxis": {
            "gridcolor": "white",
            "linecolor": "white",
            "ticks": ""
           },
           "bgcolor": "#E5ECF6",
           "caxis": {
            "gridcolor": "white",
            "linecolor": "white",
            "ticks": ""
           }
          },
          "title": {
           "x": 0.05
          },
          "xaxis": {
           "automargin": true,
           "gridcolor": "white",
           "linecolor": "white",
           "ticks": "",
           "title": {
            "standoff": 15
           },
           "zerolinecolor": "white",
           "zerolinewidth": 2
          },
          "yaxis": {
           "automargin": true,
           "gridcolor": "white",
           "linecolor": "white",
           "ticks": "",
           "title": {
            "standoff": 15
           },
           "zerolinecolor": "white",
           "zerolinewidth": 2
          }
         }
        },
        "title": {
         "text": "Scatter Plots with Trendlines"
        },
        "xaxis": {
         "anchor": "y",
         "domain": [
          0,
          0.2888888888888889
         ],
         "title": {
          "text": "Age"
         }
        },
        "xaxis2": {
         "anchor": "y2",
         "domain": [
          0.35555555555555557,
          0.6444444444444445
         ],
         "title": {
          "text": "Age"
         }
        },
        "xaxis3": {
         "anchor": "y3",
         "domain": [
          0.7111111111111111,
          1
         ],
         "title": {
          "text": "Age"
         }
        },
        "xaxis4": {
         "anchor": "y4",
         "domain": [
          0,
          0.2888888888888889
         ],
         "title": {
          "text": "Annual Income (k$)"
         }
        },
        "xaxis5": {
         "anchor": "y5",
         "domain": [
          0.35555555555555557,
          0.6444444444444445
         ],
         "title": {
          "text": "Annual Income (k$)"
         }
        },
        "xaxis6": {
         "anchor": "y6",
         "domain": [
          0.7111111111111111,
          1
         ],
         "title": {
          "text": "Annual Income (k$)"
         }
        },
        "xaxis7": {
         "anchor": "y7",
         "domain": [
          0,
          0.2888888888888889
         ],
         "title": {
          "text": "Spending Score (1-100)"
         }
        },
        "xaxis8": {
         "anchor": "y8",
         "domain": [
          0.35555555555555557,
          0.6444444444444445
         ],
         "title": {
          "text": "Spending Score (1-100)"
         }
        },
        "xaxis9": {
         "anchor": "y9",
         "domain": [
          0.7111111111111111,
          1
         ],
         "title": {
          "text": "Spending Score (1-100)"
         }
        },
        "yaxis": {
         "anchor": "x",
         "domain": [
          0.7777777777777778,
          1
         ],
         "title": {
          "text": "Age"
         }
        },
        "yaxis2": {
         "anchor": "x2",
         "domain": [
          0.7777777777777778,
          1
         ],
         "title": {
          "text": "Annual Income (k$)"
         }
        },
        "yaxis3": {
         "anchor": "x3",
         "domain": [
          0.7777777777777778,
          1
         ],
         "title": {
          "text": "Spending Score (1-100)"
         }
        },
        "yaxis4": {
         "anchor": "x4",
         "domain": [
          0.3888888888888889,
          0.6111111111111112
         ],
         "title": {
          "text": "Age"
         }
        },
        "yaxis5": {
         "anchor": "x5",
         "domain": [
          0.3888888888888889,
          0.6111111111111112
         ],
         "title": {
          "text": "Annual Income (k$)"
         }
        },
        "yaxis6": {
         "anchor": "x6",
         "domain": [
          0.3888888888888889,
          0.6111111111111112
         ],
         "title": {
          "text": "Spending Score (1-100)"
         }
        },
        "yaxis7": {
         "anchor": "x7",
         "domain": [
          0,
          0.22222222222222224
         ],
         "title": {
          "text": "Age"
         }
        },
        "yaxis8": {
         "anchor": "x8",
         "domain": [
          0,
          0.22222222222222224
         ],
         "title": {
          "text": "Annual Income (k$)"
         }
        },
        "yaxis9": {
         "anchor": "x9",
         "domain": [
          0,
          0.22222222222222224
         ],
         "title": {
          "text": "Spending Score (1-100)"
         }
        }
       }
      }
     },
     "metadata": {},
     "output_type": "display_data"
    }
   ],
   "source": [
    "fig = make_subplots(rows=3, cols=3, \n",
    "                    subplot_titles=('Age vs Age', 'Age vs Annual Income', 'Age vs Spending Score', \n",
    "                                    'Annual Income vs Age', 'Annual Income vs Annual Income', 'Annual Income vs Spending Score',\n",
    "                                    'Spending Score vs Age', 'Spending Score vs Annual Income', 'Spending Score vs Spending Score'))\n",
    "\n",
    "row_num = 1\n",
    "col_num = 1\n",
    "\n",
    "for x_col in ['Age', 'Annual Income (k$)', 'Spending Score (1-100)']:\n",
    "    for y_col in ['Age', 'Annual Income (k$)', 'Spending Score (1-100)']:\n",
    "        #if x_col != y_col:\n",
    "            scatter = go.Scatter(x=df[x_col], y=df[y_col], mode='markers', name=f'{x_col} vs {y_col}')\n",
    "            trendline = go.Scatter(x=df[x_col], y=np.poly1d(np.polyfit(df[x_col], df[y_col], 1))(df[x_col]), \n",
    "                                   mode='lines', line=dict(color='red'), name= 'Trend')\n",
    "            fig.add_trace(scatter, row=row_num, col=col_num)\n",
    "            fig.add_trace(trendline, row=row_num, col=col_num)\n",
    "            fig.update_xaxes(title_text=x_col, row=row_num, col=col_num)\n",
    "            fig.update_yaxes(title_text=y_col, row=row_num, col=col_num)\n",
    "            col_num += 1\n",
    "            if col_num > 3:\n",
    "                row_num += 1\n",
    "                col_num = 1\n",
    "\n",
    "fig.update_layout(height=600, title='Scatter Plots with Trendlines', showlegend=False)\n",
    "fig.show()\n"
   ]
  },
  {
   "cell_type": "code",
   "execution_count": 9,
   "metadata": {},
   "outputs": [
    {
     "data": {
      "application/vnd.plotly.v1+json": {
       "config": {
        "plotlyServerURL": "https://plot.ly"
       },
       "data": [
        {
         "colorbar": {
          "title": {
           "text": "Correlation"
          }
         },
         "colorscale": [
          [
           0,
           "rgb(63, 5, 5)"
          ],
          [
           0.09090909090909091,
           "rgb(101, 6, 13)"
          ],
          [
           0.18181818181818182,
           "rgb(138, 17, 9)"
          ],
          [
           0.2727272727272727,
           "rgb(96, 95, 95)"
          ],
          [
           0.36363636363636365,
           "rgb(119, 118, 118)"
          ],
          [
           0.45454545454545453,
           "rgb(142, 141, 141)"
          ],
          [
           0.5454545454545454,
           "rgb(166, 166, 165)"
          ],
          [
           0.6363636363636364,
           "rgb(193, 192, 191)"
          ],
          [
           0.7272727272727273,
           "rgb(222, 222, 220)"
          ],
          [
           0.8181818181818182,
           "rgb(239, 248, 90)"
          ],
          [
           0.9090909090909091,
           "rgb(230, 210, 41)"
          ],
          [
           1,
           "rgb(220, 174, 25)"
          ]
         ],
         "type": "heatmap",
         "x": [
          "Age",
          "Annual Income (k$)",
          "Spending Score (1-100)"
         ],
         "xaxis": "x",
         "y": [
          "Age",
          "Annual Income (k$)",
          "Spending Score (1-100)"
         ],
         "yaxis": "y",
         "z": [
          [
           1,
           -0.01239804273606026,
           -0.32722684603909025
          ],
          [
           -0.01239804273606026,
           1,
           0.009902848094037497
          ],
          [
           -0.32722684603909025,
           0.009902848094037497,
           1
          ]
         ],
         "zmax": 1,
         "zmin": -1
        }
       ],
       "layout": {
        "annotations": [
         {
          "font": {
           "color": "white",
           "size": 12
          },
          "showarrow": false,
          "text": "1.00",
          "x": "Age",
          "y": "Age"
         },
         {
          "font": {
           "color": "white",
           "size": 12
          },
          "showarrow": false,
          "text": "-0.01",
          "x": "Annual Income (k$)",
          "y": "Age"
         },
         {
          "font": {
           "color": "white",
           "size": 12
          },
          "showarrow": false,
          "text": "-0.33",
          "x": "Spending Score (1-100)",
          "y": "Age"
         },
         {
          "font": {
           "color": "white",
           "size": 12
          },
          "showarrow": false,
          "text": "-0.01",
          "x": "Age",
          "y": "Annual Income (k$)"
         },
         {
          "font": {
           "color": "white",
           "size": 12
          },
          "showarrow": false,
          "text": "1.00",
          "x": "Annual Income (k$)",
          "y": "Annual Income (k$)"
         },
         {
          "font": {
           "color": "white",
           "size": 12
          },
          "showarrow": false,
          "text": "0.01",
          "x": "Spending Score (1-100)",
          "y": "Annual Income (k$)"
         },
         {
          "font": {
           "color": "white",
           "size": 12
          },
          "showarrow": false,
          "text": "-0.33",
          "x": "Age",
          "y": "Spending Score (1-100)"
         },
         {
          "font": {
           "color": "white",
           "size": 12
          },
          "showarrow": false,
          "text": "0.01",
          "x": "Annual Income (k$)",
          "y": "Spending Score (1-100)"
         },
         {
          "font": {
           "color": "white",
           "size": 12
          },
          "showarrow": false,
          "text": "1.00",
          "x": "Spending Score (1-100)",
          "y": "Spending Score (1-100)"
         }
        ],
        "template": {
         "data": {
          "bar": [
           {
            "error_x": {
             "color": "#2a3f5f"
            },
            "error_y": {
             "color": "#2a3f5f"
            },
            "marker": {
             "line": {
              "color": "#E5ECF6",
              "width": 0.5
             },
             "pattern": {
              "fillmode": "overlay",
              "size": 10,
              "solidity": 0.2
             }
            },
            "type": "bar"
           }
          ],
          "barpolar": [
           {
            "marker": {
             "line": {
              "color": "#E5ECF6",
              "width": 0.5
             },
             "pattern": {
              "fillmode": "overlay",
              "size": 10,
              "solidity": 0.2
             }
            },
            "type": "barpolar"
           }
          ],
          "carpet": [
           {
            "aaxis": {
             "endlinecolor": "#2a3f5f",
             "gridcolor": "white",
             "linecolor": "white",
             "minorgridcolor": "white",
             "startlinecolor": "#2a3f5f"
            },
            "baxis": {
             "endlinecolor": "#2a3f5f",
             "gridcolor": "white",
             "linecolor": "white",
             "minorgridcolor": "white",
             "startlinecolor": "#2a3f5f"
            },
            "type": "carpet"
           }
          ],
          "choropleth": [
           {
            "colorbar": {
             "outlinewidth": 0,
             "ticks": ""
            },
            "type": "choropleth"
           }
          ],
          "contour": [
           {
            "colorbar": {
             "outlinewidth": 0,
             "ticks": ""
            },
            "colorscale": [
             [
              0,
              "#0d0887"
             ],
             [
              0.1111111111111111,
              "#46039f"
             ],
             [
              0.2222222222222222,
              "#7201a8"
             ],
             [
              0.3333333333333333,
              "#9c179e"
             ],
             [
              0.4444444444444444,
              "#bd3786"
             ],
             [
              0.5555555555555556,
              "#d8576b"
             ],
             [
              0.6666666666666666,
              "#ed7953"
             ],
             [
              0.7777777777777778,
              "#fb9f3a"
             ],
             [
              0.8888888888888888,
              "#fdca26"
             ],
             [
              1,
              "#f0f921"
             ]
            ],
            "type": "contour"
           }
          ],
          "contourcarpet": [
           {
            "colorbar": {
             "outlinewidth": 0,
             "ticks": ""
            },
            "type": "contourcarpet"
           }
          ],
          "heatmap": [
           {
            "colorbar": {
             "outlinewidth": 0,
             "ticks": ""
            },
            "colorscale": [
             [
              0,
              "#0d0887"
             ],
             [
              0.1111111111111111,
              "#46039f"
             ],
             [
              0.2222222222222222,
              "#7201a8"
             ],
             [
              0.3333333333333333,
              "#9c179e"
             ],
             [
              0.4444444444444444,
              "#bd3786"
             ],
             [
              0.5555555555555556,
              "#d8576b"
             ],
             [
              0.6666666666666666,
              "#ed7953"
             ],
             [
              0.7777777777777778,
              "#fb9f3a"
             ],
             [
              0.8888888888888888,
              "#fdca26"
             ],
             [
              1,
              "#f0f921"
             ]
            ],
            "type": "heatmap"
           }
          ],
          "heatmapgl": [
           {
            "colorbar": {
             "outlinewidth": 0,
             "ticks": ""
            },
            "colorscale": [
             [
              0,
              "#0d0887"
             ],
             [
              0.1111111111111111,
              "#46039f"
             ],
             [
              0.2222222222222222,
              "#7201a8"
             ],
             [
              0.3333333333333333,
              "#9c179e"
             ],
             [
              0.4444444444444444,
              "#bd3786"
             ],
             [
              0.5555555555555556,
              "#d8576b"
             ],
             [
              0.6666666666666666,
              "#ed7953"
             ],
             [
              0.7777777777777778,
              "#fb9f3a"
             ],
             [
              0.8888888888888888,
              "#fdca26"
             ],
             [
              1,
              "#f0f921"
             ]
            ],
            "type": "heatmapgl"
           }
          ],
          "histogram": [
           {
            "marker": {
             "pattern": {
              "fillmode": "overlay",
              "size": 10,
              "solidity": 0.2
             }
            },
            "type": "histogram"
           }
          ],
          "histogram2d": [
           {
            "colorbar": {
             "outlinewidth": 0,
             "ticks": ""
            },
            "colorscale": [
             [
              0,
              "#0d0887"
             ],
             [
              0.1111111111111111,
              "#46039f"
             ],
             [
              0.2222222222222222,
              "#7201a8"
             ],
             [
              0.3333333333333333,
              "#9c179e"
             ],
             [
              0.4444444444444444,
              "#bd3786"
             ],
             [
              0.5555555555555556,
              "#d8576b"
             ],
             [
              0.6666666666666666,
              "#ed7953"
             ],
             [
              0.7777777777777778,
              "#fb9f3a"
             ],
             [
              0.8888888888888888,
              "#fdca26"
             ],
             [
              1,
              "#f0f921"
             ]
            ],
            "type": "histogram2d"
           }
          ],
          "histogram2dcontour": [
           {
            "colorbar": {
             "outlinewidth": 0,
             "ticks": ""
            },
            "colorscale": [
             [
              0,
              "#0d0887"
             ],
             [
              0.1111111111111111,
              "#46039f"
             ],
             [
              0.2222222222222222,
              "#7201a8"
             ],
             [
              0.3333333333333333,
              "#9c179e"
             ],
             [
              0.4444444444444444,
              "#bd3786"
             ],
             [
              0.5555555555555556,
              "#d8576b"
             ],
             [
              0.6666666666666666,
              "#ed7953"
             ],
             [
              0.7777777777777778,
              "#fb9f3a"
             ],
             [
              0.8888888888888888,
              "#fdca26"
             ],
             [
              1,
              "#f0f921"
             ]
            ],
            "type": "histogram2dcontour"
           }
          ],
          "mesh3d": [
           {
            "colorbar": {
             "outlinewidth": 0,
             "ticks": ""
            },
            "type": "mesh3d"
           }
          ],
          "parcoords": [
           {
            "line": {
             "colorbar": {
              "outlinewidth": 0,
              "ticks": ""
             }
            },
            "type": "parcoords"
           }
          ],
          "pie": [
           {
            "automargin": true,
            "type": "pie"
           }
          ],
          "scatter": [
           {
            "fillpattern": {
             "fillmode": "overlay",
             "size": 10,
             "solidity": 0.2
            },
            "type": "scatter"
           }
          ],
          "scatter3d": [
           {
            "line": {
             "colorbar": {
              "outlinewidth": 0,
              "ticks": ""
             }
            },
            "marker": {
             "colorbar": {
              "outlinewidth": 0,
              "ticks": ""
             }
            },
            "type": "scatter3d"
           }
          ],
          "scattercarpet": [
           {
            "marker": {
             "colorbar": {
              "outlinewidth": 0,
              "ticks": ""
             }
            },
            "type": "scattercarpet"
           }
          ],
          "scattergeo": [
           {
            "marker": {
             "colorbar": {
              "outlinewidth": 0,
              "ticks": ""
             }
            },
            "type": "scattergeo"
           }
          ],
          "scattergl": [
           {
            "marker": {
             "colorbar": {
              "outlinewidth": 0,
              "ticks": ""
             }
            },
            "type": "scattergl"
           }
          ],
          "scattermapbox": [
           {
            "marker": {
             "colorbar": {
              "outlinewidth": 0,
              "ticks": ""
             }
            },
            "type": "scattermapbox"
           }
          ],
          "scatterpolar": [
           {
            "marker": {
             "colorbar": {
              "outlinewidth": 0,
              "ticks": ""
             }
            },
            "type": "scatterpolar"
           }
          ],
          "scatterpolargl": [
           {
            "marker": {
             "colorbar": {
              "outlinewidth": 0,
              "ticks": ""
             }
            },
            "type": "scatterpolargl"
           }
          ],
          "scatterternary": [
           {
            "marker": {
             "colorbar": {
              "outlinewidth": 0,
              "ticks": ""
             }
            },
            "type": "scatterternary"
           }
          ],
          "surface": [
           {
            "colorbar": {
             "outlinewidth": 0,
             "ticks": ""
            },
            "colorscale": [
             [
              0,
              "#0d0887"
             ],
             [
              0.1111111111111111,
              "#46039f"
             ],
             [
              0.2222222222222222,
              "#7201a8"
             ],
             [
              0.3333333333333333,
              "#9c179e"
             ],
             [
              0.4444444444444444,
              "#bd3786"
             ],
             [
              0.5555555555555556,
              "#d8576b"
             ],
             [
              0.6666666666666666,
              "#ed7953"
             ],
             [
              0.7777777777777778,
              "#fb9f3a"
             ],
             [
              0.8888888888888888,
              "#fdca26"
             ],
             [
              1,
              "#f0f921"
             ]
            ],
            "type": "surface"
           }
          ],
          "table": [
           {
            "cells": {
             "fill": {
              "color": "#EBF0F8"
             },
             "line": {
              "color": "white"
             }
            },
            "header": {
             "fill": {
              "color": "#C8D4E3"
             },
             "line": {
              "color": "white"
             }
            },
            "type": "table"
           }
          ]
         },
         "layout": {
          "annotationdefaults": {
           "arrowcolor": "#2a3f5f",
           "arrowhead": 0,
           "arrowwidth": 1
          },
          "autotypenumbers": "strict",
          "coloraxis": {
           "colorbar": {
            "outlinewidth": 0,
            "ticks": ""
           }
          },
          "colorscale": {
           "diverging": [
            [
             0,
             "#8e0152"
            ],
            [
             0.1,
             "#c51b7d"
            ],
            [
             0.2,
             "#de77ae"
            ],
            [
             0.3,
             "#f1b6da"
            ],
            [
             0.4,
             "#fde0ef"
            ],
            [
             0.5,
             "#f7f7f7"
            ],
            [
             0.6,
             "#e6f5d0"
            ],
            [
             0.7,
             "#b8e186"
            ],
            [
             0.8,
             "#7fbc41"
            ],
            [
             0.9,
             "#4d9221"
            ],
            [
             1,
             "#276419"
            ]
           ],
           "sequential": [
            [
             0,
             "#0d0887"
            ],
            [
             0.1111111111111111,
             "#46039f"
            ],
            [
             0.2222222222222222,
             "#7201a8"
            ],
            [
             0.3333333333333333,
             "#9c179e"
            ],
            [
             0.4444444444444444,
             "#bd3786"
            ],
            [
             0.5555555555555556,
             "#d8576b"
            ],
            [
             0.6666666666666666,
             "#ed7953"
            ],
            [
             0.7777777777777778,
             "#fb9f3a"
            ],
            [
             0.8888888888888888,
             "#fdca26"
            ],
            [
             1,
             "#f0f921"
            ]
           ],
           "sequentialminus": [
            [
             0,
             "#0d0887"
            ],
            [
             0.1111111111111111,
             "#46039f"
            ],
            [
             0.2222222222222222,
             "#7201a8"
            ],
            [
             0.3333333333333333,
             "#9c179e"
            ],
            [
             0.4444444444444444,
             "#bd3786"
            ],
            [
             0.5555555555555556,
             "#d8576b"
            ],
            [
             0.6666666666666666,
             "#ed7953"
            ],
            [
             0.7777777777777778,
             "#fb9f3a"
            ],
            [
             0.8888888888888888,
             "#fdca26"
            ],
            [
             1,
             "#f0f921"
            ]
           ]
          },
          "colorway": [
           "#636efa",
           "#EF553B",
           "#00cc96",
           "#ab63fa",
           "#FFA15A",
           "#19d3f3",
           "#FF6692",
           "#B6E880",
           "#FF97FF",
           "#FECB52"
          ],
          "font": {
           "color": "#2a3f5f"
          },
          "geo": {
           "bgcolor": "white",
           "lakecolor": "white",
           "landcolor": "#E5ECF6",
           "showlakes": true,
           "showland": true,
           "subunitcolor": "white"
          },
          "hoverlabel": {
           "align": "left"
          },
          "hovermode": "closest",
          "mapbox": {
           "style": "light"
          },
          "paper_bgcolor": "white",
          "plot_bgcolor": "#E5ECF6",
          "polar": {
           "angularaxis": {
            "gridcolor": "white",
            "linecolor": "white",
            "ticks": ""
           },
           "bgcolor": "#E5ECF6",
           "radialaxis": {
            "gridcolor": "white",
            "linecolor": "white",
            "ticks": ""
           }
          },
          "scene": {
           "xaxis": {
            "backgroundcolor": "#E5ECF6",
            "gridcolor": "white",
            "gridwidth": 2,
            "linecolor": "white",
            "showbackground": true,
            "ticks": "",
            "zerolinecolor": "white"
           },
           "yaxis": {
            "backgroundcolor": "#E5ECF6",
            "gridcolor": "white",
            "gridwidth": 2,
            "linecolor": "white",
            "showbackground": true,
            "ticks": "",
            "zerolinecolor": "white"
           },
           "zaxis": {
            "backgroundcolor": "#E5ECF6",
            "gridcolor": "white",
            "gridwidth": 2,
            "linecolor": "white",
            "showbackground": true,
            "ticks": "",
            "zerolinecolor": "white"
           }
          },
          "shapedefaults": {
           "line": {
            "color": "#2a3f5f"
           }
          },
          "ternary": {
           "aaxis": {
            "gridcolor": "white",
            "linecolor": "white",
            "ticks": ""
           },
           "baxis": {
            "gridcolor": "white",
            "linecolor": "white",
            "ticks": ""
           },
           "bgcolor": "#E5ECF6",
           "caxis": {
            "gridcolor": "white",
            "linecolor": "white",
            "ticks": ""
           }
          },
          "title": {
           "x": 0.05
          },
          "xaxis": {
           "automargin": true,
           "gridcolor": "white",
           "linecolor": "white",
           "ticks": "",
           "title": {
            "standoff": 15
           },
           "zerolinecolor": "white",
           "zerolinewidth": 2
          },
          "yaxis": {
           "automargin": true,
           "gridcolor": "white",
           "linecolor": "white",
           "ticks": "",
           "title": {
            "standoff": 15
           },
           "zerolinecolor": "white",
           "zerolinewidth": 2
          }
         }
        },
        "title": {
         "text": "Correlation Heatmap"
        },
        "xaxis": {
         "anchor": "y",
         "domain": [
          0,
          1
         ],
         "title": {
          "text": ""
         }
        },
        "yaxis": {
         "anchor": "x",
         "domain": [
          0,
          1
         ],
         "title": {
          "text": ""
         }
        }
       }
      }
     },
     "metadata": {},
     "output_type": "display_data"
    }
   ],
   "source": [
    "# Correlation heatmap\n",
    "corr = df.corr()\n",
    "trace_corr = go.Heatmap(\n",
    "    x=corr.columns,\n",
    "    y=corr.columns,\n",
    "    z=corr.values,\n",
    "    colorscale='oxy',\n",
    "    colorbar=dict(title='Correlation'),\n",
    "    zmin=-1,\n",
    "    zmax=1,\n",
    ")\n",
    "\n",
    "annotations = []\n",
    "for i, row in enumerate(corr.values):\n",
    "    for j, value in enumerate(row):\n",
    "        text = f\"{value:.2f}\"\n",
    "        annotations.append(dict(\n",
    "            x=corr.columns[j],\n",
    "            y=corr.columns[i],\n",
    "            text=text,\n",
    "            showarrow=False,\n",
    "            font=dict(color='white', size=12)\n",
    "        ))\n",
    "\n",
    "fig = make_subplots(rows=1, cols=1)\n",
    "fig.add_trace(trace_corr, row=1, col=1)\n",
    "fig.update_layout(\n",
    "    title='Correlation Heatmap',\n",
    "    annotations=annotations,\n",
    "    xaxis=dict(title=dict(text='')),\n",
    "    yaxis=dict(title=dict(text='')),\n",
    ")\n",
    "fig.show()\n"
   ]
  },
  {
   "cell_type": "code",
   "execution_count": 10,
   "metadata": {},
   "outputs": [],
   "source": [
    "# Preprocess the data\n",
    "label_encoder = LabelEncoder()\n",
    "df['Gender'] = label_encoder.fit_transform(df['Gender'])\n",
    "scaler = StandardScaler()\n",
    "X = scaler.fit_transform(df)"
   ]
  },
  {
   "cell_type": "code",
   "execution_count": 11,
   "metadata": {},
   "outputs": [
    {
     "data": {
      "application/vnd.plotly.v1+json": {
       "config": {
        "plotlyServerURL": "https://plot.ly"
       },
       "data": [
        {
         "mode": "lines",
         "name": "WCSS",
         "type": "scatter",
         "x": [
          1,
          2,
          3,
          4,
          5,
          6,
          7,
          8,
          9,
          10
         ],
         "xaxis": "x",
         "y": [
          799.9999999999999,
          588.8026767824937,
          476.7875544135159,
          386.7147857740688,
          325.4485704854348,
          275.19500469394814,
          236.25761095237863,
          200.3138821716555,
          174.12493921599278,
          152.02983429775688
         ],
         "yaxis": "y"
        }
       ],
       "layout": {
        "template": {
         "data": {
          "bar": [
           {
            "error_x": {
             "color": "#2a3f5f"
            },
            "error_y": {
             "color": "#2a3f5f"
            },
            "marker": {
             "line": {
              "color": "#E5ECF6",
              "width": 0.5
             },
             "pattern": {
              "fillmode": "overlay",
              "size": 10,
              "solidity": 0.2
             }
            },
            "type": "bar"
           }
          ],
          "barpolar": [
           {
            "marker": {
             "line": {
              "color": "#E5ECF6",
              "width": 0.5
             },
             "pattern": {
              "fillmode": "overlay",
              "size": 10,
              "solidity": 0.2
             }
            },
            "type": "barpolar"
           }
          ],
          "carpet": [
           {
            "aaxis": {
             "endlinecolor": "#2a3f5f",
             "gridcolor": "white",
             "linecolor": "white",
             "minorgridcolor": "white",
             "startlinecolor": "#2a3f5f"
            },
            "baxis": {
             "endlinecolor": "#2a3f5f",
             "gridcolor": "white",
             "linecolor": "white",
             "minorgridcolor": "white",
             "startlinecolor": "#2a3f5f"
            },
            "type": "carpet"
           }
          ],
          "choropleth": [
           {
            "colorbar": {
             "outlinewidth": 0,
             "ticks": ""
            },
            "type": "choropleth"
           }
          ],
          "contour": [
           {
            "colorbar": {
             "outlinewidth": 0,
             "ticks": ""
            },
            "colorscale": [
             [
              0,
              "#0d0887"
             ],
             [
              0.1111111111111111,
              "#46039f"
             ],
             [
              0.2222222222222222,
              "#7201a8"
             ],
             [
              0.3333333333333333,
              "#9c179e"
             ],
             [
              0.4444444444444444,
              "#bd3786"
             ],
             [
              0.5555555555555556,
              "#d8576b"
             ],
             [
              0.6666666666666666,
              "#ed7953"
             ],
             [
              0.7777777777777778,
              "#fb9f3a"
             ],
             [
              0.8888888888888888,
              "#fdca26"
             ],
             [
              1,
              "#f0f921"
             ]
            ],
            "type": "contour"
           }
          ],
          "contourcarpet": [
           {
            "colorbar": {
             "outlinewidth": 0,
             "ticks": ""
            },
            "type": "contourcarpet"
           }
          ],
          "heatmap": [
           {
            "colorbar": {
             "outlinewidth": 0,
             "ticks": ""
            },
            "colorscale": [
             [
              0,
              "#0d0887"
             ],
             [
              0.1111111111111111,
              "#46039f"
             ],
             [
              0.2222222222222222,
              "#7201a8"
             ],
             [
              0.3333333333333333,
              "#9c179e"
             ],
             [
              0.4444444444444444,
              "#bd3786"
             ],
             [
              0.5555555555555556,
              "#d8576b"
             ],
             [
              0.6666666666666666,
              "#ed7953"
             ],
             [
              0.7777777777777778,
              "#fb9f3a"
             ],
             [
              0.8888888888888888,
              "#fdca26"
             ],
             [
              1,
              "#f0f921"
             ]
            ],
            "type": "heatmap"
           }
          ],
          "heatmapgl": [
           {
            "colorbar": {
             "outlinewidth": 0,
             "ticks": ""
            },
            "colorscale": [
             [
              0,
              "#0d0887"
             ],
             [
              0.1111111111111111,
              "#46039f"
             ],
             [
              0.2222222222222222,
              "#7201a8"
             ],
             [
              0.3333333333333333,
              "#9c179e"
             ],
             [
              0.4444444444444444,
              "#bd3786"
             ],
             [
              0.5555555555555556,
              "#d8576b"
             ],
             [
              0.6666666666666666,
              "#ed7953"
             ],
             [
              0.7777777777777778,
              "#fb9f3a"
             ],
             [
              0.8888888888888888,
              "#fdca26"
             ],
             [
              1,
              "#f0f921"
             ]
            ],
            "type": "heatmapgl"
           }
          ],
          "histogram": [
           {
            "marker": {
             "pattern": {
              "fillmode": "overlay",
              "size": 10,
              "solidity": 0.2
             }
            },
            "type": "histogram"
           }
          ],
          "histogram2d": [
           {
            "colorbar": {
             "outlinewidth": 0,
             "ticks": ""
            },
            "colorscale": [
             [
              0,
              "#0d0887"
             ],
             [
              0.1111111111111111,
              "#46039f"
             ],
             [
              0.2222222222222222,
              "#7201a8"
             ],
             [
              0.3333333333333333,
              "#9c179e"
             ],
             [
              0.4444444444444444,
              "#bd3786"
             ],
             [
              0.5555555555555556,
              "#d8576b"
             ],
             [
              0.6666666666666666,
              "#ed7953"
             ],
             [
              0.7777777777777778,
              "#fb9f3a"
             ],
             [
              0.8888888888888888,
              "#fdca26"
             ],
             [
              1,
              "#f0f921"
             ]
            ],
            "type": "histogram2d"
           }
          ],
          "histogram2dcontour": [
           {
            "colorbar": {
             "outlinewidth": 0,
             "ticks": ""
            },
            "colorscale": [
             [
              0,
              "#0d0887"
             ],
             [
              0.1111111111111111,
              "#46039f"
             ],
             [
              0.2222222222222222,
              "#7201a8"
             ],
             [
              0.3333333333333333,
              "#9c179e"
             ],
             [
              0.4444444444444444,
              "#bd3786"
             ],
             [
              0.5555555555555556,
              "#d8576b"
             ],
             [
              0.6666666666666666,
              "#ed7953"
             ],
             [
              0.7777777777777778,
              "#fb9f3a"
             ],
             [
              0.8888888888888888,
              "#fdca26"
             ],
             [
              1,
              "#f0f921"
             ]
            ],
            "type": "histogram2dcontour"
           }
          ],
          "mesh3d": [
           {
            "colorbar": {
             "outlinewidth": 0,
             "ticks": ""
            },
            "type": "mesh3d"
           }
          ],
          "parcoords": [
           {
            "line": {
             "colorbar": {
              "outlinewidth": 0,
              "ticks": ""
             }
            },
            "type": "parcoords"
           }
          ],
          "pie": [
           {
            "automargin": true,
            "type": "pie"
           }
          ],
          "scatter": [
           {
            "fillpattern": {
             "fillmode": "overlay",
             "size": 10,
             "solidity": 0.2
            },
            "type": "scatter"
           }
          ],
          "scatter3d": [
           {
            "line": {
             "colorbar": {
              "outlinewidth": 0,
              "ticks": ""
             }
            },
            "marker": {
             "colorbar": {
              "outlinewidth": 0,
              "ticks": ""
             }
            },
            "type": "scatter3d"
           }
          ],
          "scattercarpet": [
           {
            "marker": {
             "colorbar": {
              "outlinewidth": 0,
              "ticks": ""
             }
            },
            "type": "scattercarpet"
           }
          ],
          "scattergeo": [
           {
            "marker": {
             "colorbar": {
              "outlinewidth": 0,
              "ticks": ""
             }
            },
            "type": "scattergeo"
           }
          ],
          "scattergl": [
           {
            "marker": {
             "colorbar": {
              "outlinewidth": 0,
              "ticks": ""
             }
            },
            "type": "scattergl"
           }
          ],
          "scattermapbox": [
           {
            "marker": {
             "colorbar": {
              "outlinewidth": 0,
              "ticks": ""
             }
            },
            "type": "scattermapbox"
           }
          ],
          "scatterpolar": [
           {
            "marker": {
             "colorbar": {
              "outlinewidth": 0,
              "ticks": ""
             }
            },
            "type": "scatterpolar"
           }
          ],
          "scatterpolargl": [
           {
            "marker": {
             "colorbar": {
              "outlinewidth": 0,
              "ticks": ""
             }
            },
            "type": "scatterpolargl"
           }
          ],
          "scatterternary": [
           {
            "marker": {
             "colorbar": {
              "outlinewidth": 0,
              "ticks": ""
             }
            },
            "type": "scatterternary"
           }
          ],
          "surface": [
           {
            "colorbar": {
             "outlinewidth": 0,
             "ticks": ""
            },
            "colorscale": [
             [
              0,
              "#0d0887"
             ],
             [
              0.1111111111111111,
              "#46039f"
             ],
             [
              0.2222222222222222,
              "#7201a8"
             ],
             [
              0.3333333333333333,
              "#9c179e"
             ],
             [
              0.4444444444444444,
              "#bd3786"
             ],
             [
              0.5555555555555556,
              "#d8576b"
             ],
             [
              0.6666666666666666,
              "#ed7953"
             ],
             [
              0.7777777777777778,
              "#fb9f3a"
             ],
             [
              0.8888888888888888,
              "#fdca26"
             ],
             [
              1,
              "#f0f921"
             ]
            ],
            "type": "surface"
           }
          ],
          "table": [
           {
            "cells": {
             "fill": {
              "color": "#EBF0F8"
             },
             "line": {
              "color": "white"
             }
            },
            "header": {
             "fill": {
              "color": "#C8D4E3"
             },
             "line": {
              "color": "white"
             }
            },
            "type": "table"
           }
          ]
         },
         "layout": {
          "annotationdefaults": {
           "arrowcolor": "#2a3f5f",
           "arrowhead": 0,
           "arrowwidth": 1
          },
          "autotypenumbers": "strict",
          "coloraxis": {
           "colorbar": {
            "outlinewidth": 0,
            "ticks": ""
           }
          },
          "colorscale": {
           "diverging": [
            [
             0,
             "#8e0152"
            ],
            [
             0.1,
             "#c51b7d"
            ],
            [
             0.2,
             "#de77ae"
            ],
            [
             0.3,
             "#f1b6da"
            ],
            [
             0.4,
             "#fde0ef"
            ],
            [
             0.5,
             "#f7f7f7"
            ],
            [
             0.6,
             "#e6f5d0"
            ],
            [
             0.7,
             "#b8e186"
            ],
            [
             0.8,
             "#7fbc41"
            ],
            [
             0.9,
             "#4d9221"
            ],
            [
             1,
             "#276419"
            ]
           ],
           "sequential": [
            [
             0,
             "#0d0887"
            ],
            [
             0.1111111111111111,
             "#46039f"
            ],
            [
             0.2222222222222222,
             "#7201a8"
            ],
            [
             0.3333333333333333,
             "#9c179e"
            ],
            [
             0.4444444444444444,
             "#bd3786"
            ],
            [
             0.5555555555555556,
             "#d8576b"
            ],
            [
             0.6666666666666666,
             "#ed7953"
            ],
            [
             0.7777777777777778,
             "#fb9f3a"
            ],
            [
             0.8888888888888888,
             "#fdca26"
            ],
            [
             1,
             "#f0f921"
            ]
           ],
           "sequentialminus": [
            [
             0,
             "#0d0887"
            ],
            [
             0.1111111111111111,
             "#46039f"
            ],
            [
             0.2222222222222222,
             "#7201a8"
            ],
            [
             0.3333333333333333,
             "#9c179e"
            ],
            [
             0.4444444444444444,
             "#bd3786"
            ],
            [
             0.5555555555555556,
             "#d8576b"
            ],
            [
             0.6666666666666666,
             "#ed7953"
            ],
            [
             0.7777777777777778,
             "#fb9f3a"
            ],
            [
             0.8888888888888888,
             "#fdca26"
            ],
            [
             1,
             "#f0f921"
            ]
           ]
          },
          "colorway": [
           "#636efa",
           "#EF553B",
           "#00cc96",
           "#ab63fa",
           "#FFA15A",
           "#19d3f3",
           "#FF6692",
           "#B6E880",
           "#FF97FF",
           "#FECB52"
          ],
          "font": {
           "color": "#2a3f5f"
          },
          "geo": {
           "bgcolor": "white",
           "lakecolor": "white",
           "landcolor": "#E5ECF6",
           "showlakes": true,
           "showland": true,
           "subunitcolor": "white"
          },
          "hoverlabel": {
           "align": "left"
          },
          "hovermode": "closest",
          "mapbox": {
           "style": "light"
          },
          "paper_bgcolor": "white",
          "plot_bgcolor": "#E5ECF6",
          "polar": {
           "angularaxis": {
            "gridcolor": "white",
            "linecolor": "white",
            "ticks": ""
           },
           "bgcolor": "#E5ECF6",
           "radialaxis": {
            "gridcolor": "white",
            "linecolor": "white",
            "ticks": ""
           }
          },
          "scene": {
           "xaxis": {
            "backgroundcolor": "#E5ECF6",
            "gridcolor": "white",
            "gridwidth": 2,
            "linecolor": "white",
            "showbackground": true,
            "ticks": "",
            "zerolinecolor": "white"
           },
           "yaxis": {
            "backgroundcolor": "#E5ECF6",
            "gridcolor": "white",
            "gridwidth": 2,
            "linecolor": "white",
            "showbackground": true,
            "ticks": "",
            "zerolinecolor": "white"
           },
           "zaxis": {
            "backgroundcolor": "#E5ECF6",
            "gridcolor": "white",
            "gridwidth": 2,
            "linecolor": "white",
            "showbackground": true,
            "ticks": "",
            "zerolinecolor": "white"
           }
          },
          "shapedefaults": {
           "line": {
            "color": "#2a3f5f"
           }
          },
          "ternary": {
           "aaxis": {
            "gridcolor": "white",
            "linecolor": "white",
            "ticks": ""
           },
           "baxis": {
            "gridcolor": "white",
            "linecolor": "white",
            "ticks": ""
           },
           "bgcolor": "#E5ECF6",
           "caxis": {
            "gridcolor": "white",
            "linecolor": "white",
            "ticks": ""
           }
          },
          "title": {
           "x": 0.05
          },
          "xaxis": {
           "automargin": true,
           "gridcolor": "white",
           "linecolor": "white",
           "ticks": "",
           "title": {
            "standoff": 15
           },
           "zerolinecolor": "white",
           "zerolinewidth": 2
          },
          "yaxis": {
           "automargin": true,
           "gridcolor": "white",
           "linecolor": "white",
           "ticks": "",
           "title": {
            "standoff": 15
           },
           "zerolinecolor": "white",
           "zerolinewidth": 2
          }
         }
        },
        "title": {
         "text": "Elbow Method"
        },
        "xaxis": {
         "anchor": "y",
         "domain": [
          0,
          1
         ],
         "title": {
          "text": "Number of Clusters"
         }
        },
        "yaxis": {
         "anchor": "x",
         "domain": [
          0,
          1
         ],
         "title": {
          "text": "WCSS"
         }
        }
       }
      }
     },
     "metadata": {},
     "output_type": "display_data"
    }
   ],
   "source": [
    "# Elbow method to choose n_clusters\n",
    "wcss = []\n",
    "for i in range(1, 11):\n",
    "    kmeans = KMeans(n_clusters=i, init='k-means++', max_iter=300, n_init=10, random_state=0)\n",
    "    kmeans.fit(X)\n",
    "    wcss.append(kmeans.inertia_)\n",
    "\n",
    "trace_elbow = go.Scatter(\n",
    "    x=list(range(1, 11)),\n",
    "    y=wcss,\n",
    "    mode='lines',\n",
    "    name='WCSS'\n",
    ")\n",
    "\n",
    "fig = make_subplots(rows=1, cols=1)\n",
    "fig.add_trace(trace_elbow, row=1, col=1)\n",
    "fig.update_layout(\n",
    "    title='Elbow Method',\n",
    "    xaxis=dict(title='Number of Clusters'),\n",
    "    yaxis=dict(title='WCSS')\n",
    ")\n",
    "fig.show()"
   ]
  },
  {
   "cell_type": "code",
   "execution_count": 12,
   "metadata": {},
   "outputs": [
    {
     "data": {
      "text/html": [
       "<div>\n",
       "<style scoped>\n",
       "    .dataframe tbody tr th:only-of-type {\n",
       "        vertical-align: middle;\n",
       "    }\n",
       "\n",
       "    .dataframe tbody tr th {\n",
       "        vertical-align: top;\n",
       "    }\n",
       "\n",
       "    .dataframe thead th {\n",
       "        text-align: right;\n",
       "    }\n",
       "</style>\n",
       "<table border=\"1\" class=\"dataframe\">\n",
       "  <thead>\n",
       "    <tr style=\"text-align: right;\">\n",
       "      <th></th>\n",
       "      <th>Gender</th>\n",
       "      <th>Age</th>\n",
       "      <th>Annual Income (k$)</th>\n",
       "      <th>Spending Score (1-100)</th>\n",
       "      <th>Clusters</th>\n",
       "    </tr>\n",
       "  </thead>\n",
       "  <tbody>\n",
       "    <tr>\n",
       "      <th>0</th>\n",
       "      <td>1</td>\n",
       "      <td>19</td>\n",
       "      <td>15</td>\n",
       "      <td>39</td>\n",
       "      <td>0</td>\n",
       "    </tr>\n",
       "    <tr>\n",
       "      <th>1</th>\n",
       "      <td>1</td>\n",
       "      <td>21</td>\n",
       "      <td>15</td>\n",
       "      <td>81</td>\n",
       "      <td>0</td>\n",
       "    </tr>\n",
       "    <tr>\n",
       "      <th>2</th>\n",
       "      <td>0</td>\n",
       "      <td>20</td>\n",
       "      <td>16</td>\n",
       "      <td>6</td>\n",
       "      <td>1</td>\n",
       "    </tr>\n",
       "    <tr>\n",
       "      <th>3</th>\n",
       "      <td>0</td>\n",
       "      <td>23</td>\n",
       "      <td>16</td>\n",
       "      <td>77</td>\n",
       "      <td>2</td>\n",
       "    </tr>\n",
       "    <tr>\n",
       "      <th>4</th>\n",
       "      <td>0</td>\n",
       "      <td>31</td>\n",
       "      <td>17</td>\n",
       "      <td>40</td>\n",
       "      <td>2</td>\n",
       "    </tr>\n",
       "  </tbody>\n",
       "</table>\n",
       "</div>"
      ],
      "text/plain": [
       "   Gender  Age  Annual Income (k$)  Spending Score (1-100)  Clusters\n",
       "0       1   19                  15                      39         0\n",
       "1       1   21                  15                      81         0\n",
       "2       0   20                  16                       6         1\n",
       "3       0   23                  16                      77         2\n",
       "4       0   31                  17                      40         2"
      ]
     },
     "execution_count": 12,
     "metadata": {},
     "output_type": "execute_result"
    }
   ],
   "source": [
    "#Create df_cluster\n",
    "df_cluster = df.copy()\n",
    "kmeans = KMeans(n_clusters=4, init='k-means++', max_iter=300, n_init=10, random_state=0)\n",
    "pred_y = kmeans.fit_predict(X)\n",
    "df_cluster[f'Clusters'] = pred_y\n",
    "\n",
    "df_cluster.head()"
   ]
  },
  {
   "cell_type": "code",
   "execution_count": 13,
   "metadata": {},
   "outputs": [
    {
     "data": {
      "text/plain": [
       "2    57\n",
       "1    55\n",
       "3    48\n",
       "0    40\n",
       "Name: Clusters, dtype: int64"
      ]
     },
     "execution_count": 13,
     "metadata": {},
     "output_type": "execute_result"
    }
   ],
   "source": [
    "df_cluster['Clusters'].value_counts()"
   ]
  },
  {
   "cell_type": "code",
   "execution_count": 14,
   "metadata": {},
   "outputs": [
    {
     "data": {
      "application/vnd.plotly.v1+json": {
       "config": {
        "plotlyServerURL": "https://plot.ly"
       },
       "data": [
        {
         "hovertemplate": "Age=%{x}<br>Annual Income (k$)=%{y}<br>Clusters=%{marker.color}<extra></extra>",
         "legendgroup": "",
         "marker": {
          "color": [
           0,
           0,
           1,
           2,
           2,
           2,
           1,
           2,
           3,
           2,
           3,
           2,
           1,
           2,
           3,
           0,
           1,
           0,
           3,
           2,
           3,
           0,
           1,
           0,
           1,
           0,
           1,
           0,
           1,
           2,
           3,
           2,
           3,
           0,
           1,
           2,
           1,
           2,
           1,
           2,
           1,
           0,
           3,
           2,
           1,
           2,
           1,
           2,
           2,
           2,
           1,
           0,
           2,
           3,
           1,
           3,
           1,
           3,
           2,
           3,
           3,
           0,
           1,
           1,
           3,
           0,
           1,
           1,
           0,
           2,
           3,
           1,
           1,
           1,
           3,
           0,
           1,
           3,
           2,
           1,
           3,
           0,
           3,
           1,
           2,
           3,
           1,
           2,
           2,
           1,
           1,
           0,
           3,
           1,
           2,
           0,
           1,
           2,
           3,
           0,
           2,
           1,
           3,
           0,
           3,
           2,
           1,
           3,
           3,
           3,
           3,
           2,
           1,
           0,
           2,
           2,
           1,
           1,
           1,
           1,
           0,
           1,
           2,
           0,
           2,
           2,
           3,
           0,
           3,
           0,
           3,
           0,
           2,
           2,
           3,
           2,
           1,
           0,
           3,
           2,
           1,
           0,
           2,
           2,
           3,
           0,
           3,
           2,
           1,
           0,
           3,
           0,
           1,
           2,
           1,
           2,
           3,
           2,
           3,
           2,
           1,
           2,
           3,
           2,
           3,
           2,
           3,
           2,
           1,
           0,
           3,
           0,
           3,
           0,
           1,
           2,
           3,
           0,
           3,
           0,
           1,
           2,
           3,
           2,
           1,
           0,
           1,
           0,
           1,
           2,
           1,
           2,
           3,
           2,
           1,
           2,
           1,
           0,
           3,
           0
          ],
          "coloraxis": "coloraxis",
          "symbol": "circle"
         },
         "mode": "markers",
         "name": "",
         "orientation": "v",
         "showlegend": false,
         "type": "scatter",
         "x": [
          19,
          21,
          20,
          23,
          31,
          22,
          35,
          23,
          64,
          30,
          67,
          35,
          58,
          24,
          37,
          22,
          35,
          20,
          52,
          35,
          35,
          25,
          46,
          31,
          54,
          29,
          45,
          35,
          40,
          23,
          60,
          21,
          53,
          18,
          49,
          21,
          42,
          30,
          36,
          20,
          65,
          24,
          48,
          31,
          49,
          24,
          50,
          27,
          29,
          31,
          49,
          33,
          31,
          59,
          50,
          47,
          51,
          69,
          27,
          53,
          70,
          19,
          67,
          54,
          63,
          18,
          43,
          68,
          19,
          32,
          70,
          47,
          60,
          60,
          59,
          26,
          45,
          40,
          23,
          49,
          57,
          38,
          67,
          46,
          21,
          48,
          55,
          22,
          34,
          50,
          68,
          18,
          48,
          40,
          32,
          24,
          47,
          27,
          48,
          20,
          23,
          49,
          67,
          26,
          49,
          21,
          66,
          54,
          68,
          66,
          65,
          19,
          38,
          19,
          18,
          19,
          63,
          49,
          51,
          50,
          27,
          38,
          40,
          39,
          23,
          31,
          43,
          40,
          59,
          38,
          47,
          39,
          25,
          31,
          20,
          29,
          44,
          32,
          19,
          35,
          57,
          32,
          28,
          32,
          25,
          28,
          48,
          32,
          34,
          34,
          43,
          39,
          44,
          38,
          47,
          27,
          37,
          30,
          34,
          30,
          56,
          29,
          19,
          31,
          50,
          36,
          42,
          33,
          36,
          32,
          40,
          28,
          36,
          36,
          52,
          30,
          58,
          27,
          59,
          35,
          37,
          32,
          46,
          29,
          41,
          30,
          54,
          28,
          41,
          36,
          34,
          32,
          33,
          38,
          47,
          35,
          45,
          32,
          32,
          30
         ],
         "xaxis": "x",
         "y": [
          15,
          15,
          16,
          16,
          17,
          17,
          18,
          18,
          19,
          19,
          19,
          19,
          20,
          20,
          20,
          20,
          21,
          21,
          23,
          23,
          24,
          24,
          25,
          25,
          28,
          28,
          28,
          28,
          29,
          29,
          30,
          30,
          33,
          33,
          33,
          33,
          34,
          34,
          37,
          37,
          38,
          38,
          39,
          39,
          39,
          39,
          40,
          40,
          40,
          40,
          42,
          42,
          43,
          43,
          43,
          43,
          44,
          44,
          46,
          46,
          46,
          46,
          47,
          47,
          48,
          48,
          48,
          48,
          48,
          48,
          49,
          49,
          50,
          50,
          54,
          54,
          54,
          54,
          54,
          54,
          54,
          54,
          54,
          54,
          54,
          54,
          57,
          57,
          58,
          58,
          59,
          59,
          60,
          60,
          60,
          60,
          60,
          60,
          61,
          61,
          62,
          62,
          62,
          62,
          62,
          62,
          63,
          63,
          63,
          63,
          63,
          63,
          64,
          64,
          65,
          65,
          65,
          65,
          67,
          67,
          67,
          67,
          69,
          69,
          70,
          70,
          71,
          71,
          71,
          71,
          71,
          71,
          72,
          72,
          73,
          73,
          73,
          73,
          74,
          74,
          75,
          75,
          76,
          76,
          77,
          77,
          77,
          77,
          78,
          78,
          78,
          78,
          78,
          78,
          78,
          78,
          78,
          78,
          78,
          78,
          79,
          79,
          81,
          81,
          85,
          85,
          86,
          86,
          87,
          87,
          87,
          87,
          87,
          87,
          88,
          88,
          88,
          88,
          93,
          93,
          97,
          97,
          98,
          98,
          99,
          99,
          101,
          101,
          103,
          103,
          103,
          103,
          113,
          113,
          120,
          120,
          126,
          126,
          137,
          137
         ],
         "yaxis": "y"
        }
       ],
       "layout": {
        "coloraxis": {
         "colorbar": {
          "title": {
           "text": "Clusters"
          }
         },
         "colorscale": [
          [
           0,
           "#0d0887"
          ],
          [
           0.1111111111111111,
           "#46039f"
          ],
          [
           0.2222222222222222,
           "#7201a8"
          ],
          [
           0.3333333333333333,
           "#9c179e"
          ],
          [
           0.4444444444444444,
           "#bd3786"
          ],
          [
           0.5555555555555556,
           "#d8576b"
          ],
          [
           0.6666666666666666,
           "#ed7953"
          ],
          [
           0.7777777777777778,
           "#fb9f3a"
          ],
          [
           0.8888888888888888,
           "#fdca26"
          ],
          [
           1,
           "#f0f921"
          ]
         ]
        },
        "legend": {
         "tracegroupgap": 0
        },
        "margin": {
         "t": 60
        },
        "template": {
         "data": {
          "bar": [
           {
            "error_x": {
             "color": "#2a3f5f"
            },
            "error_y": {
             "color": "#2a3f5f"
            },
            "marker": {
             "line": {
              "color": "#E5ECF6",
              "width": 0.5
             },
             "pattern": {
              "fillmode": "overlay",
              "size": 10,
              "solidity": 0.2
             }
            },
            "type": "bar"
           }
          ],
          "barpolar": [
           {
            "marker": {
             "line": {
              "color": "#E5ECF6",
              "width": 0.5
             },
             "pattern": {
              "fillmode": "overlay",
              "size": 10,
              "solidity": 0.2
             }
            },
            "type": "barpolar"
           }
          ],
          "carpet": [
           {
            "aaxis": {
             "endlinecolor": "#2a3f5f",
             "gridcolor": "white",
             "linecolor": "white",
             "minorgridcolor": "white",
             "startlinecolor": "#2a3f5f"
            },
            "baxis": {
             "endlinecolor": "#2a3f5f",
             "gridcolor": "white",
             "linecolor": "white",
             "minorgridcolor": "white",
             "startlinecolor": "#2a3f5f"
            },
            "type": "carpet"
           }
          ],
          "choropleth": [
           {
            "colorbar": {
             "outlinewidth": 0,
             "ticks": ""
            },
            "type": "choropleth"
           }
          ],
          "contour": [
           {
            "colorbar": {
             "outlinewidth": 0,
             "ticks": ""
            },
            "colorscale": [
             [
              0,
              "#0d0887"
             ],
             [
              0.1111111111111111,
              "#46039f"
             ],
             [
              0.2222222222222222,
              "#7201a8"
             ],
             [
              0.3333333333333333,
              "#9c179e"
             ],
             [
              0.4444444444444444,
              "#bd3786"
             ],
             [
              0.5555555555555556,
              "#d8576b"
             ],
             [
              0.6666666666666666,
              "#ed7953"
             ],
             [
              0.7777777777777778,
              "#fb9f3a"
             ],
             [
              0.8888888888888888,
              "#fdca26"
             ],
             [
              1,
              "#f0f921"
             ]
            ],
            "type": "contour"
           }
          ],
          "contourcarpet": [
           {
            "colorbar": {
             "outlinewidth": 0,
             "ticks": ""
            },
            "type": "contourcarpet"
           }
          ],
          "heatmap": [
           {
            "colorbar": {
             "outlinewidth": 0,
             "ticks": ""
            },
            "colorscale": [
             [
              0,
              "#0d0887"
             ],
             [
              0.1111111111111111,
              "#46039f"
             ],
             [
              0.2222222222222222,
              "#7201a8"
             ],
             [
              0.3333333333333333,
              "#9c179e"
             ],
             [
              0.4444444444444444,
              "#bd3786"
             ],
             [
              0.5555555555555556,
              "#d8576b"
             ],
             [
              0.6666666666666666,
              "#ed7953"
             ],
             [
              0.7777777777777778,
              "#fb9f3a"
             ],
             [
              0.8888888888888888,
              "#fdca26"
             ],
             [
              1,
              "#f0f921"
             ]
            ],
            "type": "heatmap"
           }
          ],
          "heatmapgl": [
           {
            "colorbar": {
             "outlinewidth": 0,
             "ticks": ""
            },
            "colorscale": [
             [
              0,
              "#0d0887"
             ],
             [
              0.1111111111111111,
              "#46039f"
             ],
             [
              0.2222222222222222,
              "#7201a8"
             ],
             [
              0.3333333333333333,
              "#9c179e"
             ],
             [
              0.4444444444444444,
              "#bd3786"
             ],
             [
              0.5555555555555556,
              "#d8576b"
             ],
             [
              0.6666666666666666,
              "#ed7953"
             ],
             [
              0.7777777777777778,
              "#fb9f3a"
             ],
             [
              0.8888888888888888,
              "#fdca26"
             ],
             [
              1,
              "#f0f921"
             ]
            ],
            "type": "heatmapgl"
           }
          ],
          "histogram": [
           {
            "marker": {
             "pattern": {
              "fillmode": "overlay",
              "size": 10,
              "solidity": 0.2
             }
            },
            "type": "histogram"
           }
          ],
          "histogram2d": [
           {
            "colorbar": {
             "outlinewidth": 0,
             "ticks": ""
            },
            "colorscale": [
             [
              0,
              "#0d0887"
             ],
             [
              0.1111111111111111,
              "#46039f"
             ],
             [
              0.2222222222222222,
              "#7201a8"
             ],
             [
              0.3333333333333333,
              "#9c179e"
             ],
             [
              0.4444444444444444,
              "#bd3786"
             ],
             [
              0.5555555555555556,
              "#d8576b"
             ],
             [
              0.6666666666666666,
              "#ed7953"
             ],
             [
              0.7777777777777778,
              "#fb9f3a"
             ],
             [
              0.8888888888888888,
              "#fdca26"
             ],
             [
              1,
              "#f0f921"
             ]
            ],
            "type": "histogram2d"
           }
          ],
          "histogram2dcontour": [
           {
            "colorbar": {
             "outlinewidth": 0,
             "ticks": ""
            },
            "colorscale": [
             [
              0,
              "#0d0887"
             ],
             [
              0.1111111111111111,
              "#46039f"
             ],
             [
              0.2222222222222222,
              "#7201a8"
             ],
             [
              0.3333333333333333,
              "#9c179e"
             ],
             [
              0.4444444444444444,
              "#bd3786"
             ],
             [
              0.5555555555555556,
              "#d8576b"
             ],
             [
              0.6666666666666666,
              "#ed7953"
             ],
             [
              0.7777777777777778,
              "#fb9f3a"
             ],
             [
              0.8888888888888888,
              "#fdca26"
             ],
             [
              1,
              "#f0f921"
             ]
            ],
            "type": "histogram2dcontour"
           }
          ],
          "mesh3d": [
           {
            "colorbar": {
             "outlinewidth": 0,
             "ticks": ""
            },
            "type": "mesh3d"
           }
          ],
          "parcoords": [
           {
            "line": {
             "colorbar": {
              "outlinewidth": 0,
              "ticks": ""
             }
            },
            "type": "parcoords"
           }
          ],
          "pie": [
           {
            "automargin": true,
            "type": "pie"
           }
          ],
          "scatter": [
           {
            "fillpattern": {
             "fillmode": "overlay",
             "size": 10,
             "solidity": 0.2
            },
            "type": "scatter"
           }
          ],
          "scatter3d": [
           {
            "line": {
             "colorbar": {
              "outlinewidth": 0,
              "ticks": ""
             }
            },
            "marker": {
             "colorbar": {
              "outlinewidth": 0,
              "ticks": ""
             }
            },
            "type": "scatter3d"
           }
          ],
          "scattercarpet": [
           {
            "marker": {
             "colorbar": {
              "outlinewidth": 0,
              "ticks": ""
             }
            },
            "type": "scattercarpet"
           }
          ],
          "scattergeo": [
           {
            "marker": {
             "colorbar": {
              "outlinewidth": 0,
              "ticks": ""
             }
            },
            "type": "scattergeo"
           }
          ],
          "scattergl": [
           {
            "marker": {
             "colorbar": {
              "outlinewidth": 0,
              "ticks": ""
             }
            },
            "type": "scattergl"
           }
          ],
          "scattermapbox": [
           {
            "marker": {
             "colorbar": {
              "outlinewidth": 0,
              "ticks": ""
             }
            },
            "type": "scattermapbox"
           }
          ],
          "scatterpolar": [
           {
            "marker": {
             "colorbar": {
              "outlinewidth": 0,
              "ticks": ""
             }
            },
            "type": "scatterpolar"
           }
          ],
          "scatterpolargl": [
           {
            "marker": {
             "colorbar": {
              "outlinewidth": 0,
              "ticks": ""
             }
            },
            "type": "scatterpolargl"
           }
          ],
          "scatterternary": [
           {
            "marker": {
             "colorbar": {
              "outlinewidth": 0,
              "ticks": ""
             }
            },
            "type": "scatterternary"
           }
          ],
          "surface": [
           {
            "colorbar": {
             "outlinewidth": 0,
             "ticks": ""
            },
            "colorscale": [
             [
              0,
              "#0d0887"
             ],
             [
              0.1111111111111111,
              "#46039f"
             ],
             [
              0.2222222222222222,
              "#7201a8"
             ],
             [
              0.3333333333333333,
              "#9c179e"
             ],
             [
              0.4444444444444444,
              "#bd3786"
             ],
             [
              0.5555555555555556,
              "#d8576b"
             ],
             [
              0.6666666666666666,
              "#ed7953"
             ],
             [
              0.7777777777777778,
              "#fb9f3a"
             ],
             [
              0.8888888888888888,
              "#fdca26"
             ],
             [
              1,
              "#f0f921"
             ]
            ],
            "type": "surface"
           }
          ],
          "table": [
           {
            "cells": {
             "fill": {
              "color": "#EBF0F8"
             },
             "line": {
              "color": "white"
             }
            },
            "header": {
             "fill": {
              "color": "#C8D4E3"
             },
             "line": {
              "color": "white"
             }
            },
            "type": "table"
           }
          ]
         },
         "layout": {
          "annotationdefaults": {
           "arrowcolor": "#2a3f5f",
           "arrowhead": 0,
           "arrowwidth": 1
          },
          "autotypenumbers": "strict",
          "coloraxis": {
           "colorbar": {
            "outlinewidth": 0,
            "ticks": ""
           }
          },
          "colorscale": {
           "diverging": [
            [
             0,
             "#8e0152"
            ],
            [
             0.1,
             "#c51b7d"
            ],
            [
             0.2,
             "#de77ae"
            ],
            [
             0.3,
             "#f1b6da"
            ],
            [
             0.4,
             "#fde0ef"
            ],
            [
             0.5,
             "#f7f7f7"
            ],
            [
             0.6,
             "#e6f5d0"
            ],
            [
             0.7,
             "#b8e186"
            ],
            [
             0.8,
             "#7fbc41"
            ],
            [
             0.9,
             "#4d9221"
            ],
            [
             1,
             "#276419"
            ]
           ],
           "sequential": [
            [
             0,
             "#0d0887"
            ],
            [
             0.1111111111111111,
             "#46039f"
            ],
            [
             0.2222222222222222,
             "#7201a8"
            ],
            [
             0.3333333333333333,
             "#9c179e"
            ],
            [
             0.4444444444444444,
             "#bd3786"
            ],
            [
             0.5555555555555556,
             "#d8576b"
            ],
            [
             0.6666666666666666,
             "#ed7953"
            ],
            [
             0.7777777777777778,
             "#fb9f3a"
            ],
            [
             0.8888888888888888,
             "#fdca26"
            ],
            [
             1,
             "#f0f921"
            ]
           ],
           "sequentialminus": [
            [
             0,
             "#0d0887"
            ],
            [
             0.1111111111111111,
             "#46039f"
            ],
            [
             0.2222222222222222,
             "#7201a8"
            ],
            [
             0.3333333333333333,
             "#9c179e"
            ],
            [
             0.4444444444444444,
             "#bd3786"
            ],
            [
             0.5555555555555556,
             "#d8576b"
            ],
            [
             0.6666666666666666,
             "#ed7953"
            ],
            [
             0.7777777777777778,
             "#fb9f3a"
            ],
            [
             0.8888888888888888,
             "#fdca26"
            ],
            [
             1,
             "#f0f921"
            ]
           ]
          },
          "colorway": [
           "#636efa",
           "#EF553B",
           "#00cc96",
           "#ab63fa",
           "#FFA15A",
           "#19d3f3",
           "#FF6692",
           "#B6E880",
           "#FF97FF",
           "#FECB52"
          ],
          "font": {
           "color": "#2a3f5f"
          },
          "geo": {
           "bgcolor": "white",
           "lakecolor": "white",
           "landcolor": "#E5ECF6",
           "showlakes": true,
           "showland": true,
           "subunitcolor": "white"
          },
          "hoverlabel": {
           "align": "left"
          },
          "hovermode": "closest",
          "mapbox": {
           "style": "light"
          },
          "paper_bgcolor": "white",
          "plot_bgcolor": "#E5ECF6",
          "polar": {
           "angularaxis": {
            "gridcolor": "white",
            "linecolor": "white",
            "ticks": ""
           },
           "bgcolor": "#E5ECF6",
           "radialaxis": {
            "gridcolor": "white",
            "linecolor": "white",
            "ticks": ""
           }
          },
          "scene": {
           "xaxis": {
            "backgroundcolor": "#E5ECF6",
            "gridcolor": "white",
            "gridwidth": 2,
            "linecolor": "white",
            "showbackground": true,
            "ticks": "",
            "zerolinecolor": "white"
           },
           "yaxis": {
            "backgroundcolor": "#E5ECF6",
            "gridcolor": "white",
            "gridwidth": 2,
            "linecolor": "white",
            "showbackground": true,
            "ticks": "",
            "zerolinecolor": "white"
           },
           "zaxis": {
            "backgroundcolor": "#E5ECF6",
            "gridcolor": "white",
            "gridwidth": 2,
            "linecolor": "white",
            "showbackground": true,
            "ticks": "",
            "zerolinecolor": "white"
           }
          },
          "shapedefaults": {
           "line": {
            "color": "#2a3f5f"
           }
          },
          "ternary": {
           "aaxis": {
            "gridcolor": "white",
            "linecolor": "white",
            "ticks": ""
           },
           "baxis": {
            "gridcolor": "white",
            "linecolor": "white",
            "ticks": ""
           },
           "bgcolor": "#E5ECF6",
           "caxis": {
            "gridcolor": "white",
            "linecolor": "white",
            "ticks": ""
           }
          },
          "title": {
           "x": 0.05
          },
          "xaxis": {
           "automargin": true,
           "gridcolor": "white",
           "linecolor": "white",
           "ticks": "",
           "title": {
            "standoff": 15
           },
           "zerolinecolor": "white",
           "zerolinewidth": 2
          },
          "yaxis": {
           "automargin": true,
           "gridcolor": "white",
           "linecolor": "white",
           "ticks": "",
           "title": {
            "standoff": 15
           },
           "zerolinecolor": "white",
           "zerolinewidth": 2
          }
         }
        },
        "title": {
         "text": "Age vs Annual Income by Cluster"
        },
        "xaxis": {
         "anchor": "y",
         "domain": [
          0,
          1
         ],
         "title": {
          "text": "Age"
         }
        },
        "yaxis": {
         "anchor": "x",
         "domain": [
          0,
          1
         ],
         "title": {
          "text": "Annual Income (k$)"
         }
        }
       }
      }
     },
     "metadata": {},
     "output_type": "display_data"
    },
    {
     "data": {
      "application/vnd.plotly.v1+json": {
       "config": {
        "plotlyServerURL": "https://plot.ly"
       },
       "data": [
        {
         "hovertemplate": "Age=%{x}<br>Spending Score (1-100)=%{y}<br>Clusters=%{marker.color}<extra></extra>",
         "legendgroup": "",
         "marker": {
          "color": [
           0,
           0,
           1,
           2,
           2,
           2,
           1,
           2,
           3,
           2,
           3,
           2,
           1,
           2,
           3,
           0,
           1,
           0,
           3,
           2,
           3,
           0,
           1,
           0,
           1,
           0,
           1,
           0,
           1,
           2,
           3,
           2,
           3,
           0,
           1,
           2,
           1,
           2,
           1,
           2,
           1,
           0,
           3,
           2,
           1,
           2,
           1,
           2,
           2,
           2,
           1,
           0,
           2,
           3,
           1,
           3,
           1,
           3,
           2,
           3,
           3,
           0,
           1,
           1,
           3,
           0,
           1,
           1,
           0,
           2,
           3,
           1,
           1,
           1,
           3,
           0,
           1,
           3,
           2,
           1,
           3,
           0,
           3,
           1,
           2,
           3,
           1,
           2,
           2,
           1,
           1,
           0,
           3,
           1,
           2,
           0,
           1,
           2,
           3,
           0,
           2,
           1,
           3,
           0,
           3,
           2,
           1,
           3,
           3,
           3,
           3,
           2,
           1,
           0,
           2,
           2,
           1,
           1,
           1,
           1,
           0,
           1,
           2,
           0,
           2,
           2,
           3,
           0,
           3,
           0,
           3,
           0,
           2,
           2,
           3,
           2,
           1,
           0,
           3,
           2,
           1,
           0,
           2,
           2,
           3,
           0,
           3,
           2,
           1,
           0,
           3,
           0,
           1,
           2,
           1,
           2,
           3,
           2,
           3,
           2,
           1,
           2,
           3,
           2,
           3,
           2,
           3,
           2,
           1,
           0,
           3,
           0,
           3,
           0,
           1,
           2,
           3,
           0,
           3,
           0,
           1,
           2,
           3,
           2,
           1,
           0,
           1,
           0,
           1,
           2,
           1,
           2,
           3,
           2,
           1,
           2,
           1,
           0,
           3,
           0
          ],
          "coloraxis": "coloraxis",
          "symbol": "circle"
         },
         "mode": "markers",
         "name": "",
         "orientation": "v",
         "showlegend": false,
         "type": "scatter",
         "x": [
          19,
          21,
          20,
          23,
          31,
          22,
          35,
          23,
          64,
          30,
          67,
          35,
          58,
          24,
          37,
          22,
          35,
          20,
          52,
          35,
          35,
          25,
          46,
          31,
          54,
          29,
          45,
          35,
          40,
          23,
          60,
          21,
          53,
          18,
          49,
          21,
          42,
          30,
          36,
          20,
          65,
          24,
          48,
          31,
          49,
          24,
          50,
          27,
          29,
          31,
          49,
          33,
          31,
          59,
          50,
          47,
          51,
          69,
          27,
          53,
          70,
          19,
          67,
          54,
          63,
          18,
          43,
          68,
          19,
          32,
          70,
          47,
          60,
          60,
          59,
          26,
          45,
          40,
          23,
          49,
          57,
          38,
          67,
          46,
          21,
          48,
          55,
          22,
          34,
          50,
          68,
          18,
          48,
          40,
          32,
          24,
          47,
          27,
          48,
          20,
          23,
          49,
          67,
          26,
          49,
          21,
          66,
          54,
          68,
          66,
          65,
          19,
          38,
          19,
          18,
          19,
          63,
          49,
          51,
          50,
          27,
          38,
          40,
          39,
          23,
          31,
          43,
          40,
          59,
          38,
          47,
          39,
          25,
          31,
          20,
          29,
          44,
          32,
          19,
          35,
          57,
          32,
          28,
          32,
          25,
          28,
          48,
          32,
          34,
          34,
          43,
          39,
          44,
          38,
          47,
          27,
          37,
          30,
          34,
          30,
          56,
          29,
          19,
          31,
          50,
          36,
          42,
          33,
          36,
          32,
          40,
          28,
          36,
          36,
          52,
          30,
          58,
          27,
          59,
          35,
          37,
          32,
          46,
          29,
          41,
          30,
          54,
          28,
          41,
          36,
          34,
          32,
          33,
          38,
          47,
          35,
          45,
          32,
          32,
          30
         ],
         "xaxis": "x",
         "y": [
          39,
          81,
          6,
          77,
          40,
          76,
          6,
          94,
          3,
          72,
          14,
          99,
          15,
          77,
          13,
          79,
          35,
          66,
          29,
          98,
          35,
          73,
          5,
          73,
          14,
          82,
          32,
          61,
          31,
          87,
          4,
          73,
          4,
          92,
          14,
          81,
          17,
          73,
          26,
          75,
          35,
          92,
          36,
          61,
          28,
          65,
          55,
          47,
          42,
          42,
          52,
          60,
          54,
          60,
          45,
          41,
          50,
          46,
          51,
          46,
          56,
          55,
          52,
          59,
          51,
          59,
          50,
          48,
          59,
          47,
          55,
          42,
          49,
          56,
          47,
          54,
          53,
          48,
          52,
          42,
          51,
          55,
          41,
          44,
          57,
          46,
          58,
          55,
          60,
          46,
          55,
          41,
          49,
          40,
          42,
          52,
          47,
          50,
          42,
          49,
          41,
          48,
          59,
          55,
          56,
          42,
          50,
          46,
          43,
          48,
          52,
          54,
          42,
          46,
          48,
          50,
          43,
          59,
          43,
          57,
          56,
          40,
          58,
          91,
          29,
          77,
          35,
          95,
          11,
          75,
          9,
          75,
          34,
          71,
          5,
          88,
          7,
          73,
          10,
          72,
          5,
          93,
          40,
          87,
          12,
          97,
          36,
          74,
          22,
          90,
          17,
          88,
          20,
          76,
          16,
          89,
          1,
          78,
          1,
          73,
          35,
          83,
          5,
          93,
          26,
          75,
          20,
          95,
          27,
          63,
          13,
          75,
          10,
          92,
          13,
          86,
          15,
          69,
          14,
          90,
          32,
          86,
          15,
          88,
          39,
          97,
          24,
          68,
          17,
          85,
          23,
          69,
          8,
          91,
          16,
          79,
          28,
          74,
          18,
          83
         ],
         "yaxis": "y"
        }
       ],
       "layout": {
        "coloraxis": {
         "colorbar": {
          "title": {
           "text": "Clusters"
          }
         },
         "colorscale": [
          [
           0,
           "#0d0887"
          ],
          [
           0.1111111111111111,
           "#46039f"
          ],
          [
           0.2222222222222222,
           "#7201a8"
          ],
          [
           0.3333333333333333,
           "#9c179e"
          ],
          [
           0.4444444444444444,
           "#bd3786"
          ],
          [
           0.5555555555555556,
           "#d8576b"
          ],
          [
           0.6666666666666666,
           "#ed7953"
          ],
          [
           0.7777777777777778,
           "#fb9f3a"
          ],
          [
           0.8888888888888888,
           "#fdca26"
          ],
          [
           1,
           "#f0f921"
          ]
         ]
        },
        "legend": {
         "tracegroupgap": 0
        },
        "margin": {
         "t": 60
        },
        "template": {
         "data": {
          "bar": [
           {
            "error_x": {
             "color": "#2a3f5f"
            },
            "error_y": {
             "color": "#2a3f5f"
            },
            "marker": {
             "line": {
              "color": "#E5ECF6",
              "width": 0.5
             },
             "pattern": {
              "fillmode": "overlay",
              "size": 10,
              "solidity": 0.2
             }
            },
            "type": "bar"
           }
          ],
          "barpolar": [
           {
            "marker": {
             "line": {
              "color": "#E5ECF6",
              "width": 0.5
             },
             "pattern": {
              "fillmode": "overlay",
              "size": 10,
              "solidity": 0.2
             }
            },
            "type": "barpolar"
           }
          ],
          "carpet": [
           {
            "aaxis": {
             "endlinecolor": "#2a3f5f",
             "gridcolor": "white",
             "linecolor": "white",
             "minorgridcolor": "white",
             "startlinecolor": "#2a3f5f"
            },
            "baxis": {
             "endlinecolor": "#2a3f5f",
             "gridcolor": "white",
             "linecolor": "white",
             "minorgridcolor": "white",
             "startlinecolor": "#2a3f5f"
            },
            "type": "carpet"
           }
          ],
          "choropleth": [
           {
            "colorbar": {
             "outlinewidth": 0,
             "ticks": ""
            },
            "type": "choropleth"
           }
          ],
          "contour": [
           {
            "colorbar": {
             "outlinewidth": 0,
             "ticks": ""
            },
            "colorscale": [
             [
              0,
              "#0d0887"
             ],
             [
              0.1111111111111111,
              "#46039f"
             ],
             [
              0.2222222222222222,
              "#7201a8"
             ],
             [
              0.3333333333333333,
              "#9c179e"
             ],
             [
              0.4444444444444444,
              "#bd3786"
             ],
             [
              0.5555555555555556,
              "#d8576b"
             ],
             [
              0.6666666666666666,
              "#ed7953"
             ],
             [
              0.7777777777777778,
              "#fb9f3a"
             ],
             [
              0.8888888888888888,
              "#fdca26"
             ],
             [
              1,
              "#f0f921"
             ]
            ],
            "type": "contour"
           }
          ],
          "contourcarpet": [
           {
            "colorbar": {
             "outlinewidth": 0,
             "ticks": ""
            },
            "type": "contourcarpet"
           }
          ],
          "heatmap": [
           {
            "colorbar": {
             "outlinewidth": 0,
             "ticks": ""
            },
            "colorscale": [
             [
              0,
              "#0d0887"
             ],
             [
              0.1111111111111111,
              "#46039f"
             ],
             [
              0.2222222222222222,
              "#7201a8"
             ],
             [
              0.3333333333333333,
              "#9c179e"
             ],
             [
              0.4444444444444444,
              "#bd3786"
             ],
             [
              0.5555555555555556,
              "#d8576b"
             ],
             [
              0.6666666666666666,
              "#ed7953"
             ],
             [
              0.7777777777777778,
              "#fb9f3a"
             ],
             [
              0.8888888888888888,
              "#fdca26"
             ],
             [
              1,
              "#f0f921"
             ]
            ],
            "type": "heatmap"
           }
          ],
          "heatmapgl": [
           {
            "colorbar": {
             "outlinewidth": 0,
             "ticks": ""
            },
            "colorscale": [
             [
              0,
              "#0d0887"
             ],
             [
              0.1111111111111111,
              "#46039f"
             ],
             [
              0.2222222222222222,
              "#7201a8"
             ],
             [
              0.3333333333333333,
              "#9c179e"
             ],
             [
              0.4444444444444444,
              "#bd3786"
             ],
             [
              0.5555555555555556,
              "#d8576b"
             ],
             [
              0.6666666666666666,
              "#ed7953"
             ],
             [
              0.7777777777777778,
              "#fb9f3a"
             ],
             [
              0.8888888888888888,
              "#fdca26"
             ],
             [
              1,
              "#f0f921"
             ]
            ],
            "type": "heatmapgl"
           }
          ],
          "histogram": [
           {
            "marker": {
             "pattern": {
              "fillmode": "overlay",
              "size": 10,
              "solidity": 0.2
             }
            },
            "type": "histogram"
           }
          ],
          "histogram2d": [
           {
            "colorbar": {
             "outlinewidth": 0,
             "ticks": ""
            },
            "colorscale": [
             [
              0,
              "#0d0887"
             ],
             [
              0.1111111111111111,
              "#46039f"
             ],
             [
              0.2222222222222222,
              "#7201a8"
             ],
             [
              0.3333333333333333,
              "#9c179e"
             ],
             [
              0.4444444444444444,
              "#bd3786"
             ],
             [
              0.5555555555555556,
              "#d8576b"
             ],
             [
              0.6666666666666666,
              "#ed7953"
             ],
             [
              0.7777777777777778,
              "#fb9f3a"
             ],
             [
              0.8888888888888888,
              "#fdca26"
             ],
             [
              1,
              "#f0f921"
             ]
            ],
            "type": "histogram2d"
           }
          ],
          "histogram2dcontour": [
           {
            "colorbar": {
             "outlinewidth": 0,
             "ticks": ""
            },
            "colorscale": [
             [
              0,
              "#0d0887"
             ],
             [
              0.1111111111111111,
              "#46039f"
             ],
             [
              0.2222222222222222,
              "#7201a8"
             ],
             [
              0.3333333333333333,
              "#9c179e"
             ],
             [
              0.4444444444444444,
              "#bd3786"
             ],
             [
              0.5555555555555556,
              "#d8576b"
             ],
             [
              0.6666666666666666,
              "#ed7953"
             ],
             [
              0.7777777777777778,
              "#fb9f3a"
             ],
             [
              0.8888888888888888,
              "#fdca26"
             ],
             [
              1,
              "#f0f921"
             ]
            ],
            "type": "histogram2dcontour"
           }
          ],
          "mesh3d": [
           {
            "colorbar": {
             "outlinewidth": 0,
             "ticks": ""
            },
            "type": "mesh3d"
           }
          ],
          "parcoords": [
           {
            "line": {
             "colorbar": {
              "outlinewidth": 0,
              "ticks": ""
             }
            },
            "type": "parcoords"
           }
          ],
          "pie": [
           {
            "automargin": true,
            "type": "pie"
           }
          ],
          "scatter": [
           {
            "fillpattern": {
             "fillmode": "overlay",
             "size": 10,
             "solidity": 0.2
            },
            "type": "scatter"
           }
          ],
          "scatter3d": [
           {
            "line": {
             "colorbar": {
              "outlinewidth": 0,
              "ticks": ""
             }
            },
            "marker": {
             "colorbar": {
              "outlinewidth": 0,
              "ticks": ""
             }
            },
            "type": "scatter3d"
           }
          ],
          "scattercarpet": [
           {
            "marker": {
             "colorbar": {
              "outlinewidth": 0,
              "ticks": ""
             }
            },
            "type": "scattercarpet"
           }
          ],
          "scattergeo": [
           {
            "marker": {
             "colorbar": {
              "outlinewidth": 0,
              "ticks": ""
             }
            },
            "type": "scattergeo"
           }
          ],
          "scattergl": [
           {
            "marker": {
             "colorbar": {
              "outlinewidth": 0,
              "ticks": ""
             }
            },
            "type": "scattergl"
           }
          ],
          "scattermapbox": [
           {
            "marker": {
             "colorbar": {
              "outlinewidth": 0,
              "ticks": ""
             }
            },
            "type": "scattermapbox"
           }
          ],
          "scatterpolar": [
           {
            "marker": {
             "colorbar": {
              "outlinewidth": 0,
              "ticks": ""
             }
            },
            "type": "scatterpolar"
           }
          ],
          "scatterpolargl": [
           {
            "marker": {
             "colorbar": {
              "outlinewidth": 0,
              "ticks": ""
             }
            },
            "type": "scatterpolargl"
           }
          ],
          "scatterternary": [
           {
            "marker": {
             "colorbar": {
              "outlinewidth": 0,
              "ticks": ""
             }
            },
            "type": "scatterternary"
           }
          ],
          "surface": [
           {
            "colorbar": {
             "outlinewidth": 0,
             "ticks": ""
            },
            "colorscale": [
             [
              0,
              "#0d0887"
             ],
             [
              0.1111111111111111,
              "#46039f"
             ],
             [
              0.2222222222222222,
              "#7201a8"
             ],
             [
              0.3333333333333333,
              "#9c179e"
             ],
             [
              0.4444444444444444,
              "#bd3786"
             ],
             [
              0.5555555555555556,
              "#d8576b"
             ],
             [
              0.6666666666666666,
              "#ed7953"
             ],
             [
              0.7777777777777778,
              "#fb9f3a"
             ],
             [
              0.8888888888888888,
              "#fdca26"
             ],
             [
              1,
              "#f0f921"
             ]
            ],
            "type": "surface"
           }
          ],
          "table": [
           {
            "cells": {
             "fill": {
              "color": "#EBF0F8"
             },
             "line": {
              "color": "white"
             }
            },
            "header": {
             "fill": {
              "color": "#C8D4E3"
             },
             "line": {
              "color": "white"
             }
            },
            "type": "table"
           }
          ]
         },
         "layout": {
          "annotationdefaults": {
           "arrowcolor": "#2a3f5f",
           "arrowhead": 0,
           "arrowwidth": 1
          },
          "autotypenumbers": "strict",
          "coloraxis": {
           "colorbar": {
            "outlinewidth": 0,
            "ticks": ""
           }
          },
          "colorscale": {
           "diverging": [
            [
             0,
             "#8e0152"
            ],
            [
             0.1,
             "#c51b7d"
            ],
            [
             0.2,
             "#de77ae"
            ],
            [
             0.3,
             "#f1b6da"
            ],
            [
             0.4,
             "#fde0ef"
            ],
            [
             0.5,
             "#f7f7f7"
            ],
            [
             0.6,
             "#e6f5d0"
            ],
            [
             0.7,
             "#b8e186"
            ],
            [
             0.8,
             "#7fbc41"
            ],
            [
             0.9,
             "#4d9221"
            ],
            [
             1,
             "#276419"
            ]
           ],
           "sequential": [
            [
             0,
             "#0d0887"
            ],
            [
             0.1111111111111111,
             "#46039f"
            ],
            [
             0.2222222222222222,
             "#7201a8"
            ],
            [
             0.3333333333333333,
             "#9c179e"
            ],
            [
             0.4444444444444444,
             "#bd3786"
            ],
            [
             0.5555555555555556,
             "#d8576b"
            ],
            [
             0.6666666666666666,
             "#ed7953"
            ],
            [
             0.7777777777777778,
             "#fb9f3a"
            ],
            [
             0.8888888888888888,
             "#fdca26"
            ],
            [
             1,
             "#f0f921"
            ]
           ],
           "sequentialminus": [
            [
             0,
             "#0d0887"
            ],
            [
             0.1111111111111111,
             "#46039f"
            ],
            [
             0.2222222222222222,
             "#7201a8"
            ],
            [
             0.3333333333333333,
             "#9c179e"
            ],
            [
             0.4444444444444444,
             "#bd3786"
            ],
            [
             0.5555555555555556,
             "#d8576b"
            ],
            [
             0.6666666666666666,
             "#ed7953"
            ],
            [
             0.7777777777777778,
             "#fb9f3a"
            ],
            [
             0.8888888888888888,
             "#fdca26"
            ],
            [
             1,
             "#f0f921"
            ]
           ]
          },
          "colorway": [
           "#636efa",
           "#EF553B",
           "#00cc96",
           "#ab63fa",
           "#FFA15A",
           "#19d3f3",
           "#FF6692",
           "#B6E880",
           "#FF97FF",
           "#FECB52"
          ],
          "font": {
           "color": "#2a3f5f"
          },
          "geo": {
           "bgcolor": "white",
           "lakecolor": "white",
           "landcolor": "#E5ECF6",
           "showlakes": true,
           "showland": true,
           "subunitcolor": "white"
          },
          "hoverlabel": {
           "align": "left"
          },
          "hovermode": "closest",
          "mapbox": {
           "style": "light"
          },
          "paper_bgcolor": "white",
          "plot_bgcolor": "#E5ECF6",
          "polar": {
           "angularaxis": {
            "gridcolor": "white",
            "linecolor": "white",
            "ticks": ""
           },
           "bgcolor": "#E5ECF6",
           "radialaxis": {
            "gridcolor": "white",
            "linecolor": "white",
            "ticks": ""
           }
          },
          "scene": {
           "xaxis": {
            "backgroundcolor": "#E5ECF6",
            "gridcolor": "white",
            "gridwidth": 2,
            "linecolor": "white",
            "showbackground": true,
            "ticks": "",
            "zerolinecolor": "white"
           },
           "yaxis": {
            "backgroundcolor": "#E5ECF6",
            "gridcolor": "white",
            "gridwidth": 2,
            "linecolor": "white",
            "showbackground": true,
            "ticks": "",
            "zerolinecolor": "white"
           },
           "zaxis": {
            "backgroundcolor": "#E5ECF6",
            "gridcolor": "white",
            "gridwidth": 2,
            "linecolor": "white",
            "showbackground": true,
            "ticks": "",
            "zerolinecolor": "white"
           }
          },
          "shapedefaults": {
           "line": {
            "color": "#2a3f5f"
           }
          },
          "ternary": {
           "aaxis": {
            "gridcolor": "white",
            "linecolor": "white",
            "ticks": ""
           },
           "baxis": {
            "gridcolor": "white",
            "linecolor": "white",
            "ticks": ""
           },
           "bgcolor": "#E5ECF6",
           "caxis": {
            "gridcolor": "white",
            "linecolor": "white",
            "ticks": ""
           }
          },
          "title": {
           "x": 0.05
          },
          "xaxis": {
           "automargin": true,
           "gridcolor": "white",
           "linecolor": "white",
           "ticks": "",
           "title": {
            "standoff": 15
           },
           "zerolinecolor": "white",
           "zerolinewidth": 2
          },
          "yaxis": {
           "automargin": true,
           "gridcolor": "white",
           "linecolor": "white",
           "ticks": "",
           "title": {
            "standoff": 15
           },
           "zerolinecolor": "white",
           "zerolinewidth": 2
          }
         }
        },
        "title": {
         "text": "Age vs Spending Score by Cluster"
        },
        "xaxis": {
         "anchor": "y",
         "domain": [
          0,
          1
         ],
         "title": {
          "text": "Age"
         }
        },
        "yaxis": {
         "anchor": "x",
         "domain": [
          0,
          1
         ],
         "title": {
          "text": "Spending Score (1-100)"
         }
        }
       }
      }
     },
     "metadata": {},
     "output_type": "display_data"
    },
    {
     "data": {
      "application/vnd.plotly.v1+json": {
       "config": {
        "plotlyServerURL": "https://plot.ly"
       },
       "data": [
        {
         "hovertemplate": "Annual Income (k$)=%{x}<br>Spending Score (1-100)=%{y}<br>Clusters=%{marker.color}<extra></extra>",
         "legendgroup": "",
         "marker": {
          "color": [
           0,
           0,
           1,
           2,
           2,
           2,
           1,
           2,
           3,
           2,
           3,
           2,
           1,
           2,
           3,
           0,
           1,
           0,
           3,
           2,
           3,
           0,
           1,
           0,
           1,
           0,
           1,
           0,
           1,
           2,
           3,
           2,
           3,
           0,
           1,
           2,
           1,
           2,
           1,
           2,
           1,
           0,
           3,
           2,
           1,
           2,
           1,
           2,
           2,
           2,
           1,
           0,
           2,
           3,
           1,
           3,
           1,
           3,
           2,
           3,
           3,
           0,
           1,
           1,
           3,
           0,
           1,
           1,
           0,
           2,
           3,
           1,
           1,
           1,
           3,
           0,
           1,
           3,
           2,
           1,
           3,
           0,
           3,
           1,
           2,
           3,
           1,
           2,
           2,
           1,
           1,
           0,
           3,
           1,
           2,
           0,
           1,
           2,
           3,
           0,
           2,
           1,
           3,
           0,
           3,
           2,
           1,
           3,
           3,
           3,
           3,
           2,
           1,
           0,
           2,
           2,
           1,
           1,
           1,
           1,
           0,
           1,
           2,
           0,
           2,
           2,
           3,
           0,
           3,
           0,
           3,
           0,
           2,
           2,
           3,
           2,
           1,
           0,
           3,
           2,
           1,
           0,
           2,
           2,
           3,
           0,
           3,
           2,
           1,
           0,
           3,
           0,
           1,
           2,
           1,
           2,
           3,
           2,
           3,
           2,
           1,
           2,
           3,
           2,
           3,
           2,
           3,
           2,
           1,
           0,
           3,
           0,
           3,
           0,
           1,
           2,
           3,
           0,
           3,
           0,
           1,
           2,
           3,
           2,
           1,
           0,
           1,
           0,
           1,
           2,
           1,
           2,
           3,
           2,
           1,
           2,
           1,
           0,
           3,
           0
          ],
          "coloraxis": "coloraxis",
          "symbol": "circle"
         },
         "mode": "markers",
         "name": "",
         "orientation": "v",
         "showlegend": false,
         "type": "scatter",
         "x": [
          15,
          15,
          16,
          16,
          17,
          17,
          18,
          18,
          19,
          19,
          19,
          19,
          20,
          20,
          20,
          20,
          21,
          21,
          23,
          23,
          24,
          24,
          25,
          25,
          28,
          28,
          28,
          28,
          29,
          29,
          30,
          30,
          33,
          33,
          33,
          33,
          34,
          34,
          37,
          37,
          38,
          38,
          39,
          39,
          39,
          39,
          40,
          40,
          40,
          40,
          42,
          42,
          43,
          43,
          43,
          43,
          44,
          44,
          46,
          46,
          46,
          46,
          47,
          47,
          48,
          48,
          48,
          48,
          48,
          48,
          49,
          49,
          50,
          50,
          54,
          54,
          54,
          54,
          54,
          54,
          54,
          54,
          54,
          54,
          54,
          54,
          57,
          57,
          58,
          58,
          59,
          59,
          60,
          60,
          60,
          60,
          60,
          60,
          61,
          61,
          62,
          62,
          62,
          62,
          62,
          62,
          63,
          63,
          63,
          63,
          63,
          63,
          64,
          64,
          65,
          65,
          65,
          65,
          67,
          67,
          67,
          67,
          69,
          69,
          70,
          70,
          71,
          71,
          71,
          71,
          71,
          71,
          72,
          72,
          73,
          73,
          73,
          73,
          74,
          74,
          75,
          75,
          76,
          76,
          77,
          77,
          77,
          77,
          78,
          78,
          78,
          78,
          78,
          78,
          78,
          78,
          78,
          78,
          78,
          78,
          79,
          79,
          81,
          81,
          85,
          85,
          86,
          86,
          87,
          87,
          87,
          87,
          87,
          87,
          88,
          88,
          88,
          88,
          93,
          93,
          97,
          97,
          98,
          98,
          99,
          99,
          101,
          101,
          103,
          103,
          103,
          103,
          113,
          113,
          120,
          120,
          126,
          126,
          137,
          137
         ],
         "xaxis": "x",
         "y": [
          39,
          81,
          6,
          77,
          40,
          76,
          6,
          94,
          3,
          72,
          14,
          99,
          15,
          77,
          13,
          79,
          35,
          66,
          29,
          98,
          35,
          73,
          5,
          73,
          14,
          82,
          32,
          61,
          31,
          87,
          4,
          73,
          4,
          92,
          14,
          81,
          17,
          73,
          26,
          75,
          35,
          92,
          36,
          61,
          28,
          65,
          55,
          47,
          42,
          42,
          52,
          60,
          54,
          60,
          45,
          41,
          50,
          46,
          51,
          46,
          56,
          55,
          52,
          59,
          51,
          59,
          50,
          48,
          59,
          47,
          55,
          42,
          49,
          56,
          47,
          54,
          53,
          48,
          52,
          42,
          51,
          55,
          41,
          44,
          57,
          46,
          58,
          55,
          60,
          46,
          55,
          41,
          49,
          40,
          42,
          52,
          47,
          50,
          42,
          49,
          41,
          48,
          59,
          55,
          56,
          42,
          50,
          46,
          43,
          48,
          52,
          54,
          42,
          46,
          48,
          50,
          43,
          59,
          43,
          57,
          56,
          40,
          58,
          91,
          29,
          77,
          35,
          95,
          11,
          75,
          9,
          75,
          34,
          71,
          5,
          88,
          7,
          73,
          10,
          72,
          5,
          93,
          40,
          87,
          12,
          97,
          36,
          74,
          22,
          90,
          17,
          88,
          20,
          76,
          16,
          89,
          1,
          78,
          1,
          73,
          35,
          83,
          5,
          93,
          26,
          75,
          20,
          95,
          27,
          63,
          13,
          75,
          10,
          92,
          13,
          86,
          15,
          69,
          14,
          90,
          32,
          86,
          15,
          88,
          39,
          97,
          24,
          68,
          17,
          85,
          23,
          69,
          8,
          91,
          16,
          79,
          28,
          74,
          18,
          83
         ],
         "yaxis": "y"
        }
       ],
       "layout": {
        "coloraxis": {
         "colorbar": {
          "title": {
           "text": "Clusters"
          }
         },
         "colorscale": [
          [
           0,
           "#0d0887"
          ],
          [
           0.1111111111111111,
           "#46039f"
          ],
          [
           0.2222222222222222,
           "#7201a8"
          ],
          [
           0.3333333333333333,
           "#9c179e"
          ],
          [
           0.4444444444444444,
           "#bd3786"
          ],
          [
           0.5555555555555556,
           "#d8576b"
          ],
          [
           0.6666666666666666,
           "#ed7953"
          ],
          [
           0.7777777777777778,
           "#fb9f3a"
          ],
          [
           0.8888888888888888,
           "#fdca26"
          ],
          [
           1,
           "#f0f921"
          ]
         ]
        },
        "legend": {
         "tracegroupgap": 0
        },
        "margin": {
         "t": 60
        },
        "template": {
         "data": {
          "bar": [
           {
            "error_x": {
             "color": "#2a3f5f"
            },
            "error_y": {
             "color": "#2a3f5f"
            },
            "marker": {
             "line": {
              "color": "#E5ECF6",
              "width": 0.5
             },
             "pattern": {
              "fillmode": "overlay",
              "size": 10,
              "solidity": 0.2
             }
            },
            "type": "bar"
           }
          ],
          "barpolar": [
           {
            "marker": {
             "line": {
              "color": "#E5ECF6",
              "width": 0.5
             },
             "pattern": {
              "fillmode": "overlay",
              "size": 10,
              "solidity": 0.2
             }
            },
            "type": "barpolar"
           }
          ],
          "carpet": [
           {
            "aaxis": {
             "endlinecolor": "#2a3f5f",
             "gridcolor": "white",
             "linecolor": "white",
             "minorgridcolor": "white",
             "startlinecolor": "#2a3f5f"
            },
            "baxis": {
             "endlinecolor": "#2a3f5f",
             "gridcolor": "white",
             "linecolor": "white",
             "minorgridcolor": "white",
             "startlinecolor": "#2a3f5f"
            },
            "type": "carpet"
           }
          ],
          "choropleth": [
           {
            "colorbar": {
             "outlinewidth": 0,
             "ticks": ""
            },
            "type": "choropleth"
           }
          ],
          "contour": [
           {
            "colorbar": {
             "outlinewidth": 0,
             "ticks": ""
            },
            "colorscale": [
             [
              0,
              "#0d0887"
             ],
             [
              0.1111111111111111,
              "#46039f"
             ],
             [
              0.2222222222222222,
              "#7201a8"
             ],
             [
              0.3333333333333333,
              "#9c179e"
             ],
             [
              0.4444444444444444,
              "#bd3786"
             ],
             [
              0.5555555555555556,
              "#d8576b"
             ],
             [
              0.6666666666666666,
              "#ed7953"
             ],
             [
              0.7777777777777778,
              "#fb9f3a"
             ],
             [
              0.8888888888888888,
              "#fdca26"
             ],
             [
              1,
              "#f0f921"
             ]
            ],
            "type": "contour"
           }
          ],
          "contourcarpet": [
           {
            "colorbar": {
             "outlinewidth": 0,
             "ticks": ""
            },
            "type": "contourcarpet"
           }
          ],
          "heatmap": [
           {
            "colorbar": {
             "outlinewidth": 0,
             "ticks": ""
            },
            "colorscale": [
             [
              0,
              "#0d0887"
             ],
             [
              0.1111111111111111,
              "#46039f"
             ],
             [
              0.2222222222222222,
              "#7201a8"
             ],
             [
              0.3333333333333333,
              "#9c179e"
             ],
             [
              0.4444444444444444,
              "#bd3786"
             ],
             [
              0.5555555555555556,
              "#d8576b"
             ],
             [
              0.6666666666666666,
              "#ed7953"
             ],
             [
              0.7777777777777778,
              "#fb9f3a"
             ],
             [
              0.8888888888888888,
              "#fdca26"
             ],
             [
              1,
              "#f0f921"
             ]
            ],
            "type": "heatmap"
           }
          ],
          "heatmapgl": [
           {
            "colorbar": {
             "outlinewidth": 0,
             "ticks": ""
            },
            "colorscale": [
             [
              0,
              "#0d0887"
             ],
             [
              0.1111111111111111,
              "#46039f"
             ],
             [
              0.2222222222222222,
              "#7201a8"
             ],
             [
              0.3333333333333333,
              "#9c179e"
             ],
             [
              0.4444444444444444,
              "#bd3786"
             ],
             [
              0.5555555555555556,
              "#d8576b"
             ],
             [
              0.6666666666666666,
              "#ed7953"
             ],
             [
              0.7777777777777778,
              "#fb9f3a"
             ],
             [
              0.8888888888888888,
              "#fdca26"
             ],
             [
              1,
              "#f0f921"
             ]
            ],
            "type": "heatmapgl"
           }
          ],
          "histogram": [
           {
            "marker": {
             "pattern": {
              "fillmode": "overlay",
              "size": 10,
              "solidity": 0.2
             }
            },
            "type": "histogram"
           }
          ],
          "histogram2d": [
           {
            "colorbar": {
             "outlinewidth": 0,
             "ticks": ""
            },
            "colorscale": [
             [
              0,
              "#0d0887"
             ],
             [
              0.1111111111111111,
              "#46039f"
             ],
             [
              0.2222222222222222,
              "#7201a8"
             ],
             [
              0.3333333333333333,
              "#9c179e"
             ],
             [
              0.4444444444444444,
              "#bd3786"
             ],
             [
              0.5555555555555556,
              "#d8576b"
             ],
             [
              0.6666666666666666,
              "#ed7953"
             ],
             [
              0.7777777777777778,
              "#fb9f3a"
             ],
             [
              0.8888888888888888,
              "#fdca26"
             ],
             [
              1,
              "#f0f921"
             ]
            ],
            "type": "histogram2d"
           }
          ],
          "histogram2dcontour": [
           {
            "colorbar": {
             "outlinewidth": 0,
             "ticks": ""
            },
            "colorscale": [
             [
              0,
              "#0d0887"
             ],
             [
              0.1111111111111111,
              "#46039f"
             ],
             [
              0.2222222222222222,
              "#7201a8"
             ],
             [
              0.3333333333333333,
              "#9c179e"
             ],
             [
              0.4444444444444444,
              "#bd3786"
             ],
             [
              0.5555555555555556,
              "#d8576b"
             ],
             [
              0.6666666666666666,
              "#ed7953"
             ],
             [
              0.7777777777777778,
              "#fb9f3a"
             ],
             [
              0.8888888888888888,
              "#fdca26"
             ],
             [
              1,
              "#f0f921"
             ]
            ],
            "type": "histogram2dcontour"
           }
          ],
          "mesh3d": [
           {
            "colorbar": {
             "outlinewidth": 0,
             "ticks": ""
            },
            "type": "mesh3d"
           }
          ],
          "parcoords": [
           {
            "line": {
             "colorbar": {
              "outlinewidth": 0,
              "ticks": ""
             }
            },
            "type": "parcoords"
           }
          ],
          "pie": [
           {
            "automargin": true,
            "type": "pie"
           }
          ],
          "scatter": [
           {
            "fillpattern": {
             "fillmode": "overlay",
             "size": 10,
             "solidity": 0.2
            },
            "type": "scatter"
           }
          ],
          "scatter3d": [
           {
            "line": {
             "colorbar": {
              "outlinewidth": 0,
              "ticks": ""
             }
            },
            "marker": {
             "colorbar": {
              "outlinewidth": 0,
              "ticks": ""
             }
            },
            "type": "scatter3d"
           }
          ],
          "scattercarpet": [
           {
            "marker": {
             "colorbar": {
              "outlinewidth": 0,
              "ticks": ""
             }
            },
            "type": "scattercarpet"
           }
          ],
          "scattergeo": [
           {
            "marker": {
             "colorbar": {
              "outlinewidth": 0,
              "ticks": ""
             }
            },
            "type": "scattergeo"
           }
          ],
          "scattergl": [
           {
            "marker": {
             "colorbar": {
              "outlinewidth": 0,
              "ticks": ""
             }
            },
            "type": "scattergl"
           }
          ],
          "scattermapbox": [
           {
            "marker": {
             "colorbar": {
              "outlinewidth": 0,
              "ticks": ""
             }
            },
            "type": "scattermapbox"
           }
          ],
          "scatterpolar": [
           {
            "marker": {
             "colorbar": {
              "outlinewidth": 0,
              "ticks": ""
             }
            },
            "type": "scatterpolar"
           }
          ],
          "scatterpolargl": [
           {
            "marker": {
             "colorbar": {
              "outlinewidth": 0,
              "ticks": ""
             }
            },
            "type": "scatterpolargl"
           }
          ],
          "scatterternary": [
           {
            "marker": {
             "colorbar": {
              "outlinewidth": 0,
              "ticks": ""
             }
            },
            "type": "scatterternary"
           }
          ],
          "surface": [
           {
            "colorbar": {
             "outlinewidth": 0,
             "ticks": ""
            },
            "colorscale": [
             [
              0,
              "#0d0887"
             ],
             [
              0.1111111111111111,
              "#46039f"
             ],
             [
              0.2222222222222222,
              "#7201a8"
             ],
             [
              0.3333333333333333,
              "#9c179e"
             ],
             [
              0.4444444444444444,
              "#bd3786"
             ],
             [
              0.5555555555555556,
              "#d8576b"
             ],
             [
              0.6666666666666666,
              "#ed7953"
             ],
             [
              0.7777777777777778,
              "#fb9f3a"
             ],
             [
              0.8888888888888888,
              "#fdca26"
             ],
             [
              1,
              "#f0f921"
             ]
            ],
            "type": "surface"
           }
          ],
          "table": [
           {
            "cells": {
             "fill": {
              "color": "#EBF0F8"
             },
             "line": {
              "color": "white"
             }
            },
            "header": {
             "fill": {
              "color": "#C8D4E3"
             },
             "line": {
              "color": "white"
             }
            },
            "type": "table"
           }
          ]
         },
         "layout": {
          "annotationdefaults": {
           "arrowcolor": "#2a3f5f",
           "arrowhead": 0,
           "arrowwidth": 1
          },
          "autotypenumbers": "strict",
          "coloraxis": {
           "colorbar": {
            "outlinewidth": 0,
            "ticks": ""
           }
          },
          "colorscale": {
           "diverging": [
            [
             0,
             "#8e0152"
            ],
            [
             0.1,
             "#c51b7d"
            ],
            [
             0.2,
             "#de77ae"
            ],
            [
             0.3,
             "#f1b6da"
            ],
            [
             0.4,
             "#fde0ef"
            ],
            [
             0.5,
             "#f7f7f7"
            ],
            [
             0.6,
             "#e6f5d0"
            ],
            [
             0.7,
             "#b8e186"
            ],
            [
             0.8,
             "#7fbc41"
            ],
            [
             0.9,
             "#4d9221"
            ],
            [
             1,
             "#276419"
            ]
           ],
           "sequential": [
            [
             0,
             "#0d0887"
            ],
            [
             0.1111111111111111,
             "#46039f"
            ],
            [
             0.2222222222222222,
             "#7201a8"
            ],
            [
             0.3333333333333333,
             "#9c179e"
            ],
            [
             0.4444444444444444,
             "#bd3786"
            ],
            [
             0.5555555555555556,
             "#d8576b"
            ],
            [
             0.6666666666666666,
             "#ed7953"
            ],
            [
             0.7777777777777778,
             "#fb9f3a"
            ],
            [
             0.8888888888888888,
             "#fdca26"
            ],
            [
             1,
             "#f0f921"
            ]
           ],
           "sequentialminus": [
            [
             0,
             "#0d0887"
            ],
            [
             0.1111111111111111,
             "#46039f"
            ],
            [
             0.2222222222222222,
             "#7201a8"
            ],
            [
             0.3333333333333333,
             "#9c179e"
            ],
            [
             0.4444444444444444,
             "#bd3786"
            ],
            [
             0.5555555555555556,
             "#d8576b"
            ],
            [
             0.6666666666666666,
             "#ed7953"
            ],
            [
             0.7777777777777778,
             "#fb9f3a"
            ],
            [
             0.8888888888888888,
             "#fdca26"
            ],
            [
             1,
             "#f0f921"
            ]
           ]
          },
          "colorway": [
           "#636efa",
           "#EF553B",
           "#00cc96",
           "#ab63fa",
           "#FFA15A",
           "#19d3f3",
           "#FF6692",
           "#B6E880",
           "#FF97FF",
           "#FECB52"
          ],
          "font": {
           "color": "#2a3f5f"
          },
          "geo": {
           "bgcolor": "white",
           "lakecolor": "white",
           "landcolor": "#E5ECF6",
           "showlakes": true,
           "showland": true,
           "subunitcolor": "white"
          },
          "hoverlabel": {
           "align": "left"
          },
          "hovermode": "closest",
          "mapbox": {
           "style": "light"
          },
          "paper_bgcolor": "white",
          "plot_bgcolor": "#E5ECF6",
          "polar": {
           "angularaxis": {
            "gridcolor": "white",
            "linecolor": "white",
            "ticks": ""
           },
           "bgcolor": "#E5ECF6",
           "radialaxis": {
            "gridcolor": "white",
            "linecolor": "white",
            "ticks": ""
           }
          },
          "scene": {
           "xaxis": {
            "backgroundcolor": "#E5ECF6",
            "gridcolor": "white",
            "gridwidth": 2,
            "linecolor": "white",
            "showbackground": true,
            "ticks": "",
            "zerolinecolor": "white"
           },
           "yaxis": {
            "backgroundcolor": "#E5ECF6",
            "gridcolor": "white",
            "gridwidth": 2,
            "linecolor": "white",
            "showbackground": true,
            "ticks": "",
            "zerolinecolor": "white"
           },
           "zaxis": {
            "backgroundcolor": "#E5ECF6",
            "gridcolor": "white",
            "gridwidth": 2,
            "linecolor": "white",
            "showbackground": true,
            "ticks": "",
            "zerolinecolor": "white"
           }
          },
          "shapedefaults": {
           "line": {
            "color": "#2a3f5f"
           }
          },
          "ternary": {
           "aaxis": {
            "gridcolor": "white",
            "linecolor": "white",
            "ticks": ""
           },
           "baxis": {
            "gridcolor": "white",
            "linecolor": "white",
            "ticks": ""
           },
           "bgcolor": "#E5ECF6",
           "caxis": {
            "gridcolor": "white",
            "linecolor": "white",
            "ticks": ""
           }
          },
          "title": {
           "x": 0.05
          },
          "xaxis": {
           "automargin": true,
           "gridcolor": "white",
           "linecolor": "white",
           "ticks": "",
           "title": {
            "standoff": 15
           },
           "zerolinecolor": "white",
           "zerolinewidth": 2
          },
          "yaxis": {
           "automargin": true,
           "gridcolor": "white",
           "linecolor": "white",
           "ticks": "",
           "title": {
            "standoff": 15
           },
           "zerolinecolor": "white",
           "zerolinewidth": 2
          }
         }
        },
        "title": {
         "text": "Annual Income vs Spending Score by Cluster"
        },
        "xaxis": {
         "anchor": "y",
         "domain": [
          0,
          1
         ],
         "title": {
          "text": "Annual Income (k$)"
         }
        },
        "yaxis": {
         "anchor": "x",
         "domain": [
          0,
          1
         ],
         "title": {
          "text": "Spending Score (1-100)"
         }
        }
       }
      }
     },
     "metadata": {},
     "output_type": "display_data"
    }
   ],
   "source": [
    "import plotly.express as px\n",
    "\n",
    "fig1 = px.scatter(df_cluster, x='Age', y='Annual Income (k$)', color='Clusters')\n",
    "fig1.update_layout(title='Age vs Annual Income by Cluster')\n",
    "\n",
    "fig2 = px.scatter(df_cluster, x='Age', y='Spending Score (1-100)', color='Clusters')\n",
    "fig2.update_layout(title='Age vs Spending Score by Cluster')\n",
    "\n",
    "fig3 = px.scatter(df_cluster, x='Annual Income (k$)', y='Spending Score (1-100)', color='Clusters')\n",
    "fig3.update_layout(title='Annual Income vs Spending Score by Cluster')\n",
    "\n",
    "fig1.show()\n",
    "fig2.show()\n",
    "fig3.show()\n",
    "\n"
   ]
  },
  {
   "cell_type": "code",
   "execution_count": 15,
   "metadata": {},
   "outputs": [
    {
     "data": {
      "application/vnd.plotly.v1+json": {
       "config": {
        "plotlyServerURL": "https://plot.ly"
       },
       "data": [
        {
         "mode": "lines",
         "name": "WCSS",
         "type": "scatter",
         "x": [
          1,
          2,
          3,
          4,
          5,
          6,
          7,
          8,
          9,
          10
         ],
         "xaxis": "x",
         "y": [
          308812.77999999997,
          212840.16982097187,
          143342.75157170597,
          104366.15145556198,
          75350.77917248776,
          58300.44332159069,
          51084.505954934364,
          44344.94980177717,
          40953.73845841785,
          37602.692961061926
         ],
         "yaxis": "y"
        }
       ],
       "layout": {
        "template": {
         "data": {
          "bar": [
           {
            "error_x": {
             "color": "#2a3f5f"
            },
            "error_y": {
             "color": "#2a3f5f"
            },
            "marker": {
             "line": {
              "color": "#E5ECF6",
              "width": 0.5
             },
             "pattern": {
              "fillmode": "overlay",
              "size": 10,
              "solidity": 0.2
             }
            },
            "type": "bar"
           }
          ],
          "barpolar": [
           {
            "marker": {
             "line": {
              "color": "#E5ECF6",
              "width": 0.5
             },
             "pattern": {
              "fillmode": "overlay",
              "size": 10,
              "solidity": 0.2
             }
            },
            "type": "barpolar"
           }
          ],
          "carpet": [
           {
            "aaxis": {
             "endlinecolor": "#2a3f5f",
             "gridcolor": "white",
             "linecolor": "white",
             "minorgridcolor": "white",
             "startlinecolor": "#2a3f5f"
            },
            "baxis": {
             "endlinecolor": "#2a3f5f",
             "gridcolor": "white",
             "linecolor": "white",
             "minorgridcolor": "white",
             "startlinecolor": "#2a3f5f"
            },
            "type": "carpet"
           }
          ],
          "choropleth": [
           {
            "colorbar": {
             "outlinewidth": 0,
             "ticks": ""
            },
            "type": "choropleth"
           }
          ],
          "contour": [
           {
            "colorbar": {
             "outlinewidth": 0,
             "ticks": ""
            },
            "colorscale": [
             [
              0,
              "#0d0887"
             ],
             [
              0.1111111111111111,
              "#46039f"
             ],
             [
              0.2222222222222222,
              "#7201a8"
             ],
             [
              0.3333333333333333,
              "#9c179e"
             ],
             [
              0.4444444444444444,
              "#bd3786"
             ],
             [
              0.5555555555555556,
              "#d8576b"
             ],
             [
              0.6666666666666666,
              "#ed7953"
             ],
             [
              0.7777777777777778,
              "#fb9f3a"
             ],
             [
              0.8888888888888888,
              "#fdca26"
             ],
             [
              1,
              "#f0f921"
             ]
            ],
            "type": "contour"
           }
          ],
          "contourcarpet": [
           {
            "colorbar": {
             "outlinewidth": 0,
             "ticks": ""
            },
            "type": "contourcarpet"
           }
          ],
          "heatmap": [
           {
            "colorbar": {
             "outlinewidth": 0,
             "ticks": ""
            },
            "colorscale": [
             [
              0,
              "#0d0887"
             ],
             [
              0.1111111111111111,
              "#46039f"
             ],
             [
              0.2222222222222222,
              "#7201a8"
             ],
             [
              0.3333333333333333,
              "#9c179e"
             ],
             [
              0.4444444444444444,
              "#bd3786"
             ],
             [
              0.5555555555555556,
              "#d8576b"
             ],
             [
              0.6666666666666666,
              "#ed7953"
             ],
             [
              0.7777777777777778,
              "#fb9f3a"
             ],
             [
              0.8888888888888888,
              "#fdca26"
             ],
             [
              1,
              "#f0f921"
             ]
            ],
            "type": "heatmap"
           }
          ],
          "heatmapgl": [
           {
            "colorbar": {
             "outlinewidth": 0,
             "ticks": ""
            },
            "colorscale": [
             [
              0,
              "#0d0887"
             ],
             [
              0.1111111111111111,
              "#46039f"
             ],
             [
              0.2222222222222222,
              "#7201a8"
             ],
             [
              0.3333333333333333,
              "#9c179e"
             ],
             [
              0.4444444444444444,
              "#bd3786"
             ],
             [
              0.5555555555555556,
              "#d8576b"
             ],
             [
              0.6666666666666666,
              "#ed7953"
             ],
             [
              0.7777777777777778,
              "#fb9f3a"
             ],
             [
              0.8888888888888888,
              "#fdca26"
             ],
             [
              1,
              "#f0f921"
             ]
            ],
            "type": "heatmapgl"
           }
          ],
          "histogram": [
           {
            "marker": {
             "pattern": {
              "fillmode": "overlay",
              "size": 10,
              "solidity": 0.2
             }
            },
            "type": "histogram"
           }
          ],
          "histogram2d": [
           {
            "colorbar": {
             "outlinewidth": 0,
             "ticks": ""
            },
            "colorscale": [
             [
              0,
              "#0d0887"
             ],
             [
              0.1111111111111111,
              "#46039f"
             ],
             [
              0.2222222222222222,
              "#7201a8"
             ],
             [
              0.3333333333333333,
              "#9c179e"
             ],
             [
              0.4444444444444444,
              "#bd3786"
             ],
             [
              0.5555555555555556,
              "#d8576b"
             ],
             [
              0.6666666666666666,
              "#ed7953"
             ],
             [
              0.7777777777777778,
              "#fb9f3a"
             ],
             [
              0.8888888888888888,
              "#fdca26"
             ],
             [
              1,
              "#f0f921"
             ]
            ],
            "type": "histogram2d"
           }
          ],
          "histogram2dcontour": [
           {
            "colorbar": {
             "outlinewidth": 0,
             "ticks": ""
            },
            "colorscale": [
             [
              0,
              "#0d0887"
             ],
             [
              0.1111111111111111,
              "#46039f"
             ],
             [
              0.2222222222222222,
              "#7201a8"
             ],
             [
              0.3333333333333333,
              "#9c179e"
             ],
             [
              0.4444444444444444,
              "#bd3786"
             ],
             [
              0.5555555555555556,
              "#d8576b"
             ],
             [
              0.6666666666666666,
              "#ed7953"
             ],
             [
              0.7777777777777778,
              "#fb9f3a"
             ],
             [
              0.8888888888888888,
              "#fdca26"
             ],
             [
              1,
              "#f0f921"
             ]
            ],
            "type": "histogram2dcontour"
           }
          ],
          "mesh3d": [
           {
            "colorbar": {
             "outlinewidth": 0,
             "ticks": ""
            },
            "type": "mesh3d"
           }
          ],
          "parcoords": [
           {
            "line": {
             "colorbar": {
              "outlinewidth": 0,
              "ticks": ""
             }
            },
            "type": "parcoords"
           }
          ],
          "pie": [
           {
            "automargin": true,
            "type": "pie"
           }
          ],
          "scatter": [
           {
            "fillpattern": {
             "fillmode": "overlay",
             "size": 10,
             "solidity": 0.2
            },
            "type": "scatter"
           }
          ],
          "scatter3d": [
           {
            "line": {
             "colorbar": {
              "outlinewidth": 0,
              "ticks": ""
             }
            },
            "marker": {
             "colorbar": {
              "outlinewidth": 0,
              "ticks": ""
             }
            },
            "type": "scatter3d"
           }
          ],
          "scattercarpet": [
           {
            "marker": {
             "colorbar": {
              "outlinewidth": 0,
              "ticks": ""
             }
            },
            "type": "scattercarpet"
           }
          ],
          "scattergeo": [
           {
            "marker": {
             "colorbar": {
              "outlinewidth": 0,
              "ticks": ""
             }
            },
            "type": "scattergeo"
           }
          ],
          "scattergl": [
           {
            "marker": {
             "colorbar": {
              "outlinewidth": 0,
              "ticks": ""
             }
            },
            "type": "scattergl"
           }
          ],
          "scattermapbox": [
           {
            "marker": {
             "colorbar": {
              "outlinewidth": 0,
              "ticks": ""
             }
            },
            "type": "scattermapbox"
           }
          ],
          "scatterpolar": [
           {
            "marker": {
             "colorbar": {
              "outlinewidth": 0,
              "ticks": ""
             }
            },
            "type": "scatterpolar"
           }
          ],
          "scatterpolargl": [
           {
            "marker": {
             "colorbar": {
              "outlinewidth": 0,
              "ticks": ""
             }
            },
            "type": "scatterpolargl"
           }
          ],
          "scatterternary": [
           {
            "marker": {
             "colorbar": {
              "outlinewidth": 0,
              "ticks": ""
             }
            },
            "type": "scatterternary"
           }
          ],
          "surface": [
           {
            "colorbar": {
             "outlinewidth": 0,
             "ticks": ""
            },
            "colorscale": [
             [
              0,
              "#0d0887"
             ],
             [
              0.1111111111111111,
              "#46039f"
             ],
             [
              0.2222222222222222,
              "#7201a8"
             ],
             [
              0.3333333333333333,
              "#9c179e"
             ],
             [
              0.4444444444444444,
              "#bd3786"
             ],
             [
              0.5555555555555556,
              "#d8576b"
             ],
             [
              0.6666666666666666,
              "#ed7953"
             ],
             [
              0.7777777777777778,
              "#fb9f3a"
             ],
             [
              0.8888888888888888,
              "#fdca26"
             ],
             [
              1,
              "#f0f921"
             ]
            ],
            "type": "surface"
           }
          ],
          "table": [
           {
            "cells": {
             "fill": {
              "color": "#EBF0F8"
             },
             "line": {
              "color": "white"
             }
            },
            "header": {
             "fill": {
              "color": "#C8D4E3"
             },
             "line": {
              "color": "white"
             }
            },
            "type": "table"
           }
          ]
         },
         "layout": {
          "annotationdefaults": {
           "arrowcolor": "#2a3f5f",
           "arrowhead": 0,
           "arrowwidth": 1
          },
          "autotypenumbers": "strict",
          "coloraxis": {
           "colorbar": {
            "outlinewidth": 0,
            "ticks": ""
           }
          },
          "colorscale": {
           "diverging": [
            [
             0,
             "#8e0152"
            ],
            [
             0.1,
             "#c51b7d"
            ],
            [
             0.2,
             "#de77ae"
            ],
            [
             0.3,
             "#f1b6da"
            ],
            [
             0.4,
             "#fde0ef"
            ],
            [
             0.5,
             "#f7f7f7"
            ],
            [
             0.6,
             "#e6f5d0"
            ],
            [
             0.7,
             "#b8e186"
            ],
            [
             0.8,
             "#7fbc41"
            ],
            [
             0.9,
             "#4d9221"
            ],
            [
             1,
             "#276419"
            ]
           ],
           "sequential": [
            [
             0,
             "#0d0887"
            ],
            [
             0.1111111111111111,
             "#46039f"
            ],
            [
             0.2222222222222222,
             "#7201a8"
            ],
            [
             0.3333333333333333,
             "#9c179e"
            ],
            [
             0.4444444444444444,
             "#bd3786"
            ],
            [
             0.5555555555555556,
             "#d8576b"
            ],
            [
             0.6666666666666666,
             "#ed7953"
            ],
            [
             0.7777777777777778,
             "#fb9f3a"
            ],
            [
             0.8888888888888888,
             "#fdca26"
            ],
            [
             1,
             "#f0f921"
            ]
           ],
           "sequentialminus": [
            [
             0,
             "#0d0887"
            ],
            [
             0.1111111111111111,
             "#46039f"
            ],
            [
             0.2222222222222222,
             "#7201a8"
            ],
            [
             0.3333333333333333,
             "#9c179e"
            ],
            [
             0.4444444444444444,
             "#bd3786"
            ],
            [
             0.5555555555555556,
             "#d8576b"
            ],
            [
             0.6666666666666666,
             "#ed7953"
            ],
            [
             0.7777777777777778,
             "#fb9f3a"
            ],
            [
             0.8888888888888888,
             "#fdca26"
            ],
            [
             1,
             "#f0f921"
            ]
           ]
          },
          "colorway": [
           "#636efa",
           "#EF553B",
           "#00cc96",
           "#ab63fa",
           "#FFA15A",
           "#19d3f3",
           "#FF6692",
           "#B6E880",
           "#FF97FF",
           "#FECB52"
          ],
          "font": {
           "color": "#2a3f5f"
          },
          "geo": {
           "bgcolor": "white",
           "lakecolor": "white",
           "landcolor": "#E5ECF6",
           "showlakes": true,
           "showland": true,
           "subunitcolor": "white"
          },
          "hoverlabel": {
           "align": "left"
          },
          "hovermode": "closest",
          "mapbox": {
           "style": "light"
          },
          "paper_bgcolor": "white",
          "plot_bgcolor": "#E5ECF6",
          "polar": {
           "angularaxis": {
            "gridcolor": "white",
            "linecolor": "white",
            "ticks": ""
           },
           "bgcolor": "#E5ECF6",
           "radialaxis": {
            "gridcolor": "white",
            "linecolor": "white",
            "ticks": ""
           }
          },
          "scene": {
           "xaxis": {
            "backgroundcolor": "#E5ECF6",
            "gridcolor": "white",
            "gridwidth": 2,
            "linecolor": "white",
            "showbackground": true,
            "ticks": "",
            "zerolinecolor": "white"
           },
           "yaxis": {
            "backgroundcolor": "#E5ECF6",
            "gridcolor": "white",
            "gridwidth": 2,
            "linecolor": "white",
            "showbackground": true,
            "ticks": "",
            "zerolinecolor": "white"
           },
           "zaxis": {
            "backgroundcolor": "#E5ECF6",
            "gridcolor": "white",
            "gridwidth": 2,
            "linecolor": "white",
            "showbackground": true,
            "ticks": "",
            "zerolinecolor": "white"
           }
          },
          "shapedefaults": {
           "line": {
            "color": "#2a3f5f"
           }
          },
          "ternary": {
           "aaxis": {
            "gridcolor": "white",
            "linecolor": "white",
            "ticks": ""
           },
           "baxis": {
            "gridcolor": "white",
            "linecolor": "white",
            "ticks": ""
           },
           "bgcolor": "#E5ECF6",
           "caxis": {
            "gridcolor": "white",
            "linecolor": "white",
            "ticks": ""
           }
          },
          "title": {
           "x": 0.05
          },
          "xaxis": {
           "automargin": true,
           "gridcolor": "white",
           "linecolor": "white",
           "ticks": "",
           "title": {
            "standoff": 15
           },
           "zerolinecolor": "white",
           "zerolinewidth": 2
          },
          "yaxis": {
           "automargin": true,
           "gridcolor": "white",
           "linecolor": "white",
           "ticks": "",
           "title": {
            "standoff": 15
           },
           "zerolinecolor": "white",
           "zerolinewidth": 2
          }
         }
        },
        "title": {
         "text": "Elbow Method"
        },
        "xaxis": {
         "anchor": "y",
         "domain": [
          0,
          1
         ],
         "title": {
          "text": "Number of Clusters"
         }
        },
        "yaxis": {
         "anchor": "x",
         "domain": [
          0,
          1
         ],
         "title": {
          "text": "WCSS"
         }
        }
       }
      }
     },
     "metadata": {},
     "output_type": "display_data"
    }
   ],
   "source": [
    "from sklearn.cluster import KMeans\n",
    "\n",
    "# Choose the columns to use\n",
    "X = df[['Spending Score (1-100)', 'Age', 'Annual Income (k$)']]\n",
    "\n",
    "# Elbow method to choose n_clusters\n",
    "wcss = []\n",
    "for i in range(1, 11):\n",
    "    kmeans = KMeans(n_clusters=i, init='k-means++', max_iter=300, n_init=10, random_state=0)\n",
    "    kmeans.fit(X)\n",
    "    wcss.append(kmeans.inertia_)\n",
    "\n",
    "trace_elbow = go.Scatter(\n",
    "    x=list(range(1, 11)),\n",
    "    y=wcss,\n",
    "    mode='lines',\n",
    "    name='WCSS'\n",
    ")\n",
    "\n",
    "fig = make_subplots(rows=1, cols=1)\n",
    "fig.add_trace(trace_elbow, row=1, col=1)\n",
    "fig.update_layout(\n",
    "    title='Elbow Method',\n",
    "    xaxis=dict(title='Number of Clusters'),\n",
    "    yaxis=dict(title='WCSS')\n",
    ")\n",
    "fig.show()\n"
   ]
  },
  {
   "cell_type": "code",
   "execution_count": 16,
   "metadata": {},
   "outputs": [
    {
     "data": {
      "application/vnd.plotly.v1+json": {
       "config": {
        "plotlyServerURL": "https://plot.ly"
       },
       "data": [
        {
         "marker": {
          "color": [
           5,
           4,
           5,
           4,
           5,
           4,
           5,
           4,
           5,
           4,
           5,
           4,
           5,
           4,
           5,
           4,
           5,
           4,
           5,
           4,
           5,
           4,
           5,
           4,
           5,
           4,
           5,
           4,
           5,
           4,
           5,
           4,
           5,
           4,
           5,
           4,
           5,
           4,
           5,
           4,
           1,
           4,
           1,
           0,
           5,
           4,
           1,
           0,
           0,
           0,
           1,
           0,
           0,
           1,
           1,
           1,
           1,
           1,
           0,
           1,
           1,
           0,
           1,
           1,
           1,
           0,
           1,
           1,
           0,
           0,
           1,
           1,
           1,
           1,
           1,
           0,
           1,
           0,
           0,
           1,
           1,
           0,
           1,
           1,
           0,
           1,
           1,
           0,
           0,
           1,
           1,
           0,
           1,
           0,
           0,
           0,
           1,
           0,
           1,
           0,
           0,
           1,
           1,
           0,
           1,
           0,
           1,
           1,
           1,
           1,
           1,
           0,
           0,
           0,
           0,
           0,
           1,
           1,
           1,
           1,
           0,
           0,
           0,
           2,
           0,
           2,
           3,
           2,
           3,
           2,
           3,
           2,
           0,
           2,
           3,
           2,
           3,
           2,
           3,
           2,
           3,
           2,
           0,
           2,
           3,
           2,
           3,
           2,
           3,
           2,
           3,
           2,
           3,
           2,
           3,
           2,
           3,
           2,
           3,
           2,
           3,
           2,
           3,
           2,
           3,
           2,
           3,
           2,
           3,
           2,
           3,
           2,
           3,
           2,
           3,
           2,
           3,
           2,
           3,
           2,
           3,
           2,
           3,
           2,
           3,
           2,
           3,
           2,
           3,
           2,
           3,
           2,
           3,
           2,
           3,
           2,
           3,
           2,
           3,
           2
          ],
          "opacity": 0.8,
          "size": 5
         },
         "mode": "markers",
         "type": "scatter3d",
         "x": [
          39,
          81,
          6,
          77,
          40,
          76,
          6,
          94,
          3,
          72,
          14,
          99,
          15,
          77,
          13,
          79,
          35,
          66,
          29,
          98,
          35,
          73,
          5,
          73,
          14,
          82,
          32,
          61,
          31,
          87,
          4,
          73,
          4,
          92,
          14,
          81,
          17,
          73,
          26,
          75,
          35,
          92,
          36,
          61,
          28,
          65,
          55,
          47,
          42,
          42,
          52,
          60,
          54,
          60,
          45,
          41,
          50,
          46,
          51,
          46,
          56,
          55,
          52,
          59,
          51,
          59,
          50,
          48,
          59,
          47,
          55,
          42,
          49,
          56,
          47,
          54,
          53,
          48,
          52,
          42,
          51,
          55,
          41,
          44,
          57,
          46,
          58,
          55,
          60,
          46,
          55,
          41,
          49,
          40,
          42,
          52,
          47,
          50,
          42,
          49,
          41,
          48,
          59,
          55,
          56,
          42,
          50,
          46,
          43,
          48,
          52,
          54,
          42,
          46,
          48,
          50,
          43,
          59,
          43,
          57,
          56,
          40,
          58,
          91,
          29,
          77,
          35,
          95,
          11,
          75,
          9,
          75,
          34,
          71,
          5,
          88,
          7,
          73,
          10,
          72,
          5,
          93,
          40,
          87,
          12,
          97,
          36,
          74,
          22,
          90,
          17,
          88,
          20,
          76,
          16,
          89,
          1,
          78,
          1,
          73,
          35,
          83,
          5,
          93,
          26,
          75,
          20,
          95,
          27,
          63,
          13,
          75,
          10,
          92,
          13,
          86,
          15,
          69,
          14,
          90,
          32,
          86,
          15,
          88,
          39,
          97,
          24,
          68,
          17,
          85,
          23,
          69,
          8,
          91,
          16,
          79,
          28,
          74,
          18,
          83
         ],
         "y": [
          19,
          21,
          20,
          23,
          31,
          22,
          35,
          23,
          64,
          30,
          67,
          35,
          58,
          24,
          37,
          22,
          35,
          20,
          52,
          35,
          35,
          25,
          46,
          31,
          54,
          29,
          45,
          35,
          40,
          23,
          60,
          21,
          53,
          18,
          49,
          21,
          42,
          30,
          36,
          20,
          65,
          24,
          48,
          31,
          49,
          24,
          50,
          27,
          29,
          31,
          49,
          33,
          31,
          59,
          50,
          47,
          51,
          69,
          27,
          53,
          70,
          19,
          67,
          54,
          63,
          18,
          43,
          68,
          19,
          32,
          70,
          47,
          60,
          60,
          59,
          26,
          45,
          40,
          23,
          49,
          57,
          38,
          67,
          46,
          21,
          48,
          55,
          22,
          34,
          50,
          68,
          18,
          48,
          40,
          32,
          24,
          47,
          27,
          48,
          20,
          23,
          49,
          67,
          26,
          49,
          21,
          66,
          54,
          68,
          66,
          65,
          19,
          38,
          19,
          18,
          19,
          63,
          49,
          51,
          50,
          27,
          38,
          40,
          39,
          23,
          31,
          43,
          40,
          59,
          38,
          47,
          39,
          25,
          31,
          20,
          29,
          44,
          32,
          19,
          35,
          57,
          32,
          28,
          32,
          25,
          28,
          48,
          32,
          34,
          34,
          43,
          39,
          44,
          38,
          47,
          27,
          37,
          30,
          34,
          30,
          56,
          29,
          19,
          31,
          50,
          36,
          42,
          33,
          36,
          32,
          40,
          28,
          36,
          36,
          52,
          30,
          58,
          27,
          59,
          35,
          37,
          32,
          46,
          29,
          41,
          30,
          54,
          28,
          41,
          36,
          34,
          32,
          33,
          38,
          47,
          35,
          45,
          32,
          32,
          30
         ],
         "z": [
          15,
          15,
          16,
          16,
          17,
          17,
          18,
          18,
          19,
          19,
          19,
          19,
          20,
          20,
          20,
          20,
          21,
          21,
          23,
          23,
          24,
          24,
          25,
          25,
          28,
          28,
          28,
          28,
          29,
          29,
          30,
          30,
          33,
          33,
          33,
          33,
          34,
          34,
          37,
          37,
          38,
          38,
          39,
          39,
          39,
          39,
          40,
          40,
          40,
          40,
          42,
          42,
          43,
          43,
          43,
          43,
          44,
          44,
          46,
          46,
          46,
          46,
          47,
          47,
          48,
          48,
          48,
          48,
          48,
          48,
          49,
          49,
          50,
          50,
          54,
          54,
          54,
          54,
          54,
          54,
          54,
          54,
          54,
          54,
          54,
          54,
          57,
          57,
          58,
          58,
          59,
          59,
          60,
          60,
          60,
          60,
          60,
          60,
          61,
          61,
          62,
          62,
          62,
          62,
          62,
          62,
          63,
          63,
          63,
          63,
          63,
          63,
          64,
          64,
          65,
          65,
          65,
          65,
          67,
          67,
          67,
          67,
          69,
          69,
          70,
          70,
          71,
          71,
          71,
          71,
          71,
          71,
          72,
          72,
          73,
          73,
          73,
          73,
          74,
          74,
          75,
          75,
          76,
          76,
          77,
          77,
          77,
          77,
          78,
          78,
          78,
          78,
          78,
          78,
          78,
          78,
          78,
          78,
          78,
          78,
          79,
          79,
          81,
          81,
          85,
          85,
          86,
          86,
          87,
          87,
          87,
          87,
          87,
          87,
          88,
          88,
          88,
          88,
          93,
          93,
          97,
          97,
          98,
          98,
          99,
          99,
          101,
          101,
          103,
          103,
          103,
          103,
          113,
          113,
          120,
          120,
          126,
          126,
          137,
          137
         ]
        }
       ],
       "layout": {
        "scene": {
         "xaxis": {
          "title": {
           "text": "Spending Score"
          }
         },
         "yaxis": {
          "title": {
           "text": "Age"
          }
         },
         "zaxis": {
          "title": {
           "text": "Annual Income"
          }
         }
        },
        "template": {
         "data": {
          "bar": [
           {
            "error_x": {
             "color": "#2a3f5f"
            },
            "error_y": {
             "color": "#2a3f5f"
            },
            "marker": {
             "line": {
              "color": "#E5ECF6",
              "width": 0.5
             },
             "pattern": {
              "fillmode": "overlay",
              "size": 10,
              "solidity": 0.2
             }
            },
            "type": "bar"
           }
          ],
          "barpolar": [
           {
            "marker": {
             "line": {
              "color": "#E5ECF6",
              "width": 0.5
             },
             "pattern": {
              "fillmode": "overlay",
              "size": 10,
              "solidity": 0.2
             }
            },
            "type": "barpolar"
           }
          ],
          "carpet": [
           {
            "aaxis": {
             "endlinecolor": "#2a3f5f",
             "gridcolor": "white",
             "linecolor": "white",
             "minorgridcolor": "white",
             "startlinecolor": "#2a3f5f"
            },
            "baxis": {
             "endlinecolor": "#2a3f5f",
             "gridcolor": "white",
             "linecolor": "white",
             "minorgridcolor": "white",
             "startlinecolor": "#2a3f5f"
            },
            "type": "carpet"
           }
          ],
          "choropleth": [
           {
            "colorbar": {
             "outlinewidth": 0,
             "ticks": ""
            },
            "type": "choropleth"
           }
          ],
          "contour": [
           {
            "colorbar": {
             "outlinewidth": 0,
             "ticks": ""
            },
            "colorscale": [
             [
              0,
              "#0d0887"
             ],
             [
              0.1111111111111111,
              "#46039f"
             ],
             [
              0.2222222222222222,
              "#7201a8"
             ],
             [
              0.3333333333333333,
              "#9c179e"
             ],
             [
              0.4444444444444444,
              "#bd3786"
             ],
             [
              0.5555555555555556,
              "#d8576b"
             ],
             [
              0.6666666666666666,
              "#ed7953"
             ],
             [
              0.7777777777777778,
              "#fb9f3a"
             ],
             [
              0.8888888888888888,
              "#fdca26"
             ],
             [
              1,
              "#f0f921"
             ]
            ],
            "type": "contour"
           }
          ],
          "contourcarpet": [
           {
            "colorbar": {
             "outlinewidth": 0,
             "ticks": ""
            },
            "type": "contourcarpet"
           }
          ],
          "heatmap": [
           {
            "colorbar": {
             "outlinewidth": 0,
             "ticks": ""
            },
            "colorscale": [
             [
              0,
              "#0d0887"
             ],
             [
              0.1111111111111111,
              "#46039f"
             ],
             [
              0.2222222222222222,
              "#7201a8"
             ],
             [
              0.3333333333333333,
              "#9c179e"
             ],
             [
              0.4444444444444444,
              "#bd3786"
             ],
             [
              0.5555555555555556,
              "#d8576b"
             ],
             [
              0.6666666666666666,
              "#ed7953"
             ],
             [
              0.7777777777777778,
              "#fb9f3a"
             ],
             [
              0.8888888888888888,
              "#fdca26"
             ],
             [
              1,
              "#f0f921"
             ]
            ],
            "type": "heatmap"
           }
          ],
          "heatmapgl": [
           {
            "colorbar": {
             "outlinewidth": 0,
             "ticks": ""
            },
            "colorscale": [
             [
              0,
              "#0d0887"
             ],
             [
              0.1111111111111111,
              "#46039f"
             ],
             [
              0.2222222222222222,
              "#7201a8"
             ],
             [
              0.3333333333333333,
              "#9c179e"
             ],
             [
              0.4444444444444444,
              "#bd3786"
             ],
             [
              0.5555555555555556,
              "#d8576b"
             ],
             [
              0.6666666666666666,
              "#ed7953"
             ],
             [
              0.7777777777777778,
              "#fb9f3a"
             ],
             [
              0.8888888888888888,
              "#fdca26"
             ],
             [
              1,
              "#f0f921"
             ]
            ],
            "type": "heatmapgl"
           }
          ],
          "histogram": [
           {
            "marker": {
             "pattern": {
              "fillmode": "overlay",
              "size": 10,
              "solidity": 0.2
             }
            },
            "type": "histogram"
           }
          ],
          "histogram2d": [
           {
            "colorbar": {
             "outlinewidth": 0,
             "ticks": ""
            },
            "colorscale": [
             [
              0,
              "#0d0887"
             ],
             [
              0.1111111111111111,
              "#46039f"
             ],
             [
              0.2222222222222222,
              "#7201a8"
             ],
             [
              0.3333333333333333,
              "#9c179e"
             ],
             [
              0.4444444444444444,
              "#bd3786"
             ],
             [
              0.5555555555555556,
              "#d8576b"
             ],
             [
              0.6666666666666666,
              "#ed7953"
             ],
             [
              0.7777777777777778,
              "#fb9f3a"
             ],
             [
              0.8888888888888888,
              "#fdca26"
             ],
             [
              1,
              "#f0f921"
             ]
            ],
            "type": "histogram2d"
           }
          ],
          "histogram2dcontour": [
           {
            "colorbar": {
             "outlinewidth": 0,
             "ticks": ""
            },
            "colorscale": [
             [
              0,
              "#0d0887"
             ],
             [
              0.1111111111111111,
              "#46039f"
             ],
             [
              0.2222222222222222,
              "#7201a8"
             ],
             [
              0.3333333333333333,
              "#9c179e"
             ],
             [
              0.4444444444444444,
              "#bd3786"
             ],
             [
              0.5555555555555556,
              "#d8576b"
             ],
             [
              0.6666666666666666,
              "#ed7953"
             ],
             [
              0.7777777777777778,
              "#fb9f3a"
             ],
             [
              0.8888888888888888,
              "#fdca26"
             ],
             [
              1,
              "#f0f921"
             ]
            ],
            "type": "histogram2dcontour"
           }
          ],
          "mesh3d": [
           {
            "colorbar": {
             "outlinewidth": 0,
             "ticks": ""
            },
            "type": "mesh3d"
           }
          ],
          "parcoords": [
           {
            "line": {
             "colorbar": {
              "outlinewidth": 0,
              "ticks": ""
             }
            },
            "type": "parcoords"
           }
          ],
          "pie": [
           {
            "automargin": true,
            "type": "pie"
           }
          ],
          "scatter": [
           {
            "fillpattern": {
             "fillmode": "overlay",
             "size": 10,
             "solidity": 0.2
            },
            "type": "scatter"
           }
          ],
          "scatter3d": [
           {
            "line": {
             "colorbar": {
              "outlinewidth": 0,
              "ticks": ""
             }
            },
            "marker": {
             "colorbar": {
              "outlinewidth": 0,
              "ticks": ""
             }
            },
            "type": "scatter3d"
           }
          ],
          "scattercarpet": [
           {
            "marker": {
             "colorbar": {
              "outlinewidth": 0,
              "ticks": ""
             }
            },
            "type": "scattercarpet"
           }
          ],
          "scattergeo": [
           {
            "marker": {
             "colorbar": {
              "outlinewidth": 0,
              "ticks": ""
             }
            },
            "type": "scattergeo"
           }
          ],
          "scattergl": [
           {
            "marker": {
             "colorbar": {
              "outlinewidth": 0,
              "ticks": ""
             }
            },
            "type": "scattergl"
           }
          ],
          "scattermapbox": [
           {
            "marker": {
             "colorbar": {
              "outlinewidth": 0,
              "ticks": ""
             }
            },
            "type": "scattermapbox"
           }
          ],
          "scatterpolar": [
           {
            "marker": {
             "colorbar": {
              "outlinewidth": 0,
              "ticks": ""
             }
            },
            "type": "scatterpolar"
           }
          ],
          "scatterpolargl": [
           {
            "marker": {
             "colorbar": {
              "outlinewidth": 0,
              "ticks": ""
             }
            },
            "type": "scatterpolargl"
           }
          ],
          "scatterternary": [
           {
            "marker": {
             "colorbar": {
              "outlinewidth": 0,
              "ticks": ""
             }
            },
            "type": "scatterternary"
           }
          ],
          "surface": [
           {
            "colorbar": {
             "outlinewidth": 0,
             "ticks": ""
            },
            "colorscale": [
             [
              0,
              "#0d0887"
             ],
             [
              0.1111111111111111,
              "#46039f"
             ],
             [
              0.2222222222222222,
              "#7201a8"
             ],
             [
              0.3333333333333333,
              "#9c179e"
             ],
             [
              0.4444444444444444,
              "#bd3786"
             ],
             [
              0.5555555555555556,
              "#d8576b"
             ],
             [
              0.6666666666666666,
              "#ed7953"
             ],
             [
              0.7777777777777778,
              "#fb9f3a"
             ],
             [
              0.8888888888888888,
              "#fdca26"
             ],
             [
              1,
              "#f0f921"
             ]
            ],
            "type": "surface"
           }
          ],
          "table": [
           {
            "cells": {
             "fill": {
              "color": "#EBF0F8"
             },
             "line": {
              "color": "white"
             }
            },
            "header": {
             "fill": {
              "color": "#C8D4E3"
             },
             "line": {
              "color": "white"
             }
            },
            "type": "table"
           }
          ]
         },
         "layout": {
          "annotationdefaults": {
           "arrowcolor": "#2a3f5f",
           "arrowhead": 0,
           "arrowwidth": 1
          },
          "autotypenumbers": "strict",
          "coloraxis": {
           "colorbar": {
            "outlinewidth": 0,
            "ticks": ""
           }
          },
          "colorscale": {
           "diverging": [
            [
             0,
             "#8e0152"
            ],
            [
             0.1,
             "#c51b7d"
            ],
            [
             0.2,
             "#de77ae"
            ],
            [
             0.3,
             "#f1b6da"
            ],
            [
             0.4,
             "#fde0ef"
            ],
            [
             0.5,
             "#f7f7f7"
            ],
            [
             0.6,
             "#e6f5d0"
            ],
            [
             0.7,
             "#b8e186"
            ],
            [
             0.8,
             "#7fbc41"
            ],
            [
             0.9,
             "#4d9221"
            ],
            [
             1,
             "#276419"
            ]
           ],
           "sequential": [
            [
             0,
             "#0d0887"
            ],
            [
             0.1111111111111111,
             "#46039f"
            ],
            [
             0.2222222222222222,
             "#7201a8"
            ],
            [
             0.3333333333333333,
             "#9c179e"
            ],
            [
             0.4444444444444444,
             "#bd3786"
            ],
            [
             0.5555555555555556,
             "#d8576b"
            ],
            [
             0.6666666666666666,
             "#ed7953"
            ],
            [
             0.7777777777777778,
             "#fb9f3a"
            ],
            [
             0.8888888888888888,
             "#fdca26"
            ],
            [
             1,
             "#f0f921"
            ]
           ],
           "sequentialminus": [
            [
             0,
             "#0d0887"
            ],
            [
             0.1111111111111111,
             "#46039f"
            ],
            [
             0.2222222222222222,
             "#7201a8"
            ],
            [
             0.3333333333333333,
             "#9c179e"
            ],
            [
             0.4444444444444444,
             "#bd3786"
            ],
            [
             0.5555555555555556,
             "#d8576b"
            ],
            [
             0.6666666666666666,
             "#ed7953"
            ],
            [
             0.7777777777777778,
             "#fb9f3a"
            ],
            [
             0.8888888888888888,
             "#fdca26"
            ],
            [
             1,
             "#f0f921"
            ]
           ]
          },
          "colorway": [
           "#636efa",
           "#EF553B",
           "#00cc96",
           "#ab63fa",
           "#FFA15A",
           "#19d3f3",
           "#FF6692",
           "#B6E880",
           "#FF97FF",
           "#FECB52"
          ],
          "font": {
           "color": "#2a3f5f"
          },
          "geo": {
           "bgcolor": "white",
           "lakecolor": "white",
           "landcolor": "#E5ECF6",
           "showlakes": true,
           "showland": true,
           "subunitcolor": "white"
          },
          "hoverlabel": {
           "align": "left"
          },
          "hovermode": "closest",
          "mapbox": {
           "style": "light"
          },
          "paper_bgcolor": "white",
          "plot_bgcolor": "#E5ECF6",
          "polar": {
           "angularaxis": {
            "gridcolor": "white",
            "linecolor": "white",
            "ticks": ""
           },
           "bgcolor": "#E5ECF6",
           "radialaxis": {
            "gridcolor": "white",
            "linecolor": "white",
            "ticks": ""
           }
          },
          "scene": {
           "xaxis": {
            "backgroundcolor": "#E5ECF6",
            "gridcolor": "white",
            "gridwidth": 2,
            "linecolor": "white",
            "showbackground": true,
            "ticks": "",
            "zerolinecolor": "white"
           },
           "yaxis": {
            "backgroundcolor": "#E5ECF6",
            "gridcolor": "white",
            "gridwidth": 2,
            "linecolor": "white",
            "showbackground": true,
            "ticks": "",
            "zerolinecolor": "white"
           },
           "zaxis": {
            "backgroundcolor": "#E5ECF6",
            "gridcolor": "white",
            "gridwidth": 2,
            "linecolor": "white",
            "showbackground": true,
            "ticks": "",
            "zerolinecolor": "white"
           }
          },
          "shapedefaults": {
           "line": {
            "color": "#2a3f5f"
           }
          },
          "ternary": {
           "aaxis": {
            "gridcolor": "white",
            "linecolor": "white",
            "ticks": ""
           },
           "baxis": {
            "gridcolor": "white",
            "linecolor": "white",
            "ticks": ""
           },
           "bgcolor": "#E5ECF6",
           "caxis": {
            "gridcolor": "white",
            "linecolor": "white",
            "ticks": ""
           }
          },
          "title": {
           "x": 0.05
          },
          "xaxis": {
           "automargin": true,
           "gridcolor": "white",
           "linecolor": "white",
           "ticks": "",
           "title": {
            "standoff": 15
           },
           "zerolinecolor": "white",
           "zerolinewidth": 2
          },
          "yaxis": {
           "automargin": true,
           "gridcolor": "white",
           "linecolor": "white",
           "ticks": "",
           "title": {
            "standoff": 15
           },
           "zerolinecolor": "white",
           "zerolinewidth": 2
          }
         }
        }
       }
      }
     },
     "metadata": {},
     "output_type": "display_data"
    }
   ],
   "source": [
    "# Create the KMeans object with 3 clusters\n",
    "kmeans = KMeans(n_clusters=6)\n",
    "\n",
    "# Fit the model to the data\n",
    "kmeans.fit(X)\n",
    "\n",
    "# Add the predicted cluster labels to the dataframe\n",
    "df['cluster3d'] = kmeans.predict(X)\n",
    "\n",
    "# Create the 3D scatter plot\n",
    "fig = go.Figure(data=[go.Scatter3d(\n",
    "    x=X['Spending Score (1-100)'],\n",
    "    y=X['Age'],\n",
    "    z=X['Annual Income (k$)'],\n",
    "    mode='markers',\n",
    "    marker=dict(\n",
    "        color=df['cluster3d'],\n",
    "        size=5,\n",
    "        opacity=0.8\n",
    "    )\n",
    ")])\n",
    "\n",
    "# Update axis titles\n",
    "fig.update_layout(\n",
    "    scene=dict\n",
    "    (xaxis_title='Spending Score',\n",
    "     yaxis_title='Age',\n",
    "      zaxis_title='Annual Income'\n",
    "    )\n",
    ")\n",
    "\n",
    "fig.show()"
   ]
  },
  {
   "cell_type": "code",
   "execution_count": 17,
   "metadata": {},
   "outputs": [
    {
     "name": "stdout",
     "output_type": "stream",
     "text": [
      "Predicted cluster: 2\n"
     ]
    }
   ],
   "source": [
    "new_customer = np.array([[79, 35, 80]])\n",
    "\n",
    "# Use the predict method to predict the cluster\n",
    "predicted_cluster = kmeans.predict(new_customer)\n",
    "\n",
    "print(\"Predicted cluster:\", predicted_cluster[0])"
   ]
  },
  {
   "cell_type": "code",
   "execution_count": 18,
   "metadata": {},
   "outputs": [
    {
     "name": "stdout",
     "output_type": "stream",
     "text": [
      "Predicted cluster: 4\n"
     ]
    }
   ],
   "source": [
    "new_customer = np.array([[63, 25, 40]])\n",
    "\n",
    "# Use the predict method to predict the cluster\n",
    "predicted_cluster = kmeans.predict(new_customer)\n",
    "\n",
    "print(\"Predicted cluster:\", predicted_cluster[0])"
   ]
  },
  {
   "cell_type": "code",
   "execution_count": 19,
   "metadata": {},
   "outputs": [
    {
     "name": "stdout",
     "output_type": "stream",
     "text": [
      "Predicted cluster: 0\n"
     ]
    }
   ],
   "source": [
    "new_customer = np.array([[43, 35, 80]])\n",
    "\n",
    "# Use the predict method to predict the cluster\n",
    "predicted_cluster = kmeans.predict(new_customer)\n",
    "\n",
    "print(\"Predicted cluster:\", predicted_cluster[0])"
   ]
  }
 ],
 "metadata": {
  "kernelspec": {
   "display_name": "base",
   "language": "python",
   "name": "python3"
  },
  "language_info": {
   "codemirror_mode": {
    "name": "ipython",
    "version": 3
   },
   "file_extension": ".py",
   "mimetype": "text/x-python",
   "name": "python",
   "nbconvert_exporter": "python",
   "pygments_lexer": "ipython3",
   "version": "3.9.16"
  },
  "orig_nbformat": 4
 },
 "nbformat": 4,
 "nbformat_minor": 2
}
