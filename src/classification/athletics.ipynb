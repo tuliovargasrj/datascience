{
 "cells": [
  {
   "cell_type": "code",
   "execution_count": 1,
   "metadata": {},
   "outputs": [],
   "source": [
    "import pandas as pd\n",
    "import numpy as np\n",
    "import plotly.express as px\n",
    "import warnings\n",
    "warnings.filterwarnings('ignore')"
   ]
  },
  {
   "cell_type": "code",
   "execution_count": 3,
   "metadata": {},
   "outputs": [
    {
     "data": {
      "text/plain": [
       "array(['Shot Put', 'Weight', 'Javelin', 'Discus', 'Hammer'], dtype=object)"
      ]
     },
     "execution_count": 3,
     "metadata": {},
     "output_type": "execute_result"
    }
   ],
   "source": [
    "df = pd.read_csv('../../datasets/athletics.csv')\n",
    "df.head()\n",
    "df['Event'].unique()"
   ]
  },
  {
   "cell_type": "code",
   "execution_count": 3,
   "metadata": {},
   "outputs": [
    {
     "data": {
      "text/plain": [
       "Event          0\n",
       "Male_Female    0\n",
       "EventID        0\n",
       "Athlete        0\n",
       "Flight1        0\n",
       "Flight2        0\n",
       "Flight3        0\n",
       "Flight4        0\n",
       "Flight5        0\n",
       "Flight6        0\n",
       "dtype: int64"
      ]
     },
     "execution_count": 3,
     "metadata": {},
     "output_type": "execute_result"
    }
   ],
   "source": [
    "df.isna().sum()"
   ]
  },
  {
   "cell_type": "code",
   "execution_count": 4,
   "metadata": {},
   "outputs": [
    {
     "data": {
      "text/html": [
       "<div>\n",
       "<style scoped>\n",
       "    .dataframe tbody tr th:only-of-type {\n",
       "        vertical-align: middle;\n",
       "    }\n",
       "\n",
       "    .dataframe tbody tr th {\n",
       "        vertical-align: top;\n",
       "    }\n",
       "\n",
       "    .dataframe thead th {\n",
       "        text-align: right;\n",
       "    }\n",
       "</style>\n",
       "<table border=\"1\" class=\"dataframe\">\n",
       "  <thead>\n",
       "    <tr style=\"text-align: right;\">\n",
       "      <th></th>\n",
       "      <th>Event</th>\n",
       "      <th>Male_Female</th>\n",
       "      <th>Athlete</th>\n",
       "      <th>Flight1</th>\n",
       "      <th>Flight2</th>\n",
       "      <th>Flight3</th>\n",
       "      <th>Flight4</th>\n",
       "      <th>Flight5</th>\n",
       "      <th>Flight6</th>\n",
       "    </tr>\n",
       "  </thead>\n",
       "  <tbody>\n",
       "    <tr>\n",
       "      <th>0</th>\n",
       "      <td>Shot Put</td>\n",
       "      <td>Male</td>\n",
       "      <td>Ryan Whiting</td>\n",
       "      <td>21.29</td>\n",
       "      <td>21.00</td>\n",
       "      <td>0.0</td>\n",
       "      <td>0.0</td>\n",
       "      <td>21.80</td>\n",
       "      <td>21.53</td>\n",
       "    </tr>\n",
       "    <tr>\n",
       "      <th>1</th>\n",
       "      <td>Shot Put</td>\n",
       "      <td>Male</td>\n",
       "      <td>Cory Martin</td>\n",
       "      <td>20.85</td>\n",
       "      <td>0.00</td>\n",
       "      <td>0.0</td>\n",
       "      <td>0.0</td>\n",
       "      <td>20.61</td>\n",
       "      <td>20.93</td>\n",
       "    </tr>\n",
       "    <tr>\n",
       "      <th>2</th>\n",
       "      <td>Shot Put</td>\n",
       "      <td>Male</td>\n",
       "      <td>Kurt Roberts</td>\n",
       "      <td>20.89</td>\n",
       "      <td>19.63</td>\n",
       "      <td>0.0</td>\n",
       "      <td>0.0</td>\n",
       "      <td>0.00</td>\n",
       "      <td>20.55</td>\n",
       "    </tr>\n",
       "    <tr>\n",
       "      <th>3</th>\n",
       "      <td>Shot Put</td>\n",
       "      <td>Male</td>\n",
       "      <td>Derrick Vicars</td>\n",
       "      <td>19.36</td>\n",
       "      <td>0.00</td>\n",
       "      <td>0.0</td>\n",
       "      <td>0.0</td>\n",
       "      <td>19.19</td>\n",
       "      <td>19.83</td>\n",
       "    </tr>\n",
       "    <tr>\n",
       "      <th>4</th>\n",
       "      <td>Shot Put</td>\n",
       "      <td>Male</td>\n",
       "      <td>Jacob Thormaehlen</td>\n",
       "      <td>18.35</td>\n",
       "      <td>18.92</td>\n",
       "      <td>0.0</td>\n",
       "      <td>19.1</td>\n",
       "      <td>0.00</td>\n",
       "      <td>19.52</td>\n",
       "    </tr>\n",
       "  </tbody>\n",
       "</table>\n",
       "</div>"
      ],
      "text/plain": [
       "      Event Male_Female            Athlete  Flight1  Flight2  Flight3  \\\n",
       "0  Shot Put        Male       Ryan Whiting    21.29    21.00      0.0   \n",
       "1  Shot Put        Male        Cory Martin    20.85     0.00      0.0   \n",
       "2  Shot Put        Male       Kurt Roberts    20.89    19.63      0.0   \n",
       "3  Shot Put        Male     Derrick Vicars    19.36     0.00      0.0   \n",
       "4  Shot Put        Male  Jacob Thormaehlen    18.35    18.92      0.0   \n",
       "\n",
       "   Flight4  Flight5  Flight6  \n",
       "0      0.0    21.80    21.53  \n",
       "1      0.0    20.61    20.93  \n",
       "2      0.0     0.00    20.55  \n",
       "3      0.0    19.19    19.83  \n",
       "4     19.1     0.00    19.52  "
      ]
     },
     "execution_count": 4,
     "metadata": {},
     "output_type": "execute_result"
    }
   ],
   "source": [
    "# drop the EventID column\n",
    "df.drop('EventID', axis=1, inplace=True)\n",
    "df.head()"
   ]
  },
  {
   "cell_type": "code",
   "execution_count": 5,
   "metadata": {},
   "outputs": [
    {
     "data": {
      "application/vnd.plotly.v1+json": {
       "config": {
        "plotlyServerURL": "https://plot.ly"
       },
       "data": [
        {
         "alignmentgroup": "True",
         "hovertemplate": "Male_Female=Female<br>Event=%{x}<br>Max_Flight=%{y}<extra></extra>",
         "legendgroup": "Female",
         "marker": {
          "color": "#636efa",
          "pattern": {
           "shape": ""
          }
         },
         "name": "Female",
         "offsetgroup": "Female",
         "orientation": "v",
         "showlegend": true,
         "textposition": "auto",
         "type": "bar",
         "x": [
          "Discus",
          "Hammer",
          "Javelin",
          "Shot Put",
          "Weight"
         ],
         "xaxis": "x",
         "y": [
          65.96,
          78.12,
          64.94,
          20.24,
          25.6
         ],
         "yaxis": "y"
        },
        {
         "alignmentgroup": "True",
         "hovertemplate": "Male_Female=Male<br>Event=%{x}<br>Max_Flight=%{y}<extra></extra>",
         "legendgroup": "Male",
         "marker": {
          "color": "#EF553B",
          "pattern": {
           "shape": ""
          }
         },
         "name": "Male",
         "offsetgroup": "Male",
         "orientation": "v",
         "showlegend": true,
         "textposition": "auto",
         "type": "bar",
         "x": [
          "Discus",
          "Hammer",
          "Javelin",
          "Shot Put",
          "Weight"
         ],
         "xaxis": "x",
         "y": [
          72.09,
          76.95,
          83.5,
          22.65,
          24.02
         ],
         "yaxis": "y"
        }
       ],
       "layout": {
        "barmode": "group",
        "legend": {
         "title": {
          "text": "Male_Female"
         },
         "tracegroupgap": 0
        },
        "margin": {
         "t": 60
        },
        "template": {
         "data": {
          "bar": [
           {
            "error_x": {
             "color": "#2a3f5f"
            },
            "error_y": {
             "color": "#2a3f5f"
            },
            "marker": {
             "line": {
              "color": "#E5ECF6",
              "width": 0.5
             },
             "pattern": {
              "fillmode": "overlay",
              "size": 10,
              "solidity": 0.2
             }
            },
            "type": "bar"
           }
          ],
          "barpolar": [
           {
            "marker": {
             "line": {
              "color": "#E5ECF6",
              "width": 0.5
             },
             "pattern": {
              "fillmode": "overlay",
              "size": 10,
              "solidity": 0.2
             }
            },
            "type": "barpolar"
           }
          ],
          "carpet": [
           {
            "aaxis": {
             "endlinecolor": "#2a3f5f",
             "gridcolor": "white",
             "linecolor": "white",
             "minorgridcolor": "white",
             "startlinecolor": "#2a3f5f"
            },
            "baxis": {
             "endlinecolor": "#2a3f5f",
             "gridcolor": "white",
             "linecolor": "white",
             "minorgridcolor": "white",
             "startlinecolor": "#2a3f5f"
            },
            "type": "carpet"
           }
          ],
          "choropleth": [
           {
            "colorbar": {
             "outlinewidth": 0,
             "ticks": ""
            },
            "type": "choropleth"
           }
          ],
          "contour": [
           {
            "colorbar": {
             "outlinewidth": 0,
             "ticks": ""
            },
            "colorscale": [
             [
              0,
              "#0d0887"
             ],
             [
              0.1111111111111111,
              "#46039f"
             ],
             [
              0.2222222222222222,
              "#7201a8"
             ],
             [
              0.3333333333333333,
              "#9c179e"
             ],
             [
              0.4444444444444444,
              "#bd3786"
             ],
             [
              0.5555555555555556,
              "#d8576b"
             ],
             [
              0.6666666666666666,
              "#ed7953"
             ],
             [
              0.7777777777777778,
              "#fb9f3a"
             ],
             [
              0.8888888888888888,
              "#fdca26"
             ],
             [
              1,
              "#f0f921"
             ]
            ],
            "type": "contour"
           }
          ],
          "contourcarpet": [
           {
            "colorbar": {
             "outlinewidth": 0,
             "ticks": ""
            },
            "type": "contourcarpet"
           }
          ],
          "heatmap": [
           {
            "colorbar": {
             "outlinewidth": 0,
             "ticks": ""
            },
            "colorscale": [
             [
              0,
              "#0d0887"
             ],
             [
              0.1111111111111111,
              "#46039f"
             ],
             [
              0.2222222222222222,
              "#7201a8"
             ],
             [
              0.3333333333333333,
              "#9c179e"
             ],
             [
              0.4444444444444444,
              "#bd3786"
             ],
             [
              0.5555555555555556,
              "#d8576b"
             ],
             [
              0.6666666666666666,
              "#ed7953"
             ],
             [
              0.7777777777777778,
              "#fb9f3a"
             ],
             [
              0.8888888888888888,
              "#fdca26"
             ],
             [
              1,
              "#f0f921"
             ]
            ],
            "type": "heatmap"
           }
          ],
          "heatmapgl": [
           {
            "colorbar": {
             "outlinewidth": 0,
             "ticks": ""
            },
            "colorscale": [
             [
              0,
              "#0d0887"
             ],
             [
              0.1111111111111111,
              "#46039f"
             ],
             [
              0.2222222222222222,
              "#7201a8"
             ],
             [
              0.3333333333333333,
              "#9c179e"
             ],
             [
              0.4444444444444444,
              "#bd3786"
             ],
             [
              0.5555555555555556,
              "#d8576b"
             ],
             [
              0.6666666666666666,
              "#ed7953"
             ],
             [
              0.7777777777777778,
              "#fb9f3a"
             ],
             [
              0.8888888888888888,
              "#fdca26"
             ],
             [
              1,
              "#f0f921"
             ]
            ],
            "type": "heatmapgl"
           }
          ],
          "histogram": [
           {
            "marker": {
             "pattern": {
              "fillmode": "overlay",
              "size": 10,
              "solidity": 0.2
             }
            },
            "type": "histogram"
           }
          ],
          "histogram2d": [
           {
            "colorbar": {
             "outlinewidth": 0,
             "ticks": ""
            },
            "colorscale": [
             [
              0,
              "#0d0887"
             ],
             [
              0.1111111111111111,
              "#46039f"
             ],
             [
              0.2222222222222222,
              "#7201a8"
             ],
             [
              0.3333333333333333,
              "#9c179e"
             ],
             [
              0.4444444444444444,
              "#bd3786"
             ],
             [
              0.5555555555555556,
              "#d8576b"
             ],
             [
              0.6666666666666666,
              "#ed7953"
             ],
             [
              0.7777777777777778,
              "#fb9f3a"
             ],
             [
              0.8888888888888888,
              "#fdca26"
             ],
             [
              1,
              "#f0f921"
             ]
            ],
            "type": "histogram2d"
           }
          ],
          "histogram2dcontour": [
           {
            "colorbar": {
             "outlinewidth": 0,
             "ticks": ""
            },
            "colorscale": [
             [
              0,
              "#0d0887"
             ],
             [
              0.1111111111111111,
              "#46039f"
             ],
             [
              0.2222222222222222,
              "#7201a8"
             ],
             [
              0.3333333333333333,
              "#9c179e"
             ],
             [
              0.4444444444444444,
              "#bd3786"
             ],
             [
              0.5555555555555556,
              "#d8576b"
             ],
             [
              0.6666666666666666,
              "#ed7953"
             ],
             [
              0.7777777777777778,
              "#fb9f3a"
             ],
             [
              0.8888888888888888,
              "#fdca26"
             ],
             [
              1,
              "#f0f921"
             ]
            ],
            "type": "histogram2dcontour"
           }
          ],
          "mesh3d": [
           {
            "colorbar": {
             "outlinewidth": 0,
             "ticks": ""
            },
            "type": "mesh3d"
           }
          ],
          "parcoords": [
           {
            "line": {
             "colorbar": {
              "outlinewidth": 0,
              "ticks": ""
             }
            },
            "type": "parcoords"
           }
          ],
          "pie": [
           {
            "automargin": true,
            "type": "pie"
           }
          ],
          "scatter": [
           {
            "fillpattern": {
             "fillmode": "overlay",
             "size": 10,
             "solidity": 0.2
            },
            "type": "scatter"
           }
          ],
          "scatter3d": [
           {
            "line": {
             "colorbar": {
              "outlinewidth": 0,
              "ticks": ""
             }
            },
            "marker": {
             "colorbar": {
              "outlinewidth": 0,
              "ticks": ""
             }
            },
            "type": "scatter3d"
           }
          ],
          "scattercarpet": [
           {
            "marker": {
             "colorbar": {
              "outlinewidth": 0,
              "ticks": ""
             }
            },
            "type": "scattercarpet"
           }
          ],
          "scattergeo": [
           {
            "marker": {
             "colorbar": {
              "outlinewidth": 0,
              "ticks": ""
             }
            },
            "type": "scattergeo"
           }
          ],
          "scattergl": [
           {
            "marker": {
             "colorbar": {
              "outlinewidth": 0,
              "ticks": ""
             }
            },
            "type": "scattergl"
           }
          ],
          "scattermapbox": [
           {
            "marker": {
             "colorbar": {
              "outlinewidth": 0,
              "ticks": ""
             }
            },
            "type": "scattermapbox"
           }
          ],
          "scatterpolar": [
           {
            "marker": {
             "colorbar": {
              "outlinewidth": 0,
              "ticks": ""
             }
            },
            "type": "scatterpolar"
           }
          ],
          "scatterpolargl": [
           {
            "marker": {
             "colorbar": {
              "outlinewidth": 0,
              "ticks": ""
             }
            },
            "type": "scatterpolargl"
           }
          ],
          "scatterternary": [
           {
            "marker": {
             "colorbar": {
              "outlinewidth": 0,
              "ticks": ""
             }
            },
            "type": "scatterternary"
           }
          ],
          "surface": [
           {
            "colorbar": {
             "outlinewidth": 0,
             "ticks": ""
            },
            "colorscale": [
             [
              0,
              "#0d0887"
             ],
             [
              0.1111111111111111,
              "#46039f"
             ],
             [
              0.2222222222222222,
              "#7201a8"
             ],
             [
              0.3333333333333333,
              "#9c179e"
             ],
             [
              0.4444444444444444,
              "#bd3786"
             ],
             [
              0.5555555555555556,
              "#d8576b"
             ],
             [
              0.6666666666666666,
              "#ed7953"
             ],
             [
              0.7777777777777778,
              "#fb9f3a"
             ],
             [
              0.8888888888888888,
              "#fdca26"
             ],
             [
              1,
              "#f0f921"
             ]
            ],
            "type": "surface"
           }
          ],
          "table": [
           {
            "cells": {
             "fill": {
              "color": "#EBF0F8"
             },
             "line": {
              "color": "white"
             }
            },
            "header": {
             "fill": {
              "color": "#C8D4E3"
             },
             "line": {
              "color": "white"
             }
            },
            "type": "table"
           }
          ]
         },
         "layout": {
          "annotationdefaults": {
           "arrowcolor": "#2a3f5f",
           "arrowhead": 0,
           "arrowwidth": 1
          },
          "autotypenumbers": "strict",
          "coloraxis": {
           "colorbar": {
            "outlinewidth": 0,
            "ticks": ""
           }
          },
          "colorscale": {
           "diverging": [
            [
             0,
             "#8e0152"
            ],
            [
             0.1,
             "#c51b7d"
            ],
            [
             0.2,
             "#de77ae"
            ],
            [
             0.3,
             "#f1b6da"
            ],
            [
             0.4,
             "#fde0ef"
            ],
            [
             0.5,
             "#f7f7f7"
            ],
            [
             0.6,
             "#e6f5d0"
            ],
            [
             0.7,
             "#b8e186"
            ],
            [
             0.8,
             "#7fbc41"
            ],
            [
             0.9,
             "#4d9221"
            ],
            [
             1,
             "#276419"
            ]
           ],
           "sequential": [
            [
             0,
             "#0d0887"
            ],
            [
             0.1111111111111111,
             "#46039f"
            ],
            [
             0.2222222222222222,
             "#7201a8"
            ],
            [
             0.3333333333333333,
             "#9c179e"
            ],
            [
             0.4444444444444444,
             "#bd3786"
            ],
            [
             0.5555555555555556,
             "#d8576b"
            ],
            [
             0.6666666666666666,
             "#ed7953"
            ],
            [
             0.7777777777777778,
             "#fb9f3a"
            ],
            [
             0.8888888888888888,
             "#fdca26"
            ],
            [
             1,
             "#f0f921"
            ]
           ],
           "sequentialminus": [
            [
             0,
             "#0d0887"
            ],
            [
             0.1111111111111111,
             "#46039f"
            ],
            [
             0.2222222222222222,
             "#7201a8"
            ],
            [
             0.3333333333333333,
             "#9c179e"
            ],
            [
             0.4444444444444444,
             "#bd3786"
            ],
            [
             0.5555555555555556,
             "#d8576b"
            ],
            [
             0.6666666666666666,
             "#ed7953"
            ],
            [
             0.7777777777777778,
             "#fb9f3a"
            ],
            [
             0.8888888888888888,
             "#fdca26"
            ],
            [
             1,
             "#f0f921"
            ]
           ]
          },
          "colorway": [
           "#636efa",
           "#EF553B",
           "#00cc96",
           "#ab63fa",
           "#FFA15A",
           "#19d3f3",
           "#FF6692",
           "#B6E880",
           "#FF97FF",
           "#FECB52"
          ],
          "font": {
           "color": "#2a3f5f"
          },
          "geo": {
           "bgcolor": "white",
           "lakecolor": "white",
           "landcolor": "#E5ECF6",
           "showlakes": true,
           "showland": true,
           "subunitcolor": "white"
          },
          "hoverlabel": {
           "align": "left"
          },
          "hovermode": "closest",
          "mapbox": {
           "style": "light"
          },
          "paper_bgcolor": "white",
          "plot_bgcolor": "#E5ECF6",
          "polar": {
           "angularaxis": {
            "gridcolor": "white",
            "linecolor": "white",
            "ticks": ""
           },
           "bgcolor": "#E5ECF6",
           "radialaxis": {
            "gridcolor": "white",
            "linecolor": "white",
            "ticks": ""
           }
          },
          "scene": {
           "xaxis": {
            "backgroundcolor": "#E5ECF6",
            "gridcolor": "white",
            "gridwidth": 2,
            "linecolor": "white",
            "showbackground": true,
            "ticks": "",
            "zerolinecolor": "white"
           },
           "yaxis": {
            "backgroundcolor": "#E5ECF6",
            "gridcolor": "white",
            "gridwidth": 2,
            "linecolor": "white",
            "showbackground": true,
            "ticks": "",
            "zerolinecolor": "white"
           },
           "zaxis": {
            "backgroundcolor": "#E5ECF6",
            "gridcolor": "white",
            "gridwidth": 2,
            "linecolor": "white",
            "showbackground": true,
            "ticks": "",
            "zerolinecolor": "white"
           }
          },
          "shapedefaults": {
           "line": {
            "color": "#2a3f5f"
           }
          },
          "ternary": {
           "aaxis": {
            "gridcolor": "white",
            "linecolor": "white",
            "ticks": ""
           },
           "baxis": {
            "gridcolor": "white",
            "linecolor": "white",
            "ticks": ""
           },
           "bgcolor": "#E5ECF6",
           "caxis": {
            "gridcolor": "white",
            "linecolor": "white",
            "ticks": ""
           }
          },
          "title": {
           "x": 0.05
          },
          "xaxis": {
           "automargin": true,
           "gridcolor": "white",
           "linecolor": "white",
           "ticks": "",
           "title": {
            "standoff": 15
           },
           "zerolinecolor": "white",
           "zerolinewidth": 2
          },
          "yaxis": {
           "automargin": true,
           "gridcolor": "white",
           "linecolor": "white",
           "ticks": "",
           "title": {
            "standoff": 15
           },
           "zerolinecolor": "white",
           "zerolinewidth": 2
          }
         }
        },
        "xaxis": {
         "anchor": "y",
         "domain": [
          0,
          1
         ],
         "title": {
          "text": "Event"
         }
        },
        "yaxis": {
         "anchor": "x",
         "domain": [
          0,
          1
         ],
         "title": {
          "text": "Max_Flight"
         }
        }
       }
      }
     },
     "metadata": {},
     "output_type": "display_data"
    }
   ],
   "source": [
    "# Data analysis by gender for each event\n",
    "df_grouped = df.groupby(['Event', 'Male_Female']).mean().reset_index()\n",
    "\n",
    "# Rank for the best athlete for each event considering the max flight, for each gender\n",
    "df['Max_Flight'] = df[['Flight1', 'Flight2', 'Flight3', 'Flight4', 'Flight5', 'Flight6']].max(axis=1)\n",
    "df_ranked = df.sort_values(['Event', 'Male_Female', 'Max_Flight'], ascending=[True, True, False])\n",
    "df_ranked = df_ranked.groupby(['Event', 'Male_Female']).first().reset_index()\n",
    "\n",
    "# Plot the data using Plotly\n",
    "fig = px.bar(df_ranked, x='Event', y='Max_Flight', color='Male_Female', barmode='group')\n",
    "fig.show()"
   ]
  },
  {
   "cell_type": "code",
   "execution_count": 6,
   "metadata": {},
   "outputs": [
    {
     "name": "stdout",
     "output_type": "stream",
     "text": [
      "Rank list for Female events:\n",
      "1 - Discus:\n",
      "\t158 - Athlete: Gia Lewis-Smallwood, Flight Value: 65.96\n",
      "\t918 - Athlete: Stephanie Brown Trafton, Flight Value: 65.18\n",
      "\t68 - Athlete: Gia Lewis-Smallwood, Flight Value: 65.13\n",
      "\t1892 - Athlete: Andrew Evans, Flight Value: 64.46\n",
      "\t1191 - Athlete: Gia Lewis-Smallwood, Flight Value: 64.01\n",
      "2 - Hammer:\n",
      "\t2054 - Athlete: Deanna Price, Flight Value: 78.12\n",
      "\t1546 - Athlete: Gwen Berry, Flight Value: 76.31\n",
      "\t82 - Athlete: Amanda Bingson, Flight Value: 75.73\n",
      "\t770 - Athlete: Sultana Frizell, Flight Value: 75.73\n",
      "\t172 - Athlete: Amanda Bingson, Flight Value: 75.07\n",
      "3 - Javelin:\n",
      "\t1148 - Athlete: Kara Patterson, Flight Value: 64.94\n",
      "\t2062 - Athlete: Kara Winger, Flight Value: 62.88\n",
      "\t1831 - Athlete: Kara Winger, Flight Value: 62.8\n",
      "\t143 - Athlete: Kara Patterson, Flight Value: 62.42\n",
      "\t144 - Athlete: Brittany Borman, Flight Value: 62.05\n",
      "4 - Shot Put:\n",
      "\t38 - Athlete: Michelle Carter, Flight Value: 20.24\n",
      "\t1140 - Athlete: Michelle Carter, Flight Value: 20.02\n",
      "\t1866 - Athlete: Raven Saunders, Flight Value: 19.76\n",
      "\t555 - Athlete: Jillian Camarena-Williams, Flight Value: 19.75\n",
      "\t1865 - Athlete: Dani Bunch, Flight Value: 19.64\n",
      "5 - Weight:\n",
      "\t1676 - Athlete: Gwen Berry, Flight Value: 25.6\n",
      "\t24 - Athlete: Gwen Berry, Flight Value: 24.7\n",
      "\t1452 - Athlete: Gwen Berry, Flight Value: 24.35\n",
      "\t1677 - Athlete: Deanna Price, Flight Value: 24.3\n",
      "\t1678 - Athlete: Felisha Johnson, Flight Value: 24.22\n",
      "Rank list for Male events:\n",
      "1 - Discus:\n",
      "\t1935 - Athlete: Justin Ramirez, Flight Value: 72.09\n",
      "\t1934 - Athlete: Turner Washington, Flight Value: 71.09\n",
      "\t1933 - Athlete: Jordan Young, Flight Value: 70.09\n",
      "\t1713 - Athlete: Turner Washington, Flight Value: 69.45\n",
      "\t1932 - Athlete: Uziel Munoz, Flight Value: 69.09\n",
      "2 - Hammer:\n",
      "\t1117 - Athlete: Kibwe Johnson, Flight Value: 76.95\n",
      "\t290 - Athlete: Marcel Lomnicky, Flight Value: 76.77\n",
      "\t1622 - Athlete: Rudy Winkler, Flight Value: 76.76\n",
      "\t453 - Athlete: AG Kruger, Flight Value: 76.34\n",
      "\t649 - Athlete: AG Kruger, Flight Value: 76.12\n",
      "3 - Javelin:\n",
      "\t45 - Athlete: Riley Dolezal, Flight Value: 83.5\n",
      "\t1640 - Athlete: Cyrus Hostetler, Flight Value: 83.24\n",
      "\t46 - Athlete: Sam Humphreys, Flight Value: 83.14\n",
      "\t1125 - Athlete: Sean Furey, Flight Value: 83.08\n",
      "\t1641 - Athlete: Curtis Thompson, Flight Value: 82.88\n",
      "4 - Shot Put:\n",
      "\t1844 - Athlete: Ryan Crouser, Flight Value: 22.65\n",
      "\t1746 - Athlete: Joe Kovacs, Flight Value: 22.57\n",
      "\t1843 - Athlete: Joe Kovacs, Flight Value: 22.35\n",
      "\t89 - Athlete: Ryan Whiting, Flight Value: 22.23\n",
      "\t1647 - Athlete: Ryan Crouser, Flight Value: 22.11\n",
      "5 - Weight:\n",
      "\t1692 - Athlete: Alex Young, Flight Value: 24.02\n",
      "\t1444 - Athlete: Colin Dunbar, Flight Value: 23.96\n",
      "\t1693 - Athlete: Colin Dunbar, Flight Value: 23.74\n",
      "\t105 - Athlete: AG Kruger, Flight Value: 23.7\n",
      "\t1694 - Athlete: Sean Donnelly, Flight Value: 23.57\n"
     ]
    }
   ],
   "source": [
    "# Rank for the best athlete for each event considering the max flight, for each gender\n",
    "df['Max_Flight'] = df[['Flight1', 'Flight2', 'Flight3', 'Flight4', 'Flight5', 'Flight6']].max(axis=1)\n",
    "df_ranked = df.sort_values(['Event', 'Male_Female', 'Max_Flight'], ascending=[True, True, False])\n",
    "\n",
    "# Print the rank list of the best flights\n",
    "for gender in df_ranked['Male_Female'].unique():\n",
    "    print(f\"Rank list for {gender} events:\")\n",
    "    for i, event in enumerate(df_ranked[df_ranked['Male_Female'] == gender]['Event'].unique()):\n",
    "        print(f\"{i+1} - {event}:\")\n",
    "        event_ranked = df_ranked[(df_ranked['Event'] == event) & (df_ranked['Male_Female'] == gender)]\n",
    "        for k, (j, row) in enumerate(event_ranked.iterrows()):\n",
    "            if k > 4:\n",
    "                break\n",
    "            print(f\"\\t{j+1} - Athlete: {row['Athlete']}, Flight Value: {row['Max_Flight']}\")"
   ]
  },
  {
   "cell_type": "code",
   "execution_count": 7,
   "metadata": {},
   "outputs": [],
   "source": [
    "# calculate mean of flights 1 to 3\n",
    "df['mean_y'] = df[['Flight1', 'Flight2', 'Flight3']].mean(axis=1)\n",
    "\n",
    "# calculate mean of flights 4 to 6\n",
    "df['mean_x'] = df[['Flight4', 'Flight5', 'Flight6']].mean(axis=1)"
   ]
  },
  {
   "cell_type": "code",
   "execution_count": 8,
   "metadata": {},
   "outputs": [
    {
     "data": {
      "application/vnd.plotly.v1+json": {
       "config": {
        "plotlyServerURL": "https://plot.ly"
       },
       "data": [
        {
         "hovertemplate": "Male_Female=Male<br>Mean of Flights 4 to 6=%{x}<br>Mean of Flights 1 to 3=%{y}<extra></extra>",
         "legendgroup": "Male",
         "marker": {
          "color": "#636efa",
          "symbol": "circle"
         },
         "mode": "markers",
         "name": "Male",
         "orientation": "v",
         "showlegend": true,
         "type": "scatter",
         "x": [
          14.443333333333333,
          13.846666666666666,
          6.8500000000000005,
          13.006666666666666,
          12.873333333333335,
          18.77333333333333,
          18.61,
          6.213333333333334,
          7.113333333333333,
          20.790000000000003,
          6.59,
          6.496666666666666,
          6.613333333333333,
          6.506666666666667,
          12.656666666666666,
          14.313333333333333,
          6.989999999999999,
          14.183333333333332,
          13.373333333333335,
          13.796666666666667,
          13.020000000000001,
          6.593333333333334,
          6.133333333333333,
          21.316666666666666,
          20.810000000000002,
          6.926666666666667,
          6.433333333333334,
          12.953333333333333,
          13.333333333333334,
          13.263333333333334,
          6.766666666666667,
          12.563333333333333,
          6.22,
          12.343333333333334,
          6.04,
          18.05,
          6.146666666666667,
          19.26,
          6.47,
          6.073333333333333,
          11.936666666666667,
          19.13,
          6.496666666666666,
          18.72,
          6.3,
          12.706666666666669,
          12.176666666666668,
          6.02,
          14.459999999999999,
          14.469999999999999,
          6.863333333333333,
          13.743333333333334,
          13.449999999999998,
          19.896666666666665,
          21.163333333333334,
          21.01,
          6.3500000000000005,
          6.5,
          19.28333333333333,
          13.103333333333333,
          13.003333333333332,
          6.456666666666667,
          12.839999999999998,
          12.506666666666666,
          12.153333333333334,
          6.0566666666666675,
          5.666666666666667,
          9.696666666666667,
          19.956666666666667,
          13.453333333333333,
          20.036666666666665,
          19.256666666666664,
          19.473333333333333,
          18.820000000000004,
          19.07,
          18.316666666666666,
          6.113333333333333,
          13.39,
          6.426666666666667,
          6.41,
          12.300000000000002,
          17.709999999999997,
          11.743333333333334,
          20.529999999999998,
          12.83,
          12.799999999999999,
          12.116666666666665,
          20.76666666666667,
          6.983333333333333,
          13.410000000000002,
          6.666666666666667,
          6.463333333333334,
          13.016666666666666,
          11.549999999999999,
          14.293333333333331,
          19.593333333333334,
          12.973333333333334,
          11.686666666666667,
          11.366666666666665,
          19.576666666666668,
          12.64,
          12.663333333333332,
          18.790000000000003,
          6.170000000000001,
          14.290000000000001,
          14.200000000000001,
          13.973333333333334,
          6.636666666666667,
          12.606666666666667,
          6.496666666666666,
          6.343333333333334,
          14.463333333333333,
          21.28666666666667,
          13.943333333333333,
          13.479999999999999,
          20.423333333333332,
          6.8999999999999995,
          13.016666666666666,
          6.516666666666667,
          6.783333333333334,
          12.663333333333334,
          12.353333333333333,
          6.246666666666666,
          6.163333333333333,
          5.890000000000001,
          11.42,
          11.36,
          13.796666666666667,
          6.416666666666667,
          19.476666666666663,
          12.656666666666666,
          6.376666666666666,
          12.64,
          6.133333333333333,
          6.136666666666667,
          6.489999999999999,
          6.336666666666667,
          6.25,
          21.41333333333333,
          7.213333333333334,
          21.179999999999996,
          6.916666666666667,
          6.5566666666666675,
          13.626666666666665,
          13.073333333333332,
          19.24,
          6.426666666666667,
          12.496666666666668,
          11.61,
          5.353333333333333,
          13.583333333333334,
          4.016666666666667,
          21.756666666666664,
          21.576666666666664,
          7.140000000000001,
          6.9433333333333325,
          20.44,
          13.636666666666665,
          6.636666666666667,
          14.206666666666665,
          7,
          6.713333333333334,
          6.6066666666666665,
          12.893333333333333,
          19.43,
          21.273333333333333,
          13.603333333333333,
          6.716666666666666,
          19.956666666666667,
          13.503333333333336,
          13.343333333333334,
          6.096666666666667,
          6.506666666666667,
          7.0566666666666675,
          20.02,
          6.743333333333333,
          13,
          6.236666666666667,
          18.349999999999998,
          13.226666666666667,
          6.66,
          12.979999999999999,
          18.753333333333334,
          12.426666666666668,
          12.483333333333334,
          18.263333333333332,
          18.66333333333333,
          6.766666666666667,
          19.55,
          13.033333333333333,
          6.52,
          6.173333333333333,
          18.606666666666666,
          18.39,
          6.1866666666666665,
          11.93,
          12.71,
          6.326666666666667,
          18.49,
          12.386666666666665,
          18.64,
          11.833333333333334,
          11.540000000000001,
          13.776666666666666,
          6.636666666666667,
          13.733333333333334,
          6.62,
          6.6933333333333325,
          12.953333333333333,
          12.906666666666666,
          11.936666666666667,
          6.033333333333334,
          14.18,
          21.323333333333334,
          13.516666666666666,
          20.613333333333333,
          13.643333333333333,
          6.82,
          13.049999999999999,
          6.926666666666667,
          6.453333333333333,
          6.6866666666666665,
          13.386666666666665,
          6.666666666666667,
          12.5,
          6.596666666666667,
          6.433333333333334,
          7.420000000000001,
          13.623333333333335,
          6.62,
          6.573333333333333,
          5.676666666666667,
          14.316666666666668,
          13.883333333333333,
          13.88,
          13.486666666666666,
          13.32,
          12.913333333333332,
          12.200000000000001,
          11.566666666666668,
          13.163333333333334,
          20.14,
          20.220000000000002,
          6.866666666666667,
          21.23333333333333,
          21.97,
          22.2,
          14.163333333333332,
          19.136666666666667,
          18.506666666666668,
          12.24,
          18.106666666666666,
          6.1933333333333325,
          11.406666666666666,
          16.433333333333334,
          13.793333333333331,
          20.32,
          19.60666666666667,
          19.606666666666666,
          19.209999999999997,
          6.12,
          19.073333333333334,
          12.790000000000001,
          12.540000000000001,
          18.683333333333334,
          18.85,
          18.62666666666667,
          12.323333333333332,
          18.22,
          16.400000000000002,
          21.44666666666667,
          13.873333333333333,
          6.82,
          13.416666666666666,
          13.343333333333334,
          6.596666666666667,
          13.143333333333333,
          6.296666666666667,
          21.600000000000005,
          20.61,
          20.38,
          13.43,
          13.476666666666667,
          6.403333333333333,
          6.16,
          14.31,
          20.686666666666667,
          6.8566666666666665,
          13.423333333333332,
          19.893333333333334
         ],
         "xaxis": "x",
         "y": [
          14.096666666666666,
          6.95,
          13.506666666666666,
          6.453333333333333,
          12.423333333333334,
          18.483333333333334,
          12.229999999999999,
          12.18,
          14.156666666666666,
          13.393333333333333,
          13.433333333333332,
          19.666666666666668,
          13.083333333333334,
          6.386666666666667,
          6.45,
          20.65,
          14.023333333333333,
          20.05666666666667,
          19.71666666666667,
          12.716666666666669,
          13.153333333333334,
          19.346666666666668,
          12.813333333333333,
          20.486666666666665,
          21.02,
          20.703333333333333,
          20.06,
          20.21,
          13.123333333333335,
          6.5566666666666675,
          20.263333333333332,
          12.776666666666666,
          12.656666666666666,
          11.716666666666667,
          18.570000000000004,
          12.013333333333335,
          6.133333333333333,
          19.459999999999997,
          12.966666666666667,
          12.1,
          16.66333333333333,
          6.283333333333334,
          6.3566666666666665,
          6.3,
          12.726666666666667,
          12.693333333333333,
          6.05,
          11.863333333333335,
          21.07,
          14.163333333333334,
          13.910000000000002,
          0,
          12.566666666666668,
          13.273333333333333,
          20.61666666666667,
          13.516666666666666,
          6.576666666666667,
          12.83,
          0,
          6.536666666666666,
          6.59,
          12.503333333333332,
          6.453333333333333,
          6.3,
          11.953333333333333,
          17.813333333333333,
          17.493333333333336,
          14.29,
          13.116666666666665,
          6.626666666666666,
          13.056666666666667,
          19.506666666666668,
          12.923333333333334,
          18.536666666666665,
          18.976666666666663,
          12.193333333333333,
          12.076666666666668,
          6.703333333333333,
          19.72,
          12.776666666666666,
          6.126666666666666,
          5.963333333333334,
          5.786666666666666,
          6.636666666666667,
          13.003333333333332,
          6.206666666666667,
          6.170000000000001,
          20.5,
          14.053333333333333,
          19.669999999999998,
          13.326666666666668,
          13.026666666666666,
          6.466666666666666,
          11.61,
          20.983333333333334,
          19.416666666666668,
          6.55,
          0,
          0,
          19.113333333333333,
          6.146666666666667,
          19.013333333333332,
          18.376666666666665,
          12.356666666666667,
          14.276666666666666,
          7.103333333333333,
          13.516666666666666,
          6.746666666666666,
          13.256666666666666,
          19.03333333333333,
          19.113333333333333,
          21.580000000000002,
          14.243333333333334,
          14.006666666666666,
          20.279999999999998,
          13.393333333333333,
          13.393333333333336,
          19.62666666666667,
          12.893333333333333,
          13.186666666666667,
          19.233333333333334,
          18.88,
          12.36,
          12.14,
          5.646666666666667,
          16.95,
          0,
          20.63,
          13.266666666666666,
          12.373333333333333,
          12.813333333333333,
          12.729999999999999,
          6.213333333333334,
          18.74,
          6.293333333333333,
          12.800000000000002,
          18.64,
          18.063333333333333,
          13.61,
          21.006666666666664,
          20.669999999999998,
          7.06,
          20.413333333333334,
          20.103333333333335,
          6.586666666666667,
          19.333333333333332,
          19.05333333333333,
          12.176666666666668,
          11.796666666666667,
          5.076666666666667,
          20.39,
          11.083333333333334,
          14.146666666666667,
          20.893333333333334,
          20.786666666666665,
          6.896666666666667,
          19.363333333333333,
          19.316666666666666,
          13.306666666666667,
          21.35666666666667,
          19.743333333333336,
          6.6866666666666665,
          6.7,
          19.22666666666667,
          19.413333333333338,
          20.896666666666665,
          6.833333333333333,
          6.766666666666667,
          19.006666666666664,
          19.646666666666665,
          13.053333333333333,
          18.756666666666664,
          20.903333333333332,
          6.543333333333333,
          17.893333333333334,
          13.106666666666667,
          5.1466666666666665,
          12.453333333333333,
          18.403333333333332,
          6.56,
          13.253333333333336,
          6.416666666666667,
          19.146666666666665,
          12.75,
          19.08666666666667,
          18.180000000000003,
          12.496666666666668,
          13.376666666666665,
          12.576666666666668,
          12.623333333333333,
          12.733333333333334,
          12.753333333333332,
          5.97,
          12.26,
          18.139999999999997,
          5.760000000000001,
          6.363333333333333,
          6.420000000000001,
          12.346666666666666,
          12.416666666666666,
          12.329999999999998,
          5.846666666666667,
          11.306666666666667,
          20.616666666666667,
          13.770000000000001,
          6.743333333333333,
          13.326666666666668,
          13.216666666666669,
          19.276666666666667,
          12.806666666666667,
          18.793333333333333,
          18.043333333333333,
          21.32,
          20.866666666666664,
          20.673333333333336,
          20.51,
          13.670000000000002,
          13.403333333333334,
          19.626666666666665,
          6.7,
          13.156666666666666,
          19.756666666666664,
          13.376666666666665,
          13.4,
          18.486666666666668,
          13.053333333333333,
          12.733333333333334,
          14.89,
          20.13,
          19.5,
          6.576666666666667,
          5.59,
          21.37,
          7.083333333333333,
          13.793333333333331,
          6.56,
          6.646666666666667,
          13.023333333333333,
          12.17,
          5.44,
          13.193333333333333,
          13.1,
          19.89333333333333,
          6.8500000000000005,
          20.786666666666665,
          14.116666666666667,
          14.613333333333335,
          20.94666666666667,
          12.046666666666667,
          18.36,
          18.343333333333334,
          5.9366666666666665,
          18.30666666666667,
          17.00333333333333,
          16.50333333333333,
          20.773333333333333,
          20.74333333333333,
          12.623333333333335,
          6.43,
          12.656666666666666,
          6.083333333333333,
          12.676666666666668,
          18.95,
          18.356666666666666,
          18.933333333333334,
          18.44333333333333,
          12.296666666666667,
          5.903333333333333,
          12.143333333333333,
          11.236666666666666,
          21.336666666666662,
          7.046666666666667,
          13.503333333333336,
          20.063333333333333,
          20.013333333333332,
          6.59,
          18.85666666666667,
          12.896666666666667,
          21.50333333333333,
          13.56,
          20.169999999999998,
          13.403333333333334,
          6.71,
          6.353333333333333,
          18.463333333333335,
          13.613333333333335,
          20.349999999999998,
          13.483333333333334,
          13.113333333333335,
          19.566666666666666
         ],
         "yaxis": "y"
        },
        {
         "hovertemplate": "Male_Female=Female<br>Mean of Flights 4 to 6=%{x}<br>Mean of Flights 1 to 3=%{y}<extra></extra>",
         "legendgroup": "Female",
         "marker": {
          "color": "#EF553B",
          "symbol": "circle"
         },
         "mode": "markers",
         "name": "Female",
         "orientation": "v",
         "showlegend": true,
         "type": "scatter",
         "x": [
          18.94333333333333,
          17.38,
          17.55666666666667,
          10.726666666666667,
          10.54,
          15.516666666666666,
          15.469999999999999,
          15.193333333333333,
          12.99,
          18.23,
          11.82,
          5.3933333333333335,
          10.856666666666667,
          10.716666666666667,
          15.256666666666666,
          6.1499999999999995,
          11.596666666666666,
          5.98,
          11.406666666666666,
          5.873333333333334,
          5.71,
          5.71,
          10.943333333333333,
          12.75,
          12.603333333333333,
          18.276666666666667,
          11.523333333333333,
          17.153333333333332,
          11.423333333333332,
          11.030000000000001,
          19.276666666666667,
          17.886666666666667,
          11.82,
          11.693333333333333,
          11.206666666666665,
          16.743333333333336,
          5.296666666666667,
          12.25,
          5.46,
          11.459999999999999,
          11.193333333333333,
          10.996666666666668,
          5.3999999999999995,
          5.3999999999999995,
          10.286666666666667,
          15.613333333333335,
          5.653333333333333,
          11.363333333333335,
          5.583333333333333,
          10.636666666666665,
          5.286666666666666,
          5.243333333333333,
          10.376666666666667,
          9.82,
          5.043333333333334,
          18.426666666666666,
          6.173333333333333,
          12.08,
          16.69666666666667,
          11.290000000000001,
          5.29,
          10.62,
          10.64,
          11.153333333333334,
          10.623333333333333,
          10.333333333333334,
          10.03,
          5.026666666666666,
          13.926666666666668,
          4.8,
          13.556666666666667,
          12.746666666666668,
          11.806666666666667,
          5.626666666666666,
          16.413333333333334,
          5.523333333333333,
          5.496666666666666,
          5.196666666666666,
          15.799999999999999,
          5.3133333333333335,
          10.336666666666666,
          5.07,
          9.09,
          8.51,
          5.983333333333333,
          11.346666666666666,
          5.5,
          10.76,
          5,
          14.633333333333333,
          4.816666666666666,
          13.706666666666665,
          13.143333333333333,
          12.183333333333332,
          17.840000000000003,
          5.886666666666667,
          5.086666666666667,
          10.573333333333332,
          10.06,
          4.263333333333333,
          8.253333333333332,
          10.026666666666666,
          15.253333333333332,
          11.766666666666666,
          3.9166666666666665,
          12.229999999999999,
          17.046666666666667,
          5.466666666666666,
          9.89,
          16.823333333333334,
          5.523333333333333,
          16.03,
          5.213333333333334,
          12.143333333333333,
          11.5,
          17.189999999999998,
          10.549999999999999,
          16.08,
          9.346666666666666,
          9.040000000000001,
          4.636666666666667,
          4.62,
          6.329999999999999,
          12.313333333333333,
          12.020000000000001,
          12.04,
          11.886666666666665,
          5.913333333333333,
          5.53,
          11.18,
          6.003333333333334,
          11.666666666666666,
          16.62,
          11.246666666666668,
          15.986666666666666,
          10.513333333333334,
          5.383333333333333,
          4.803333333333334,
          12.550000000000002,
          12.116666666666665,
          6.140000000000001,
          5.9366666666666665,
          16.900000000000002,
          16.653333333333336,
          11.093333333333334,
          10.69,
          15.823333333333332,
          4.92,
          4.666666666666667,
          3.16,
          2.9266666666666663,
          6.3,
          18.426666666666666,
          6.28,
          12.343333333333334,
          6.07,
          11.733333333333334,
          11.776666666666666,
          11.893333333333333,
          17.913333333333338,
          16.89,
          5.6933333333333325,
          5.633333333333333,
          10.116666666666667,
          9.656666666666666,
          13.896666666666667,
          13.416666666666666,
          8.14,
          11.65,
          11.673333333333332,
          5.28,
          10.053333333333333,
          9.913333333333334,
          18.423333333333336,
          17.450000000000003,
          17.849999999999998,
          17.636666666666667,
          16.663333333333334,
          9.96,
          5.29,
          14.986666666666666,
          11.923333333333332,
          16.15,
          16.69333333333333,
          16.676666666666666,
          9.713333333333333,
          4.5633333333333335,
          12.496666666666668,
          6.033333333333334,
          17.176666666666666,
          5.816666666666666,
          11.51,
          11.433333333333332,
          5.743333333333333,
          10.556666666666667,
          18.45,
          12.143333333333333,
          17.596666666666668,
          17.19666666666667,
          17.246666666666666,
          11.303333333333333,
          11.076666666666668,
          11.473333333333334,
          10.57,
          5.1866666666666665,
          4.39,
          17.37333333333333,
          16.87666666666667,
          0.5366666666666667,
          5.603333333333333,
          6.1000000000000005,
          5.836666666666667,
          11.413333333333334,
          16.083333333333332,
          5.406666666666666,
          14.589999999999998,
          9.816666666666666,
          17.653333333333332,
          11.94,
          17.113333333333333,
          11.576666666666668,
          16.153333333333332,
          14.910000000000002,
          10.313333333333333,
          14.423333333333334,
          18.12333333333333,
          18.073333333333334,
          11.883333333333335,
          16.883333333333336,
          17.713333333333335,
          5.829999999999999,
          5.746666666666666,
          5.803333333333334,
          18.38,
          17.94,
          11.403333333333334,
          16.46666666666667,
          10.743333333333334,
          10.203333333333333,
          17.709999999999997,
          11.6,
          17.546666666666667,
          16.286666666666665,
          10.32,
          5.176666666666667,
          5.04,
          5.033333333333333,
          9.683333333333332,
          16.330000000000002,
          5.670000000000001,
          5.77,
          5.353333333333333,
          15.946666666666667,
          10.696666666666667,
          5.9433333333333325,
          11.756666666666666,
          16.816666666666666,
          11.313333333333333,
          16.543333333333333,
          5.553333333333334,
          10.306666666666667,
          17.936666666666667,
          17.28,
          17.349999999999998,
          11.116666666666665,
          17.133333333333333,
          16.23,
          10.583333333333334,
          18.536666666666665,
          18.523333333333333,
          12.116666666666665,
          6.13,
          5.916666666666667,
          11.49,
          10.699999999999998,
          5.5566666666666675,
          5.983333333333333,
          11.38,
          11.476666666666667,
          11.229999999999999,
          11.113333333333335,
          10.76,
          11.693333333333333,
          11.68,
          17.213333333333335,
          16.63,
          9.886666666666667,
          5.08,
          4.74,
          6.53,
          12.74,
          12.446666666666667,
          12.423333333333332,
          18.386666666666667,
          18.263333333333332,
          5.883333333333333,
          17.95,
          18.863333333333333,
          6.013333333333333,
          17.55,
          17.656666666666666,
          17.186666666666667,
          17.116666666666664,
          5.586666666666667,
          12.123333333333335,
          6.109999999999999,
          11.386666666666665,
          11.323333333333332,
          5.71,
          5.316666666666666,
          5.466666666666666,
          10.82,
          12.36,
          12.163333333333332,
          11.593333333333334,
          5.88,
          17.376666666666665,
          11.58,
          16.816666666666666,
          11.146666666666667,
          11.06,
          16.933333333333334,
          5.703333333333333,
          11.61,
          18.513333333333332,
          19.210000000000004,
          13.07,
          12.780000000000001,
          16.01,
          10.903333333333334,
          5.37,
          11.883333333333333,
          17.07,
          5.126666666666667,
          15.336666666666666,
          15.483333333333334,
          15.700000000000001,
          17.5,
          12.1,
          11.363333333333335,
          11.589999999999998,
          5.3933333333333335,
          10.526666666666666,
          11.363333333333335,
          5.673333333333333,
          17.77333333333333,
          11.533333333333333,
          11.58,
          11.516666666666666,
          14.496666666666668,
          5.78,
          5.763333333333333,
          4.993333333333333,
          9.676666666666668,
          18.87,
          6.079999999999999,
          6.043333333333333,
          17.723333333333333,
          17.650000000000002,
          17.64,
          11.466666666666667
         ],
         "xaxis": "x",
         "y": [
          18.54,
          10.923333333333332,
          16.696666666666662,
          10.223333333333334,
          5.173333333333333,
          5.22,
          10.326666666666666,
          9.776666666666666,
          19.106666666666666,
          11.83,
          11.61,
          11.18,
          5.73,
          16.263333333333335,
          15.976666666666667,
          6.04,
          17.896666666666665,
          5.863333333333333,
          17.19333333333333,
          5.566666666666666,
          17.19666666666667,
          17.083333333333332,
          16.873333333333335,
          18.776666666666667,
          17.416666666666668,
          12.023333333333333,
          17.186666666666664,
          11.553333333333333,
          11.506666666666668,
          16.316666666666666,
          18.633333333333333,
          17.03666666666667,
          17.19333333333333,
          17.376666666666665,
          16.386666666666667,
          11.303333333333333,
          16.17,
          12.796666666666667,
          11.280000000000001,
          10.996666666666664,
          16.89,
          11.026666666666666,
          10.813333333333333,
          5.286666666666666,
          10.456666666666665,
          10.056666666666667,
          17.073333333333334,
          16.343333333333334,
          16.263333333333332,
          15.083333333333334,
          10.4,
          14.276666666666666,
          5.133333333333334,
          4.96,
          9.943333333333333,
          17.540000000000003,
          6.16,
          17.80333333333333,
          11.43,
          5.633333333333333,
          16.26,
          10.173333333333334,
          10.41,
          16.296666666666667,
          15.196666666666665,
          14.956666666666665,
          9.17,
          9.979999999999999,
          5.003333333333333,
          4.8533333333333335,
          9.25,
          12.65,
          11.636666666666665,
          5.583333333333333,
          16.19666666666667,
          5.506666666666667,
          5.390000000000001,
          16.106666666666666,
          10.773333333333333,
          9.81,
          5.206666666666666,
          4.84,
          13.64,
          8.903333333333334,
          17.553333333333335,
          16.080000000000002,
          5.306666666666667,
          5.203333333333333,
          10.229999999999999,
          14.223333333333334,
          13.766666666666666,
          8.933333333333334,
          13.040000000000001,
          17.883333333333336,
          11.913333333333334,
          11.660000000000002,
          10.47,
          5.083333333333333,
          15.046666666666667,
          12.803333333333335,
          4.013333333333333,
          5.14,
          9.816666666666666,
          6.97,
          11.243333333333334,
          17.46666666666667,
          16.966666666666665,
          5.503333333333334,
          5.3,
          16.863333333333333,
          0,
          5.283333333333333,
          5.1033333333333335,
          6,
          16.833333333333332,
          5.763333333333333,
          10.88,
          10.783333333333333,
          9.076666666666666,
          9.343333333333334,
          9.203333333333333,
          9.096666666666666,
          12.163333333333332,
          12.143333333333333,
          17.94,
          11.39,
          17.436666666666667,
          17.169999999999998,
          11.183333333333332,
          16.53,
          17.793333333333333,
          11.833333333333334,
          16.713333333333335,
          16.653333333333332,
          10.4,
          5.16,
          10.766666666666666,
          5.083333333333333,
          12,
          6.016666666666667,
          18.21,
          18.099999999999998,
          16.24,
          16.46,
          10.786666666666667,
          10.82,
          14.973333333333334,
          9.633333333333333,
          13.93,
          6.683333333333333,
          8.516666666666667,
          12.959999999999999,
          18.253333333333334,
          12.299999999999999,
          18.076666666666664,
          18.136666666666667,
          12.166666666666666,
          11.673333333333332,
          11.806666666666667,
          17.580000000000002,
          17.38,
          5.760000000000001,
          16.33666666666667,
          4.983333333333333,
          9.68,
          13.923333333333332,
          8.88,
          8.003333333333332,
          11.579999999999998,
          11.75,
          15.203333333333333,
          9.496666666666668,
          14.913333333333334,
          11.993333333333334,
          11.266666666666666,
          11.67,
          17.433333333333334,
          17.03,
          10.823333333333332,
          10.85,
          10.766666666666666,
          11.816666666666668,
          5.7,
          16.73,
          10.753333333333332,
          10.08,
          13.843333333333334,
          6.23,
          17.77333333333333,
          17.833333333333332,
          17.72,
          11.496666666666664,
          16.166666666666668,
          11.163333333333334,
          10.63,
          17.960000000000004,
          11.82,
          17.039999999999996,
          16.133333333333333,
          17.366666666666664,
          11.043333333333331,
          10.966666666666669,
          11.25,
          16.11,
          15.83,
          4.36,
          17.67,
          5.346666666666667,
          11.223333333333334,
          16.78333333333333,
          18.593333333333334,
          6.079999999999999,
          16.786666666666665,
          16.106666666666666,
          10.153333333333334,
          9.65,
          9.756666666666666,
          17.706666666666667,
          17.593333333333334,
          17.516666666666666,
          11.71,
          10.726666666666667,
          15.263333333333334,
          15.1,
          14.613333333333335,
          18.223333333333333,
          17.503333333333334,
          6.04,
          17.099999999999998,
          17.826666666666664,
          17.446666666666665,
          17.426666666666666,
          16.87666666666667,
          11.51,
          16.94333333333333,
          16.176666666666666,
          16.63,
          10.87,
          14.163333333333334,
          5.986666666666667,
          17.69333333333333,
          17.423333333333332,
          16.143333333333334,
          15.743333333333334,
          5.236666666666667,
          14.873333333333333,
          14.843333333333334,
          14.46,
          17.806666666666665,
          17.156666666666666,
          16.973333333333333,
          11.040000000000001,
          15.76,
          10.653333333333334,
          0,
          11.589999999999998,
          16.493333333333336,
          16.55,
          11.093333333333334,
          5.3999999999999995,
          15.393333333333333,
          17.496666666666666,
          5.98,
          11.753333333333332,
          11.626666666666665,
          16.626666666666665,
          16.676666666666666,
          16.386666666666667,
          18.570000000000004,
          17.85,
          11.909999999999998,
          18.113333333333333,
          17.79,
          17.006666666666664,
          16.583333333333332,
          16.599999999999998,
          5.96,
          17.276666666666667,
          17.03,
          17.113333333333333,
          16.526666666666667,
          10.866666666666667,
          5.53,
          17.430000000000003,
          10.706666666666669,
          16.709999999999997,
          4.95,
          10.113333333333333,
          9.443333333333333,
          19.083333333333332,
          6.18,
          17.326666666666668,
          12.35,
          18.433333333333334,
          17.87666666666667,
          17.72666666666667,
          17.713333333333335,
          18.163333333333334,
          11.883333333333333,
          6.076666666666667,
          11.540000000000001,
          17.319999999999997,
          11.193333333333333,
          11.013333333333334,
          11.790000000000001,
          5.88,
          16.726666666666667,
          16.790000000000003,
          10.956666666666665,
          11.07,
          10.996666666666664,
          10.396666666666667,
          12.143333333333333,
          17.573333333333334,
          11.62,
          17,
          11.579999999999998,
          11.466666666666669,
          11.24,
          5.433333333333334,
          16.373333333333335,
          11.546666666666667,
          11.543333333333331,
          12.01,
          11.959999999999999,
          18.93,
          12.700000000000001,
          12.016666666666666,
          10.376666666666667,
          10.83,
          16.546666666666663,
          17.94666666666667,
          11.296666666666667,
          15.363333333333332,
          10.486666666666666,
          15.413333333333334,
          15.546666666666667,
          17.706666666666667,
          17.53333333333333,
          11.406666666666666,
          17.526666666666667,
          10.993333333333334,
          10.566666666666666,
          0,
          11.410000000000002,
          11.530000000000001,
          5.34,
          11.493333333333334,
          17.27,
          4.883333333333334,
          11.113333333333335,
          16.883333333333336,
          9.606666666666667,
          4.79,
          12.343333333333334,
          18.13,
          6.246666666666666,
          18.036666666666665,
          17.51,
          17.546666666666667,
          17.41
         ],
         "yaxis": "y"
        }
       ],
       "layout": {
        "legend": {
         "title": {
          "text": "Male_Female"
         },
         "tracegroupgap": 0
        },
        "template": {
         "data": {
          "bar": [
           {
            "error_x": {
             "color": "#2a3f5f"
            },
            "error_y": {
             "color": "#2a3f5f"
            },
            "marker": {
             "line": {
              "color": "#E5ECF6",
              "width": 0.5
             },
             "pattern": {
              "fillmode": "overlay",
              "size": 10,
              "solidity": 0.2
             }
            },
            "type": "bar"
           }
          ],
          "barpolar": [
           {
            "marker": {
             "line": {
              "color": "#E5ECF6",
              "width": 0.5
             },
             "pattern": {
              "fillmode": "overlay",
              "size": 10,
              "solidity": 0.2
             }
            },
            "type": "barpolar"
           }
          ],
          "carpet": [
           {
            "aaxis": {
             "endlinecolor": "#2a3f5f",
             "gridcolor": "white",
             "linecolor": "white",
             "minorgridcolor": "white",
             "startlinecolor": "#2a3f5f"
            },
            "baxis": {
             "endlinecolor": "#2a3f5f",
             "gridcolor": "white",
             "linecolor": "white",
             "minorgridcolor": "white",
             "startlinecolor": "#2a3f5f"
            },
            "type": "carpet"
           }
          ],
          "choropleth": [
           {
            "colorbar": {
             "outlinewidth": 0,
             "ticks": ""
            },
            "type": "choropleth"
           }
          ],
          "contour": [
           {
            "colorbar": {
             "outlinewidth": 0,
             "ticks": ""
            },
            "colorscale": [
             [
              0,
              "#0d0887"
             ],
             [
              0.1111111111111111,
              "#46039f"
             ],
             [
              0.2222222222222222,
              "#7201a8"
             ],
             [
              0.3333333333333333,
              "#9c179e"
             ],
             [
              0.4444444444444444,
              "#bd3786"
             ],
             [
              0.5555555555555556,
              "#d8576b"
             ],
             [
              0.6666666666666666,
              "#ed7953"
             ],
             [
              0.7777777777777778,
              "#fb9f3a"
             ],
             [
              0.8888888888888888,
              "#fdca26"
             ],
             [
              1,
              "#f0f921"
             ]
            ],
            "type": "contour"
           }
          ],
          "contourcarpet": [
           {
            "colorbar": {
             "outlinewidth": 0,
             "ticks": ""
            },
            "type": "contourcarpet"
           }
          ],
          "heatmap": [
           {
            "colorbar": {
             "outlinewidth": 0,
             "ticks": ""
            },
            "colorscale": [
             [
              0,
              "#0d0887"
             ],
             [
              0.1111111111111111,
              "#46039f"
             ],
             [
              0.2222222222222222,
              "#7201a8"
             ],
             [
              0.3333333333333333,
              "#9c179e"
             ],
             [
              0.4444444444444444,
              "#bd3786"
             ],
             [
              0.5555555555555556,
              "#d8576b"
             ],
             [
              0.6666666666666666,
              "#ed7953"
             ],
             [
              0.7777777777777778,
              "#fb9f3a"
             ],
             [
              0.8888888888888888,
              "#fdca26"
             ],
             [
              1,
              "#f0f921"
             ]
            ],
            "type": "heatmap"
           }
          ],
          "heatmapgl": [
           {
            "colorbar": {
             "outlinewidth": 0,
             "ticks": ""
            },
            "colorscale": [
             [
              0,
              "#0d0887"
             ],
             [
              0.1111111111111111,
              "#46039f"
             ],
             [
              0.2222222222222222,
              "#7201a8"
             ],
             [
              0.3333333333333333,
              "#9c179e"
             ],
             [
              0.4444444444444444,
              "#bd3786"
             ],
             [
              0.5555555555555556,
              "#d8576b"
             ],
             [
              0.6666666666666666,
              "#ed7953"
             ],
             [
              0.7777777777777778,
              "#fb9f3a"
             ],
             [
              0.8888888888888888,
              "#fdca26"
             ],
             [
              1,
              "#f0f921"
             ]
            ],
            "type": "heatmapgl"
           }
          ],
          "histogram": [
           {
            "marker": {
             "pattern": {
              "fillmode": "overlay",
              "size": 10,
              "solidity": 0.2
             }
            },
            "type": "histogram"
           }
          ],
          "histogram2d": [
           {
            "colorbar": {
             "outlinewidth": 0,
             "ticks": ""
            },
            "colorscale": [
             [
              0,
              "#0d0887"
             ],
             [
              0.1111111111111111,
              "#46039f"
             ],
             [
              0.2222222222222222,
              "#7201a8"
             ],
             [
              0.3333333333333333,
              "#9c179e"
             ],
             [
              0.4444444444444444,
              "#bd3786"
             ],
             [
              0.5555555555555556,
              "#d8576b"
             ],
             [
              0.6666666666666666,
              "#ed7953"
             ],
             [
              0.7777777777777778,
              "#fb9f3a"
             ],
             [
              0.8888888888888888,
              "#fdca26"
             ],
             [
              1,
              "#f0f921"
             ]
            ],
            "type": "histogram2d"
           }
          ],
          "histogram2dcontour": [
           {
            "colorbar": {
             "outlinewidth": 0,
             "ticks": ""
            },
            "colorscale": [
             [
              0,
              "#0d0887"
             ],
             [
              0.1111111111111111,
              "#46039f"
             ],
             [
              0.2222222222222222,
              "#7201a8"
             ],
             [
              0.3333333333333333,
              "#9c179e"
             ],
             [
              0.4444444444444444,
              "#bd3786"
             ],
             [
              0.5555555555555556,
              "#d8576b"
             ],
             [
              0.6666666666666666,
              "#ed7953"
             ],
             [
              0.7777777777777778,
              "#fb9f3a"
             ],
             [
              0.8888888888888888,
              "#fdca26"
             ],
             [
              1,
              "#f0f921"
             ]
            ],
            "type": "histogram2dcontour"
           }
          ],
          "mesh3d": [
           {
            "colorbar": {
             "outlinewidth": 0,
             "ticks": ""
            },
            "type": "mesh3d"
           }
          ],
          "parcoords": [
           {
            "line": {
             "colorbar": {
              "outlinewidth": 0,
              "ticks": ""
             }
            },
            "type": "parcoords"
           }
          ],
          "pie": [
           {
            "automargin": true,
            "type": "pie"
           }
          ],
          "scatter": [
           {
            "fillpattern": {
             "fillmode": "overlay",
             "size": 10,
             "solidity": 0.2
            },
            "type": "scatter"
           }
          ],
          "scatter3d": [
           {
            "line": {
             "colorbar": {
              "outlinewidth": 0,
              "ticks": ""
             }
            },
            "marker": {
             "colorbar": {
              "outlinewidth": 0,
              "ticks": ""
             }
            },
            "type": "scatter3d"
           }
          ],
          "scattercarpet": [
           {
            "marker": {
             "colorbar": {
              "outlinewidth": 0,
              "ticks": ""
             }
            },
            "type": "scattercarpet"
           }
          ],
          "scattergeo": [
           {
            "marker": {
             "colorbar": {
              "outlinewidth": 0,
              "ticks": ""
             }
            },
            "type": "scattergeo"
           }
          ],
          "scattergl": [
           {
            "marker": {
             "colorbar": {
              "outlinewidth": 0,
              "ticks": ""
             }
            },
            "type": "scattergl"
           }
          ],
          "scattermapbox": [
           {
            "marker": {
             "colorbar": {
              "outlinewidth": 0,
              "ticks": ""
             }
            },
            "type": "scattermapbox"
           }
          ],
          "scatterpolar": [
           {
            "marker": {
             "colorbar": {
              "outlinewidth": 0,
              "ticks": ""
             }
            },
            "type": "scatterpolar"
           }
          ],
          "scatterpolargl": [
           {
            "marker": {
             "colorbar": {
              "outlinewidth": 0,
              "ticks": ""
             }
            },
            "type": "scatterpolargl"
           }
          ],
          "scatterternary": [
           {
            "marker": {
             "colorbar": {
              "outlinewidth": 0,
              "ticks": ""
             }
            },
            "type": "scatterternary"
           }
          ],
          "surface": [
           {
            "colorbar": {
             "outlinewidth": 0,
             "ticks": ""
            },
            "colorscale": [
             [
              0,
              "#0d0887"
             ],
             [
              0.1111111111111111,
              "#46039f"
             ],
             [
              0.2222222222222222,
              "#7201a8"
             ],
             [
              0.3333333333333333,
              "#9c179e"
             ],
             [
              0.4444444444444444,
              "#bd3786"
             ],
             [
              0.5555555555555556,
              "#d8576b"
             ],
             [
              0.6666666666666666,
              "#ed7953"
             ],
             [
              0.7777777777777778,
              "#fb9f3a"
             ],
             [
              0.8888888888888888,
              "#fdca26"
             ],
             [
              1,
              "#f0f921"
             ]
            ],
            "type": "surface"
           }
          ],
          "table": [
           {
            "cells": {
             "fill": {
              "color": "#EBF0F8"
             },
             "line": {
              "color": "white"
             }
            },
            "header": {
             "fill": {
              "color": "#C8D4E3"
             },
             "line": {
              "color": "white"
             }
            },
            "type": "table"
           }
          ]
         },
         "layout": {
          "annotationdefaults": {
           "arrowcolor": "#2a3f5f",
           "arrowhead": 0,
           "arrowwidth": 1
          },
          "autotypenumbers": "strict",
          "coloraxis": {
           "colorbar": {
            "outlinewidth": 0,
            "ticks": ""
           }
          },
          "colorscale": {
           "diverging": [
            [
             0,
             "#8e0152"
            ],
            [
             0.1,
             "#c51b7d"
            ],
            [
             0.2,
             "#de77ae"
            ],
            [
             0.3,
             "#f1b6da"
            ],
            [
             0.4,
             "#fde0ef"
            ],
            [
             0.5,
             "#f7f7f7"
            ],
            [
             0.6,
             "#e6f5d0"
            ],
            [
             0.7,
             "#b8e186"
            ],
            [
             0.8,
             "#7fbc41"
            ],
            [
             0.9,
             "#4d9221"
            ],
            [
             1,
             "#276419"
            ]
           ],
           "sequential": [
            [
             0,
             "#0d0887"
            ],
            [
             0.1111111111111111,
             "#46039f"
            ],
            [
             0.2222222222222222,
             "#7201a8"
            ],
            [
             0.3333333333333333,
             "#9c179e"
            ],
            [
             0.4444444444444444,
             "#bd3786"
            ],
            [
             0.5555555555555556,
             "#d8576b"
            ],
            [
             0.6666666666666666,
             "#ed7953"
            ],
            [
             0.7777777777777778,
             "#fb9f3a"
            ],
            [
             0.8888888888888888,
             "#fdca26"
            ],
            [
             1,
             "#f0f921"
            ]
           ],
           "sequentialminus": [
            [
             0,
             "#0d0887"
            ],
            [
             0.1111111111111111,
             "#46039f"
            ],
            [
             0.2222222222222222,
             "#7201a8"
            ],
            [
             0.3333333333333333,
             "#9c179e"
            ],
            [
             0.4444444444444444,
             "#bd3786"
            ],
            [
             0.5555555555555556,
             "#d8576b"
            ],
            [
             0.6666666666666666,
             "#ed7953"
            ],
            [
             0.7777777777777778,
             "#fb9f3a"
            ],
            [
             0.8888888888888888,
             "#fdca26"
            ],
            [
             1,
             "#f0f921"
            ]
           ]
          },
          "colorway": [
           "#636efa",
           "#EF553B",
           "#00cc96",
           "#ab63fa",
           "#FFA15A",
           "#19d3f3",
           "#FF6692",
           "#B6E880",
           "#FF97FF",
           "#FECB52"
          ],
          "font": {
           "color": "#2a3f5f"
          },
          "geo": {
           "bgcolor": "white",
           "lakecolor": "white",
           "landcolor": "#E5ECF6",
           "showlakes": true,
           "showland": true,
           "subunitcolor": "white"
          },
          "hoverlabel": {
           "align": "left"
          },
          "hovermode": "closest",
          "mapbox": {
           "style": "light"
          },
          "paper_bgcolor": "white",
          "plot_bgcolor": "#E5ECF6",
          "polar": {
           "angularaxis": {
            "gridcolor": "white",
            "linecolor": "white",
            "ticks": ""
           },
           "bgcolor": "#E5ECF6",
           "radialaxis": {
            "gridcolor": "white",
            "linecolor": "white",
            "ticks": ""
           }
          },
          "scene": {
           "xaxis": {
            "backgroundcolor": "#E5ECF6",
            "gridcolor": "white",
            "gridwidth": 2,
            "linecolor": "white",
            "showbackground": true,
            "ticks": "",
            "zerolinecolor": "white"
           },
           "yaxis": {
            "backgroundcolor": "#E5ECF6",
            "gridcolor": "white",
            "gridwidth": 2,
            "linecolor": "white",
            "showbackground": true,
            "ticks": "",
            "zerolinecolor": "white"
           },
           "zaxis": {
            "backgroundcolor": "#E5ECF6",
            "gridcolor": "white",
            "gridwidth": 2,
            "linecolor": "white",
            "showbackground": true,
            "ticks": "",
            "zerolinecolor": "white"
           }
          },
          "shapedefaults": {
           "line": {
            "color": "#2a3f5f"
           }
          },
          "ternary": {
           "aaxis": {
            "gridcolor": "white",
            "linecolor": "white",
            "ticks": ""
           },
           "baxis": {
            "gridcolor": "white",
            "linecolor": "white",
            "ticks": ""
           },
           "bgcolor": "#E5ECF6",
           "caxis": {
            "gridcolor": "white",
            "linecolor": "white",
            "ticks": ""
           }
          },
          "title": {
           "x": 0.05
          },
          "xaxis": {
           "automargin": true,
           "gridcolor": "white",
           "linecolor": "white",
           "ticks": "",
           "title": {
            "standoff": 15
           },
           "zerolinecolor": "white",
           "zerolinewidth": 2
          },
          "yaxis": {
           "automargin": true,
           "gridcolor": "white",
           "linecolor": "white",
           "ticks": "",
           "title": {
            "standoff": 15
           },
           "zerolinecolor": "white",
           "zerolinewidth": 2
          }
         }
        },
        "title": {
         "text": "Shot Put"
        },
        "xaxis": {
         "anchor": "y",
         "domain": [
          0,
          1
         ],
         "title": {
          "text": "Mean of Flights 4 to 6"
         }
        },
        "yaxis": {
         "anchor": "x",
         "domain": [
          0,
          1
         ],
         "title": {
          "text": "Mean of Flights 1 to 3"
         }
        }
       }
      }
     },
     "metadata": {},
     "output_type": "display_data"
    },
    {
     "data": {
      "application/vnd.plotly.v1+json": {
       "config": {
        "plotlyServerURL": "https://plot.ly"
       },
       "data": [
        {
         "hovertemplate": "Male_Female=Male<br>Mean of Flights 4 to 6=%{x}<br>Mean of Flights 1 to 3=%{y}<extra></extra>",
         "legendgroup": "Male",
         "marker": {
          "color": "#636efa",
          "symbol": "circle"
         },
         "mode": "markers",
         "name": "Male",
         "orientation": "v",
         "showlegend": true,
         "type": "scatter",
         "x": [
          15.51,
          21.89,
          20.863333333333333,
          7.126666666666666,
          13.676666666666668,
          20.113333333333333,
          6.803333333333334,
          15.643333333333333,
          15.313333333333333,
          15.076666666666668,
          21.733333333333334,
          20.916666666666668,
          7.256666666666667,
          20.26,
          19.94666666666667,
          22.75,
          23.03333333333333,
          22.396666666666665,
          7.513333333333333,
          6.93,
          14.186666666666667,
          20.653333333333336,
          6.913333333333333,
          15.853333333333333,
          7.746666666666666,
          22.313333333333333,
          15.206666666666669,
          14.526666666666666,
          14.156666666666666,
          21.093333333333334,
          13.703333333333333,
          15.9,
          23.52333333333333,
          15.453333333333333,
          22.19666666666667,
          22.036666666666665,
          14.46,
          13.65,
          20.016666666666666
         ],
         "xaxis": "x",
         "y": [
          15.436666666666667,
          7.29,
          21.133333333333333,
          19.923333333333336,
          20.103333333333335,
          19.533333333333335,
          13.31,
          23.166666666666668,
          22.133333333333336,
          6.94,
          21.436666666666667,
          21.516666666666666,
          20.843333333333334,
          12.883333333333333,
          19.80666666666667,
          7.13,
          15.056666666666667,
          21.853333333333335,
          21.906666666666666,
          7.253333333333334,
          14.233333333333334,
          14.133333333333333,
          20.11,
          22.710000000000004,
          7.43,
          7.103333333333333,
          22.74,
          13.843333333333334,
          20.73,
          20.513333333333335,
          20.216666666666665,
          15.683333333333332,
          15.14,
          15.61,
          14.549999999999999,
          21.736666666666665,
          15.086666666666668,
          13.49,
          13.160000000000002
         ],
         "yaxis": "y"
        },
        {
         "hovertemplate": "Male_Female=Female<br>Mean of Flights 4 to 6=%{x}<br>Mean of Flights 1 to 3=%{y}<extra></extra>",
         "legendgroup": "Female",
         "marker": {
          "color": "#EF553B",
          "symbol": "circle"
         },
         "mode": "markers",
         "name": "Female",
         "orientation": "v",
         "showlegend": true,
         "type": "scatter",
         "x": [
          23.513333333333335,
          15.753333333333332,
          15.003333333333336,
          14.606666666666667,
          6.876666666666666,
          6.786666666666666,
          13,
          15.433333333333332,
          23.30666666666667,
          22.74,
          14.680000000000001,
          7.383333333333333,
          14.58,
          12.780000000000001,
          11.983333333333334,
          7.81,
          23.353333333333335,
          7.2,
          14.733333333333334,
          6.716666666666666,
          19.323333333333334,
          13.06,
          16.136666666666667,
          16.073333333333334,
          23.123333333333335,
          14.910000000000002,
          7.243333333333333,
          13.313333333333333,
          19.676666666666666,
          12.656666666666666,
          8.533333333333333,
          24.073333333333334,
          15.676666666666668,
          8.013333333333334,
          23.356666666666666,
          13.43,
          13.219999999999999,
          18.403333333333332
         ],
         "xaxis": "x",
         "y": [
          24.3,
          15.086666666666666,
          14.530000000000001,
          7.346666666666667,
          6.903333333333333,
          6.510000000000001,
          12.530000000000001,
          7.94,
          22.89,
          22.516666666666666,
          7.533333333333334,
          20.959999999999997,
          21.349999999999998,
          18.003333333333334,
          12.07,
          15.12,
          22.44333333333333,
          7.493333333333333,
          21.643333333333334,
          19.709999999999997,
          12.973333333333334,
          6.5,
          24.24,
          24.06,
          22.373333333333335,
          7.566666666666666,
          21.933333333333334,
          19.56,
          13.016666666666666,
          18.580000000000002,
          24.959999999999997,
          23.820000000000004,
          15.94,
          15.463333333333333,
          15.4,
          6.3999999999999995,
          6.093333333333334,
          18.73333333333333
         ],
         "yaxis": "y"
        }
       ],
       "layout": {
        "legend": {
         "title": {
          "text": "Male_Female"
         },
         "tracegroupgap": 0
        },
        "template": {
         "data": {
          "bar": [
           {
            "error_x": {
             "color": "#2a3f5f"
            },
            "error_y": {
             "color": "#2a3f5f"
            },
            "marker": {
             "line": {
              "color": "#E5ECF6",
              "width": 0.5
             },
             "pattern": {
              "fillmode": "overlay",
              "size": 10,
              "solidity": 0.2
             }
            },
            "type": "bar"
           }
          ],
          "barpolar": [
           {
            "marker": {
             "line": {
              "color": "#E5ECF6",
              "width": 0.5
             },
             "pattern": {
              "fillmode": "overlay",
              "size": 10,
              "solidity": 0.2
             }
            },
            "type": "barpolar"
           }
          ],
          "carpet": [
           {
            "aaxis": {
             "endlinecolor": "#2a3f5f",
             "gridcolor": "white",
             "linecolor": "white",
             "minorgridcolor": "white",
             "startlinecolor": "#2a3f5f"
            },
            "baxis": {
             "endlinecolor": "#2a3f5f",
             "gridcolor": "white",
             "linecolor": "white",
             "minorgridcolor": "white",
             "startlinecolor": "#2a3f5f"
            },
            "type": "carpet"
           }
          ],
          "choropleth": [
           {
            "colorbar": {
             "outlinewidth": 0,
             "ticks": ""
            },
            "type": "choropleth"
           }
          ],
          "contour": [
           {
            "colorbar": {
             "outlinewidth": 0,
             "ticks": ""
            },
            "colorscale": [
             [
              0,
              "#0d0887"
             ],
             [
              0.1111111111111111,
              "#46039f"
             ],
             [
              0.2222222222222222,
              "#7201a8"
             ],
             [
              0.3333333333333333,
              "#9c179e"
             ],
             [
              0.4444444444444444,
              "#bd3786"
             ],
             [
              0.5555555555555556,
              "#d8576b"
             ],
             [
              0.6666666666666666,
              "#ed7953"
             ],
             [
              0.7777777777777778,
              "#fb9f3a"
             ],
             [
              0.8888888888888888,
              "#fdca26"
             ],
             [
              1,
              "#f0f921"
             ]
            ],
            "type": "contour"
           }
          ],
          "contourcarpet": [
           {
            "colorbar": {
             "outlinewidth": 0,
             "ticks": ""
            },
            "type": "contourcarpet"
           }
          ],
          "heatmap": [
           {
            "colorbar": {
             "outlinewidth": 0,
             "ticks": ""
            },
            "colorscale": [
             [
              0,
              "#0d0887"
             ],
             [
              0.1111111111111111,
              "#46039f"
             ],
             [
              0.2222222222222222,
              "#7201a8"
             ],
             [
              0.3333333333333333,
              "#9c179e"
             ],
             [
              0.4444444444444444,
              "#bd3786"
             ],
             [
              0.5555555555555556,
              "#d8576b"
             ],
             [
              0.6666666666666666,
              "#ed7953"
             ],
             [
              0.7777777777777778,
              "#fb9f3a"
             ],
             [
              0.8888888888888888,
              "#fdca26"
             ],
             [
              1,
              "#f0f921"
             ]
            ],
            "type": "heatmap"
           }
          ],
          "heatmapgl": [
           {
            "colorbar": {
             "outlinewidth": 0,
             "ticks": ""
            },
            "colorscale": [
             [
              0,
              "#0d0887"
             ],
             [
              0.1111111111111111,
              "#46039f"
             ],
             [
              0.2222222222222222,
              "#7201a8"
             ],
             [
              0.3333333333333333,
              "#9c179e"
             ],
             [
              0.4444444444444444,
              "#bd3786"
             ],
             [
              0.5555555555555556,
              "#d8576b"
             ],
             [
              0.6666666666666666,
              "#ed7953"
             ],
             [
              0.7777777777777778,
              "#fb9f3a"
             ],
             [
              0.8888888888888888,
              "#fdca26"
             ],
             [
              1,
              "#f0f921"
             ]
            ],
            "type": "heatmapgl"
           }
          ],
          "histogram": [
           {
            "marker": {
             "pattern": {
              "fillmode": "overlay",
              "size": 10,
              "solidity": 0.2
             }
            },
            "type": "histogram"
           }
          ],
          "histogram2d": [
           {
            "colorbar": {
             "outlinewidth": 0,
             "ticks": ""
            },
            "colorscale": [
             [
              0,
              "#0d0887"
             ],
             [
              0.1111111111111111,
              "#46039f"
             ],
             [
              0.2222222222222222,
              "#7201a8"
             ],
             [
              0.3333333333333333,
              "#9c179e"
             ],
             [
              0.4444444444444444,
              "#bd3786"
             ],
             [
              0.5555555555555556,
              "#d8576b"
             ],
             [
              0.6666666666666666,
              "#ed7953"
             ],
             [
              0.7777777777777778,
              "#fb9f3a"
             ],
             [
              0.8888888888888888,
              "#fdca26"
             ],
             [
              1,
              "#f0f921"
             ]
            ],
            "type": "histogram2d"
           }
          ],
          "histogram2dcontour": [
           {
            "colorbar": {
             "outlinewidth": 0,
             "ticks": ""
            },
            "colorscale": [
             [
              0,
              "#0d0887"
             ],
             [
              0.1111111111111111,
              "#46039f"
             ],
             [
              0.2222222222222222,
              "#7201a8"
             ],
             [
              0.3333333333333333,
              "#9c179e"
             ],
             [
              0.4444444444444444,
              "#bd3786"
             ],
             [
              0.5555555555555556,
              "#d8576b"
             ],
             [
              0.6666666666666666,
              "#ed7953"
             ],
             [
              0.7777777777777778,
              "#fb9f3a"
             ],
             [
              0.8888888888888888,
              "#fdca26"
             ],
             [
              1,
              "#f0f921"
             ]
            ],
            "type": "histogram2dcontour"
           }
          ],
          "mesh3d": [
           {
            "colorbar": {
             "outlinewidth": 0,
             "ticks": ""
            },
            "type": "mesh3d"
           }
          ],
          "parcoords": [
           {
            "line": {
             "colorbar": {
              "outlinewidth": 0,
              "ticks": ""
             }
            },
            "type": "parcoords"
           }
          ],
          "pie": [
           {
            "automargin": true,
            "type": "pie"
           }
          ],
          "scatter": [
           {
            "fillpattern": {
             "fillmode": "overlay",
             "size": 10,
             "solidity": 0.2
            },
            "type": "scatter"
           }
          ],
          "scatter3d": [
           {
            "line": {
             "colorbar": {
              "outlinewidth": 0,
              "ticks": ""
             }
            },
            "marker": {
             "colorbar": {
              "outlinewidth": 0,
              "ticks": ""
             }
            },
            "type": "scatter3d"
           }
          ],
          "scattercarpet": [
           {
            "marker": {
             "colorbar": {
              "outlinewidth": 0,
              "ticks": ""
             }
            },
            "type": "scattercarpet"
           }
          ],
          "scattergeo": [
           {
            "marker": {
             "colorbar": {
              "outlinewidth": 0,
              "ticks": ""
             }
            },
            "type": "scattergeo"
           }
          ],
          "scattergl": [
           {
            "marker": {
             "colorbar": {
              "outlinewidth": 0,
              "ticks": ""
             }
            },
            "type": "scattergl"
           }
          ],
          "scattermapbox": [
           {
            "marker": {
             "colorbar": {
              "outlinewidth": 0,
              "ticks": ""
             }
            },
            "type": "scattermapbox"
           }
          ],
          "scatterpolar": [
           {
            "marker": {
             "colorbar": {
              "outlinewidth": 0,
              "ticks": ""
             }
            },
            "type": "scatterpolar"
           }
          ],
          "scatterpolargl": [
           {
            "marker": {
             "colorbar": {
              "outlinewidth": 0,
              "ticks": ""
             }
            },
            "type": "scatterpolargl"
           }
          ],
          "scatterternary": [
           {
            "marker": {
             "colorbar": {
              "outlinewidth": 0,
              "ticks": ""
             }
            },
            "type": "scatterternary"
           }
          ],
          "surface": [
           {
            "colorbar": {
             "outlinewidth": 0,
             "ticks": ""
            },
            "colorscale": [
             [
              0,
              "#0d0887"
             ],
             [
              0.1111111111111111,
              "#46039f"
             ],
             [
              0.2222222222222222,
              "#7201a8"
             ],
             [
              0.3333333333333333,
              "#9c179e"
             ],
             [
              0.4444444444444444,
              "#bd3786"
             ],
             [
              0.5555555555555556,
              "#d8576b"
             ],
             [
              0.6666666666666666,
              "#ed7953"
             ],
             [
              0.7777777777777778,
              "#fb9f3a"
             ],
             [
              0.8888888888888888,
              "#fdca26"
             ],
             [
              1,
              "#f0f921"
             ]
            ],
            "type": "surface"
           }
          ],
          "table": [
           {
            "cells": {
             "fill": {
              "color": "#EBF0F8"
             },
             "line": {
              "color": "white"
             }
            },
            "header": {
             "fill": {
              "color": "#C8D4E3"
             },
             "line": {
              "color": "white"
             }
            },
            "type": "table"
           }
          ]
         },
         "layout": {
          "annotationdefaults": {
           "arrowcolor": "#2a3f5f",
           "arrowhead": 0,
           "arrowwidth": 1
          },
          "autotypenumbers": "strict",
          "coloraxis": {
           "colorbar": {
            "outlinewidth": 0,
            "ticks": ""
           }
          },
          "colorscale": {
           "diverging": [
            [
             0,
             "#8e0152"
            ],
            [
             0.1,
             "#c51b7d"
            ],
            [
             0.2,
             "#de77ae"
            ],
            [
             0.3,
             "#f1b6da"
            ],
            [
             0.4,
             "#fde0ef"
            ],
            [
             0.5,
             "#f7f7f7"
            ],
            [
             0.6,
             "#e6f5d0"
            ],
            [
             0.7,
             "#b8e186"
            ],
            [
             0.8,
             "#7fbc41"
            ],
            [
             0.9,
             "#4d9221"
            ],
            [
             1,
             "#276419"
            ]
           ],
           "sequential": [
            [
             0,
             "#0d0887"
            ],
            [
             0.1111111111111111,
             "#46039f"
            ],
            [
             0.2222222222222222,
             "#7201a8"
            ],
            [
             0.3333333333333333,
             "#9c179e"
            ],
            [
             0.4444444444444444,
             "#bd3786"
            ],
            [
             0.5555555555555556,
             "#d8576b"
            ],
            [
             0.6666666666666666,
             "#ed7953"
            ],
            [
             0.7777777777777778,
             "#fb9f3a"
            ],
            [
             0.8888888888888888,
             "#fdca26"
            ],
            [
             1,
             "#f0f921"
            ]
           ],
           "sequentialminus": [
            [
             0,
             "#0d0887"
            ],
            [
             0.1111111111111111,
             "#46039f"
            ],
            [
             0.2222222222222222,
             "#7201a8"
            ],
            [
             0.3333333333333333,
             "#9c179e"
            ],
            [
             0.4444444444444444,
             "#bd3786"
            ],
            [
             0.5555555555555556,
             "#d8576b"
            ],
            [
             0.6666666666666666,
             "#ed7953"
            ],
            [
             0.7777777777777778,
             "#fb9f3a"
            ],
            [
             0.8888888888888888,
             "#fdca26"
            ],
            [
             1,
             "#f0f921"
            ]
           ]
          },
          "colorway": [
           "#636efa",
           "#EF553B",
           "#00cc96",
           "#ab63fa",
           "#FFA15A",
           "#19d3f3",
           "#FF6692",
           "#B6E880",
           "#FF97FF",
           "#FECB52"
          ],
          "font": {
           "color": "#2a3f5f"
          },
          "geo": {
           "bgcolor": "white",
           "lakecolor": "white",
           "landcolor": "#E5ECF6",
           "showlakes": true,
           "showland": true,
           "subunitcolor": "white"
          },
          "hoverlabel": {
           "align": "left"
          },
          "hovermode": "closest",
          "mapbox": {
           "style": "light"
          },
          "paper_bgcolor": "white",
          "plot_bgcolor": "#E5ECF6",
          "polar": {
           "angularaxis": {
            "gridcolor": "white",
            "linecolor": "white",
            "ticks": ""
           },
           "bgcolor": "#E5ECF6",
           "radialaxis": {
            "gridcolor": "white",
            "linecolor": "white",
            "ticks": ""
           }
          },
          "scene": {
           "xaxis": {
            "backgroundcolor": "#E5ECF6",
            "gridcolor": "white",
            "gridwidth": 2,
            "linecolor": "white",
            "showbackground": true,
            "ticks": "",
            "zerolinecolor": "white"
           },
           "yaxis": {
            "backgroundcolor": "#E5ECF6",
            "gridcolor": "white",
            "gridwidth": 2,
            "linecolor": "white",
            "showbackground": true,
            "ticks": "",
            "zerolinecolor": "white"
           },
           "zaxis": {
            "backgroundcolor": "#E5ECF6",
            "gridcolor": "white",
            "gridwidth": 2,
            "linecolor": "white",
            "showbackground": true,
            "ticks": "",
            "zerolinecolor": "white"
           }
          },
          "shapedefaults": {
           "line": {
            "color": "#2a3f5f"
           }
          },
          "ternary": {
           "aaxis": {
            "gridcolor": "white",
            "linecolor": "white",
            "ticks": ""
           },
           "baxis": {
            "gridcolor": "white",
            "linecolor": "white",
            "ticks": ""
           },
           "bgcolor": "#E5ECF6",
           "caxis": {
            "gridcolor": "white",
            "linecolor": "white",
            "ticks": ""
           }
          },
          "title": {
           "x": 0.05
          },
          "xaxis": {
           "automargin": true,
           "gridcolor": "white",
           "linecolor": "white",
           "ticks": "",
           "title": {
            "standoff": 15
           },
           "zerolinecolor": "white",
           "zerolinewidth": 2
          },
          "yaxis": {
           "automargin": true,
           "gridcolor": "white",
           "linecolor": "white",
           "ticks": "",
           "title": {
            "standoff": 15
           },
           "zerolinecolor": "white",
           "zerolinewidth": 2
          }
         }
        },
        "title": {
         "text": "Weight"
        },
        "xaxis": {
         "anchor": "y",
         "domain": [
          0,
          1
         ],
         "title": {
          "text": "Mean of Flights 4 to 6"
         }
        },
        "yaxis": {
         "anchor": "x",
         "domain": [
          0,
          1
         ],
         "title": {
          "text": "Mean of Flights 1 to 3"
         }
        }
       }
      }
     },
     "metadata": {},
     "output_type": "display_data"
    },
    {
     "data": {
      "application/vnd.plotly.v1+json": {
       "config": {
        "plotlyServerURL": "https://plot.ly"
       },
       "data": [
        {
         "hovertemplate": "Male_Female=Male<br>Mean of Flights 4 to 6=%{x}<br>Mean of Flights 1 to 3=%{y}<extra></extra>",
         "legendgroup": "Male",
         "marker": {
          "color": "#636efa",
          "symbol": "circle"
         },
         "mode": "markers",
         "name": "Male",
         "orientation": "v",
         "showlegend": true,
         "type": "scatter",
         "x": [
          27.833333333333332,
          80.33,
          74.95333333333333,
          69.41000000000001,
          24.313333333333333,
          68.09,
          46.50333333333333,
          51.81666666666666,
          25.853333333333335,
          25.486666666666665,
          76.44,
          49.833333333333336,
          47.86333333333334,
          21.58,
          23.099999999999998,
          72.38,
          73.05333333333333,
          70.01,
          42.57333333333333,
          46.50666666666666,
          50.32333333333333,
          48.74,
          66.62333333333333,
          46.70333333333334,
          68.89333333333333,
          41.74333333333333,
          45.13999999999999,
          66.21333333333334,
          43.373333333333335,
          76.91666666666667,
          77.44666666666667,
          75.69666666666667,
          23.689999999999998,
          22.093333333333334,
          22.496666666666666,
          41.983333333333334,
          77.76,
          53.54333333333333,
          78.51666666666667,
          75.26333333333334,
          45.36000000000001,
          71.87,
          48.43333333333334,
          67.64999999999999,
          69.63666666666666,
          43.95333333333334,
          65.26,
          65.35666666666667,
          40.53,
          42.406666666666666,
          60.29666666666666,
          24.653333333333332,
          22.536666666666665,
          59.88999999999999,
          38.696666666666665,
          79.20333333333333,
          49.54,
          51.99,
          76.55999999999999,
          76.81333333333333,
          25.046666666666667,
          51.89333333333334,
          71.49333333333334,
          47.53,
          67.23666666666668,
          68.39333333333333,
          43.79666666666666,
          65.42333333333333,
          78.11666666666667,
          46.52,
          70.37666666666667,
          23.543333333333333,
          40.443333333333335,
          64.53,
          61.343333333333334,
          56.54333333333333,
          56.45666666666667,
          54.46,
          79.14666666666666,
          52.06,
          78.53000000000002,
          25.513333333333335,
          72.16333333333334,
          71.59000000000002,
          24.28,
          73.19,
          46.59333333333333,
          72.65666666666668,
          47.176666666666655,
          23.253333333333334,
          66.42666666666666,
          43.14666666666667,
          52.343333333333334,
          81.05666666666666,
          25.496666666666666,
          51.1,
          73.25,
          25.24,
          72.02,
          23.55666666666667,
          67.89333333333333,
          21.373333333333335,
          22.786666666666665,
          24.069999999999997,
          20.97,
          17.29,
          15.656666666666666,
          13.893333333333333,
          79.98,
          26.326666666666668,
          74.07,
          72.95666666666666,
          23.349999999999998,
          46.89666666666667,
          23.186666666666667,
          26.569999999999997,
          76.38333333333334,
          64.66666666666667,
          43.76666666666667,
          41.580000000000005,
          60.1,
          55.803333333333335,
          18.849999999999998,
          15.69,
          50.03333333333334,
          70.69333333333333,
          22.333333333333332,
          55.70666666666667,
          55.70666666666667,
          16.8,
          28.376666666666665,
          13,
          75.25999999999999,
          71.95,
          74.84,
          47.586666666666666,
          69.67666666666666,
          46.083333333333336,
          43.576666666666675,
          62.92333333333334,
          78.61333333333333,
          75.34666666666668,
          45.45666666666667,
          49.57333333333333,
          71.57666666666667,
          46.449999999999996,
          44.47666666666667,
          63.56666666666666,
          50.76333333333334,
          77.97666666666667,
          50.02333333333333,
          49.129999999999995,
          50.73,
          75.22000000000001,
          45.553333333333335,
          53.73,
          75.78,
          26.55666666666667,
          50.88666666666666,
          46.35999999999999,
          24.05,
          66.87666666666667,
          52.59666666666667,
          72.08333333333333,
          72.02,
          47.54,
          23.146666666666665,
          40.94,
          38.376666666666665,
          50.873333333333335,
          47.43666666666667,
          75.97333333333334,
          51.446666666666665,
          72.14333333333333,
          23.77,
          22.343333333333334,
          69.14666666666666,
          68.64,
          47.78666666666667,
          50.32666666666666,
          74.61666666666666,
          50.22666666666667,
          26.016666666666666,
          77.72666666666667,
          52.800000000000004,
          51.199999999999996,
          73.35000000000001,
          48.31,
          47.336666666666666,
          65.65666666666665,
          73.76333333333334,
          77.21,
          49.52333333333333,
          72.18,
          74.34666666666666,
          68.62333333333333,
          45.830000000000005,
          68.12333333333333,
          62.31666666666666,
          72.60000000000001,
          47.26333333333334,
          25.03333333333333,
          47.06333333333333,
          46.64666666666667,
          70.55333333333334,
          22.006666666666664,
          23.03
         ],
         "xaxis": "x",
         "y": [
          75.96666666666667,
          51.25999999999999,
          74.92,
          73.74,
          74.81666666666666,
          70.71333333333332,
          71.25,
          50.85333333333333,
          51.669999999999995,
          76.11333333333333,
          76.33333333333333,
          76.38333333333333,
          74.15333333333332,
          47.39333333333334,
          66.45666666666668,
          72.91666666666667,
          71.93666666666667,
          69.33999999999999,
          46.72666666666667,
          67.22333333333333,
          51.46333333333333,
          25.69333333333333,
          71.16666666666667,
          46.843333333333334,
          44.79999999999999,
          65.57666666666667,
          22.706666666666667,
          21.58666666666667,
          21.97666666666667,
          23.396666666666665,
          48.913333333333334,
          48.54999999999999,
          71.29,
          46.01,
          44.06333333333333,
          43.26,
          73,
          76.47666666666667,
          49.02,
          72.77999999999999,
          71.92333333333333,
          73.73,
          47.653333333333336,
          24.51,
          44.29,
          67.91,
          41.14,
          41.79,
          20.80666666666667,
          61.03666666666667,
          61.473333333333336,
          75.07333333333334,
          65.78,
          38.95333333333333,
          56.69333333333333,
          74.57666666666667,
          79.7,
          75.49333333333334,
          77.65666666666667,
          74.38333333333333,
          75.43666666666667,
          74.49,
          45.776666666666664,
          67.90999999999998,
          44.126666666666665,
          45.54666666666666,
          66.00333333333333,
          66.18333333333334,
          74.43333333333334,
          49.080000000000005,
          47.99333333333334,
          20.400000000000002,
          42.98333333333333,
          41.22,
          39.32,
          37.75333333333333,
          16.913333333333334,
          17.78,
          54.199999999999996,
          50.1,
          76.59666666666668,
          51.14333333333334,
          74.12666666666667,
          48.376666666666665,
          48.92666666666667,
          67.32333333333334,
          48.21,
          69.43333333333334,
          70.57,
          0,
          64.17666666666668,
          42.75,
          49.65333333333333,
          78.06666666666666,
          51.44,
          48.526666666666664,
          75.45,
          49.370000000000005,
          23.016666666666666,
          47.84666666666667,
          47.39000000000001,
          41.73666666666667,
          48.163333333333334,
          45.88666666666666,
          62.70333333333334,
          32.166666666666664,
          42.75,
          41.22666666666667,
          76.39,
          52.089999999999996,
          71.65666666666667,
          48.09666666666667,
          70.26666666666667,
          23.203333333333333,
          68.72333333333334,
          52.169999999999995,
          50.57333333333333,
          21.886666666666667,
          43.76666666666667,
          60.26666666666667,
          41.23,
          58.336666666666666,
          38.553333333333335,
          51.52333333333333,
          74.37,
          66.62333333333333,
          69.74666666666667,
          36.48666666666667,
          36.48666666666667,
          48.82333333333333,
          42.72,
          12.883333333333333,
          75.91666666666667,
          47.24333333333334,
          74.80666666666667,
          70.58999999999999,
          22.53,
          45.95333333333334,
          67.96666666666667,
          43.23333333333333,
          70.05666666666667,
          74.78333333333335,
          74.03666666666668,
          45.583333333333336,
          23.463333333333335,
          65.53666666666668,
          67.22666666666667,
          63.03666666666667,
          47.81666666666666,
          50.76666666666667,
          52.120000000000005,
          73.74666666666667,
          46.373333333333335,
          50.089999999999996,
          22.243333333333336,
          75.58999999999999,
          51.846666666666664,
          50.906666666666666,
          76.04,
          45.20333333333334,
          68.64666666666666,
          67.69,
          75.13333333333333,
          73.81,
          73.19,
          47.04333333333333,
          40.31,
          40.07,
          58.39000000000001,
          72.55666666666666,
          76.62333333333333,
          73.90333333333332,
          49.223333333333336,
          70.76666666666667,
          46.68,
          22.816666666666666,
          46.85333333333333,
          70.84333333333335,
          48.10666666666666,
          48.669999999999995,
          76.04333333333334,
          73.94,
          78.83333333333333,
          48.78,
          76.58666666666666,
          71.78666666666665,
          74.09,
          69.27,
          69.94666666666666,
          62.083333333333336,
          50.526666666666664,
          75.54333333333334,
          50.86666666666667,
          46.11666666666667,
          48.596666666666664,
          70.10333333333334,
          46.406666666666666,
          43.47,
          60.913333333333334,
          74.10333333333334,
          72.91666666666667,
          71.06666666666666,
          66.96333333333332,
          70.50666666666666,
          69.87666666666668,
          67.74333333333333,
          68.83333333333333
         ],
         "yaxis": "y"
        },
        {
         "hovertemplate": "Male_Female=Female<br>Mean of Flights 4 to 6=%{x}<br>Mean of Flights 1 to 3=%{y}<extra></extra>",
         "legendgroup": "Female",
         "marker": {
          "color": "#EF553B",
          "symbol": "circle"
         },
         "mode": "markers",
         "name": "Female",
         "orientation": "v",
         "showlegend": true,
         "type": "scatter",
         "x": [
          56.81666666666666,
          55.68666666666667,
          53.77333333333333,
          54.20666666666667,
          34.39,
          33.89666666666667,
          16.266666666666666,
          47.63999999999999,
          60.620000000000005,
          20.173333333333336,
          37.79666666666667,
          56.20333333333334,
          34.85333333333333,
          19.06,
          18.81,
          17.330000000000002,
          36.63,
          50.916666666666664,
          32.776666666666664,
          33.39333333333334,
          43.68000000000001,
          45.64666666666667,
          35.35,
          18.776666666666667,
          36.50666666666667,
          33.51666666666667,
          53.13666666666666,
          50.673333333333325,
          16.48,
          33.52,
          48.56,
          31.99,
          32.483333333333334,
          47.35999999999999,
          53.73,
          53.43333333333334,
          30.55333333333333,
          48.4,
          33.300000000000004,
          32.85333333333333,
          49.88666666666666,
          16.506666666666668,
          32.126666666666665,
          39.696666666666665,
          18.84,
          55.01666666666667,
          33.89666666666667,
          51.93666666666667,
          34.25333333333333,
          50.343333333333334,
          48.949999999999996,
          31.52,
          31.573333333333334,
          45.199999999999996,
          36.92333333333334,
          33.39666666666667,
          44.18333333333334,
          13.733333333333334,
          26.756666666666664,
          11.173333333333334,
          30.27,
          10.27,
          56.70666666666667,
          54.123333333333335,
          16.216666666666665,
          33.1,
          48.50333333333333,
          47.383333333333326,
          37.24,
          17.143333333333334,
          32.46666666666667,
          31.23,
          14.950000000000001,
          47.22,
          16.023333333333333,
          15.316666666666668,
          14.436666666666667,
          44.419999999999995,
          39.65,
          18.849999999999998,
          36.51,
          37.32333333333333,
          54.69333333333333,
          18.386666666666667,
          52.856666666666676,
          34.81333333333333,
          51.11666666666667,
          33.49,
          15.683333333333332,
          29.903333333333336,
          32.68666666666667,
          25.87,
          37.43,
          54.71666666666667,
          53.48666666666667,
          16.05333333333333,
          33.080000000000005,
          32.86333333333334,
          15.030000000000001,
          33.67333333333334,
          28.133333333333336,
          16.703333333333333,
          16.400000000000002,
          15.173333333333334,
          10.969999999999999,
          8.61,
          41.95666666666667,
          40.91,
          19.05333333333333,
          57.053333333333335,
          19.266666666666666,
          18.256666666666668,
          32.27666666666667,
          16.88,
          54.529999999999994,
          35.70666666666667,
          50.77,
          49.169999999999995,
          29.616666666666664,
          10.566666666666666,
          18.75,
          36.45333333333333,
          50.25666666666667,
          33.28,
          14.780000000000001,
          38.07666666666666,
          18.53,
          34.699999999999996,
          50.31,
          33.556666666666665,
          33.126666666666665,
          33.446666666666665,
          59.1,
          18.213333333333335,
          19.3,
          36.943333333333335,
          54.75333333333333,
          16.776666666666667,
          33.93666666666667,
          46.77,
          29.723333333333333,
          30.106666666666666,
          39.76333333333333,
          53.64333333333334,
          47.903333333333336,
          30.02333333333333,
          45.47333333333333,
          42.443333333333335,
          60.29666666666666,
          56.056666666666665,
          52.60333333333333,
          49.28333333333334,
          31.790000000000003,
          16.41,
          44.72333333333333,
          34.61333333333334,
          32.53,
          49.48666666666666,
          34.02333333333333,
          49.04333333333333,
          30.706666666666667,
          54.17333333333334,
          51.03333333333334,
          30.26,
          48.51,
          47.830000000000005,
          31.909999999999997,
          27.99,
          15.203333333333333,
          41.34666666666667,
          58.30666666666667,
          35.31,
          37.050000000000004,
          16.863333333333333,
          34.75333333333333,
          51.22666666666667,
          49.01666666666667,
          31.626666666666665
         ],
         "xaxis": "x",
         "y": [
          54.18000000000001,
          52.46666666666666,
          34.080000000000005,
          32.96333333333333,
          49.580000000000005,
          33.54333333333333,
          34.64333333333334,
          46.836666666666666,
          59.626666666666665,
          59.01333333333334,
          36.17333333333334,
          55.99666666666667,
          53.67666666666667,
          56.669999999999995,
          51.89333333333334,
          36.24,
          36.25666666666667,
          17.416666666666668,
          33.873333333333335,
          30.723333333333333,
          45.583333333333336,
          41.68666666666667,
          56.78,
          39.050000000000004,
          37.79333333333333,
          52.98,
          51.910000000000004,
          31.92,
          34.10666666666666,
          50.79333333333333,
          29.563333333333333,
          46.71666666666667,
          29.463333333333335,
          32.43,
          33.67666666666667,
          53.18666666666667,
          34.81333333333333,
          33.516666666666666,
          32.11,
          50.099999999999994,
          15.776666666666666,
          46.60333333333333,
          0,
          15.586666666666666,
          57.406666666666666,
          35.02333333333333,
          18.57,
          52.03666666666667,
          49.080000000000005,
          16.563333333333333,
          16.926666666666666,
          48.423333333333325,
          29.94333333333333,
          14.886666666666665,
          52.593333333333334,
          34.653333333333336,
          25.586666666666662,
          26.72333333333333,
          37.04,
          23.296666666666667,
          11.58,
          10.286666666666667,
          57.72,
          35.37,
          53.06666666666666,
          51.05666666666667,
          31.30666666666667,
          45.68000000000001,
          36.973333333333336,
          35.346666666666664,
          32.07666666666667,
          48.13333333333333,
          29.44333333333333,
          31.146666666666665,
          28.873333333333335,
          30.580000000000002,
          15.363333333333335,
          41.96333333333333,
          56.376666666666665,
          59.056666666666665,
          37.52,
          36.22666666666667,
          36.87,
          36.35,
          51.15,
          50.98,
          35.906666666666666,
          51.64333333333334,
          51.04333333333333,
          47.693333333333335,
          48.68666666666667,
          42.68000000000001,
          39.03,
          56.24,
          52.443333333333335,
          52.85,
          31.356666666666666,
          32.766666666666666,
          32.916666666666664,
          49.903333333333336,
          28.483333333333334,
          32.24666666666666,
          31.48,
          45.57,
          21.320000000000004,
          22.03,
          42.10666666666666,
          40.72,
          37.14,
          38.82666666666666,
          57.31666666666666,
          54.379999999999995,
          18.753333333333334,
          50.153333333333336,
          35.64333333333334,
          54.37,
          49.373333333333335,
          31.070000000000004,
          42.74333333333334,
          20.983333333333334,
          56.29666666666666,
          37.49,
          48.69,
          32.24666666666667,
          15.46,
          38.78,
          36.18333333333333,
          16.900000000000002,
          16.836666666666666,
          16.16,
          46.99666666666667,
          48.28333333333334,
          38.72666666666667,
          19.396666666666665,
          18.883333333333333,
          18.74,
          17.973333333333333,
          50.02333333333333,
          16.94,
          47.35,
          43.343333333333334,
          14.92,
          39.28333333333333,
          16.996666666666666,
          31.593333333333334,
          47.70333333333334,
          14.159999999999998,
          27.349999999999998,
          60.54999999999999,
          55.38999999999999,
          53.63666666666666,
          50.45333333333334,
          50.68666666666667,
          48.72666666666667,
          46.86333333333334,
          17.80666666666667,
          33.86,
          32.656666666666666,
          33.553333333333335,
          15.866666666666667,
          29.423333333333336,
          36.306666666666665,
          51.16,
          48.343333333333334,
          46.68666666666667,
          43.19,
          32.51333333333333,
          47.68666666666667,
          47.94,
          42.76333333333333,
          55.099999999999994,
          36.97666666666667,
          52.61333333333334,
          51.70000000000001,
          35.27333333333333,
          48.13999999999999,
          32.70333333333333,
          33.07
         ],
         "yaxis": "y"
        }
       ],
       "layout": {
        "legend": {
         "title": {
          "text": "Male_Female"
         },
         "tracegroupgap": 0
        },
        "template": {
         "data": {
          "bar": [
           {
            "error_x": {
             "color": "#2a3f5f"
            },
            "error_y": {
             "color": "#2a3f5f"
            },
            "marker": {
             "line": {
              "color": "#E5ECF6",
              "width": 0.5
             },
             "pattern": {
              "fillmode": "overlay",
              "size": 10,
              "solidity": 0.2
             }
            },
            "type": "bar"
           }
          ],
          "barpolar": [
           {
            "marker": {
             "line": {
              "color": "#E5ECF6",
              "width": 0.5
             },
             "pattern": {
              "fillmode": "overlay",
              "size": 10,
              "solidity": 0.2
             }
            },
            "type": "barpolar"
           }
          ],
          "carpet": [
           {
            "aaxis": {
             "endlinecolor": "#2a3f5f",
             "gridcolor": "white",
             "linecolor": "white",
             "minorgridcolor": "white",
             "startlinecolor": "#2a3f5f"
            },
            "baxis": {
             "endlinecolor": "#2a3f5f",
             "gridcolor": "white",
             "linecolor": "white",
             "minorgridcolor": "white",
             "startlinecolor": "#2a3f5f"
            },
            "type": "carpet"
           }
          ],
          "choropleth": [
           {
            "colorbar": {
             "outlinewidth": 0,
             "ticks": ""
            },
            "type": "choropleth"
           }
          ],
          "contour": [
           {
            "colorbar": {
             "outlinewidth": 0,
             "ticks": ""
            },
            "colorscale": [
             [
              0,
              "#0d0887"
             ],
             [
              0.1111111111111111,
              "#46039f"
             ],
             [
              0.2222222222222222,
              "#7201a8"
             ],
             [
              0.3333333333333333,
              "#9c179e"
             ],
             [
              0.4444444444444444,
              "#bd3786"
             ],
             [
              0.5555555555555556,
              "#d8576b"
             ],
             [
              0.6666666666666666,
              "#ed7953"
             ],
             [
              0.7777777777777778,
              "#fb9f3a"
             ],
             [
              0.8888888888888888,
              "#fdca26"
             ],
             [
              1,
              "#f0f921"
             ]
            ],
            "type": "contour"
           }
          ],
          "contourcarpet": [
           {
            "colorbar": {
             "outlinewidth": 0,
             "ticks": ""
            },
            "type": "contourcarpet"
           }
          ],
          "heatmap": [
           {
            "colorbar": {
             "outlinewidth": 0,
             "ticks": ""
            },
            "colorscale": [
             [
              0,
              "#0d0887"
             ],
             [
              0.1111111111111111,
              "#46039f"
             ],
             [
              0.2222222222222222,
              "#7201a8"
             ],
             [
              0.3333333333333333,
              "#9c179e"
             ],
             [
              0.4444444444444444,
              "#bd3786"
             ],
             [
              0.5555555555555556,
              "#d8576b"
             ],
             [
              0.6666666666666666,
              "#ed7953"
             ],
             [
              0.7777777777777778,
              "#fb9f3a"
             ],
             [
              0.8888888888888888,
              "#fdca26"
             ],
             [
              1,
              "#f0f921"
             ]
            ],
            "type": "heatmap"
           }
          ],
          "heatmapgl": [
           {
            "colorbar": {
             "outlinewidth": 0,
             "ticks": ""
            },
            "colorscale": [
             [
              0,
              "#0d0887"
             ],
             [
              0.1111111111111111,
              "#46039f"
             ],
             [
              0.2222222222222222,
              "#7201a8"
             ],
             [
              0.3333333333333333,
              "#9c179e"
             ],
             [
              0.4444444444444444,
              "#bd3786"
             ],
             [
              0.5555555555555556,
              "#d8576b"
             ],
             [
              0.6666666666666666,
              "#ed7953"
             ],
             [
              0.7777777777777778,
              "#fb9f3a"
             ],
             [
              0.8888888888888888,
              "#fdca26"
             ],
             [
              1,
              "#f0f921"
             ]
            ],
            "type": "heatmapgl"
           }
          ],
          "histogram": [
           {
            "marker": {
             "pattern": {
              "fillmode": "overlay",
              "size": 10,
              "solidity": 0.2
             }
            },
            "type": "histogram"
           }
          ],
          "histogram2d": [
           {
            "colorbar": {
             "outlinewidth": 0,
             "ticks": ""
            },
            "colorscale": [
             [
              0,
              "#0d0887"
             ],
             [
              0.1111111111111111,
              "#46039f"
             ],
             [
              0.2222222222222222,
              "#7201a8"
             ],
             [
              0.3333333333333333,
              "#9c179e"
             ],
             [
              0.4444444444444444,
              "#bd3786"
             ],
             [
              0.5555555555555556,
              "#d8576b"
             ],
             [
              0.6666666666666666,
              "#ed7953"
             ],
             [
              0.7777777777777778,
              "#fb9f3a"
             ],
             [
              0.8888888888888888,
              "#fdca26"
             ],
             [
              1,
              "#f0f921"
             ]
            ],
            "type": "histogram2d"
           }
          ],
          "histogram2dcontour": [
           {
            "colorbar": {
             "outlinewidth": 0,
             "ticks": ""
            },
            "colorscale": [
             [
              0,
              "#0d0887"
             ],
             [
              0.1111111111111111,
              "#46039f"
             ],
             [
              0.2222222222222222,
              "#7201a8"
             ],
             [
              0.3333333333333333,
              "#9c179e"
             ],
             [
              0.4444444444444444,
              "#bd3786"
             ],
             [
              0.5555555555555556,
              "#d8576b"
             ],
             [
              0.6666666666666666,
              "#ed7953"
             ],
             [
              0.7777777777777778,
              "#fb9f3a"
             ],
             [
              0.8888888888888888,
              "#fdca26"
             ],
             [
              1,
              "#f0f921"
             ]
            ],
            "type": "histogram2dcontour"
           }
          ],
          "mesh3d": [
           {
            "colorbar": {
             "outlinewidth": 0,
             "ticks": ""
            },
            "type": "mesh3d"
           }
          ],
          "parcoords": [
           {
            "line": {
             "colorbar": {
              "outlinewidth": 0,
              "ticks": ""
             }
            },
            "type": "parcoords"
           }
          ],
          "pie": [
           {
            "automargin": true,
            "type": "pie"
           }
          ],
          "scatter": [
           {
            "fillpattern": {
             "fillmode": "overlay",
             "size": 10,
             "solidity": 0.2
            },
            "type": "scatter"
           }
          ],
          "scatter3d": [
           {
            "line": {
             "colorbar": {
              "outlinewidth": 0,
              "ticks": ""
             }
            },
            "marker": {
             "colorbar": {
              "outlinewidth": 0,
              "ticks": ""
             }
            },
            "type": "scatter3d"
           }
          ],
          "scattercarpet": [
           {
            "marker": {
             "colorbar": {
              "outlinewidth": 0,
              "ticks": ""
             }
            },
            "type": "scattercarpet"
           }
          ],
          "scattergeo": [
           {
            "marker": {
             "colorbar": {
              "outlinewidth": 0,
              "ticks": ""
             }
            },
            "type": "scattergeo"
           }
          ],
          "scattergl": [
           {
            "marker": {
             "colorbar": {
              "outlinewidth": 0,
              "ticks": ""
             }
            },
            "type": "scattergl"
           }
          ],
          "scattermapbox": [
           {
            "marker": {
             "colorbar": {
              "outlinewidth": 0,
              "ticks": ""
             }
            },
            "type": "scattermapbox"
           }
          ],
          "scatterpolar": [
           {
            "marker": {
             "colorbar": {
              "outlinewidth": 0,
              "ticks": ""
             }
            },
            "type": "scatterpolar"
           }
          ],
          "scatterpolargl": [
           {
            "marker": {
             "colorbar": {
              "outlinewidth": 0,
              "ticks": ""
             }
            },
            "type": "scatterpolargl"
           }
          ],
          "scatterternary": [
           {
            "marker": {
             "colorbar": {
              "outlinewidth": 0,
              "ticks": ""
             }
            },
            "type": "scatterternary"
           }
          ],
          "surface": [
           {
            "colorbar": {
             "outlinewidth": 0,
             "ticks": ""
            },
            "colorscale": [
             [
              0,
              "#0d0887"
             ],
             [
              0.1111111111111111,
              "#46039f"
             ],
             [
              0.2222222222222222,
              "#7201a8"
             ],
             [
              0.3333333333333333,
              "#9c179e"
             ],
             [
              0.4444444444444444,
              "#bd3786"
             ],
             [
              0.5555555555555556,
              "#d8576b"
             ],
             [
              0.6666666666666666,
              "#ed7953"
             ],
             [
              0.7777777777777778,
              "#fb9f3a"
             ],
             [
              0.8888888888888888,
              "#fdca26"
             ],
             [
              1,
              "#f0f921"
             ]
            ],
            "type": "surface"
           }
          ],
          "table": [
           {
            "cells": {
             "fill": {
              "color": "#EBF0F8"
             },
             "line": {
              "color": "white"
             }
            },
            "header": {
             "fill": {
              "color": "#C8D4E3"
             },
             "line": {
              "color": "white"
             }
            },
            "type": "table"
           }
          ]
         },
         "layout": {
          "annotationdefaults": {
           "arrowcolor": "#2a3f5f",
           "arrowhead": 0,
           "arrowwidth": 1
          },
          "autotypenumbers": "strict",
          "coloraxis": {
           "colorbar": {
            "outlinewidth": 0,
            "ticks": ""
           }
          },
          "colorscale": {
           "diverging": [
            [
             0,
             "#8e0152"
            ],
            [
             0.1,
             "#c51b7d"
            ],
            [
             0.2,
             "#de77ae"
            ],
            [
             0.3,
             "#f1b6da"
            ],
            [
             0.4,
             "#fde0ef"
            ],
            [
             0.5,
             "#f7f7f7"
            ],
            [
             0.6,
             "#e6f5d0"
            ],
            [
             0.7,
             "#b8e186"
            ],
            [
             0.8,
             "#7fbc41"
            ],
            [
             0.9,
             "#4d9221"
            ],
            [
             1,
             "#276419"
            ]
           ],
           "sequential": [
            [
             0,
             "#0d0887"
            ],
            [
             0.1111111111111111,
             "#46039f"
            ],
            [
             0.2222222222222222,
             "#7201a8"
            ],
            [
             0.3333333333333333,
             "#9c179e"
            ],
            [
             0.4444444444444444,
             "#bd3786"
            ],
            [
             0.5555555555555556,
             "#d8576b"
            ],
            [
             0.6666666666666666,
             "#ed7953"
            ],
            [
             0.7777777777777778,
             "#fb9f3a"
            ],
            [
             0.8888888888888888,
             "#fdca26"
            ],
            [
             1,
             "#f0f921"
            ]
           ],
           "sequentialminus": [
            [
             0,
             "#0d0887"
            ],
            [
             0.1111111111111111,
             "#46039f"
            ],
            [
             0.2222222222222222,
             "#7201a8"
            ],
            [
             0.3333333333333333,
             "#9c179e"
            ],
            [
             0.4444444444444444,
             "#bd3786"
            ],
            [
             0.5555555555555556,
             "#d8576b"
            ],
            [
             0.6666666666666666,
             "#ed7953"
            ],
            [
             0.7777777777777778,
             "#fb9f3a"
            ],
            [
             0.8888888888888888,
             "#fdca26"
            ],
            [
             1,
             "#f0f921"
            ]
           ]
          },
          "colorway": [
           "#636efa",
           "#EF553B",
           "#00cc96",
           "#ab63fa",
           "#FFA15A",
           "#19d3f3",
           "#FF6692",
           "#B6E880",
           "#FF97FF",
           "#FECB52"
          ],
          "font": {
           "color": "#2a3f5f"
          },
          "geo": {
           "bgcolor": "white",
           "lakecolor": "white",
           "landcolor": "#E5ECF6",
           "showlakes": true,
           "showland": true,
           "subunitcolor": "white"
          },
          "hoverlabel": {
           "align": "left"
          },
          "hovermode": "closest",
          "mapbox": {
           "style": "light"
          },
          "paper_bgcolor": "white",
          "plot_bgcolor": "#E5ECF6",
          "polar": {
           "angularaxis": {
            "gridcolor": "white",
            "linecolor": "white",
            "ticks": ""
           },
           "bgcolor": "#E5ECF6",
           "radialaxis": {
            "gridcolor": "white",
            "linecolor": "white",
            "ticks": ""
           }
          },
          "scene": {
           "xaxis": {
            "backgroundcolor": "#E5ECF6",
            "gridcolor": "white",
            "gridwidth": 2,
            "linecolor": "white",
            "showbackground": true,
            "ticks": "",
            "zerolinecolor": "white"
           },
           "yaxis": {
            "backgroundcolor": "#E5ECF6",
            "gridcolor": "white",
            "gridwidth": 2,
            "linecolor": "white",
            "showbackground": true,
            "ticks": "",
            "zerolinecolor": "white"
           },
           "zaxis": {
            "backgroundcolor": "#E5ECF6",
            "gridcolor": "white",
            "gridwidth": 2,
            "linecolor": "white",
            "showbackground": true,
            "ticks": "",
            "zerolinecolor": "white"
           }
          },
          "shapedefaults": {
           "line": {
            "color": "#2a3f5f"
           }
          },
          "ternary": {
           "aaxis": {
            "gridcolor": "white",
            "linecolor": "white",
            "ticks": ""
           },
           "baxis": {
            "gridcolor": "white",
            "linecolor": "white",
            "ticks": ""
           },
           "bgcolor": "#E5ECF6",
           "caxis": {
            "gridcolor": "white",
            "linecolor": "white",
            "ticks": ""
           }
          },
          "title": {
           "x": 0.05
          },
          "xaxis": {
           "automargin": true,
           "gridcolor": "white",
           "linecolor": "white",
           "ticks": "",
           "title": {
            "standoff": 15
           },
           "zerolinecolor": "white",
           "zerolinewidth": 2
          },
          "yaxis": {
           "automargin": true,
           "gridcolor": "white",
           "linecolor": "white",
           "ticks": "",
           "title": {
            "standoff": 15
           },
           "zerolinecolor": "white",
           "zerolinewidth": 2
          }
         }
        },
        "title": {
         "text": "Javelin"
        },
        "xaxis": {
         "anchor": "y",
         "domain": [
          0,
          1
         ],
         "title": {
          "text": "Mean of Flights 4 to 6"
         }
        },
        "yaxis": {
         "anchor": "x",
         "domain": [
          0,
          1
         ],
         "title": {
          "text": "Mean of Flights 1 to 3"
         }
        }
       }
      }
     },
     "metadata": {},
     "output_type": "display_data"
    },
    {
     "data": {
      "application/vnd.plotly.v1+json": {
       "config": {
        "plotlyServerURL": "https://plot.ly"
       },
       "data": [
        {
         "hovertemplate": "Male_Female=Male<br>Mean of Flights 4 to 6=%{x}<br>Mean of Flights 1 to 3=%{y}<extra></extra>",
         "legendgroup": "Male",
         "marker": {
          "color": "#636efa",
          "symbol": "circle"
         },
         "mode": "markers",
         "name": "Male",
         "orientation": "v",
         "showlegend": true,
         "type": "scatter",
         "x": [
          39.39666666666667,
          39.35333333333333,
          41.00333333333333,
          19.18,
          20.01,
          19.49,
          39.166666666666664,
          38.74,
          20.44333333333333,
          38.26,
          19.593333333333334,
          38,
          20.153333333333332,
          59.96666666666667,
          18.993333333333332,
          39.903333333333336,
          38.623333333333335,
          36.67,
          36.42333333333334,
          35.00666666666667,
          34,
          50.49,
          16.736666666666668,
          15.066666666666668,
          27.94666666666667,
          62.23,
          20.56,
          38.64666666666667,
          59.050000000000004,
          39.13,
          18.80333333333333,
          56.64666666666667,
          36.6,
          36.39333333333334,
          34.21666666666667,
          17.733333333333334,
          35.02,
          39.79,
          57.336666666666666,
          18.753333333333334,
          36.52,
          18.403333333333332,
          18.34,
          31.150000000000002,
          45.01666666666667,
          40.88666666666666,
          20.47,
          59.43333333333334,
          39.73,
          38.95333333333333,
          19.94333333333333,
          19.37333333333333,
          18.813333333333333,
          20.403333333333332,
          60.46,
          59.416666666666664,
          38.14333333333334,
          18.586666666666666,
          18.963333333333335,
          15.913333333333334,
          14.566666666666668,
          40.38,
          40.94,
          20.62,
          20.19,
          20.150000000000002,
          38.36333333333334,
          36.833333333333336,
          17.650000000000002,
          16.599999999999998,
          16.919999999999998,
          16.793333333333333,
          21.156666666666666,
          40.73666666666667,
          59.21,
          40,
          52.89333333333334,
          17.266666666666666,
          17.78,
          32.69,
          19.91,
          19.616666666666667,
          39.31333333333333,
          56.52,
          19.543333333333333,
          51.54,
          17.246666666666666,
          16.849999999999998,
          21.71666666666667,
          41.27,
          41.406666666666666,
          40.596666666666664,
          40.42,
          60.06333333333333,
          19.77,
          39.22333333333333,
          62.93000000000001,
          40.06666666666667,
          19.953333333333333,
          38.42333333333333,
          19.69666666666667,
          56.6,
          38.11000000000001,
          29.22,
          62.93,
          62.333333333333336,
          59.336666666666666,
          58.04999999999999,
          56.336666666666666,
          18.936666666666667,
          18.913333333333334,
          36.76666666666667,
          17.926666666666666,
          19.79,
          19.44666666666667,
          18.38,
          17.393333333333334,
          16.546666666666667,
          13.376666666666667,
          13.24,
          42.01,
          40.306666666666665,
          41.72,
          39.973333333333336,
          19.846666666666668,
          40.52333333333333,
          59.74666666666667,
          57.18333333333334,
          37.78,
          57.04,
          58.74666666666667,
          19.080000000000002,
          34.26,
          49.89000000000001,
          61.99333333333334,
          57.300000000000004,
          19.18,
          18.963333333333335,
          18.87,
          29.386666666666667,
          12.433333333333332,
          11.943333333333333,
          65.06333333333332,
          43.59666666666667,
          41.25333333333333,
          61.67666666666667,
          61.02333333333333,
          57.953333333333326,
          38.373333333333335,
          21.12666666666667,
          59.73666666666667,
          20.486666666666668,
          39.800000000000004,
          57.14666666666667,
          39.23,
          37.623333333333335,
          37.873333333333335,
          41.85,
          61.11000000000001,
          40.10666666666666,
          20.473333333333333,
          19.223333333333333,
          41.07666666666666,
          38.60333333333333,
          58.46,
          17.523333333333333,
          36.06,
          17.836666666666666,
          52.75333333333333,
          17.826666666666664,
          16.353333333333335,
          41.803333333333335,
          39.403333333333336,
          39.156666666666666,
          39.20333333333333,
          37.199999999999996,
          66.73,
          59.63666666666666,
          61.413333333333334,
          19.746666666666666,
          58.626666666666665,
          55.23,
          17.169999999999998,
          62.42666666666668,
          40.126666666666665,
          58.94,
          19.776666666666667,
          19.87333333333333,
          56.833333333333336,
          18.56,
          17.94,
          57.03333333333333,
          38.406666666666666,
          39.95666666666667,
          20.166666666666668,
          60.29,
          41.14,
          40.00666666666667,
          37.419999999999995,
          30.883333333333336,
          17.669999999999998,
          13.846666666666666,
          34.03,
          31.606666666666666,
          50.71333333333333,
          47.99333333333334,
          34.26,
          65.19666666666667,
          65.53666666666668,
          65.87666666666668,
          66.21666666666667,
          66.55666666666667,
          66.89666666666666,
          67.23666666666666,
          67.57666666666667,
          67.91666666666667,
          62.423333333333325,
          21.173333333333336,
          19.24,
          38.13333333333333,
          18.73,
          16.94,
          17.093333333333334,
          41.72,
          20.016666666666666,
          40.06,
          22.87,
          65.87333333333333,
          43.86666666666667,
          42.29,
          62.19,
          20.366666666666667,
          18.97,
          40.73333333333333
         ],
         "xaxis": "x",
         "y": [
          39.973333333333336,
          61.06666666666666,
          37.276666666666664,
          59.803333333333335,
          59.196666666666665,
          59.626666666666665,
          38.26333333333333,
          38.20333333333333,
          40.93,
          39.98333333333333,
          40.31333333333333,
          39.74333333333333,
          39.96,
          58.673333333333325,
          57.31999999999999,
          59.25333333333333,
          38.276666666666664,
          18.69666666666667,
          35.36,
          34.88666666666666,
          34.04333333333333,
          16.646666666666665,
          16.63,
          45.74333333333334,
          15.003333333333332,
          41.29,
          60.57666666666666,
          58.413333333333334,
          39.916666666666664,
          56.666666666666664,
          38.236666666666665,
          37.376666666666665,
          18.523333333333333,
          35.26333333333333,
          34.800000000000004,
          34.46666666666667,
          16.82,
          55.77333333333333,
          19.606666666666666,
          17.99,
          53.446666666666665,
          35.73666666666667,
          15.306666666666667,
          47.03,
          30.659999999999997,
          20.603333333333335,
          0,
          19.349999999999998,
          0,
          59.01333333333333,
          58.79,
          19.506666666666668,
          37.11333333333334,
          61.60666666666666,
          39.669999999999995,
          19.12666666666667,
          18.71,
          19.103333333333335,
          18.473333333333333,
          0,
          46.74333333333333,
          42.82333333333333,
          40.620000000000005,
          40.95666666666667,
          40.696666666666665,
          38.76333333333333,
          58.70000000000001,
          56.03,
          16.336666666666666,
          17.25,
          33.89,
          33.26,
          41.15,
          59.376666666666665,
          57.03333333333334,
          60.903333333333336,
          51.65333333333333,
          35.656666666666666,
          17,
          0,
          40.306666666666665,
          40.343333333333334,
          39.24333333333333,
          38.419999999999995,
          58.196666666666665,
          34.336666666666666,
          31.676666666666666,
          0,
          64.24,
          20.419999999999998,
          61.65,
          40.35,
          19.733333333333334,
          60.376666666666665,
          38.04,
          19.55333333333333,
          41.07,
          38.13666666666666,
          37.23666666666667,
          38.29,
          57.17666666666667,
          18.816666666666666,
          56.13666666666666,
          29.323333333333334,
          41.81666666666666,
          58.953333333333326,
          39.5,
          58.9,
          56.419999999999995,
          0,
          37.31,
          35.85666666666666,
          54.89666666666667,
          59.85333333333333,
          39.050000000000004,
          56.43,
          54.413333333333334,
          50.10999999999999,
          27.366666666666664,
          26.626666666666665,
          42.583333333333336,
          61.64666666666667,
          61.70666666666667,
          21.22,
          40.46,
          20.316666666666666,
          39.57333333333333,
          39.47,
          39.34,
          57.73666666666667,
          56.95000000000001,
          57.76333333333334,
          35.45333333333333,
          49.79333333333333,
          41.31666666666666,
          55.64666666666667,
          18.32,
          34.14333333333334,
          18.12333333333333,
          43.31,
          8.24,
          22.646666666666665,
          42.4,
          65.29666666666667,
          41.846666666666664,
          59.97,
          20.983333333333334,
          19.343333333333334,
          38.85,
          59.92333333333334,
          58.5,
          19.93,
          38.693333333333335,
          38.53666666666667,
          39.28,
          19.093333333333334,
          55.21,
          62.70000000000001,
          41.083333333333336,
          39.343333333333334,
          39.803333333333335,
          38.846666666666664,
          61.173333333333325,
          59.406666666666666,
          37.53333333333333,
          36.79,
          54.839999999999996,
          18.236666666666668,
          53.056666666666665,
          0,
          49.57333333333333,
          41.82,
          40.70666666666667,
          40.63,
          59.26333333333334,
          38.080000000000005,
          40.14666666666667,
          61.32666666666666,
          40.25666666666667,
          58.586666666666666,
          56.63333333333333,
          37.13333333333333,
          0,
          40,
          42.13999999999999,
          61.49,
          60.553333333333335,
          19.11,
          56.19,
          37.85,
          52.76666666666667,
          56.92666666666667,
          58.02666666666667,
          62.1,
          38.050000000000004,
          59.69,
          61.56333333333333,
          39.00333333333333,
          56.36333333333334,
          42.699999999999996,
          52.73,
          15.683333333333332,
          33.85,
          34.23333333333333,
          33.16,
          15.756666666666668,
          31.076666666666664,
          39.77,
          40.13333333333333,
          20.74,
          40.236666666666665,
          41.153333333333336,
          38.60666666666666,
          38.72666666666667,
          38.43333333333334,
          37.88,
          62.85333333333333,
          19.41,
          38.76,
          37.53,
          37.76333333333333,
          17.503333333333334,
          17.136666666666667,
          19.8,
          40.96333333333333,
          39.46,
          64.05333333333334,
          21.756666666666664,
          43.923333333333325,
          62.669999999999995,
          60.196666666666665,
          60.54333333333333,
          59.35999999999999,
          19.976666666666667
         ],
         "yaxis": "y"
        },
        {
         "hovertemplate": "Male_Female=Female<br>Mean of Flights 4 to 6=%{x}<br>Mean of Flights 1 to 3=%{y}<extra></extra>",
         "legendgroup": "Female",
         "marker": {
          "color": "#EF553B",
          "symbol": "circle"
         },
         "mode": "markers",
         "name": "Female",
         "orientation": "v",
         "showlegend": true,
         "type": "scatter",
         "x": [
          19.983333333333334,
          60.55666666666667,
          57.836666666666666,
          19.276666666666667,
          56.379999999999995,
          18.103333333333335,
          18.683333333333334,
          43.20333333333334,
          39.906666666666666,
          57.623333333333335,
          19.453333333333333,
          37.50666666666667,
          38.07666666666667,
          38.10333333333333,
          16.246666666666666,
          51.29,
          50.623333333333335,
          49.169999999999995,
          15.719999999999999,
          32.123333333333335,
          46.03333333333333,
          39.28,
          55.60333333333333,
          38.946666666666665,
          35.25333333333334,
          54.46666666666667,
          51.346666666666664,
          34.016666666666666,
          17.26,
          16.656666666666666,
          16.69333333333333,
          32.85666666666666,
          47.9,
          31.486666666666668,
          14.94,
          39.27333333333333,
          58.09,
          18.80333333333333,
          17.75,
          36.28666666666667,
          52.830000000000005,
          53.60333333333333,
          17.39,
          33.61666666666667,
          16.34,
          47.61000000000001,
          15.263333333333334,
          18.04,
          18.19,
          34.449999999999996,
          34.21,
          16.94333333333333,
          49.85,
          30.26,
          14.523333333333333,
          20.563333333333333,
          58.43000000000001,
          38.24666666666667,
          19.156666666666666,
          54.52333333333333,
          36.23,
          60.126666666666665,
          58.79,
          59.660000000000004,
          53.653333333333336,
          36.72666666666667,
          36.916666666666664,
          17.896666666666665,
          35.70666666666667,
          17.263333333333332,
          34.25333333333333,
          17.253333333333334,
          39.723333333333336,
          58.71666666666667,
          37.79666666666667,
          37.830000000000005,
          55.58666666666667,
          18.669999999999998,
          18.473333333333333,
          34.98,
          52.38666666666666,
          35.54333333333333,
          17.12666666666667,
          17.176666666666666,
          34.47333333333333,
          17.476666666666667,
          30.399999999999995,
          44.68666666666667,
          19.02,
          59.31666666666667,
          37.07333333333333,
          38.27,
          19.54,
          55.54,
          37.589999999999996,
          17.543333333333333,
          36.916666666666664,
          52.300000000000004,
          52.73333333333333,
          16.79,
          33.53666666666667,
          38.343333333333334,
          55.04666666666666,
          17.99,
          34.56,
          28.933333333333337,
          42.94,
          27.906666666666666,
          21.72666666666667,
          40.71,
          39.25666666666667,
          19.176666666666666,
          38.97,
          38.410000000000004,
          37.46333333333333,
          18.136666666666667,
          58.11000000000001,
          55.97666666666667,
          37.64666666666667,
          37.06,
          36.31333333333333,
          16.78,
          17.39,
          17.19333333333333,
          46.23666666666666,
          19.683333333333334,
          37.54,
          17.413333333333334,
          36.666666666666664,
          18.69666666666667,
          37.07,
          53.96,
          34.77333333333333,
          32.593333333333334,
          17.223333333333333,
          31.12,
          30.2,
          19.536666666666665,
          17.423333333333336,
          17,
          8.216666666666667,
          61.18666666666667,
          20.726666666666667,
          58.913333333333334,
          58.94,
          56.379999999999995,
          37.57,
          38.080000000000005,
          21.33666666666667,
          37.88333333333333,
          55.50666666666667,
          51.79333333333333,
          33.776666666666664,
          49.089999999999996,
          31.659999999999997,
          44.85666666666666,
          29.853333333333335,
          44.083333333333336,
          39.796666666666674,
          12.746666666666668,
          41.276666666666664,
          40.14666666666667,
          56.94333333333333,
          54.70333333333334,
          33.18666666666667,
          32.85666666666666,
          35.24333333333333,
          37.71333333333333,
          37.846666666666664,
          38.15,
          55.550000000000004,
          36.81333333333333,
          52.81333333333333,
          34.95333333333333,
          52.56999999999999,
          35.193333333333335,
          18.426666666666666,
          18.38,
          35.74,
          17.323333333333334,
          33.04333333333333,
          15.796666666666667,
          47.82333333333333,
          58.99666666666667,
          58.31333333333333,
          57.1,
          55.96666666666667,
          36.31333333333333,
          36.54666666666666,
          35.53666666666667,
          18.026666666666667,
          34.623333333333335,
          20.75,
          38.95666666666667,
          58.953333333333326,
          59.38666666666668,
          58.419999999999995,
          39.336666666666666,
          57.223333333333336,
          40.25666666666667,
          57.76666666666667,
          56.346666666666664,
          55.879999999999995,
          36.12,
          52.97,
          52.25666666666667,
          17.436666666666667,
          38.623333333333335,
          57.919999999999995,
          55.94,
          35.903333333333336,
          55.75333333333333,
          34.76,
          52.07,
          34.906666666666666,
          33.78333333333333,
          41.39666666666667,
          59.60666666666666,
          56.833333333333336,
          36.333333333333336,
          37.77666666666667,
          56.38666666666666,
          53.160000000000004,
          53.97,
          21.076666666666664,
          36.23,
          19.82,
          56.133333333333326,
          33.81333333333333,
          34.10333333333333,
          39.553333333333335,
          40.193333333333335,
          54.876666666666665,
          61.64000000000001,
          58.54333333333333,
          57.623333333333335,
          17.666666666666668,
          37.943333333333335,
          36.17,
          18.12333333333333,
          33.34,
          20.386666666666667,
          39.48,
          19.580000000000002,
          19.38,
          37.28,
          17.73,
          50,
          34.21333333333333,
          41.056666666666665,
          39.910000000000004,
          57.52333333333333,
          59.28333333333333,
          35.056666666666665,
          39.61666666666667,
          18.849999999999998,
          36.080000000000005
         ],
         "xaxis": "x",
         "y": [
          62.11000000000001,
          39.99333333333333,
          57.43666666666667,
          57.61000000000001,
          18.39,
          19.336666666666666,
          36.96,
          61.916666666666664,
          19.313333333333333,
          38.02333333333333,
          38.67333333333334,
          19.103333333333335,
          55.656666666666666,
          18.766666666666666,
          49.59666666666667,
          32.21333333333333,
          33.54333333333333,
          49.11666666666667,
          47.06666666666666,
          29.459999999999997,
          31.72666666666667,
          56.13666666666666,
          39.626666666666665,
          19.91,
          51.276666666666664,
          18.273333333333333,
          50.43333333333334,
          34.336666666666666,
          33.65,
          17.143333333333334,
          50.669999999999995,
          33.31333333333333,
          30.709999999999997,
          45.93000000000001,
          14.976666666666667,
          39.27,
          58.169999999999995,
          18.283333333333335,
          36.96666666666667,
          33.63333333333333,
          34.17666666666667,
          51.663333333333334,
          33.68666666666667,
          49.26666666666667,
          33.29666666666667,
          47.339999999999996,
          30.23,
          54.97666666666667,
          16.93,
          50.48,
          17.673333333333336,
          17.343333333333334,
          33.160000000000004,
          0,
          14,
          39.89333333333334,
          55.63666666666666,
          39.419999999999995,
          33.89,
          35.406666666666666,
          35.98333333333333,
          60.38333333333333,
          59.50666666666666,
          58.88333333333333,
          19.366666666666667,
          18.963333333333335,
          36.88666666666666,
          18.59,
          36.169999999999995,
          52.26333333333333,
          17.150000000000002,
          33.64666666666667,
          39.9,
          39.10333333333333,
          38.42666666666667,
          18.976666666666667,
          37.32666666666667,
          54.06666666666666,
          0,
          17.356666666666666,
          50.31,
          52.13666666666666,
          35.166666666666664,
          50.97666666666667,
          50.89333333333334,
          50,
          31.276666666666667,
          14.763333333333334,
          57.85666666666666,
          39.00333333333333,
          58.43000000000001,
          38.78333333333333,
          35.35,
          36.949999999999996,
          34.77,
          56.60333333333333,
          36.85333333333333,
          33.52333333333333,
          53.193333333333335,
          52.00333333333333,
          34.830000000000005,
          19.723333333333333,
          38.04,
          35.13333333333333,
          35.63,
          13.716666666666667,
          15.086666666666666,
          27.659999999999997,
          62.03666666666666,
          20.68,
          57.77,
          58.843333333333334,
          38.21,
          37.88333333333333,
          38.39666666666667,
          37.47,
          19.12666666666667,
          36.81333333333333,
          35.93333333333334,
          35.300000000000004,
          36.449999999999996,
          34.589999999999996,
          16.036666666666665,
          16.69666666666667,
          47.31333333333333,
          57.84,
          38.18666666666667,
          37.550000000000004,
          36.806666666666665,
          0,
          35.666666666666664,
          35.36666666666667,
          17.896666666666665,
          33.77,
          33.696666666666665,
          47.18,
          30.53333333333333,
          19.22,
          17.766666666666666,
          34.169999999999995,
          23.52333333333333,
          61.053333333333335,
          61.45666666666667,
          52.36666666666667,
          56.826666666666675,
          37.15,
          57.06333333333333,
          36.556666666666665,
          40.88,
          35.336666666666666,
          53.95333333333334,
          49.70000000000001,
          16.856666666666666,
          47.39333333333334,
          30.91,
          45.22666666666667,
          46.07333333333333,
          42.63666666666666,
          42.06333333333333,
          13.593333333333334,
          0,
          59.596666666666664,
          57.43333333333333,
          53.79333333333333,
          33.92666666666667,
          30.80333333333333,
          12.469999999999999,
          58.73,
          37.35,
          55.21,
          35.96,
          36.07333333333333,
          52.14666666666667,
          34.50666666666667,
          51.31,
          50.61333333333332,
          17.05,
          16.830000000000002,
          49.36333333333334,
          16.26,
          15.65,
          16.673333333333336,
          48.406666666666666,
          59.22666666666667,
          19.283333333333335,
          57.39666666666667,
          55.550000000000004,
          38.169999999999995,
          36.56,
          35.526666666666664,
          17.646666666666665,
          51.89666666666667,
          41.11333333333334,
          20.093333333333334,
          57.57333333333333,
          36.303333333333335,
          19.576666666666664,
          57.413333333333334,
          55.89333333333334,
          59.45333333333334,
          40.346666666666664,
          55.03,
          54.25666666666667,
          36.01333333333333,
          34.97666666666667,
          51.633333333333326,
          48.71666666666667,
          20.09,
          38.846666666666664,
          36.97,
          18.79,
          52,
          18.143333333333334,
          52.42333333333334,
          52.64666666666667,
          51.55666666666667,
          59.93,
          57.086666666666666,
          53.82999999999999,
          55.98,
          53.51666666666667,
          54.45333333333334,
          51.85333333333333,
          34.93666666666667,
          41.92333333333333,
          35.42333333333334,
          37.57666666666667,
          35.916666666666664,
          51.18666666666667,
          36.56333333333333,
          55.67666666666667,
          41.59,
          35.92666666666667,
          61.343333333333334,
          58.406666666666666,
          56.19333333333333,
          14.94,
          55.43,
          36.04666666666667,
          35.75666666666667,
          31.7,
          38.080000000000005,
          37.376666666666665,
          19.073333333333334,
          56.906666666666666,
          56.27333333333333,
          52.71333333333333,
          34.81333333333333,
          33.98666666666667,
          60.11000000000001,
          60.07,
          19.44666666666667,
          38.876666666666665,
          19.863333333333333,
          38.93666666666667,
          37.72666666666667,
          54.903333333333336
         ],
         "yaxis": "y"
        }
       ],
       "layout": {
        "legend": {
         "title": {
          "text": "Male_Female"
         },
         "tracegroupgap": 0
        },
        "template": {
         "data": {
          "bar": [
           {
            "error_x": {
             "color": "#2a3f5f"
            },
            "error_y": {
             "color": "#2a3f5f"
            },
            "marker": {
             "line": {
              "color": "#E5ECF6",
              "width": 0.5
             },
             "pattern": {
              "fillmode": "overlay",
              "size": 10,
              "solidity": 0.2
             }
            },
            "type": "bar"
           }
          ],
          "barpolar": [
           {
            "marker": {
             "line": {
              "color": "#E5ECF6",
              "width": 0.5
             },
             "pattern": {
              "fillmode": "overlay",
              "size": 10,
              "solidity": 0.2
             }
            },
            "type": "barpolar"
           }
          ],
          "carpet": [
           {
            "aaxis": {
             "endlinecolor": "#2a3f5f",
             "gridcolor": "white",
             "linecolor": "white",
             "minorgridcolor": "white",
             "startlinecolor": "#2a3f5f"
            },
            "baxis": {
             "endlinecolor": "#2a3f5f",
             "gridcolor": "white",
             "linecolor": "white",
             "minorgridcolor": "white",
             "startlinecolor": "#2a3f5f"
            },
            "type": "carpet"
           }
          ],
          "choropleth": [
           {
            "colorbar": {
             "outlinewidth": 0,
             "ticks": ""
            },
            "type": "choropleth"
           }
          ],
          "contour": [
           {
            "colorbar": {
             "outlinewidth": 0,
             "ticks": ""
            },
            "colorscale": [
             [
              0,
              "#0d0887"
             ],
             [
              0.1111111111111111,
              "#46039f"
             ],
             [
              0.2222222222222222,
              "#7201a8"
             ],
             [
              0.3333333333333333,
              "#9c179e"
             ],
             [
              0.4444444444444444,
              "#bd3786"
             ],
             [
              0.5555555555555556,
              "#d8576b"
             ],
             [
              0.6666666666666666,
              "#ed7953"
             ],
             [
              0.7777777777777778,
              "#fb9f3a"
             ],
             [
              0.8888888888888888,
              "#fdca26"
             ],
             [
              1,
              "#f0f921"
             ]
            ],
            "type": "contour"
           }
          ],
          "contourcarpet": [
           {
            "colorbar": {
             "outlinewidth": 0,
             "ticks": ""
            },
            "type": "contourcarpet"
           }
          ],
          "heatmap": [
           {
            "colorbar": {
             "outlinewidth": 0,
             "ticks": ""
            },
            "colorscale": [
             [
              0,
              "#0d0887"
             ],
             [
              0.1111111111111111,
              "#46039f"
             ],
             [
              0.2222222222222222,
              "#7201a8"
             ],
             [
              0.3333333333333333,
              "#9c179e"
             ],
             [
              0.4444444444444444,
              "#bd3786"
             ],
             [
              0.5555555555555556,
              "#d8576b"
             ],
             [
              0.6666666666666666,
              "#ed7953"
             ],
             [
              0.7777777777777778,
              "#fb9f3a"
             ],
             [
              0.8888888888888888,
              "#fdca26"
             ],
             [
              1,
              "#f0f921"
             ]
            ],
            "type": "heatmap"
           }
          ],
          "heatmapgl": [
           {
            "colorbar": {
             "outlinewidth": 0,
             "ticks": ""
            },
            "colorscale": [
             [
              0,
              "#0d0887"
             ],
             [
              0.1111111111111111,
              "#46039f"
             ],
             [
              0.2222222222222222,
              "#7201a8"
             ],
             [
              0.3333333333333333,
              "#9c179e"
             ],
             [
              0.4444444444444444,
              "#bd3786"
             ],
             [
              0.5555555555555556,
              "#d8576b"
             ],
             [
              0.6666666666666666,
              "#ed7953"
             ],
             [
              0.7777777777777778,
              "#fb9f3a"
             ],
             [
              0.8888888888888888,
              "#fdca26"
             ],
             [
              1,
              "#f0f921"
             ]
            ],
            "type": "heatmapgl"
           }
          ],
          "histogram": [
           {
            "marker": {
             "pattern": {
              "fillmode": "overlay",
              "size": 10,
              "solidity": 0.2
             }
            },
            "type": "histogram"
           }
          ],
          "histogram2d": [
           {
            "colorbar": {
             "outlinewidth": 0,
             "ticks": ""
            },
            "colorscale": [
             [
              0,
              "#0d0887"
             ],
             [
              0.1111111111111111,
              "#46039f"
             ],
             [
              0.2222222222222222,
              "#7201a8"
             ],
             [
              0.3333333333333333,
              "#9c179e"
             ],
             [
              0.4444444444444444,
              "#bd3786"
             ],
             [
              0.5555555555555556,
              "#d8576b"
             ],
             [
              0.6666666666666666,
              "#ed7953"
             ],
             [
              0.7777777777777778,
              "#fb9f3a"
             ],
             [
              0.8888888888888888,
              "#fdca26"
             ],
             [
              1,
              "#f0f921"
             ]
            ],
            "type": "histogram2d"
           }
          ],
          "histogram2dcontour": [
           {
            "colorbar": {
             "outlinewidth": 0,
             "ticks": ""
            },
            "colorscale": [
             [
              0,
              "#0d0887"
             ],
             [
              0.1111111111111111,
              "#46039f"
             ],
             [
              0.2222222222222222,
              "#7201a8"
             ],
             [
              0.3333333333333333,
              "#9c179e"
             ],
             [
              0.4444444444444444,
              "#bd3786"
             ],
             [
              0.5555555555555556,
              "#d8576b"
             ],
             [
              0.6666666666666666,
              "#ed7953"
             ],
             [
              0.7777777777777778,
              "#fb9f3a"
             ],
             [
              0.8888888888888888,
              "#fdca26"
             ],
             [
              1,
              "#f0f921"
             ]
            ],
            "type": "histogram2dcontour"
           }
          ],
          "mesh3d": [
           {
            "colorbar": {
             "outlinewidth": 0,
             "ticks": ""
            },
            "type": "mesh3d"
           }
          ],
          "parcoords": [
           {
            "line": {
             "colorbar": {
              "outlinewidth": 0,
              "ticks": ""
             }
            },
            "type": "parcoords"
           }
          ],
          "pie": [
           {
            "automargin": true,
            "type": "pie"
           }
          ],
          "scatter": [
           {
            "fillpattern": {
             "fillmode": "overlay",
             "size": 10,
             "solidity": 0.2
            },
            "type": "scatter"
           }
          ],
          "scatter3d": [
           {
            "line": {
             "colorbar": {
              "outlinewidth": 0,
              "ticks": ""
             }
            },
            "marker": {
             "colorbar": {
              "outlinewidth": 0,
              "ticks": ""
             }
            },
            "type": "scatter3d"
           }
          ],
          "scattercarpet": [
           {
            "marker": {
             "colorbar": {
              "outlinewidth": 0,
              "ticks": ""
             }
            },
            "type": "scattercarpet"
           }
          ],
          "scattergeo": [
           {
            "marker": {
             "colorbar": {
              "outlinewidth": 0,
              "ticks": ""
             }
            },
            "type": "scattergeo"
           }
          ],
          "scattergl": [
           {
            "marker": {
             "colorbar": {
              "outlinewidth": 0,
              "ticks": ""
             }
            },
            "type": "scattergl"
           }
          ],
          "scattermapbox": [
           {
            "marker": {
             "colorbar": {
              "outlinewidth": 0,
              "ticks": ""
             }
            },
            "type": "scattermapbox"
           }
          ],
          "scatterpolar": [
           {
            "marker": {
             "colorbar": {
              "outlinewidth": 0,
              "ticks": ""
             }
            },
            "type": "scatterpolar"
           }
          ],
          "scatterpolargl": [
           {
            "marker": {
             "colorbar": {
              "outlinewidth": 0,
              "ticks": ""
             }
            },
            "type": "scatterpolargl"
           }
          ],
          "scatterternary": [
           {
            "marker": {
             "colorbar": {
              "outlinewidth": 0,
              "ticks": ""
             }
            },
            "type": "scatterternary"
           }
          ],
          "surface": [
           {
            "colorbar": {
             "outlinewidth": 0,
             "ticks": ""
            },
            "colorscale": [
             [
              0,
              "#0d0887"
             ],
             [
              0.1111111111111111,
              "#46039f"
             ],
             [
              0.2222222222222222,
              "#7201a8"
             ],
             [
              0.3333333333333333,
              "#9c179e"
             ],
             [
              0.4444444444444444,
              "#bd3786"
             ],
             [
              0.5555555555555556,
              "#d8576b"
             ],
             [
              0.6666666666666666,
              "#ed7953"
             ],
             [
              0.7777777777777778,
              "#fb9f3a"
             ],
             [
              0.8888888888888888,
              "#fdca26"
             ],
             [
              1,
              "#f0f921"
             ]
            ],
            "type": "surface"
           }
          ],
          "table": [
           {
            "cells": {
             "fill": {
              "color": "#EBF0F8"
             },
             "line": {
              "color": "white"
             }
            },
            "header": {
             "fill": {
              "color": "#C8D4E3"
             },
             "line": {
              "color": "white"
             }
            },
            "type": "table"
           }
          ]
         },
         "layout": {
          "annotationdefaults": {
           "arrowcolor": "#2a3f5f",
           "arrowhead": 0,
           "arrowwidth": 1
          },
          "autotypenumbers": "strict",
          "coloraxis": {
           "colorbar": {
            "outlinewidth": 0,
            "ticks": ""
           }
          },
          "colorscale": {
           "diverging": [
            [
             0,
             "#8e0152"
            ],
            [
             0.1,
             "#c51b7d"
            ],
            [
             0.2,
             "#de77ae"
            ],
            [
             0.3,
             "#f1b6da"
            ],
            [
             0.4,
             "#fde0ef"
            ],
            [
             0.5,
             "#f7f7f7"
            ],
            [
             0.6,
             "#e6f5d0"
            ],
            [
             0.7,
             "#b8e186"
            ],
            [
             0.8,
             "#7fbc41"
            ],
            [
             0.9,
             "#4d9221"
            ],
            [
             1,
             "#276419"
            ]
           ],
           "sequential": [
            [
             0,
             "#0d0887"
            ],
            [
             0.1111111111111111,
             "#46039f"
            ],
            [
             0.2222222222222222,
             "#7201a8"
            ],
            [
             0.3333333333333333,
             "#9c179e"
            ],
            [
             0.4444444444444444,
             "#bd3786"
            ],
            [
             0.5555555555555556,
             "#d8576b"
            ],
            [
             0.6666666666666666,
             "#ed7953"
            ],
            [
             0.7777777777777778,
             "#fb9f3a"
            ],
            [
             0.8888888888888888,
             "#fdca26"
            ],
            [
             1,
             "#f0f921"
            ]
           ],
           "sequentialminus": [
            [
             0,
             "#0d0887"
            ],
            [
             0.1111111111111111,
             "#46039f"
            ],
            [
             0.2222222222222222,
             "#7201a8"
            ],
            [
             0.3333333333333333,
             "#9c179e"
            ],
            [
             0.4444444444444444,
             "#bd3786"
            ],
            [
             0.5555555555555556,
             "#d8576b"
            ],
            [
             0.6666666666666666,
             "#ed7953"
            ],
            [
             0.7777777777777778,
             "#fb9f3a"
            ],
            [
             0.8888888888888888,
             "#fdca26"
            ],
            [
             1,
             "#f0f921"
            ]
           ]
          },
          "colorway": [
           "#636efa",
           "#EF553B",
           "#00cc96",
           "#ab63fa",
           "#FFA15A",
           "#19d3f3",
           "#FF6692",
           "#B6E880",
           "#FF97FF",
           "#FECB52"
          ],
          "font": {
           "color": "#2a3f5f"
          },
          "geo": {
           "bgcolor": "white",
           "lakecolor": "white",
           "landcolor": "#E5ECF6",
           "showlakes": true,
           "showland": true,
           "subunitcolor": "white"
          },
          "hoverlabel": {
           "align": "left"
          },
          "hovermode": "closest",
          "mapbox": {
           "style": "light"
          },
          "paper_bgcolor": "white",
          "plot_bgcolor": "#E5ECF6",
          "polar": {
           "angularaxis": {
            "gridcolor": "white",
            "linecolor": "white",
            "ticks": ""
           },
           "bgcolor": "#E5ECF6",
           "radialaxis": {
            "gridcolor": "white",
            "linecolor": "white",
            "ticks": ""
           }
          },
          "scene": {
           "xaxis": {
            "backgroundcolor": "#E5ECF6",
            "gridcolor": "white",
            "gridwidth": 2,
            "linecolor": "white",
            "showbackground": true,
            "ticks": "",
            "zerolinecolor": "white"
           },
           "yaxis": {
            "backgroundcolor": "#E5ECF6",
            "gridcolor": "white",
            "gridwidth": 2,
            "linecolor": "white",
            "showbackground": true,
            "ticks": "",
            "zerolinecolor": "white"
           },
           "zaxis": {
            "backgroundcolor": "#E5ECF6",
            "gridcolor": "white",
            "gridwidth": 2,
            "linecolor": "white",
            "showbackground": true,
            "ticks": "",
            "zerolinecolor": "white"
           }
          },
          "shapedefaults": {
           "line": {
            "color": "#2a3f5f"
           }
          },
          "ternary": {
           "aaxis": {
            "gridcolor": "white",
            "linecolor": "white",
            "ticks": ""
           },
           "baxis": {
            "gridcolor": "white",
            "linecolor": "white",
            "ticks": ""
           },
           "bgcolor": "#E5ECF6",
           "caxis": {
            "gridcolor": "white",
            "linecolor": "white",
            "ticks": ""
           }
          },
          "title": {
           "x": 0.05
          },
          "xaxis": {
           "automargin": true,
           "gridcolor": "white",
           "linecolor": "white",
           "ticks": "",
           "title": {
            "standoff": 15
           },
           "zerolinecolor": "white",
           "zerolinewidth": 2
          },
          "yaxis": {
           "automargin": true,
           "gridcolor": "white",
           "linecolor": "white",
           "ticks": "",
           "title": {
            "standoff": 15
           },
           "zerolinecolor": "white",
           "zerolinewidth": 2
          }
         }
        },
        "title": {
         "text": "Discus"
        },
        "xaxis": {
         "anchor": "y",
         "domain": [
          0,
          1
         ],
         "title": {
          "text": "Mean of Flights 4 to 6"
         }
        },
        "yaxis": {
         "anchor": "x",
         "domain": [
          0,
          1
         ],
         "title": {
          "text": "Mean of Flights 1 to 3"
         }
        }
       }
      }
     },
     "metadata": {},
     "output_type": "display_data"
    },
    {
     "data": {
      "application/vnd.plotly.v1+json": {
       "config": {
        "plotlyServerURL": "https://plot.ly"
       },
       "data": [
        {
         "hovertemplate": "Male_Female=Male<br>Mean of Flights 4 to 6=%{x}<br>Mean of Flights 1 to 3=%{y}<extra></extra>",
         "legendgroup": "Male",
         "marker": {
          "color": "#636efa",
          "symbol": "circle"
         },
         "mode": "markers",
         "name": "Male",
         "orientation": "v",
         "showlegend": true,
         "type": "scatter",
         "x": [
          24.543333333333333,
          71.67666666666666,
          71.64,
          23.826666666666668,
          45.54,
          66.92333333333333,
          44.23666666666667,
          47.826666666666675,
          23.536666666666665,
          47.99333333333333,
          71.51333333333334,
          46.426666666666655,
          69.58,
          68.97,
          72.14333333333333,
          49.15333333333333,
          72.48333333333333,
          46.39000000000001,
          45.85666666666666,
          45.126666666666665,
          43.21666666666667,
          20.383333333333333,
          62.43666666666667,
          20.666666666666668,
          19.983333333333334,
          60.81666666666667,
          58.830000000000005,
          25.459999999999997,
          71.60333333333334,
          71.36666666666667,
          23.05666666666667,
          45.31333333333333,
          44.21666666666667,
          67.11666666666666,
          65.60666666666667,
          22.08666666666667,
          42.916666666666664,
          41.36333333333334,
          39.693333333333335,
          72.40333333333332,
          71.79333333333334,
          22.796666666666667,
          68.81666666666666,
          44.98666666666667,
          22.83,
          22.459999999999997,
          20.486666666666668,
          24.536666666666665,
          47.48333333333333,
          45.45666666666667,
          22.073333333333334,
          43.913333333333334,
          20.80333333333333,
          60.169999999999995,
          20.45,
          20.39,
          19.956666666666667,
          19.68,
          75.9,
          48.21666666666666,
          71.17999999999999,
          65.97666666666667,
          65.39999999999999,
          41.806666666666665,
          20.566666666666666,
          62.873333333333335,
          20.433333333333334,
          59.48,
          36.443333333333335,
          36.123333333333335,
          50.160000000000004,
          49.373333333333335,
          43.156666666666666,
          47.24666666666667,
          43.923333333333325,
          65.30666666666667,
          22.016666666666666,
          21.25,
          25.373333333333335,
          42.03666666666667,
          41.6,
          57.410000000000004,
          48.52333333333333,
          46.35999999999999,
          65.26,
          63.21333333333334,
          61.126666666666665,
          74.02666666666666,
          24.25,
          48.129999999999995,
          45.36333333333332,
          21.44666666666667,
          63.89333333333334,
          63.23,
          20.14,
          15.816666666666668,
          72.81,
          70.80666666666667,
          65.46,
          20.99,
          45.15333333333333,
          43.94333333333333,
          43.29,
          22.150000000000002,
          20.56,
          18.79,
          52.89000000000001,
          33.88,
          49.19,
          73.50666666666666,
          73.17,
          48.67666666666667,
          70.56666666666666,
          47.81,
          70.70666666666666,
          46.16,
          45.826666666666675,
          25.293333333333333,
          49.663333333333334,
          71.39666666666666,
          47.04,
          46.01666666666667,
          43.70666666666667,
          21.733333333333334,
          41.916666666666664,
          62.06,
          25.063333333333333,
          49.98666666666667,
          71.71,
          23.823333333333334,
          44.56666666666666,
          44.660000000000004,
          42.96,
          42.60333333333333,
          41.47,
          38.52666666666667,
          21.42,
          25.650000000000002,
          75.52666666666667,
          75.02999999999999,
          47.9,
          23.98,
          23.686666666666667,
          47.586666666666666,
          47.31666666666666,
          73.84333333333335,
          44.06333333333333,
          42.663333333333334,
          20.26,
          42.056666666666665,
          41.14333333333334,
          19.69,
          18.686666666666667,
          35.74666666666667,
          30.433333333333334,
          32.10333333333333,
          47.92333333333334,
          47.46,
          23.36,
          68.95666666666668,
          67.96666666666667,
          45.333333333333336,
          66.59000000000002,
          22.073333333333334,
          48.370000000000005,
          23.78,
          68.10333333333334,
          22.026666666666667,
          64.92666666666666,
          66.97666666666667,
          66.97,
          42.13333333333333,
          48.406666666666666,
          72.38333333333334,
          48.63666666666668,
          45.72,
          45.47666666666667,
          66.12333333333333,
          65.2,
          43.116666666666674,
          48.10666666666666,
          22.866666666666664,
          22.843333333333334,
          66.60666666666667,
          43.85,
          36.92666666666667,
          71.08333333333333,
          70.04666666666667,
          24.096666666666668,
          23.396666666666665,
          44.89333333333334,
          21.373333333333335,
          41.20666666666667,
          20.066666666666666,
          49.31666666666666,
          24.69333333333333,
          70.83666666666666,
          48.43666666666667,
          48.02,
          48.080000000000005,
          47.196666666666665,
          68.69666666666667,
          22.48,
          73.10333333333334,
          70.97333333333334,
          70.55,
          63.27,
          20.84,
          41.62,
          73.39333333333333,
          70.42333333333333,
          68.48,
          64.75333333333333,
          41.836666666666666,
          62.50666666666666,
          48.43000000000001,
          23.896666666666665,
          46.803333333333335,
          46.99000000000001,
          69.87,
          23.363333333333333,
          22.016666666666666,
          67.66000000000001,
          23.043333333333333,
          65.72333333333334,
          46.25333333333333,
          73.91666666666667,
          42.623333333333335,
          67.45333333333333,
          64.55333333333333,
          45.97333333333333,
          71.52,
          48.48333333333333,
          24.24,
          24.353333333333335,
          71.38666666666667,
          46.63666666666666,
          46.97,
          22.099999999999998
         ],
         "xaxis": "x",
         "y": [
          49.19333333333333,
          74.23333333333333,
          47.876666666666665,
          47.68333333333334,
          66.73666666666666,
          44.586666666666666,
          44.23,
          49.39333333333334,
          48.68666666666667,
          48.21,
          43.66,
          45.82333333333333,
          46.160000000000004,
          45.35333333333333,
          73.83,
          73.44,
          48.72666666666667,
          66.89999999999999,
          68.07333333333334,
          68.06333333333335,
          63.37,
          41.73,
          59.64333333333334,
          41.21333333333333,
          40.13666666666666,
          18.746666666666666,
          19.316666666666666,
          25.59,
          70.85333333333334,
          46.78,
          46.56333333333333,
          44,
          63.120000000000005,
          44.083333333333336,
          43.85333333333333,
          41.75,
          21.826666666666668,
          42.833333333333336,
          42.22,
          71.95666666666666,
          69.54333333333334,
          69.63666666666667,
          68.72333333333334,
          21.906666666666666,
          22.433333333333334,
          66.15,
          41.60666666666666,
          24.456666666666667,
          46.70333333333334,
          67.59666666666666,
          0,
          65.37666666666668,
          21.256666666666668,
          40.39333333333334,
          40.376666666666665,
          19.473333333333333,
          0,
          19.453333333333333,
          73.79666666666667,
          48.593333333333334,
          68.75333333333334,
          64.99,
          43.70333333333334,
          0,
          62.586666666666666,
          40.68,
          60.48333333333333,
          20.546666666666667,
          52.04333333333333,
          17.93,
          49.916666666666664,
          72.95333333333333,
          47.79999999999999,
          23.826666666666668,
          43.669999999999995,
          43.79,
          42.39666666666667,
          21.473333333333333,
          75.31666666666666,
          21.53333333333333,
          63.59,
          37.88,
          48.53333333333334,
          68.35000000000001,
          21.613333333333333,
          64.33999999999999,
          0,
          73.96666666666668,
          49.53666666666667,
          48.410000000000004,
          45.163333333333334,
          44.61666666666667,
          41.73,
          43,
          20.766666666666666,
          30.403333333333332,
          23.963333333333335,
          71.39333333333333,
          42.26333333333333,
          43.35666666666666,
          46.60666666666666,
          66.06666666666666,
          66.04333333333334,
          0,
          0,
          18.78,
          52.50666666666667,
          52.54666666666666,
          49.366666666666674,
          73.11666666666666,
          48.48666666666667,
          47.97666666666667,
          71.97333333333334,
          46.586666666666666,
          68.19,
          46.28333333333333,
          45.74,
          49.46333333333333,
          73.47,
          71.21333333333332,
          22.49,
          46.660000000000004,
          42.99666666666667,
          0,
          62.13999999999999,
          62.64333333333334,
          25.206666666666667,
          23.576666666666668,
          0,
          69.44,
          44.88333333333333,
          44.35666666666666,
          65.64999999999999,
          41.44,
          40.71,
          38.01333333333333,
          61.63666666666666,
          74.63,
          74.58999999999999,
          48.696666666666665,
          45.75333333333333,
          46.24333333333334,
          70.84333333333332,
          70.13,
          46.13666666666666,
          72.06333333333333,
          43.69333333333333,
          20.76,
          19.716666666666665,
          20.436666666666667,
          20.036666666666665,
          40.04,
          19.169999999999998,
          48.35999999999999,
          15.69,
          32.19,
          46.64000000000001,
          70.26666666666667,
          45.18333333333334,
          65.39999999999999,
          43.923333333333325,
          66.83666666666666,
          65.68333333333334,
          22.516666666666666,
          46.919999999999995,
          23.826666666666668,
          67.20333333333333,
          45.473333333333336,
          65.31333333333333,
          66.35333333333334,
          65.79666666666667,
          21.926666666666666,
          73.30666666666667,
          49.23,
          24.373333333333335,
          71.36666666666666,
          45.21666666666666,
          22.47666666666667,
          44.656666666666666,
          66.36333333333333,
          70.79666666666667,
          22.546666666666667,
          44.88666666666666,
          44.29,
          64.67333333333333,
          18.816666666666666,
          71.57666666666667,
          71.77333333333333,
          47.82333333333333,
          23.106666666666666,
          67.29666666666667,
          42.830000000000005,
          21.363333333333333,
          20.19,
          71.57666666666667,
          49.410000000000004,
          72.00333333333333,
          48.35333333333333,
          68.7,
          46.98666666666667,
          47.419999999999995,
          67.94666666666667,
          45.24666666666667,
          48.45000000000001,
          70.58,
          47.330000000000005,
          62.29666666666666,
          42.26,
          61.01333333333333,
          46.71666666666666,
          47.623333333333335,
          69.85666666666667,
          60.77333333333333,
          61.56666666666666,
          62.403333333333336,
          46.836666666666666,
          69.00999999999999,
          69.17999999999999,
          70.73,
          46.61333333333332,
          45.01,
          65.83333333333333,
          67.72666666666667,
          66.98666666666666,
          69.18333333333334,
          45.25666666666666,
          22.786666666666665,
          64.23,
          68.99,
          63.68000000000001,
          44.70333333333334,
          72.22000000000001,
          48.45333333333334,
          24.363333333333333,
          48.18333333333334,
          72.22333333333333,
          45.72666666666667,
          46.123333333333335,
          46.13666666666666
         ],
         "yaxis": "y"
        },
        {
         "hovertemplate": "Male_Female=Female<br>Mean of Flights 4 to 6=%{x}<br>Mean of Flights 1 to 3=%{y}<extra></extra>",
         "legendgroup": "Female",
         "marker": {
          "color": "#EF553B",
          "symbol": "circle"
         },
         "mode": "markers",
         "name": "Female",
         "orientation": "v",
         "showlegend": true,
         "type": "scatter",
         "x": [
          24.136666666666667,
          72.33999999999999,
          47.89000000000001,
          45.169999999999995,
          22.49,
          45.20666666666667,
          65.08999999999999,
          48.156666666666666,
          23.906666666666666,
          23.78333333333333,
          68.51333333333334,
          44.35999999999999,
          67.63333333333334,
          43.086666666666666,
          44.73,
          47.4,
          46.81333333333333,
          69.95,
          23.143333333333334,
          43.60999999999999,
          44.96666666666666,
          44.653333333333336,
          22.243333333333336,
          42.88333333333333,
          47.53666666666667,
          69.15333333333335,
          66.72666666666667,
          22.683333333333334,
          43.550000000000004,
          63.71333333333333,
          40.14,
          41.169999999999995,
          59.373333333333335,
          56.953333333333326,
          71.95333333333333,
          46.370000000000005,
          45.593333333333334,
          21.983333333333334,
          65.22333333333334,
          62.63,
          38.86666666666667,
          71.55,
          70.66,
          46.083333333333336,
          68.89999999999999,
          67.57000000000001,
          43.70333333333334,
          65.31666666666666,
          42.01333333333333,
          21.146666666666665,
          69.46000000000001,
          44.51333333333333,
          44.45666666666667,
          22.44666666666667,
          40.526666666666664,
          19.78,
          38.96,
          53.586666666666666,
          33.806666666666665,
          69.33333333333333,
          43.56,
          42.77666666666667,
          42.663333333333334,
          20.716666666666665,
          41.54333333333333,
          59.26333333333334,
          40.46,
          19.05666666666667,
          19.886666666666667,
          19.133333333333333,
          19.746666666666666,
          22.459999999999997,
          63.48333333333334,
          62.76333333333333,
          42.29,
          41.336666666666666,
          42.07333333333333,
          40.17666666666667,
          60.81333333333333,
          40.333333333333336,
          19.69333333333333,
          38.10666666666666,
          36.160000000000004,
          36.4,
          14.976666666666667,
          46.56666666666666,
          22.846666666666668,
          66.38666666666667,
          66.53666666666666,
          44.04666666666666,
          41.75,
          21.19666666666667,
          60.92000000000001,
          19.883333333333333,
          59.24666666666667,
          42.08,
          62.376666666666665,
          41.43333333333333,
          19.99,
          40.376666666666665,
          18.900000000000002,
          16.363333333333333,
          47.906666666666666,
          69.25333333333333,
          46.03,
          45.88999999999999,
          44.800000000000004,
          64.26333333333334,
          43.46,
          42.48,
          20.45,
          18.893333333333334,
          39.056666666666665,
          19.606666666666666,
          37.28,
          72.65666666666668,
          72.35333333333334,
          24.060000000000002,
          68.82,
          67.57666666666667,
          65.76,
          41.86666666666667,
          42.71666666666667,
          41.800000000000004,
          41.443333333333335,
          19.433333333333334,
          19.400000000000002,
          36.800000000000004,
          73.90666666666668,
          49.343333333333334,
          49.27,
          23.11,
          45.373333333333335,
          43.32333333333333,
          42.64666666666667,
          41.9,
          59.32333333333333,
          41.376666666666665,
          40.12,
          69.92,
          47.663333333333334,
          44.70666666666667,
          46.303333333333335,
          68.29666666666667,
          67.04,
          45.85333333333333,
          21.89,
          21.58666666666667,
          46.65,
          43.10333333333333,
          67.00666666666667,
          43.85333333333333,
          21.453333333333333,
          59.82333333333333,
          69.83,
          44.71333333333333,
          22.233333333333334,
          21.25,
          21.063333333333333,
          21.026666666666667,
          20.80666666666667,
          41.26,
          37.78,
          36.583333333333336,
          35.67666666666667,
          23.386666666666667,
          19.263333333333332,
          18.736666666666668,
          10.763333333333334,
          6.3566666666666665,
          47.57333333333333,
          46.03333333333333,
          23.53333333333333,
          46.68333333333334,
          46.73666666666667,
          43.88666666666666,
          66.58666666666666,
          21.376666666666665,
          45.98333333333333,
          66.46,
          22.886666666666667,
          44.38666666666666,
          43.120000000000005,
          57.696666666666665,
          34.39333333333334,
          49.25333333333333,
          17.156666666666666,
          16.003333333333334,
          23.52333333333333,
          43.69333333333333,
          60.95666666666667,
          60.95666666666667,
          52.123333333333335,
          35.44,
          45.77333333333333,
          43.66,
          21.66,
          21.066666666666666,
          20.66,
          40.626666666666665,
          40.04333333333333,
          23.903333333333332,
          45.74666666666667,
          44.49,
          21.163333333333334,
          21.55,
          42.49333333333333,
          21.14,
          21.023333333333333,
          39.21666666666667,
          72.12666666666667,
          72.04333333333334,
          48.10333333333333,
          46.29333333333333,
          44.14666666666667,
          44.23,
          43.866666666666674,
          42.403333333333336,
          20.243333333333332,
          45.81333333333333,
          67.72,
          44.59,
          66.05333333333333,
          42.39666666666667,
          42.63,
          23.30333333333333,
          44.65,
          67.85000000000001,
          65.53333333333333,
          21.8,
          43.00666666666666,
          67.58666666666666,
          68.02333333333334,
          48.826666666666675,
          73.39333333333333,
          73.04,
          49.04999999999999,
          21.816666666666666,
          21.27,
          23.166666666666668,
          23.64,
          23.22666666666667,
          49.413333333333334,
          65.62333333333333,
          68.59333333333332,
          21.53,
          41.20666666666667,
          77.16000000000001,
          48.056666666666665,
          46.663333333333334,
          70.10333333333334,
          68.88666666666667,
          45.36000000000001,
          22.213333333333335,
          43.666666666666664
         ],
         "xaxis": "x",
         "y": [
          74.41000000000001,
          46.39666666666667,
          69.66666666666667,
          22.936666666666667,
          45.25666666666666,
          44.35333333333333,
          65.47,
          49.82666666666666,
          47.129999999999995,
          68.61999999999999,
          68.25000000000001,
          43.080000000000005,
          66.84,
          68,
          44.70666666666667,
          45.88666666666666,
          45.73666666666667,
          68.83666666666666,
          68.49666666666667,
          67.97666666666667,
          44.98,
          66.19666666666666,
          43.82333333333333,
          44.24333333333334,
          47.38666666666668,
          68.80666666666666,
          68.69999999999999,
          36.346666666666664,
          45.73,
          64.26,
          19.47,
          40.38666666666666,
          18.78,
          54.92333333333334,
          73.07000000000001,
          46.129999999999995,
          22.96666666666667,
          60.31333333333333,
          65.61,
          39.89666666666667,
          60.49,
          48.01,
          68.45666666666666,
          47.04,
          68.14,
          42.81,
          65.58333333333333,
          43.80666666666667,
          42.65333333333333,
          63.22,
          46.13666666666666,
          46.01333333333333,
          22.2,
          22.343333333333334,
          39.86333333333334,
          38.343333333333334,
          37.99333333333333,
          53.046666666666674,
          17.486666666666668,
          22.263333333333335,
          64.11,
          20.526666666666667,
          41.62,
          61.80666666666667,
          20.80666666666667,
          60.38333333333333,
          19.923333333333336,
          20.093333333333334,
          18.05666666666667,
          38.78333333333333,
          0,
          45.19,
          44.093333333333334,
          60.86333333333334,
          63.48,
          62.75666666666667,
          62.48666666666667,
          41.81666666666666,
          40.36333333333334,
          20.093333333333334,
          19.923333333333336,
          55.99666666666667,
          37.5,
          18.026666666666667,
          29.886666666666667,
          68.39,
          67.38666666666667,
          44.06,
          67.08333333333333,
          22.349999999999998,
          42.68333333333334,
          40.98,
          59.9,
          20.27,
          17.91,
          43,
          39.61666666666667,
          40.1,
          60.74,
          19.19666666666667,
          37.97,
          18.45,
          46.053333333333335,
          68.71333333333332,
          70.62666666666667,
          45.19,
          20.96,
          62.160000000000004,
          42.88333333333333,
          64.42999999999999,
          42.40333333333333,
          41.75,
          59.25,
          39.48,
          18.996666666666666,
          49.19666666666666,
          24.55666666666667,
          0,
          46.05666666666667,
          45.02333333333333,
          44.093333333333334,
          43.23666666666666,
          21.58666666666667,
          62.116666666666674,
          41.20333333333334,
          38.60333333333333,
          19.463333333333335,
          35.81,
          45.913333333333334,
          49.383333333333326,
          23.76,
          22.45,
          22.496666666666666,
          66.60333333333334,
          65.68,
          61.17333333333334,
          38.483333333333334,
          40.45333333333333,
          19.06,
          46.196666666666665,
          69.3,
          69.61666666666666,
          44.586666666666666,
          66.78333333333332,
          23.096666666666668,
          44.04,
          68.41333333333334,
          67.39999999999999,
          47.21,
          64.42666666666666,
          44.64666666666667,
          66.07,
          0,
          38.71666666666667,
          71.01333333333334,
          65.64,
          44.839999999999996,
          21.863333333333333,
          0,
          41.413333333333334,
          20.956666666666667,
          60.92666666666667,
          37.48666666666667,
          34.626666666666665,
          17.886666666666667,
          45.589999999999996,
          19.333333333333332,
          55.98333333333333,
          32.55,
          16.84,
          70.18666666666667,
          24.91333333333333,
          46.59666666666667,
          67.93666666666667,
          69.59333333333333,
          22.930000000000003,
          66.82,
          44.54666666666666,
          68.80666666666667,
          43.68,
          64.46,
          43.38666666666666,
          63.81,
          19.486666666666668,
          51.080000000000005,
          16.416666666666668,
          32.79666666666667,
          30.650000000000002,
          48.57333333333333,
          44.303333333333335,
          61.49666666666667,
          58.833333333333336,
          53.653333333333336,
          34.96,
          45.74333333333333,
          42.973333333333336,
          0,
          41.949999999999996,
          21.233333333333334,
          40.81,
          39.11,
          49.45666666666667,
          45.10999999999999,
          66.91000000000001,
          64.71333333333332,
          41.623333333333335,
          42.949999999999996,
          42.26,
          20.896666666666665,
          40.04666666666667,
          45.57,
          69.72,
          70.77666666666666,
          45.54666666666666,
          22.75,
          43.21333333333333,
          66.21000000000001,
          65.83333333333333,
          64.58333333333333,
          69.99666666666667,
          45.31999999999999,
          44.21666666666667,
          43.95000000000001,
          61.39666666666667,
          42.666666666666664,
          72.16333333333333,
          45.663333333333334,
          64.92666666666666,
          44.74666666666667,
          42.086666666666666,
          21.47,
          66.19333333333334,
          65.98666666666666,
          71.03000000000002,
          72.93666666666667,
          69.89999999999999,
          72.3,
          45.25666666666667,
          43.67666666666667,
          46.81,
          47.48,
          46.23333333333333,
          49.19333333333333,
          44.04999999999999,
          67.39999999999999,
          64.75666666666667,
          63.07666666666666,
          24.603333333333335,
          48.6,
          47.97666666666667,
          46.02,
          65.85000000000001,
          45.85666666666666,
          22.67,
          43.48
         ],
         "yaxis": "y"
        }
       ],
       "layout": {
        "legend": {
         "title": {
          "text": "Male_Female"
         },
         "tracegroupgap": 0
        },
        "template": {
         "data": {
          "bar": [
           {
            "error_x": {
             "color": "#2a3f5f"
            },
            "error_y": {
             "color": "#2a3f5f"
            },
            "marker": {
             "line": {
              "color": "#E5ECF6",
              "width": 0.5
             },
             "pattern": {
              "fillmode": "overlay",
              "size": 10,
              "solidity": 0.2
             }
            },
            "type": "bar"
           }
          ],
          "barpolar": [
           {
            "marker": {
             "line": {
              "color": "#E5ECF6",
              "width": 0.5
             },
             "pattern": {
              "fillmode": "overlay",
              "size": 10,
              "solidity": 0.2
             }
            },
            "type": "barpolar"
           }
          ],
          "carpet": [
           {
            "aaxis": {
             "endlinecolor": "#2a3f5f",
             "gridcolor": "white",
             "linecolor": "white",
             "minorgridcolor": "white",
             "startlinecolor": "#2a3f5f"
            },
            "baxis": {
             "endlinecolor": "#2a3f5f",
             "gridcolor": "white",
             "linecolor": "white",
             "minorgridcolor": "white",
             "startlinecolor": "#2a3f5f"
            },
            "type": "carpet"
           }
          ],
          "choropleth": [
           {
            "colorbar": {
             "outlinewidth": 0,
             "ticks": ""
            },
            "type": "choropleth"
           }
          ],
          "contour": [
           {
            "colorbar": {
             "outlinewidth": 0,
             "ticks": ""
            },
            "colorscale": [
             [
              0,
              "#0d0887"
             ],
             [
              0.1111111111111111,
              "#46039f"
             ],
             [
              0.2222222222222222,
              "#7201a8"
             ],
             [
              0.3333333333333333,
              "#9c179e"
             ],
             [
              0.4444444444444444,
              "#bd3786"
             ],
             [
              0.5555555555555556,
              "#d8576b"
             ],
             [
              0.6666666666666666,
              "#ed7953"
             ],
             [
              0.7777777777777778,
              "#fb9f3a"
             ],
             [
              0.8888888888888888,
              "#fdca26"
             ],
             [
              1,
              "#f0f921"
             ]
            ],
            "type": "contour"
           }
          ],
          "contourcarpet": [
           {
            "colorbar": {
             "outlinewidth": 0,
             "ticks": ""
            },
            "type": "contourcarpet"
           }
          ],
          "heatmap": [
           {
            "colorbar": {
             "outlinewidth": 0,
             "ticks": ""
            },
            "colorscale": [
             [
              0,
              "#0d0887"
             ],
             [
              0.1111111111111111,
              "#46039f"
             ],
             [
              0.2222222222222222,
              "#7201a8"
             ],
             [
              0.3333333333333333,
              "#9c179e"
             ],
             [
              0.4444444444444444,
              "#bd3786"
             ],
             [
              0.5555555555555556,
              "#d8576b"
             ],
             [
              0.6666666666666666,
              "#ed7953"
             ],
             [
              0.7777777777777778,
              "#fb9f3a"
             ],
             [
              0.8888888888888888,
              "#fdca26"
             ],
             [
              1,
              "#f0f921"
             ]
            ],
            "type": "heatmap"
           }
          ],
          "heatmapgl": [
           {
            "colorbar": {
             "outlinewidth": 0,
             "ticks": ""
            },
            "colorscale": [
             [
              0,
              "#0d0887"
             ],
             [
              0.1111111111111111,
              "#46039f"
             ],
             [
              0.2222222222222222,
              "#7201a8"
             ],
             [
              0.3333333333333333,
              "#9c179e"
             ],
             [
              0.4444444444444444,
              "#bd3786"
             ],
             [
              0.5555555555555556,
              "#d8576b"
             ],
             [
              0.6666666666666666,
              "#ed7953"
             ],
             [
              0.7777777777777778,
              "#fb9f3a"
             ],
             [
              0.8888888888888888,
              "#fdca26"
             ],
             [
              1,
              "#f0f921"
             ]
            ],
            "type": "heatmapgl"
           }
          ],
          "histogram": [
           {
            "marker": {
             "pattern": {
              "fillmode": "overlay",
              "size": 10,
              "solidity": 0.2
             }
            },
            "type": "histogram"
           }
          ],
          "histogram2d": [
           {
            "colorbar": {
             "outlinewidth": 0,
             "ticks": ""
            },
            "colorscale": [
             [
              0,
              "#0d0887"
             ],
             [
              0.1111111111111111,
              "#46039f"
             ],
             [
              0.2222222222222222,
              "#7201a8"
             ],
             [
              0.3333333333333333,
              "#9c179e"
             ],
             [
              0.4444444444444444,
              "#bd3786"
             ],
             [
              0.5555555555555556,
              "#d8576b"
             ],
             [
              0.6666666666666666,
              "#ed7953"
             ],
             [
              0.7777777777777778,
              "#fb9f3a"
             ],
             [
              0.8888888888888888,
              "#fdca26"
             ],
             [
              1,
              "#f0f921"
             ]
            ],
            "type": "histogram2d"
           }
          ],
          "histogram2dcontour": [
           {
            "colorbar": {
             "outlinewidth": 0,
             "ticks": ""
            },
            "colorscale": [
             [
              0,
              "#0d0887"
             ],
             [
              0.1111111111111111,
              "#46039f"
             ],
             [
              0.2222222222222222,
              "#7201a8"
             ],
             [
              0.3333333333333333,
              "#9c179e"
             ],
             [
              0.4444444444444444,
              "#bd3786"
             ],
             [
              0.5555555555555556,
              "#d8576b"
             ],
             [
              0.6666666666666666,
              "#ed7953"
             ],
             [
              0.7777777777777778,
              "#fb9f3a"
             ],
             [
              0.8888888888888888,
              "#fdca26"
             ],
             [
              1,
              "#f0f921"
             ]
            ],
            "type": "histogram2dcontour"
           }
          ],
          "mesh3d": [
           {
            "colorbar": {
             "outlinewidth": 0,
             "ticks": ""
            },
            "type": "mesh3d"
           }
          ],
          "parcoords": [
           {
            "line": {
             "colorbar": {
              "outlinewidth": 0,
              "ticks": ""
             }
            },
            "type": "parcoords"
           }
          ],
          "pie": [
           {
            "automargin": true,
            "type": "pie"
           }
          ],
          "scatter": [
           {
            "fillpattern": {
             "fillmode": "overlay",
             "size": 10,
             "solidity": 0.2
            },
            "type": "scatter"
           }
          ],
          "scatter3d": [
           {
            "line": {
             "colorbar": {
              "outlinewidth": 0,
              "ticks": ""
             }
            },
            "marker": {
             "colorbar": {
              "outlinewidth": 0,
              "ticks": ""
             }
            },
            "type": "scatter3d"
           }
          ],
          "scattercarpet": [
           {
            "marker": {
             "colorbar": {
              "outlinewidth": 0,
              "ticks": ""
             }
            },
            "type": "scattercarpet"
           }
          ],
          "scattergeo": [
           {
            "marker": {
             "colorbar": {
              "outlinewidth": 0,
              "ticks": ""
             }
            },
            "type": "scattergeo"
           }
          ],
          "scattergl": [
           {
            "marker": {
             "colorbar": {
              "outlinewidth": 0,
              "ticks": ""
             }
            },
            "type": "scattergl"
           }
          ],
          "scattermapbox": [
           {
            "marker": {
             "colorbar": {
              "outlinewidth": 0,
              "ticks": ""
             }
            },
            "type": "scattermapbox"
           }
          ],
          "scatterpolar": [
           {
            "marker": {
             "colorbar": {
              "outlinewidth": 0,
              "ticks": ""
             }
            },
            "type": "scatterpolar"
           }
          ],
          "scatterpolargl": [
           {
            "marker": {
             "colorbar": {
              "outlinewidth": 0,
              "ticks": ""
             }
            },
            "type": "scatterpolargl"
           }
          ],
          "scatterternary": [
           {
            "marker": {
             "colorbar": {
              "outlinewidth": 0,
              "ticks": ""
             }
            },
            "type": "scatterternary"
           }
          ],
          "surface": [
           {
            "colorbar": {
             "outlinewidth": 0,
             "ticks": ""
            },
            "colorscale": [
             [
              0,
              "#0d0887"
             ],
             [
              0.1111111111111111,
              "#46039f"
             ],
             [
              0.2222222222222222,
              "#7201a8"
             ],
             [
              0.3333333333333333,
              "#9c179e"
             ],
             [
              0.4444444444444444,
              "#bd3786"
             ],
             [
              0.5555555555555556,
              "#d8576b"
             ],
             [
              0.6666666666666666,
              "#ed7953"
             ],
             [
              0.7777777777777778,
              "#fb9f3a"
             ],
             [
              0.8888888888888888,
              "#fdca26"
             ],
             [
              1,
              "#f0f921"
             ]
            ],
            "type": "surface"
           }
          ],
          "table": [
           {
            "cells": {
             "fill": {
              "color": "#EBF0F8"
             },
             "line": {
              "color": "white"
             }
            },
            "header": {
             "fill": {
              "color": "#C8D4E3"
             },
             "line": {
              "color": "white"
             }
            },
            "type": "table"
           }
          ]
         },
         "layout": {
          "annotationdefaults": {
           "arrowcolor": "#2a3f5f",
           "arrowhead": 0,
           "arrowwidth": 1
          },
          "autotypenumbers": "strict",
          "coloraxis": {
           "colorbar": {
            "outlinewidth": 0,
            "ticks": ""
           }
          },
          "colorscale": {
           "diverging": [
            [
             0,
             "#8e0152"
            ],
            [
             0.1,
             "#c51b7d"
            ],
            [
             0.2,
             "#de77ae"
            ],
            [
             0.3,
             "#f1b6da"
            ],
            [
             0.4,
             "#fde0ef"
            ],
            [
             0.5,
             "#f7f7f7"
            ],
            [
             0.6,
             "#e6f5d0"
            ],
            [
             0.7,
             "#b8e186"
            ],
            [
             0.8,
             "#7fbc41"
            ],
            [
             0.9,
             "#4d9221"
            ],
            [
             1,
             "#276419"
            ]
           ],
           "sequential": [
            [
             0,
             "#0d0887"
            ],
            [
             0.1111111111111111,
             "#46039f"
            ],
            [
             0.2222222222222222,
             "#7201a8"
            ],
            [
             0.3333333333333333,
             "#9c179e"
            ],
            [
             0.4444444444444444,
             "#bd3786"
            ],
            [
             0.5555555555555556,
             "#d8576b"
            ],
            [
             0.6666666666666666,
             "#ed7953"
            ],
            [
             0.7777777777777778,
             "#fb9f3a"
            ],
            [
             0.8888888888888888,
             "#fdca26"
            ],
            [
             1,
             "#f0f921"
            ]
           ],
           "sequentialminus": [
            [
             0,
             "#0d0887"
            ],
            [
             0.1111111111111111,
             "#46039f"
            ],
            [
             0.2222222222222222,
             "#7201a8"
            ],
            [
             0.3333333333333333,
             "#9c179e"
            ],
            [
             0.4444444444444444,
             "#bd3786"
            ],
            [
             0.5555555555555556,
             "#d8576b"
            ],
            [
             0.6666666666666666,
             "#ed7953"
            ],
            [
             0.7777777777777778,
             "#fb9f3a"
            ],
            [
             0.8888888888888888,
             "#fdca26"
            ],
            [
             1,
             "#f0f921"
            ]
           ]
          },
          "colorway": [
           "#636efa",
           "#EF553B",
           "#00cc96",
           "#ab63fa",
           "#FFA15A",
           "#19d3f3",
           "#FF6692",
           "#B6E880",
           "#FF97FF",
           "#FECB52"
          ],
          "font": {
           "color": "#2a3f5f"
          },
          "geo": {
           "bgcolor": "white",
           "lakecolor": "white",
           "landcolor": "#E5ECF6",
           "showlakes": true,
           "showland": true,
           "subunitcolor": "white"
          },
          "hoverlabel": {
           "align": "left"
          },
          "hovermode": "closest",
          "mapbox": {
           "style": "light"
          },
          "paper_bgcolor": "white",
          "plot_bgcolor": "#E5ECF6",
          "polar": {
           "angularaxis": {
            "gridcolor": "white",
            "linecolor": "white",
            "ticks": ""
           },
           "bgcolor": "#E5ECF6",
           "radialaxis": {
            "gridcolor": "white",
            "linecolor": "white",
            "ticks": ""
           }
          },
          "scene": {
           "xaxis": {
            "backgroundcolor": "#E5ECF6",
            "gridcolor": "white",
            "gridwidth": 2,
            "linecolor": "white",
            "showbackground": true,
            "ticks": "",
            "zerolinecolor": "white"
           },
           "yaxis": {
            "backgroundcolor": "#E5ECF6",
            "gridcolor": "white",
            "gridwidth": 2,
            "linecolor": "white",
            "showbackground": true,
            "ticks": "",
            "zerolinecolor": "white"
           },
           "zaxis": {
            "backgroundcolor": "#E5ECF6",
            "gridcolor": "white",
            "gridwidth": 2,
            "linecolor": "white",
            "showbackground": true,
            "ticks": "",
            "zerolinecolor": "white"
           }
          },
          "shapedefaults": {
           "line": {
            "color": "#2a3f5f"
           }
          },
          "ternary": {
           "aaxis": {
            "gridcolor": "white",
            "linecolor": "white",
            "ticks": ""
           },
           "baxis": {
            "gridcolor": "white",
            "linecolor": "white",
            "ticks": ""
           },
           "bgcolor": "#E5ECF6",
           "caxis": {
            "gridcolor": "white",
            "linecolor": "white",
            "ticks": ""
           }
          },
          "title": {
           "x": 0.05
          },
          "xaxis": {
           "automargin": true,
           "gridcolor": "white",
           "linecolor": "white",
           "ticks": "",
           "title": {
            "standoff": 15
           },
           "zerolinecolor": "white",
           "zerolinewidth": 2
          },
          "yaxis": {
           "automargin": true,
           "gridcolor": "white",
           "linecolor": "white",
           "ticks": "",
           "title": {
            "standoff": 15
           },
           "zerolinecolor": "white",
           "zerolinewidth": 2
          }
         }
        },
        "title": {
         "text": "Hammer"
        },
        "xaxis": {
         "anchor": "y",
         "domain": [
          0,
          1
         ],
         "title": {
          "text": "Mean of Flights 4 to 6"
         }
        },
        "yaxis": {
         "anchor": "x",
         "domain": [
          0,
          1
         ],
         "title": {
          "text": "Mean of Flights 1 to 3"
         }
        }
       }
      }
     },
     "metadata": {},
     "output_type": "display_data"
    }
   ],
   "source": [
    "import plotly.express as px\n",
    "\n",
    "# loop through each unique event in the dataset\n",
    "for event in df['Event'].unique():\n",
    "    # filter dataset by event\n",
    "    event_df = df[df['Event'] == event]\n",
    "\n",
    "    # plot data with a different color for each gender\n",
    "    fig = px.scatter(event_df, x='mean_x', y='mean_y', color='Male_Female',\n",
    "                     title=event, labels={'mean_x': 'Mean of Flights 4 to 6', 'mean_y': 'Mean of Flights 1 to 3'})\n",
    "    fig.show()"
   ]
  },
  {
   "cell_type": "code",
   "execution_count": 9,
   "metadata": {},
   "outputs": [],
   "source": [
    "# create a new column 'gender' with 0 for female and 1 for male\n",
    "df['gender'] = df['Male_Female'].apply(lambda x: 1 if x == 'Male' else 0)\n",
    "\n",
    "# create a new dataframe with the relevant columns\n",
    "df_rf = df[['gender', 'Flight1', 'Flight2', 'Flight3', 'Flight4', 'Flight5', 'Flight6', 'Event']]"
   ]
  },
  {
   "cell_type": "code",
   "execution_count": 10,
   "metadata": {},
   "outputs": [
    {
     "data": {
      "text/plain": [
       "array(['Shot Put', 'Weight', 'Javelin', 'Discus', 'Hammer'], dtype=object)"
      ]
     },
     "execution_count": 10,
     "metadata": {},
     "output_type": "execute_result"
    }
   ],
   "source": [
    "from sklearn.model_selection import train_test_split\n",
    "\n",
    "# split the data into training and testing sets\n",
    "X = df_rf.drop('Event', axis=1)\n",
    "y = df_rf['Event']\n",
    "X_train, X_test, y_train, y_test = train_test_split(X, y, test_size=0.2, random_state=0)\n",
    "y.unique()"
   ]
  },
  {
   "cell_type": "code",
   "execution_count": 11,
   "metadata": {},
   "outputs": [
    {
     "data": {
      "application/vnd.plotly.v1+json": {
       "config": {
        "plotlyServerURL": "https://plot.ly"
       },
       "data": [
        {
         "hovertemplate": "mean_x=%{x}<br>mean_y=%{y}<br>Cluster=%{marker.color}<extra></extra>",
         "legendgroup": "",
         "marker": {
          "color": [
           0,
           0,
           0,
           0,
           0,
           0,
           0,
           0,
           0,
           0,
           0,
           0,
           0,
           0,
           0,
           0,
           0,
           0,
           0,
           0,
           0,
           0,
           0,
           0,
           0,
           0,
           0,
           0,
           0,
           0,
           0,
           0,
           0,
           0,
           0,
           0,
           0,
           0,
           0,
           0,
           0,
           0,
           0,
           0,
           3,
           1,
           2,
           2,
           3,
           2,
           2,
           1,
           1,
           1,
           1,
           3,
           4,
           3,
           1,
           4,
           3,
           4,
           3,
           3,
           3,
           4,
           4,
           3,
           1,
           2,
           3,
           4,
           0,
           3,
           3,
           2,
           1,
           3,
           2,
           1,
           1,
           3,
           1,
           2,
           4,
           3,
           1,
           2,
           0,
           0,
           0,
           0,
           0,
           0,
           0,
           0,
           0,
           0,
           0,
           0,
           0,
           0,
           0,
           0,
           0,
           0,
           0,
           0,
           0,
           0,
           0,
           0,
           0,
           0,
           0,
           0,
           0,
           0,
           0,
           0,
           0,
           0,
           0,
           0,
           0,
           0,
           0,
           0,
           0,
           0,
           0,
           0,
           0,
           0,
           1,
           3,
           3,
           2,
           2,
           2,
           3,
           3,
           2,
           3,
           4,
           2,
           3,
           3,
           3,
           3,
           3,
           4,
           3,
           4,
           3,
           2,
           3,
           2,
           4,
           1,
           3,
           4,
           3,
           4,
           1,
           3,
           1,
           1,
           1,
           1,
           1,
           1,
           3,
           3,
           2,
           1,
           2,
           2,
           1,
           0,
           0,
           0,
           0,
           0,
           0,
           0,
           0,
           0,
           0,
           0,
           0,
           0,
           0,
           0,
           0,
           0,
           0,
           0,
           0,
           0,
           0,
           0,
           0,
           0,
           0,
           0,
           0,
           0,
           1,
           1,
           2,
           3,
           2,
           1,
           2,
           3,
           1,
           0,
           0,
           0,
           0,
           0,
           0,
           0,
           0,
           0,
           2,
           2,
           2,
           1,
           2,
           4,
           4,
           4,
           4,
           1,
           1,
           1,
           2,
           2,
           3,
           1,
           2,
           4,
           4,
           4,
           1,
           2,
           2,
           1,
           2,
           2,
           2,
           2,
           3,
           2,
           3,
           3,
           4,
           4,
           1,
           4,
           2,
           1,
           1,
           2,
           4,
           1,
           4,
           0,
           0,
           0,
           0,
           0,
           0,
           0,
           0,
           0,
           0,
           0,
           0,
           0,
           2,
           1,
           4,
           3,
           2,
           1,
           3,
           4,
           2,
           1,
           3,
           1,
           2,
           1,
           1,
           3,
           4,
           4,
           4,
           0,
           0,
           0,
           0,
           0,
           0,
           0,
           0,
           1,
           1,
           1,
           3,
           3,
           3,
           4,
           2,
           2,
           3,
           2,
           4,
           0,
           3,
           3,
           0,
           0,
           0,
           0,
           0,
           0,
           0,
           1,
           2,
           1,
           2,
           1,
           2,
           1,
           4,
           3,
           3,
           3,
           4,
           3,
           1,
           4,
           3,
           0,
           0,
           0,
           0,
           0,
           0,
           0,
           0,
           0,
           0,
           0,
           1,
           1,
           4,
           0,
           4,
           3,
           4,
           1,
           4,
           0,
           0,
           0,
           0,
           0,
           0,
           0,
           0,
           3,
           4,
           4,
           1,
           3,
           4,
           4,
           0,
           0,
           0,
           0,
           0,
           0,
           0,
           0,
           0,
           0,
           0,
           0,
           0,
           0,
           0,
           0,
           0,
           0,
           0,
           0,
           0,
           0,
           0,
           0,
           0,
           0,
           0,
           0,
           0,
           0,
           0,
           0,
           0,
           0,
           0,
           0,
           0,
           0,
           0,
           2,
           2,
           1,
           2,
           2,
           2,
           1,
           1,
           1,
           2,
           1,
           1,
           4,
           2,
           2,
           3,
           4,
           3,
           4,
           4,
           0,
           1,
           2,
           0,
           2,
           0,
           1,
           3,
           0,
           0,
           0,
           2,
           1,
           2,
           2,
           1,
           4,
           3,
           1,
           3,
           4,
           3,
           4,
           1,
           2,
           4,
           4,
           3,
           4,
           2,
           4,
           0,
           0,
           3,
           0,
           3,
           1,
           2,
           2,
           2,
           2,
           4,
           1,
           4,
           0,
           3,
           4,
           4,
           0,
           3,
           4,
           4,
           4,
           4,
           4,
           4,
           0,
           3,
           0,
           1,
           3,
           3,
           1,
           3,
           3,
           1,
           4,
           4,
           4,
           3,
           4,
           3,
           1,
           4,
           3,
           4,
           1,
           4,
           3,
           0,
           3,
           4,
           4,
           3,
           0,
           4,
           2,
           0,
           3,
           4,
           1,
           1,
           3,
           3,
           3,
           1,
           0,
           1,
           1,
           4,
           4,
           4,
           3,
           4,
           3,
           0,
           4,
           0,
           0,
           0,
           0,
           0,
           0,
           0,
           0,
           0,
           0,
           0,
           0,
           0,
           0,
           0,
           3,
           3,
           1,
           3,
           3,
           1,
           4,
           1,
           3,
           4,
           4,
           3,
           4,
           4,
           1,
           2,
           1,
           4,
           1,
           1,
           3,
           0,
           2,
           3,
           1,
           2,
           4,
           4,
           3,
           2,
           0,
           4,
           4,
           1,
           4,
           3,
           4,
           3,
           0,
           3,
           4,
           0,
           3,
           3,
           0,
           3,
           4,
           3,
           0,
           3,
           4,
           0,
           4,
           0,
           0,
           3,
           2,
           4,
           3,
           1,
           4,
           4,
           0,
           4,
           4,
           3,
           3,
           0,
           3,
           0,
           0,
           0,
           0,
           0,
           0,
           0,
           0,
           3,
           4,
           4,
           0,
           3,
           0,
           0,
           0,
           3,
           4,
           2,
           1,
           1,
           2,
           2,
           1,
           4,
           2,
           1,
           2,
           3,
           3,
           3,
           3,
           4,
           3,
           1,
           4,
           4,
           0,
           0,
           0,
           3,
           2,
           2,
           2,
           4,
           4,
           4,
           0,
           4,
           3,
           4,
           3,
           0,
           0,
           0,
           0,
           0,
           0,
           0,
           0,
           0,
           0,
           0,
           0,
           0,
           0,
           0,
           0,
           0,
           0,
           0,
           0,
           0,
           0,
           0,
           0,
           0,
           0,
           0,
           0,
           0,
           0,
           0,
           0,
           0,
           0,
           2,
           2,
           2,
           2,
           2,
           3,
           2,
           1,
           2,
           1,
           1,
           2,
           2,
           2,
           1,
           3,
           3,
           4,
           1,
           4,
           3,
           4,
           3,
           0,
           1,
           2,
           1,
           2,
           4,
           1,
           1,
           0,
           1,
           1,
           1,
           4,
           4,
           2,
           4,
           3,
           0,
           4,
           2,
           3,
           1,
           1,
           3,
           1,
           1,
           0,
           0,
           1,
           1,
           4,
           0,
           4,
           2,
           2,
           2,
           1,
           4,
           4,
           3,
           3,
           3,
           3,
           3,
           0,
           0,
           3,
           3,
           4,
           1,
           4,
           4,
           1,
           3,
           0,
           4,
           1,
           3,
           3,
           3,
           3,
           3,
           4,
           4,
           3,
           3,
           2,
           3,
           1,
           3,
           0,
           0,
           3,
           1,
           3,
           4,
           3,
           1,
           4,
           3,
           4,
           1,
           1,
           3,
           4,
           2,
           1,
           1,
           0,
           4,
           1,
           1,
           1,
           4,
           4,
           4,
           0,
           0,
           0,
           1,
           1,
           2,
           1,
           3,
           1,
           2,
           2,
           0,
           0,
           0,
           1,
           3,
           3,
           3,
           4,
           1,
           3,
           1,
           0,
           0,
           4,
           1,
           3,
           4,
           0,
           4,
           4,
           4,
           4,
           0,
           0,
           0,
           0,
           0,
           0,
           0,
           0,
           0,
           0,
           0,
           0,
           0,
           0,
           0,
           3,
           4,
           2,
           4,
           4,
           2,
           3,
           4,
           1,
           2,
           1,
           1,
           2,
           1,
           2,
           1,
           1,
           1,
           1,
           2,
           3,
           2,
           1,
           3,
           0,
           0,
           0,
           0,
           0,
           0,
           0,
           0,
           3,
           4,
           3,
           3,
           4,
           4,
           4,
           3,
           1,
           2,
           2,
           1,
           2,
           1,
           1,
           3,
           3,
           3,
           3,
           4,
           4,
           1,
           3,
           1,
           3,
           0,
           0,
           0,
           0,
           0,
           0,
           0,
           0,
           1,
           4,
           3,
           4,
           3,
           4,
           3,
           4,
           3,
           2,
           2,
           4,
           1,
           1,
           0,
           2,
           2,
           2,
           1,
           2,
           2,
           0,
           2,
           1,
           0,
           0,
           0,
           0,
           0,
           0,
           0,
           0,
           4,
           1,
           4,
           4,
           4,
           3,
           0,
           0,
           1,
           1,
           2,
           1,
           2,
           0,
           1,
           1,
           3,
           3,
           3,
           3,
           3,
           0,
           0,
           0,
           0,
           0,
           0,
           0,
           0,
           1,
           2,
           1,
           2,
           2,
           0,
           3,
           4,
           3,
           4,
           4,
           4,
           3,
           1,
           1,
           2,
           4,
           4,
           4,
           1,
           2,
           3,
           1,
           2,
           3,
           1,
           3,
           1,
           3,
           0,
           0,
           0,
           0,
           0,
           0,
           0,
           0,
           0,
           0,
           3,
           4,
           3,
           4,
           0,
           4,
           1,
           4,
           4,
           3,
           3,
           4,
           2,
           2,
           3,
           0,
           0,
           3,
           0,
           2,
           4,
           4,
           4,
           4,
           2,
           1,
           3,
           4,
           4,
           0,
           3,
           4,
           0,
           0,
           0,
           0,
           0,
           0,
           3,
           3,
           3,
           3,
           3,
           0,
           0,
           0,
           0,
           3,
           0,
           3,
           3,
           0,
           3,
           0,
           0,
           3,
           3,
           3,
           0,
           3,
           3,
           0,
           0,
           3,
           0,
           0,
           3,
           2,
           1,
           1,
           3,
           3,
           2,
           1,
           2,
           3,
           2,
           1,
           3,
           4,
           3,
           4,
           2,
           2,
           4,
           3,
           4,
           1,
           1,
           0,
           0,
           0,
           0,
           0,
           0,
           0,
           0,
           4,
           4,
           3,
           1,
           3,
           3,
           4,
           3,
           0,
           0,
           0,
           0,
           0,
           0,
           2,
           4,
           3,
           2,
           2,
           4,
           2,
           3,
           2,
           3,
           1,
           2,
           1,
           3,
           4,
           2,
           1,
           3,
           1,
           2,
           4,
           3,
           4,
           0,
           0,
           2,
           1,
           4,
           0,
           3,
           4,
           1,
           1,
           4,
           1,
           4,
           1,
           3,
           1,
           4,
           0,
           4,
           2,
           2,
           3,
           4,
           1,
           1,
           3,
           1,
           4,
           3,
           0,
           3,
           1,
           1,
           1,
           2,
           1,
           2,
           3,
           3,
           0,
           0,
           0,
           0,
           0,
           0,
           0,
           0,
           0,
           0,
           0,
           0,
           0,
           0,
           0,
           0,
           0,
           1,
           2,
           0,
           3,
           0,
           3,
           0,
           0,
           4,
           3,
           2,
           1,
           4,
           4,
           4,
           4,
           4,
           3,
           0,
           3,
           4,
           4,
           3,
           1,
           2,
           2,
           1,
           4,
           1,
           2,
           2,
           3,
           1,
           1,
           3,
           3,
           0,
           1,
           2,
           3,
           2,
           1,
           2,
           2,
           0,
           0,
           0,
           0,
           0,
           0,
           1,
           0,
           2,
           3,
           2,
           2,
           2,
           4,
           0,
           0,
           0,
           0,
           0,
           0,
           0,
           0,
           0,
           0,
           0,
           0,
           0,
           0,
           0,
           0,
           0,
           0,
           0,
           0,
           0,
           0,
           0,
           0,
           0,
           0,
           0,
           0,
           0,
           0,
           0,
           0,
           0,
           0,
           0,
           0,
           0,
           0,
           0,
           0,
           0,
           0,
           2,
           1,
           4,
           2,
           1,
           1,
           1,
           2,
           0,
           0,
           0,
           0,
           0,
           0,
           0,
           0,
           0,
           0,
           0,
           0,
           0,
           0,
           0,
           0,
           0,
           0,
           0,
           0,
           0,
           0,
           0,
           0,
           0,
           0,
           0,
           0,
           0,
           0,
           0,
           0,
           0,
           0,
           0,
           0,
           0,
           0,
           0,
           0,
           0,
           0,
           0,
           0,
           0,
           0,
           0,
           0,
           0,
           0,
           0,
           0,
           0,
           0,
           0,
           0,
           0,
           0,
           0,
           0,
           0,
           0,
           0,
           0,
           0,
           0,
           0,
           0,
           0,
           0,
           0,
           0,
           0,
           0,
           0,
           0,
           0,
           0,
           0,
           0,
           1,
           2,
           4,
           2,
           4,
           4,
           4,
           0,
           0,
           0,
           0,
           0,
           0,
           0,
           0,
           0,
           0,
           0,
           0,
           0,
           0,
           0,
           0,
           0,
           0,
           0,
           0,
           0,
           0,
           0,
           0,
           0,
           0,
           0,
           0,
           0,
           0,
           0,
           0,
           1,
           0,
           3,
           0,
           4,
           4,
           3,
           2,
           0,
           4,
           1,
           4,
           4,
           3,
           2,
           0,
           3,
           1,
           2,
           4,
           3,
           4,
           3,
           1,
           4,
           1,
           4,
           1,
           3,
           0,
           0,
           0,
           0,
           0,
           0,
           3,
           4,
           1,
           4,
           0,
           0,
           0,
           0,
           0,
           0,
           0,
           0,
           0,
           0,
           2,
           1,
           2,
           2,
           1,
           1,
           2,
           1,
           0,
           0,
           3,
           0,
           4,
           0,
           1,
           2,
           4,
           2,
           2,
           4,
           4,
           4,
           0,
           3,
           2,
           1,
           4,
           3,
           3,
           3,
           1,
           2,
           3,
           3,
           4,
           3,
           0,
           4,
           2,
           3,
           1,
           3,
           3,
           0,
           1,
           0,
           3,
           2,
           2,
           3,
           0,
           2,
           3,
           4,
           0,
           4,
           3,
           4,
           4,
           4,
           3,
           3,
           0,
           0,
           0,
           0,
           0,
           0,
           0,
           2,
           2,
           2,
           1,
           1,
           2,
           2,
           2,
           0,
           0,
           0,
           0,
           0,
           0,
           0,
           0,
           0,
           0,
           0,
           0,
           0,
           0,
           0,
           0,
           1,
           1,
           1,
           2,
           1,
           1,
           4,
           4,
           4,
           4,
           3,
           4,
           2,
           3,
           2,
           1,
           2,
           1,
           1,
           2,
           3,
           1,
           2,
           2,
           1,
           4,
           1,
           2,
           2,
           3,
           2,
           1,
           3,
           2,
           1,
           3,
           2,
           0,
           0,
           0,
           0,
           0,
           0,
           0,
           3,
           4,
           2,
           1,
           4,
           3,
           2,
           1,
           0,
           0,
           4,
           4,
           3,
           4,
           0,
           0,
           0,
           0,
           0,
           0,
           0,
           0,
           0,
           0,
           0,
           0,
           0,
           0,
           0,
           0,
           0,
           0,
           0,
           0,
           0,
           0,
           0,
           0,
           0,
           0,
           0,
           0,
           0,
           0,
           0,
           0,
           0,
           0,
           0,
           0,
           0,
           0,
           0,
           2,
           1,
           1,
           1,
           2,
           4,
           1,
           2,
           1,
           3,
           2,
           1,
           0,
           1,
           2,
           1,
           2,
           3,
           2,
           3,
           1,
           1,
           1,
           4,
           1,
           1,
           3,
           0,
           0,
           0,
           0,
           0,
           0,
           0,
           0,
           1,
           3,
           0,
           4,
           0,
           0,
           0,
           0,
           0,
           2,
           2,
           2,
           1,
           3,
           4,
           3,
           4,
           1,
           1,
           4,
           1,
           4,
           1,
           3,
           3,
           1,
           4,
           2,
           3,
           0,
           2,
           3,
           3,
           3,
           1,
           2,
           1,
           3,
           4,
           1,
           1,
           2,
           2,
           2,
           2,
           4,
           4,
           3,
           4,
           4,
           0,
           0,
           0,
           0,
           0,
           0,
           0,
           0,
           0,
           0,
           0,
           0,
           0,
           0,
           0,
           0,
           0,
           2,
           2,
           2,
           1,
           2,
           3,
           0,
           2,
           2,
           1,
           3,
           3,
           1,
           1,
           1,
           1,
           3,
           2,
           2,
           1,
           3,
           3,
           2,
           1,
           1,
           1,
           3,
           3,
           1,
           0,
           0,
           0,
           0,
           0,
           0,
           0,
           2,
           3,
           2,
           3,
           2,
           2,
           4,
           3,
           1,
           2,
           1,
           1,
           2,
           2,
           3,
           0,
           0,
           0,
           0,
           0,
           0,
           0,
           2,
           2,
           2,
           2,
           2,
           2,
           3,
           3,
           3,
           3,
           3,
           1,
           1,
           2,
           3,
           2,
           2,
           3,
           2,
           1,
           1,
           2,
           2,
           2,
           1,
           3,
           4,
           3,
           1,
           3,
           4,
           3,
           4,
           1,
           2,
           3,
           3,
           0,
           4,
           4,
           4,
           4,
           4,
           0,
           0,
           0,
           0,
           0,
           0,
           0,
           0,
           0,
           0,
           0,
           0,
           0,
           0,
           0,
           0,
           0,
           1,
           1,
           1,
           1,
           1,
           1,
           1,
           1,
           1,
           2,
           2,
           0,
           3,
           4,
           3,
           4,
           0,
           0,
           0,
           0,
           0,
           0,
           0,
           0,
           0,
           0,
           0,
           0,
           0,
           4,
           4,
           4,
           4,
           4,
           4,
           0,
           0,
           0,
           0,
           0,
           0,
           1,
           2,
           2,
           2,
           2,
           2,
           2,
           2,
           0,
           3,
           4,
           3,
           0,
           0,
           3,
           4,
           0,
           3,
           3,
           3,
           4,
           4,
           0,
           0,
           0,
           0,
           0,
           0,
           0,
           0,
           0,
           0,
           0,
           0,
           0,
           1,
           1,
           3,
           1,
           1,
           4,
           3,
           3,
           4,
           0,
           0,
           0,
           0,
           0,
           0,
           0,
           0,
           1,
           2,
           1,
           1,
           1,
           2,
           1,
           1,
           2,
           0,
           0,
           0,
           0,
           0,
           0,
           0,
           4,
           3,
           4,
           0,
           0,
           0,
           0,
           0,
           0,
           0,
           2,
           3,
           4,
           1,
           4,
           4,
           3,
           3,
           1,
           1,
           1,
           1,
           2,
           1,
           0,
           1,
           1,
           4,
           3,
           3,
           4,
           1,
           4,
           4,
           0,
           0,
           0,
           0,
           0,
           3,
           1,
           1,
           2,
           2,
           3,
           3,
           4,
           2,
           1,
           0,
           3,
           2,
           1,
           1,
           3,
           2,
           2,
           3,
           2,
           2,
           2,
           3,
           3
          ],
          "coloraxis": "coloraxis",
          "symbol": "circle"
         },
         "mode": "markers",
         "name": "",
         "showlegend": false,
         "type": "scattergl",
         "x": [
          14.443333333333333,
          13.846666666666666,
          6.8500000000000005,
          13.006666666666666,
          12.873333333333335,
          18.77333333333333,
          18.61,
          6.213333333333334,
          18.94333333333333,
          17.38,
          17.55666666666667,
          10.726666666666667,
          10.54,
          15.516666666666666,
          15.469999999999999,
          15.193333333333333,
          15.51,
          21.89,
          20.863333333333333,
          7.126666666666666,
          13.676666666666668,
          20.113333333333333,
          6.803333333333334,
          23.513333333333335,
          15.753333333333332,
          15.003333333333336,
          14.606666666666667,
          6.876666666666666,
          6.786666666666666,
          13,
          7.113333333333333,
          20.790000000000003,
          6.59,
          6.496666666666666,
          6.613333333333333,
          6.506666666666667,
          12.656666666666666,
          12.99,
          18.23,
          11.82,
          5.3933333333333335,
          10.856666666666667,
          10.716666666666667,
          15.256666666666666,
          27.833333333333332,
          80.33,
          74.95333333333333,
          69.41000000000001,
          24.313333333333333,
          68.09,
          46.50333333333333,
          56.81666666666666,
          55.68666666666667,
          53.77333333333333,
          54.20666666666667,
          34.39,
          33.89666666666667,
          16.266666666666666,
          47.63999999999999,
          39.39666666666667,
          39.35333333333333,
          41.00333333333333,
          19.18,
          20.01,
          19.49,
          39.166666666666664,
          38.74,
          19.983333333333334,
          60.55666666666667,
          57.836666666666666,
          19.276666666666667,
          56.379999999999995,
          18.103333333333335,
          18.683333333333334,
          24.543333333333333,
          71.67666666666666,
          71.64,
          23.826666666666668,
          45.54,
          66.92333333333333,
          44.23666666666667,
          24.136666666666667,
          72.33999999999999,
          47.89000000000001,
          45.169999999999995,
          22.49,
          45.20666666666667,
          65.08999999999999,
          14.313333333333333,
          6.989999999999999,
          14.183333333333332,
          13.373333333333335,
          13.796666666666667,
          13.020000000000001,
          6.593333333333334,
          6.133333333333333,
          6.1499999999999995,
          11.596666666666666,
          5.98,
          11.406666666666666,
          5.873333333333334,
          5.71,
          5.71,
          10.943333333333333,
          15.643333333333333,
          15.313333333333333,
          15.076666666666668,
          21.733333333333334,
          20.916666666666668,
          7.256666666666667,
          20.26,
          19.94666666666667,
          15.433333333333332,
          23.30666666666667,
          22.74,
          14.680000000000001,
          7.383333333333333,
          14.58,
          12.780000000000001,
          11.983333333333334,
          21.316666666666666,
          20.810000000000002,
          6.926666666666667,
          6.433333333333334,
          12.953333333333333,
          13.333333333333334,
          13.263333333333334,
          12.75,
          12.603333333333333,
          18.276666666666667,
          11.523333333333333,
          17.153333333333332,
          11.423333333333332,
          11.030000000000001,
          51.81666666666666,
          25.853333333333335,
          25.486666666666665,
          76.44,
          49.833333333333336,
          47.86333333333334,
          21.58,
          23.099999999999998,
          60.620000000000005,
          20.173333333333336,
          37.79666666666667,
          56.20333333333334,
          34.85333333333333,
          19.06,
          18.81,
          17.330000000000002,
          20.44333333333333,
          38.26,
          19.593333333333334,
          38,
          20.153333333333332,
          59.96666666666667,
          18.993333333333332,
          43.20333333333334,
          39.906666666666666,
          57.623333333333335,
          19.453333333333333,
          37.50666666666667,
          38.07666666666667,
          38.10333333333333,
          47.826666666666675,
          23.536666666666665,
          47.99333333333333,
          71.51333333333334,
          46.426666666666655,
          69.58,
          68.97,
          48.156666666666666,
          23.906666666666666,
          23.78333333333333,
          68.51333333333334,
          44.35999999999999,
          67.63333333333334,
          43.086666666666666,
          44.73,
          6.766666666666667,
          12.563333333333333,
          6.22,
          12.343333333333334,
          6.04,
          18.05,
          6.146666666666667,
          19.276666666666667,
          17.886666666666667,
          11.82,
          11.693333333333333,
          11.206666666666665,
          16.743333333333336,
          5.296666666666667,
          22.75,
          23.03333333333333,
          22.396666666666665,
          7.513333333333333,
          6.93,
          14.186666666666667,
          20.653333333333336,
          6.913333333333333,
          7.81,
          23.353333333333335,
          7.2,
          14.733333333333334,
          6.716666666666666,
          19.323333333333334,
          13.06,
          47.4,
          46.81333333333333,
          69.95,
          23.143333333333334,
          43.60999999999999,
          44.96666666666666,
          44.653333333333336,
          22.243333333333336,
          42.88333333333333,
          12.25,
          5.46,
          11.459999999999999,
          11.193333333333333,
          10.996666666666668,
          5.3999999999999995,
          5.3999999999999995,
          10.286666666666667,
          15.613333333333335,
          72.38,
          73.05333333333333,
          70.01,
          42.57333333333333,
          46.50666666666666,
          36.63,
          50.916666666666664,
          32.776666666666664,
          33.39333333333334,
          43.68000000000001,
          45.64666666666667,
          47.53666666666667,
          69.15333333333335,
          66.72666666666667,
          22.683333333333334,
          43.550000000000004,
          63.71333333333333,
          40.14,
          41.169999999999995,
          59.373333333333335,
          56.953333333333326,
          72.14333333333333,
          49.15333333333333,
          72.48333333333333,
          46.39000000000001,
          45.85666666666666,
          45.126666666666665,
          43.21666666666667,
          20.383333333333333,
          62.43666666666667,
          20.666666666666668,
          19.983333333333334,
          60.81666666666667,
          58.830000000000005,
          50.32333333333333,
          48.74,
          66.62333333333333,
          46.70333333333334,
          68.89333333333333,
          41.74333333333333,
          45.13999999999999,
          66.21333333333334,
          43.373333333333335,
          5.653333333333333,
          11.363333333333335,
          5.583333333333333,
          10.636666666666665,
          5.286666666666666,
          5.243333333333333,
          10.376666666666667,
          9.82,
          5.043333333333334,
          19.26,
          6.47,
          6.073333333333333,
          11.936666666666667,
          71.95333333333333,
          46.370000000000005,
          45.593333333333334,
          21.983333333333334,
          65.22333333333334,
          62.63,
          38.86666666666667,
          25.459999999999997,
          71.60333333333334,
          71.36666666666667,
          23.05666666666667,
          45.31333333333333,
          44.21666666666667,
          67.11666666666666,
          65.60666666666667,
          22.08666666666667,
          42.916666666666664,
          41.36333333333334,
          39.693333333333335,
          18.426666666666666,
          6.173333333333333,
          12.08,
          16.69666666666667,
          11.290000000000001,
          5.29,
          10.62,
          10.64,
          76.91666666666667,
          77.44666666666667,
          75.69666666666667,
          23.689999999999998,
          22.093333333333334,
          22.496666666666666,
          41.983333333333334,
          72.40333333333332,
          71.79333333333334,
          22.796666666666667,
          68.81666666666666,
          44.98666666666667,
          22.83,
          22.459999999999997,
          20.486666666666668,
          19.13,
          6.496666666666666,
          18.72,
          6.3,
          12.706666666666669,
          12.176666666666668,
          6.02,
          71.55,
          70.66,
          46.083333333333336,
          68.89999999999999,
          67.57000000000001,
          43.70333333333334,
          65.31666666666666,
          42.01333333333333,
          21.146666666666665,
          35.35,
          18.776666666666667,
          36.50666666666667,
          33.51666666666667,
          53.13666666666666,
          50.673333333333325,
          16.48,
          14.459999999999999,
          14.469999999999999,
          6.863333333333333,
          13.743333333333334,
          13.449999999999998,
          19.896666666666665,
          21.163333333333334,
          21.01,
          6.3500000000000005,
          6.5,
          19.28333333333333,
          69.46000000000001,
          44.51333333333333,
          44.45666666666667,
          22.44666666666667,
          40.526666666666664,
          19.78,
          38.96,
          53.586666666666666,
          33.806666666666665,
          11.153333333333334,
          10.623333333333333,
          10.333333333333334,
          10.03,
          5.026666666666666,
          13.926666666666668,
          4.8,
          13.556666666666667,
          16.246666666666666,
          51.29,
          50.623333333333335,
          49.169999999999995,
          15.719999999999999,
          32.123333333333335,
          46.03333333333333,
          13.103333333333333,
          13.003333333333332,
          6.456666666666667,
          12.839999999999998,
          12.506666666666666,
          12.153333333333334,
          6.0566666666666675,
          5.666666666666667,
          9.696666666666667,
          19.956666666666667,
          13.453333333333333,
          20.036666666666665,
          19.256666666666664,
          19.473333333333333,
          18.820000000000004,
          19.07,
          18.316666666666666,
          6.113333333333333,
          12.746666666666668,
          11.806666666666667,
          5.626666666666666,
          16.413333333333334,
          5.523333333333333,
          5.496666666666666,
          5.196666666666666,
          15.799999999999999,
          5.3133333333333335,
          10.336666666666666,
          5.07,
          9.09,
          8.51,
          5.983333333333333,
          11.346666666666666,
          5.5,
          10.76,
          5,
          14.633333333333333,
          4.816666666666666,
          13.706666666666665,
          77.76,
          53.54333333333333,
          78.51666666666667,
          75.26333333333334,
          45.36000000000001,
          71.87,
          48.43333333333334,
          67.64999999999999,
          69.63666666666666,
          43.95333333333334,
          65.26,
          65.35666666666667,
          40.53,
          42.406666666666666,
          60.29666666666666,
          33.52,
          48.56,
          31.99,
          32.483333333333334,
          47.35999999999999,
          24.536666666666665,
          47.48333333333333,
          45.45666666666667,
          22.073333333333334,
          43.913333333333334,
          20.80333333333333,
          60.169999999999995,
          20.45,
          20.39,
          19.956666666666667,
          19.68,
          75.9,
          48.21666666666666,
          71.17999999999999,
          65.97666666666667,
          65.39999999999999,
          41.806666666666665,
          20.566666666666666,
          62.873333333333335,
          20.433333333333334,
          59.48,
          36.443333333333335,
          36.123333333333335,
          69.33333333333333,
          43.56,
          42.77666666666667,
          42.663333333333334,
          20.716666666666665,
          41.54333333333333,
          59.26333333333334,
          40.46,
          19.05666666666667,
          19.886666666666667,
          19.133333333333333,
          19.746666666666666,
          22.459999999999997,
          63.48333333333334,
          62.76333333333333,
          42.29,
          41.336666666666666,
          42.07333333333333,
          40.17666666666667,
          60.81333333333333,
          40.333333333333336,
          19.69333333333333,
          38.10666666666666,
          36.160000000000004,
          36.4,
          14.976666666666667,
          39.903333333333336,
          38.623333333333335,
          36.67,
          36.42333333333334,
          35.00666666666667,
          34,
          50.49,
          16.736666666666668,
          15.066666666666668,
          27.94666666666667,
          62.23,
          20.56,
          38.64666666666667,
          59.050000000000004,
          39.13,
          18.80333333333333,
          56.64666666666667,
          36.6,
          36.39333333333334,
          34.21666666666667,
          17.733333333333334,
          35.02,
          39.28,
          55.60333333333333,
          38.946666666666665,
          35.25333333333334,
          54.46666666666667,
          51.346666666666664,
          34.016666666666666,
          17.26,
          16.656666666666666,
          16.69333333333333,
          32.85666666666666,
          47.9,
          31.486666666666668,
          14.94,
          39.27333333333333,
          58.09,
          18.80333333333333,
          17.75,
          36.28666666666667,
          52.830000000000005,
          53.60333333333333,
          17.39,
          33.61666666666667,
          16.34,
          47.61000000000001,
          15.263333333333334,
          53.73,
          53.43333333333334,
          30.55333333333333,
          48.4,
          33.300000000000004,
          32.85333333333333,
          49.88666666666666,
          16.506666666666668,
          32.126666666666665,
          39.696666666666665,
          13.39,
          6.426666666666667,
          6.41,
          12.300000000000002,
          17.709999999999997,
          11.743333333333334,
          13.143333333333333,
          12.183333333333332,
          17.840000000000003,
          5.886666666666667,
          5.086666666666667,
          10.573333333333332,
          10.06,
          4.263333333333333,
          8.253333333333332,
          24.653333333333332,
          22.536666666666665,
          59.88999999999999,
          38.696666666666665,
          18.84,
          55.01666666666667,
          33.89666666666667,
          51.93666666666667,
          34.25333333333333,
          50.343333333333334,
          48.949999999999996,
          31.52,
          31.573333333333334,
          45.199999999999996,
          50.160000000000004,
          49.373333333333335,
          43.156666666666666,
          47.24666666666667,
          43.923333333333325,
          65.30666666666667,
          22.016666666666666,
          21.25,
          46.56666666666666,
          22.846666666666668,
          66.38666666666667,
          66.53666666666666,
          44.04666666666666,
          41.75,
          21.19666666666667,
          60.92000000000001,
          19.883333333333333,
          59.24666666666667,
          42.08,
          62.376666666666665,
          41.43333333333333,
          19.99,
          40.376666666666665,
          18.900000000000002,
          16.363333333333333,
          39.79,
          57.336666666666666,
          18.753333333333334,
          36.52,
          18.403333333333332,
          18.34,
          31.150000000000002,
          45.01666666666667,
          18.04,
          18.19,
          34.449999999999996,
          34.21,
          16.94333333333333,
          49.85,
          30.26,
          14.523333333333333,
          20.563333333333333,
          58.43000000000001,
          38.24666666666667,
          19.156666666666666,
          54.52333333333333,
          36.23,
          40.88666666666666,
          20.47,
          59.43333333333334,
          39.73,
          38.95333333333333,
          19.94333333333333,
          19.37333333333333,
          18.813333333333333,
          20.529999999999998,
          12.83,
          12.799999999999999,
          12.116666666666665,
          10.026666666666666,
          15.253333333333332,
          11.766666666666666,
          3.9166666666666665,
          36.92333333333334,
          33.39666666666667,
          44.18333333333334,
          13.733333333333334,
          26.756666666666664,
          11.173333333333334,
          30.27,
          10.27,
          25.373333333333335,
          42.03666666666667,
          41.6,
          57.410000000000004,
          47.906666666666666,
          69.25333333333333,
          46.03,
          45.88999999999999,
          44.800000000000004,
          64.26333333333334,
          43.46,
          42.48,
          20.45,
          18.893333333333334,
          39.056666666666665,
          19.606666666666666,
          37.28,
          20.403333333333332,
          60.46,
          59.416666666666664,
          38.14333333333334,
          18.586666666666666,
          18.963333333333335,
          15.913333333333334,
          14.566666666666668,
          60.126666666666665,
          58.79,
          59.660000000000004,
          53.653333333333336,
          36.72666666666667,
          36.916666666666664,
          17.896666666666665,
          35.70666666666667,
          17.263333333333332,
          34.25333333333333,
          17.253333333333334,
          20.76666666666667,
          6.983333333333333,
          13.410000000000002,
          6.666666666666667,
          6.463333333333334,
          13.016666666666666,
          11.549999999999999,
          12.229999999999999,
          17.046666666666667,
          5.466666666666666,
          9.89,
          14.293333333333331,
          19.593333333333334,
          12.973333333333334,
          11.686666666666667,
          11.366666666666665,
          16.823333333333334,
          5.523333333333333,
          16.03,
          5.213333333333334,
          19.576666666666668,
          12.64,
          12.663333333333332,
          18.790000000000003,
          6.170000000000001,
          12.143333333333333,
          11.5,
          17.189999999999998,
          10.549999999999999,
          16.08,
          9.346666666666666,
          9.040000000000001,
          4.636666666666667,
          4.62,
          79.20333333333333,
          49.54,
          51.99,
          76.55999999999999,
          76.81333333333333,
          25.046666666666667,
          51.89333333333334,
          71.49333333333334,
          47.53,
          67.23666666666668,
          68.39333333333333,
          43.79666666666666,
          65.42333333333333,
          56.70666666666667,
          54.123333333333335,
          16.216666666666665,
          33.1,
          48.50333333333333,
          47.383333333333326,
          37.24,
          17.143333333333334,
          32.46666666666667,
          31.23,
          14.950000000000001,
          48.52333333333333,
          46.35999999999999,
          65.26,
          63.21333333333334,
          61.126666666666665,
          72.65666666666668,
          72.35333333333334,
          24.060000000000002,
          68.82,
          67.57666666666667,
          65.76,
          41.86666666666667,
          42.71666666666667,
          41.800000000000004,
          41.443333333333335,
          19.433333333333334,
          19.400000000000002,
          36.800000000000004,
          74.02666666666666,
          24.25,
          48.129999999999995,
          45.36333333333332,
          21.44666666666667,
          63.89333333333334,
          63.23,
          20.14,
          15.816666666666668,
          73.90666666666668,
          49.343333333333334,
          49.27,
          23.11,
          45.373333333333335,
          43.32333333333333,
          42.64666666666667,
          41.9,
          59.32333333333333,
          40.38,
          40.94,
          20.62,
          20.19,
          20.150000000000002,
          38.36333333333334,
          36.833333333333336,
          17.650000000000002,
          16.599999999999998,
          16.919999999999998,
          16.793333333333333,
          39.723333333333336,
          58.71666666666667,
          37.79666666666667,
          37.830000000000005,
          55.58666666666667,
          18.669999999999998,
          18.473333333333333,
          34.98,
          52.38666666666666,
          35.54333333333333,
          17.12666666666667,
          17.176666666666666,
          34.47333333333333,
          17.476666666666667,
          30.399999999999995,
          44.68666666666667,
          21.156666666666666,
          40.73666666666667,
          59.21,
          40,
          52.89333333333334,
          17.266666666666666,
          17.78,
          32.69,
          19.02,
          59.31666666666667,
          37.07333333333333,
          38.27,
          19.54,
          55.54,
          37.589999999999996,
          17.543333333333333,
          36.916666666666664,
          52.300000000000004,
          52.73333333333333,
          16.79,
          33.53666666666667,
          78.11666666666667,
          46.52,
          70.37666666666667,
          23.543333333333333,
          40.443333333333335,
          64.53,
          61.343333333333334,
          56.54333333333333,
          56.45666666666667,
          54.46,
          47.22,
          16.023333333333333,
          15.316666666666668,
          14.436666666666667,
          44.419999999999995,
          72.81,
          70.80666666666667,
          65.46,
          20.99,
          45.15333333333333,
          43.94333333333333,
          43.29,
          22.150000000000002,
          20.56,
          18.79,
          52.89000000000001,
          33.88,
          19.91,
          19.616666666666667,
          39.31333333333333,
          56.52,
          19.543333333333333,
          51.54,
          17.246666666666666,
          16.849999999999998,
          38.343333333333334,
          55.04666666666666,
          17.99,
          34.56,
          28.933333333333337,
          42.94,
          27.906666666666666,
          41.376666666666665,
          40.12,
          14.290000000000001,
          14.200000000000001,
          13.973333333333334,
          6.636666666666667,
          12.606666666666667,
          6.496666666666666,
          6.343333333333334,
          14.463333333333333,
          21.28666666666667,
          13.943333333333333,
          13.479999999999999,
          20.423333333333332,
          6.8999999999999995,
          13.016666666666666,
          6.516666666666667,
          21.71666666666667,
          41.27,
          41.406666666666666,
          40.596666666666664,
          40.42,
          60.06333333333333,
          19.77,
          39.22333333333333,
          49.19,
          73.50666666666666,
          73.17,
          48.67666666666667,
          70.56666666666666,
          47.81,
          70.70666666666666,
          46.16,
          45.826666666666675,
          79.14666666666666,
          52.06,
          78.53000000000002,
          25.513333333333335,
          72.16333333333334,
          71.59000000000002,
          24.28,
          6.329999999999999,
          12.313333333333333,
          12.020000000000001,
          12.04,
          11.886666666666665,
          5.913333333333333,
          5.53,
          11.18,
          21.72666666666667,
          40.71,
          39.25666666666667,
          19.176666666666666,
          38.97,
          38.410000000000004,
          37.46333333333333,
          18.136666666666667,
          69.92,
          47.663333333333334,
          44.70666666666667,
          46.303333333333335,
          68.29666666666667,
          67.04,
          45.85333333333333,
          21.89,
          21.58666666666667,
          39.65,
          18.849999999999998,
          36.51,
          37.32333333333333,
          54.69333333333333,
          18.386666666666667,
          52.856666666666676,
          34.81333333333333,
          6.783333333333334,
          12.663333333333334,
          12.353333333333333,
          6.246666666666666,
          6.163333333333333,
          5.890000000000001,
          11.42,
          11.36,
          62.93000000000001,
          40.06666666666667,
          19.953333333333333,
          38.42333333333333,
          19.69666666666667,
          56.6,
          38.11000000000001,
          29.22,
          25.293333333333333,
          49.663333333333334,
          71.39666666666666,
          47.04,
          46.01666666666667,
          43.70666666666667,
          21.733333333333334,
          41.916666666666664,
          62.06,
          73.19,
          46.59333333333333,
          72.65666666666668,
          47.176666666666655,
          23.253333333333334,
          66.42666666666666,
          43.14666666666667,
          6.003333333333334,
          11.666666666666666,
          16.62,
          11.246666666666668,
          15.986666666666666,
          10.513333333333334,
          5.383333333333333,
          4.803333333333334,
          58.11000000000001,
          55.97666666666667,
          37.64666666666667,
          37.06,
          36.31333333333333,
          16.78,
          17.39,
          17.19333333333333,
          46.23666666666666,
          46.65,
          43.10333333333333,
          67.00666666666667,
          43.85333333333333,
          21.453333333333333,
          59.82333333333333,
          51.11666666666667,
          33.49,
          15.683333333333332,
          29.903333333333336,
          32.68666666666667,
          25.87,
          13.796666666666667,
          6.416666666666667,
          19.476666666666663,
          12.656666666666666,
          6.376666666666666,
          12.64,
          6.133333333333333,
          6.136666666666667,
          62.93,
          62.333333333333336,
          59.336666666666666,
          58.04999999999999,
          56.336666666666666,
          18.936666666666667,
          18.913333333333334,
          36.76666666666667,
          17.926666666666666,
          25.063333333333333,
          49.98666666666667,
          71.71,
          23.823333333333334,
          44.56666666666666,
          44.660000000000004,
          42.96,
          42.60333333333333,
          41.47,
          38.52666666666667,
          52.343333333333334,
          81.05666666666666,
          25.496666666666666,
          51.1,
          73.25,
          25.24,
          72.02,
          23.55666666666667,
          67.89333333333333,
          21.373333333333335,
          12.550000000000002,
          12.116666666666665,
          6.140000000000001,
          5.9366666666666665,
          16.900000000000002,
          16.653333333333336,
          11.093333333333334,
          10.69,
          15.823333333333332,
          4.92,
          19.683333333333334,
          37.54,
          17.413333333333334,
          36.666666666666664,
          18.69666666666667,
          37.07,
          53.96,
          34.77333333333333,
          32.593333333333334,
          17.223333333333333,
          31.12,
          30.2,
          69.83,
          44.71333333333333,
          22.233333333333334,
          21.25,
          21.063333333333333,
          21.026666666666667,
          20.80666666666667,
          41.26,
          37.78,
          36.583333333333336,
          35.67666666666667,
          37.43,
          54.71666666666667,
          53.48666666666667,
          16.05333333333333,
          33.080000000000005,
          32.86333333333334,
          15.030000000000001,
          33.67333333333334,
          28.133333333333336,
          6.489999999999999,
          6.336666666666667,
          6.25,
          4.666666666666667,
          3.16,
          2.9266666666666663,
          19.79,
          19.44666666666667,
          18.38,
          17.393333333333334,
          16.546666666666667,
          13.376666666666667,
          13.24,
          19.536666666666665,
          17.423333333333336,
          17,
          8.216666666666667,
          21.42,
          23.386666666666667,
          19.263333333333332,
          18.736666666666668,
          10.763333333333334,
          6.3566666666666665,
          22.786666666666665,
          24.069999999999997,
          20.97,
          17.29,
          15.656666666666666,
          13.893333333333333,
          16.703333333333333,
          16.400000000000002,
          15.173333333333334,
          10.969999999999999,
          8.61,
          25.650000000000002,
          75.52666666666667,
          75.02999999999999,
          47.9,
          23.98,
          23.686666666666667,
          47.586666666666666,
          47.31666666666666,
          79.98,
          26.326666666666668,
          74.07,
          72.95666666666666,
          23.349999999999998,
          46.89666666666667,
          23.186666666666667,
          42.01,
          40.306666666666665,
          41.72,
          39.973333333333336,
          19.846666666666668,
          40.52333333333333,
          59.74666666666667,
          57.18333333333334,
          6.3,
          18.426666666666666,
          6.28,
          12.343333333333334,
          6.07,
          11.733333333333334,
          11.776666666666666,
          11.893333333333333,
          41.95666666666667,
          40.91,
          19.05333333333333,
          57.053333333333335,
          19.266666666666666,
          18.256666666666668,
          32.27666666666667,
          16.88,
          21.41333333333333,
          7.213333333333334,
          21.179999999999996,
          6.916666666666667,
          6.5566666666666675,
          13.626666666666665,
          47.57333333333333,
          46.03333333333333,
          23.53333333333333,
          46.68333333333334,
          46.73666666666667,
          43.88666666666666,
          66.58666666666666,
          21.376666666666665,
          61.18666666666667,
          20.726666666666667,
          58.913333333333334,
          58.94,
          56.379999999999995,
          37.57,
          38.080000000000005,
          45.98333333333333,
          66.46,
          22.886666666666667,
          44.38666666666666,
          43.120000000000005,
          57.696666666666665,
          34.39333333333334,
          49.25333333333333,
          17.156666666666666,
          16.003333333333334,
          73.84333333333335,
          44.06333333333333,
          42.663333333333334,
          20.26,
          21.33666666666667,
          37.88333333333333,
          55.50666666666667,
          51.79333333333333,
          33.776666666666664,
          49.089999999999996,
          31.659999999999997,
          44.85666666666666,
          29.853333333333335,
          44.083333333333336,
          39.796666666666674,
          12.746666666666668,
          37.78,
          57.04,
          58.74666666666667,
          19.080000000000002,
          34.26,
          49.89000000000001,
          54.529999999999994,
          35.70666666666667,
          50.77,
          49.169999999999995,
          29.616666666666664,
          10.566666666666666,
          26.569999999999997,
          76.38333333333334,
          64.66666666666667,
          43.76666666666667,
          41.580000000000005,
          60.1,
          55.803333333333335,
          18.849999999999998,
          15.69,
          17.913333333333338,
          16.89,
          5.6933333333333325,
          5.633333333333333,
          10.116666666666667,
          9.656666666666666,
          13.896666666666667,
          13.416666666666666,
          8.14,
          13.073333333333332,
          19.24,
          6.426666666666667,
          12.496666666666668,
          11.61,
          5.353333333333333,
          13.583333333333334,
          4.016666666666667,
          61.99333333333334,
          57.300000000000004,
          19.18,
          18.963333333333335,
          18.87,
          29.386666666666667,
          12.433333333333332,
          11.943333333333333,
          41.276666666666664,
          40.14666666666667,
          56.94333333333333,
          54.70333333333334,
          33.18666666666667,
          32.85666666666666,
          35.24333333333333,
          42.056666666666665,
          41.14333333333334,
          19.69,
          18.686666666666667,
          35.74666666666667,
          30.433333333333334,
          32.10333333333333,
          23.52333333333333,
          43.69333333333333,
          60.95666666666667,
          60.95666666666667,
          52.123333333333335,
          35.44,
          45.77333333333333,
          50.03333333333334,
          70.69333333333333,
          22.333333333333332,
          55.70666666666667,
          55.70666666666667,
          16.8,
          28.376666666666665,
          13,
          47.92333333333334,
          47.46,
          23.36,
          68.95666666666668,
          67.96666666666667,
          45.333333333333336,
          66.59000000000002,
          22.073333333333334,
          11.65,
          11.673333333333332,
          5.28,
          10.053333333333333,
          9.913333333333334,
          48.370000000000005,
          23.78,
          68.10333333333334,
          22.026666666666667,
          64.92666666666666,
          66.97666666666667,
          66.97,
          42.13333333333333,
          18.423333333333336,
          17.450000000000003,
          17.849999999999998,
          17.636666666666667,
          16.663333333333334,
          9.96,
          5.29,
          14.986666666666666,
          11.923333333333332,
          16.15,
          16.69333333333333,
          16.676666666666666,
          9.713333333333333,
          4.5633333333333335,
          12.496666666666668,
          6.033333333333334,
          17.176666666666666,
          5.816666666666666,
          11.51,
          11.433333333333332,
          5.743333333333333,
          10.556666666666667,
          21.756666666666664,
          21.576666666666664,
          7.140000000000001,
          6.9433333333333325,
          20.44,
          13.636666666666665,
          6.636666666666667,
          18.45,
          12.143333333333333,
          17.596666666666668,
          17.19666666666667,
          17.246666666666666,
          11.303333333333333,
          11.076666666666668,
          14.206666666666665,
          7,
          6.713333333333334,
          6.6066666666666665,
          12.893333333333333,
          19.43,
          48.406666666666666,
          72.38333333333334,
          48.63666666666668,
          45.72,
          45.47666666666667,
          66.12333333333333,
          65.2,
          43.116666666666674,
          11.473333333333334,
          10.57,
          5.1866666666666665,
          4.39,
          17.37333333333333,
          16.87666666666667,
          0.5366666666666667,
          5.603333333333333,
          6.1000000000000005,
          5.836666666666667,
          11.413333333333334,
          16.083333333333332,
          5.406666666666666,
          14.589999999999998,
          9.816666666666666,
          21.273333333333333,
          13.603333333333333,
          6.716666666666666,
          19.956666666666667,
          13.503333333333336,
          13.343333333333334,
          6.096666666666667,
          17.653333333333332,
          11.94,
          17.113333333333333,
          11.576666666666668,
          16.153333333333332,
          14.910000000000002,
          10.313333333333333,
          14.423333333333334,
          18.12333333333333,
          18.073333333333334,
          11.883333333333335,
          16.883333333333336,
          17.713333333333335,
          5.829999999999999,
          5.746666666666666,
          5.803333333333334,
          18.38,
          17.94,
          11.403333333333334,
          16.46666666666667,
          10.743333333333334,
          10.203333333333333,
          17.709999999999997,
          11.6,
          17.546666666666667,
          16.286666666666665,
          10.32,
          5.176666666666667,
          5.04,
          5.033333333333333,
          9.683333333333332,
          16.330000000000002,
          5.670000000000001,
          5.77,
          5.353333333333333,
          15.946666666666667,
          10.696666666666667,
          5.9433333333333325,
          11.756666666666666,
          16.816666666666666,
          11.313333333333333,
          16.543333333333333,
          5.553333333333334,
          10.306666666666667,
          17.936666666666667,
          17.28,
          17.349999999999998,
          11.116666666666665,
          17.133333333333333,
          16.23,
          10.583333333333334,
          6.506666666666667,
          7.0566666666666675,
          20.02,
          6.743333333333333,
          13,
          6.236666666666667,
          18.349999999999998,
          65.06333333333332,
          43.59666666666667,
          41.25333333333333,
          61.67666666666667,
          61.02333333333333,
          57.953333333333326,
          38.373333333333335,
          13.226666666666667,
          6.66,
          12.979999999999999,
          18.753333333333334,
          12.426666666666668,
          12.483333333333334,
          18.263333333333332,
          18.66333333333333,
          15.853333333333333,
          7.746666666666666,
          22.313333333333333,
          15.206666666666669,
          14.526666666666666,
          14.156666666666666,
          21.093333333333334,
          13.703333333333333,
          16.136666666666667,
          16.073333333333334,
          23.123333333333335,
          14.910000000000002,
          7.243333333333333,
          13.313333333333333,
          19.676666666666666,
          12.656666666666666,
          18.536666666666665,
          18.523333333333333,
          12.116666666666665,
          6.13,
          5.916666666666667,
          11.49,
          10.699999999999998,
          5.5566666666666675,
          43.66,
          21.66,
          21.066666666666666,
          20.66,
          40.626666666666665,
          40.04333333333333,
          21.12666666666667,
          59.73666666666667,
          20.486666666666668,
          39.800000000000004,
          57.14666666666667,
          39.23,
          37.623333333333335,
          37.873333333333335,
          48.10666666666666,
          22.866666666666664,
          22.843333333333334,
          66.60666666666667,
          43.85,
          36.92666666666667,
          37.71333333333333,
          37.846666666666664,
          38.15,
          55.550000000000004,
          36.81333333333333,
          52.81333333333333,
          34.95333333333333,
          52.56999999999999,
          35.193333333333335,
          5.983333333333333,
          11.38,
          11.476666666666667,
          11.229999999999999,
          11.113333333333335,
          10.76,
          18.75,
          36.45333333333333,
          50.25666666666667,
          33.28,
          14.780000000000001,
          6.766666666666667,
          19.55,
          13.033333333333333,
          6.52,
          6.173333333333333,
          18.606666666666666,
          18.39,
          6.1866666666666665,
          11.93,
          75.25999999999999,
          71.95,
          74.84,
          47.586666666666666,
          69.67666666666666,
          46.083333333333336,
          43.576666666666675,
          62.92333333333334,
          18.426666666666666,
          18.38,
          35.74,
          17.323333333333334,
          33.04333333333333,
          15.796666666666667,
          47.82333333333333,
          58.99666666666667,
          58.31333333333333,
          57.1,
          55.96666666666667,
          36.31333333333333,
          36.54666666666666,
          35.53666666666667,
          18.026666666666667,
          34.623333333333335,
          41.85,
          61.11000000000001,
          40.10666666666666,
          20.473333333333333,
          19.223333333333333,
          23.903333333333332,
          45.74666666666667,
          44.49,
          21.163333333333334,
          21.55,
          42.49333333333333,
          21.14,
          21.023333333333333,
          39.21666666666667,
          41.07666666666666,
          38.60333333333333,
          58.46,
          17.523333333333333,
          36.06,
          17.836666666666666,
          52.75333333333333,
          17.826666666666664,
          16.353333333333335,
          71.08333333333333,
          70.04666666666667,
          24.096666666666668,
          23.396666666666665,
          44.89333333333334,
          21.373333333333335,
          41.20666666666667,
          20.066666666666666,
          38.07666666666666,
          18.53,
          34.699999999999996,
          50.31,
          33.556666666666665,
          33.126666666666665,
          33.446666666666665,
          11.693333333333333,
          11.68,
          17.213333333333335,
          16.63,
          9.886666666666667,
          5.08,
          4.74,
          78.61333333333333,
          75.34666666666668,
          45.45666666666667,
          49.57333333333333,
          71.57666666666667,
          46.449999999999996,
          44.47666666666667,
          63.56666666666666,
          12.71,
          6.326666666666667,
          18.49,
          12.386666666666665,
          18.64,
          11.833333333333334,
          11.540000000000001,
          13.776666666666666,
          6.636666666666667,
          13.733333333333334,
          6.62,
          6.6933333333333325,
          12.953333333333333,
          12.906666666666666,
          11.936666666666667,
          6.033333333333334,
          50.76333333333334,
          77.97666666666667,
          50.02333333333333,
          49.129999999999995,
          50.73,
          75.22000000000001,
          45.553333333333335,
          41.803333333333335,
          39.403333333333336,
          39.156666666666666,
          39.20333333333333,
          37.199999999999996,
          49.31666666666666,
          24.69333333333333,
          70.83666666666666,
          48.43666666666667,
          48.02,
          48.080000000000005,
          47.196666666666665,
          68.69666666666667,
          22.48,
          72.12666666666667,
          72.04333333333334,
          48.10333333333333,
          46.29333333333333,
          44.14666666666667,
          44.23,
          43.866666666666674,
          42.403333333333336,
          20.243333333333332,
          53.73,
          75.78,
          26.55666666666667,
          50.88666666666666,
          46.35999999999999,
          24.05,
          66.87666666666667,
          14.18,
          21.323333333333334,
          13.516666666666666,
          20.613333333333333,
          13.643333333333333,
          6.82,
          13.049999999999999,
          20.75,
          38.95666666666667,
          58.953333333333326,
          59.38666666666668,
          58.419999999999995,
          39.336666666666666,
          57.223333333333336,
          59.1,
          18.213333333333335,
          19.3,
          36.943333333333335,
          54.75333333333333,
          16.776666666666667,
          33.93666666666667,
          6.53,
          12.74,
          12.446666666666667,
          12.423333333333332,
          18.386666666666667,
          18.263333333333332,
          5.883333333333333,
          17.95,
          8.533333333333333,
          24.073333333333334,
          15.676666666666668,
          8.013333333333334,
          23.356666666666666,
          13.43,
          13.219999999999999,
          18.403333333333332,
          6.926666666666667,
          6.453333333333333,
          6.6866666666666665,
          13.386666666666665,
          6.666666666666667,
          12.5,
          6.596666666666667,
          6.433333333333334,
          15.9,
          23.52333333333333,
          15.453333333333333,
          22.19666666666667,
          22.036666666666665,
          14.46,
          13.65,
          20.016666666666666,
          18.863333333333333,
          6.013333333333333,
          17.55,
          17.656666666666666,
          17.186666666666667,
          17.116666666666664,
          5.586666666666667,
          45.81333333333333,
          67.72,
          44.59,
          66.05333333333333,
          42.39666666666667,
          42.63,
          66.73,
          59.63666666666666,
          61.413333333333334,
          19.746666666666666,
          58.626666666666665,
          55.23,
          17.169999999999998,
          73.10333333333334,
          70.97333333333334,
          70.55,
          63.27,
          20.84,
          41.62,
          40.25666666666667,
          57.76666666666667,
          56.346666666666664,
          55.879999999999995,
          36.12,
          52.97,
          52.25666666666667,
          17.436666666666667,
          12.123333333333335,
          6.109999999999999,
          11.386666666666665,
          11.323333333333332,
          5.71,
          5.316666666666666,
          5.466666666666666,
          10.82,
          46.77,
          29.723333333333333,
          30.106666666666666,
          39.76333333333333,
          7.420000000000001,
          13.623333333333335,
          6.62,
          6.573333333333333,
          5.676666666666667,
          52.59666666666667,
          72.08333333333333,
          72.02,
          47.54,
          23.146666666666665,
          40.94,
          38.376666666666665,
          38.623333333333335,
          57.919999999999995,
          55.94,
          35.903333333333336,
          55.75333333333333,
          34.76,
          52.07,
          34.906666666666666,
          33.78333333333333,
          62.42666666666668,
          40.126666666666665,
          58.94,
          19.776666666666667,
          19.87333333333333,
          56.833333333333336,
          18.56,
          17.94,
          23.30333333333333,
          44.65,
          67.85000000000001,
          65.53333333333333,
          21.8,
          43.00666666666666,
          73.39333333333333,
          70.42333333333333,
          68.48,
          64.75333333333333,
          41.836666666666666,
          62.50666666666666,
          53.64333333333334,
          47.903333333333336,
          30.02333333333333,
          45.47333333333333,
          42.443333333333335,
          12.36,
          12.163333333333332,
          11.593333333333334,
          5.88,
          17.376666666666665,
          11.58,
          16.816666666666666,
          11.146666666666667,
          11.06,
          14.316666666666668,
          13.883333333333333,
          13.88,
          13.486666666666666,
          13.32,
          12.913333333333332,
          12.200000000000001,
          11.566666666666668,
          50.873333333333335,
          47.43666666666667,
          75.97333333333334,
          51.446666666666665,
          72.14333333333333,
          23.77,
          22.343333333333334,
          41.39666666666667,
          59.60666666666666,
          56.833333333333336,
          36.333333333333336,
          37.77666666666667,
          56.38666666666666,
          53.160000000000004,
          53.97,
          48.43000000000001,
          23.896666666666665,
          46.803333333333335,
          46.99000000000001,
          69.87,
          23.363333333333333,
          22.016666666666666,
          60.29666666666666,
          56.056666666666665,
          52.60333333333333,
          49.28333333333334,
          31.790000000000003,
          16.41,
          44.72333333333333,
          13.163333333333334,
          20.14,
          20.220000000000002,
          6.866666666666667,
          21.23333333333333,
          21.97,
          22.2,
          57.03333333333333,
          38.406666666666666,
          39.95666666666667,
          20.166666666666668,
          60.29,
          41.14,
          40.00666666666667,
          37.419999999999995,
          69.14666666666666,
          68.64,
          47.78666666666667,
          50.32666666666666,
          74.61666666666666,
          50.22666666666667,
          26.016666666666666,
          16.933333333333334,
          5.703333333333333,
          11.61,
          18.513333333333332,
          19.210000000000004,
          13.07,
          12.780000000000001,
          67.58666666666666,
          68.02333333333334,
          48.826666666666675,
          73.39333333333333,
          73.04,
          49.04999999999999,
          21.816666666666666,
          21.27,
          23.166666666666668,
          23.64,
          23.22666666666667,
          49.413333333333334,
          65.62333333333333,
          68.59333333333332,
          21.53,
          41.20666666666667,
          67.66000000000001,
          23.043333333333333,
          65.72333333333334,
          46.25333333333333,
          73.91666666666667,
          42.623333333333335,
          67.45333333333333,
          64.55333333333333,
          45.97333333333333,
          21.076666666666664,
          36.23,
          19.82,
          56.133333333333326,
          33.81333333333333,
          34.10333333333333,
          39.553333333333335,
          40.193333333333335,
          54.876666666666665,
          61.64000000000001,
          30.883333333333336,
          17.669999999999998,
          13.846666666666666,
          34.03,
          31.606666666666666,
          50.71333333333333,
          47.99333333333334,
          34.26,
          16.01,
          10.903333333333334,
          5.37,
          11.883333333333333,
          17.07,
          5.126666666666667,
          15.336666666666666,
          15.483333333333334,
          15.700000000000001,
          17.5,
          12.1,
          11.363333333333335,
          11.589999999999998,
          5.3933333333333335,
          10.526666666666666,
          11.363333333333335,
          5.673333333333333,
          65.19666666666667,
          65.53666666666668,
          65.87666666666668,
          66.21666666666667,
          66.55666666666667,
          66.89666666666666,
          67.23666666666666,
          67.57666666666667,
          67.91666666666667,
          58.54333333333333,
          57.623333333333335,
          17.666666666666668,
          37.943333333333335,
          36.17,
          18.12333333333333,
          33.34,
          14.163333333333332,
          19.136666666666667,
          18.506666666666668,
          12.24,
          18.106666666666666,
          6.1933333333333325,
          11.406666666666666,
          16.433333333333334,
          17.77333333333333,
          11.533333333333333,
          11.58,
          11.516666666666666,
          14.496666666666668,
          34.61333333333334,
          32.53,
          49.48666666666666,
          34.02333333333333,
          49.04333333333333,
          30.706666666666667,
          13.793333333333331,
          20.32,
          19.60666666666667,
          19.606666666666666,
          19.209999999999997,
          6.12,
          77.72666666666667,
          52.800000000000004,
          51.199999999999996,
          73.35000000000001,
          48.31,
          47.336666666666666,
          65.65666666666665,
          62.423333333333325,
          21.173333333333336,
          19.24,
          38.13333333333333,
          18.73,
          16.94,
          17.093333333333334,
          20.386666666666667,
          39.48,
          19.580000000000002,
          19.38,
          37.28,
          17.73,
          50,
          34.21333333333333,
          19.073333333333334,
          12.790000000000001,
          12.540000000000001,
          18.683333333333334,
          18.85,
          18.62666666666667,
          12.323333333333332,
          18.22,
          16.400000000000002,
          5.78,
          5.763333333333333,
          4.993333333333333,
          9.676666666666668,
          54.17333333333334,
          51.03333333333334,
          30.26,
          48.51,
          47.830000000000005,
          31.909999999999997,
          27.99,
          15.203333333333333,
          41.34666666666667,
          21.44666666666667,
          13.873333333333333,
          6.82,
          13.416666666666666,
          13.343333333333334,
          6.596666666666667,
          13.143333333333333,
          6.296666666666667,
          73.76333333333334,
          77.21,
          49.52333333333333,
          72.18,
          74.34666666666666,
          68.62333333333333,
          45.830000000000005,
          68.12333333333333,
          62.31666666666666,
          21.600000000000005,
          20.61,
          20.38,
          13.43,
          13.476666666666667,
          6.403333333333333,
          6.16,
          41.72,
          20.016666666666666,
          40.06,
          18.87,
          6.079999999999999,
          6.043333333333333,
          17.723333333333333,
          17.650000000000002,
          17.64,
          11.466666666666667,
          41.056666666666665,
          39.910000000000004,
          57.52333333333333,
          59.28333333333333,
          35.056666666666665,
          39.61666666666667,
          18.849999999999998,
          36.080000000000005,
          77.16000000000001,
          48.056666666666665,
          46.663333333333334,
          70.10333333333334,
          68.88666666666667,
          45.36000000000001,
          22.213333333333335,
          43.666666666666664,
          58.30666666666667,
          35.31,
          37.050000000000004,
          16.863333333333333,
          34.75333333333333,
          51.22666666666667,
          49.01666666666667,
          31.626666666666665,
          14.31,
          20.686666666666667,
          6.8566666666666665,
          13.423333333333332,
          19.893333333333334,
          22.87,
          65.87333333333333,
          43.86666666666667,
          42.29,
          62.19,
          20.366666666666667,
          18.97,
          40.73333333333333,
          71.52,
          48.48333333333333,
          24.24,
          24.353333333333335,
          71.38666666666667,
          46.63666666666666,
          46.97,
          22.099999999999998,
          72.60000000000001,
          47.26333333333334,
          25.03333333333333,
          47.06333333333333,
          46.64666666666667,
          70.55333333333334,
          22.006666666666664,
          23.03
         ],
         "xaxis": "x",
         "y": [
          14.096666666666666,
          6.95,
          13.506666666666666,
          6.453333333333333,
          12.423333333333334,
          18.483333333333334,
          12.229999999999999,
          12.18,
          18.54,
          10.923333333333332,
          16.696666666666662,
          10.223333333333334,
          5.173333333333333,
          5.22,
          10.326666666666666,
          9.776666666666666,
          15.436666666666667,
          7.29,
          21.133333333333333,
          19.923333333333336,
          20.103333333333335,
          19.533333333333335,
          13.31,
          24.3,
          15.086666666666666,
          14.530000000000001,
          7.346666666666667,
          6.903333333333333,
          6.510000000000001,
          12.530000000000001,
          14.156666666666666,
          13.393333333333333,
          13.433333333333332,
          19.666666666666668,
          13.083333333333334,
          6.386666666666667,
          6.45,
          19.106666666666666,
          11.83,
          11.61,
          11.18,
          5.73,
          16.263333333333335,
          15.976666666666667,
          75.96666666666667,
          51.25999999999999,
          74.92,
          73.74,
          74.81666666666666,
          70.71333333333332,
          71.25,
          54.18000000000001,
          52.46666666666666,
          34.080000000000005,
          32.96333333333333,
          49.580000000000005,
          33.54333333333333,
          34.64333333333334,
          46.836666666666666,
          39.973333333333336,
          61.06666666666666,
          37.276666666666664,
          59.803333333333335,
          59.196666666666665,
          59.626666666666665,
          38.26333333333333,
          38.20333333333333,
          62.11000000000001,
          39.99333333333333,
          57.43666666666667,
          57.61000000000001,
          18.39,
          19.336666666666666,
          36.96,
          49.19333333333333,
          74.23333333333333,
          47.876666666666665,
          47.68333333333334,
          66.73666666666666,
          44.586666666666666,
          44.23,
          74.41000000000001,
          46.39666666666667,
          69.66666666666667,
          22.936666666666667,
          45.25666666666666,
          44.35333333333333,
          65.47,
          20.65,
          14.023333333333333,
          20.05666666666667,
          19.71666666666667,
          12.716666666666669,
          13.153333333333334,
          19.346666666666668,
          12.813333333333333,
          6.04,
          17.896666666666665,
          5.863333333333333,
          17.19333333333333,
          5.566666666666666,
          17.19666666666667,
          17.083333333333332,
          16.873333333333335,
          23.166666666666668,
          22.133333333333336,
          6.94,
          21.436666666666667,
          21.516666666666666,
          20.843333333333334,
          12.883333333333333,
          19.80666666666667,
          7.94,
          22.89,
          22.516666666666666,
          7.533333333333334,
          20.959999999999997,
          21.349999999999998,
          18.003333333333334,
          12.07,
          20.486666666666665,
          21.02,
          20.703333333333333,
          20.06,
          20.21,
          13.123333333333335,
          6.5566666666666675,
          18.776666666666667,
          17.416666666666668,
          12.023333333333333,
          17.186666666666664,
          11.553333333333333,
          11.506666666666668,
          16.316666666666666,
          50.85333333333333,
          51.669999999999995,
          76.11333333333333,
          76.33333333333333,
          76.38333333333333,
          74.15333333333332,
          47.39333333333334,
          66.45666666666668,
          59.626666666666665,
          59.01333333333334,
          36.17333333333334,
          55.99666666666667,
          53.67666666666667,
          56.669999999999995,
          51.89333333333334,
          36.24,
          40.93,
          39.98333333333333,
          40.31333333333333,
          39.74333333333333,
          39.96,
          58.673333333333325,
          57.31999999999999,
          61.916666666666664,
          19.313333333333333,
          38.02333333333333,
          38.67333333333334,
          19.103333333333335,
          55.656666666666666,
          18.766666666666666,
          49.39333333333334,
          48.68666666666667,
          48.21,
          43.66,
          45.82333333333333,
          46.160000000000004,
          45.35333333333333,
          49.82666666666666,
          47.129999999999995,
          68.61999999999999,
          68.25000000000001,
          43.080000000000005,
          66.84,
          68,
          44.70666666666667,
          20.263333333333332,
          12.776666666666666,
          12.656666666666666,
          11.716666666666667,
          18.570000000000004,
          12.013333333333335,
          6.133333333333333,
          18.633333333333333,
          17.03666666666667,
          17.19333333333333,
          17.376666666666665,
          16.386666666666667,
          11.303333333333333,
          16.17,
          7.13,
          15.056666666666667,
          21.853333333333335,
          21.906666666666666,
          7.253333333333334,
          14.233333333333334,
          14.133333333333333,
          20.11,
          15.12,
          22.44333333333333,
          7.493333333333333,
          21.643333333333334,
          19.709999999999997,
          12.973333333333334,
          6.5,
          45.88666666666666,
          45.73666666666667,
          68.83666666666666,
          68.49666666666667,
          67.97666666666667,
          44.98,
          66.19666666666666,
          43.82333333333333,
          44.24333333333334,
          12.796666666666667,
          11.280000000000001,
          10.996666666666664,
          16.89,
          11.026666666666666,
          10.813333333333333,
          5.286666666666666,
          10.456666666666665,
          10.056666666666667,
          72.91666666666667,
          71.93666666666667,
          69.33999999999999,
          46.72666666666667,
          67.22333333333333,
          36.25666666666667,
          17.416666666666668,
          33.873333333333335,
          30.723333333333333,
          45.583333333333336,
          41.68666666666667,
          47.38666666666668,
          68.80666666666666,
          68.69999999999999,
          36.346666666666664,
          45.73,
          64.26,
          19.47,
          40.38666666666666,
          18.78,
          54.92333333333334,
          73.83,
          73.44,
          48.72666666666667,
          66.89999999999999,
          68.07333333333334,
          68.06333333333335,
          63.37,
          41.73,
          59.64333333333334,
          41.21333333333333,
          40.13666666666666,
          18.746666666666666,
          19.316666666666666,
          51.46333333333333,
          25.69333333333333,
          71.16666666666667,
          46.843333333333334,
          44.79999999999999,
          65.57666666666667,
          22.706666666666667,
          21.58666666666667,
          21.97666666666667,
          17.073333333333334,
          16.343333333333334,
          16.263333333333332,
          15.083333333333334,
          10.4,
          14.276666666666666,
          5.133333333333334,
          4.96,
          9.943333333333333,
          19.459999999999997,
          12.966666666666667,
          12.1,
          16.66333333333333,
          73.07000000000001,
          46.129999999999995,
          22.96666666666667,
          60.31333333333333,
          65.61,
          39.89666666666667,
          60.49,
          25.59,
          70.85333333333334,
          46.78,
          46.56333333333333,
          44,
          63.120000000000005,
          44.083333333333336,
          43.85333333333333,
          41.75,
          21.826666666666668,
          42.833333333333336,
          42.22,
          17.540000000000003,
          6.16,
          17.80333333333333,
          11.43,
          5.633333333333333,
          16.26,
          10.173333333333334,
          10.41,
          23.396666666666665,
          48.913333333333334,
          48.54999999999999,
          71.29,
          46.01,
          44.06333333333333,
          43.26,
          71.95666666666666,
          69.54333333333334,
          69.63666666666667,
          68.72333333333334,
          21.906666666666666,
          22.433333333333334,
          66.15,
          41.60666666666666,
          6.283333333333334,
          6.3566666666666665,
          6.3,
          12.726666666666667,
          12.693333333333333,
          6.05,
          11.863333333333335,
          48.01,
          68.45666666666666,
          47.04,
          68.14,
          42.81,
          65.58333333333333,
          43.80666666666667,
          42.65333333333333,
          63.22,
          56.78,
          39.050000000000004,
          37.79333333333333,
          52.98,
          51.910000000000004,
          31.92,
          34.10666666666666,
          21.07,
          14.163333333333334,
          13.910000000000002,
          0,
          12.566666666666668,
          13.273333333333333,
          20.61666666666667,
          13.516666666666666,
          6.576666666666667,
          12.83,
          0,
          46.13666666666666,
          46.01333333333333,
          22.2,
          22.343333333333334,
          39.86333333333334,
          38.343333333333334,
          37.99333333333333,
          53.046666666666674,
          17.486666666666668,
          16.296666666666667,
          15.196666666666665,
          14.956666666666665,
          9.17,
          9.979999999999999,
          5.003333333333333,
          4.8533333333333335,
          9.25,
          49.59666666666667,
          32.21333333333333,
          33.54333333333333,
          49.11666666666667,
          47.06666666666666,
          29.459999999999997,
          31.72666666666667,
          6.536666666666666,
          6.59,
          12.503333333333332,
          6.453333333333333,
          6.3,
          11.953333333333333,
          17.813333333333333,
          17.493333333333336,
          14.29,
          13.116666666666665,
          6.626666666666666,
          13.056666666666667,
          19.506666666666668,
          12.923333333333334,
          18.536666666666665,
          18.976666666666663,
          12.193333333333333,
          12.076666666666668,
          12.65,
          11.636666666666665,
          5.583333333333333,
          16.19666666666667,
          5.506666666666667,
          5.390000000000001,
          16.106666666666666,
          10.773333333333333,
          9.81,
          5.206666666666666,
          4.84,
          13.64,
          8.903333333333334,
          17.553333333333335,
          16.080000000000002,
          5.306666666666667,
          5.203333333333333,
          10.229999999999999,
          14.223333333333334,
          13.766666666666666,
          8.933333333333334,
          73,
          76.47666666666667,
          49.02,
          72.77999999999999,
          71.92333333333333,
          73.73,
          47.653333333333336,
          24.51,
          44.29,
          67.91,
          41.14,
          41.79,
          20.80666666666667,
          61.03666666666667,
          61.473333333333336,
          50.79333333333333,
          29.563333333333333,
          46.71666666666667,
          29.463333333333335,
          32.43,
          24.456666666666667,
          46.70333333333334,
          67.59666666666666,
          0,
          65.37666666666668,
          21.256666666666668,
          40.39333333333334,
          40.376666666666665,
          19.473333333333333,
          0,
          19.453333333333333,
          73.79666666666667,
          48.593333333333334,
          68.75333333333334,
          64.99,
          43.70333333333334,
          0,
          62.586666666666666,
          40.68,
          60.48333333333333,
          20.546666666666667,
          52.04333333333333,
          17.93,
          22.263333333333335,
          64.11,
          20.526666666666667,
          41.62,
          61.80666666666667,
          20.80666666666667,
          60.38333333333333,
          19.923333333333336,
          20.093333333333334,
          18.05666666666667,
          38.78333333333333,
          0,
          45.19,
          44.093333333333334,
          60.86333333333334,
          63.48,
          62.75666666666667,
          62.48666666666667,
          41.81666666666666,
          40.36333333333334,
          20.093333333333334,
          19.923333333333336,
          55.99666666666667,
          37.5,
          18.026666666666667,
          29.886666666666667,
          59.25333333333333,
          38.276666666666664,
          18.69666666666667,
          35.36,
          34.88666666666666,
          34.04333333333333,
          16.646666666666665,
          16.63,
          45.74333333333334,
          15.003333333333332,
          41.29,
          60.57666666666666,
          58.413333333333334,
          39.916666666666664,
          56.666666666666664,
          38.236666666666665,
          37.376666666666665,
          18.523333333333333,
          35.26333333333333,
          34.800000000000004,
          34.46666666666667,
          16.82,
          56.13666666666666,
          39.626666666666665,
          19.91,
          51.276666666666664,
          18.273333333333333,
          50.43333333333334,
          34.336666666666666,
          33.65,
          17.143333333333334,
          50.669999999999995,
          33.31333333333333,
          30.709999999999997,
          45.93000000000001,
          14.976666666666667,
          39.27,
          58.169999999999995,
          18.283333333333335,
          36.96666666666667,
          33.63333333333333,
          34.17666666666667,
          51.663333333333334,
          33.68666666666667,
          49.26666666666667,
          33.29666666666667,
          47.339999999999996,
          30.23,
          33.67666666666667,
          53.18666666666667,
          34.81333333333333,
          33.516666666666666,
          32.11,
          50.099999999999994,
          15.776666666666666,
          46.60333333333333,
          0,
          15.586666666666666,
          6.703333333333333,
          19.72,
          12.776666666666666,
          6.126666666666666,
          5.963333333333334,
          5.786666666666666,
          13.040000000000001,
          17.883333333333336,
          11.913333333333334,
          11.660000000000002,
          10.47,
          5.083333333333333,
          15.046666666666667,
          12.803333333333335,
          4.013333333333333,
          75.07333333333334,
          65.78,
          38.95333333333333,
          56.69333333333333,
          57.406666666666666,
          35.02333333333333,
          18.57,
          52.03666666666667,
          49.080000000000005,
          16.563333333333333,
          16.926666666666666,
          48.423333333333325,
          29.94333333333333,
          14.886666666666665,
          49.916666666666664,
          72.95333333333333,
          47.79999999999999,
          23.826666666666668,
          43.669999999999995,
          43.79,
          42.39666666666667,
          21.473333333333333,
          68.39,
          67.38666666666667,
          44.06,
          67.08333333333333,
          22.349999999999998,
          42.68333333333334,
          40.98,
          59.9,
          20.27,
          17.91,
          43,
          39.61666666666667,
          40.1,
          60.74,
          19.19666666666667,
          37.97,
          18.45,
          55.77333333333333,
          19.606666666666666,
          17.99,
          53.446666666666665,
          35.73666666666667,
          15.306666666666667,
          47.03,
          30.659999999999997,
          54.97666666666667,
          16.93,
          50.48,
          17.673333333333336,
          17.343333333333334,
          33.160000000000004,
          0,
          14,
          39.89333333333334,
          55.63666666666666,
          39.419999999999995,
          33.89,
          35.406666666666666,
          35.98333333333333,
          20.603333333333335,
          0,
          19.349999999999998,
          0,
          59.01333333333333,
          58.79,
          19.506666666666668,
          37.11333333333334,
          6.636666666666667,
          13.003333333333332,
          6.206666666666667,
          6.170000000000001,
          5.14,
          9.816666666666666,
          6.97,
          11.243333333333334,
          52.593333333333334,
          34.653333333333336,
          25.586666666666662,
          26.72333333333333,
          37.04,
          23.296666666666667,
          11.58,
          10.286666666666667,
          75.31666666666666,
          21.53333333333333,
          63.59,
          37.88,
          46.053333333333335,
          68.71333333333332,
          70.62666666666667,
          45.19,
          20.96,
          62.160000000000004,
          42.88333333333333,
          64.42999999999999,
          42.40333333333333,
          41.75,
          59.25,
          39.48,
          18.996666666666666,
          61.60666666666666,
          39.669999999999995,
          19.12666666666667,
          18.71,
          19.103333333333335,
          18.473333333333333,
          0,
          46.74333333333333,
          60.38333333333333,
          59.50666666666666,
          58.88333333333333,
          19.366666666666667,
          18.963333333333335,
          36.88666666666666,
          18.59,
          36.169999999999995,
          52.26333333333333,
          17.150000000000002,
          33.64666666666667,
          20.5,
          14.053333333333333,
          19.669999999999998,
          13.326666666666668,
          13.026666666666666,
          6.466666666666666,
          11.61,
          17.46666666666667,
          16.966666666666665,
          5.503333333333334,
          5.3,
          20.983333333333334,
          19.416666666666668,
          6.55,
          0,
          0,
          16.863333333333333,
          0,
          5.283333333333333,
          5.1033333333333335,
          19.113333333333333,
          6.146666666666667,
          19.013333333333332,
          18.376666666666665,
          12.356666666666667,
          6,
          16.833333333333332,
          5.763333333333333,
          10.88,
          10.783333333333333,
          9.076666666666666,
          9.343333333333334,
          9.203333333333333,
          9.096666666666666,
          74.57666666666667,
          79.7,
          75.49333333333334,
          77.65666666666667,
          74.38333333333333,
          75.43666666666667,
          74.49,
          45.776666666666664,
          67.90999999999998,
          44.126666666666665,
          45.54666666666666,
          66.00333333333333,
          66.18333333333334,
          57.72,
          35.37,
          53.06666666666666,
          51.05666666666667,
          31.30666666666667,
          45.68000000000001,
          36.973333333333336,
          35.346666666666664,
          32.07666666666667,
          48.13333333333333,
          29.44333333333333,
          48.53333333333334,
          68.35000000000001,
          21.613333333333333,
          64.33999999999999,
          0,
          49.19666666666666,
          24.55666666666667,
          0,
          46.05666666666667,
          45.02333333333333,
          44.093333333333334,
          43.23666666666666,
          21.58666666666667,
          62.116666666666674,
          41.20333333333334,
          38.60333333333333,
          19.463333333333335,
          35.81,
          73.96666666666668,
          49.53666666666667,
          48.410000000000004,
          45.163333333333334,
          44.61666666666667,
          41.73,
          43,
          20.766666666666666,
          30.403333333333332,
          45.913333333333334,
          49.383333333333326,
          23.76,
          22.45,
          22.496666666666666,
          66.60333333333334,
          65.68,
          61.17333333333334,
          38.483333333333334,
          42.82333333333333,
          40.620000000000005,
          40.95666666666667,
          40.696666666666665,
          38.76333333333333,
          58.70000000000001,
          56.03,
          16.336666666666666,
          17.25,
          33.89,
          33.26,
          39.9,
          39.10333333333333,
          38.42666666666667,
          18.976666666666667,
          37.32666666666667,
          54.06666666666666,
          0,
          17.356666666666666,
          50.31,
          52.13666666666666,
          35.166666666666664,
          50.97666666666667,
          50.89333333333334,
          50,
          31.276666666666667,
          14.763333333333334,
          41.15,
          59.376666666666665,
          57.03333333333334,
          60.903333333333336,
          51.65333333333333,
          35.656666666666666,
          17,
          0,
          57.85666666666666,
          39.00333333333333,
          58.43000000000001,
          38.78333333333333,
          35.35,
          36.949999999999996,
          34.77,
          56.60333333333333,
          36.85333333333333,
          33.52333333333333,
          53.193333333333335,
          52.00333333333333,
          34.830000000000005,
          74.43333333333334,
          49.080000000000005,
          47.99333333333334,
          20.400000000000002,
          42.98333333333333,
          41.22,
          39.32,
          37.75333333333333,
          16.913333333333334,
          17.78,
          31.146666666666665,
          28.873333333333335,
          30.580000000000002,
          15.363333333333335,
          41.96333333333333,
          23.963333333333335,
          71.39333333333333,
          42.26333333333333,
          43.35666666666666,
          46.60666666666666,
          66.06666666666666,
          66.04333333333334,
          0,
          0,
          18.78,
          52.50666666666667,
          52.54666666666666,
          40.306666666666665,
          40.343333333333334,
          39.24333333333333,
          38.419999999999995,
          58.196666666666665,
          34.336666666666666,
          31.676666666666666,
          0,
          19.723333333333333,
          38.04,
          35.13333333333333,
          35.63,
          13.716666666666667,
          15.086666666666666,
          27.659999999999997,
          40.45333333333333,
          19.06,
          14.276666666666666,
          7.103333333333333,
          13.516666666666666,
          6.746666666666666,
          13.256666666666666,
          19.03333333333333,
          19.113333333333333,
          21.580000000000002,
          14.243333333333334,
          14.006666666666666,
          20.279999999999998,
          13.393333333333333,
          13.393333333333336,
          19.62666666666667,
          12.893333333333333,
          64.24,
          20.419999999999998,
          61.65,
          40.35,
          19.733333333333334,
          60.376666666666665,
          38.04,
          19.55333333333333,
          49.366666666666674,
          73.11666666666666,
          48.48666666666667,
          47.97666666666667,
          71.97333333333334,
          46.586666666666666,
          68.19,
          46.28333333333333,
          45.74,
          54.199999999999996,
          50.1,
          76.59666666666668,
          51.14333333333334,
          74.12666666666667,
          48.376666666666665,
          48.92666666666667,
          12.163333333333332,
          12.143333333333333,
          17.94,
          11.39,
          17.436666666666667,
          17.169999999999998,
          11.183333333333332,
          16.53,
          62.03666666666666,
          20.68,
          57.77,
          58.843333333333334,
          38.21,
          37.88333333333333,
          38.39666666666667,
          37.47,
          46.196666666666665,
          69.3,
          69.61666666666666,
          44.586666666666666,
          66.78333333333332,
          23.096666666666668,
          44.04,
          68.41333333333334,
          67.39999999999999,
          56.376666666666665,
          59.056666666666665,
          37.52,
          36.22666666666667,
          36.87,
          36.35,
          51.15,
          50.98,
          13.186666666666667,
          19.233333333333334,
          18.88,
          12.36,
          12.14,
          5.646666666666667,
          16.95,
          0,
          41.07,
          38.13666666666666,
          37.23666666666667,
          38.29,
          57.17666666666667,
          18.816666666666666,
          56.13666666666666,
          29.323333333333334,
          49.46333333333333,
          73.47,
          71.21333333333332,
          22.49,
          46.660000000000004,
          42.99666666666667,
          0,
          62.13999999999999,
          62.64333333333334,
          67.32333333333334,
          48.21,
          69.43333333333334,
          70.57,
          0,
          64.17666666666668,
          42.75,
          17.793333333333333,
          11.833333333333334,
          16.713333333333335,
          16.653333333333332,
          10.4,
          5.16,
          10.766666666666666,
          5.083333333333333,
          19.12666666666667,
          36.81333333333333,
          35.93333333333334,
          35.300000000000004,
          36.449999999999996,
          34.589999999999996,
          16.036666666666665,
          16.69666666666667,
          47.31333333333333,
          47.21,
          64.42666666666666,
          44.64666666666667,
          66.07,
          0,
          38.71666666666667,
          35.906666666666666,
          51.64333333333334,
          51.04333333333333,
          47.693333333333335,
          48.68666666666667,
          42.68000000000001,
          20.63,
          13.266666666666666,
          12.373333333333333,
          12.813333333333333,
          12.729999999999999,
          6.213333333333334,
          18.74,
          6.293333333333333,
          41.81666666666666,
          58.953333333333326,
          39.5,
          58.9,
          56.419999999999995,
          0,
          37.31,
          35.85666666666666,
          54.89666666666667,
          25.206666666666667,
          23.576666666666668,
          0,
          69.44,
          44.88333333333333,
          44.35666666666666,
          65.64999999999999,
          41.44,
          40.71,
          38.01333333333333,
          49.65333333333333,
          78.06666666666666,
          51.44,
          48.526666666666664,
          75.45,
          49.370000000000005,
          23.016666666666666,
          47.84666666666667,
          47.39000000000001,
          41.73666666666667,
          12,
          6.016666666666667,
          18.21,
          18.099999999999998,
          16.24,
          16.46,
          10.786666666666667,
          10.82,
          14.973333333333334,
          9.633333333333333,
          57.84,
          38.18666666666667,
          37.550000000000004,
          36.806666666666665,
          0,
          35.666666666666664,
          35.36666666666667,
          17.896666666666665,
          33.77,
          33.696666666666665,
          47.18,
          30.53333333333333,
          71.01333333333334,
          65.64,
          44.839999999999996,
          21.863333333333333,
          0,
          41.413333333333334,
          20.956666666666667,
          60.92666666666667,
          37.48666666666667,
          34.626666666666665,
          17.886666666666667,
          39.03,
          56.24,
          52.443333333333335,
          52.85,
          31.356666666666666,
          32.766666666666666,
          32.916666666666664,
          49.903333333333336,
          28.483333333333334,
          12.800000000000002,
          18.64,
          18.063333333333333,
          13.93,
          6.683333333333333,
          8.516666666666667,
          59.85333333333333,
          39.050000000000004,
          56.43,
          54.413333333333334,
          50.10999999999999,
          27.366666666666664,
          26.626666666666665,
          19.22,
          17.766666666666666,
          34.169999999999995,
          23.52333333333333,
          61.63666666666666,
          45.589999999999996,
          19.333333333333332,
          55.98333333333333,
          32.55,
          16.84,
          48.163333333333334,
          45.88666666666666,
          62.70333333333334,
          32.166666666666664,
          42.75,
          41.22666666666667,
          32.24666666666666,
          31.48,
          45.57,
          21.320000000000004,
          22.03,
          74.63,
          74.58999999999999,
          48.696666666666665,
          45.75333333333333,
          46.24333333333334,
          70.84333333333332,
          70.13,
          46.13666666666666,
          76.39,
          52.089999999999996,
          71.65666666666667,
          48.09666666666667,
          70.26666666666667,
          23.203333333333333,
          68.72333333333334,
          42.583333333333336,
          61.64666666666667,
          61.70666666666667,
          21.22,
          40.46,
          20.316666666666666,
          39.57333333333333,
          39.47,
          12.959999999999999,
          18.253333333333334,
          12.299999999999999,
          18.076666666666664,
          18.136666666666667,
          12.166666666666666,
          11.673333333333332,
          11.806666666666667,
          42.10666666666666,
          40.72,
          37.14,
          38.82666666666666,
          57.31666666666666,
          54.379999999999995,
          18.753333333333334,
          50.153333333333336,
          13.61,
          21.006666666666664,
          20.669999999999998,
          7.06,
          20.413333333333334,
          20.103333333333335,
          70.18666666666667,
          24.91333333333333,
          46.59666666666667,
          67.93666666666667,
          69.59333333333333,
          22.930000000000003,
          66.82,
          44.54666666666666,
          61.053333333333335,
          61.45666666666667,
          52.36666666666667,
          56.826666666666675,
          37.15,
          57.06333333333333,
          36.556666666666665,
          68.80666666666667,
          43.68,
          64.46,
          43.38666666666666,
          63.81,
          19.486666666666668,
          51.080000000000005,
          16.416666666666668,
          32.79666666666667,
          30.650000000000002,
          72.06333333333333,
          43.69333333333333,
          20.76,
          19.716666666666665,
          40.88,
          35.336666666666666,
          53.95333333333334,
          49.70000000000001,
          16.856666666666666,
          47.39333333333334,
          30.91,
          45.22666666666667,
          46.07333333333333,
          42.63666666666666,
          42.06333333333333,
          13.593333333333334,
          39.34,
          57.73666666666667,
          56.95000000000001,
          57.76333333333334,
          35.45333333333333,
          49.79333333333333,
          35.64333333333334,
          54.37,
          49.373333333333335,
          31.070000000000004,
          42.74333333333334,
          20.983333333333334,
          52.169999999999995,
          50.57333333333333,
          21.886666666666667,
          43.76666666666667,
          60.26666666666667,
          41.23,
          58.336666666666666,
          38.553333333333335,
          51.52333333333333,
          17.580000000000002,
          17.38,
          5.760000000000001,
          16.33666666666667,
          4.983333333333333,
          9.68,
          13.923333333333332,
          8.88,
          8.003333333333332,
          6.586666666666667,
          19.333333333333332,
          19.05333333333333,
          12.176666666666668,
          11.796666666666667,
          5.076666666666667,
          20.39,
          11.083333333333334,
          41.31666666666666,
          55.64666666666667,
          18.32,
          34.14333333333334,
          18.12333333333333,
          43.31,
          8.24,
          22.646666666666665,
          0,
          59.596666666666664,
          57.43333333333333,
          53.79333333333333,
          33.92666666666667,
          30.80333333333333,
          12.469999999999999,
          20.436666666666667,
          20.036666666666665,
          40.04,
          19.169999999999998,
          48.35999999999999,
          15.69,
          32.19,
          48.57333333333333,
          44.303333333333335,
          61.49666666666667,
          58.833333333333336,
          53.653333333333336,
          34.96,
          45.74333333333333,
          74.37,
          66.62333333333333,
          69.74666666666667,
          36.48666666666667,
          36.48666666666667,
          48.82333333333333,
          42.72,
          12.883333333333333,
          46.64000000000001,
          70.26666666666667,
          45.18333333333334,
          65.39999999999999,
          43.923333333333325,
          66.83666666666666,
          65.68333333333334,
          22.516666666666666,
          11.579999999999998,
          11.75,
          15.203333333333333,
          9.496666666666668,
          14.913333333333334,
          46.919999999999995,
          23.826666666666668,
          67.20333333333333,
          45.473333333333336,
          65.31333333333333,
          66.35333333333334,
          65.79666666666667,
          21.926666666666666,
          11.993333333333334,
          11.266666666666666,
          11.67,
          17.433333333333334,
          17.03,
          10.823333333333332,
          10.85,
          10.766666666666666,
          11.816666666666668,
          5.7,
          16.73,
          10.753333333333332,
          10.08,
          13.843333333333334,
          6.23,
          17.77333333333333,
          17.833333333333332,
          17.72,
          11.496666666666664,
          16.166666666666668,
          11.163333333333334,
          10.63,
          14.146666666666667,
          20.893333333333334,
          20.786666666666665,
          6.896666666666667,
          19.363333333333333,
          19.316666666666666,
          13.306666666666667,
          17.960000000000004,
          11.82,
          17.039999999999996,
          16.133333333333333,
          17.366666666666664,
          11.043333333333331,
          10.966666666666669,
          21.35666666666667,
          19.743333333333336,
          6.6866666666666665,
          6.7,
          19.22666666666667,
          19.413333333333338,
          73.30666666666667,
          49.23,
          24.373333333333335,
          71.36666666666666,
          45.21666666666666,
          22.47666666666667,
          44.656666666666666,
          66.36333333333333,
          11.25,
          16.11,
          15.83,
          4.36,
          17.67,
          5.346666666666667,
          11.223333333333334,
          16.78333333333333,
          18.593333333333334,
          6.079999999999999,
          16.786666666666665,
          16.106666666666666,
          10.153333333333334,
          9.65,
          9.756666666666666,
          20.896666666666665,
          6.833333333333333,
          6.766666666666667,
          19.006666666666664,
          19.646666666666665,
          13.053333333333333,
          18.756666666666664,
          17.706666666666667,
          17.593333333333334,
          17.516666666666666,
          11.71,
          10.726666666666667,
          15.263333333333334,
          15.1,
          14.613333333333335,
          18.223333333333333,
          17.503333333333334,
          6.04,
          17.099999999999998,
          17.826666666666664,
          17.446666666666665,
          17.426666666666666,
          16.87666666666667,
          11.51,
          16.94333333333333,
          16.176666666666666,
          16.63,
          10.87,
          14.163333333333334,
          5.986666666666667,
          17.69333333333333,
          17.423333333333332,
          16.143333333333334,
          15.743333333333334,
          5.236666666666667,
          14.873333333333333,
          14.843333333333334,
          14.46,
          17.806666666666665,
          17.156666666666666,
          16.973333333333333,
          11.040000000000001,
          15.76,
          10.653333333333334,
          0,
          11.589999999999998,
          16.493333333333336,
          16.55,
          11.093333333333334,
          5.3999999999999995,
          15.393333333333333,
          17.496666666666666,
          5.98,
          11.753333333333332,
          11.626666666666665,
          16.626666666666665,
          16.676666666666666,
          16.386666666666667,
          20.903333333333332,
          6.543333333333333,
          17.893333333333334,
          13.106666666666667,
          5.1466666666666665,
          12.453333333333333,
          18.403333333333332,
          42.4,
          65.29666666666667,
          41.846666666666664,
          59.97,
          20.983333333333334,
          19.343333333333334,
          38.85,
          6.56,
          13.253333333333336,
          6.416666666666667,
          19.146666666666665,
          12.75,
          19.08666666666667,
          18.180000000000003,
          12.496666666666668,
          22.710000000000004,
          7.43,
          7.103333333333333,
          22.74,
          13.843333333333334,
          20.73,
          20.513333333333335,
          20.216666666666665,
          24.24,
          24.06,
          22.373333333333335,
          7.566666666666666,
          21.933333333333334,
          19.56,
          13.016666666666666,
          18.580000000000002,
          18.570000000000004,
          17.85,
          11.909999999999998,
          18.113333333333333,
          17.79,
          17.006666666666664,
          16.583333333333332,
          16.599999999999998,
          42.973333333333336,
          0,
          41.949999999999996,
          21.233333333333334,
          40.81,
          39.11,
          59.92333333333334,
          58.5,
          19.93,
          38.693333333333335,
          38.53666666666667,
          39.28,
          19.093333333333334,
          55.21,
          70.79666666666667,
          22.546666666666667,
          44.88666666666666,
          44.29,
          64.67333333333333,
          18.816666666666666,
          58.73,
          37.35,
          55.21,
          35.96,
          36.07333333333333,
          52.14666666666667,
          34.50666666666667,
          51.31,
          50.61333333333332,
          5.96,
          17.276666666666667,
          17.03,
          17.113333333333333,
          16.526666666666667,
          10.866666666666667,
          56.29666666666666,
          37.49,
          48.69,
          32.24666666666667,
          15.46,
          13.376666666666665,
          12.576666666666668,
          12.623333333333333,
          12.733333333333334,
          12.753333333333332,
          5.97,
          12.26,
          18.139999999999997,
          5.760000000000001,
          75.91666666666667,
          47.24333333333334,
          74.80666666666667,
          70.58999999999999,
          22.53,
          45.95333333333334,
          67.96666666666667,
          43.23333333333333,
          17.05,
          16.830000000000002,
          49.36333333333334,
          16.26,
          15.65,
          16.673333333333336,
          48.406666666666666,
          59.22666666666667,
          19.283333333333335,
          57.39666666666667,
          55.550000000000004,
          38.169999999999995,
          36.56,
          35.526666666666664,
          17.646666666666665,
          51.89666666666667,
          62.70000000000001,
          41.083333333333336,
          39.343333333333334,
          39.803333333333335,
          38.846666666666664,
          49.45666666666667,
          45.10999999999999,
          66.91000000000001,
          64.71333333333332,
          41.623333333333335,
          42.949999999999996,
          42.26,
          20.896666666666665,
          40.04666666666667,
          61.173333333333325,
          59.406666666666666,
          37.53333333333333,
          36.79,
          54.839999999999996,
          18.236666666666668,
          53.056666666666665,
          0,
          49.57333333333333,
          71.57666666666667,
          71.77333333333333,
          47.82333333333333,
          23.106666666666666,
          67.29666666666667,
          42.830000000000005,
          21.363333333333333,
          20.19,
          38.78,
          36.18333333333333,
          16.900000000000002,
          16.836666666666666,
          16.16,
          46.99666666666667,
          48.28333333333334,
          5.53,
          17.430000000000003,
          10.706666666666669,
          16.709999999999997,
          4.95,
          10.113333333333333,
          9.443333333333333,
          70.05666666666667,
          74.78333333333335,
          74.03666666666668,
          45.583333333333336,
          23.463333333333335,
          65.53666666666668,
          67.22666666666667,
          63.03666666666667,
          6.363333333333333,
          6.420000000000001,
          12.346666666666666,
          12.416666666666666,
          12.329999999999998,
          5.846666666666667,
          11.306666666666667,
          20.616666666666667,
          13.770000000000001,
          6.743333333333333,
          13.326666666666668,
          13.216666666666669,
          19.276666666666667,
          12.806666666666667,
          18.793333333333333,
          18.043333333333333,
          47.81666666666666,
          50.76666666666667,
          52.120000000000005,
          73.74666666666667,
          46.373333333333335,
          50.089999999999996,
          22.243333333333336,
          41.82,
          40.70666666666667,
          40.63,
          59.26333333333334,
          38.080000000000005,
          71.57666666666667,
          49.410000000000004,
          72.00333333333333,
          48.35333333333333,
          68.7,
          46.98666666666667,
          47.419999999999995,
          67.94666666666667,
          45.24666666666667,
          45.57,
          69.72,
          70.77666666666666,
          45.54666666666666,
          22.75,
          43.21333333333333,
          66.21000000000001,
          65.83333333333333,
          64.58333333333333,
          75.58999999999999,
          51.846666666666664,
          50.906666666666666,
          76.04,
          45.20333333333334,
          68.64666666666666,
          67.69,
          21.32,
          20.866666666666664,
          20.673333333333336,
          20.51,
          13.670000000000002,
          13.403333333333334,
          19.626666666666665,
          41.11333333333334,
          20.093333333333334,
          57.57333333333333,
          36.303333333333335,
          19.576666666666664,
          57.413333333333334,
          55.89333333333334,
          38.72666666666667,
          19.396666666666665,
          18.883333333333333,
          18.74,
          17.973333333333333,
          50.02333333333333,
          16.94,
          19.083333333333332,
          6.18,
          17.326666666666668,
          12.35,
          18.433333333333334,
          17.87666666666667,
          17.72666666666667,
          17.713333333333335,
          24.959999999999997,
          23.820000000000004,
          15.94,
          15.463333333333333,
          15.4,
          6.3999999999999995,
          6.093333333333334,
          18.73333333333333,
          6.7,
          13.156666666666666,
          19.756666666666664,
          13.376666666666665,
          13.4,
          18.486666666666668,
          13.053333333333333,
          12.733333333333334,
          15.683333333333332,
          15.14,
          15.61,
          14.549999999999999,
          21.736666666666665,
          15.086666666666668,
          13.49,
          13.160000000000002,
          18.163333333333334,
          11.883333333333333,
          6.076666666666667,
          11.540000000000001,
          17.319999999999997,
          11.193333333333333,
          11.013333333333334,
          69.99666666666667,
          45.31999999999999,
          44.21666666666667,
          43.95000000000001,
          61.39666666666667,
          42.666666666666664,
          40.14666666666667,
          61.32666666666666,
          40.25666666666667,
          58.586666666666666,
          56.63333333333333,
          37.13333333333333,
          0,
          48.45000000000001,
          70.58,
          47.330000000000005,
          62.29666666666666,
          42.26,
          61.01333333333333,
          59.45333333333334,
          40.346666666666664,
          55.03,
          54.25666666666667,
          36.01333333333333,
          34.97666666666667,
          51.633333333333326,
          48.71666666666667,
          11.790000000000001,
          5.88,
          16.726666666666667,
          16.790000000000003,
          10.956666666666665,
          11.07,
          10.996666666666664,
          10.396666666666667,
          47.35,
          43.343333333333334,
          14.92,
          39.28333333333333,
          14.89,
          20.13,
          19.5,
          6.576666666666667,
          5.59,
          75.13333333333333,
          73.81,
          73.19,
          47.04333333333333,
          40.31,
          40.07,
          58.39000000000001,
          20.09,
          38.846666666666664,
          36.97,
          18.79,
          52,
          18.143333333333334,
          52.42333333333334,
          52.64666666666667,
          51.55666666666667,
          40,
          42.13999999999999,
          61.49,
          60.553333333333335,
          19.11,
          56.19,
          37.85,
          52.76666666666667,
          72.16333333333333,
          45.663333333333334,
          64.92666666666666,
          44.74666666666667,
          42.086666666666666,
          21.47,
          46.71666666666666,
          47.623333333333335,
          69.85666666666667,
          60.77333333333333,
          61.56666666666666,
          62.403333333333336,
          16.996666666666666,
          31.593333333333334,
          47.70333333333334,
          14.159999999999998,
          27.349999999999998,
          12.143333333333333,
          17.573333333333334,
          11.62,
          17,
          11.579999999999998,
          11.466666666666669,
          11.24,
          5.433333333333334,
          16.373333333333335,
          21.37,
          7.083333333333333,
          13.793333333333331,
          6.56,
          6.646666666666667,
          13.023333333333333,
          12.17,
          5.44,
          72.55666666666666,
          76.62333333333333,
          73.90333333333332,
          49.223333333333336,
          70.76666666666667,
          46.68,
          22.816666666666666,
          59.93,
          57.086666666666666,
          53.82999999999999,
          55.98,
          53.51666666666667,
          54.45333333333334,
          51.85333333333333,
          34.93666666666667,
          46.836666666666666,
          69.00999999999999,
          69.17999999999999,
          70.73,
          46.61333333333332,
          45.01,
          65.83333333333333,
          60.54999999999999,
          55.38999999999999,
          53.63666666666666,
          50.45333333333334,
          50.68666666666667,
          48.72666666666667,
          46.86333333333334,
          13.193333333333333,
          13.1,
          19.89333333333333,
          6.8500000000000005,
          20.786666666666665,
          14.116666666666667,
          14.613333333333335,
          56.92666666666667,
          58.02666666666667,
          62.1,
          38.050000000000004,
          59.69,
          61.56333333333333,
          39.00333333333333,
          56.36333333333334,
          46.85333333333333,
          70.84333333333335,
          48.10666666666666,
          48.669999999999995,
          76.04333333333334,
          73.94,
          78.83333333333333,
          11.546666666666667,
          11.543333333333331,
          12.01,
          11.959999999999999,
          18.93,
          12.700000000000001,
          12.016666666666666,
          66.19333333333334,
          65.98666666666666,
          71.03000000000002,
          72.93666666666667,
          69.89999999999999,
          72.3,
          45.25666666666667,
          43.67666666666667,
          46.81,
          47.48,
          46.23333333333333,
          49.19333333333333,
          44.04999999999999,
          67.39999999999999,
          64.75666666666667,
          63.07666666666666,
          67.72666666666667,
          66.98666666666666,
          69.18333333333334,
          45.25666666666666,
          22.786666666666665,
          64.23,
          68.99,
          63.68000000000001,
          44.70333333333334,
          41.92333333333333,
          35.42333333333334,
          37.57666666666667,
          35.916666666666664,
          51.18666666666667,
          36.56333333333333,
          55.67666666666667,
          41.59,
          35.92666666666667,
          61.343333333333334,
          42.699999999999996,
          52.73,
          15.683333333333332,
          33.85,
          34.23333333333333,
          33.16,
          15.756666666666668,
          31.076666666666664,
          10.376666666666667,
          10.83,
          16.546666666666663,
          17.94666666666667,
          11.296666666666667,
          15.363333333333332,
          10.486666666666666,
          15.413333333333334,
          15.546666666666667,
          17.706666666666667,
          17.53333333333333,
          11.406666666666666,
          17.526666666666667,
          10.993333333333334,
          10.566666666666666,
          0,
          11.410000000000002,
          39.77,
          40.13333333333333,
          20.74,
          40.236666666666665,
          41.153333333333336,
          38.60666666666666,
          38.72666666666667,
          38.43333333333334,
          37.88,
          58.406666666666666,
          56.19333333333333,
          14.94,
          55.43,
          36.04666666666667,
          35.75666666666667,
          31.7,
          20.94666666666667,
          12.046666666666667,
          18.36,
          18.343333333333334,
          5.9366666666666665,
          18.30666666666667,
          17.00333333333333,
          16.50333333333333,
          11.530000000000001,
          5.34,
          11.493333333333334,
          17.27,
          4.883333333333334,
          17.80666666666667,
          33.86,
          32.656666666666666,
          33.553333333333335,
          15.866666666666667,
          29.423333333333336,
          20.773333333333333,
          20.74333333333333,
          12.623333333333335,
          6.43,
          12.656666666666666,
          6.083333333333333,
          48.78,
          76.58666666666666,
          71.78666666666665,
          74.09,
          69.27,
          69.94666666666666,
          62.083333333333336,
          62.85333333333333,
          19.41,
          38.76,
          37.53,
          37.76333333333333,
          17.503333333333334,
          17.136666666666667,
          38.080000000000005,
          37.376666666666665,
          19.073333333333334,
          56.906666666666666,
          56.27333333333333,
          52.71333333333333,
          34.81333333333333,
          33.98666666666667,
          12.676666666666668,
          18.95,
          18.356666666666666,
          18.933333333333334,
          18.44333333333333,
          12.296666666666667,
          5.903333333333333,
          12.143333333333333,
          11.236666666666666,
          11.113333333333335,
          16.883333333333336,
          9.606666666666667,
          4.79,
          36.306666666666665,
          51.16,
          48.343333333333334,
          46.68666666666667,
          43.19,
          32.51333333333333,
          47.68666666666667,
          47.94,
          42.76333333333333,
          21.336666666666662,
          7.046666666666667,
          13.503333333333336,
          20.063333333333333,
          20.013333333333332,
          6.59,
          18.85666666666667,
          12.896666666666667,
          50.526666666666664,
          75.54333333333334,
          50.86666666666667,
          46.11666666666667,
          48.596666666666664,
          70.10333333333334,
          46.406666666666666,
          43.47,
          60.913333333333334,
          21.50333333333333,
          13.56,
          20.169999999999998,
          13.403333333333334,
          6.71,
          6.353333333333333,
          18.463333333333335,
          19.8,
          40.96333333333333,
          39.46,
          12.343333333333334,
          18.13,
          6.246666666666666,
          18.036666666666665,
          17.51,
          17.546666666666667,
          17.41,
          60.11000000000001,
          60.07,
          19.44666666666667,
          38.876666666666665,
          19.863333333333333,
          38.93666666666667,
          37.72666666666667,
          54.903333333333336,
          24.603333333333335,
          48.6,
          47.97666666666667,
          46.02,
          65.85000000000001,
          45.85666666666666,
          22.67,
          43.48,
          55.099999999999994,
          36.97666666666667,
          52.61333333333334,
          51.70000000000001,
          35.27333333333333,
          48.13999999999999,
          32.70333333333333,
          33.07,
          13.613333333333335,
          20.349999999999998,
          13.483333333333334,
          13.113333333333335,
          19.566666666666666,
          64.05333333333334,
          21.756666666666664,
          43.923333333333325,
          62.669999999999995,
          60.196666666666665,
          60.54333333333333,
          59.35999999999999,
          19.976666666666667,
          72.22000000000001,
          48.45333333333334,
          24.363333333333333,
          48.18333333333334,
          72.22333333333333,
          45.72666666666667,
          46.123333333333335,
          46.13666666666666,
          74.10333333333334,
          72.91666666666667,
          71.06666666666666,
          66.96333333333332,
          70.50666666666666,
          69.87666666666668,
          67.74333333333333,
          68.83333333333333
         ],
         "yaxis": "y"
        }
       ],
       "layout": {
        "coloraxis": {
         "colorbar": {
          "title": {
           "text": "Cluster"
          }
         },
         "colorscale": [
          [
           0,
           "#0d0887"
          ],
          [
           0.1111111111111111,
           "#46039f"
          ],
          [
           0.2222222222222222,
           "#7201a8"
          ],
          [
           0.3333333333333333,
           "#9c179e"
          ],
          [
           0.4444444444444444,
           "#bd3786"
          ],
          [
           0.5555555555555556,
           "#d8576b"
          ],
          [
           0.6666666666666666,
           "#ed7953"
          ],
          [
           0.7777777777777778,
           "#fb9f3a"
          ],
          [
           0.8888888888888888,
           "#fdca26"
          ],
          [
           1,
           "#f0f921"
          ]
         ]
        },
        "legend": {
         "tracegroupgap": 0
        },
        "margin": {
         "t": 60
        },
        "template": {
         "data": {
          "bar": [
           {
            "error_x": {
             "color": "#2a3f5f"
            },
            "error_y": {
             "color": "#2a3f5f"
            },
            "marker": {
             "line": {
              "color": "#E5ECF6",
              "width": 0.5
             },
             "pattern": {
              "fillmode": "overlay",
              "size": 10,
              "solidity": 0.2
             }
            },
            "type": "bar"
           }
          ],
          "barpolar": [
           {
            "marker": {
             "line": {
              "color": "#E5ECF6",
              "width": 0.5
             },
             "pattern": {
              "fillmode": "overlay",
              "size": 10,
              "solidity": 0.2
             }
            },
            "type": "barpolar"
           }
          ],
          "carpet": [
           {
            "aaxis": {
             "endlinecolor": "#2a3f5f",
             "gridcolor": "white",
             "linecolor": "white",
             "minorgridcolor": "white",
             "startlinecolor": "#2a3f5f"
            },
            "baxis": {
             "endlinecolor": "#2a3f5f",
             "gridcolor": "white",
             "linecolor": "white",
             "minorgridcolor": "white",
             "startlinecolor": "#2a3f5f"
            },
            "type": "carpet"
           }
          ],
          "choropleth": [
           {
            "colorbar": {
             "outlinewidth": 0,
             "ticks": ""
            },
            "type": "choropleth"
           }
          ],
          "contour": [
           {
            "colorbar": {
             "outlinewidth": 0,
             "ticks": ""
            },
            "colorscale": [
             [
              0,
              "#0d0887"
             ],
             [
              0.1111111111111111,
              "#46039f"
             ],
             [
              0.2222222222222222,
              "#7201a8"
             ],
             [
              0.3333333333333333,
              "#9c179e"
             ],
             [
              0.4444444444444444,
              "#bd3786"
             ],
             [
              0.5555555555555556,
              "#d8576b"
             ],
             [
              0.6666666666666666,
              "#ed7953"
             ],
             [
              0.7777777777777778,
              "#fb9f3a"
             ],
             [
              0.8888888888888888,
              "#fdca26"
             ],
             [
              1,
              "#f0f921"
             ]
            ],
            "type": "contour"
           }
          ],
          "contourcarpet": [
           {
            "colorbar": {
             "outlinewidth": 0,
             "ticks": ""
            },
            "type": "contourcarpet"
           }
          ],
          "heatmap": [
           {
            "colorbar": {
             "outlinewidth": 0,
             "ticks": ""
            },
            "colorscale": [
             [
              0,
              "#0d0887"
             ],
             [
              0.1111111111111111,
              "#46039f"
             ],
             [
              0.2222222222222222,
              "#7201a8"
             ],
             [
              0.3333333333333333,
              "#9c179e"
             ],
             [
              0.4444444444444444,
              "#bd3786"
             ],
             [
              0.5555555555555556,
              "#d8576b"
             ],
             [
              0.6666666666666666,
              "#ed7953"
             ],
             [
              0.7777777777777778,
              "#fb9f3a"
             ],
             [
              0.8888888888888888,
              "#fdca26"
             ],
             [
              1,
              "#f0f921"
             ]
            ],
            "type": "heatmap"
           }
          ],
          "heatmapgl": [
           {
            "colorbar": {
             "outlinewidth": 0,
             "ticks": ""
            },
            "colorscale": [
             [
              0,
              "#0d0887"
             ],
             [
              0.1111111111111111,
              "#46039f"
             ],
             [
              0.2222222222222222,
              "#7201a8"
             ],
             [
              0.3333333333333333,
              "#9c179e"
             ],
             [
              0.4444444444444444,
              "#bd3786"
             ],
             [
              0.5555555555555556,
              "#d8576b"
             ],
             [
              0.6666666666666666,
              "#ed7953"
             ],
             [
              0.7777777777777778,
              "#fb9f3a"
             ],
             [
              0.8888888888888888,
              "#fdca26"
             ],
             [
              1,
              "#f0f921"
             ]
            ],
            "type": "heatmapgl"
           }
          ],
          "histogram": [
           {
            "marker": {
             "pattern": {
              "fillmode": "overlay",
              "size": 10,
              "solidity": 0.2
             }
            },
            "type": "histogram"
           }
          ],
          "histogram2d": [
           {
            "colorbar": {
             "outlinewidth": 0,
             "ticks": ""
            },
            "colorscale": [
             [
              0,
              "#0d0887"
             ],
             [
              0.1111111111111111,
              "#46039f"
             ],
             [
              0.2222222222222222,
              "#7201a8"
             ],
             [
              0.3333333333333333,
              "#9c179e"
             ],
             [
              0.4444444444444444,
              "#bd3786"
             ],
             [
              0.5555555555555556,
              "#d8576b"
             ],
             [
              0.6666666666666666,
              "#ed7953"
             ],
             [
              0.7777777777777778,
              "#fb9f3a"
             ],
             [
              0.8888888888888888,
              "#fdca26"
             ],
             [
              1,
              "#f0f921"
             ]
            ],
            "type": "histogram2d"
           }
          ],
          "histogram2dcontour": [
           {
            "colorbar": {
             "outlinewidth": 0,
             "ticks": ""
            },
            "colorscale": [
             [
              0,
              "#0d0887"
             ],
             [
              0.1111111111111111,
              "#46039f"
             ],
             [
              0.2222222222222222,
              "#7201a8"
             ],
             [
              0.3333333333333333,
              "#9c179e"
             ],
             [
              0.4444444444444444,
              "#bd3786"
             ],
             [
              0.5555555555555556,
              "#d8576b"
             ],
             [
              0.6666666666666666,
              "#ed7953"
             ],
             [
              0.7777777777777778,
              "#fb9f3a"
             ],
             [
              0.8888888888888888,
              "#fdca26"
             ],
             [
              1,
              "#f0f921"
             ]
            ],
            "type": "histogram2dcontour"
           }
          ],
          "mesh3d": [
           {
            "colorbar": {
             "outlinewidth": 0,
             "ticks": ""
            },
            "type": "mesh3d"
           }
          ],
          "parcoords": [
           {
            "line": {
             "colorbar": {
              "outlinewidth": 0,
              "ticks": ""
             }
            },
            "type": "parcoords"
           }
          ],
          "pie": [
           {
            "automargin": true,
            "type": "pie"
           }
          ],
          "scatter": [
           {
            "fillpattern": {
             "fillmode": "overlay",
             "size": 10,
             "solidity": 0.2
            },
            "type": "scatter"
           }
          ],
          "scatter3d": [
           {
            "line": {
             "colorbar": {
              "outlinewidth": 0,
              "ticks": ""
             }
            },
            "marker": {
             "colorbar": {
              "outlinewidth": 0,
              "ticks": ""
             }
            },
            "type": "scatter3d"
           }
          ],
          "scattercarpet": [
           {
            "marker": {
             "colorbar": {
              "outlinewidth": 0,
              "ticks": ""
             }
            },
            "type": "scattercarpet"
           }
          ],
          "scattergeo": [
           {
            "marker": {
             "colorbar": {
              "outlinewidth": 0,
              "ticks": ""
             }
            },
            "type": "scattergeo"
           }
          ],
          "scattergl": [
           {
            "marker": {
             "colorbar": {
              "outlinewidth": 0,
              "ticks": ""
             }
            },
            "type": "scattergl"
           }
          ],
          "scattermapbox": [
           {
            "marker": {
             "colorbar": {
              "outlinewidth": 0,
              "ticks": ""
             }
            },
            "type": "scattermapbox"
           }
          ],
          "scatterpolar": [
           {
            "marker": {
             "colorbar": {
              "outlinewidth": 0,
              "ticks": ""
             }
            },
            "type": "scatterpolar"
           }
          ],
          "scatterpolargl": [
           {
            "marker": {
             "colorbar": {
              "outlinewidth": 0,
              "ticks": ""
             }
            },
            "type": "scatterpolargl"
           }
          ],
          "scatterternary": [
           {
            "marker": {
             "colorbar": {
              "outlinewidth": 0,
              "ticks": ""
             }
            },
            "type": "scatterternary"
           }
          ],
          "surface": [
           {
            "colorbar": {
             "outlinewidth": 0,
             "ticks": ""
            },
            "colorscale": [
             [
              0,
              "#0d0887"
             ],
             [
              0.1111111111111111,
              "#46039f"
             ],
             [
              0.2222222222222222,
              "#7201a8"
             ],
             [
              0.3333333333333333,
              "#9c179e"
             ],
             [
              0.4444444444444444,
              "#bd3786"
             ],
             [
              0.5555555555555556,
              "#d8576b"
             ],
             [
              0.6666666666666666,
              "#ed7953"
             ],
             [
              0.7777777777777778,
              "#fb9f3a"
             ],
             [
              0.8888888888888888,
              "#fdca26"
             ],
             [
              1,
              "#f0f921"
             ]
            ],
            "type": "surface"
           }
          ],
          "table": [
           {
            "cells": {
             "fill": {
              "color": "#EBF0F8"
             },
             "line": {
              "color": "white"
             }
            },
            "header": {
             "fill": {
              "color": "#C8D4E3"
             },
             "line": {
              "color": "white"
             }
            },
            "type": "table"
           }
          ]
         },
         "layout": {
          "annotationdefaults": {
           "arrowcolor": "#2a3f5f",
           "arrowhead": 0,
           "arrowwidth": 1
          },
          "autotypenumbers": "strict",
          "coloraxis": {
           "colorbar": {
            "outlinewidth": 0,
            "ticks": ""
           }
          },
          "colorscale": {
           "diverging": [
            [
             0,
             "#8e0152"
            ],
            [
             0.1,
             "#c51b7d"
            ],
            [
             0.2,
             "#de77ae"
            ],
            [
             0.3,
             "#f1b6da"
            ],
            [
             0.4,
             "#fde0ef"
            ],
            [
             0.5,
             "#f7f7f7"
            ],
            [
             0.6,
             "#e6f5d0"
            ],
            [
             0.7,
             "#b8e186"
            ],
            [
             0.8,
             "#7fbc41"
            ],
            [
             0.9,
             "#4d9221"
            ],
            [
             1,
             "#276419"
            ]
           ],
           "sequential": [
            [
             0,
             "#0d0887"
            ],
            [
             0.1111111111111111,
             "#46039f"
            ],
            [
             0.2222222222222222,
             "#7201a8"
            ],
            [
             0.3333333333333333,
             "#9c179e"
            ],
            [
             0.4444444444444444,
             "#bd3786"
            ],
            [
             0.5555555555555556,
             "#d8576b"
            ],
            [
             0.6666666666666666,
             "#ed7953"
            ],
            [
             0.7777777777777778,
             "#fb9f3a"
            ],
            [
             0.8888888888888888,
             "#fdca26"
            ],
            [
             1,
             "#f0f921"
            ]
           ],
           "sequentialminus": [
            [
             0,
             "#0d0887"
            ],
            [
             0.1111111111111111,
             "#46039f"
            ],
            [
             0.2222222222222222,
             "#7201a8"
            ],
            [
             0.3333333333333333,
             "#9c179e"
            ],
            [
             0.4444444444444444,
             "#bd3786"
            ],
            [
             0.5555555555555556,
             "#d8576b"
            ],
            [
             0.6666666666666666,
             "#ed7953"
            ],
            [
             0.7777777777777778,
             "#fb9f3a"
            ],
            [
             0.8888888888888888,
             "#fdca26"
            ],
            [
             1,
             "#f0f921"
            ]
           ]
          },
          "colorway": [
           "#636efa",
           "#EF553B",
           "#00cc96",
           "#ab63fa",
           "#FFA15A",
           "#19d3f3",
           "#FF6692",
           "#B6E880",
           "#FF97FF",
           "#FECB52"
          ],
          "font": {
           "color": "#2a3f5f"
          },
          "geo": {
           "bgcolor": "white",
           "lakecolor": "white",
           "landcolor": "#E5ECF6",
           "showlakes": true,
           "showland": true,
           "subunitcolor": "white"
          },
          "hoverlabel": {
           "align": "left"
          },
          "hovermode": "closest",
          "mapbox": {
           "style": "light"
          },
          "paper_bgcolor": "white",
          "plot_bgcolor": "#E5ECF6",
          "polar": {
           "angularaxis": {
            "gridcolor": "white",
            "linecolor": "white",
            "ticks": ""
           },
           "bgcolor": "#E5ECF6",
           "radialaxis": {
            "gridcolor": "white",
            "linecolor": "white",
            "ticks": ""
           }
          },
          "scene": {
           "xaxis": {
            "backgroundcolor": "#E5ECF6",
            "gridcolor": "white",
            "gridwidth": 2,
            "linecolor": "white",
            "showbackground": true,
            "ticks": "",
            "zerolinecolor": "white"
           },
           "yaxis": {
            "backgroundcolor": "#E5ECF6",
            "gridcolor": "white",
            "gridwidth": 2,
            "linecolor": "white",
            "showbackground": true,
            "ticks": "",
            "zerolinecolor": "white"
           },
           "zaxis": {
            "backgroundcolor": "#E5ECF6",
            "gridcolor": "white",
            "gridwidth": 2,
            "linecolor": "white",
            "showbackground": true,
            "ticks": "",
            "zerolinecolor": "white"
           }
          },
          "shapedefaults": {
           "line": {
            "color": "#2a3f5f"
           }
          },
          "ternary": {
           "aaxis": {
            "gridcolor": "white",
            "linecolor": "white",
            "ticks": ""
           },
           "baxis": {
            "gridcolor": "white",
            "linecolor": "white",
            "ticks": ""
           },
           "bgcolor": "#E5ECF6",
           "caxis": {
            "gridcolor": "white",
            "linecolor": "white",
            "ticks": ""
           }
          },
          "title": {
           "x": 0.05
          },
          "xaxis": {
           "automargin": true,
           "gridcolor": "white",
           "linecolor": "white",
           "ticks": "",
           "title": {
            "standoff": 15
           },
           "zerolinecolor": "white",
           "zerolinewidth": 2
          },
          "yaxis": {
           "automargin": true,
           "gridcolor": "white",
           "linecolor": "white",
           "ticks": "",
           "title": {
            "standoff": 15
           },
           "zerolinecolor": "white",
           "zerolinewidth": 2
          }
         }
        },
        "xaxis": {
         "anchor": "y",
         "domain": [
          0,
          1
         ],
         "title": {
          "text": "mean_x"
         }
        },
        "yaxis": {
         "anchor": "x",
         "domain": [
          0,
          1
         ],
         "title": {
          "text": "mean_y"
         }
        }
       }
      }
     },
     "metadata": {},
     "output_type": "display_data"
    }
   ],
   "source": [
    "import plotly.express as px\n",
    "from sklearn.cluster import KMeans\n",
    "\n",
    "# Prepare the data\n",
    "df[\"Gender\"] = df[\"Male_Female\"].apply(lambda x: 1 if x == \"Male\" else 0)\n",
    "X = df[[\"Flight1\", \"Flight2\", \"Flight3\", \"Flight4\", \"Flight5\", \"Flight6\"]]\n",
    "X[\"mean_x\"] = X[[\"Flight1\", \"Flight2\", \"Flight3\"]].mean(axis=1)\n",
    "X[\"mean_y\"] = X[[\"Flight4\", \"Flight5\", \"Flight6\"]].mean(axis=1)\n",
    "\n",
    "# Perform K-means clustering\n",
    "kmeans = KMeans(n_clusters=5, random_state=0)\n",
    "kmeans.fit(X[[\"mean_x\", \"mean_y\"]])\n",
    "\n",
    "# Add the predicted clusters to the original dataframe\n",
    "df[\"Cluster\"] = kmeans.predict(X[[\"mean_x\", \"mean_y\"]])\n",
    "\n",
    "# Plot the clusters\n",
    "fig = px.scatter(df, x=\"mean_x\", y=\"mean_y\", color=\"Cluster\")\n",
    "fig.show()\n",
    "\n",
    "# Predict the Event based on the clusters\n",
    "event_map = {\n",
    "    0: \"Shot Put\",\n",
    "    1: \"Weight\",\n",
    "    2: \"Javelin\",\n",
    "    3: \"Discus\",\n",
    "    4: \"Hammer\"\n",
    "}\n",
    "df[\"Event\"] = df[\"Cluster\"].map(event_map)"
   ]
  },
  {
   "cell_type": "code",
   "execution_count": 12,
   "metadata": {},
   "outputs": [
    {
     "data": {
      "text/plain": [
       "0.5005713697872408"
      ]
     },
     "execution_count": 12,
     "metadata": {},
     "output_type": "execute_result"
    }
   ],
   "source": [
    "from sklearn.metrics import silhouette_score\n",
    "silhouette_score(X[[\"mean_x\", \"mean_y\"]], kmeans.labels_)"
   ]
  },
  {
   "cell_type": "code",
   "execution_count": 13,
   "metadata": {},
   "outputs": [
    {
     "data": {
      "text/plain": [
       "array(['Shot Put', 'Discus', 'Weight', 'Javelin', 'Hammer'], dtype=object)"
      ]
     },
     "execution_count": 13,
     "metadata": {},
     "output_type": "execute_result"
    }
   ],
   "source": [
    "from sklearn.ensemble import GradientBoostingClassifier\n",
    "\n",
    "df = df.dropna()\n",
    "# Split the data into features (X) and target (y)\n",
    "X = df.drop(['Event','Male_Female','Athlete','Max_Flight', 'mean_y', 'mean_x', 'gender', 'Cluster'], axis=1)\n",
    "y = df['Event']\n",
    "y.unique()"
   ]
  },
  {
   "cell_type": "code",
   "execution_count": 14,
   "metadata": {},
   "outputs": [
    {
     "data": {
      "text/html": [
       "<div>\n",
       "<style scoped>\n",
       "    .dataframe tbody tr th:only-of-type {\n",
       "        vertical-align: middle;\n",
       "    }\n",
       "\n",
       "    .dataframe tbody tr th {\n",
       "        vertical-align: top;\n",
       "    }\n",
       "\n",
       "    .dataframe thead th {\n",
       "        text-align: right;\n",
       "    }\n",
       "</style>\n",
       "<table border=\"1\" class=\"dataframe\">\n",
       "  <thead>\n",
       "    <tr style=\"text-align: right;\">\n",
       "      <th></th>\n",
       "      <th>Flight1</th>\n",
       "      <th>Flight2</th>\n",
       "      <th>Flight3</th>\n",
       "      <th>Flight4</th>\n",
       "      <th>Flight5</th>\n",
       "      <th>Flight6</th>\n",
       "      <th>Gender</th>\n",
       "    </tr>\n",
       "  </thead>\n",
       "  <tbody>\n",
       "    <tr>\n",
       "      <th>713</th>\n",
       "      <td>0.00</td>\n",
       "      <td>16.16</td>\n",
       "      <td>16.19</td>\n",
       "      <td>15.62</td>\n",
       "      <td>16.36</td>\n",
       "      <td>16.26</td>\n",
       "      <td>0</td>\n",
       "    </tr>\n",
       "    <tr>\n",
       "      <th>1676</th>\n",
       "      <td>23.76</td>\n",
       "      <td>23.84</td>\n",
       "      <td>23.86</td>\n",
       "      <td>23.83</td>\n",
       "      <td>24.09</td>\n",
       "      <td>24.30</td>\n",
       "      <td>0</td>\n",
       "    </tr>\n",
       "    <tr>\n",
       "      <th>154</th>\n",
       "      <td>59.36</td>\n",
       "      <td>60.52</td>\n",
       "      <td>0.00</td>\n",
       "      <td>0.00</td>\n",
       "      <td>0.00</td>\n",
       "      <td>60.46</td>\n",
       "      <td>1</td>\n",
       "    </tr>\n",
       "    <tr>\n",
       "      <th>192</th>\n",
       "      <td>16.28</td>\n",
       "      <td>15.75</td>\n",
       "      <td>16.48</td>\n",
       "      <td>0.00</td>\n",
       "      <td>0.00</td>\n",
       "      <td>15.89</td>\n",
       "      <td>0</td>\n",
       "    </tr>\n",
       "    <tr>\n",
       "      <th>2071</th>\n",
       "      <td>19.71</td>\n",
       "      <td>20.74</td>\n",
       "      <td>0.00</td>\n",
       "      <td>0.00</td>\n",
       "      <td>0.00</td>\n",
       "      <td>20.57</td>\n",
       "      <td>1</td>\n",
       "    </tr>\n",
       "  </tbody>\n",
       "</table>\n",
       "</div>"
      ],
      "text/plain": [
       "      Flight1  Flight2  Flight3  Flight4  Flight5  Flight6  Gender\n",
       "713      0.00    16.16    16.19    15.62    16.36    16.26       0\n",
       "1676    23.76    23.84    23.86    23.83    24.09    24.30       0\n",
       "154     59.36    60.52     0.00     0.00     0.00    60.46       1\n",
       "192     16.28    15.75    16.48     0.00     0.00    15.89       0\n",
       "2071    19.71    20.74     0.00     0.00     0.00    20.57       1"
      ]
     },
     "execution_count": 14,
     "metadata": {},
     "output_type": "execute_result"
    }
   ],
   "source": [
    "X_train, X_test, y_train, y_test = train_test_split(X, y, test_size=0.3, random_state=0)\n",
    "X_train.head()"
   ]
  },
  {
   "cell_type": "code",
   "execution_count": 15,
   "metadata": {},
   "outputs": [],
   "source": [
    "import plotly.graph_objs as go\n",
    "def gen_cm_plotly(cm):\n",
    "    # compute success percentages and format as strings with percentage symbol\n",
    "    total_predictions = cm.sum(axis=1)\n",
    "    success_percentages = np.zeros_like(cm, dtype=float)\n",
    "    for i in range(cm.shape[0]):\n",
    "        for j in range(cm.shape[1]):\n",
    "            if total_predictions[i] > 0:\n",
    "                success_percentages[i,j] = cm[i,j] / total_predictions[i] * 100\n",
    "    success_percentages = np.char.add(success_percentages.round(1).astype(str), '%')\n",
    "\n",
    "    # create text labels for each cell\n",
    "    text = [[f\"Count: {cm[j][i]:,}<br>Success: {success_percentages[j][i]}%\" for i in range(len(cm[j]))] for j in range(len(cm))]\n",
    "\n",
    "    # plot the confusion matrix using plotly\n",
    "    fig = go.Figure(data=go.Heatmap(\n",
    "                    z=cm,\n",
    "                    x=y.unique(),\n",
    "                    y=y.unique(),\n",
    "                    colorscale='inferno',\n",
    "                    text=text,\n",
    "                    hovertemplate='%{text}<extra></extra>'\n",
    "                    ))\n",
    "    # add annotations as percentages to heatmap\n",
    "    for i in range(len(cm)):\n",
    "        for j in range(len(cm)):\n",
    "            fig.add_annotation(x=j, y=i, text=success_percentages[i][j], showarrow=False, font=dict(color='white', size=12))\n",
    "            \n",
    "    fig.update_layout(\n",
    "        title='Confusion Matrix',\n",
    "        xaxis_title='Predicted Event',\n",
    "        yaxis_title='True Event',\n",
    "        font=dict(\n",
    "            size=14,\n",
    "            color='black'\n",
    "        )\n",
    "    )\n",
    "    fig.update_traces(textfont_color='white')\n",
    "    fig.show()"
   ]
  },
  {
   "cell_type": "code",
   "execution_count": 16,
   "metadata": {},
   "outputs": [
    {
     "name": "stdout",
     "output_type": "stream",
     "text": [
      "Accuracy: 0.9492063492063492\n"
     ]
    },
    {
     "data": {
      "application/vnd.plotly.v1+json": {
       "config": {
        "plotlyServerURL": "https://plot.ly"
       },
       "data": [
        {
         "colorscale": [
          [
           0,
           "#000004"
          ],
          [
           0.1111111111111111,
           "#1b0c41"
          ],
          [
           0.2222222222222222,
           "#4a0c6b"
          ],
          [
           0.3333333333333333,
           "#781c6d"
          ],
          [
           0.4444444444444444,
           "#a52c60"
          ],
          [
           0.5555555555555556,
           "#cf4446"
          ],
          [
           0.6666666666666666,
           "#ed6925"
          ],
          [
           0.7777777777777778,
           "#fb9b06"
          ],
          [
           0.8888888888888888,
           "#f7d13d"
          ],
          [
           1,
           "#fcffa4"
          ]
         ],
         "hovertemplate": "%{text}<extra></extra>",
         "text": [
          [
           "Count: 107<br>Success: 98.2%%",
           "Count: 0<br>Success: 0.0%%",
           "Count: 0<br>Success: 0.0%%",
           "Count: 2<br>Success: 1.8%%",
           "Count: 0<br>Success: 0.0%%"
          ],
          [
           "Count: 1<br>Success: 1.1%%",
           "Count: 87<br>Success: 94.6%%",
           "Count: 0<br>Success: 0.0%%",
           "Count: 1<br>Success: 1.1%%",
           "Count: 3<br>Success: 3.3%%"
          ],
          [
           "Count: 1<br>Success: 1.2%%",
           "Count: 0<br>Success: 0.0%%",
           "Count: 77<br>Success: 89.5%%",
           "Count: 0<br>Success: 0.0%%",
           "Count: 8<br>Success: 9.3%%"
          ],
          [
           "Count: 4<br>Success: 1.7%%",
           "Count: 4<br>Success: 1.7%%",
           "Count: 0<br>Success: 0.0%%",
           "Count: 223<br>Success: 96.5%%",
           "Count: 0<br>Success: 0.0%%"
          ],
          [
           "Count: 1<br>Success: 0.9%%",
           "Count: 7<br>Success: 6.2%%",
           "Count: 0<br>Success: 0.0%%",
           "Count: 0<br>Success: 0.0%%",
           "Count: 104<br>Success: 92.9%%"
          ]
         ],
         "textfont": {
          "color": "white"
         },
         "type": "heatmap",
         "x": [
          "Shot Put",
          "Discus",
          "Weight",
          "Javelin",
          "Hammer"
         ],
         "y": [
          "Shot Put",
          "Discus",
          "Weight",
          "Javelin",
          "Hammer"
         ],
         "z": [
          [
           107,
           0,
           0,
           2,
           0
          ],
          [
           1,
           87,
           0,
           1,
           3
          ],
          [
           1,
           0,
           77,
           0,
           8
          ],
          [
           4,
           4,
           0,
           223,
           0
          ],
          [
           1,
           7,
           0,
           0,
           104
          ]
         ]
        }
       ],
       "layout": {
        "annotations": [
         {
          "font": {
           "color": "white",
           "size": 12
          },
          "showarrow": false,
          "text": "98.2%",
          "x": 0,
          "y": 0
         },
         {
          "font": {
           "color": "white",
           "size": 12
          },
          "showarrow": false,
          "text": "0.0%",
          "x": 1,
          "y": 0
         },
         {
          "font": {
           "color": "white",
           "size": 12
          },
          "showarrow": false,
          "text": "0.0%",
          "x": 2,
          "y": 0
         },
         {
          "font": {
           "color": "white",
           "size": 12
          },
          "showarrow": false,
          "text": "1.8%",
          "x": 3,
          "y": 0
         },
         {
          "font": {
           "color": "white",
           "size": 12
          },
          "showarrow": false,
          "text": "0.0%",
          "x": 4,
          "y": 0
         },
         {
          "font": {
           "color": "white",
           "size": 12
          },
          "showarrow": false,
          "text": "1.1%",
          "x": 0,
          "y": 1
         },
         {
          "font": {
           "color": "white",
           "size": 12
          },
          "showarrow": false,
          "text": "94.6%",
          "x": 1,
          "y": 1
         },
         {
          "font": {
           "color": "white",
           "size": 12
          },
          "showarrow": false,
          "text": "0.0%",
          "x": 2,
          "y": 1
         },
         {
          "font": {
           "color": "white",
           "size": 12
          },
          "showarrow": false,
          "text": "1.1%",
          "x": 3,
          "y": 1
         },
         {
          "font": {
           "color": "white",
           "size": 12
          },
          "showarrow": false,
          "text": "3.3%",
          "x": 4,
          "y": 1
         },
         {
          "font": {
           "color": "white",
           "size": 12
          },
          "showarrow": false,
          "text": "1.2%",
          "x": 0,
          "y": 2
         },
         {
          "font": {
           "color": "white",
           "size": 12
          },
          "showarrow": false,
          "text": "0.0%",
          "x": 1,
          "y": 2
         },
         {
          "font": {
           "color": "white",
           "size": 12
          },
          "showarrow": false,
          "text": "89.5%",
          "x": 2,
          "y": 2
         },
         {
          "font": {
           "color": "white",
           "size": 12
          },
          "showarrow": false,
          "text": "0.0%",
          "x": 3,
          "y": 2
         },
         {
          "font": {
           "color": "white",
           "size": 12
          },
          "showarrow": false,
          "text": "9.3%",
          "x": 4,
          "y": 2
         },
         {
          "font": {
           "color": "white",
           "size": 12
          },
          "showarrow": false,
          "text": "1.7%",
          "x": 0,
          "y": 3
         },
         {
          "font": {
           "color": "white",
           "size": 12
          },
          "showarrow": false,
          "text": "1.7%",
          "x": 1,
          "y": 3
         },
         {
          "font": {
           "color": "white",
           "size": 12
          },
          "showarrow": false,
          "text": "0.0%",
          "x": 2,
          "y": 3
         },
         {
          "font": {
           "color": "white",
           "size": 12
          },
          "showarrow": false,
          "text": "96.5%",
          "x": 3,
          "y": 3
         },
         {
          "font": {
           "color": "white",
           "size": 12
          },
          "showarrow": false,
          "text": "0.0%",
          "x": 4,
          "y": 3
         },
         {
          "font": {
           "color": "white",
           "size": 12
          },
          "showarrow": false,
          "text": "0.9%",
          "x": 0,
          "y": 4
         },
         {
          "font": {
           "color": "white",
           "size": 12
          },
          "showarrow": false,
          "text": "6.2%",
          "x": 1,
          "y": 4
         },
         {
          "font": {
           "color": "white",
           "size": 12
          },
          "showarrow": false,
          "text": "0.0%",
          "x": 2,
          "y": 4
         },
         {
          "font": {
           "color": "white",
           "size": 12
          },
          "showarrow": false,
          "text": "0.0%",
          "x": 3,
          "y": 4
         },
         {
          "font": {
           "color": "white",
           "size": 12
          },
          "showarrow": false,
          "text": "92.9%",
          "x": 4,
          "y": 4
         }
        ],
        "font": {
         "color": "black",
         "size": 14
        },
        "template": {
         "data": {
          "bar": [
           {
            "error_x": {
             "color": "#2a3f5f"
            },
            "error_y": {
             "color": "#2a3f5f"
            },
            "marker": {
             "line": {
              "color": "#E5ECF6",
              "width": 0.5
             },
             "pattern": {
              "fillmode": "overlay",
              "size": 10,
              "solidity": 0.2
             }
            },
            "type": "bar"
           }
          ],
          "barpolar": [
           {
            "marker": {
             "line": {
              "color": "#E5ECF6",
              "width": 0.5
             },
             "pattern": {
              "fillmode": "overlay",
              "size": 10,
              "solidity": 0.2
             }
            },
            "type": "barpolar"
           }
          ],
          "carpet": [
           {
            "aaxis": {
             "endlinecolor": "#2a3f5f",
             "gridcolor": "white",
             "linecolor": "white",
             "minorgridcolor": "white",
             "startlinecolor": "#2a3f5f"
            },
            "baxis": {
             "endlinecolor": "#2a3f5f",
             "gridcolor": "white",
             "linecolor": "white",
             "minorgridcolor": "white",
             "startlinecolor": "#2a3f5f"
            },
            "type": "carpet"
           }
          ],
          "choropleth": [
           {
            "colorbar": {
             "outlinewidth": 0,
             "ticks": ""
            },
            "type": "choropleth"
           }
          ],
          "contour": [
           {
            "colorbar": {
             "outlinewidth": 0,
             "ticks": ""
            },
            "colorscale": [
             [
              0,
              "#0d0887"
             ],
             [
              0.1111111111111111,
              "#46039f"
             ],
             [
              0.2222222222222222,
              "#7201a8"
             ],
             [
              0.3333333333333333,
              "#9c179e"
             ],
             [
              0.4444444444444444,
              "#bd3786"
             ],
             [
              0.5555555555555556,
              "#d8576b"
             ],
             [
              0.6666666666666666,
              "#ed7953"
             ],
             [
              0.7777777777777778,
              "#fb9f3a"
             ],
             [
              0.8888888888888888,
              "#fdca26"
             ],
             [
              1,
              "#f0f921"
             ]
            ],
            "type": "contour"
           }
          ],
          "contourcarpet": [
           {
            "colorbar": {
             "outlinewidth": 0,
             "ticks": ""
            },
            "type": "contourcarpet"
           }
          ],
          "heatmap": [
           {
            "colorbar": {
             "outlinewidth": 0,
             "ticks": ""
            },
            "colorscale": [
             [
              0,
              "#0d0887"
             ],
             [
              0.1111111111111111,
              "#46039f"
             ],
             [
              0.2222222222222222,
              "#7201a8"
             ],
             [
              0.3333333333333333,
              "#9c179e"
             ],
             [
              0.4444444444444444,
              "#bd3786"
             ],
             [
              0.5555555555555556,
              "#d8576b"
             ],
             [
              0.6666666666666666,
              "#ed7953"
             ],
             [
              0.7777777777777778,
              "#fb9f3a"
             ],
             [
              0.8888888888888888,
              "#fdca26"
             ],
             [
              1,
              "#f0f921"
             ]
            ],
            "type": "heatmap"
           }
          ],
          "heatmapgl": [
           {
            "colorbar": {
             "outlinewidth": 0,
             "ticks": ""
            },
            "colorscale": [
             [
              0,
              "#0d0887"
             ],
             [
              0.1111111111111111,
              "#46039f"
             ],
             [
              0.2222222222222222,
              "#7201a8"
             ],
             [
              0.3333333333333333,
              "#9c179e"
             ],
             [
              0.4444444444444444,
              "#bd3786"
             ],
             [
              0.5555555555555556,
              "#d8576b"
             ],
             [
              0.6666666666666666,
              "#ed7953"
             ],
             [
              0.7777777777777778,
              "#fb9f3a"
             ],
             [
              0.8888888888888888,
              "#fdca26"
             ],
             [
              1,
              "#f0f921"
             ]
            ],
            "type": "heatmapgl"
           }
          ],
          "histogram": [
           {
            "marker": {
             "pattern": {
              "fillmode": "overlay",
              "size": 10,
              "solidity": 0.2
             }
            },
            "type": "histogram"
           }
          ],
          "histogram2d": [
           {
            "colorbar": {
             "outlinewidth": 0,
             "ticks": ""
            },
            "colorscale": [
             [
              0,
              "#0d0887"
             ],
             [
              0.1111111111111111,
              "#46039f"
             ],
             [
              0.2222222222222222,
              "#7201a8"
             ],
             [
              0.3333333333333333,
              "#9c179e"
             ],
             [
              0.4444444444444444,
              "#bd3786"
             ],
             [
              0.5555555555555556,
              "#d8576b"
             ],
             [
              0.6666666666666666,
              "#ed7953"
             ],
             [
              0.7777777777777778,
              "#fb9f3a"
             ],
             [
              0.8888888888888888,
              "#fdca26"
             ],
             [
              1,
              "#f0f921"
             ]
            ],
            "type": "histogram2d"
           }
          ],
          "histogram2dcontour": [
           {
            "colorbar": {
             "outlinewidth": 0,
             "ticks": ""
            },
            "colorscale": [
             [
              0,
              "#0d0887"
             ],
             [
              0.1111111111111111,
              "#46039f"
             ],
             [
              0.2222222222222222,
              "#7201a8"
             ],
             [
              0.3333333333333333,
              "#9c179e"
             ],
             [
              0.4444444444444444,
              "#bd3786"
             ],
             [
              0.5555555555555556,
              "#d8576b"
             ],
             [
              0.6666666666666666,
              "#ed7953"
             ],
             [
              0.7777777777777778,
              "#fb9f3a"
             ],
             [
              0.8888888888888888,
              "#fdca26"
             ],
             [
              1,
              "#f0f921"
             ]
            ],
            "type": "histogram2dcontour"
           }
          ],
          "mesh3d": [
           {
            "colorbar": {
             "outlinewidth": 0,
             "ticks": ""
            },
            "type": "mesh3d"
           }
          ],
          "parcoords": [
           {
            "line": {
             "colorbar": {
              "outlinewidth": 0,
              "ticks": ""
             }
            },
            "type": "parcoords"
           }
          ],
          "pie": [
           {
            "automargin": true,
            "type": "pie"
           }
          ],
          "scatter": [
           {
            "fillpattern": {
             "fillmode": "overlay",
             "size": 10,
             "solidity": 0.2
            },
            "type": "scatter"
           }
          ],
          "scatter3d": [
           {
            "line": {
             "colorbar": {
              "outlinewidth": 0,
              "ticks": ""
             }
            },
            "marker": {
             "colorbar": {
              "outlinewidth": 0,
              "ticks": ""
             }
            },
            "type": "scatter3d"
           }
          ],
          "scattercarpet": [
           {
            "marker": {
             "colorbar": {
              "outlinewidth": 0,
              "ticks": ""
             }
            },
            "type": "scattercarpet"
           }
          ],
          "scattergeo": [
           {
            "marker": {
             "colorbar": {
              "outlinewidth": 0,
              "ticks": ""
             }
            },
            "type": "scattergeo"
           }
          ],
          "scattergl": [
           {
            "marker": {
             "colorbar": {
              "outlinewidth": 0,
              "ticks": ""
             }
            },
            "type": "scattergl"
           }
          ],
          "scattermapbox": [
           {
            "marker": {
             "colorbar": {
              "outlinewidth": 0,
              "ticks": ""
             }
            },
            "type": "scattermapbox"
           }
          ],
          "scatterpolar": [
           {
            "marker": {
             "colorbar": {
              "outlinewidth": 0,
              "ticks": ""
             }
            },
            "type": "scatterpolar"
           }
          ],
          "scatterpolargl": [
           {
            "marker": {
             "colorbar": {
              "outlinewidth": 0,
              "ticks": ""
             }
            },
            "type": "scatterpolargl"
           }
          ],
          "scatterternary": [
           {
            "marker": {
             "colorbar": {
              "outlinewidth": 0,
              "ticks": ""
             }
            },
            "type": "scatterternary"
           }
          ],
          "surface": [
           {
            "colorbar": {
             "outlinewidth": 0,
             "ticks": ""
            },
            "colorscale": [
             [
              0,
              "#0d0887"
             ],
             [
              0.1111111111111111,
              "#46039f"
             ],
             [
              0.2222222222222222,
              "#7201a8"
             ],
             [
              0.3333333333333333,
              "#9c179e"
             ],
             [
              0.4444444444444444,
              "#bd3786"
             ],
             [
              0.5555555555555556,
              "#d8576b"
             ],
             [
              0.6666666666666666,
              "#ed7953"
             ],
             [
              0.7777777777777778,
              "#fb9f3a"
             ],
             [
              0.8888888888888888,
              "#fdca26"
             ],
             [
              1,
              "#f0f921"
             ]
            ],
            "type": "surface"
           }
          ],
          "table": [
           {
            "cells": {
             "fill": {
              "color": "#EBF0F8"
             },
             "line": {
              "color": "white"
             }
            },
            "header": {
             "fill": {
              "color": "#C8D4E3"
             },
             "line": {
              "color": "white"
             }
            },
            "type": "table"
           }
          ]
         },
         "layout": {
          "annotationdefaults": {
           "arrowcolor": "#2a3f5f",
           "arrowhead": 0,
           "arrowwidth": 1
          },
          "autotypenumbers": "strict",
          "coloraxis": {
           "colorbar": {
            "outlinewidth": 0,
            "ticks": ""
           }
          },
          "colorscale": {
           "diverging": [
            [
             0,
             "#8e0152"
            ],
            [
             0.1,
             "#c51b7d"
            ],
            [
             0.2,
             "#de77ae"
            ],
            [
             0.3,
             "#f1b6da"
            ],
            [
             0.4,
             "#fde0ef"
            ],
            [
             0.5,
             "#f7f7f7"
            ],
            [
             0.6,
             "#e6f5d0"
            ],
            [
             0.7,
             "#b8e186"
            ],
            [
             0.8,
             "#7fbc41"
            ],
            [
             0.9,
             "#4d9221"
            ],
            [
             1,
             "#276419"
            ]
           ],
           "sequential": [
            [
             0,
             "#0d0887"
            ],
            [
             0.1111111111111111,
             "#46039f"
            ],
            [
             0.2222222222222222,
             "#7201a8"
            ],
            [
             0.3333333333333333,
             "#9c179e"
            ],
            [
             0.4444444444444444,
             "#bd3786"
            ],
            [
             0.5555555555555556,
             "#d8576b"
            ],
            [
             0.6666666666666666,
             "#ed7953"
            ],
            [
             0.7777777777777778,
             "#fb9f3a"
            ],
            [
             0.8888888888888888,
             "#fdca26"
            ],
            [
             1,
             "#f0f921"
            ]
           ],
           "sequentialminus": [
            [
             0,
             "#0d0887"
            ],
            [
             0.1111111111111111,
             "#46039f"
            ],
            [
             0.2222222222222222,
             "#7201a8"
            ],
            [
             0.3333333333333333,
             "#9c179e"
            ],
            [
             0.4444444444444444,
             "#bd3786"
            ],
            [
             0.5555555555555556,
             "#d8576b"
            ],
            [
             0.6666666666666666,
             "#ed7953"
            ],
            [
             0.7777777777777778,
             "#fb9f3a"
            ],
            [
             0.8888888888888888,
             "#fdca26"
            ],
            [
             1,
             "#f0f921"
            ]
           ]
          },
          "colorway": [
           "#636efa",
           "#EF553B",
           "#00cc96",
           "#ab63fa",
           "#FFA15A",
           "#19d3f3",
           "#FF6692",
           "#B6E880",
           "#FF97FF",
           "#FECB52"
          ],
          "font": {
           "color": "#2a3f5f"
          },
          "geo": {
           "bgcolor": "white",
           "lakecolor": "white",
           "landcolor": "#E5ECF6",
           "showlakes": true,
           "showland": true,
           "subunitcolor": "white"
          },
          "hoverlabel": {
           "align": "left"
          },
          "hovermode": "closest",
          "mapbox": {
           "style": "light"
          },
          "paper_bgcolor": "white",
          "plot_bgcolor": "#E5ECF6",
          "polar": {
           "angularaxis": {
            "gridcolor": "white",
            "linecolor": "white",
            "ticks": ""
           },
           "bgcolor": "#E5ECF6",
           "radialaxis": {
            "gridcolor": "white",
            "linecolor": "white",
            "ticks": ""
           }
          },
          "scene": {
           "xaxis": {
            "backgroundcolor": "#E5ECF6",
            "gridcolor": "white",
            "gridwidth": 2,
            "linecolor": "white",
            "showbackground": true,
            "ticks": "",
            "zerolinecolor": "white"
           },
           "yaxis": {
            "backgroundcolor": "#E5ECF6",
            "gridcolor": "white",
            "gridwidth": 2,
            "linecolor": "white",
            "showbackground": true,
            "ticks": "",
            "zerolinecolor": "white"
           },
           "zaxis": {
            "backgroundcolor": "#E5ECF6",
            "gridcolor": "white",
            "gridwidth": 2,
            "linecolor": "white",
            "showbackground": true,
            "ticks": "",
            "zerolinecolor": "white"
           }
          },
          "shapedefaults": {
           "line": {
            "color": "#2a3f5f"
           }
          },
          "ternary": {
           "aaxis": {
            "gridcolor": "white",
            "linecolor": "white",
            "ticks": ""
           },
           "baxis": {
            "gridcolor": "white",
            "linecolor": "white",
            "ticks": ""
           },
           "bgcolor": "#E5ECF6",
           "caxis": {
            "gridcolor": "white",
            "linecolor": "white",
            "ticks": ""
           }
          },
          "title": {
           "x": 0.05
          },
          "xaxis": {
           "automargin": true,
           "gridcolor": "white",
           "linecolor": "white",
           "ticks": "",
           "title": {
            "standoff": 15
           },
           "zerolinecolor": "white",
           "zerolinewidth": 2
          },
          "yaxis": {
           "automargin": true,
           "gridcolor": "white",
           "linecolor": "white",
           "ticks": "",
           "title": {
            "standoff": 15
           },
           "zerolinecolor": "white",
           "zerolinewidth": 2
          }
         }
        },
        "title": {
         "text": "Confusion Matrix"
        },
        "xaxis": {
         "title": {
          "text": "Predicted Event"
         }
        },
        "yaxis": {
         "title": {
          "text": "True Event"
         }
        }
       }
      }
     },
     "metadata": {},
     "output_type": "display_data"
    }
   ],
   "source": [
    "from sklearn.metrics import accuracy_score\n",
    "from sklearn.metrics import confusion_matrix\n",
    "# Create and fit a Gradient Boosting classifier\n",
    "gb = GradientBoostingClassifier()\n",
    "gb.fit(X_train, y_train)\n",
    "# make predictions on the testing set\n",
    "y_pred = gb.predict(X_test)\n",
    "\n",
    "accuracy = accuracy_score(y_test, y_pred)\n",
    "print('Accuracy:', accuracy)\n",
    "\n",
    "# create a confusion matrix\n",
    "cm = confusion_matrix(y_test, y_pred)\n",
    "gen_cm_plotly(cm)"
   ]
  },
  {
   "cell_type": "code",
   "execution_count": 17,
   "metadata": {},
   "outputs": [
    {
     "name": "stdout",
     "output_type": "stream",
     "text": [
      "Accuracy: 0.9634920634920635\n"
     ]
    },
    {
     "data": {
      "application/vnd.plotly.v1+json": {
       "config": {
        "plotlyServerURL": "https://plot.ly"
       },
       "data": [
        {
         "colorscale": [
          [
           0,
           "#000004"
          ],
          [
           0.1111111111111111,
           "#1b0c41"
          ],
          [
           0.2222222222222222,
           "#4a0c6b"
          ],
          [
           0.3333333333333333,
           "#781c6d"
          ],
          [
           0.4444444444444444,
           "#a52c60"
          ],
          [
           0.5555555555555556,
           "#cf4446"
          ],
          [
           0.6666666666666666,
           "#ed6925"
          ],
          [
           0.7777777777777778,
           "#fb9b06"
          ],
          [
           0.8888888888888888,
           "#f7d13d"
          ],
          [
           1,
           "#fcffa4"
          ]
         ],
         "hovertemplate": "%{text}<extra></extra>",
         "text": [
          [
           "Count: 105<br>Success: 96.3%%",
           "Count: 3<br>Success: 2.8%%",
           "Count: 0<br>Success: 0.0%%",
           "Count: 0<br>Success: 0.0%%",
           "Count: 1<br>Success: 0.9%%"
          ],
          [
           "Count: 1<br>Success: 1.1%%",
           "Count: 85<br>Success: 92.4%%",
           "Count: 0<br>Success: 0.0%%",
           "Count: 3<br>Success: 3.3%%",
           "Count: 3<br>Success: 3.3%%"
          ],
          [
           "Count: 0<br>Success: 0.0%%",
           "Count: 0<br>Success: 0.0%%",
           "Count: 83<br>Success: 96.5%%",
           "Count: 0<br>Success: 0.0%%",
           "Count: 3<br>Success: 3.5%%"
          ],
          [
           "Count: 5<br>Success: 2.2%%",
           "Count: 2<br>Success: 0.9%%",
           "Count: 0<br>Success: 0.0%%",
           "Count: 224<br>Success: 97.0%%",
           "Count: 0<br>Success: 0.0%%"
          ],
          [
           "Count: 0<br>Success: 0.0%%",
           "Count: 1<br>Success: 0.9%%",
           "Count: 1<br>Success: 0.9%%",
           "Count: 0<br>Success: 0.0%%",
           "Count: 110<br>Success: 98.2%%"
          ]
         ],
         "textfont": {
          "color": "white"
         },
         "type": "heatmap",
         "x": [
          "Shot Put",
          "Discus",
          "Weight",
          "Javelin",
          "Hammer"
         ],
         "y": [
          "Shot Put",
          "Discus",
          "Weight",
          "Javelin",
          "Hammer"
         ],
         "z": [
          [
           105,
           3,
           0,
           0,
           1
          ],
          [
           1,
           85,
           0,
           3,
           3
          ],
          [
           0,
           0,
           83,
           0,
           3
          ],
          [
           5,
           2,
           0,
           224,
           0
          ],
          [
           0,
           1,
           1,
           0,
           110
          ]
         ]
        }
       ],
       "layout": {
        "annotations": [
         {
          "font": {
           "color": "white",
           "size": 12
          },
          "showarrow": false,
          "text": "96.3%",
          "x": 0,
          "y": 0
         },
         {
          "font": {
           "color": "white",
           "size": 12
          },
          "showarrow": false,
          "text": "2.8%",
          "x": 1,
          "y": 0
         },
         {
          "font": {
           "color": "white",
           "size": 12
          },
          "showarrow": false,
          "text": "0.0%",
          "x": 2,
          "y": 0
         },
         {
          "font": {
           "color": "white",
           "size": 12
          },
          "showarrow": false,
          "text": "0.0%",
          "x": 3,
          "y": 0
         },
         {
          "font": {
           "color": "white",
           "size": 12
          },
          "showarrow": false,
          "text": "0.9%",
          "x": 4,
          "y": 0
         },
         {
          "font": {
           "color": "white",
           "size": 12
          },
          "showarrow": false,
          "text": "1.1%",
          "x": 0,
          "y": 1
         },
         {
          "font": {
           "color": "white",
           "size": 12
          },
          "showarrow": false,
          "text": "92.4%",
          "x": 1,
          "y": 1
         },
         {
          "font": {
           "color": "white",
           "size": 12
          },
          "showarrow": false,
          "text": "0.0%",
          "x": 2,
          "y": 1
         },
         {
          "font": {
           "color": "white",
           "size": 12
          },
          "showarrow": false,
          "text": "3.3%",
          "x": 3,
          "y": 1
         },
         {
          "font": {
           "color": "white",
           "size": 12
          },
          "showarrow": false,
          "text": "3.3%",
          "x": 4,
          "y": 1
         },
         {
          "font": {
           "color": "white",
           "size": 12
          },
          "showarrow": false,
          "text": "0.0%",
          "x": 0,
          "y": 2
         },
         {
          "font": {
           "color": "white",
           "size": 12
          },
          "showarrow": false,
          "text": "0.0%",
          "x": 1,
          "y": 2
         },
         {
          "font": {
           "color": "white",
           "size": 12
          },
          "showarrow": false,
          "text": "96.5%",
          "x": 2,
          "y": 2
         },
         {
          "font": {
           "color": "white",
           "size": 12
          },
          "showarrow": false,
          "text": "0.0%",
          "x": 3,
          "y": 2
         },
         {
          "font": {
           "color": "white",
           "size": 12
          },
          "showarrow": false,
          "text": "3.5%",
          "x": 4,
          "y": 2
         },
         {
          "font": {
           "color": "white",
           "size": 12
          },
          "showarrow": false,
          "text": "2.2%",
          "x": 0,
          "y": 3
         },
         {
          "font": {
           "color": "white",
           "size": 12
          },
          "showarrow": false,
          "text": "0.9%",
          "x": 1,
          "y": 3
         },
         {
          "font": {
           "color": "white",
           "size": 12
          },
          "showarrow": false,
          "text": "0.0%",
          "x": 2,
          "y": 3
         },
         {
          "font": {
           "color": "white",
           "size": 12
          },
          "showarrow": false,
          "text": "97.0%",
          "x": 3,
          "y": 3
         },
         {
          "font": {
           "color": "white",
           "size": 12
          },
          "showarrow": false,
          "text": "0.0%",
          "x": 4,
          "y": 3
         },
         {
          "font": {
           "color": "white",
           "size": 12
          },
          "showarrow": false,
          "text": "0.0%",
          "x": 0,
          "y": 4
         },
         {
          "font": {
           "color": "white",
           "size": 12
          },
          "showarrow": false,
          "text": "0.9%",
          "x": 1,
          "y": 4
         },
         {
          "font": {
           "color": "white",
           "size": 12
          },
          "showarrow": false,
          "text": "0.9%",
          "x": 2,
          "y": 4
         },
         {
          "font": {
           "color": "white",
           "size": 12
          },
          "showarrow": false,
          "text": "0.0%",
          "x": 3,
          "y": 4
         },
         {
          "font": {
           "color": "white",
           "size": 12
          },
          "showarrow": false,
          "text": "98.2%",
          "x": 4,
          "y": 4
         }
        ],
        "font": {
         "color": "black",
         "size": 14
        },
        "template": {
         "data": {
          "bar": [
           {
            "error_x": {
             "color": "#2a3f5f"
            },
            "error_y": {
             "color": "#2a3f5f"
            },
            "marker": {
             "line": {
              "color": "#E5ECF6",
              "width": 0.5
             },
             "pattern": {
              "fillmode": "overlay",
              "size": 10,
              "solidity": 0.2
             }
            },
            "type": "bar"
           }
          ],
          "barpolar": [
           {
            "marker": {
             "line": {
              "color": "#E5ECF6",
              "width": 0.5
             },
             "pattern": {
              "fillmode": "overlay",
              "size": 10,
              "solidity": 0.2
             }
            },
            "type": "barpolar"
           }
          ],
          "carpet": [
           {
            "aaxis": {
             "endlinecolor": "#2a3f5f",
             "gridcolor": "white",
             "linecolor": "white",
             "minorgridcolor": "white",
             "startlinecolor": "#2a3f5f"
            },
            "baxis": {
             "endlinecolor": "#2a3f5f",
             "gridcolor": "white",
             "linecolor": "white",
             "minorgridcolor": "white",
             "startlinecolor": "#2a3f5f"
            },
            "type": "carpet"
           }
          ],
          "choropleth": [
           {
            "colorbar": {
             "outlinewidth": 0,
             "ticks": ""
            },
            "type": "choropleth"
           }
          ],
          "contour": [
           {
            "colorbar": {
             "outlinewidth": 0,
             "ticks": ""
            },
            "colorscale": [
             [
              0,
              "#0d0887"
             ],
             [
              0.1111111111111111,
              "#46039f"
             ],
             [
              0.2222222222222222,
              "#7201a8"
             ],
             [
              0.3333333333333333,
              "#9c179e"
             ],
             [
              0.4444444444444444,
              "#bd3786"
             ],
             [
              0.5555555555555556,
              "#d8576b"
             ],
             [
              0.6666666666666666,
              "#ed7953"
             ],
             [
              0.7777777777777778,
              "#fb9f3a"
             ],
             [
              0.8888888888888888,
              "#fdca26"
             ],
             [
              1,
              "#f0f921"
             ]
            ],
            "type": "contour"
           }
          ],
          "contourcarpet": [
           {
            "colorbar": {
             "outlinewidth": 0,
             "ticks": ""
            },
            "type": "contourcarpet"
           }
          ],
          "heatmap": [
           {
            "colorbar": {
             "outlinewidth": 0,
             "ticks": ""
            },
            "colorscale": [
             [
              0,
              "#0d0887"
             ],
             [
              0.1111111111111111,
              "#46039f"
             ],
             [
              0.2222222222222222,
              "#7201a8"
             ],
             [
              0.3333333333333333,
              "#9c179e"
             ],
             [
              0.4444444444444444,
              "#bd3786"
             ],
             [
              0.5555555555555556,
              "#d8576b"
             ],
             [
              0.6666666666666666,
              "#ed7953"
             ],
             [
              0.7777777777777778,
              "#fb9f3a"
             ],
             [
              0.8888888888888888,
              "#fdca26"
             ],
             [
              1,
              "#f0f921"
             ]
            ],
            "type": "heatmap"
           }
          ],
          "heatmapgl": [
           {
            "colorbar": {
             "outlinewidth": 0,
             "ticks": ""
            },
            "colorscale": [
             [
              0,
              "#0d0887"
             ],
             [
              0.1111111111111111,
              "#46039f"
             ],
             [
              0.2222222222222222,
              "#7201a8"
             ],
             [
              0.3333333333333333,
              "#9c179e"
             ],
             [
              0.4444444444444444,
              "#bd3786"
             ],
             [
              0.5555555555555556,
              "#d8576b"
             ],
             [
              0.6666666666666666,
              "#ed7953"
             ],
             [
              0.7777777777777778,
              "#fb9f3a"
             ],
             [
              0.8888888888888888,
              "#fdca26"
             ],
             [
              1,
              "#f0f921"
             ]
            ],
            "type": "heatmapgl"
           }
          ],
          "histogram": [
           {
            "marker": {
             "pattern": {
              "fillmode": "overlay",
              "size": 10,
              "solidity": 0.2
             }
            },
            "type": "histogram"
           }
          ],
          "histogram2d": [
           {
            "colorbar": {
             "outlinewidth": 0,
             "ticks": ""
            },
            "colorscale": [
             [
              0,
              "#0d0887"
             ],
             [
              0.1111111111111111,
              "#46039f"
             ],
             [
              0.2222222222222222,
              "#7201a8"
             ],
             [
              0.3333333333333333,
              "#9c179e"
             ],
             [
              0.4444444444444444,
              "#bd3786"
             ],
             [
              0.5555555555555556,
              "#d8576b"
             ],
             [
              0.6666666666666666,
              "#ed7953"
             ],
             [
              0.7777777777777778,
              "#fb9f3a"
             ],
             [
              0.8888888888888888,
              "#fdca26"
             ],
             [
              1,
              "#f0f921"
             ]
            ],
            "type": "histogram2d"
           }
          ],
          "histogram2dcontour": [
           {
            "colorbar": {
             "outlinewidth": 0,
             "ticks": ""
            },
            "colorscale": [
             [
              0,
              "#0d0887"
             ],
             [
              0.1111111111111111,
              "#46039f"
             ],
             [
              0.2222222222222222,
              "#7201a8"
             ],
             [
              0.3333333333333333,
              "#9c179e"
             ],
             [
              0.4444444444444444,
              "#bd3786"
             ],
             [
              0.5555555555555556,
              "#d8576b"
             ],
             [
              0.6666666666666666,
              "#ed7953"
             ],
             [
              0.7777777777777778,
              "#fb9f3a"
             ],
             [
              0.8888888888888888,
              "#fdca26"
             ],
             [
              1,
              "#f0f921"
             ]
            ],
            "type": "histogram2dcontour"
           }
          ],
          "mesh3d": [
           {
            "colorbar": {
             "outlinewidth": 0,
             "ticks": ""
            },
            "type": "mesh3d"
           }
          ],
          "parcoords": [
           {
            "line": {
             "colorbar": {
              "outlinewidth": 0,
              "ticks": ""
             }
            },
            "type": "parcoords"
           }
          ],
          "pie": [
           {
            "automargin": true,
            "type": "pie"
           }
          ],
          "scatter": [
           {
            "fillpattern": {
             "fillmode": "overlay",
             "size": 10,
             "solidity": 0.2
            },
            "type": "scatter"
           }
          ],
          "scatter3d": [
           {
            "line": {
             "colorbar": {
              "outlinewidth": 0,
              "ticks": ""
             }
            },
            "marker": {
             "colorbar": {
              "outlinewidth": 0,
              "ticks": ""
             }
            },
            "type": "scatter3d"
           }
          ],
          "scattercarpet": [
           {
            "marker": {
             "colorbar": {
              "outlinewidth": 0,
              "ticks": ""
             }
            },
            "type": "scattercarpet"
           }
          ],
          "scattergeo": [
           {
            "marker": {
             "colorbar": {
              "outlinewidth": 0,
              "ticks": ""
             }
            },
            "type": "scattergeo"
           }
          ],
          "scattergl": [
           {
            "marker": {
             "colorbar": {
              "outlinewidth": 0,
              "ticks": ""
             }
            },
            "type": "scattergl"
           }
          ],
          "scattermapbox": [
           {
            "marker": {
             "colorbar": {
              "outlinewidth": 0,
              "ticks": ""
             }
            },
            "type": "scattermapbox"
           }
          ],
          "scatterpolar": [
           {
            "marker": {
             "colorbar": {
              "outlinewidth": 0,
              "ticks": ""
             }
            },
            "type": "scatterpolar"
           }
          ],
          "scatterpolargl": [
           {
            "marker": {
             "colorbar": {
              "outlinewidth": 0,
              "ticks": ""
             }
            },
            "type": "scatterpolargl"
           }
          ],
          "scatterternary": [
           {
            "marker": {
             "colorbar": {
              "outlinewidth": 0,
              "ticks": ""
             }
            },
            "type": "scatterternary"
           }
          ],
          "surface": [
           {
            "colorbar": {
             "outlinewidth": 0,
             "ticks": ""
            },
            "colorscale": [
             [
              0,
              "#0d0887"
             ],
             [
              0.1111111111111111,
              "#46039f"
             ],
             [
              0.2222222222222222,
              "#7201a8"
             ],
             [
              0.3333333333333333,
              "#9c179e"
             ],
             [
              0.4444444444444444,
              "#bd3786"
             ],
             [
              0.5555555555555556,
              "#d8576b"
             ],
             [
              0.6666666666666666,
              "#ed7953"
             ],
             [
              0.7777777777777778,
              "#fb9f3a"
             ],
             [
              0.8888888888888888,
              "#fdca26"
             ],
             [
              1,
              "#f0f921"
             ]
            ],
            "type": "surface"
           }
          ],
          "table": [
           {
            "cells": {
             "fill": {
              "color": "#EBF0F8"
             },
             "line": {
              "color": "white"
             }
            },
            "header": {
             "fill": {
              "color": "#C8D4E3"
             },
             "line": {
              "color": "white"
             }
            },
            "type": "table"
           }
          ]
         },
         "layout": {
          "annotationdefaults": {
           "arrowcolor": "#2a3f5f",
           "arrowhead": 0,
           "arrowwidth": 1
          },
          "autotypenumbers": "strict",
          "coloraxis": {
           "colorbar": {
            "outlinewidth": 0,
            "ticks": ""
           }
          },
          "colorscale": {
           "diverging": [
            [
             0,
             "#8e0152"
            ],
            [
             0.1,
             "#c51b7d"
            ],
            [
             0.2,
             "#de77ae"
            ],
            [
             0.3,
             "#f1b6da"
            ],
            [
             0.4,
             "#fde0ef"
            ],
            [
             0.5,
             "#f7f7f7"
            ],
            [
             0.6,
             "#e6f5d0"
            ],
            [
             0.7,
             "#b8e186"
            ],
            [
             0.8,
             "#7fbc41"
            ],
            [
             0.9,
             "#4d9221"
            ],
            [
             1,
             "#276419"
            ]
           ],
           "sequential": [
            [
             0,
             "#0d0887"
            ],
            [
             0.1111111111111111,
             "#46039f"
            ],
            [
             0.2222222222222222,
             "#7201a8"
            ],
            [
             0.3333333333333333,
             "#9c179e"
            ],
            [
             0.4444444444444444,
             "#bd3786"
            ],
            [
             0.5555555555555556,
             "#d8576b"
            ],
            [
             0.6666666666666666,
             "#ed7953"
            ],
            [
             0.7777777777777778,
             "#fb9f3a"
            ],
            [
             0.8888888888888888,
             "#fdca26"
            ],
            [
             1,
             "#f0f921"
            ]
           ],
           "sequentialminus": [
            [
             0,
             "#0d0887"
            ],
            [
             0.1111111111111111,
             "#46039f"
            ],
            [
             0.2222222222222222,
             "#7201a8"
            ],
            [
             0.3333333333333333,
             "#9c179e"
            ],
            [
             0.4444444444444444,
             "#bd3786"
            ],
            [
             0.5555555555555556,
             "#d8576b"
            ],
            [
             0.6666666666666666,
             "#ed7953"
            ],
            [
             0.7777777777777778,
             "#fb9f3a"
            ],
            [
             0.8888888888888888,
             "#fdca26"
            ],
            [
             1,
             "#f0f921"
            ]
           ]
          },
          "colorway": [
           "#636efa",
           "#EF553B",
           "#00cc96",
           "#ab63fa",
           "#FFA15A",
           "#19d3f3",
           "#FF6692",
           "#B6E880",
           "#FF97FF",
           "#FECB52"
          ],
          "font": {
           "color": "#2a3f5f"
          },
          "geo": {
           "bgcolor": "white",
           "lakecolor": "white",
           "landcolor": "#E5ECF6",
           "showlakes": true,
           "showland": true,
           "subunitcolor": "white"
          },
          "hoverlabel": {
           "align": "left"
          },
          "hovermode": "closest",
          "mapbox": {
           "style": "light"
          },
          "paper_bgcolor": "white",
          "plot_bgcolor": "#E5ECF6",
          "polar": {
           "angularaxis": {
            "gridcolor": "white",
            "linecolor": "white",
            "ticks": ""
           },
           "bgcolor": "#E5ECF6",
           "radialaxis": {
            "gridcolor": "white",
            "linecolor": "white",
            "ticks": ""
           }
          },
          "scene": {
           "xaxis": {
            "backgroundcolor": "#E5ECF6",
            "gridcolor": "white",
            "gridwidth": 2,
            "linecolor": "white",
            "showbackground": true,
            "ticks": "",
            "zerolinecolor": "white"
           },
           "yaxis": {
            "backgroundcolor": "#E5ECF6",
            "gridcolor": "white",
            "gridwidth": 2,
            "linecolor": "white",
            "showbackground": true,
            "ticks": "",
            "zerolinecolor": "white"
           },
           "zaxis": {
            "backgroundcolor": "#E5ECF6",
            "gridcolor": "white",
            "gridwidth": 2,
            "linecolor": "white",
            "showbackground": true,
            "ticks": "",
            "zerolinecolor": "white"
           }
          },
          "shapedefaults": {
           "line": {
            "color": "#2a3f5f"
           }
          },
          "ternary": {
           "aaxis": {
            "gridcolor": "white",
            "linecolor": "white",
            "ticks": ""
           },
           "baxis": {
            "gridcolor": "white",
            "linecolor": "white",
            "ticks": ""
           },
           "bgcolor": "#E5ECF6",
           "caxis": {
            "gridcolor": "white",
            "linecolor": "white",
            "ticks": ""
           }
          },
          "title": {
           "x": 0.05
          },
          "xaxis": {
           "automargin": true,
           "gridcolor": "white",
           "linecolor": "white",
           "ticks": "",
           "title": {
            "standoff": 15
           },
           "zerolinecolor": "white",
           "zerolinewidth": 2
          },
          "yaxis": {
           "automargin": true,
           "gridcolor": "white",
           "linecolor": "white",
           "ticks": "",
           "title": {
            "standoff": 15
           },
           "zerolinecolor": "white",
           "zerolinewidth": 2
          }
         }
        },
        "title": {
         "text": "Confusion Matrix"
        },
        "xaxis": {
         "title": {
          "text": "Predicted Event"
         }
        },
        "yaxis": {
         "title": {
          "text": "True Event"
         }
        }
       }
      }
     },
     "metadata": {},
     "output_type": "display_data"
    }
   ],
   "source": [
    "from sklearn.ensemble import RandomForestClassifier\n",
    "# Create and fit a Random Forest classifier\n",
    "rf = RandomForestClassifier()\n",
    "rf.fit(X_train, y_train)\n",
    "# make predictions on the testing set\n",
    "y_pred = rf.predict(X_test)\n",
    "\n",
    "accuracy = accuracy_score(y_test, y_pred)\n",
    "print('Accuracy:', accuracy)\n",
    "\n",
    "# create a confusion matrix\n",
    "cm = confusion_matrix(y_test, y_pred)\n",
    "gen_cm_plotly(cm)"
   ]
  },
  {
   "cell_type": "code",
   "execution_count": 18,
   "metadata": {},
   "outputs": [
    {
     "data": {
      "text/plain": [
       "(Index(['Flight1', 'Flight2', 'Flight3', 'Flight4', 'Flight5', 'Flight6',\n",
       "        'Gender'],\n",
       "       dtype='object'),\n",
       " array([0, 1], dtype=int64))"
      ]
     },
     "execution_count": 18,
     "metadata": {},
     "output_type": "execute_result"
    }
   ],
   "source": [
    "X_train.columns, X_train['Gender'].unique()"
   ]
  },
  {
   "cell_type": "code",
   "execution_count": 19,
   "metadata": {},
   "outputs": [
    {
     "data": {
      "text/plain": [
       "(array(['Weight'], dtype=object), array([[0.06, 0.27, 0.04, 0.  , 0.63]]))"
      ]
     },
     "execution_count": 19,
     "metadata": {},
     "output_type": "execute_result"
    }
   ],
   "source": [
    "#let`s try a new data to predict\n",
    "new_data = pd.DataFrame({\n",
    "    'Flight1': 61.18,\n",
    "    'Flight2': 65,\n",
    "    'Flight3': 0,\n",
    "    'Flight4': 51.74,\n",
    "    'Flight5': 56.74,\n",
    "    'Flight6': 63.32,\n",
    "    'Gender': 1\n",
    "}, index=[0])\n",
    "\n",
    "# use the trained model to predict the output for the new data\n",
    "new_pred = rf.predict(new_data)\n",
    "proba = rf.predict_proba(new_data)\n",
    "\n",
    "new_pred, proba"
   ]
  },
  {
   "cell_type": "code",
   "execution_count": 20,
   "metadata": {},
   "outputs": [
    {
     "data": {
      "text/plain": [
       "(array(['Discus'], dtype=object), array([[0.85, 0.05, 0.08, 0.  , 0.02]]))"
      ]
     },
     "execution_count": 20,
     "metadata": {},
     "output_type": "execute_result"
    }
   ],
   "source": [
    "#let`s try a new data to predict\n",
    "new_data = pd.DataFrame({\n",
    "    'Flight1': 61.7,\n",
    "    'Flight2': 58,\n",
    "    'Flight3': 57.2,\n",
    "    'Flight4': 0,\n",
    "    'Flight5': 47,\n",
    "    'Flight6': 58.5,\n",
    "    'Gender': 0\n",
    "}, index=[0])\n",
    "\n",
    "# use the trained model to predict the output for the new data\n",
    "new_pred = rf.predict(new_data)\n",
    "proba = rf.predict_proba(new_data)\n",
    "\n",
    "new_pred, proba"
   ]
  },
  {
   "cell_type": "code",
   "execution_count": 21,
   "metadata": {},
   "outputs": [
    {
     "data": {
      "text/plain": [
       "(array(['Javelin'], dtype=object), array([[0.03, 0.03, 0.85, 0.  , 0.09]]))"
      ]
     },
     "execution_count": 21,
     "metadata": {},
     "output_type": "execute_result"
    }
   ],
   "source": [
    "#let`s try a new data to predict\n",
    "new_data = pd.DataFrame({\n",
    "    'Flight1': 60.7,\n",
    "    'Flight2': 62,\n",
    "    'Flight3': 57.2,\n",
    "    'Flight4': 61,\n",
    "    'Flight5': 60,\n",
    "    'Flight6': 61.5,\n",
    "    'Gender': 0\n",
    "}, index=[0])\n",
    "\n",
    "# use the trained model to predict the output for the new data\n",
    "new_pred = rf.predict(new_data)\n",
    "proba = rf.predict_proba(new_data)\n",
    "\n",
    "new_pred, proba"
   ]
  }
 ],
 "metadata": {
  "kernelspec": {
   "display_name": "base",
   "language": "python",
   "name": "python3"
  },
  "language_info": {
   "codemirror_mode": {
    "name": "ipython",
    "version": 3
   },
   "file_extension": ".py",
   "mimetype": "text/x-python",
   "name": "python",
   "nbconvert_exporter": "python",
   "pygments_lexer": "ipython3",
   "version": "3.9.16"
  },
  "orig_nbformat": 4
 },
 "nbformat": 4,
 "nbformat_minor": 2
}
