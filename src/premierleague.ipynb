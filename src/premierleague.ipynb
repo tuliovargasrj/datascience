{
 "cells": [
  {
   "cell_type": "code",
   "execution_count": 287,
   "metadata": {},
   "outputs": [
    {
     "data": {
      "text/html": [
       "<div>\n",
       "<style scoped>\n",
       "    .dataframe tbody tr th:only-of-type {\n",
       "        vertical-align: middle;\n",
       "    }\n",
       "\n",
       "    .dataframe tbody tr th {\n",
       "        vertical-align: top;\n",
       "    }\n",
       "\n",
       "    .dataframe thead th {\n",
       "        text-align: right;\n",
       "    }\n",
       "</style>\n",
       "<table border=\"1\" class=\"dataframe\">\n",
       "  <thead>\n",
       "    <tr style=\"text-align: right;\">\n",
       "      <th></th>\n",
       "      <th>home_team</th>\n",
       "      <th>away_team</th>\n",
       "      <th>home_goals</th>\n",
       "      <th>away_goals</th>\n",
       "      <th>result</th>\n",
       "      <th>season</th>\n",
       "    </tr>\n",
       "  </thead>\n",
       "  <tbody>\n",
       "    <tr>\n",
       "      <th>0</th>\n",
       "      <td>Sheffield United</td>\n",
       "      <td>Liverpool</td>\n",
       "      <td>1.0</td>\n",
       "      <td>1.0</td>\n",
       "      <td>D</td>\n",
       "      <td>2006-2007</td>\n",
       "    </tr>\n",
       "    <tr>\n",
       "      <th>1</th>\n",
       "      <td>Arsenal</td>\n",
       "      <td>Aston Villa</td>\n",
       "      <td>1.0</td>\n",
       "      <td>1.0</td>\n",
       "      <td>D</td>\n",
       "      <td>2006-2007</td>\n",
       "    </tr>\n",
       "    <tr>\n",
       "      <th>2</th>\n",
       "      <td>Everton</td>\n",
       "      <td>Watford</td>\n",
       "      <td>2.0</td>\n",
       "      <td>1.0</td>\n",
       "      <td>H</td>\n",
       "      <td>2006-2007</td>\n",
       "    </tr>\n",
       "    <tr>\n",
       "      <th>3</th>\n",
       "      <td>Newcastle United</td>\n",
       "      <td>Wigan Athletic</td>\n",
       "      <td>2.0</td>\n",
       "      <td>1.0</td>\n",
       "      <td>H</td>\n",
       "      <td>2006-2007</td>\n",
       "    </tr>\n",
       "    <tr>\n",
       "      <th>4</th>\n",
       "      <td>Portsmouth</td>\n",
       "      <td>Blackburn Rovers</td>\n",
       "      <td>3.0</td>\n",
       "      <td>0.0</td>\n",
       "      <td>H</td>\n",
       "      <td>2006-2007</td>\n",
       "    </tr>\n",
       "  </tbody>\n",
       "</table>\n",
       "</div>"
      ],
      "text/plain": [
       "          home_team         away_team  home_goals  away_goals result  \\\n",
       "0  Sheffield United         Liverpool         1.0         1.0      D   \n",
       "1           Arsenal       Aston Villa         1.0         1.0      D   \n",
       "2           Everton           Watford         2.0         1.0      H   \n",
       "3  Newcastle United    Wigan Athletic         2.0         1.0      H   \n",
       "4        Portsmouth  Blackburn Rovers         3.0         0.0      H   \n",
       "\n",
       "      season  \n",
       "0  2006-2007  \n",
       "1  2006-2007  \n",
       "2  2006-2007  \n",
       "3  2006-2007  \n",
       "4  2006-2007  "
      ]
     },
     "execution_count": 287,
     "metadata": {},
     "output_type": "execute_result"
    }
   ],
   "source": [
    "import pandas as pd\n",
    "import numpy as np\n",
    "import warnings\n",
    "warnings.filterwarnings('ignore')\n",
    "''\n",
    "# Load the dataset\n",
    "df = pd.read_csv('../datasets/premierleague.csv')\n",
    "df.head()"
   ]
  },
  {
   "cell_type": "code",
   "execution_count": 288,
   "metadata": {},
   "outputs": [
    {
     "data": {
      "text/plain": [
       "(2108, 1288)"
      ]
     },
     "execution_count": 288,
     "metadata": {},
     "output_type": "execute_result"
    }
   ],
   "source": [
    "# Calculate the total number of games played and the number of games won by the home team\n",
    "total_games = len(df)\n",
    "home_wins = len(df[df['result'] == 'H'])\n",
    "away_wins = len(df[df['result'] == 'A'])\n",
    "home_wins, away_wins"
   ]
  },
  {
   "cell_type": "code",
   "execution_count": 289,
   "metadata": {},
   "outputs": [
    {
     "name": "stdout",
     "output_type": "stream",
     "text": [
      "Total games played: 4560\n",
      "Home wins: 2108; Away wins: 1288\n",
      "Home win percentage: 46.23%\n",
      "Away win percentage: 28.25%\n",
      "Drew percentage: 25.53%\n"
     ]
    }
   ],
   "source": [
    "# Calculate the percentage of games won by the home team\n",
    "home_win_percentage = len(df[df['result'] == 'H']) / total_games * 100\n",
    "away_win_percentage = len(df[df['result'] == 'A']) / total_games * 100\n",
    "drew_win_percentage = len(df[df['result'] == 'D']) / total_games * 100\n",
    "\n",
    "# Print the results\n",
    "print(f'Total games played: {total_games}')\n",
    "print(f'Home wins: {home_wins}; Away wins: {away_wins}')\n",
    "print(f'Home win percentage: {home_win_percentage:.2f}%')\n",
    "print(f'Away win percentage: {away_win_percentage:.2f}%')\n",
    "print(f'Drew percentage: {drew_win_percentage:.2f}%')\n"
   ]
  },
  {
   "cell_type": "code",
   "execution_count": 290,
   "metadata": {},
   "outputs": [
    {
     "name": "stdout",
     "output_type": "stream",
     "text": [
      "3.242833517253633e-07\n",
      "The difference in home win percentage is statistically significant\n"
     ]
    }
   ],
   "source": [
    "from statsmodels.stats.proportion import proportions_ztest\n",
    "\n",
    "# Define the null hypothesis (H0)\n",
    "null_hypothesis = 0.5\n",
    "\n",
    "# Perform the one-sample proportion test\n",
    "count = len(df[df['result'] == 'H'])\n",
    "nobs = len(df['result'])\n",
    "stat, pval = proportions_ztest(count, nobs, null_hypothesis)\n",
    "\n",
    "# Print the results\n",
    "print(pval)\n",
    "if pval < 0.05:\n",
    "    print(\"The difference in home win percentage is statistically significant\")\n",
    "else:\n",
    "    print(\"The difference in home win percentage is not statistically significant\")"
   ]
  },
  {
   "cell_type": "code",
   "execution_count": 291,
   "metadata": {},
   "outputs": [
    {
     "data": {
      "text/html": [
       "<div>\n",
       "<style scoped>\n",
       "    .dataframe tbody tr th:only-of-type {\n",
       "        vertical-align: middle;\n",
       "    }\n",
       "\n",
       "    .dataframe tbody tr th {\n",
       "        vertical-align: top;\n",
       "    }\n",
       "\n",
       "    .dataframe thead th {\n",
       "        text-align: right;\n",
       "    }\n",
       "</style>\n",
       "<table border=\"1\" class=\"dataframe\">\n",
       "  <thead>\n",
       "    <tr style=\"text-align: right;\">\n",
       "      <th></th>\n",
       "      <th></th>\n",
       "      <th></th>\n",
       "      <th>home_goals</th>\n",
       "    </tr>\n",
       "    <tr>\n",
       "      <th>season</th>\n",
       "      <th>season</th>\n",
       "      <th>home_team</th>\n",
       "      <th></th>\n",
       "    </tr>\n",
       "  </thead>\n",
       "  <tbody>\n",
       "    <tr>\n",
       "      <th>2006-2007</th>\n",
       "      <th>2006-2007</th>\n",
       "      <th>Manchester United</th>\n",
       "      <td>46.0</td>\n",
       "    </tr>\n",
       "    <tr>\n",
       "      <th>2007-2008</th>\n",
       "      <th>2007-2008</th>\n",
       "      <th>Manchester United</th>\n",
       "      <td>47.0</td>\n",
       "    </tr>\n",
       "    <tr>\n",
       "      <th>2008-2009</th>\n",
       "      <th>2008-2009</th>\n",
       "      <th>Manchester United</th>\n",
       "      <td>43.0</td>\n",
       "    </tr>\n",
       "    <tr>\n",
       "      <th>2009-2010</th>\n",
       "      <th>2009-2010</th>\n",
       "      <th>Chelsea</th>\n",
       "      <td>68.0</td>\n",
       "    </tr>\n",
       "    <tr>\n",
       "      <th>2010-2011</th>\n",
       "      <th>2010-2011</th>\n",
       "      <th>Manchester United</th>\n",
       "      <td>49.0</td>\n",
       "    </tr>\n",
       "    <tr>\n",
       "      <th>2011-2012</th>\n",
       "      <th>2011-2012</th>\n",
       "      <th>Manchester City</th>\n",
       "      <td>55.0</td>\n",
       "    </tr>\n",
       "    <tr>\n",
       "      <th>2012-2013</th>\n",
       "      <th>2012-2013</th>\n",
       "      <th>Arsenal</th>\n",
       "      <td>47.0</td>\n",
       "    </tr>\n",
       "    <tr>\n",
       "      <th>2013-2014</th>\n",
       "      <th>2013-2014</th>\n",
       "      <th>Manchester City</th>\n",
       "      <td>63.0</td>\n",
       "    </tr>\n",
       "    <tr>\n",
       "      <th>2014-2015</th>\n",
       "      <th>2014-2015</th>\n",
       "      <th>Manchester City</th>\n",
       "      <td>44.0</td>\n",
       "    </tr>\n",
       "    <tr>\n",
       "      <th>2015-2016</th>\n",
       "      <th>2015-2016</th>\n",
       "      <th>Manchester City</th>\n",
       "      <td>47.0</td>\n",
       "    </tr>\n",
       "    <tr>\n",
       "      <th>2016-2017</th>\n",
       "      <th>2016-2017</th>\n",
       "      <th>Chelsea</th>\n",
       "      <td>55.0</td>\n",
       "    </tr>\n",
       "    <tr>\n",
       "      <th>2017-2018</th>\n",
       "      <th>2017-2018</th>\n",
       "      <th>Manchester City</th>\n",
       "      <td>61.0</td>\n",
       "    </tr>\n",
       "  </tbody>\n",
       "</table>\n",
       "</div>"
      ],
      "text/plain": [
       "                                       home_goals\n",
       "season    season    home_team                    \n",
       "2006-2007 2006-2007 Manchester United        46.0\n",
       "2007-2008 2007-2008 Manchester United        47.0\n",
       "2008-2009 2008-2009 Manchester United        43.0\n",
       "2009-2010 2009-2010 Chelsea                  68.0\n",
       "2010-2011 2010-2011 Manchester United        49.0\n",
       "2011-2012 2011-2012 Manchester City          55.0\n",
       "2012-2013 2012-2013 Arsenal                  47.0\n",
       "2013-2014 2013-2014 Manchester City          63.0\n",
       "2014-2015 2014-2015 Manchester City          44.0\n",
       "2015-2016 2015-2016 Manchester City          47.0\n",
       "2016-2017 2016-2017 Chelsea                  55.0\n",
       "2017-2018 2017-2018 Manchester City          61.0"
      ]
     },
     "execution_count": 291,
     "metadata": {},
     "output_type": "execute_result"
    }
   ],
   "source": [
    "# Group the data by season and home team, and sum the goals scored\n",
    "grouped = df.groupby(['season', 'home_team'])[['home_goals']].sum()\n",
    "\n",
    "# Find the team with the highest number of home goals in each season\n",
    "best_teams = grouped.groupby('season').apply(lambda x: x[x == x.max()].dropna())\n",
    "best_teams"
   ]
  },
  {
   "cell_type": "code",
   "execution_count": 292,
   "metadata": {},
   "outputs": [
    {
     "data": {
      "text/html": [
       "<div>\n",
       "<style scoped>\n",
       "    .dataframe tbody tr th:only-of-type {\n",
       "        vertical-align: middle;\n",
       "    }\n",
       "\n",
       "    .dataframe tbody tr th {\n",
       "        vertical-align: top;\n",
       "    }\n",
       "\n",
       "    .dataframe thead th {\n",
       "        text-align: right;\n",
       "    }\n",
       "</style>\n",
       "<table border=\"1\" class=\"dataframe\">\n",
       "  <thead>\n",
       "    <tr style=\"text-align: right;\">\n",
       "      <th></th>\n",
       "      <th>home_team</th>\n",
       "      <th>away_team</th>\n",
       "      <th>home_goals</th>\n",
       "      <th>away_goals</th>\n",
       "      <th>result</th>\n",
       "      <th>season</th>\n",
       "    </tr>\n",
       "  </thead>\n",
       "  <tbody>\n",
       "    <tr>\n",
       "      <th>0</th>\n",
       "      <td>Sheffield United</td>\n",
       "      <td>Liverpool</td>\n",
       "      <td>1.0</td>\n",
       "      <td>1.0</td>\n",
       "      <td>D</td>\n",
       "      <td>2006-2007</td>\n",
       "    </tr>\n",
       "    <tr>\n",
       "      <th>1</th>\n",
       "      <td>Arsenal</td>\n",
       "      <td>Aston Villa</td>\n",
       "      <td>1.0</td>\n",
       "      <td>1.0</td>\n",
       "      <td>D</td>\n",
       "      <td>2006-2007</td>\n",
       "    </tr>\n",
       "    <tr>\n",
       "      <th>2</th>\n",
       "      <td>Everton</td>\n",
       "      <td>Watford</td>\n",
       "      <td>2.0</td>\n",
       "      <td>1.0</td>\n",
       "      <td>H</td>\n",
       "      <td>2006-2007</td>\n",
       "    </tr>\n",
       "    <tr>\n",
       "      <th>3</th>\n",
       "      <td>Newcastle United</td>\n",
       "      <td>Wigan Athletic</td>\n",
       "      <td>2.0</td>\n",
       "      <td>1.0</td>\n",
       "      <td>H</td>\n",
       "      <td>2006-2007</td>\n",
       "    </tr>\n",
       "    <tr>\n",
       "      <th>4</th>\n",
       "      <td>Portsmouth</td>\n",
       "      <td>Blackburn Rovers</td>\n",
       "      <td>3.0</td>\n",
       "      <td>0.0</td>\n",
       "      <td>H</td>\n",
       "      <td>2006-2007</td>\n",
       "    </tr>\n",
       "    <tr>\n",
       "      <th>...</th>\n",
       "      <td>...</td>\n",
       "      <td>...</td>\n",
       "      <td>...</td>\n",
       "      <td>...</td>\n",
       "      <td>...</td>\n",
       "      <td>...</td>\n",
       "    </tr>\n",
       "    <tr>\n",
       "      <th>4276</th>\n",
       "      <td>AFC Bournemouth</td>\n",
       "      <td>Chelsea</td>\n",
       "      <td>0.0</td>\n",
       "      <td>1.0</td>\n",
       "      <td>A</td>\n",
       "      <td>2017-2018</td>\n",
       "    </tr>\n",
       "    <tr>\n",
       "      <th>4277</th>\n",
       "      <td>Brighton and Hove Albion</td>\n",
       "      <td>Southampton</td>\n",
       "      <td>1.0</td>\n",
       "      <td>1.0</td>\n",
       "      <td>D</td>\n",
       "      <td>2017-2018</td>\n",
       "    </tr>\n",
       "    <tr>\n",
       "      <th>4278</th>\n",
       "      <td>Leicester City</td>\n",
       "      <td>Everton</td>\n",
       "      <td>2.0</td>\n",
       "      <td>0.0</td>\n",
       "      <td>H</td>\n",
       "      <td>2017-2018</td>\n",
       "    </tr>\n",
       "    <tr>\n",
       "      <th>4279</th>\n",
       "      <td>Burnley</td>\n",
       "      <td>Newcastle United</td>\n",
       "      <td>1.0</td>\n",
       "      <td>0.0</td>\n",
       "      <td>H</td>\n",
       "      <td>2017-2018</td>\n",
       "    </tr>\n",
       "    <tr>\n",
       "      <th>4285</th>\n",
       "      <td>West Ham United</td>\n",
       "      <td>Liverpool</td>\n",
       "      <td>1.0</td>\n",
       "      <td>4.0</td>\n",
       "      <td>A</td>\n",
       "      <td>2017-2018</td>\n",
       "    </tr>\n",
       "  </tbody>\n",
       "</table>\n",
       "<p>1200 rows × 6 columns</p>\n",
       "</div>"
      ],
      "text/plain": [
       "                     home_team         away_team  home_goals  away_goals  \\\n",
       "0             Sheffield United         Liverpool         1.0         1.0   \n",
       "1                      Arsenal       Aston Villa         1.0         1.0   \n",
       "2                      Everton           Watford         2.0         1.0   \n",
       "3             Newcastle United    Wigan Athletic         2.0         1.0   \n",
       "4                   Portsmouth  Blackburn Rovers         3.0         0.0   \n",
       "...                        ...               ...         ...         ...   \n",
       "4276           AFC Bournemouth           Chelsea         0.0         1.0   \n",
       "4277  Brighton and Hove Albion       Southampton         1.0         1.0   \n",
       "4278            Leicester City           Everton         2.0         0.0   \n",
       "4279                   Burnley  Newcastle United         1.0         0.0   \n",
       "4285           West Ham United         Liverpool         1.0         4.0   \n",
       "\n",
       "     result     season  \n",
       "0         D  2006-2007  \n",
       "1         D  2006-2007  \n",
       "2         H  2006-2007  \n",
       "3         H  2006-2007  \n",
       "4         H  2006-2007  \n",
       "...     ...        ...  \n",
       "4276      A  2017-2018  \n",
       "4277      D  2017-2018  \n",
       "4278      H  2017-2018  \n",
       "4279      H  2017-2018  \n",
       "4285      A  2017-2018  \n",
       "\n",
       "[1200 rows x 6 columns]"
      ]
     },
     "execution_count": 292,
     "metadata": {},
     "output_type": "execute_result"
    }
   ],
   "source": [
    "# Group the data by season and home team\n",
    "grouped = df.groupby(['season', 'home_team'])\n",
    "grouped.head()"
   ]
  },
  {
   "cell_type": "code",
   "execution_count": 293,
   "metadata": {},
   "outputs": [
    {
     "data": {
      "text/plain": [
       "season     home_team           \n",
       "2006-2007  Arsenal                 63.157895\n",
       "           Aston Villa             36.842105\n",
       "           Blackburn Rovers        47.368421\n",
       "           Bolton Wanderers        47.368421\n",
       "           Charlton Athletic       36.842105\n",
       "                                     ...    \n",
       "2017-2018  Swansea City            31.578947\n",
       "           Tottenham Hotspur       68.421053\n",
       "           Watford                 36.842105\n",
       "           West Bromwich Albion    15.789474\n",
       "           West Ham United         36.842105\n",
       "Length: 240, dtype: float64"
      ]
     },
     "execution_count": 293,
     "metadata": {},
     "output_type": "execute_result"
    }
   ],
   "source": [
    "# Calculate the number of home games played, home wins, and home win percentage for each team in each season\n",
    "home_games = grouped['home_goals'].count()\n",
    "home_wins = grouped.apply(lambda x: (x['result'] == 'H').sum())\n",
    "home_win_pct = home_wins / home_games * 100\n",
    "home_win_pct"
   ]
  },
  {
   "cell_type": "code",
   "execution_count": 294,
   "metadata": {},
   "outputs": [
    {
     "data": {
      "text/html": [
       "<div>\n",
       "<style scoped>\n",
       "    .dataframe tbody tr th:only-of-type {\n",
       "        vertical-align: middle;\n",
       "    }\n",
       "\n",
       "    .dataframe tbody tr th {\n",
       "        vertical-align: top;\n",
       "    }\n",
       "\n",
       "    .dataframe thead th {\n",
       "        text-align: right;\n",
       "    }\n",
       "</style>\n",
       "<table border=\"1\" class=\"dataframe\">\n",
       "  <thead>\n",
       "    <tr style=\"text-align: right;\">\n",
       "      <th></th>\n",
       "      <th>season</th>\n",
       "      <th>home_team</th>\n",
       "      <th>0</th>\n",
       "    </tr>\n",
       "  </thead>\n",
       "  <tbody>\n",
       "    <tr>\n",
       "      <th>0</th>\n",
       "      <td>2006-2007</td>\n",
       "      <td>Arsenal</td>\n",
       "      <td>63.157895</td>\n",
       "    </tr>\n",
       "    <tr>\n",
       "      <th>1</th>\n",
       "      <td>2006-2007</td>\n",
       "      <td>Aston Villa</td>\n",
       "      <td>36.842105</td>\n",
       "    </tr>\n",
       "    <tr>\n",
       "      <th>2</th>\n",
       "      <td>2006-2007</td>\n",
       "      <td>Blackburn Rovers</td>\n",
       "      <td>47.368421</td>\n",
       "    </tr>\n",
       "    <tr>\n",
       "      <th>3</th>\n",
       "      <td>2006-2007</td>\n",
       "      <td>Bolton Wanderers</td>\n",
       "      <td>47.368421</td>\n",
       "    </tr>\n",
       "    <tr>\n",
       "      <th>4</th>\n",
       "      <td>2006-2007</td>\n",
       "      <td>Charlton Athletic</td>\n",
       "      <td>36.842105</td>\n",
       "    </tr>\n",
       "    <tr>\n",
       "      <th>...</th>\n",
       "      <td>...</td>\n",
       "      <td>...</td>\n",
       "      <td>...</td>\n",
       "    </tr>\n",
       "    <tr>\n",
       "      <th>235</th>\n",
       "      <td>2017-2018</td>\n",
       "      <td>Swansea City</td>\n",
       "      <td>31.578947</td>\n",
       "    </tr>\n",
       "    <tr>\n",
       "      <th>236</th>\n",
       "      <td>2017-2018</td>\n",
       "      <td>Tottenham Hotspur</td>\n",
       "      <td>68.421053</td>\n",
       "    </tr>\n",
       "    <tr>\n",
       "      <th>237</th>\n",
       "      <td>2017-2018</td>\n",
       "      <td>Watford</td>\n",
       "      <td>36.842105</td>\n",
       "    </tr>\n",
       "    <tr>\n",
       "      <th>238</th>\n",
       "      <td>2017-2018</td>\n",
       "      <td>West Bromwich Albion</td>\n",
       "      <td>15.789474</td>\n",
       "    </tr>\n",
       "    <tr>\n",
       "      <th>239</th>\n",
       "      <td>2017-2018</td>\n",
       "      <td>West Ham United</td>\n",
       "      <td>36.842105</td>\n",
       "    </tr>\n",
       "  </tbody>\n",
       "</table>\n",
       "<p>240 rows × 3 columns</p>\n",
       "</div>"
      ],
      "text/plain": [
       "        season             home_team          0\n",
       "0    2006-2007               Arsenal  63.157895\n",
       "1    2006-2007           Aston Villa  36.842105\n",
       "2    2006-2007      Blackburn Rovers  47.368421\n",
       "3    2006-2007      Bolton Wanderers  47.368421\n",
       "4    2006-2007     Charlton Athletic  36.842105\n",
       "..         ...                   ...        ...\n",
       "235  2017-2018          Swansea City  31.578947\n",
       "236  2017-2018     Tottenham Hotspur  68.421053\n",
       "237  2017-2018               Watford  36.842105\n",
       "238  2017-2018  West Bromwich Albion  15.789474\n",
       "239  2017-2018       West Ham United  36.842105\n",
       "\n",
       "[240 rows x 3 columns]"
      ]
     },
     "execution_count": 294,
     "metadata": {},
     "output_type": "execute_result"
    }
   ],
   "source": [
    "# Reset the index\n",
    "home_win_pct = home_win_pct.reset_index()\n",
    "home_win_pct = home_win_pct[['season','home_team',0]]\n",
    "home_win_pct"
   ]
  },
  {
   "cell_type": "code",
   "execution_count": 295,
   "metadata": {},
   "outputs": [
    {
     "data": {
      "text/html": [
       "<div>\n",
       "<style scoped>\n",
       "    .dataframe tbody tr th:only-of-type {\n",
       "        vertical-align: middle;\n",
       "    }\n",
       "\n",
       "    .dataframe tbody tr th {\n",
       "        vertical-align: top;\n",
       "    }\n",
       "\n",
       "    .dataframe thead th {\n",
       "        text-align: right;\n",
       "    }\n",
       "</style>\n",
       "<table border=\"1\" class=\"dataframe\">\n",
       "  <thead>\n",
       "    <tr style=\"text-align: right;\">\n",
       "      <th></th>\n",
       "      <th>season</th>\n",
       "      <th>home_team</th>\n",
       "      <th>0</th>\n",
       "    </tr>\n",
       "  </thead>\n",
       "  <tbody>\n",
       "    <tr>\n",
       "      <th>91</th>\n",
       "      <td>2010-2011</td>\n",
       "      <td>Manchester United</td>\n",
       "      <td>94.736842</td>\n",
       "    </tr>\n",
       "    <tr>\n",
       "      <th>108</th>\n",
       "      <td>2011-2012</td>\n",
       "      <td>Manchester City</td>\n",
       "      <td>94.736842</td>\n",
       "    </tr>\n",
       "    <tr>\n",
       "      <th>216</th>\n",
       "      <td>2016-2017</td>\n",
       "      <td>Tottenham Hotspur</td>\n",
       "      <td>89.473684</td>\n",
       "    </tr>\n",
       "    <tr>\n",
       "      <th>31</th>\n",
       "      <td>2007-2008</td>\n",
       "      <td>Manchester United</td>\n",
       "      <td>89.473684</td>\n",
       "    </tr>\n",
       "    <tr>\n",
       "      <th>66</th>\n",
       "      <td>2009-2010</td>\n",
       "      <td>Chelsea</td>\n",
       "      <td>89.473684</td>\n",
       "    </tr>\n",
       "  </tbody>\n",
       "</table>\n",
       "</div>"
      ],
      "text/plain": [
       "        season          home_team          0\n",
       "91   2010-2011  Manchester United  94.736842\n",
       "108  2011-2012    Manchester City  94.736842\n",
       "216  2016-2017  Tottenham Hotspur  89.473684\n",
       "31   2007-2008  Manchester United  89.473684\n",
       "66   2009-2010            Chelsea  89.473684"
      ]
     },
     "execution_count": 295,
     "metadata": {},
     "output_type": "execute_result"
    }
   ],
   "source": [
    "# Sort the results by home win percentage\n",
    "home_win_pct = home_win_pct.sort_values(by=[0], ascending=False)\n",
    "home_win_pct.head()"
   ]
  },
  {
   "cell_type": "code",
   "execution_count": 296,
   "metadata": {},
   "outputs": [],
   "source": [
    "# Perform one-hot encoding for home_team and away_team columns\n",
    "home_team_encoded = pd.get_dummies(df['home_team'], prefix='home_team')\n",
    "away_team_encoded = pd.get_dummies(df['away_team'], prefix='away_team')\n",
    "result_encoded = pd.get_dummies(df['result'], prefix='result')\n",
    "season_encoded = pd.get_dummies(df['season'], prefix='season')\n",
    "\n",
    "# Concatenate the encoded columns with the original dataframe\n",
    "df_encoded = pd.concat([df, home_team_encoded, away_team_encoded, result_encoded], axis=1)\n",
    "\n",
    "# Drop the original home_team and away_team columns\n",
    "df_encoded = df_encoded.drop(['home_team', 'away_team', 'result', 'season'], axis=1)"
   ]
  },
  {
   "cell_type": "code",
   "execution_count": 297,
   "metadata": {},
   "outputs": [],
   "source": [
    "# Split the data into features (X) and target variable (y)\n",
    "X = df_encoded.drop(['home_goals', 'away_goals'], axis=1)\n",
    "y_home = df['home_goals']\n",
    "y_away = df['away_goals']"
   ]
  },
  {
   "cell_type": "code",
   "execution_count": 298,
   "metadata": {},
   "outputs": [
    {
     "data": {
      "text/plain": [
       "((4560, 4), (4560,), (4560,))"
      ]
     },
     "execution_count": 298,
     "metadata": {},
     "output_type": "execute_result"
    }
   ],
   "source": [
    "# Prepare the home team and away team columns\n",
    "df['home_team'] = pd.Categorical(df['home_team'])\n",
    "df['away_team'] = pd.Categorical(df['away_team'])\n",
    "df['season'] = pd.Categorical(df['season'])\n",
    "df['result'] = pd.Categorical(df['result'])\n",
    "df['home_team_code'] = df['home_team'].cat.codes\n",
    "df['away_team_code'] = df['away_team'].cat.codes\n",
    "df['season_code'] = df['season'].cat.codes\n",
    "df['result_code'] = df['result'].cat.codes\n",
    "\n",
    "# Define the features and target variables\n",
    "X = df[['home_team_code', 'away_team_code', 'season_code', 'result_code']]\n",
    "y_home = df['home_goals']\n",
    "y_away = df['away_goals']\n",
    "X.shape, y_home.shape, y_away.shape"
   ]
  },
  {
   "cell_type": "code",
   "execution_count": 299,
   "metadata": {},
   "outputs": [],
   "source": [
    "# Import necessary libraries\n",
    "from sklearn.ensemble import RandomForestRegressor\n",
    "from sklearn.metrics import confusion_matrix\n",
    "import plotly.express as px\n",
    "import plotly.figure_factory as ff"
   ]
  },
  {
   "cell_type": "code",
   "execution_count": 300,
   "metadata": {},
   "outputs": [
    {
     "data": {
      "text/plain": [
       "Index(['home_team_code', 'away_team_code', 'season_code', 'result_code'], dtype='object')"
      ]
     },
     "execution_count": 300,
     "metadata": {},
     "output_type": "execute_result"
    }
   ],
   "source": [
    "from sklearn.model_selection import train_test_split\n",
    "# Split the data into training and testing sets\n",
    "X_train, X_test, y_train_home, y_test_home, y_train_away, y_test_away = train_test_split(X, y_home, y_away, test_size=0.3, random_state=0)\n",
    "X_train.columns"
   ]
  },
  {
   "cell_type": "code",
   "execution_count": 301,
   "metadata": {},
   "outputs": [],
   "source": [
    "# Train the model for home goals\n",
    "rf_home = RandomForestRegressor(n_estimators=600, max_depth=25, random_state=0)\n",
    "rf_home.fit(X_train, y_train_home)\n",
    "\n",
    "# Train the model for away goals\n",
    "rf_away = RandomForestRegressor(n_estimators=200, random_state=0)\n",
    "rf_away.fit(X_train, y_train_away)\n",
    "\n",
    "# Make predictions on the test set\n",
    "y_home_pred = rf_home.predict(X_test)\n",
    "y_away_pred = rf_away.predict(X_test)"
   ]
  },
  {
   "cell_type": "code",
   "execution_count": 302,
   "metadata": {},
   "outputs": [
    {
     "name": "stdout",
     "output_type": "stream",
     "text": [
      "Home Goals - MSE: 1.24, RMSE: 1.11, MAE: 0.86, R2: 0.29\n",
      "Away Goals - MSE: 0.93, RMSE: 0.96, MAE: 0.76, R2: 0.29\n"
     ]
    }
   ],
   "source": [
    "from sklearn.metrics import mean_squared_error, mean_absolute_error, r2_score\n",
    "\n",
    "# Compute MSE, RMSE, MAE, and R2 for home goals\n",
    "mse_home = mean_squared_error(y_test_home, y_home_pred)\n",
    "rmse_home = mean_squared_error(y_test_home, y_home_pred, squared=False)\n",
    "mae_home = mean_absolute_error(y_test_home, y_home_pred)\n",
    "r2_home = r2_score(y_test_home, y_home_pred)\n",
    "\n",
    "# Compute MSE, RMSE, MAE, and R2 for away goals\n",
    "mse_away = mean_squared_error(y_test_away, y_away_pred)\n",
    "rmse_away = mean_squared_error(y_test_away, y_away_pred, squared=False)\n",
    "mae_away = mean_absolute_error(y_test_away, y_away_pred)\n",
    "r2_away = r2_score(y_test_away, y_away_pred)\n",
    "\n",
    "print(f\"Home Goals - MSE: {mse_home:.2f}, RMSE: {rmse_home:.2f}, MAE: {mae_home:.2f}, R2: {r2_home:.2f}\")\n",
    "print(f\"Away Goals - MSE: {mse_away:.2f}, RMSE: {rmse_away:.2f}, MAE: {mae_away:.2f}, R2: {r2_away:.2f}\")"
   ]
  },
  {
   "cell_type": "code",
   "execution_count": 303,
   "metadata": {},
   "outputs": [],
   "source": [
    "import plotly.graph_objs as go\n",
    "def gen_cm_plotly(cm):\n",
    "    # Calculate the percentage of success for each cell\n",
    "    success_percentage = cm / cm.sum(axis=0) * 100\n",
    "\n",
    "    # calculate various counts and rates\n",
    "    # compute success percentages and format as strings with percentage symbol\n",
    "    total_predictions = cm.sum(axis=1)\n",
    "    success_percentage = np.zeros_like(cm, dtype=float)\n",
    "    for i in range(cm.shape[0]):\n",
    "        for j in range(cm.shape[1]):\n",
    "            if total_predictions[i] > 0:\n",
    "                success_percentage[i,j] = cm[i,j] / total_predictions[i] * 100\n",
    "    success_percentage = np.char.add(success_percentage.round(1).astype(str), '%')\n",
    "\n",
    "    # create text labels for each cell\n",
    "    text = [[f\"Count: {cm[j][i]:,}<br>Success: {success_percentage[j][i]}\" for i in range(len(cm[j]))] for j in range(len(cm))]\n",
    "\n",
    "    # create heatmap figure\n",
    "    fig = go.Figure(\n",
    "        data=go.Heatmap(\n",
    "            z=cm,\n",
    "            x=[i for i in range(cm.shape[0])],\n",
    "            colorscale='inferno', \n",
    "            text=text,\n",
    "            hovertemplate='%{text}<extra></extra>'\n",
    "        )\n",
    "    )\n",
    "\n",
    "    # add annotations as percentages to heatmap\n",
    "    for i in range(len(cm)):\n",
    "        for j in range(len(cm)):\n",
    "            fig.add_annotation(x=j, y=i, text=success_percentage[i][j], showarrow=False, font=dict(color='grey', size=12))\n",
    "\n",
    "    # set layout and show figure\n",
    "    fig.update_layout(\n",
    "        title='Confusion Matrix Goals',\n",
    "        font=dict(color='black'),\n",
    "    )\n",
    "    fig.update_layout(\n",
    "        xaxis_title='Predicted Event',\n",
    "        yaxis_title='True Event',\n",
    "        font=dict(\n",
    "            size=14,\n",
    "            color='black'\n",
    "        )\n",
    "    )\n",
    "    fig.show()"
   ]
  },
  {
   "cell_type": "code",
   "execution_count": 304,
   "metadata": {},
   "outputs": [
    {
     "data": {
      "application/vnd.plotly.v1+json": {
       "config": {
        "plotlyServerURL": "https://plot.ly"
       },
       "data": [
        {
         "colorscale": [
          [
           0,
           "#000004"
          ],
          [
           0.1111111111111111,
           "#1b0c41"
          ],
          [
           0.2222222222222222,
           "#4a0c6b"
          ],
          [
           0.3333333333333333,
           "#781c6d"
          ],
          [
           0.4444444444444444,
           "#a52c60"
          ],
          [
           0.5555555555555556,
           "#cf4446"
          ],
          [
           0.6666666666666666,
           "#ed6925"
          ],
          [
           0.7777777777777778,
           "#fb9b06"
          ],
          [
           0.8888888888888888,
           "#f7d13d"
          ],
          [
           1,
           "#fcffa4"
          ]
         ],
         "hovertemplate": "%{text}<extra></extra>",
         "text": [
          [
           "Count: 100<br>Success: 29.9%",
           "Count: 218<br>Success: 65.3%",
           "Count: 15<br>Success: 4.5%",
           "Count: 1<br>Success: 0.3%",
           "Count: 0<br>Success: 0.0%",
           "Count: 0<br>Success: 0.0%",
           "Count: 0<br>Success: 0.0%",
           "Count: 0<br>Success: 0.0%",
           "Count: 0<br>Success: 0.0%"
          ],
          [
           "Count: 62<br>Success: 15.1%",
           "Count: 200<br>Success: 48.7%",
           "Count: 97<br>Success: 23.6%",
           "Count: 43<br>Success: 10.5%",
           "Count: 8<br>Success: 1.9%",
           "Count: 1<br>Success: 0.2%",
           "Count: 0<br>Success: 0.0%",
           "Count: 0<br>Success: 0.0%",
           "Count: 0<br>Success: 0.0%"
          ],
          [
           "Count: 20<br>Success: 6.0%",
           "Count: 71<br>Success: 21.3%",
           "Count: 136<br>Success: 40.7%",
           "Count: 85<br>Success: 25.4%",
           "Count: 18<br>Success: 5.4%",
           "Count: 4<br>Success: 1.2%",
           "Count: 0<br>Success: 0.0%",
           "Count: 0<br>Success: 0.0%",
           "Count: 0<br>Success: 0.0%"
          ],
          [
           "Count: 7<br>Success: 4.0%",
           "Count: 9<br>Success: 5.2%",
           "Count: 98<br>Success: 56.3%",
           "Count: 47<br>Success: 27.0%",
           "Count: 11<br>Success: 6.3%",
           "Count: 1<br>Success: 0.6%",
           "Count: 1<br>Success: 0.6%",
           "Count: 0<br>Success: 0.0%",
           "Count: 0<br>Success: 0.0%"
          ],
          [
           "Count: 0<br>Success: 0.0%",
           "Count: 7<br>Success: 8.4%",
           "Count: 39<br>Success: 47.0%",
           "Count: 30<br>Success: 36.1%",
           "Count: 5<br>Success: 6.0%",
           "Count: 2<br>Success: 2.4%",
           "Count: 0<br>Success: 0.0%",
           "Count: 0<br>Success: 0.0%",
           "Count: 0<br>Success: 0.0%"
          ],
          [
           "Count: 0<br>Success: 0.0%",
           "Count: 2<br>Success: 10.0%",
           "Count: 8<br>Success: 40.0%",
           "Count: 9<br>Success: 45.0%",
           "Count: 1<br>Success: 5.0%",
           "Count: 0<br>Success: 0.0%",
           "Count: 0<br>Success: 0.0%",
           "Count: 0<br>Success: 0.0%",
           "Count: 0<br>Success: 0.0%"
          ],
          [
           "Count: 0<br>Success: 0.0%",
           "Count: 1<br>Success: 14.3%",
           "Count: 1<br>Success: 14.3%",
           "Count: 4<br>Success: 57.1%",
           "Count: 0<br>Success: 0.0%",
           "Count: 0<br>Success: 0.0%",
           "Count: 1<br>Success: 14.3%",
           "Count: 0<br>Success: 0.0%",
           "Count: 0<br>Success: 0.0%"
          ],
          [
           "Count: 0<br>Success: 0.0%",
           "Count: 0<br>Success: 0.0%",
           "Count: 1<br>Success: 25.0%",
           "Count: 3<br>Success: 75.0%",
           "Count: 0<br>Success: 0.0%",
           "Count: 0<br>Success: 0.0%",
           "Count: 0<br>Success: 0.0%",
           "Count: 0<br>Success: 0.0%",
           "Count: 0<br>Success: 0.0%"
          ],
          [
           "Count: 0<br>Success: 0.0%",
           "Count: 0<br>Success: 0.0%",
           "Count: 0<br>Success: 0.0%",
           "Count: 1<br>Success: 100.0%",
           "Count: 0<br>Success: 0.0%",
           "Count: 0<br>Success: 0.0%",
           "Count: 0<br>Success: 0.0%",
           "Count: 0<br>Success: 0.0%",
           "Count: 0<br>Success: 0.0%"
          ]
         ],
         "type": "heatmap",
         "x": [
          0,
          1,
          2,
          3,
          4,
          5,
          6,
          7,
          8
         ],
         "z": [
          [
           100,
           218,
           15,
           1,
           0,
           0,
           0,
           0,
           0
          ],
          [
           62,
           200,
           97,
           43,
           8,
           1,
           0,
           0,
           0
          ],
          [
           20,
           71,
           136,
           85,
           18,
           4,
           0,
           0,
           0
          ],
          [
           7,
           9,
           98,
           47,
           11,
           1,
           1,
           0,
           0
          ],
          [
           0,
           7,
           39,
           30,
           5,
           2,
           0,
           0,
           0
          ],
          [
           0,
           2,
           8,
           9,
           1,
           0,
           0,
           0,
           0
          ],
          [
           0,
           1,
           1,
           4,
           0,
           0,
           1,
           0,
           0
          ],
          [
           0,
           0,
           1,
           3,
           0,
           0,
           0,
           0,
           0
          ],
          [
           0,
           0,
           0,
           1,
           0,
           0,
           0,
           0,
           0
          ]
         ]
        }
       ],
       "layout": {
        "annotations": [
         {
          "font": {
           "color": "grey",
           "size": 12
          },
          "showarrow": false,
          "text": "29.9%",
          "x": 0,
          "y": 0
         },
         {
          "font": {
           "color": "grey",
           "size": 12
          },
          "showarrow": false,
          "text": "65.3%",
          "x": 1,
          "y": 0
         },
         {
          "font": {
           "color": "grey",
           "size": 12
          },
          "showarrow": false,
          "text": "4.5%",
          "x": 2,
          "y": 0
         },
         {
          "font": {
           "color": "grey",
           "size": 12
          },
          "showarrow": false,
          "text": "0.3%",
          "x": 3,
          "y": 0
         },
         {
          "font": {
           "color": "grey",
           "size": 12
          },
          "showarrow": false,
          "text": "0.0%",
          "x": 4,
          "y": 0
         },
         {
          "font": {
           "color": "grey",
           "size": 12
          },
          "showarrow": false,
          "text": "0.0%",
          "x": 5,
          "y": 0
         },
         {
          "font": {
           "color": "grey",
           "size": 12
          },
          "showarrow": false,
          "text": "0.0%",
          "x": 6,
          "y": 0
         },
         {
          "font": {
           "color": "grey",
           "size": 12
          },
          "showarrow": false,
          "text": "0.0%",
          "x": 7,
          "y": 0
         },
         {
          "font": {
           "color": "grey",
           "size": 12
          },
          "showarrow": false,
          "text": "0.0%",
          "x": 8,
          "y": 0
         },
         {
          "font": {
           "color": "grey",
           "size": 12
          },
          "showarrow": false,
          "text": "15.1%",
          "x": 0,
          "y": 1
         },
         {
          "font": {
           "color": "grey",
           "size": 12
          },
          "showarrow": false,
          "text": "48.7%",
          "x": 1,
          "y": 1
         },
         {
          "font": {
           "color": "grey",
           "size": 12
          },
          "showarrow": false,
          "text": "23.6%",
          "x": 2,
          "y": 1
         },
         {
          "font": {
           "color": "grey",
           "size": 12
          },
          "showarrow": false,
          "text": "10.5%",
          "x": 3,
          "y": 1
         },
         {
          "font": {
           "color": "grey",
           "size": 12
          },
          "showarrow": false,
          "text": "1.9%",
          "x": 4,
          "y": 1
         },
         {
          "font": {
           "color": "grey",
           "size": 12
          },
          "showarrow": false,
          "text": "0.2%",
          "x": 5,
          "y": 1
         },
         {
          "font": {
           "color": "grey",
           "size": 12
          },
          "showarrow": false,
          "text": "0.0%",
          "x": 6,
          "y": 1
         },
         {
          "font": {
           "color": "grey",
           "size": 12
          },
          "showarrow": false,
          "text": "0.0%",
          "x": 7,
          "y": 1
         },
         {
          "font": {
           "color": "grey",
           "size": 12
          },
          "showarrow": false,
          "text": "0.0%",
          "x": 8,
          "y": 1
         },
         {
          "font": {
           "color": "grey",
           "size": 12
          },
          "showarrow": false,
          "text": "6.0%",
          "x": 0,
          "y": 2
         },
         {
          "font": {
           "color": "grey",
           "size": 12
          },
          "showarrow": false,
          "text": "21.3%",
          "x": 1,
          "y": 2
         },
         {
          "font": {
           "color": "grey",
           "size": 12
          },
          "showarrow": false,
          "text": "40.7%",
          "x": 2,
          "y": 2
         },
         {
          "font": {
           "color": "grey",
           "size": 12
          },
          "showarrow": false,
          "text": "25.4%",
          "x": 3,
          "y": 2
         },
         {
          "font": {
           "color": "grey",
           "size": 12
          },
          "showarrow": false,
          "text": "5.4%",
          "x": 4,
          "y": 2
         },
         {
          "font": {
           "color": "grey",
           "size": 12
          },
          "showarrow": false,
          "text": "1.2%",
          "x": 5,
          "y": 2
         },
         {
          "font": {
           "color": "grey",
           "size": 12
          },
          "showarrow": false,
          "text": "0.0%",
          "x": 6,
          "y": 2
         },
         {
          "font": {
           "color": "grey",
           "size": 12
          },
          "showarrow": false,
          "text": "0.0%",
          "x": 7,
          "y": 2
         },
         {
          "font": {
           "color": "grey",
           "size": 12
          },
          "showarrow": false,
          "text": "0.0%",
          "x": 8,
          "y": 2
         },
         {
          "font": {
           "color": "grey",
           "size": 12
          },
          "showarrow": false,
          "text": "4.0%",
          "x": 0,
          "y": 3
         },
         {
          "font": {
           "color": "grey",
           "size": 12
          },
          "showarrow": false,
          "text": "5.2%",
          "x": 1,
          "y": 3
         },
         {
          "font": {
           "color": "grey",
           "size": 12
          },
          "showarrow": false,
          "text": "56.3%",
          "x": 2,
          "y": 3
         },
         {
          "font": {
           "color": "grey",
           "size": 12
          },
          "showarrow": false,
          "text": "27.0%",
          "x": 3,
          "y": 3
         },
         {
          "font": {
           "color": "grey",
           "size": 12
          },
          "showarrow": false,
          "text": "6.3%",
          "x": 4,
          "y": 3
         },
         {
          "font": {
           "color": "grey",
           "size": 12
          },
          "showarrow": false,
          "text": "0.6%",
          "x": 5,
          "y": 3
         },
         {
          "font": {
           "color": "grey",
           "size": 12
          },
          "showarrow": false,
          "text": "0.6%",
          "x": 6,
          "y": 3
         },
         {
          "font": {
           "color": "grey",
           "size": 12
          },
          "showarrow": false,
          "text": "0.0%",
          "x": 7,
          "y": 3
         },
         {
          "font": {
           "color": "grey",
           "size": 12
          },
          "showarrow": false,
          "text": "0.0%",
          "x": 8,
          "y": 3
         },
         {
          "font": {
           "color": "grey",
           "size": 12
          },
          "showarrow": false,
          "text": "0.0%",
          "x": 0,
          "y": 4
         },
         {
          "font": {
           "color": "grey",
           "size": 12
          },
          "showarrow": false,
          "text": "8.4%",
          "x": 1,
          "y": 4
         },
         {
          "font": {
           "color": "grey",
           "size": 12
          },
          "showarrow": false,
          "text": "47.0%",
          "x": 2,
          "y": 4
         },
         {
          "font": {
           "color": "grey",
           "size": 12
          },
          "showarrow": false,
          "text": "36.1%",
          "x": 3,
          "y": 4
         },
         {
          "font": {
           "color": "grey",
           "size": 12
          },
          "showarrow": false,
          "text": "6.0%",
          "x": 4,
          "y": 4
         },
         {
          "font": {
           "color": "grey",
           "size": 12
          },
          "showarrow": false,
          "text": "2.4%",
          "x": 5,
          "y": 4
         },
         {
          "font": {
           "color": "grey",
           "size": 12
          },
          "showarrow": false,
          "text": "0.0%",
          "x": 6,
          "y": 4
         },
         {
          "font": {
           "color": "grey",
           "size": 12
          },
          "showarrow": false,
          "text": "0.0%",
          "x": 7,
          "y": 4
         },
         {
          "font": {
           "color": "grey",
           "size": 12
          },
          "showarrow": false,
          "text": "0.0%",
          "x": 8,
          "y": 4
         },
         {
          "font": {
           "color": "grey",
           "size": 12
          },
          "showarrow": false,
          "text": "0.0%",
          "x": 0,
          "y": 5
         },
         {
          "font": {
           "color": "grey",
           "size": 12
          },
          "showarrow": false,
          "text": "10.0%",
          "x": 1,
          "y": 5
         },
         {
          "font": {
           "color": "grey",
           "size": 12
          },
          "showarrow": false,
          "text": "40.0%",
          "x": 2,
          "y": 5
         },
         {
          "font": {
           "color": "grey",
           "size": 12
          },
          "showarrow": false,
          "text": "45.0%",
          "x": 3,
          "y": 5
         },
         {
          "font": {
           "color": "grey",
           "size": 12
          },
          "showarrow": false,
          "text": "5.0%",
          "x": 4,
          "y": 5
         },
         {
          "font": {
           "color": "grey",
           "size": 12
          },
          "showarrow": false,
          "text": "0.0%",
          "x": 5,
          "y": 5
         },
         {
          "font": {
           "color": "grey",
           "size": 12
          },
          "showarrow": false,
          "text": "0.0%",
          "x": 6,
          "y": 5
         },
         {
          "font": {
           "color": "grey",
           "size": 12
          },
          "showarrow": false,
          "text": "0.0%",
          "x": 7,
          "y": 5
         },
         {
          "font": {
           "color": "grey",
           "size": 12
          },
          "showarrow": false,
          "text": "0.0%",
          "x": 8,
          "y": 5
         },
         {
          "font": {
           "color": "grey",
           "size": 12
          },
          "showarrow": false,
          "text": "0.0%",
          "x": 0,
          "y": 6
         },
         {
          "font": {
           "color": "grey",
           "size": 12
          },
          "showarrow": false,
          "text": "14.3%",
          "x": 1,
          "y": 6
         },
         {
          "font": {
           "color": "grey",
           "size": 12
          },
          "showarrow": false,
          "text": "14.3%",
          "x": 2,
          "y": 6
         },
         {
          "font": {
           "color": "grey",
           "size": 12
          },
          "showarrow": false,
          "text": "57.1%",
          "x": 3,
          "y": 6
         },
         {
          "font": {
           "color": "grey",
           "size": 12
          },
          "showarrow": false,
          "text": "0.0%",
          "x": 4,
          "y": 6
         },
         {
          "font": {
           "color": "grey",
           "size": 12
          },
          "showarrow": false,
          "text": "0.0%",
          "x": 5,
          "y": 6
         },
         {
          "font": {
           "color": "grey",
           "size": 12
          },
          "showarrow": false,
          "text": "14.3%",
          "x": 6,
          "y": 6
         },
         {
          "font": {
           "color": "grey",
           "size": 12
          },
          "showarrow": false,
          "text": "0.0%",
          "x": 7,
          "y": 6
         },
         {
          "font": {
           "color": "grey",
           "size": 12
          },
          "showarrow": false,
          "text": "0.0%",
          "x": 8,
          "y": 6
         },
         {
          "font": {
           "color": "grey",
           "size": 12
          },
          "showarrow": false,
          "text": "0.0%",
          "x": 0,
          "y": 7
         },
         {
          "font": {
           "color": "grey",
           "size": 12
          },
          "showarrow": false,
          "text": "0.0%",
          "x": 1,
          "y": 7
         },
         {
          "font": {
           "color": "grey",
           "size": 12
          },
          "showarrow": false,
          "text": "25.0%",
          "x": 2,
          "y": 7
         },
         {
          "font": {
           "color": "grey",
           "size": 12
          },
          "showarrow": false,
          "text": "75.0%",
          "x": 3,
          "y": 7
         },
         {
          "font": {
           "color": "grey",
           "size": 12
          },
          "showarrow": false,
          "text": "0.0%",
          "x": 4,
          "y": 7
         },
         {
          "font": {
           "color": "grey",
           "size": 12
          },
          "showarrow": false,
          "text": "0.0%",
          "x": 5,
          "y": 7
         },
         {
          "font": {
           "color": "grey",
           "size": 12
          },
          "showarrow": false,
          "text": "0.0%",
          "x": 6,
          "y": 7
         },
         {
          "font": {
           "color": "grey",
           "size": 12
          },
          "showarrow": false,
          "text": "0.0%",
          "x": 7,
          "y": 7
         },
         {
          "font": {
           "color": "grey",
           "size": 12
          },
          "showarrow": false,
          "text": "0.0%",
          "x": 8,
          "y": 7
         },
         {
          "font": {
           "color": "grey",
           "size": 12
          },
          "showarrow": false,
          "text": "0.0%",
          "x": 0,
          "y": 8
         },
         {
          "font": {
           "color": "grey",
           "size": 12
          },
          "showarrow": false,
          "text": "0.0%",
          "x": 1,
          "y": 8
         },
         {
          "font": {
           "color": "grey",
           "size": 12
          },
          "showarrow": false,
          "text": "0.0%",
          "x": 2,
          "y": 8
         },
         {
          "font": {
           "color": "grey",
           "size": 12
          },
          "showarrow": false,
          "text": "100.0%",
          "x": 3,
          "y": 8
         },
         {
          "font": {
           "color": "grey",
           "size": 12
          },
          "showarrow": false,
          "text": "0.0%",
          "x": 4,
          "y": 8
         },
         {
          "font": {
           "color": "grey",
           "size": 12
          },
          "showarrow": false,
          "text": "0.0%",
          "x": 5,
          "y": 8
         },
         {
          "font": {
           "color": "grey",
           "size": 12
          },
          "showarrow": false,
          "text": "0.0%",
          "x": 6,
          "y": 8
         },
         {
          "font": {
           "color": "grey",
           "size": 12
          },
          "showarrow": false,
          "text": "0.0%",
          "x": 7,
          "y": 8
         },
         {
          "font": {
           "color": "grey",
           "size": 12
          },
          "showarrow": false,
          "text": "0.0%",
          "x": 8,
          "y": 8
         }
        ],
        "font": {
         "color": "black",
         "size": 14
        },
        "template": {
         "data": {
          "bar": [
           {
            "error_x": {
             "color": "#2a3f5f"
            },
            "error_y": {
             "color": "#2a3f5f"
            },
            "marker": {
             "line": {
              "color": "#E5ECF6",
              "width": 0.5
             },
             "pattern": {
              "fillmode": "overlay",
              "size": 10,
              "solidity": 0.2
             }
            },
            "type": "bar"
           }
          ],
          "barpolar": [
           {
            "marker": {
             "line": {
              "color": "#E5ECF6",
              "width": 0.5
             },
             "pattern": {
              "fillmode": "overlay",
              "size": 10,
              "solidity": 0.2
             }
            },
            "type": "barpolar"
           }
          ],
          "carpet": [
           {
            "aaxis": {
             "endlinecolor": "#2a3f5f",
             "gridcolor": "white",
             "linecolor": "white",
             "minorgridcolor": "white",
             "startlinecolor": "#2a3f5f"
            },
            "baxis": {
             "endlinecolor": "#2a3f5f",
             "gridcolor": "white",
             "linecolor": "white",
             "minorgridcolor": "white",
             "startlinecolor": "#2a3f5f"
            },
            "type": "carpet"
           }
          ],
          "choropleth": [
           {
            "colorbar": {
             "outlinewidth": 0,
             "ticks": ""
            },
            "type": "choropleth"
           }
          ],
          "contour": [
           {
            "colorbar": {
             "outlinewidth": 0,
             "ticks": ""
            },
            "colorscale": [
             [
              0,
              "#0d0887"
             ],
             [
              0.1111111111111111,
              "#46039f"
             ],
             [
              0.2222222222222222,
              "#7201a8"
             ],
             [
              0.3333333333333333,
              "#9c179e"
             ],
             [
              0.4444444444444444,
              "#bd3786"
             ],
             [
              0.5555555555555556,
              "#d8576b"
             ],
             [
              0.6666666666666666,
              "#ed7953"
             ],
             [
              0.7777777777777778,
              "#fb9f3a"
             ],
             [
              0.8888888888888888,
              "#fdca26"
             ],
             [
              1,
              "#f0f921"
             ]
            ],
            "type": "contour"
           }
          ],
          "contourcarpet": [
           {
            "colorbar": {
             "outlinewidth": 0,
             "ticks": ""
            },
            "type": "contourcarpet"
           }
          ],
          "heatmap": [
           {
            "colorbar": {
             "outlinewidth": 0,
             "ticks": ""
            },
            "colorscale": [
             [
              0,
              "#0d0887"
             ],
             [
              0.1111111111111111,
              "#46039f"
             ],
             [
              0.2222222222222222,
              "#7201a8"
             ],
             [
              0.3333333333333333,
              "#9c179e"
             ],
             [
              0.4444444444444444,
              "#bd3786"
             ],
             [
              0.5555555555555556,
              "#d8576b"
             ],
             [
              0.6666666666666666,
              "#ed7953"
             ],
             [
              0.7777777777777778,
              "#fb9f3a"
             ],
             [
              0.8888888888888888,
              "#fdca26"
             ],
             [
              1,
              "#f0f921"
             ]
            ],
            "type": "heatmap"
           }
          ],
          "heatmapgl": [
           {
            "colorbar": {
             "outlinewidth": 0,
             "ticks": ""
            },
            "colorscale": [
             [
              0,
              "#0d0887"
             ],
             [
              0.1111111111111111,
              "#46039f"
             ],
             [
              0.2222222222222222,
              "#7201a8"
             ],
             [
              0.3333333333333333,
              "#9c179e"
             ],
             [
              0.4444444444444444,
              "#bd3786"
             ],
             [
              0.5555555555555556,
              "#d8576b"
             ],
             [
              0.6666666666666666,
              "#ed7953"
             ],
             [
              0.7777777777777778,
              "#fb9f3a"
             ],
             [
              0.8888888888888888,
              "#fdca26"
             ],
             [
              1,
              "#f0f921"
             ]
            ],
            "type": "heatmapgl"
           }
          ],
          "histogram": [
           {
            "marker": {
             "pattern": {
              "fillmode": "overlay",
              "size": 10,
              "solidity": 0.2
             }
            },
            "type": "histogram"
           }
          ],
          "histogram2d": [
           {
            "colorbar": {
             "outlinewidth": 0,
             "ticks": ""
            },
            "colorscale": [
             [
              0,
              "#0d0887"
             ],
             [
              0.1111111111111111,
              "#46039f"
             ],
             [
              0.2222222222222222,
              "#7201a8"
             ],
             [
              0.3333333333333333,
              "#9c179e"
             ],
             [
              0.4444444444444444,
              "#bd3786"
             ],
             [
              0.5555555555555556,
              "#d8576b"
             ],
             [
              0.6666666666666666,
              "#ed7953"
             ],
             [
              0.7777777777777778,
              "#fb9f3a"
             ],
             [
              0.8888888888888888,
              "#fdca26"
             ],
             [
              1,
              "#f0f921"
             ]
            ],
            "type": "histogram2d"
           }
          ],
          "histogram2dcontour": [
           {
            "colorbar": {
             "outlinewidth": 0,
             "ticks": ""
            },
            "colorscale": [
             [
              0,
              "#0d0887"
             ],
             [
              0.1111111111111111,
              "#46039f"
             ],
             [
              0.2222222222222222,
              "#7201a8"
             ],
             [
              0.3333333333333333,
              "#9c179e"
             ],
             [
              0.4444444444444444,
              "#bd3786"
             ],
             [
              0.5555555555555556,
              "#d8576b"
             ],
             [
              0.6666666666666666,
              "#ed7953"
             ],
             [
              0.7777777777777778,
              "#fb9f3a"
             ],
             [
              0.8888888888888888,
              "#fdca26"
             ],
             [
              1,
              "#f0f921"
             ]
            ],
            "type": "histogram2dcontour"
           }
          ],
          "mesh3d": [
           {
            "colorbar": {
             "outlinewidth": 0,
             "ticks": ""
            },
            "type": "mesh3d"
           }
          ],
          "parcoords": [
           {
            "line": {
             "colorbar": {
              "outlinewidth": 0,
              "ticks": ""
             }
            },
            "type": "parcoords"
           }
          ],
          "pie": [
           {
            "automargin": true,
            "type": "pie"
           }
          ],
          "scatter": [
           {
            "fillpattern": {
             "fillmode": "overlay",
             "size": 10,
             "solidity": 0.2
            },
            "type": "scatter"
           }
          ],
          "scatter3d": [
           {
            "line": {
             "colorbar": {
              "outlinewidth": 0,
              "ticks": ""
             }
            },
            "marker": {
             "colorbar": {
              "outlinewidth": 0,
              "ticks": ""
             }
            },
            "type": "scatter3d"
           }
          ],
          "scattercarpet": [
           {
            "marker": {
             "colorbar": {
              "outlinewidth": 0,
              "ticks": ""
             }
            },
            "type": "scattercarpet"
           }
          ],
          "scattergeo": [
           {
            "marker": {
             "colorbar": {
              "outlinewidth": 0,
              "ticks": ""
             }
            },
            "type": "scattergeo"
           }
          ],
          "scattergl": [
           {
            "marker": {
             "colorbar": {
              "outlinewidth": 0,
              "ticks": ""
             }
            },
            "type": "scattergl"
           }
          ],
          "scattermapbox": [
           {
            "marker": {
             "colorbar": {
              "outlinewidth": 0,
              "ticks": ""
             }
            },
            "type": "scattermapbox"
           }
          ],
          "scatterpolar": [
           {
            "marker": {
             "colorbar": {
              "outlinewidth": 0,
              "ticks": ""
             }
            },
            "type": "scatterpolar"
           }
          ],
          "scatterpolargl": [
           {
            "marker": {
             "colorbar": {
              "outlinewidth": 0,
              "ticks": ""
             }
            },
            "type": "scatterpolargl"
           }
          ],
          "scatterternary": [
           {
            "marker": {
             "colorbar": {
              "outlinewidth": 0,
              "ticks": ""
             }
            },
            "type": "scatterternary"
           }
          ],
          "surface": [
           {
            "colorbar": {
             "outlinewidth": 0,
             "ticks": ""
            },
            "colorscale": [
             [
              0,
              "#0d0887"
             ],
             [
              0.1111111111111111,
              "#46039f"
             ],
             [
              0.2222222222222222,
              "#7201a8"
             ],
             [
              0.3333333333333333,
              "#9c179e"
             ],
             [
              0.4444444444444444,
              "#bd3786"
             ],
             [
              0.5555555555555556,
              "#d8576b"
             ],
             [
              0.6666666666666666,
              "#ed7953"
             ],
             [
              0.7777777777777778,
              "#fb9f3a"
             ],
             [
              0.8888888888888888,
              "#fdca26"
             ],
             [
              1,
              "#f0f921"
             ]
            ],
            "type": "surface"
           }
          ],
          "table": [
           {
            "cells": {
             "fill": {
              "color": "#EBF0F8"
             },
             "line": {
              "color": "white"
             }
            },
            "header": {
             "fill": {
              "color": "#C8D4E3"
             },
             "line": {
              "color": "white"
             }
            },
            "type": "table"
           }
          ]
         },
         "layout": {
          "annotationdefaults": {
           "arrowcolor": "#2a3f5f",
           "arrowhead": 0,
           "arrowwidth": 1
          },
          "autotypenumbers": "strict",
          "coloraxis": {
           "colorbar": {
            "outlinewidth": 0,
            "ticks": ""
           }
          },
          "colorscale": {
           "diverging": [
            [
             0,
             "#8e0152"
            ],
            [
             0.1,
             "#c51b7d"
            ],
            [
             0.2,
             "#de77ae"
            ],
            [
             0.3,
             "#f1b6da"
            ],
            [
             0.4,
             "#fde0ef"
            ],
            [
             0.5,
             "#f7f7f7"
            ],
            [
             0.6,
             "#e6f5d0"
            ],
            [
             0.7,
             "#b8e186"
            ],
            [
             0.8,
             "#7fbc41"
            ],
            [
             0.9,
             "#4d9221"
            ],
            [
             1,
             "#276419"
            ]
           ],
           "sequential": [
            [
             0,
             "#0d0887"
            ],
            [
             0.1111111111111111,
             "#46039f"
            ],
            [
             0.2222222222222222,
             "#7201a8"
            ],
            [
             0.3333333333333333,
             "#9c179e"
            ],
            [
             0.4444444444444444,
             "#bd3786"
            ],
            [
             0.5555555555555556,
             "#d8576b"
            ],
            [
             0.6666666666666666,
             "#ed7953"
            ],
            [
             0.7777777777777778,
             "#fb9f3a"
            ],
            [
             0.8888888888888888,
             "#fdca26"
            ],
            [
             1,
             "#f0f921"
            ]
           ],
           "sequentialminus": [
            [
             0,
             "#0d0887"
            ],
            [
             0.1111111111111111,
             "#46039f"
            ],
            [
             0.2222222222222222,
             "#7201a8"
            ],
            [
             0.3333333333333333,
             "#9c179e"
            ],
            [
             0.4444444444444444,
             "#bd3786"
            ],
            [
             0.5555555555555556,
             "#d8576b"
            ],
            [
             0.6666666666666666,
             "#ed7953"
            ],
            [
             0.7777777777777778,
             "#fb9f3a"
            ],
            [
             0.8888888888888888,
             "#fdca26"
            ],
            [
             1,
             "#f0f921"
            ]
           ]
          },
          "colorway": [
           "#636efa",
           "#EF553B",
           "#00cc96",
           "#ab63fa",
           "#FFA15A",
           "#19d3f3",
           "#FF6692",
           "#B6E880",
           "#FF97FF",
           "#FECB52"
          ],
          "font": {
           "color": "#2a3f5f"
          },
          "geo": {
           "bgcolor": "white",
           "lakecolor": "white",
           "landcolor": "#E5ECF6",
           "showlakes": true,
           "showland": true,
           "subunitcolor": "white"
          },
          "hoverlabel": {
           "align": "left"
          },
          "hovermode": "closest",
          "mapbox": {
           "style": "light"
          },
          "paper_bgcolor": "white",
          "plot_bgcolor": "#E5ECF6",
          "polar": {
           "angularaxis": {
            "gridcolor": "white",
            "linecolor": "white",
            "ticks": ""
           },
           "bgcolor": "#E5ECF6",
           "radialaxis": {
            "gridcolor": "white",
            "linecolor": "white",
            "ticks": ""
           }
          },
          "scene": {
           "xaxis": {
            "backgroundcolor": "#E5ECF6",
            "gridcolor": "white",
            "gridwidth": 2,
            "linecolor": "white",
            "showbackground": true,
            "ticks": "",
            "zerolinecolor": "white"
           },
           "yaxis": {
            "backgroundcolor": "#E5ECF6",
            "gridcolor": "white",
            "gridwidth": 2,
            "linecolor": "white",
            "showbackground": true,
            "ticks": "",
            "zerolinecolor": "white"
           },
           "zaxis": {
            "backgroundcolor": "#E5ECF6",
            "gridcolor": "white",
            "gridwidth": 2,
            "linecolor": "white",
            "showbackground": true,
            "ticks": "",
            "zerolinecolor": "white"
           }
          },
          "shapedefaults": {
           "line": {
            "color": "#2a3f5f"
           }
          },
          "ternary": {
           "aaxis": {
            "gridcolor": "white",
            "linecolor": "white",
            "ticks": ""
           },
           "baxis": {
            "gridcolor": "white",
            "linecolor": "white",
            "ticks": ""
           },
           "bgcolor": "#E5ECF6",
           "caxis": {
            "gridcolor": "white",
            "linecolor": "white",
            "ticks": ""
           }
          },
          "title": {
           "x": 0.05
          },
          "xaxis": {
           "automargin": true,
           "gridcolor": "white",
           "linecolor": "white",
           "ticks": "",
           "title": {
            "standoff": 15
           },
           "zerolinecolor": "white",
           "zerolinewidth": 2
          },
          "yaxis": {
           "automargin": true,
           "gridcolor": "white",
           "linecolor": "white",
           "ticks": "",
           "title": {
            "standoff": 15
           },
           "zerolinecolor": "white",
           "zerolinewidth": 2
          }
         }
        },
        "title": {
         "text": "Confusion Matrix Goals"
        },
        "xaxis": {
         "title": {
          "text": "Predicted Event"
         }
        },
        "yaxis": {
         "title": {
          "text": "True Event"
         }
        }
       }
      }
     },
     "metadata": {},
     "output_type": "display_data"
    },
    {
     "data": {
      "application/vnd.plotly.v1+json": {
       "config": {
        "plotlyServerURL": "https://plot.ly"
       },
       "data": [
        {
         "colorscale": [
          [
           0,
           "#000004"
          ],
          [
           0.1111111111111111,
           "#1b0c41"
          ],
          [
           0.2222222222222222,
           "#4a0c6b"
          ],
          [
           0.3333333333333333,
           "#781c6d"
          ],
          [
           0.4444444444444444,
           "#a52c60"
          ],
          [
           0.5555555555555556,
           "#cf4446"
          ],
          [
           0.6666666666666666,
           "#ed6925"
          ],
          [
           0.7777777777777778,
           "#fb9b06"
          ],
          [
           0.8888888888888888,
           "#f7d13d"
          ],
          [
           1,
           "#fcffa4"
          ]
         ],
         "hovertemplate": "%{text}<extra></extra>",
         "text": [
          [
           "Count: 185<br>Success: 38.3%",
           "Count: 277<br>Success: 57.3%",
           "Count: 20<br>Success: 4.1%",
           "Count: 1<br>Success: 0.2%",
           "Count: 0<br>Success: 0.0%",
           "Count: 0<br>Success: 0.0%",
           "Count: 0<br>Success: 0.0%"
          ],
          [
           "Count: 131<br>Success: 28.7%",
           "Count: 216<br>Success: 47.4%",
           "Count: 89<br>Success: 19.5%",
           "Count: 18<br>Success: 3.9%",
           "Count: 2<br>Success: 0.4%",
           "Count: 0<br>Success: 0.0%",
           "Count: 0<br>Success: 0.0%"
          ],
          [
           "Count: 42<br>Success: 16.0%",
           "Count: 77<br>Success: 29.4%",
           "Count: 106<br>Success: 40.5%",
           "Count: 33<br>Success: 12.6%",
           "Count: 4<br>Success: 1.5%",
           "Count: 0<br>Success: 0.0%",
           "Count: 0<br>Success: 0.0%"
          ],
          [
           "Count: 7<br>Success: 6.1%",
           "Count: 14<br>Success: 12.2%",
           "Count: 64<br>Success: 55.7%",
           "Count: 27<br>Success: 23.5%",
           "Count: 3<br>Success: 2.6%",
           "Count: 0<br>Success: 0.0%",
           "Count: 0<br>Success: 0.0%"
          ],
          [
           "Count: 1<br>Success: 2.7%",
           "Count: 4<br>Success: 10.8%",
           "Count: 25<br>Success: 67.6%",
           "Count: 6<br>Success: 16.2%",
           "Count: 0<br>Success: 0.0%",
           "Count: 1<br>Success: 2.7%",
           "Count: 0<br>Success: 0.0%"
          ],
          [
           "Count: 0<br>Success: 0.0%",
           "Count: 1<br>Success: 10.0%",
           "Count: 5<br>Success: 50.0%",
           "Count: 3<br>Success: 30.0%",
           "Count: 1<br>Success: 10.0%",
           "Count: 0<br>Success: 0.0%",
           "Count: 0<br>Success: 0.0%"
          ],
          [
           "Count: 0<br>Success: 0.0%",
           "Count: 0<br>Success: 0.0%",
           "Count: 2<br>Success: 40.0%",
           "Count: 1<br>Success: 20.0%",
           "Count: 2<br>Success: 40.0%",
           "Count: 0<br>Success: 0.0%",
           "Count: 0<br>Success: 0.0%"
          ]
         ],
         "type": "heatmap",
         "x": [
          0,
          1,
          2,
          3,
          4,
          5,
          6
         ],
         "z": [
          [
           185,
           277,
           20,
           1,
           0,
           0,
           0
          ],
          [
           131,
           216,
           89,
           18,
           2,
           0,
           0
          ],
          [
           42,
           77,
           106,
           33,
           4,
           0,
           0
          ],
          [
           7,
           14,
           64,
           27,
           3,
           0,
           0
          ],
          [
           1,
           4,
           25,
           6,
           0,
           1,
           0
          ],
          [
           0,
           1,
           5,
           3,
           1,
           0,
           0
          ],
          [
           0,
           0,
           2,
           1,
           2,
           0,
           0
          ]
         ]
        }
       ],
       "layout": {
        "annotations": [
         {
          "font": {
           "color": "grey",
           "size": 12
          },
          "showarrow": false,
          "text": "38.3%",
          "x": 0,
          "y": 0
         },
         {
          "font": {
           "color": "grey",
           "size": 12
          },
          "showarrow": false,
          "text": "57.3%",
          "x": 1,
          "y": 0
         },
         {
          "font": {
           "color": "grey",
           "size": 12
          },
          "showarrow": false,
          "text": "4.1%",
          "x": 2,
          "y": 0
         },
         {
          "font": {
           "color": "grey",
           "size": 12
          },
          "showarrow": false,
          "text": "0.2%",
          "x": 3,
          "y": 0
         },
         {
          "font": {
           "color": "grey",
           "size": 12
          },
          "showarrow": false,
          "text": "0.0%",
          "x": 4,
          "y": 0
         },
         {
          "font": {
           "color": "grey",
           "size": 12
          },
          "showarrow": false,
          "text": "0.0%",
          "x": 5,
          "y": 0
         },
         {
          "font": {
           "color": "grey",
           "size": 12
          },
          "showarrow": false,
          "text": "0.0%",
          "x": 6,
          "y": 0
         },
         {
          "font": {
           "color": "grey",
           "size": 12
          },
          "showarrow": false,
          "text": "28.7%",
          "x": 0,
          "y": 1
         },
         {
          "font": {
           "color": "grey",
           "size": 12
          },
          "showarrow": false,
          "text": "47.4%",
          "x": 1,
          "y": 1
         },
         {
          "font": {
           "color": "grey",
           "size": 12
          },
          "showarrow": false,
          "text": "19.5%",
          "x": 2,
          "y": 1
         },
         {
          "font": {
           "color": "grey",
           "size": 12
          },
          "showarrow": false,
          "text": "3.9%",
          "x": 3,
          "y": 1
         },
         {
          "font": {
           "color": "grey",
           "size": 12
          },
          "showarrow": false,
          "text": "0.4%",
          "x": 4,
          "y": 1
         },
         {
          "font": {
           "color": "grey",
           "size": 12
          },
          "showarrow": false,
          "text": "0.0%",
          "x": 5,
          "y": 1
         },
         {
          "font": {
           "color": "grey",
           "size": 12
          },
          "showarrow": false,
          "text": "0.0%",
          "x": 6,
          "y": 1
         },
         {
          "font": {
           "color": "grey",
           "size": 12
          },
          "showarrow": false,
          "text": "16.0%",
          "x": 0,
          "y": 2
         },
         {
          "font": {
           "color": "grey",
           "size": 12
          },
          "showarrow": false,
          "text": "29.4%",
          "x": 1,
          "y": 2
         },
         {
          "font": {
           "color": "grey",
           "size": 12
          },
          "showarrow": false,
          "text": "40.5%",
          "x": 2,
          "y": 2
         },
         {
          "font": {
           "color": "grey",
           "size": 12
          },
          "showarrow": false,
          "text": "12.6%",
          "x": 3,
          "y": 2
         },
         {
          "font": {
           "color": "grey",
           "size": 12
          },
          "showarrow": false,
          "text": "1.5%",
          "x": 4,
          "y": 2
         },
         {
          "font": {
           "color": "grey",
           "size": 12
          },
          "showarrow": false,
          "text": "0.0%",
          "x": 5,
          "y": 2
         },
         {
          "font": {
           "color": "grey",
           "size": 12
          },
          "showarrow": false,
          "text": "0.0%",
          "x": 6,
          "y": 2
         },
         {
          "font": {
           "color": "grey",
           "size": 12
          },
          "showarrow": false,
          "text": "6.1%",
          "x": 0,
          "y": 3
         },
         {
          "font": {
           "color": "grey",
           "size": 12
          },
          "showarrow": false,
          "text": "12.2%",
          "x": 1,
          "y": 3
         },
         {
          "font": {
           "color": "grey",
           "size": 12
          },
          "showarrow": false,
          "text": "55.7%",
          "x": 2,
          "y": 3
         },
         {
          "font": {
           "color": "grey",
           "size": 12
          },
          "showarrow": false,
          "text": "23.5%",
          "x": 3,
          "y": 3
         },
         {
          "font": {
           "color": "grey",
           "size": 12
          },
          "showarrow": false,
          "text": "2.6%",
          "x": 4,
          "y": 3
         },
         {
          "font": {
           "color": "grey",
           "size": 12
          },
          "showarrow": false,
          "text": "0.0%",
          "x": 5,
          "y": 3
         },
         {
          "font": {
           "color": "grey",
           "size": 12
          },
          "showarrow": false,
          "text": "0.0%",
          "x": 6,
          "y": 3
         },
         {
          "font": {
           "color": "grey",
           "size": 12
          },
          "showarrow": false,
          "text": "2.7%",
          "x": 0,
          "y": 4
         },
         {
          "font": {
           "color": "grey",
           "size": 12
          },
          "showarrow": false,
          "text": "10.8%",
          "x": 1,
          "y": 4
         },
         {
          "font": {
           "color": "grey",
           "size": 12
          },
          "showarrow": false,
          "text": "67.6%",
          "x": 2,
          "y": 4
         },
         {
          "font": {
           "color": "grey",
           "size": 12
          },
          "showarrow": false,
          "text": "16.2%",
          "x": 3,
          "y": 4
         },
         {
          "font": {
           "color": "grey",
           "size": 12
          },
          "showarrow": false,
          "text": "0.0%",
          "x": 4,
          "y": 4
         },
         {
          "font": {
           "color": "grey",
           "size": 12
          },
          "showarrow": false,
          "text": "2.7%",
          "x": 5,
          "y": 4
         },
         {
          "font": {
           "color": "grey",
           "size": 12
          },
          "showarrow": false,
          "text": "0.0%",
          "x": 6,
          "y": 4
         },
         {
          "font": {
           "color": "grey",
           "size": 12
          },
          "showarrow": false,
          "text": "0.0%",
          "x": 0,
          "y": 5
         },
         {
          "font": {
           "color": "grey",
           "size": 12
          },
          "showarrow": false,
          "text": "10.0%",
          "x": 1,
          "y": 5
         },
         {
          "font": {
           "color": "grey",
           "size": 12
          },
          "showarrow": false,
          "text": "50.0%",
          "x": 2,
          "y": 5
         },
         {
          "font": {
           "color": "grey",
           "size": 12
          },
          "showarrow": false,
          "text": "30.0%",
          "x": 3,
          "y": 5
         },
         {
          "font": {
           "color": "grey",
           "size": 12
          },
          "showarrow": false,
          "text": "10.0%",
          "x": 4,
          "y": 5
         },
         {
          "font": {
           "color": "grey",
           "size": 12
          },
          "showarrow": false,
          "text": "0.0%",
          "x": 5,
          "y": 5
         },
         {
          "font": {
           "color": "grey",
           "size": 12
          },
          "showarrow": false,
          "text": "0.0%",
          "x": 6,
          "y": 5
         },
         {
          "font": {
           "color": "grey",
           "size": 12
          },
          "showarrow": false,
          "text": "0.0%",
          "x": 0,
          "y": 6
         },
         {
          "font": {
           "color": "grey",
           "size": 12
          },
          "showarrow": false,
          "text": "0.0%",
          "x": 1,
          "y": 6
         },
         {
          "font": {
           "color": "grey",
           "size": 12
          },
          "showarrow": false,
          "text": "40.0%",
          "x": 2,
          "y": 6
         },
         {
          "font": {
           "color": "grey",
           "size": 12
          },
          "showarrow": false,
          "text": "20.0%",
          "x": 3,
          "y": 6
         },
         {
          "font": {
           "color": "grey",
           "size": 12
          },
          "showarrow": false,
          "text": "40.0%",
          "x": 4,
          "y": 6
         },
         {
          "font": {
           "color": "grey",
           "size": 12
          },
          "showarrow": false,
          "text": "0.0%",
          "x": 5,
          "y": 6
         },
         {
          "font": {
           "color": "grey",
           "size": 12
          },
          "showarrow": false,
          "text": "0.0%",
          "x": 6,
          "y": 6
         }
        ],
        "font": {
         "color": "black",
         "size": 14
        },
        "template": {
         "data": {
          "bar": [
           {
            "error_x": {
             "color": "#2a3f5f"
            },
            "error_y": {
             "color": "#2a3f5f"
            },
            "marker": {
             "line": {
              "color": "#E5ECF6",
              "width": 0.5
             },
             "pattern": {
              "fillmode": "overlay",
              "size": 10,
              "solidity": 0.2
             }
            },
            "type": "bar"
           }
          ],
          "barpolar": [
           {
            "marker": {
             "line": {
              "color": "#E5ECF6",
              "width": 0.5
             },
             "pattern": {
              "fillmode": "overlay",
              "size": 10,
              "solidity": 0.2
             }
            },
            "type": "barpolar"
           }
          ],
          "carpet": [
           {
            "aaxis": {
             "endlinecolor": "#2a3f5f",
             "gridcolor": "white",
             "linecolor": "white",
             "minorgridcolor": "white",
             "startlinecolor": "#2a3f5f"
            },
            "baxis": {
             "endlinecolor": "#2a3f5f",
             "gridcolor": "white",
             "linecolor": "white",
             "minorgridcolor": "white",
             "startlinecolor": "#2a3f5f"
            },
            "type": "carpet"
           }
          ],
          "choropleth": [
           {
            "colorbar": {
             "outlinewidth": 0,
             "ticks": ""
            },
            "type": "choropleth"
           }
          ],
          "contour": [
           {
            "colorbar": {
             "outlinewidth": 0,
             "ticks": ""
            },
            "colorscale": [
             [
              0,
              "#0d0887"
             ],
             [
              0.1111111111111111,
              "#46039f"
             ],
             [
              0.2222222222222222,
              "#7201a8"
             ],
             [
              0.3333333333333333,
              "#9c179e"
             ],
             [
              0.4444444444444444,
              "#bd3786"
             ],
             [
              0.5555555555555556,
              "#d8576b"
             ],
             [
              0.6666666666666666,
              "#ed7953"
             ],
             [
              0.7777777777777778,
              "#fb9f3a"
             ],
             [
              0.8888888888888888,
              "#fdca26"
             ],
             [
              1,
              "#f0f921"
             ]
            ],
            "type": "contour"
           }
          ],
          "contourcarpet": [
           {
            "colorbar": {
             "outlinewidth": 0,
             "ticks": ""
            },
            "type": "contourcarpet"
           }
          ],
          "heatmap": [
           {
            "colorbar": {
             "outlinewidth": 0,
             "ticks": ""
            },
            "colorscale": [
             [
              0,
              "#0d0887"
             ],
             [
              0.1111111111111111,
              "#46039f"
             ],
             [
              0.2222222222222222,
              "#7201a8"
             ],
             [
              0.3333333333333333,
              "#9c179e"
             ],
             [
              0.4444444444444444,
              "#bd3786"
             ],
             [
              0.5555555555555556,
              "#d8576b"
             ],
             [
              0.6666666666666666,
              "#ed7953"
             ],
             [
              0.7777777777777778,
              "#fb9f3a"
             ],
             [
              0.8888888888888888,
              "#fdca26"
             ],
             [
              1,
              "#f0f921"
             ]
            ],
            "type": "heatmap"
           }
          ],
          "heatmapgl": [
           {
            "colorbar": {
             "outlinewidth": 0,
             "ticks": ""
            },
            "colorscale": [
             [
              0,
              "#0d0887"
             ],
             [
              0.1111111111111111,
              "#46039f"
             ],
             [
              0.2222222222222222,
              "#7201a8"
             ],
             [
              0.3333333333333333,
              "#9c179e"
             ],
             [
              0.4444444444444444,
              "#bd3786"
             ],
             [
              0.5555555555555556,
              "#d8576b"
             ],
             [
              0.6666666666666666,
              "#ed7953"
             ],
             [
              0.7777777777777778,
              "#fb9f3a"
             ],
             [
              0.8888888888888888,
              "#fdca26"
             ],
             [
              1,
              "#f0f921"
             ]
            ],
            "type": "heatmapgl"
           }
          ],
          "histogram": [
           {
            "marker": {
             "pattern": {
              "fillmode": "overlay",
              "size": 10,
              "solidity": 0.2
             }
            },
            "type": "histogram"
           }
          ],
          "histogram2d": [
           {
            "colorbar": {
             "outlinewidth": 0,
             "ticks": ""
            },
            "colorscale": [
             [
              0,
              "#0d0887"
             ],
             [
              0.1111111111111111,
              "#46039f"
             ],
             [
              0.2222222222222222,
              "#7201a8"
             ],
             [
              0.3333333333333333,
              "#9c179e"
             ],
             [
              0.4444444444444444,
              "#bd3786"
             ],
             [
              0.5555555555555556,
              "#d8576b"
             ],
             [
              0.6666666666666666,
              "#ed7953"
             ],
             [
              0.7777777777777778,
              "#fb9f3a"
             ],
             [
              0.8888888888888888,
              "#fdca26"
             ],
             [
              1,
              "#f0f921"
             ]
            ],
            "type": "histogram2d"
           }
          ],
          "histogram2dcontour": [
           {
            "colorbar": {
             "outlinewidth": 0,
             "ticks": ""
            },
            "colorscale": [
             [
              0,
              "#0d0887"
             ],
             [
              0.1111111111111111,
              "#46039f"
             ],
             [
              0.2222222222222222,
              "#7201a8"
             ],
             [
              0.3333333333333333,
              "#9c179e"
             ],
             [
              0.4444444444444444,
              "#bd3786"
             ],
             [
              0.5555555555555556,
              "#d8576b"
             ],
             [
              0.6666666666666666,
              "#ed7953"
             ],
             [
              0.7777777777777778,
              "#fb9f3a"
             ],
             [
              0.8888888888888888,
              "#fdca26"
             ],
             [
              1,
              "#f0f921"
             ]
            ],
            "type": "histogram2dcontour"
           }
          ],
          "mesh3d": [
           {
            "colorbar": {
             "outlinewidth": 0,
             "ticks": ""
            },
            "type": "mesh3d"
           }
          ],
          "parcoords": [
           {
            "line": {
             "colorbar": {
              "outlinewidth": 0,
              "ticks": ""
             }
            },
            "type": "parcoords"
           }
          ],
          "pie": [
           {
            "automargin": true,
            "type": "pie"
           }
          ],
          "scatter": [
           {
            "fillpattern": {
             "fillmode": "overlay",
             "size": 10,
             "solidity": 0.2
            },
            "type": "scatter"
           }
          ],
          "scatter3d": [
           {
            "line": {
             "colorbar": {
              "outlinewidth": 0,
              "ticks": ""
             }
            },
            "marker": {
             "colorbar": {
              "outlinewidth": 0,
              "ticks": ""
             }
            },
            "type": "scatter3d"
           }
          ],
          "scattercarpet": [
           {
            "marker": {
             "colorbar": {
              "outlinewidth": 0,
              "ticks": ""
             }
            },
            "type": "scattercarpet"
           }
          ],
          "scattergeo": [
           {
            "marker": {
             "colorbar": {
              "outlinewidth": 0,
              "ticks": ""
             }
            },
            "type": "scattergeo"
           }
          ],
          "scattergl": [
           {
            "marker": {
             "colorbar": {
              "outlinewidth": 0,
              "ticks": ""
             }
            },
            "type": "scattergl"
           }
          ],
          "scattermapbox": [
           {
            "marker": {
             "colorbar": {
              "outlinewidth": 0,
              "ticks": ""
             }
            },
            "type": "scattermapbox"
           }
          ],
          "scatterpolar": [
           {
            "marker": {
             "colorbar": {
              "outlinewidth": 0,
              "ticks": ""
             }
            },
            "type": "scatterpolar"
           }
          ],
          "scatterpolargl": [
           {
            "marker": {
             "colorbar": {
              "outlinewidth": 0,
              "ticks": ""
             }
            },
            "type": "scatterpolargl"
           }
          ],
          "scatterternary": [
           {
            "marker": {
             "colorbar": {
              "outlinewidth": 0,
              "ticks": ""
             }
            },
            "type": "scatterternary"
           }
          ],
          "surface": [
           {
            "colorbar": {
             "outlinewidth": 0,
             "ticks": ""
            },
            "colorscale": [
             [
              0,
              "#0d0887"
             ],
             [
              0.1111111111111111,
              "#46039f"
             ],
             [
              0.2222222222222222,
              "#7201a8"
             ],
             [
              0.3333333333333333,
              "#9c179e"
             ],
             [
              0.4444444444444444,
              "#bd3786"
             ],
             [
              0.5555555555555556,
              "#d8576b"
             ],
             [
              0.6666666666666666,
              "#ed7953"
             ],
             [
              0.7777777777777778,
              "#fb9f3a"
             ],
             [
              0.8888888888888888,
              "#fdca26"
             ],
             [
              1,
              "#f0f921"
             ]
            ],
            "type": "surface"
           }
          ],
          "table": [
           {
            "cells": {
             "fill": {
              "color": "#EBF0F8"
             },
             "line": {
              "color": "white"
             }
            },
            "header": {
             "fill": {
              "color": "#C8D4E3"
             },
             "line": {
              "color": "white"
             }
            },
            "type": "table"
           }
          ]
         },
         "layout": {
          "annotationdefaults": {
           "arrowcolor": "#2a3f5f",
           "arrowhead": 0,
           "arrowwidth": 1
          },
          "autotypenumbers": "strict",
          "coloraxis": {
           "colorbar": {
            "outlinewidth": 0,
            "ticks": ""
           }
          },
          "colorscale": {
           "diverging": [
            [
             0,
             "#8e0152"
            ],
            [
             0.1,
             "#c51b7d"
            ],
            [
             0.2,
             "#de77ae"
            ],
            [
             0.3,
             "#f1b6da"
            ],
            [
             0.4,
             "#fde0ef"
            ],
            [
             0.5,
             "#f7f7f7"
            ],
            [
             0.6,
             "#e6f5d0"
            ],
            [
             0.7,
             "#b8e186"
            ],
            [
             0.8,
             "#7fbc41"
            ],
            [
             0.9,
             "#4d9221"
            ],
            [
             1,
             "#276419"
            ]
           ],
           "sequential": [
            [
             0,
             "#0d0887"
            ],
            [
             0.1111111111111111,
             "#46039f"
            ],
            [
             0.2222222222222222,
             "#7201a8"
            ],
            [
             0.3333333333333333,
             "#9c179e"
            ],
            [
             0.4444444444444444,
             "#bd3786"
            ],
            [
             0.5555555555555556,
             "#d8576b"
            ],
            [
             0.6666666666666666,
             "#ed7953"
            ],
            [
             0.7777777777777778,
             "#fb9f3a"
            ],
            [
             0.8888888888888888,
             "#fdca26"
            ],
            [
             1,
             "#f0f921"
            ]
           ],
           "sequentialminus": [
            [
             0,
             "#0d0887"
            ],
            [
             0.1111111111111111,
             "#46039f"
            ],
            [
             0.2222222222222222,
             "#7201a8"
            ],
            [
             0.3333333333333333,
             "#9c179e"
            ],
            [
             0.4444444444444444,
             "#bd3786"
            ],
            [
             0.5555555555555556,
             "#d8576b"
            ],
            [
             0.6666666666666666,
             "#ed7953"
            ],
            [
             0.7777777777777778,
             "#fb9f3a"
            ],
            [
             0.8888888888888888,
             "#fdca26"
            ],
            [
             1,
             "#f0f921"
            ]
           ]
          },
          "colorway": [
           "#636efa",
           "#EF553B",
           "#00cc96",
           "#ab63fa",
           "#FFA15A",
           "#19d3f3",
           "#FF6692",
           "#B6E880",
           "#FF97FF",
           "#FECB52"
          ],
          "font": {
           "color": "#2a3f5f"
          },
          "geo": {
           "bgcolor": "white",
           "lakecolor": "white",
           "landcolor": "#E5ECF6",
           "showlakes": true,
           "showland": true,
           "subunitcolor": "white"
          },
          "hoverlabel": {
           "align": "left"
          },
          "hovermode": "closest",
          "mapbox": {
           "style": "light"
          },
          "paper_bgcolor": "white",
          "plot_bgcolor": "#E5ECF6",
          "polar": {
           "angularaxis": {
            "gridcolor": "white",
            "linecolor": "white",
            "ticks": ""
           },
           "bgcolor": "#E5ECF6",
           "radialaxis": {
            "gridcolor": "white",
            "linecolor": "white",
            "ticks": ""
           }
          },
          "scene": {
           "xaxis": {
            "backgroundcolor": "#E5ECF6",
            "gridcolor": "white",
            "gridwidth": 2,
            "linecolor": "white",
            "showbackground": true,
            "ticks": "",
            "zerolinecolor": "white"
           },
           "yaxis": {
            "backgroundcolor": "#E5ECF6",
            "gridcolor": "white",
            "gridwidth": 2,
            "linecolor": "white",
            "showbackground": true,
            "ticks": "",
            "zerolinecolor": "white"
           },
           "zaxis": {
            "backgroundcolor": "#E5ECF6",
            "gridcolor": "white",
            "gridwidth": 2,
            "linecolor": "white",
            "showbackground": true,
            "ticks": "",
            "zerolinecolor": "white"
           }
          },
          "shapedefaults": {
           "line": {
            "color": "#2a3f5f"
           }
          },
          "ternary": {
           "aaxis": {
            "gridcolor": "white",
            "linecolor": "white",
            "ticks": ""
           },
           "baxis": {
            "gridcolor": "white",
            "linecolor": "white",
            "ticks": ""
           },
           "bgcolor": "#E5ECF6",
           "caxis": {
            "gridcolor": "white",
            "linecolor": "white",
            "ticks": ""
           }
          },
          "title": {
           "x": 0.05
          },
          "xaxis": {
           "automargin": true,
           "gridcolor": "white",
           "linecolor": "white",
           "ticks": "",
           "title": {
            "standoff": 15
           },
           "zerolinecolor": "white",
           "zerolinewidth": 2
          },
          "yaxis": {
           "automargin": true,
           "gridcolor": "white",
           "linecolor": "white",
           "ticks": "",
           "title": {
            "standoff": 15
           },
           "zerolinecolor": "white",
           "zerolinewidth": 2
          }
         }
        },
        "title": {
         "text": "Confusion Matrix Goals"
        },
        "xaxis": {
         "title": {
          "text": "Predicted Event"
         }
        },
        "yaxis": {
         "title": {
          "text": "True Event"
         }
        }
       }
      }
     },
     "metadata": {},
     "output_type": "display_data"
    }
   ],
   "source": [
    "# Evaluate the model using a confusion matrix\n",
    "y_home_pred_rounded = y_home_pred.round()\n",
    "y_away_pred_rounded = y_away_pred.round()\n",
    "\n",
    "# calculate the confusion matrix\n",
    "cm_home = confusion_matrix(y_test_home, y_home_pred_rounded)\n",
    "cm_away = confusion_matrix(y_test_away, y_away_pred_rounded)\n",
    "\n",
    "gen_cm_plotly(cm_home)\n",
    "gen_cm_plotly(cm_away)\n"
   ]
  },
  {
   "cell_type": "code",
   "execution_count": 305,
   "metadata": {},
   "outputs": [
    {
     "data": {
      "text/plain": [
       "array([11], dtype=int8)"
      ]
     },
     "execution_count": 305,
     "metadata": {},
     "output_type": "execute_result"
    }
   ],
   "source": [
    "# Reverse the encoding for home_team_code\n",
    "home_team_categories = df['home_team'].cat.categories\n",
    "df['home_team_decoded'] = home_team_categories[df['home_team_code']]\n",
    "\n",
    "# Reverse the encoding for away_team_code\n",
    "away_team_categories = df['away_team'].cat.categories\n",
    "df['away_team_decoded'] = away_team_categories[df['away_team_code']]\n",
    "\n",
    "df[df['season_code'] > 10]['season_code'].unique()  #the new season code is this result +1"
   ]
  },
  {
   "cell_type": "code",
   "execution_count": 306,
   "metadata": {},
   "outputs": [
    {
     "data": {
      "text/plain": [
       "('Arsenal', 2.0, 'x', 0.0, 'Manchester United')"
      ]
     },
     "execution_count": 306,
     "metadata": {},
     "output_type": "execute_result"
    }
   ],
   "source": [
    "# Create a new data point for the game between Arsenal and Manchester United\n",
    "new_predict_team_home_code = 1\n",
    "new_predict_team_away_code = 21\n",
    "new_game = pd.DataFrame({'home_team_code': new_predict_team_home_code,\n",
    "                         'away_team_code': new_predict_team_away_code,\n",
    "                         'season_code': 12,\n",
    "                         'result_code': [2]\n",
    "                         }, index=[0])\n",
    "\n",
    "# Use the trained models to predict the number of goals scored by each team\n",
    "new_predict_home = rf_home.predict(new_game)\n",
    "new_predict_away = rf_away.predict(new_game)\n",
    "df[df['home_team_code'] == new_predict_team_home_code]['home_team'].values[0], new_predict_home.round()[0], \\\n",
    "     'x', new_predict_away.round()[0], df[df['away_team_code'] == new_predict_team_away_code]['away_team'].values[0]"
   ]
  },
  {
   "attachments": {},
   "cell_type": "markdown",
   "metadata": {},
   "source": [
    "![](../imgs/ArsenalxManutd.JPG)\n",
    "\n",
    "It worked! The prediction hit the game score in the future.\n",
    "\n",
    "This match happened after the season of the dataset"
   ]
  },
  {
   "cell_type": "code",
   "execution_count": 307,
   "metadata": {},
   "outputs": [
    {
     "data": {
      "text/plain": [
       "('Liverpool', 1.0, 'x', 1.0, 'Leicester City')"
      ]
     },
     "execution_count": 307,
     "metadata": {},
     "output_type": "execute_result"
    }
   ],
   "source": [
    "# Create a new data point for the game between Manchester United and Arsenal\n",
    "new_predict_team_home_code = 19\n",
    "new_predict_team_away_code = 18\n",
    "new_game = pd.DataFrame({'home_team_code': new_predict_team_home_code,\n",
    "                         'away_team_code': new_predict_team_away_code,\n",
    "                         'season_code': 12,\n",
    "                         'result_code': [1]\n",
    "                         }, index=[0])\n",
    "\n",
    "# Use the trained models to predict the number of goals scored by each team\n",
    "new_predict_home = rf_home.predict(new_game)\n",
    "new_predict_away = rf_away.predict(new_game)\n",
    "df[df['home_team_code'] == new_predict_team_home_code]['home_team'].values[0], new_predict_home.round()[0], \\\n",
    "     'x', new_predict_away.round()[0], df[df['away_team_code'] == new_predict_team_away_code]['away_team'].values[0]"
   ]
  },
  {
   "attachments": {},
   "cell_type": "markdown",
   "metadata": {},
   "source": [
    "![](../imgs/LiverpoolxLeicester.JPG)\n",
    "\n",
    "It worked! The prediction hit the game score in the future.\n",
    "\n",
    "This match happened after the season of the dataset"
   ]
  },
  {
   "cell_type": "code",
   "execution_count": 308,
   "metadata": {},
   "outputs": [
    {
     "data": {
      "text/plain": [
       "('Liverpool', 2.0, 'x', 0.0, 'Chelsea')"
      ]
     },
     "execution_count": 308,
     "metadata": {},
     "output_type": "execute_result"
    }
   ],
   "source": [
    "# Create a new data point for the game between Manchester United and Arsenal\n",
    "new_predict_team_home_code = 19\n",
    "new_predict_team_away_code = 11\n",
    "new_game = pd.DataFrame({'home_team_code': new_predict_team_home_code,\n",
    "                         'away_team_code': new_predict_team_away_code,\n",
    "                         'season_code': 12,\n",
    "                         'result_code': [2]\n",
    "                         }, index=[0])\n",
    "\n",
    "# Use the trained models to predict the number of goals scored by each team\n",
    "new_predict_home = rf_home.predict(new_game)\n",
    "new_predict_away = rf_away.predict(new_game)\n",
    "df[df['home_team_code'] == new_predict_team_home_code]['home_team'].values[0], new_predict_home.round()[0], \\\n",
    "     'x', new_predict_away.round()[0], df[df['away_team_code'] == new_predict_team_away_code]['away_team'].values[0]"
   ]
  },
  {
   "attachments": {},
   "cell_type": "markdown",
   "metadata": {},
   "source": [
    "![](../imgs/LiverpoolxChelsea.JPG)\n",
    "\n",
    "It worked! The prediction hit the game score in the future.\n",
    "\n",
    "This match happened after the season of the dataset"
   ]
  }
 ],
 "metadata": {
  "kernelspec": {
   "display_name": "base",
   "language": "python",
   "name": "python3"
  },
  "language_info": {
   "codemirror_mode": {
    "name": "ipython",
    "version": 3
   },
   "file_extension": ".py",
   "mimetype": "text/x-python",
   "name": "python",
   "nbconvert_exporter": "python",
   "pygments_lexer": "ipython3",
   "version": "3.9.16"
  },
  "orig_nbformat": 4
 },
 "nbformat": 4,
 "nbformat_minor": 2
}
